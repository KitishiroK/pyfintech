{
 "cells": [
  {
   "cell_type": "code",
   "execution_count": 2,
   "metadata": {
    "collapsed": false
   },
   "outputs": [],
   "source": [
    "import requests # 引用套件\n",
    "res = requests.get('https://www.ptt.cc/bbs/creditcard/index.html') # 使用get 存取\n",
    "#print(res.text)"
   ]
  },
  {
   "cell_type": "code",
   "execution_count": 13,
   "metadata": {
    "collapsed": false
   },
   "outputs": [
    {
     "name": "stdout",
     "output_type": "stream",
     "text": [
      "\n",
      "[問題] 網購玉山信用卡複數活動可合計嗎？\n",
      "\n",
      "GP01Fb\n",
      " 7/22\n",
      "4\n",
      "\n",
      "[心得] 元大鑽金J&V&M/愛金V&M/台新@gogo/中信調額 成功\n",
      "\n",
      "mltw\n",
      " 7/22\n",
      "4\n",
      "\n",
      "[情報] 台新最近優惠(加油、玫瑰、周末刷卡)\n",
      "\n",
      "conk\n",
      " 7/22\n",
      "9\n",
      "\n",
      "[閒聊] 玉山與中信的嘟嘟房停車比較\n",
      "\n",
      "bkidd\n",
      " 7/22\n",
      "18\n",
      "\n",
      "Re: [閒聊] 玉山與中信的嘟嘟房停車比較\n",
      "\n",
      "lakigo\n",
      " 7/22\n",
      "5\n",
      "\n",
      "[心得] 花旗超級紅利-核卡\n",
      "\n",
      "faekyle\n",
      " 7/22\n",
      "6\n",
      "\n",
      "\t\t\t\n",
      "\t\t\t\t(本文已被刪除) [SkyRS]\n",
      "\t\t\t\n",
      "\t\t\t\n",
      "-\n",
      " 7/22\n",
      "1\n",
      "\n",
      "[心得] 中信漢神白金 秒速核卡\n",
      "\n",
      "ga665420\n",
      " 7/22\n",
      "\n",
      "\n",
      "\t\t\t\n",
      "\t\t\t\t(本文已被刪除) [maypcc]\n",
      "\t\t\t\n",
      "\t\t\t\n",
      "-\n",
      " 7/22\n",
      "2\n",
      "\n",
      "[問題]富邦數位生活卡疑似被盜刷\n",
      "\n",
      "crazyman1109\n",
      " 7/22\n",
      "3\n",
      "\n",
      "[心得] 富邦數位火速核卡\n",
      "\n",
      "jpl227\n",
      " 7/22\n",
      "\n",
      "\n",
      "[問題]小白請問繳電信費用最划算信用卡\n",
      "\n",
      "plokiju0712\n",
      " 7/22\n",
      "1\n",
      "\n",
      "[問題] 兆豐2人看電影1人兆豐請 in89線上儲值\n",
      "\n",
      "SLII\n",
      " 7/22\n",
      "3\n",
      "\n",
      "[問題] 貢獻度一問\n",
      "\n",
      "jhce\n",
      " 7/23\n",
      "2\n",
      "\n",
      "Re: [情報] 中信直接付 新綁定優惠滿額再送中熱拿\n",
      "\n",
      "Happybuddha\n",
      " 7/23\n",
      "\n",
      "\n",
      "[問題] 花旗戀家族  台電代繳\n",
      "\n",
      "faekyle\n",
      " 7/23\n",
      "11\n",
      "\n",
      "[問題] 這樣的聯徵數要多久後才能再辦卡？\n",
      "\n",
      "s1385999\n",
      " 7/23\n",
      "5\n",
      "\n",
      "[建議] 學生 小白 無學貸\n",
      "\n",
      "sky30918\n",
      " 7/23\n",
      "3\n",
      "\n",
      "[問題] 華南或兆豐的信用卡已ACH...\n",
      "\n",
      "p007\n",
      " 7/23\n",
      "1\n",
      "\n",
      "=== 卡板板規 V5.0 === (修訂日期：2012/10/02)\n",
      "\n",
      "Heumay\n",
      "10/02\n",
      "\n",
      "\n",
      "[公告] 置底檢舉專區\n",
      "\n",
      "bboy0720\n",
      " 3/05\n",
      "爆\n",
      "\n",
      "[情報] 各家銀行0800免付費電話\n",
      "\n",
      "MoonAthenaX\n",
      " 3/09\n",
      "32\n",
      "\n",
      "Fw: [申請] creditcard調整發文權限\n",
      "\n",
      "MoonAthenaX\n",
      " 7/08\n",
      "6\n"
     ]
    }
   ],
   "source": [
    "from bs4 import BeautifulSoup\n",
    "soup = BeautifulSoup(res.text)\n",
    "for ent in soup.select('.r-ent'):\n",
    "    #print(ent)\n",
    "    print(ent.select('.title')[0].text)\n",
    "    print(ent.select('.author')[0].text)\n",
    "    print(ent.select('.date')[0].text)\n",
    "    print(ent.select('.nrec')[0].text)"
   ]
  },
  {
   "cell_type": "code",
   "execution_count": 19,
   "metadata": {
    "collapsed": false
   },
   "outputs": [
    {
     "name": "stdout",
     "output_type": "stream",
     "text": [
      "[問題] 網購玉山信用卡複數活動可合計嗎？ GP01Fb  7/22 4\n",
      "[心得] 元大鑽金J&V&M/愛金V&M/台新@gogo/中信調額 成功 mltw  7/22 4\n",
      "[情報] 台新最近優惠(加油、玫瑰、周末刷卡) conk  7/22 9\n",
      "[閒聊] 玉山與中信的嘟嘟房停車比較 bkidd  7/22 18\n",
      "Re: [閒聊] 玉山與中信的嘟嘟房停車比較 lakigo  7/22 5\n",
      "[心得] 花旗超級紅利-核卡 faekyle  7/22 6\n",
      "(本文已被刪除) [SkyRS] -  7/22 1\n",
      "[心得] 中信漢神白金 秒速核卡 ga665420  7/22 \n",
      "(本文已被刪除) [maypcc] -  7/22 2\n",
      "[問題]富邦數位生活卡疑似被盜刷 crazyman1109  7/22 3\n",
      "[心得] 富邦數位火速核卡 jpl227  7/22 \n",
      "[問題]小白請問繳電信費用最划算信用卡 plokiju0712  7/22 1\n",
      "[問題] 兆豐2人看電影1人兆豐請 in89線上儲值 SLII  7/22 3\n",
      "[問題] 貢獻度一問 jhce  7/23 2\n",
      "Re: [情報] 中信直接付 新綁定優惠滿額再送中熱拿 Happybuddha  7/23 \n",
      "[問題] 花旗戀家族  台電代繳 faekyle  7/23 11\n",
      "[問題] 這樣的聯徵數要多久後才能再辦卡？ s1385999  7/23 5\n",
      "[建議] 學生 小白 無學貸 sky30918  7/23 3\n",
      "[問題] 華南或兆豐的信用卡已ACH... p007  7/23 1\n",
      "=== 卡板板規 V5.0 === (修訂日期：2012/10/02) Heumay 10/02 \n",
      "[公告] 置底檢舉專區 bboy0720  3/05 爆\n",
      "[情報] 各家銀行0800免付費電話 MoonAthenaX  3/09 32\n",
      "Fw: [申請] creditcard調整發文權限 MoonAthenaX  7/08 6\n"
     ]
    }
   ],
   "source": [
    "from bs4 import BeautifulSoup\n",
    "soup = BeautifulSoup(res.text)\n",
    "for ent in soup.select('.r-ent'):\n",
    "    #print(ent)\n",
    "    title = ent.select('.title')[0].text.strip()\n",
    "    author = ent.select('.author')[0].text\n",
    "    date = ent.select('.date')[0].text\n",
    "    nrec = ent.select('.nrec')[0].text\n",
    "    print title, author, date, nrec"
   ]
  },
  {
   "cell_type": "markdown",
   "metadata": {},
   "source": [
    "## Strip"
   ]
  },
  {
   "cell_type": "code",
   "execution_count": 16,
   "metadata": {
    "collapsed": false
   },
   "outputs": [
    {
     "name": "stdout",
     "output_type": "stream",
     "text": [
      "this is a line \n",
      " with newline\n",
      " \n"
     ]
    }
   ],
   "source": [
    "s = 'this is a line \\n with newline\\n '\n",
    "print s"
   ]
  },
  {
   "cell_type": "code",
   "execution_count": 18,
   "metadata": {
    "collapsed": false
   },
   "outputs": [
    {
     "name": "stdout",
     "output_type": "stream",
     "text": [
      " \t string test \t \n",
      "\n",
      "\r",
      " \t string test \t \n",
      "\n",
      "\r\n",
      "string test \t \n",
      "\n",
      "\r",
      " \t string test\n",
      " \t string test \t \n",
      "\n",
      "\r",
      " \t string test\n",
      "string test \t \n",
      "\n",
      "\r",
      " \t string test \t \n",
      "\n",
      "\r\n"
     ]
    }
   ],
   "source": [
    "s = \" \\t string test \\t \\n\\n\\r\" ' \\t string test \\t \\n\\n\\r' \n",
    "print s\n",
    "print s.strip() # remove space, \\t, \\n \\r from both side\n",
    "print s.rstrip() # remove space, \\t, \\n \\r from right side\n",
    "print s.lstrip() # remove space, \\t, \\n \\r from left side"
   ]
  },
  {
   "cell_type": "markdown",
   "metadata": {},
   "source": [
    "## For Loop"
   ]
  },
  {
   "cell_type": "code",
   "execution_count": 3,
   "metadata": {
    "collapsed": false
   },
   "outputs": [
    {
     "name": "stdout",
     "output_type": "stream",
     "text": [
      "2\n",
      "4\n",
      "6\n",
      "8\n",
      "10\n"
     ]
    }
   ],
   "source": [
    "a = [1,2,3,4,5]\n",
    "for qoo in a: # : is to tell it starts a for loop\n",
    "    print(qoo*2) # use indent to tell this code is belong to for loop"
   ]
  }
 ],
 "metadata": {
  "kernelspec": {
   "display_name": "Python [Root]",
   "language": "python",
   "name": "Python [Root]"
  },
  "language_info": {
   "codemirror_mode": {
    "name": "ipython",
    "version": 2
   },
   "file_extension": ".py",
   "mimetype": "text/x-python",
   "name": "python",
   "nbconvert_exporter": "python",
   "pygments_lexer": "ipython2",
   "version": "2.7.12"
  }
 },
 "nbformat": 4,
 "nbformat_minor": 0
}
