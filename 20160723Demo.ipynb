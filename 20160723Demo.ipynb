{
 "cells": [
  {
   "cell_type": "code",
   "execution_count": 2,
   "metadata": {
    "collapsed": false
   },
   "outputs": [],
   "source": [
    "import requests # 引用套件\n",
    "res = requests.get('https://www.ptt.cc/bbs/creditcard/index.html') # 使用get 存取\n",
    "#print(res.text)"
   ]
  },
  {
   "cell_type": "code",
   "execution_count": 13,
   "metadata": {
    "collapsed": false
   },
   "outputs": [
    {
     "name": "stdout",
     "output_type": "stream",
     "text": [
      "\n",
      "[問題] 網購玉山信用卡複數活動可合計嗎？\n",
      "\n",
      "GP01Fb\n",
      " 7/22\n",
      "4\n",
      "\n",
      "[心得] 元大鑽金J&V&M/愛金V&M/台新@gogo/中信調額 成功\n",
      "\n",
      "mltw\n",
      " 7/22\n",
      "4\n",
      "\n",
      "[情報] 台新最近優惠(加油、玫瑰、周末刷卡)\n",
      "\n",
      "conk\n",
      " 7/22\n",
      "9\n",
      "\n",
      "[閒聊] 玉山與中信的嘟嘟房停車比較\n",
      "\n",
      "bkidd\n",
      " 7/22\n",
      "18\n",
      "\n",
      "Re: [閒聊] 玉山與中信的嘟嘟房停車比較\n",
      "\n",
      "lakigo\n",
      " 7/22\n",
      "5\n",
      "\n",
      "[心得] 花旗超級紅利-核卡\n",
      "\n",
      "faekyle\n",
      " 7/22\n",
      "6\n",
      "\n",
      "\t\t\t\n",
      "\t\t\t\t(本文已被刪除) [SkyRS]\n",
      "\t\t\t\n",
      "\t\t\t\n",
      "-\n",
      " 7/22\n",
      "1\n",
      "\n",
      "[心得] 中信漢神白金 秒速核卡\n",
      "\n",
      "ga665420\n",
      " 7/22\n",
      "\n",
      "\n",
      "\t\t\t\n",
      "\t\t\t\t(本文已被刪除) [maypcc]\n",
      "\t\t\t\n",
      "\t\t\t\n",
      "-\n",
      " 7/22\n",
      "2\n",
      "\n",
      "[問題]富邦數位生活卡疑似被盜刷\n",
      "\n",
      "crazyman1109\n",
      " 7/22\n",
      "3\n",
      "\n",
      "[心得] 富邦數位火速核卡\n",
      "\n",
      "jpl227\n",
      " 7/22\n",
      "\n",
      "\n",
      "[問題]小白請問繳電信費用最划算信用卡\n",
      "\n",
      "plokiju0712\n",
      " 7/22\n",
      "1\n",
      "\n",
      "[問題] 兆豐2人看電影1人兆豐請 in89線上儲值\n",
      "\n",
      "SLII\n",
      " 7/22\n",
      "3\n",
      "\n",
      "[問題] 貢獻度一問\n",
      "\n",
      "jhce\n",
      " 7/23\n",
      "2\n",
      "\n",
      "Re: [情報] 中信直接付 新綁定優惠滿額再送中熱拿\n",
      "\n",
      "Happybuddha\n",
      " 7/23\n",
      "\n",
      "\n",
      "[問題] 花旗戀家族  台電代繳\n",
      "\n",
      "faekyle\n",
      " 7/23\n",
      "11\n",
      "\n",
      "[問題] 這樣的聯徵數要多久後才能再辦卡？\n",
      "\n",
      "s1385999\n",
      " 7/23\n",
      "5\n",
      "\n",
      "[建議] 學生 小白 無學貸\n",
      "\n",
      "sky30918\n",
      " 7/23\n",
      "3\n",
      "\n",
      "[問題] 華南或兆豐的信用卡已ACH...\n",
      "\n",
      "p007\n",
      " 7/23\n",
      "1\n",
      "\n",
      "=== 卡板板規 V5.0 === (修訂日期：2012/10/02)\n",
      "\n",
      "Heumay\n",
      "10/02\n",
      "\n",
      "\n",
      "[公告] 置底檢舉專區\n",
      "\n",
      "bboy0720\n",
      " 3/05\n",
      "爆\n",
      "\n",
      "[情報] 各家銀行0800免付費電話\n",
      "\n",
      "MoonAthenaX\n",
      " 3/09\n",
      "32\n",
      "\n",
      "Fw: [申請] creditcard調整發文權限\n",
      "\n",
      "MoonAthenaX\n",
      " 7/08\n",
      "6\n"
     ]
    }
   ],
   "source": [
    "from bs4 import BeautifulSoup\n",
    "soup = BeautifulSoup(res.text)\n",
    "for ent in soup.select('.r-ent'):\n",
    "    #print(ent)\n",
    "    print(ent.select('.title')[0].text)\n",
    "    print(ent.select('.author')[0].text)\n",
    "    print(ent.select('.date')[0].text)\n",
    "    print(ent.select('.nrec')[0].text)"
   ]
  },
  {
   "cell_type": "code",
   "execution_count": 27,
   "metadata": {
    "collapsed": false
   },
   "outputs": [
    {
     "name": "stdout",
     "output_type": "stream",
     "text": [
      "[問題] 網購玉山信用卡複數活動可合計嗎？ GP01Fb  7/22 4\n",
      "[心得] 元大鑽金J&V&M/愛金V&M/台新@gogo/中信調額 成功 mltw  7/22 4\n",
      "[情報] 台新最近優惠(加油、玫瑰、周末刷卡) conk  7/22 9\n",
      "[閒聊] 玉山與中信的嘟嘟房停車比較 bkidd  7/22 18\n",
      "Re: [閒聊] 玉山與中信的嘟嘟房停車比較 lakigo  7/22 5\n",
      "[心得] 花旗超級紅利-核卡 faekyle  7/22 6\n",
      "(本文已被刪除) [SkyRS] -  7/22 1\n",
      "[心得] 中信漢神白金 秒速核卡 ga665420  7/22 \n",
      "(本文已被刪除) [maypcc] -  7/22 2\n",
      "[問題]富邦數位生活卡疑似被盜刷 crazyman1109  7/22 3\n",
      "[心得] 富邦數位火速核卡 jpl227  7/22 \n",
      "[問題]小白請問繳電信費用最划算信用卡 plokiju0712  7/22 1\n",
      "[問題] 兆豐2人看電影1人兆豐請 in89線上儲值 SLII  7/22 3\n",
      "[問題] 貢獻度一問 jhce  7/23 2\n",
      "Re: [情報] 中信直接付 新綁定優惠滿額再送中熱拿 Happybuddha  7/23 \n",
      "[問題] 花旗戀家族  台電代繳 faekyle  7/23 11\n",
      "[問題] 這樣的聯徵數要多久後才能再辦卡？ s1385999  7/23 5\n",
      "[建議] 學生 小白 無學貸 sky30918  7/23 3\n",
      "[問題] 華南或兆豐的信用卡已ACH... p007  7/23 1\n",
      "=== 卡板板規 V5.0 === (修訂日期：2012/10/02) Heumay 10/02 \n",
      "[公告] 置底檢舉專區 bboy0720  3/05 爆\n",
      "[情報] 各家銀行0800免付費電話 MoonAthenaX  3/09 32\n",
      "Fw: [申請] creditcard調整發文權限 MoonAthenaX  7/08 6\n"
     ]
    }
   ],
   "source": [
    "from bs4 import BeautifulSoup\n",
    "soup = BeautifulSoup(res.text)\n",
    "for ent in soup.select('.r-ent'):\n",
    "    #print(ent)\n",
    "    title = ent.select('.title')[0].text.strip()\n",
    "    author = ent.select('.author')[0].text\n",
    "    date = ent.select('.date')[0].text\n",
    "    nrec = ent.select('.nrec')[0].text\n",
    "    print title, author, date, nrec"
   ]
  },
  {
   "cell_type": "markdown",
   "metadata": {},
   "source": [
    "## Strip"
   ]
  },
  {
   "cell_type": "code",
   "execution_count": 16,
   "metadata": {
    "collapsed": false
   },
   "outputs": [
    {
     "name": "stdout",
     "output_type": "stream",
     "text": [
      "this is a line \n",
      " with newline\n",
      " \n"
     ]
    }
   ],
   "source": [
    "s = 'this is a line \\n with newline\\n '\n",
    "print s"
   ]
  },
  {
   "cell_type": "code",
   "execution_count": 18,
   "metadata": {
    "collapsed": false
   },
   "outputs": [
    {
     "name": "stdout",
     "output_type": "stream",
     "text": [
      " \t string test \t \n",
      "\n",
      "\r",
      " \t string test \t \n",
      "\n",
      "\r\n",
      "string test \t \n",
      "\n",
      "\r",
      " \t string test\n",
      " \t string test \t \n",
      "\n",
      "\r",
      " \t string test\n",
      "string test \t \n",
      "\n",
      "\r",
      " \t string test \t \n",
      "\n",
      "\r\n"
     ]
    }
   ],
   "source": [
    "s = \" \\t string test \\t \\n\\n\\r\" ' \\t string test \\t \\n\\n\\r' \n",
    "print s\n",
    "print s.strip() # remove space, \\t, \\n \\r from both side\n",
    "print s.rstrip() # remove space, \\t, \\n \\r from right side\n",
    "print s.lstrip() # remove space, \\t, \\n \\r from left side"
   ]
  },
  {
   "cell_type": "markdown",
   "metadata": {},
   "source": [
    "## For Loop"
   ]
  },
  {
   "cell_type": "code",
   "execution_count": 3,
   "metadata": {
    "collapsed": false
   },
   "outputs": [
    {
     "name": "stdout",
     "output_type": "stream",
     "text": [
      "2\n",
      "4\n",
      "6\n",
      "8\n",
      "10\n"
     ]
    }
   ],
   "source": [
    "a = [1,2,3,4,5]\n",
    "for qoo in a: # : is to tell it starts a for loop\n",
    "    print(qoo*2) # use indent to tell this code is belong to for loop"
   ]
  },
  {
   "cell_type": "markdown",
   "metadata": {},
   "source": [
    "## BeautifulSoup 範例"
   ]
  },
  {
   "cell_type": "code",
   "execution_count": 20,
   "metadata": {
    "collapsed": false
   },
   "outputs": [
    {
     "name": "stdout",
     "output_type": "stream",
     "text": [
      "  Hello World This is link1 This is link2  \n"
     ]
    }
   ],
   "source": [
    "from bs4 import BeautifulSoup \n",
    "html_sample = ' \\\n",
    "<html> \\\n",
    " <body> \\\n",
    " <h1 id=\"title\">Hello World</h1> \\\n",
    " <a href=\"#\" class=\"link\">This is link1</a> \\\n",
    " <a href=\"# link2\" class=\"link\">This is link2</a> \\\n",
    " </body> \\\n",
    " </html>'\n",
    "\n",
    "soup = BeautifulSoup(html_sample)\n",
    "print soup.text\n"
   ]
  },
  {
   "cell_type": "code",
   "execution_count": 24,
   "metadata": {
    "collapsed": false
   },
   "outputs": [
    {
     "name": "stdout",
     "output_type": "stream",
     "text": [
      "<h1 id=\"title\">Hello World</h1>\n"
     ]
    }
   ],
   "source": [
    "print soup.select('h1')[0]"
   ]
  },
  {
   "cell_type": "code",
   "execution_count": 25,
   "metadata": {
    "collapsed": false
   },
   "outputs": [
    {
     "name": "stdout",
     "output_type": "stream",
     "text": [
      "<a class=\"link\" href=\"#\">This is link1</a>\n",
      "<a class=\"link\" href=\"# link2\">This is link2</a>\n"
     ]
    }
   ],
   "source": [
    "print soup.select('a')[0]\n",
    "print soup.select('a')[1]"
   ]
  },
  {
   "cell_type": "markdown",
   "metadata": {},
   "source": [
    "## 清理資料"
   ]
  },
  {
   "cell_type": "code",
   "execution_count": 36,
   "metadata": {
    "collapsed": false
   },
   "outputs": [
    {
     "name": "stdout",
     "output_type": "stream",
     "text": [
      "https://www.ptt.cc/bbs/creditcard/M.1469168547.A.238.html\n",
      "https://www.ptt.cc/bbs/creditcard/M.1469169713.A.695.html\n",
      "https://www.ptt.cc/bbs/creditcard/M.1469177947.A.4C9.html\n",
      "https://www.ptt.cc/bbs/creditcard/M.1469180146.A.1D0.html\n",
      "https://www.ptt.cc/bbs/creditcard/M.1469187597.A.5C1.html\n",
      "https://www.ptt.cc/bbs/creditcard/M.1469190142.A.72A.html\n",
      "https://www.ptt.cc/bbs/creditcard/M.1469194941.A.662.html\n",
      "https://www.ptt.cc/bbs/creditcard/M.1469198026.A.433.html\n",
      "https://www.ptt.cc/bbs/creditcard/M.1469200840.A.FF1.html\n",
      "https://www.ptt.cc/bbs/creditcard/M.1469201260.A.CF7.html\n",
      "https://www.ptt.cc/bbs/creditcard/M.1469201522.A.B02.html\n",
      "https://www.ptt.cc/bbs/creditcard/M.1469206113.A.6D1.html\n",
      "https://www.ptt.cc/bbs/creditcard/M.1469206545.A.8FD.html\n",
      "https://www.ptt.cc/bbs/creditcard/M.1469207083.A.856.html\n",
      "https://www.ptt.cc/bbs/creditcard/M.1469211729.A.6B5.html\n",
      "https://www.ptt.cc/bbs/creditcard/M.1469216666.A.587.html\n",
      "https://www.ptt.cc/bbs/creditcard/M.1469217485.A.69D.html\n",
      "https://www.ptt.cc/bbs/creditcard/M.1469242361.A.BEB.html\n",
      "https://www.ptt.cc/bbs/creditcard/M.1349168810.A.0FE.html\n",
      "https://www.ptt.cc/bbs/creditcard/M.1425488177.A.59D.html\n",
      "https://www.ptt.cc/bbs/creditcard/M.1425873650.A.F81.html\n",
      "https://www.ptt.cc/bbs/creditcard/M.1467964769.A.FC6.html\n"
     ]
    }
   ],
   "source": [
    "#抓取文章列表原始碼\n",
    "import requests\n",
    "from bs4 import BeautifulSoup\n",
    "section = requests.get('https://www.ptt.cc/bbs/creditcard/index.html')\n",
    "\n",
    "#將資料讀取至BeautifulSoup\n",
    "soup = BeautifulSoup(section.text)\n",
    "\n",
    "domain = 'https://www.ptt.cc'\n",
    "\n",
    "#分別抓取各標籤元素\n",
    "for ent in soup.select('.r-ent'): \n",
    "    if len(ent.select('a')) > 0:\n",
    "        print domain + ent.select('a')[0]['href']\n",
    "    "
   ]
  },
  {
   "cell_type": "markdown",
   "metadata": {},
   "source": [
    "## 抓取內文"
   ]
  },
  {
   "cell_type": "code",
   "execution_count": 47,
   "metadata": {
    "collapsed": false
   },
   "outputs": [
    {
     "name": "stdout",
     "output_type": "stream",
     "text": [
      "\n",
      "\n",
      "因為本身有嘟嘟房停車需求，且常常進進出出停很多次，所以以前是用玉山醫師正附卡\n",
      "\n",
      "只要前期有新增一般消費後，下期即可抵市區嘟嘟房停車3小時，每天正附卡都可各用一次\n",
      "\n",
      "\n",
      "但是自 6月1日玉山公告更改規定後，一直積極尋找替代方案。\n",
      "\n",
      "目前我得到的結論如下：\n",
      "\n",
      "1、台新賓士御璽卡最划算(一樣新增一般消費即可抵3小時)--又不用年費，\n",
      "\n",
      "   但前提要有賓士車…\n",
      "\n",
      "2、新光無限卡(前兩期滿1萬可抵3小時)\n",
      "\n",
      "3、玉山醫師卡與世界卡(前期滿5000可抵3小時)\n",
      "\n",
      "4、中國信託鼎極卡、最划算就紙風車與學學卡(前期滿5000可抵3小時)\n",
      "\n",
      "\n",
      "\n",
      "經詢問玉山銀的客服後表示：玉山也是歸戶出帳單，只要歸戶帳單滿5000元即可使用\n",
      "\n",
      "所以你不管您有幾張玉山卡，只要帳單滿5000元，即可使用，但同時擁有世界卡與醫\n",
      "\n",
      "師卡，或是有正附卡，則只能擇其中一張每天使用一次。\n",
      "\n",
      "(也就是兩張卡一天只能用一次嘟嘟房)。我有再三確認客服，與世界卡說明書不同\n",
      "\n",
      "但客服也很肯定回答我，他們是歸戶可使用沒錯！\n",
      "\n",
      "\n",
      "\n",
      "同樣這條件，如果中國信託同時擁有兩張鼎極卡(學學與紙風車)。一樣帳單歸戶滿5000元\n",
      "\n",
      "也是歸戶後，所有鼎極卡可擇一使用。\n",
      "\n",
      "所以，兩家銀行都算歸戶，都只能擇一張鼎極卡或世界卡(醫師卡)使用\n",
      "\n",
      "價值相等！\n",
      "--\n",
      "\n"
     ]
    }
   ],
   "source": [
    "import requests\n",
    "res = requests.get('https://www.ptt.cc/bbs/creditcard/M.1469180146.A.1D0.html')\n",
    "#print res.text\n",
    "\n",
    "from bs4 import BeautifulSoup \n",
    "soup = BeautifulSoup(res.text)\n",
    "print soup.select('#main-content')[0].contents[4] # id => #"
   ]
  },
  {
   "cell_type": "code",
   "execution_count": 75,
   "metadata": {
    "collapsed": false
   },
   "outputs": [
    {
     "name": "stdout",
     "output_type": "stream",
     "text": [
      "今早我想說要持台新卡去全家刷燃料費， 想說先撥客服詢問有限定哪張卡別嗎?? 客服回覆我不限卡服，但問我有需要登錄嗎?? 我說不用，可我心裡想說我不是很早登錄嗎?? 我就去網路上找下登錄網頁， 突然發現幾個優惠的事項， 且發現新增2016/7~8全家便利商店【週末刷台新】 我記得7/1沒有這個，原以為是登錄VISA卡刷500贈送50元刷卡金 還好有事前有找登錄。 若你之前只有登錄VISA卡，沒有登錄週末刷台新，記得要補登錄喔!! 新增部份： 中油刷玫瑰/太陽卡享0.5%現金回饋 2016/07/15~2016/10/15 2016/07/20~2016/10/20 2016/7/15-10/15於中油直營加油站刷玫瑰/太陽卡，單筆滿NT500元(含)以上， 登錄後加油消費額外享0.5%刷卡金回饋。 *正附卡合作計算，每戶活動期間回饋上限NT300元刷卡金。 詳情活動：https://goo.gl/WzG2ZB 可惜不是全國加油站.... 本活動回饋限於台灣中油網站公告之直營站為準 玫瑰卡限定! 83玫瑰女生節，指定通路享17%回饋 2016/08/03~2016/08/03 2016/07/05~2016/08/15 2016/8/3於新光三越、華航、Yahoo奇摩購物中心/超級商城/拍賣、PayEasy、17Life網站 消費刷玫瑰卡滿萬最高一筆享17%現金回饋！ (登錄活動請點我!) 【再加碼】該筆滿3萬元再抽華航台北-紐約豪華經濟艙來回機票1張(共4張) 詳情活動：https://goo.gl/WcGzqz (專屬名單限定) 信用卡額度調升登錄 2016/07/16~2016/07/31 2016/07/16~2016/07/31 (專屬名單限定)【限時好康!刷卡金您獨享】7/22~7/28限定客群加碼 2016/07/22~2016/07/28 2016/07/22~2016/07/28 參考看看 \n"
     ]
    }
   ],
   "source": [
    "\n",
    "import requests\n",
    "res = requests.get('https://www.ptt.cc/bbs/creditcard/M.1469177947.A.4C9.html')\n",
    "#print res.text\n",
    "\n",
    "from bs4 import BeautifulSoup \n",
    "soup = BeautifulSoup(res.text)\n",
    "pttcontents = soup.select('#main-content')[0] # id => #\n",
    "for i in pttcontents.select('.article-metaline'): # remove author, time, title\n",
    "    i.decompose()\n",
    "for i in pttcontents.select('.article-meta-value'):# remove board\n",
    "    i.decompose() \n",
    "for i in pttcontents.select('.article-meta-tag'):# remove board\n",
    "    i.decompose()   \n",
    "for i in pttcontents.select('.push'): # remove push\n",
    "    i.decompose()\n",
    "#print pttcontents.text\n",
    "\n",
    "import re\n",
    "m = re.search('(.*?)--(.*?)', ' '.join(pttcontents.text.split()))\n",
    "print m.group(1)\n"
   ]
  },
  {
   "cell_type": "markdown",
   "metadata": {},
   "source": [
    "## Concatenates String"
   ]
  },
  {
   "cell_type": "code",
   "execution_count": 34,
   "metadata": {
    "collapsed": false
   },
   "outputs": [
    {
     "data": {
      "text/plain": [
       "'helloworld'"
      ]
     },
     "execution_count": 34,
     "metadata": {},
     "output_type": "execute_result"
    }
   ],
   "source": [
    "a = 'hello'\n",
    "b = 'world'\n",
    "a + b"
   ]
  },
  {
   "cell_type": "markdown",
   "metadata": {},
   "source": [
    "## List"
   ]
  },
  {
   "cell_type": "code",
   "execution_count": 49,
   "metadata": {
    "collapsed": false
   },
   "outputs": [
    {
     "name": "stdout",
     "output_type": "stream",
     "text": [
      "5\n",
      "0\n",
      "[3, 4, 5]\n"
     ]
    }
   ],
   "source": [
    "a = [1,2,3,4,5]\n",
    "b = []\n",
    "print len(a)\n",
    "print len(b)\n",
    "\n",
    "print a[2:]"
   ]
  },
  {
   "cell_type": "markdown",
   "metadata": {},
   "source": [
    "## 時間轉換"
   ]
  },
  {
   "cell_type": "code",
   "execution_count": 79,
   "metadata": {
    "collapsed": false
   },
   "outputs": [
    {
     "name": "stdout",
     "output_type": "stream",
     "text": [
      "2016-07-23 11:54:54.774000\n",
      "<type 'datetime.datetime'>\n",
      "2016-07-23\n",
      "<type 'str'>\n"
     ]
    }
   ],
   "source": [
    "#引用套件\n",
    "from datetime import datetime \n",
    "\n",
    "#將時間轉變為字串\n",
    "currenttime = datetime.now()\n",
    "print currenttime\n",
    "print type(currenttime)\n",
    "\n",
    "print currenttime.strftime(\"%Y-%m-%d\")  # strftime => convert from datetime to string\n",
    "print type( currenttime.strftime(\"%Y-%m-%d\"))\n"
   ]
  },
  {
   "cell_type": "code",
   "execution_count": 82,
   "metadata": {
    "collapsed": false
   },
   "outputs": [
    {
     "name": "stdout",
     "output_type": "stream",
     "text": [
      "2016-07-24 11:54:54.774000\n",
      "2016-07-22 11:54:54.774000\n",
      "1 day, 0:00:00\n"
     ]
    }
   ],
   "source": [
    "from datetime import timedelta\n",
    "print currenttime + timedelta(days = 1)\n",
    "print currenttime + timedelta(days = -1)\n",
    "\n",
    "newtime = currenttime + timedelta(days = 1)\n",
    "print newtime - currenttime"
   ]
  },
  {
   "cell_type": "code",
   "execution_count": 83,
   "metadata": {
    "collapsed": false
   },
   "outputs": [
    {
     "ename": "TypeError",
     "evalue": "unsupported operand type(s) for -: 'str' and 'str'",
     "output_type": "error",
     "traceback": [
      "\u001b[1;31m---------------------------------------------------------------------------\u001b[0m",
      "\u001b[1;31mTypeError\u001b[0m                                 Traceback (most recent call last)",
      "\u001b[1;32m<ipython-input-83-9530b2e2513b>\u001b[0m in \u001b[0;36m<module>\u001b[1;34m()\u001b[0m\n\u001b[1;32m----> 1\u001b[1;33m \u001b[1;34m'2016-07-11'\u001b[0m \u001b[1;33m-\u001b[0m \u001b[1;34m'2016-07-02'\u001b[0m\u001b[1;33m\u001b[0m\u001b[0m\n\u001b[0m",
      "\u001b[1;31mTypeError\u001b[0m: unsupported operand type(s) for -: 'str' and 'str'"
     ]
    }
   ],
   "source": [
    "'2016-07-11' - '2016-07-02'"
   ]
  },
  {
   "cell_type": "code",
   "execution_count": 85,
   "metadata": {
    "collapsed": false
   },
   "outputs": [
    {
     "name": "stdout",
     "output_type": "stream",
     "text": [
      "2014-05-03 14:00:00\n"
     ]
    }
   ],
   "source": [
    "#將字串轉變為時間\n",
    "a = '2014-05-03 14:00' \n",
    "print datetime.strptime(a, \"%Y-%m-%d %H:%M\") # convert string to time\n",
    "converted_time =  datetime.strptime(a, \"%Y-%m-%d %H:%M\") "
   ]
  },
  {
   "cell_type": "code",
   "execution_count": 87,
   "metadata": {
    "collapsed": false
   },
   "outputs": [
    {
     "name": "stdout",
     "output_type": "stream",
     "text": [
      "-812 days, 2:05:05.226000\n"
     ]
    }
   ],
   "source": [
    "print converted_time - currenttime"
   ]
  },
  {
   "cell_type": "code",
   "execution_count": 92,
   "metadata": {
    "collapsed": false
   },
   "outputs": [
    {
     "name": "stdout",
     "output_type": "stream",
     "text": [
      "2016-07-22 17:35:43\n"
     ]
    }
   ],
   "source": [
    "import requests\n",
    "res = requests.get('https://www.ptt.cc/bbs/creditcard/M.1469180146.A.1D0.html')\n",
    "#print res.text\n",
    "\n",
    "from bs4 import BeautifulSoup \n",
    "soup = BeautifulSoup(res.text)\n",
    "dt =  soup.select('.article-meta-value')[3].text\n",
    "print datetime.strptime(dt, '%a %b %d %H:%M:%S %Y')"
   ]
  },
  {
   "cell_type": "markdown",
   "metadata": {},
   "source": [
    "## DateTime Mapping Table\n",
    "- https://docs.python.org/2/library/datetime.html"
   ]
  },
  {
   "cell_type": "markdown",
   "metadata": {},
   "source": [
    "## 正規表達式"
   ]
  },
  {
   "cell_type": "code",
   "execution_count": 93,
   "metadata": {
    "collapsed": true
   },
   "outputs": [],
   "source": [
    "s = '待會我要去ｉｋｅａ　買家具，我的電話是0912345678，到的時候聯絡我, 地址是新莊棒球場旁的23號'\n",
    "s1 = '陳董的電話號碼是0912-345-678'\n",
    "s2 = '該分行的專員聯絡號碼是0912-345678，到門口時聯絡他'\n",
    "s3 = '可以用09123748291929391簽這期號碼'"
   ]
  },
  {
   "cell_type": "code",
   "execution_count": 99,
   "metadata": {
    "collapsed": false
   },
   "outputs": [
    {
     "name": "stdout",
     "output_type": "stream",
     "text": [
      "5\n",
      "5\n",
      "5\n"
     ]
    }
   ],
   "source": [
    "s = '我的號碼是5'\n",
    "\n",
    "import re # 使用re 這個套件\n",
    "m = re.search('0', s)\n",
    "#print m.group(0)\n",
    "\n",
    "m = re.search('[0123456789]', s) # match 0 ~ 9 \n",
    "print m.group(0)\n",
    "\n",
    "m = re.search('[0-9]', s) # match 0 ~ 9 \n",
    "print m.group(0)\n",
    "\n",
    "m = re.search('\\d', s) # match 0 ~ 9 \n",
    "print m.group(0)"
   ]
  },
  {
   "cell_type": "code",
   "execution_count": 106,
   "metadata": {
    "collapsed": false
   },
   "outputs": [
    {
     "name": "stdout",
     "output_type": "stream",
     "text": [
      "535\n",
      "53512\n",
      "53512\n",
      "53512\n",
      "\n"
     ]
    }
   ],
   "source": [
    "s = '我的號碼是535'\n",
    "\n",
    "import re # 使用re 這個套件\n",
    "m = re.search('\\d{3}', s) # match 0 ~ 9 * 3\n",
    "print m.group(0)\n",
    "\n",
    "\n",
    "s = '我的號碼是53512'\n",
    "m = re.search('\\d{3,10}', s) # match 0~9 * 3 : 0~9 * 10\n",
    "print m.group(0)\n",
    "\n",
    "\n",
    "s = '我的號碼是53512'\n",
    "m = re.search('\\d{1,}', s) # match 0~9 * 1 : 0~9 * Infinity\n",
    "print m.group(0)\n",
    "\n",
    "\n",
    "s = '我的號碼是53512'\n",
    "m = re.search('\\d+', s) # + = {1,}\n",
    "print m.group(0)\n",
    "\n",
    "s = '我的號碼是53512'\n",
    "m = re.search('\\d*', s) # * = {0,}\n",
    "print m.group(0)"
   ]
  },
  {
   "cell_type": "code",
   "execution_count": 110,
   "metadata": {
    "collapsed": false
   },
   "outputs": [
    {
     "name": "stdout",
     "output_type": "stream",
     "text": [
      "0912345678\n"
     ]
    }
   ],
   "source": [
    "s = '待會我要去ｉｋｅａ　買家具，我的電話是0912345678，到的時候聯絡我, 地址是新莊棒球場旁的23號'\n",
    "m = re.search('\\d+', s) # + = {1,}\n",
    "print m.group(0)"
   ]
  },
  {
   "cell_type": "code",
   "execution_count": 114,
   "metadata": {
    "collapsed": false
   },
   "outputs": [
    {
     "name": "stdout",
     "output_type": "stream",
     "text": [
      "0912\n",
      "0912-345-678\n",
      "0912-345-678\n"
     ]
    }
   ],
   "source": [
    "s1 = '陳董的電話號碼是0912-345-678'\n",
    "m = re.search('\\d+', s1) # + = {1,}\n",
    "print m.group(0)\n",
    "\n",
    "\n",
    "m = re.search('09\\d{2}-{0,1}\\d{3}-{0,1}\\d{3}', s1)\n",
    "print m.group(0)\n",
    "\n",
    "m = re.search('09\\d{2}-?\\d{3}-?\\d{3}', s1) # ? = {0,1}\n",
    "print m.group(0)"
   ]
  },
  {
   "cell_type": "code",
   "execution_count": 118,
   "metadata": {
    "collapsed": false
   },
   "outputs": [
    {
     "name": "stdout",
     "output_type": "stream",
     "text": [
      "0912345678\n",
      "0912-345-678\n",
      "0912-345678\n",
      "0912374829\n"
     ]
    }
   ],
   "source": [
    "s = '待會我要去ｉｋｅａ　買家具，我的電話是0912345678，到的時候聯絡我, 地址是新莊棒球場旁的23號'\n",
    "s1 = '陳董的電話號碼是0912-345-678'\n",
    "s2 = '該分行的專員聯絡號碼是0912-345678，到門口時聯絡他'\n",
    "s3 = '可以用09123748291929391簽這期號碼'\n",
    "\n",
    "m = re.search('09\\d{2}-?\\d{3}-?\\d{3}', s) \n",
    "print m.group(0)\n",
    "\n",
    "m = re.search('09\\d{2}-?\\d{3}-?\\d{3}', s1)\n",
    "print m.group(0)\n",
    "\n",
    "m = re.search('09\\d{2}-?\\d{3}-?\\d{3}', s2)\n",
    "print m.group(0)\n",
    "\n",
    "m = re.search('09\\d{2}-?\\d{3}-?\\d{3}', s3)\n",
    "print m.group(0)"
   ]
  },
  {
   "cell_type": "code",
   "execution_count": 125,
   "metadata": {
    "collapsed": false
   },
   "outputs": [
    {
     "name": "stdout",
     "output_type": "stream",
     "text": [
      "D\n",
      "a\n",
      "D\n",
      "D\n",
      "D\n"
     ]
    }
   ],
   "source": [
    "s = '我的姓名叫David'\n",
    "\n",
    "import re # 使用re 這個套件\n",
    "m = re.search('D', s)\n",
    "print m.group(0)\n",
    "\n",
    "m = re.search('[abcdefghijklmnopqrstuvwxyz]', s) # match a-z\n",
    "print m.group(0)\n",
    "\n",
    "m = re.search('[abcdefghijklmnopqrstuvwxyzABCDEFGHIJKLMNOPQRSWTUVWZYZ]', s) # match a-zA-Z\n",
    "print m.group(0)\n",
    "\n",
    "m = re.search('[a-zA-Z]', s) #  match a-zA-Z\n",
    "print m.group(0)\n",
    "\n",
    "m = re.search('\\w', s) # match a-zA-Z0-9\n",
    "print m.group(0)"
   ]
  },
  {
   "cell_type": "code",
   "execution_count": 126,
   "metadata": {
    "collapsed": false
   },
   "outputs": [
    {
     "name": "stdout",
     "output_type": "stream",
     "text": [
      "David\n"
     ]
    }
   ],
   "source": [
    "m = re.search('\\w{3,}', s) # match a-zA-Z0-9 * 3\n",
    "print m.group(0)"
   ]
  },
  {
   "cell_type": "code",
   "execution_count": 131,
   "metadata": {
    "collapsed": false
   },
   "outputs": [
    {
     "name": "stdout",
     "output_type": "stream",
     "text": [
      "['\\xe6\\x88\\x91\\xe7\\x9a\\x84\\xe5\\xa7\\x93\\xe5\\x90\\x8d\\xe5\\x8f\\xabDavid']\n"
     ]
    }
   ],
   "source": [
    "s = '我的姓名叫David'\n",
    "print [s]"
   ]
  },
  {
   "cell_type": "code",
   "execution_count": 127,
   "metadata": {
    "collapsed": false
   },
   "outputs": [
    {
     "name": "stdout",
     "output_type": "stream",
     "text": [
      "�\n"
     ]
    }
   ],
   "source": [
    "m = re.search('.', s) # . => a-zA-Z0-9!@#@#$#$^%$%^*.... \n",
    "print m.group(0)"
   ]
  },
  {
   "cell_type": "code",
   "execution_count": 132,
   "metadata": {
    "collapsed": false
   },
   "outputs": [
    {
     "name": "stdout",
     "output_type": "stream",
     "text": [
      "我\n"
     ]
    }
   ],
   "source": [
    "s = u'我的姓名叫David'\n",
    "m = re.search('.', s) # . => a-zA-Z0-9!@#@#$#$^%$%^*.... \n",
    "print m.group(0)"
   ]
  },
  {
   "cell_type": "code",
   "execution_count": 138,
   "metadata": {
    "collapsed": false
   },
   "outputs": [
    {
     "name": "stdout",
     "output_type": "stream",
     "text": [
      "qoo@oop\n",
      "qoo@oop.com\n",
      "qoo@!op.com\n"
     ]
    },
    {
     "ename": "AttributeError",
     "evalue": "'NoneType' object has no attribute 'group'",
     "output_type": "error",
     "traceback": [
      "\u001b[1;31m---------------------------------------------------------------------------\u001b[0m",
      "\u001b[1;31mAttributeError\u001b[0m                            Traceback (most recent call last)",
      "\u001b[1;32m<ipython-input-138-3e12d5c59ef8>\u001b[0m in \u001b[0;36m<module>\u001b[1;34m()\u001b[0m\n\u001b[0;32m     15\u001b[0m \u001b[1;33m\u001b[0m\u001b[0m\n\u001b[0;32m     16\u001b[0m \u001b[0mm\u001b[0m \u001b[1;33m=\u001b[0m \u001b[0mre\u001b[0m\u001b[1;33m.\u001b[0m\u001b[0msearch\u001b[0m\u001b[1;33m(\u001b[0m\u001b[1;34m'\\w+@[\\w.]+'\u001b[0m\u001b[1;33m,\u001b[0m \u001b[0me3\u001b[0m\u001b[1;33m)\u001b[0m \u001b[1;31m# . inside [] stands for period only, not match any notation\u001b[0m\u001b[1;33m\u001b[0m\u001b[0m\n\u001b[1;32m---> 17\u001b[1;33m \u001b[1;32mprint\u001b[0m \u001b[0mm\u001b[0m\u001b[1;33m.\u001b[0m\u001b[0mgroup\u001b[0m\u001b[1;33m(\u001b[0m\u001b[1;36m0\u001b[0m\u001b[1;33m)\u001b[0m\u001b[1;33m\u001b[0m\u001b[0m\n\u001b[0m",
      "\u001b[1;31mAttributeError\u001b[0m: 'NoneType' object has no attribute 'group'"
     ]
    }
   ],
   "source": [
    "e = '他的email 是 qoo@oop.com'\n",
    "e1 = '請聯絡 ilovelargitdata@largitdata.com'\n",
    "e2 = 'hahaha 請聯絡我'\n",
    "e3 = '他的email 是 qoo@!op.com'\n",
    "\n",
    "import re\n",
    "m = re.search('\\w+@\\w+', e)\n",
    "print m.group(0)\n",
    "\n",
    "m = re.search('\\w+@[\\w.]+', e) # . inside [] stands for period only, not match any notation\n",
    "print m.group(0)\n",
    "\n",
    "m = re.search('\\w+@.+', e3)\n",
    "print m.group(0)\n",
    "\n",
    "m = re.search('\\w+@[\\w.]+', e3) # . inside [] stands for period only, not match any notation\n",
    "print m.group(0)"
   ]
  },
  {
   "cell_type": "code",
   "execution_count": 140,
   "metadata": {
    "collapsed": false
   },
   "outputs": [
    {
     "name": "stdout",
     "output_type": "stream",
     "text": [
      "qoo@oop.com\n",
      "qoo\n",
      "oop.com\n"
     ]
    }
   ],
   "source": [
    "e = '他的email 是 qoo@oop.com'\n",
    "e1 = '請聯絡 ilovelargitdata@largitdata.com'\n",
    "e2 = 'hahaha 請聯絡我'\n",
    "e3 = '他的email 是 qoo@!op.com'\n",
    "\n",
    "\n",
    "m = re.search('(\\w+)@([\\w.]+)', e) # . inside [] stands for period only, not match any notation\n",
    "print m.group(0) # group(0) == match all words that matches the pattern\n",
    "print m.group(1) # group(1) == match all words that matche the pattern within the first ()\n",
    "print m.group(2) # group(2) == match all words that matche the pattern within the second ()"
   ]
  },
  {
   "cell_type": "code",
   "execution_count": 143,
   "metadata": {
    "collapsed": false
   },
   "outputs": [
    {
     "name": "stdout",
     "output_type": "stream",
     "text": [
      "('david', 'largidata')\n",
      "('david', 'largitdata.com')\n",
      "('1999', '5')\n",
      "David Chiu\n",
      "David Chiu\n",
      "file.txt root 10.0.0.1 ./\n"
     ]
    }
   ],
   "source": [
    "import re \n",
    "#match: match all patterns , search: match partial patterns\n",
    "m = re.match(r\"(\\w+)@(\\w+)\", \"david@largidata.com\") \n",
    "print m.groups()\n",
    " \n",
    "m = re.match(r\"(\\w+)@([a-z.]+)\", \"david@largitdata.com\") \n",
    "print m.groups() \n",
    "\n",
    "m = re.match(r\"(\\d+)\\.(\\d+)\", \"1999.5\") \n",
    "print m.groups() \n",
    "\n",
    "# ?P<first_name> , group name => first_name\n",
    "m = re.match(r\"(?P<first_name>\\w+) (?P<last_name>\\w+)\", \"David Chiu\")  \n",
    "print m.group('first_name'), m.group('last_name')\n",
    "\n",
    "m = re.match(\"(\\w+) (\\w+)\", \"David Chiu\") \n",
    "print m.group(1), m.group(2)\n",
    " \n",
    "str1 = 'scp file.txt root@10.0.0.1:./' \n",
    "m=re.search('^scp ([\\w\\.]+) (\\w+)@([\\w\\.]+):(.+)',str1) \n",
    "if m: \n",
    "    print m.group(1), m.group(2), m.group(3), m.group(4)"
   ]
  },
  {
   "cell_type": "code",
   "execution_count": 146,
   "metadata": {
    "collapsed": false
   },
   "outputs": [
    {
     "name": "stdout",
     "output_type": "stream",
     "text": [
      "王永慶\n"
     ]
    }
   ],
   "source": [
    "ID = '[A-Z]\\d{9}'\n",
    "CreditCard = '[1-5]\\d{15}'\n",
    "ChineseName  = u'[趙|錢|孫|李|周|吳|鄭|王].{1,6}'\n",
    "m  = re.match(ChineseName, u'王永慶')\n",
    "print m.group(0)"
   ]
  },
  {
   "cell_type": "code",
   "execution_count": 149,
   "metadata": {
    "collapsed": false
   },
   "outputs": [
    {
     "name": "stdout",
     "output_type": "stream",
     "text": [
      "問題\n",
      "天然瓦斯費 用 信用卡扣繳\n"
     ]
    }
   ],
   "source": [
    "q = '[問題] 天然瓦斯費 用 信用卡扣繳'\n",
    "m = re.match('\\[(.+)\\] (.*)', q )\n",
    "print m.group(1)\n",
    "print m.group(2)"
   ]
  },
  {
   "cell_type": "markdown",
   "metadata": {},
   "source": [
    "## 完成爬蟲流程"
   ]
  },
  {
   "cell_type": "code",
   "execution_count": 150,
   "metadata": {
    "collapsed": true
   },
   "outputs": [],
   "source": [
    "import requests\n",
    "from bs4 import BeautifulSoup\n",
    "from datetime import date,datetime\n",
    "import re"
   ]
  },
  {
   "cell_type": "code",
   "execution_count": 198,
   "metadata": {
    "collapsed": false
   },
   "outputs": [],
   "source": [
    "def pageDetail(detailurl):\n",
    "    res = requests.get(detailurl)\n",
    "    soup = BeautifulSoup(res.text)\n",
    "    if len(soup.select('#main-content')[0].contents) > 4:\n",
    "        # 抓取內文\n",
    "        summary = soup.select('#main-content')[0].contents[4].encode('utf-8')\n",
    "        # 抓取時間\n",
    "        time = soup.select('.article-meta-value')[3].text.encode('utf-8')\n",
    "        dt =datetime.strptime(time.encode('utf-8'), '%a %b %d %H:%M:%S %Y')\n",
    "        # 以字典回傳資料\n",
    "        return {'summary': summary, 'dt': dt}\n",
    "\n",
    "d = pageDetail('https://www.ptt.cc/bbs/creditcard/M.1469180146.A.1D0.html')"
   ]
  },
  {
   "cell_type": "code",
   "execution_count": 199,
   "metadata": {
    "collapsed": false
   },
   "outputs": [],
   "source": [
    "#print d['dt']\n",
    "#print d['summary']"
   ]
  },
  {
   "cell_type": "code",
   "execution_count": 200,
   "metadata": {
    "collapsed": false
   },
   "outputs": [],
   "source": [
    "domain = 'https://www.ptt.cc'\n",
    "#建立空 List\n",
    "pttary = []\n",
    "for page in range(2005,2003,-1):\n",
    "    ptturl = 'https://www.ptt.cc/bbs/creditcard/index{}.html'.format(page)\n",
    "    #使用format 更新頁數\n",
    "    section = requests.get(ptturl.format(page))\n",
    "    #將資料讀取至BeautifulSoup\n",
    "    soup = BeautifulSoup(section.text)\n",
    "    #分別抓取各標籤元素\n",
    "    for ent in soup.select('.r-ent'): \n",
    "        if len(ent.select('a')) >0:\n",
    "            dic   = {}\n",
    "            dic['title'] = ent.select('.title')[0].text.encode('utf-8')\n",
    "            dic['link'] = domain + ent.select('a')[0]['href'].encode('utf-8')\n",
    "            #更新內容頁抓取到的資料\n",
    "            dic.update(pageDetail(dic['link']))\n",
    "            pttary.append(dic)\n"
   ]
  },
  {
   "cell_type": "code",
   "execution_count": 179,
   "metadata": {
    "collapsed": false
   },
   "outputs": [
    {
     "name": "stdout",
     "output_type": "stream",
     "text": [
      "\n",
      "\n",
      "\n",
      "\n",
      "各位對於華南心灰意冷的朋友們\n",
      "\n",
      "原本我以為只有-4的途徑可以換ANA\n",
      "\n",
      "沒想到  現在全家的系統也可以換了\n",
      "\n",
      "UUPON 可以換ANA點數\n",
      "\n",
      "\n",
      "\n"
     ]
    }
   ],
   "source": [
    "print pttary[2]['summary']"
   ]
  },
  {
   "cell_type": "code",
   "execution_count": 201,
   "metadata": {
    "collapsed": false,
    "scrolled": true
   },
   "outputs": [
    {
     "data": {
      "text/html": [
       "<div>\n",
       "<table border=\"1\" class=\"dataframe\">\n",
       "  <thead>\n",
       "    <tr style=\"text-align: right;\">\n",
       "      <th></th>\n",
       "      <th>dt</th>\n",
       "      <th>link</th>\n",
       "      <th>summary</th>\n",
       "      <th>title</th>\n",
       "    </tr>\n",
       "  </thead>\n",
       "  <tbody>\n",
       "    <tr>\n",
       "      <th>0</th>\n",
       "      <td>2016-07-18 18:28:02</td>\n",
       "      <td>https://www.ptt.cc/bbs/creditcard/M.1468837685...</td>\n",
       "      <td>\\n我在 mouser.com 刷 GoGo 卡（以美金消費），\\n結果只有 1.5% 現金...</td>\n",
       "      <td>\\n[問題] GoGo卡數位通路判定\\n</td>\n",
       "    </tr>\n",
       "    <tr>\n",
       "      <th>1</th>\n",
       "      <td>2016-07-18 18:36:20</td>\n",
       "      <td>https://www.ptt.cc/bbs/creditcard/M.1468838184...</td>\n",
       "      <td>\\n\\n1.如果中信同時辦2張頂極卡(學學.紙風車)   優惠可分開計算嗎?\\n\\n例如上個...</td>\n",
       "      <td>\\n[問題] 請問信用卡停車優惠可以共用嗎?\\n</td>\n",
       "    </tr>\n",
       "    <tr>\n",
       "      <th>2</th>\n",
       "      <td>2016-07-18 18:45:40</td>\n",
       "      <td>https://www.ptt.cc/bbs/creditcard/M.1468838743...</td>\n",
       "      <td>\\n\\n\\n\\n各位對於華南心灰意冷的朋友們\\n\\n原本我以為只有-4的途徑可以換ANA\\n...</td>\n",
       "      <td>\\n[情報] ANA與UUPON開始交換\\n</td>\n",
       "    </tr>\n",
       "    <tr>\n",
       "      <th>3</th>\n",
       "      <td>2016-07-18 19:00:07</td>\n",
       "      <td>https://www.ptt.cc/bbs/creditcard/M.1468839609...</td>\n",
       "      <td>\\n請問一下，持有台灣Citi Prestige卡的板友們,\\n帳單上的花旗禮享家紅利積點欄...</td>\n",
       "      <td>\\n[問題] 花旗年資獎勵積點？\\n</td>\n",
       "    </tr>\n",
       "    <tr>\n",
       "      <th>4</th>\n",
       "      <td>2016-07-18 19:36:02</td>\n",
       "      <td>https://www.ptt.cc/bbs/creditcard/M.1468841766...</td>\n",
       "      <td>\\n</td>\n",
       "      <td>\\nRe: [問題] GoGo卡數位通路判定\\n</td>\n",
       "    </tr>\n",
       "  </tbody>\n",
       "</table>\n",
       "</div>"
      ],
      "text/plain": [
       "                   dt                                               link  \\\n",
       "0 2016-07-18 18:28:02  https://www.ptt.cc/bbs/creditcard/M.1468837685...   \n",
       "1 2016-07-18 18:36:20  https://www.ptt.cc/bbs/creditcard/M.1468838184...   \n",
       "2 2016-07-18 18:45:40  https://www.ptt.cc/bbs/creditcard/M.1468838743...   \n",
       "3 2016-07-18 19:00:07  https://www.ptt.cc/bbs/creditcard/M.1468839609...   \n",
       "4 2016-07-18 19:36:02  https://www.ptt.cc/bbs/creditcard/M.1468841766...   \n",
       "\n",
       "                                             summary                     title  \n",
       "0  \\n我在 mouser.com 刷 GoGo 卡（以美金消費），\\n結果只有 1.5% 現金...      \\n[問題] GoGo卡數位通路判定\\n  \n",
       "1  \\n\\n1.如果中信同時辦2張頂極卡(學學.紙風車)   優惠可分開計算嗎?\\n\\n例如上個...  \\n[問題] 請問信用卡停車優惠可以共用嗎?\\n  \n",
       "2  \\n\\n\\n\\n各位對於華南心灰意冷的朋友們\\n\\n原本我以為只有-4的途徑可以換ANA\\n...    \\n[情報] ANA與UUPON開始交換\\n  \n",
       "3  \\n請問一下，持有台灣Citi Prestige卡的板友們,\\n帳單上的花旗禮享家紅利積點欄...        \\n[問題] 花旗年資獎勵積點？\\n  \n",
       "4                                                 \\n  \\nRe: [問題] GoGo卡數位通路判定\\n  "
      ]
     },
     "execution_count": 201,
     "metadata": {},
     "output_type": "execute_result"
    }
   ],
   "source": [
    "import pandas\n",
    "df = pandas.DataFrame(pttary)\n",
    "df.head()"
   ]
  },
  {
   "cell_type": "markdown",
   "metadata": {},
   "source": [
    "## 寫資料進檔案"
   ]
  },
  {
   "cell_type": "code",
   "execution_count": 196,
   "metadata": {
    "collapsed": false
   },
   "outputs": [],
   "source": [
    "df.to_excel('pttcredit2.xlsx')\n",
    "#df.to_csv('pttcredit.csv')"
   ]
  },
  {
   "cell_type": "markdown",
   "metadata": {},
   "source": [
    "## 寫資料進資料庫"
   ]
  },
  {
   "cell_type": "raw",
   "metadata": {},
   "source": [
    "use ptt;\n",
    "\n",
    "CREATE TABLE `pttarticles` (\n",
    "  `index` int(11) NOT NULL,\n",
    "  `title` varchar(1000) DEFAULT NULL,\n",
    "  `summary` text,\n",
    "  `dt` datetime DEFAULT NULL,\n",
    "  `link` varchar(256) DEFAULT NULL\n",
    ") ENGINE=InnoDB DEFAULT CHARSET=utf8;\n"
   ]
  },
  {
   "cell_type": "code",
   "execution_count": 202,
   "metadata": {
    "collapsed": false
   },
   "outputs": [],
   "source": [
    "import MySQLdb\n",
    "     \n",
    "# 連接到 MySQL\n",
    "db = MySQLdb.connect(host=\"localhost\", user=\"root\", \n",
    "                     passwd=\"test\", db=\"ptt\",  charset='utf8')\n",
    "\n",
    "df.to_sql('pttarticles', \n",
    "                con = db, \n",
    "                flavor='mysql', \n",
    "                if_exists='append')\n",
    "\n"
   ]
  },
  {
   "cell_type": "code",
   "execution_count": 204,
   "metadata": {
    "collapsed": false
   },
   "outputs": [
    {
     "data": {
      "text/html": [
       "<div>\n",
       "<table border=\"1\" class=\"dataframe\">\n",
       "  <thead>\n",
       "    <tr style=\"text-align: right;\">\n",
       "      <th></th>\n",
       "      <th>index</th>\n",
       "      <th>title</th>\n",
       "      <th>summary</th>\n",
       "      <th>dt</th>\n",
       "      <th>link</th>\n",
       "    </tr>\n",
       "  </thead>\n",
       "  <tbody>\n",
       "    <tr>\n",
       "      <th>0</th>\n",
       "      <td>0</td>\n",
       "      <td>\\n[問題] GoGo卡數位通路判定\\n</td>\n",
       "      <td>\\n我在 mouser.com 刷 GoGo 卡（以美金消費），\\n結果只有 1.5% 現金...</td>\n",
       "      <td>2016-07-18 18:28:02</td>\n",
       "      <td>https://www.ptt.cc/bbs/creditcard/M.1468837685...</td>\n",
       "    </tr>\n",
       "    <tr>\n",
       "      <th>1</th>\n",
       "      <td>6</td>\n",
       "      <td>\\n[心得] 花旗.玉山.富邦 調額成功\\n</td>\n",
       "      <td>\\n[工作年資]： 2年\\n[年收入]：   2.2M\\n[調額卡別]：\\n[調整額度]:\\...</td>\n",
       "      <td>2016-07-18 20:11:25</td>\n",
       "      <td>https://www.ptt.cc/bbs/creditcard/M.1468843887...</td>\n",
       "    </tr>\n",
       "    <tr>\n",
       "      <th>2</th>\n",
       "      <td>18</td>\n",
       "      <td>\\nRe: [討論] 我的富邦在itunes被盜刷\\n</td>\n",
       "      <td>\\n剛想到台新網銀有 即時查詢即時消費紀錄 的功能\\n就是有消費授權的但還沒請款的紀錄\\n剛...</td>\n",
       "      <td>2016-07-17 19:44:25</td>\n",
       "      <td>https://www.ptt.cc/bbs/creditcard/M.1468755867...</td>\n",
       "    </tr>\n",
       "    <tr>\n",
       "      <th>3</th>\n",
       "      <td>19</td>\n",
       "      <td>\\nRe: [情報] 全家便利商店 週末刷台新\\n</td>\n",
       "      <td>\\n最近剛好電腦的變壓器壞了，前兩天就在露天拍賣隨便買一個先擋擋\\n\\n看板上有提到全家便利...</td>\n",
       "      <td>2016-07-17 22:15:00</td>\n",
       "      <td>https://www.ptt.cc/bbs/creditcard/M.1468764902...</td>\n",
       "    </tr>\n",
       "    <tr>\n",
       "      <th>4</th>\n",
       "      <td>22</td>\n",
       "      <td>\\nRe: [情報] 全家便利商店 週末刷台新\\n</td>\n",
       "      <td>\\n原文吃掉\\n\\n\\n本魯全家店員\\n\\n\\n台新刷信用卡有三種方式\\n\\n刷磁條  插晶...</td>\n",
       "      <td>2016-07-18 00:14:57</td>\n",
       "      <td>https://www.ptt.cc/bbs/creditcard/M.1468772102...</td>\n",
       "    </tr>\n",
       "  </tbody>\n",
       "</table>\n",
       "</div>"
      ],
      "text/plain": [
       "   index                        title  \\\n",
       "0      0         \\n[問題] GoGo卡數位通路判定\\n   \n",
       "1      6       \\n[心得] 花旗.玉山.富邦 調額成功\\n   \n",
       "2     18  \\nRe: [討論] 我的富邦在itunes被盜刷\\n   \n",
       "3     19    \\nRe: [情報] 全家便利商店 週末刷台新\\n   \n",
       "4     22    \\nRe: [情報] 全家便利商店 週末刷台新\\n   \n",
       "\n",
       "                                             summary                  dt  \\\n",
       "0  \\n我在 mouser.com 刷 GoGo 卡（以美金消費），\\n結果只有 1.5% 現金... 2016-07-18 18:28:02   \n",
       "1  \\n[工作年資]： 2年\\n[年收入]：   2.2M\\n[調額卡別]：\\n[調整額度]:\\... 2016-07-18 20:11:25   \n",
       "2  \\n剛想到台新網銀有 即時查詢即時消費紀錄 的功能\\n就是有消費授權的但還沒請款的紀錄\\n剛... 2016-07-17 19:44:25   \n",
       "3  \\n最近剛好電腦的變壓器壞了，前兩天就在露天拍賣隨便買一個先擋擋\\n\\n看板上有提到全家便利... 2016-07-17 22:15:00   \n",
       "4  \\n原文吃掉\\n\\n\\n本魯全家店員\\n\\n\\n台新刷信用卡有三種方式\\n\\n刷磁條  插晶... 2016-07-18 00:14:57   \n",
       "\n",
       "                                                link  \n",
       "0  https://www.ptt.cc/bbs/creditcard/M.1468837685...  \n",
       "1  https://www.ptt.cc/bbs/creditcard/M.1468843887...  \n",
       "2  https://www.ptt.cc/bbs/creditcard/M.1468755867...  \n",
       "3  https://www.ptt.cc/bbs/creditcard/M.1468764902...  \n",
       "4  https://www.ptt.cc/bbs/creditcard/M.1468772102...  "
      ]
     },
     "execution_count": 204,
     "metadata": {},
     "output_type": "execute_result"
    }
   ],
   "source": [
    "#從MySQL讀取資料\n",
    "df2 = pandas.read_sql(\"select * from pttarticles where summary like '%台新%'\", con=db)\n",
    "df2.head()"
   ]
  },
  {
   "cell_type": "code",
   "execution_count": 189,
   "metadata": {
    "collapsed": false
   },
   "outputs": [
    {
     "data": {
      "text/html": [
       "<div>\n",
       "<table border=\"1\" class=\"dataframe\">\n",
       "  <thead>\n",
       "    <tr style=\"text-align: right;\">\n",
       "      <th></th>\n",
       "      <th>dt</th>\n",
       "      <th>link</th>\n",
       "      <th>summary</th>\n",
       "      <th>title</th>\n",
       "    </tr>\n",
       "  </thead>\n",
       "  <tbody>\n",
       "    <tr>\n",
       "      <th>0</th>\n",
       "      <td>2016-07-18 18:28:02</td>\n",
       "      <td>https://www.ptt.cc/bbs/creditcard/M.1468837685...</td>\n",
       "      <td>我在 mouser.com 刷 GoGo 卡（以美金消費），\n",
       "結果只有 1.5% 現金回饋...</td>\n",
       "      <td>\\n[問題] GoGo卡數位通路判定\\n</td>\n",
       "    </tr>\n",
       "    <tr>\n",
       "      <th>6</th>\n",
       "      <td>2016-07-18 20:11:25</td>\n",
       "      <td>https://www.ptt.cc/bbs/creditcard/M.1468843887...</td>\n",
       "      <td>[工作年資]： 2年\n",
       "[年收入]：   2.2M\n",
       "[調額卡別]：\n",
       "[調整額度]:\n",
       "    ...</td>\n",
       "      <td>\\n[心得] 花旗.玉山.富邦 調額成功\\n</td>\n",
       "    </tr>\n",
       "    <tr>\n",
       "      <th>18</th>\n",
       "      <td>2016-07-17 19:44:25</td>\n",
       "      <td>https://www.ptt.cc/bbs/creditcard/M.1468755867...</td>\n",
       "      <td>剛想到台新網銀有 即時查詢即時消費紀錄 的功能\n",
       "就是有消費授權的但還沒請款的紀錄\n",
       "剛去看發...</td>\n",
       "      <td>\\nRe: [討論] 我的富邦在itunes被盜刷\\n</td>\n",
       "    </tr>\n",
       "    <tr>\n",
       "      <th>19</th>\n",
       "      <td>2016-07-17 22:15:00</td>\n",
       "      <td>https://www.ptt.cc/bbs/creditcard/M.1468764902...</td>\n",
       "      <td>最近剛好電腦的變壓器壞了，前兩天就在露天拍賣隨便買一個先擋擋\n",
       "\n",
       "看板上有提到全家便利商店取...</td>\n",
       "      <td>\\nRe: [情報] 全家便利商店 週末刷台新\\n</td>\n",
       "    </tr>\n",
       "    <tr>\n",
       "      <th>22</th>\n",
       "      <td>2016-07-18 00:14:57</td>\n",
       "      <td>https://www.ptt.cc/bbs/creditcard/M.1468772102...</td>\n",
       "      <td>原文吃掉\n",
       "\n",
       "\n",
       "本魯全家店員\n",
       "\n",
       "\n",
       "台新刷信用卡有三種方式\n",
       "\n",
       "刷磁條  插晶片 卡片感應\n",
       "\n",
       "理...</td>\n",
       "      <td>\\nRe: [情報] 全家便利商店 週末刷台新\\n</td>\n",
       "    </tr>\n",
       "    <tr>\n",
       "      <th>25</th>\n",
       "      <td>2016-07-18 09:37:20</td>\n",
       "      <td>https://www.ptt.cc/bbs/creditcard/M.1468805842...</td>\n",
       "      <td>as title\n",
       "這張卡頗神奇\n",
       "在卡版討論度滿低的\n",
       "沒有幾篇核卡文\n",
       "但是優惠看起來不錯啊\n",
       "...</td>\n",
       "      <td>\\n[問題] 澳盛 lexus白金卡 有人非車主核卡?\\n</td>\n",
       "    </tr>\n",
       "    <tr>\n",
       "      <th>30</th>\n",
       "      <td>2016-07-18 12:43:38</td>\n",
       "      <td>https://www.ptt.cc/bbs/creditcard/M.1468817021...</td>\n",
       "      <td>目前只想到全聯\n",
       "\n",
       "其他還有什麼地方只限定中信卡？或是什麼地方有中信卡獨有的優惠？\n",
       "\n",
       "因為現...</td>\n",
       "      <td>\\n[問題] 有什麼地方只限定刷中信卡？\\n</td>\n",
       "    </tr>\n",
       "    <tr>\n",
       "      <th>35</th>\n",
       "      <td>2016-07-18 16:27:24</td>\n",
       "      <td>https://www.ptt.cc/bbs/creditcard/M.1468830446...</td>\n",
       "      <td>[申請銀行]：中國信託 鼎極無限卡、學學鼎極卡、酷玩卡  加辦\n",
       "             ...</td>\n",
       "      <td>\\n[心得] 中信鼎極無限卡、學學鼎極、酷玩核卡\\n</td>\n",
       "    </tr>\n",
       "    <tr>\n",
       "      <th>37</th>\n",
       "      <td>2016-07-16 19:50:59</td>\n",
       "      <td>https://www.ptt.cc/bbs/creditcard/M.1468669862...</td>\n",
       "      <td>[職業類別]：公部門約僱人員\n",
       "\n",
       "[工作年資]：9個月\n",
       "\n",
       "[年齡]：23\n",
       "\n",
       "[申辦卡別]：台...</td>\n",
       "      <td>\\n[心得] 台新玫瑰核卡，但收到卡片有個小trouble\\n</td>\n",
       "    </tr>\n",
       "    <tr>\n",
       "      <th>43</th>\n",
       "      <td>2016-07-16 23:35:50</td>\n",
       "      <td>https://www.ptt.cc/bbs/creditcard/M.1468683354...</td>\n",
       "      <td>今天拜讀最強大信用卡一文\n",
       "忽然又想到我的天然瓦斯沒得代繳\n",
       "之前爬文類似的案件\n",
       "不是推薦用花...</td>\n",
       "      <td>\\n[問題] 天然瓦斯費 用 信用卡扣繳\\n</td>\n",
       "    </tr>\n",
       "    <tr>\n",
       "      <th>48</th>\n",
       "      <td>2016-07-17 01:59:00</td>\n",
       "      <td>https://www.ptt.cc/bbs/creditcard/M.1468691942...</td>\n",
       "      <td>[職業類別]：服務業\n",
       "[年齡]：24\n",
       "[年收入]：填寫400k\n",
       "[申請卡別]：花旗現金回饋...</td>\n",
       "      <td>\\n[心得] 花旗現金回饋 白金核卡 果真是射飛標\\n</td>\n",
       "    </tr>\n",
       "    <tr>\n",
       "      <th>62</th>\n",
       "      <td>2016-07-16 02:29:50</td>\n",
       "      <td>https://www.ptt.cc/bbs/creditcard/M.1468607392...</td>\n",
       "      <td>[申請類別]：華南旅鑽JCB極緻卡 新辦 及 中信漢神百貨鈦金卡 加辦\n",
       "[職業類別]: ...</td>\n",
       "      <td>\\n[心得] 華南旅鑽極緻新辦核卡~有沒有華南的八卦?\\n</td>\n",
       "    </tr>\n",
       "    <tr>\n",
       "      <th>63</th>\n",
       "      <td>2016-07-16 03:02:24</td>\n",
       "      <td>https://www.ptt.cc/bbs/creditcard/M.1468609349...</td>\n",
       "      <td>[申請卡別]：1.元大愛金卡\n",
       "            2.元大中華電信\n",
       "         ...</td>\n",
       "      <td>\\n[心得] 元大核卡失敗/富邦/台新/中信 研替 小白\\n</td>\n",
       "    </tr>\n",
       "    <tr>\n",
       "      <th>65</th>\n",
       "      <td>2016-07-16 09:33:02</td>\n",
       "      <td>https://www.ptt.cc/bbs/creditcard/M.1468632784...</td>\n",
       "      <td>[職業類別]：科技製造業\n",
       "\n",
       "[年資]：5年\n",
       "\n",
       "[年齡]：32\n",
       "\n",
       "[年收入]：填1300K\n",
       "...</td>\n",
       "      <td>\\n[心得] 台新/富邦/元大核卡成功\\n</td>\n",
       "    </tr>\n",
       "    <tr>\n",
       "      <th>67</th>\n",
       "      <td>2016-07-16 11:17:57</td>\n",
       "      <td>https://www.ptt.cc/bbs/creditcard/M.1468639079...</td>\n",
       "      <td>在全家刷台新信用卡，刷卡機顯示無法認證\n",
       "附近的3間全家都是這樣，磁條、晶片都試過\n",
       "看員工操...</td>\n",
       "      <td>\\n[問題] 全家刷台新顯示\"無法認證\"?\\n</td>\n",
       "    </tr>\n",
       "    <tr>\n",
       "      <th>72</th>\n",
       "      <td>2016-07-16 14:34:27</td>\n",
       "      <td>https://www.ptt.cc/bbs/creditcard/M.1468650869...</td>\n",
       "      <td>[職業類別]：電子業\n",
       "\n",
       "[工作年資]：9年\n",
       "\n",
       "[年收入]：1.1M\n",
       "\n",
       "[調額卡別]：花旗超...</td>\n",
       "      <td>\\n[心得] 花旗 永久調額 成功\\n</td>\n",
       "    </tr>\n",
       "    <tr>\n",
       "      <th>78</th>\n",
       "      <td>2016-07-15 12:29:55</td>\n",
       "      <td>https://www.ptt.cc/bbs/creditcard/M.1468556997...</td>\n",
       "      <td>之前gogo卡很紅時一直想去辦\n",
       "但事情太忙都沒辦\n",
       "這次因為看到台新玫瑰新戶有803刷卡金...</td>\n",
       "      <td>\\n[問題] 新戶申辦台新卡請益(想辦玫瑰跟gogo)\\n</td>\n",
       "    </tr>\n",
       "    <tr>\n",
       "      <th>79</th>\n",
       "      <td>2016-07-15 13:36:08</td>\n",
       "      <td>https://www.ptt.cc/bbs/creditcard/M.1468560971...</td>\n",
       "      <td>是這樣的\n",
       "我的結帳日是12號\n",
       "有設定自動扣繳，但因為額度比較低\n",
       "\n",
       "所以在14號就先用Ric...</td>\n",
       "      <td>\\n[問題] 台新@gogo 可用額度異常 ｛已正常｝\\n</td>\n",
       "    </tr>\n",
       "    <tr>\n",
       "      <th>89</th>\n",
       "      <td>2016-07-15 18:11:42</td>\n",
       "      <td>https://www.ptt.cc/bbs/creditcard/M.1468577504...</td>\n",
       "      <td>各位神大大\n",
       "早上已經用官網填完申請資料送出\n",
       "職稱寫約聘人員\n",
       "還沒寄出紙本資料但是不是連寄紙...</td>\n",
       "      <td>\\n[問題] 台新@gogo 官網申請 職稱問題\\n</td>\n",
       "    </tr>\n",
       "    <tr>\n",
       "      <th>91</th>\n",
       "      <td>2016-07-15 19:00:18</td>\n",
       "      <td>https://www.ptt.cc/bbs/creditcard/M.1468580423...</td>\n",
       "      <td>[申請卡別]：凱基 富邦 永久調額\n",
       "\n",
       "[職業類別]：校內研究助理\n",
       "\n",
       "[工作年資]：11.5...</td>\n",
       "      <td>\\n[心得] 凱基/富邦 申請永久調額\\n</td>\n",
       "    </tr>\n",
       "    <tr>\n",
       "      <th>108</th>\n",
       "      <td>2016-07-14 23:41:54</td>\n",
       "      <td>https://www.ptt.cc/bbs/creditcard/M.1468510918...</td>\n",
       "      <td>[職業類別]：教育業\n",
       "[工作年資] : 7年\n",
       "[年齡]：38\n",
       "[申辦卡別]：晶緻卡\n",
       "[卡片...</td>\n",
       "      <td>\\n[心得]樂天JCB\\n</td>\n",
       "    </tr>\n",
       "    <tr>\n",
       "      <th>110</th>\n",
       "      <td>2016-07-15 01:19:22</td>\n",
       "      <td>https://www.ptt.cc/bbs/creditcard/M.1468516764...</td>\n",
       "      <td>[職業類別]：科技業工程師\n",
       "\n",
       "[目前工作年資]：6年多\n",
       "\n",
       "[年齡]：32\n",
       "\n",
       "[年收入]：1...</td>\n",
       "      <td>\\n中信享想/酷玩 富邦富利 元大鑽金一卡通核卡 聯邦調額成功 \\n</td>\n",
       "    </tr>\n",
       "    <tr>\n",
       "      <th>116</th>\n",
       "      <td>2016-07-13 15:17:02</td>\n",
       "      <td>https://www.ptt.cc/bbs/creditcard/M.1468394224...</td>\n",
       "      <td>好奇問一下 是否已經有版友實際使用全家取貨付款刷台新卡了?\n",
       "是否有刷卡金額上的限制? 店員...</td>\n",
       "      <td>\\nRe: [情報] 全家便利商店 週末刷台新\\n</td>\n",
       "    </tr>\n",
       "    <tr>\n",
       "      <th>117</th>\n",
       "      <td>2016-07-13 15:57:21</td>\n",
       "      <td>https://www.ptt.cc/bbs/creditcard/M.1468396645...</td>\n",
       "      <td>各位好\n",
       "因為最近常有大筆消費的需求\n",
       "然後因為@GOGO有無腦扣繳1.5%的回饋\n",
       "所以之前把...</td>\n",
       "      <td>\\n[問題] 台新 調額/新辦卡\\n</td>\n",
       "    </tr>\n",
       "    <tr>\n",
       "      <th>121</th>\n",
       "      <td>2016-07-13 21:02:58</td>\n",
       "      <td>https://www.ptt.cc/bbs/creditcard/M.1468414981...</td>\n",
       "      <td>最近需要一個行李箱，原本要辦花旗\n",
       "\n",
       "在板上爬文後想申辦gogo卡\n",
       "\n",
       "本身未擁有台新的信用卡...</td>\n",
       "      <td>\\n[問題] 台新gogo 首刷21吋行李箱長寬高\\n</td>\n",
       "    </tr>\n",
       "    <tr>\n",
       "      <th>123</th>\n",
       "      <td>2016-07-13 21:28:40</td>\n",
       "      <td>https://www.ptt.cc/bbs/creditcard/M.1468416524...</td>\n",
       "      <td>[職業類別]：製造業\n",
       "\n",
       "[工作年資]：3個月\n",
       "\n",
       "[年齡]：24\n",
       "\n",
       "[年收入]：填400K\n",
       "...</td>\n",
       "      <td>\\n[心得] 台新 @GOGO悠遊御璽卡 核卡\\n</td>\n",
       "    </tr>\n",
       "    <tr>\n",
       "      <th>127</th>\n",
       "      <td>2016-07-13 22:51:48</td>\n",
       "      <td>https://www.ptt.cc/bbs/creditcard/M.1468421510...</td>\n",
       "      <td>[職業類別]： 金融業\n",
       "\n",
       "[工作年資]： 2年\n",
       "\n",
       "[年齡]： 25歲\n",
       "\n",
       "[年收入]： 填6...</td>\n",
       "      <td>\\n[心得] 富邦數位line御璽卡 核卡\\n</td>\n",
       "    </tr>\n",
       "    <tr>\n",
       "      <th>130</th>\n",
       "      <td>2016-07-14 01:13:00</td>\n",
       "      <td>https://www.ptt.cc/bbs/creditcard/M.1468429983...</td>\n",
       "      <td>[職業類別]：科技業\n",
       "\n",
       "[工作年資]：8個月\n",
       "\n",
       "[年齡]：27\n",
       "\n",
       "[年收入]：50萬\n",
       "\n",
       "...</td>\n",
       "      <td>\\n[心得] 小白 元大鑽金/台新gogo卡\\n</td>\n",
       "    </tr>\n",
       "    <tr>\n",
       "      <th>131</th>\n",
       "      <td>2016-07-14 09:32:07</td>\n",
       "      <td>https://www.ptt.cc/bbs/creditcard/M.1468459929...</td>\n",
       "      <td>請問一下有人試過列印etag儲值的小白單可以刷台新卡繳費嗎？\n",
       "另外，所謂刷單筆500應該沒...</td>\n",
       "      <td>\\nRe: [情報] 全家便利商店 週末刷台新\\n</td>\n",
       "    </tr>\n",
       "    <tr>\n",
       "      <th>144</th>\n",
       "      <td>2016-07-13 01:11:57</td>\n",
       "      <td>https://www.ptt.cc/bbs/creditcard/M.1468343520...</td>\n",
       "      <td>[申請類別]：永豐世界卡申請及永久額度調高\n",
       "[職業類別]: 交通業\n",
       "[工作年資]：九年\n",
       "[...</td>\n",
       "      <td>\\n[心得] 永豐世界卡加辦核卡及調額心得 (附圖)\\n</td>\n",
       "    </tr>\n",
       "    <tr>\n",
       "      <th>151</th>\n",
       "      <td>2016-07-13 14:28:54</td>\n",
       "      <td>https://www.ptt.cc/bbs/creditcard/M.1468391336...</td>\n",
       "      <td>想請問在全家FamiPort印出的停車費繳費單，能否使用台新信用卡付款？\n",
       "\n",
       "剛剛親自測試...</td>\n",
       "      <td>\\n[問題] 全家使用台新繳交停車費\\n</td>\n",
       "    </tr>\n",
       "  </tbody>\n",
       "</table>\n",
       "</div>"
      ],
      "text/plain": [
       "                     dt                                               link  \\\n",
       "0   2016-07-18 18:28:02  https://www.ptt.cc/bbs/creditcard/M.1468837685...   \n",
       "6   2016-07-18 20:11:25  https://www.ptt.cc/bbs/creditcard/M.1468843887...   \n",
       "18  2016-07-17 19:44:25  https://www.ptt.cc/bbs/creditcard/M.1468755867...   \n",
       "19  2016-07-17 22:15:00  https://www.ptt.cc/bbs/creditcard/M.1468764902...   \n",
       "22  2016-07-18 00:14:57  https://www.ptt.cc/bbs/creditcard/M.1468772102...   \n",
       "25  2016-07-18 09:37:20  https://www.ptt.cc/bbs/creditcard/M.1468805842...   \n",
       "30  2016-07-18 12:43:38  https://www.ptt.cc/bbs/creditcard/M.1468817021...   \n",
       "35  2016-07-18 16:27:24  https://www.ptt.cc/bbs/creditcard/M.1468830446...   \n",
       "37  2016-07-16 19:50:59  https://www.ptt.cc/bbs/creditcard/M.1468669862...   \n",
       "43  2016-07-16 23:35:50  https://www.ptt.cc/bbs/creditcard/M.1468683354...   \n",
       "48  2016-07-17 01:59:00  https://www.ptt.cc/bbs/creditcard/M.1468691942...   \n",
       "62  2016-07-16 02:29:50  https://www.ptt.cc/bbs/creditcard/M.1468607392...   \n",
       "63  2016-07-16 03:02:24  https://www.ptt.cc/bbs/creditcard/M.1468609349...   \n",
       "65  2016-07-16 09:33:02  https://www.ptt.cc/bbs/creditcard/M.1468632784...   \n",
       "67  2016-07-16 11:17:57  https://www.ptt.cc/bbs/creditcard/M.1468639079...   \n",
       "72  2016-07-16 14:34:27  https://www.ptt.cc/bbs/creditcard/M.1468650869...   \n",
       "78  2016-07-15 12:29:55  https://www.ptt.cc/bbs/creditcard/M.1468556997...   \n",
       "79  2016-07-15 13:36:08  https://www.ptt.cc/bbs/creditcard/M.1468560971...   \n",
       "89  2016-07-15 18:11:42  https://www.ptt.cc/bbs/creditcard/M.1468577504...   \n",
       "91  2016-07-15 19:00:18  https://www.ptt.cc/bbs/creditcard/M.1468580423...   \n",
       "108 2016-07-14 23:41:54  https://www.ptt.cc/bbs/creditcard/M.1468510918...   \n",
       "110 2016-07-15 01:19:22  https://www.ptt.cc/bbs/creditcard/M.1468516764...   \n",
       "116 2016-07-13 15:17:02  https://www.ptt.cc/bbs/creditcard/M.1468394224...   \n",
       "117 2016-07-13 15:57:21  https://www.ptt.cc/bbs/creditcard/M.1468396645...   \n",
       "121 2016-07-13 21:02:58  https://www.ptt.cc/bbs/creditcard/M.1468414981...   \n",
       "123 2016-07-13 21:28:40  https://www.ptt.cc/bbs/creditcard/M.1468416524...   \n",
       "127 2016-07-13 22:51:48  https://www.ptt.cc/bbs/creditcard/M.1468421510...   \n",
       "130 2016-07-14 01:13:00  https://www.ptt.cc/bbs/creditcard/M.1468429983...   \n",
       "131 2016-07-14 09:32:07  https://www.ptt.cc/bbs/creditcard/M.1468459929...   \n",
       "144 2016-07-13 01:11:57  https://www.ptt.cc/bbs/creditcard/M.1468343520...   \n",
       "151 2016-07-13 14:28:54  https://www.ptt.cc/bbs/creditcard/M.1468391336...   \n",
       "\n",
       "                                               summary  \\\n",
       "0    \n",
       "我在 mouser.com 刷 GoGo 卡（以美金消費），\n",
       "結果只有 1.5% 現金回饋...   \n",
       "6    \n",
       "[工作年資]： 2年\n",
       "[年收入]：   2.2M\n",
       "[調額卡別]：\n",
       "[調整額度]:\n",
       "    ...   \n",
       "18   \n",
       "剛想到台新網銀有 即時查詢即時消費紀錄 的功能\n",
       "就是有消費授權的但還沒請款的紀錄\n",
       "剛去看發...   \n",
       "19   \n",
       "最近剛好電腦的變壓器壞了，前兩天就在露天拍賣隨便買一個先擋擋\n",
       "\n",
       "看板上有提到全家便利商店取...   \n",
       "22   \n",
       "原文吃掉\n",
       "\n",
       "\n",
       "本魯全家店員\n",
       "\n",
       "\n",
       "台新刷信用卡有三種方式\n",
       "\n",
       "刷磁條  插晶片 卡片感應\n",
       "\n",
       "理...   \n",
       "25   \n",
       "as title\n",
       "這張卡頗神奇\n",
       "在卡版討論度滿低的\n",
       "沒有幾篇核卡文\n",
       "但是優惠看起來不錯啊\n",
       "...   \n",
       "30   \n",
       "目前只想到全聯\n",
       "\n",
       "其他還有什麼地方只限定中信卡？或是什麼地方有中信卡獨有的優惠？\n",
       "\n",
       "因為現...   \n",
       "35   \n",
       "[申請銀行]：中國信託 鼎極無限卡、學學鼎極卡、酷玩卡  加辦\n",
       "             ...   \n",
       "37   \n",
       "[職業類別]：公部門約僱人員\n",
       "\n",
       "[工作年資]：9個月\n",
       "\n",
       "[年齡]：23\n",
       "\n",
       "[申辦卡別]：台...   \n",
       "43   \n",
       "今天拜讀最強大信用卡一文\n",
       "忽然又想到我的天然瓦斯沒得代繳\n",
       "之前爬文類似的案件\n",
       "不是推薦用花...   \n",
       "48   \n",
       "[職業類別]：服務業\n",
       "[年齡]：24\n",
       "[年收入]：填寫400k\n",
       "[申請卡別]：花旗現金回饋...   \n",
       "62   \n",
       "\n",
       "[申請類別]：華南旅鑽JCB極緻卡 新辦 及 中信漢神百貨鈦金卡 加辦\n",
       "[職業類別]: ...   \n",
       "63   \n",
       "[申請卡別]：1.元大愛金卡\n",
       "            2.元大中華電信\n",
       "         ...   \n",
       "65   \n",
       "[職業類別]：科技製造業\n",
       "\n",
       "[年資]：5年\n",
       "\n",
       "[年齡]：32\n",
       "\n",
       "[年收入]：填1300K\n",
       "...   \n",
       "67   \n",
       "在全家刷台新信用卡，刷卡機顯示無法認證\n",
       "附近的3間全家都是這樣，磁條、晶片都試過\n",
       "看員工操...   \n",
       "72   \n",
       "[職業類別]：電子業\n",
       "\n",
       "[工作年資]：9年\n",
       "\n",
       "[年收入]：1.1M\n",
       "\n",
       "[調額卡別]：花旗超...   \n",
       "78   \n",
       "\n",
       "之前gogo卡很紅時一直想去辦\n",
       "但事情太忙都沒辦\n",
       "這次因為看到台新玫瑰新戶有803刷卡金...   \n",
       "79   \n",
       "是這樣的\n",
       "我的結帳日是12號\n",
       "有設定自動扣繳，但因為額度比較低\n",
       "\n",
       "所以在14號就先用Ric...   \n",
       "89   \n",
       "各位神大大\n",
       "早上已經用官網填完申請資料送出\n",
       "職稱寫約聘人員\n",
       "還沒寄出紙本資料但是不是連寄紙...   \n",
       "91   \n",
       "[申請卡別]：凱基 富邦 永久調額\n",
       "\n",
       "[職業類別]：校內研究助理\n",
       "\n",
       "[工作年資]：11.5...   \n",
       "108  \n",
       "[職業類別]：教育業\n",
       "[工作年資] : 7年\n",
       "[年齡]：38\n",
       "[申辦卡別]：晶緻卡\n",
       "[卡片...   \n",
       "110  \n",
       "[職業類別]：科技業工程師\n",
       "\n",
       "[目前工作年資]：6年多\n",
       "\n",
       "[年齡]：32\n",
       "\n",
       "[年收入]：1...   \n",
       "116  \n",
       "好奇問一下 是否已經有版友實際使用全家取貨付款刷台新卡了?\n",
       "是否有刷卡金額上的限制? 店員...   \n",
       "117  \n",
       "各位好\n",
       "因為最近常有大筆消費的需求\n",
       "然後因為@GOGO有無腦扣繳1.5%的回饋\n",
       "所以之前把...   \n",
       "121  \n",
       "最近需要一個行李箱，原本要辦花旗\n",
       "\n",
       "在板上爬文後想申辦gogo卡\n",
       "\n",
       "本身未擁有台新的信用卡...   \n",
       "123  \n",
       "[職業類別]：製造業\n",
       "\n",
       "[工作年資]：3個月\n",
       "\n",
       "[年齡]：24\n",
       "\n",
       "[年收入]：填400K\n",
       "...   \n",
       "127  \n",
       "[職業類別]： 金融業\n",
       "\n",
       "[工作年資]： 2年\n",
       "\n",
       "[年齡]： 25歲\n",
       "\n",
       "[年收入]： 填6...   \n",
       "130  \n",
       "\n",
       "[職業類別]：科技業\n",
       "\n",
       "[工作年資]：8個月\n",
       "\n",
       "[年齡]：27\n",
       "\n",
       "[年收入]：50萬\n",
       "\n",
       "...   \n",
       "131  \n",
       "請問一下有人試過列印etag儲值的小白單可以刷台新卡繳費嗎？\n",
       "另外，所謂刷單筆500應該沒...   \n",
       "144  \n",
       "[申請類別]：永豐世界卡申請及永久額度調高\n",
       "[職業類別]: 交通業\n",
       "[工作年資]：九年\n",
       "[...   \n",
       "151  \n",
       "\n",
       "想請問在全家FamiPort印出的停車費繳費單，能否使用台新信用卡付款？\n",
       "\n",
       "剛剛親自測試...   \n",
       "\n",
       "                                  title  \n",
       "0                  \\n[問題] GoGo卡數位通路判定\\n  \n",
       "6                \\n[心得] 花旗.玉山.富邦 調額成功\\n  \n",
       "18          \\nRe: [討論] 我的富邦在itunes被盜刷\\n  \n",
       "19            \\nRe: [情報] 全家便利商店 週末刷台新\\n  \n",
       "22            \\nRe: [情報] 全家便利商店 週末刷台新\\n  \n",
       "25        \\n[問題] 澳盛 lexus白金卡 有人非車主核卡?\\n  \n",
       "30               \\n[問題] 有什麼地方只限定刷中信卡？\\n  \n",
       "35           \\n[心得] 中信鼎極無限卡、學學鼎極、酷玩核卡\\n  \n",
       "37      \\n[心得] 台新玫瑰核卡，但收到卡片有個小trouble\\n  \n",
       "43               \\n[問題] 天然瓦斯費 用 信用卡扣繳\\n  \n",
       "48          \\n[心得] 花旗現金回饋 白金核卡 果真是射飛標\\n  \n",
       "62        \\n[心得] 華南旅鑽極緻新辦核卡~有沒有華南的八卦?\\n  \n",
       "63       \\n[心得] 元大核卡失敗/富邦/台新/中信 研替 小白\\n  \n",
       "65                \\n[心得] 台新/富邦/元大核卡成功\\n  \n",
       "67              \\n[問題] 全家刷台新顯示\"無法認證\"?\\n  \n",
       "72                  \\n[心得] 花旗 永久調額 成功\\n  \n",
       "78        \\n[問題] 新戶申辦台新卡請益(想辦玫瑰跟gogo)\\n  \n",
       "79        \\n[問題] 台新@gogo 可用額度異常 ｛已正常｝\\n  \n",
       "89           \\n[問題] 台新@gogo 官網申請 職稱問題\\n  \n",
       "91                \\n[心得] 凱基/富邦 申請永久調額\\n  \n",
       "108                       \\n[心得]樂天JCB\\n  \n",
       "110  \\n中信享想/酷玩 富邦富利 元大鑽金一卡通核卡 聯邦調額成功 \\n  \n",
       "116           \\nRe: [情報] 全家便利商店 週末刷台新\\n  \n",
       "117                  \\n[問題] 台新 調額/新辦卡\\n  \n",
       "121         \\n[問題] 台新gogo 首刷21吋行李箱長寬高\\n  \n",
       "123           \\n[心得] 台新 @GOGO悠遊御璽卡 核卡\\n  \n",
       "127             \\n[心得] 富邦數位line御璽卡 核卡\\n  \n",
       "130            \\n[心得] 小白 元大鑽金/台新gogo卡\\n  \n",
       "131           \\nRe: [情報] 全家便利商店 週末刷台新\\n  \n",
       "144        \\n[心得] 永豐世界卡加辦核卡及調額心得 (附圖)\\n  \n",
       "151                \\n[問題] 全家使用台新繳交停車費\\n  "
      ]
     },
     "execution_count": 189,
     "metadata": {},
     "output_type": "execute_result"
    }
   ],
   "source": [
    "df[df['summary'].str.contains(u'台新')]"
   ]
  },
  {
   "cell_type": "code",
   "execution_count": 190,
   "metadata": {
    "collapsed": false
   },
   "outputs": [
    {
     "name": "stdout",
     "output_type": "stream",
     "text": [
      "中信 dt         29\n",
      "link       29\n",
      "summary    29\n",
      "title      29\n",
      "dtype: int64\n",
      "花旗 dt         26\n",
      "link       26\n",
      "summary    26\n",
      "title      26\n",
      "dtype: int64\n",
      "台新 dt         31\n",
      "link       31\n",
      "summary    31\n",
      "title      31\n",
      "dtype: int64\n",
      "華南 dt         16\n",
      "link       16\n",
      "summary    16\n",
      "title      16\n",
      "dtype: int64\n",
      "星展 dt         0\n",
      "link       0\n",
      "summary    0\n",
      "title      0\n",
      "dtype: int64\n",
      "玉山 dt         13\n",
      "link       13\n",
      "summary    13\n",
      "title      13\n",
      "dtype: int64\n",
      "富邦 dt         26\n",
      "link       26\n",
      "summary    26\n",
      "title      26\n",
      "dtype: int64\n"
     ]
    }
   ],
   "source": [
    "for bank in [u'中信', u'花旗', u'台新', u'華南', u'星展', u'玉山', u'富邦']:\n",
    "    print bank, df[df['summary'].str.contains(bank)].count()"
   ]
  },
  {
   "cell_type": "code",
   "execution_count": 171,
   "metadata": {
    "collapsed": false
   },
   "outputs": [
    {
     "name": "stdout",
     "output_type": "stream",
     "text": [
      "[1, 2, 3, 4]\n"
     ]
    }
   ],
   "source": [
    "a = [1,2,3]\n",
    "a.append(4)\n",
    "print a"
   ]
  },
  {
   "cell_type": "code",
   "execution_count": 170,
   "metadata": {
    "collapsed": false
   },
   "outputs": [
    {
     "name": "stdout",
     "output_type": "stream",
     "text": [
      "[1, 2, 3, 4, 5, 6, 7, 8, 9, 10]\n",
      "[11, 10, 9, 8, 7, 6, 5, 4, 3, 2]\n",
      "2005\n",
      "https://www.ptt.cc/bbs/creditcard/index2005.html\n",
      "2004\n",
      "https://www.ptt.cc/bbs/creditcard/index2004.html\n",
      "2003\n",
      "https://www.ptt.cc/bbs/creditcard/index2003.html\n",
      "2002\n",
      "https://www.ptt.cc/bbs/creditcard/index2002.html\n",
      "2001\n",
      "https://www.ptt.cc/bbs/creditcard/index2001.html\n",
      "2000\n",
      "https://www.ptt.cc/bbs/creditcard/index2000.html\n",
      "1999\n",
      "https://www.ptt.cc/bbs/creditcard/index1999.html\n",
      "1998\n",
      "https://www.ptt.cc/bbs/creditcard/index1998.html\n"
     ]
    }
   ],
   "source": [
    "print range(1,11) # for (i = 1; i< 11; i++)\n",
    "print range(11,1,-1) # for (i = 11; i>0; i--)\n",
    "\n",
    "# https://www.ptt.cc/bbs/creditcard/index2006.html\n",
    "\n",
    "for page in range(2005,1997,-1):\n",
    "    print page    \n",
    "    ptturl = 'https://www.ptt.cc/bbs/creditcard/index{}.html'.format(page) # replace {} to page\n",
    "    print ptturl\n"
   ]
  },
  {
   "cell_type": "markdown",
   "metadata": {},
   "source": [
    "## Python Function"
   ]
  },
  {
   "cell_type": "code",
   "execution_count": 152,
   "metadata": {
    "collapsed": false
   },
   "outputs": [
    {
     "name": "stdout",
     "output_type": "stream",
     "text": [
      "8\n"
     ]
    }
   ],
   "source": [
    "def f(a, b): # f:function name; a,b:parameter\n",
    "    return a + b # return a + b\n",
    "\n",
    "print f(3,5) # a = 3, b = 5, return 8"
   ]
  },
  {
   "cell_type": "markdown",
   "metadata": {},
   "source": [
    "## Dictionary"
   ]
  },
  {
   "cell_type": "code",
   "execution_count": 153,
   "metadata": {
    "collapsed": false
   },
   "outputs": [
    {
     "name": "stdout",
     "output_type": "stream",
     "text": [
      "{'a': 100, 'c': 0.98, 'b': 'yes'}\n",
      "['a', 'c', 'b']\n",
      "[100, 0.98, 'yes']\n",
      "100\n",
      "100\n"
     ]
    }
   ],
   "source": [
    "#declare dictionary \n",
    "dic = {'a':100, 'b':\"yes\", 'c':0.98} \n",
    "print dic \n",
    "\n",
    "#get keys in dictionary \n",
    "print dic.keys() \n",
    "\n",
    "#get values in dictionary \n",
    "print dic.values() \n",
    "\n",
    "#get value of given key \n",
    "print dic['a'] \n",
    "\n",
    "#get value of given key \n",
    "print dic.get('a')"
   ]
  },
  {
   "cell_type": "code",
   "execution_count": 155,
   "metadata": {
    "collapsed": false
   },
   "outputs": [
    {
     "ename": "KeyError",
     "evalue": "'d'",
     "output_type": "error",
     "traceback": [
      "\u001b[1;31m---------------------------------------------------------------------------\u001b[0m",
      "\u001b[1;31mKeyError\u001b[0m                                  Traceback (most recent call last)",
      "\u001b[1;32m<ipython-input-155-0a00befe44a1>\u001b[0m in \u001b[0;36m<module>\u001b[1;34m()\u001b[0m\n\u001b[0;32m      1\u001b[0m \u001b[1;31m#get value of given key\u001b[0m\u001b[1;33m\u001b[0m\u001b[1;33m\u001b[0m\u001b[0m\n\u001b[1;32m----> 2\u001b[1;33m \u001b[1;32mprint\u001b[0m \u001b[0mdic\u001b[0m\u001b[1;33m[\u001b[0m\u001b[1;34m'd'\u001b[0m\u001b[1;33m]\u001b[0m\u001b[1;33m\u001b[0m\u001b[0m\n\u001b[0m\u001b[0;32m      3\u001b[0m \u001b[1;33m\u001b[0m\u001b[0m\n",
      "\u001b[1;31mKeyError\u001b[0m: 'd'"
     ]
    }
   ],
   "source": [
    "#get value of given key \n",
    "print dic['d'] "
   ]
  },
  {
   "cell_type": "code",
   "execution_count": 156,
   "metadata": {
    "collapsed": false
   },
   "outputs": [
    {
     "name": "stdout",
     "output_type": "stream",
     "text": [
      "None\n"
     ]
    }
   ],
   "source": [
    "#get value of given key \n",
    "print dic.get('d')"
   ]
  },
  {
   "cell_type": "code",
   "execution_count": 158,
   "metadata": {
    "collapsed": false
   },
   "outputs": [
    {
     "name": "stdout",
     "output_type": "stream",
     "text": [
      "{'a': 100, 'c': 0.98, 'b': 'yes', 'e': 123, 'd': 'new'}\n",
      "{'a': 100, 'c': 0.98, 'b': 'yes', 'e': 123, 'd': 'new'}\n",
      "a 100\n",
      "c 0.98\n",
      "b yes\n",
      "e 123\n",
      "d new\n"
     ]
    }
   ],
   "source": [
    "#add entry into dictionary \n",
    "dic['d'] = 'new' \n",
    "print dic \n",
    "\n",
    "#add entry into dictionary \n",
    "dic.update({'e':123}) \n",
    "print dic \n",
    "\n",
    "# iter the dictionary \n",
    "for key in dic: \n",
    "    print key, dic[key]"
   ]
  },
  {
   "cell_type": "code",
   "execution_count": null,
   "metadata": {
    "collapsed": true
   },
   "outputs": [],
   "source": []
  }
 ],
 "metadata": {
  "kernelspec": {
   "display_name": "Python [Root]",
   "language": "python",
   "name": "Python [Root]"
  },
  "language_info": {
   "codemirror_mode": {
    "name": "ipython",
    "version": 2
   },
   "file_extension": ".py",
   "mimetype": "text/x-python",
   "name": "python",
   "nbconvert_exporter": "python",
   "pygments_lexer": "ipython2",
   "version": "2.7.12"
  }
 },
 "nbformat": 4,
 "nbformat_minor": 0
}
