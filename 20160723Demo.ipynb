{
 "cells": [
  {
   "cell_type": "code",
   "execution_count": 2,
   "metadata": {
    "collapsed": false
   },
   "outputs": [],
   "source": [
    "import requests # 引用套件\n",
    "res = requests.get('https://www.ptt.cc/bbs/creditcard/index.html') # 使用get 存取\n",
    "#print(res.text)"
   ]
  },
  {
   "cell_type": "code",
   "execution_count": 13,
   "metadata": {
    "collapsed": false
   },
   "outputs": [
    {
     "name": "stdout",
     "output_type": "stream",
     "text": [
      "\n",
      "[問題] 網購玉山信用卡複數活動可合計嗎？\n",
      "\n",
      "GP01Fb\n",
      " 7/22\n",
      "4\n",
      "\n",
      "[心得] 元大鑽金J&V&M/愛金V&M/台新@gogo/中信調額 成功\n",
      "\n",
      "mltw\n",
      " 7/22\n",
      "4\n",
      "\n",
      "[情報] 台新最近優惠(加油、玫瑰、周末刷卡)\n",
      "\n",
      "conk\n",
      " 7/22\n",
      "9\n",
      "\n",
      "[閒聊] 玉山與中信的嘟嘟房停車比較\n",
      "\n",
      "bkidd\n",
      " 7/22\n",
      "18\n",
      "\n",
      "Re: [閒聊] 玉山與中信的嘟嘟房停車比較\n",
      "\n",
      "lakigo\n",
      " 7/22\n",
      "5\n",
      "\n",
      "[心得] 花旗超級紅利-核卡\n",
      "\n",
      "faekyle\n",
      " 7/22\n",
      "6\n",
      "\n",
      "\t\t\t\n",
      "\t\t\t\t(本文已被刪除) [SkyRS]\n",
      "\t\t\t\n",
      "\t\t\t\n",
      "-\n",
      " 7/22\n",
      "1\n",
      "\n",
      "[心得] 中信漢神白金 秒速核卡\n",
      "\n",
      "ga665420\n",
      " 7/22\n",
      "\n",
      "\n",
      "\t\t\t\n",
      "\t\t\t\t(本文已被刪除) [maypcc]\n",
      "\t\t\t\n",
      "\t\t\t\n",
      "-\n",
      " 7/22\n",
      "2\n",
      "\n",
      "[問題]富邦數位生活卡疑似被盜刷\n",
      "\n",
      "crazyman1109\n",
      " 7/22\n",
      "3\n",
      "\n",
      "[心得] 富邦數位火速核卡\n",
      "\n",
      "jpl227\n",
      " 7/22\n",
      "\n",
      "\n",
      "[問題]小白請問繳電信費用最划算信用卡\n",
      "\n",
      "plokiju0712\n",
      " 7/22\n",
      "1\n",
      "\n",
      "[問題] 兆豐2人看電影1人兆豐請 in89線上儲值\n",
      "\n",
      "SLII\n",
      " 7/22\n",
      "3\n",
      "\n",
      "[問題] 貢獻度一問\n",
      "\n",
      "jhce\n",
      " 7/23\n",
      "2\n",
      "\n",
      "Re: [情報] 中信直接付 新綁定優惠滿額再送中熱拿\n",
      "\n",
      "Happybuddha\n",
      " 7/23\n",
      "\n",
      "\n",
      "[問題] 花旗戀家族  台電代繳\n",
      "\n",
      "faekyle\n",
      " 7/23\n",
      "11\n",
      "\n",
      "[問題] 這樣的聯徵數要多久後才能再辦卡？\n",
      "\n",
      "s1385999\n",
      " 7/23\n",
      "5\n",
      "\n",
      "[建議] 學生 小白 無學貸\n",
      "\n",
      "sky30918\n",
      " 7/23\n",
      "3\n",
      "\n",
      "[問題] 華南或兆豐的信用卡已ACH...\n",
      "\n",
      "p007\n",
      " 7/23\n",
      "1\n",
      "\n",
      "=== 卡板板規 V5.0 === (修訂日期：2012/10/02)\n",
      "\n",
      "Heumay\n",
      "10/02\n",
      "\n",
      "\n",
      "[公告] 置底檢舉專區\n",
      "\n",
      "bboy0720\n",
      " 3/05\n",
      "爆\n",
      "\n",
      "[情報] 各家銀行0800免付費電話\n",
      "\n",
      "MoonAthenaX\n",
      " 3/09\n",
      "32\n",
      "\n",
      "Fw: [申請] creditcard調整發文權限\n",
      "\n",
      "MoonAthenaX\n",
      " 7/08\n",
      "6\n"
     ]
    }
   ],
   "source": [
    "from bs4 import BeautifulSoup\n",
    "soup = BeautifulSoup(res.text)\n",
    "for ent in soup.select('.r-ent'):\n",
    "    #print(ent)\n",
    "    print(ent.select('.title')[0].text)\n",
    "    print(ent.select('.author')[0].text)\n",
    "    print(ent.select('.date')[0].text)\n",
    "    print(ent.select('.nrec')[0].text)"
   ]
  },
  {
   "cell_type": "code",
   "execution_count": 27,
   "metadata": {
    "collapsed": false
   },
   "outputs": [
    {
     "name": "stdout",
     "output_type": "stream",
     "text": [
      "[問題] 網購玉山信用卡複數活動可合計嗎？ GP01Fb  7/22 4\n",
      "[心得] 元大鑽金J&V&M/愛金V&M/台新@gogo/中信調額 成功 mltw  7/22 4\n",
      "[情報] 台新最近優惠(加油、玫瑰、周末刷卡) conk  7/22 9\n",
      "[閒聊] 玉山與中信的嘟嘟房停車比較 bkidd  7/22 18\n",
      "Re: [閒聊] 玉山與中信的嘟嘟房停車比較 lakigo  7/22 5\n",
      "[心得] 花旗超級紅利-核卡 faekyle  7/22 6\n",
      "(本文已被刪除) [SkyRS] -  7/22 1\n",
      "[心得] 中信漢神白金 秒速核卡 ga665420  7/22 \n",
      "(本文已被刪除) [maypcc] -  7/22 2\n",
      "[問題]富邦數位生活卡疑似被盜刷 crazyman1109  7/22 3\n",
      "[心得] 富邦數位火速核卡 jpl227  7/22 \n",
      "[問題]小白請問繳電信費用最划算信用卡 plokiju0712  7/22 1\n",
      "[問題] 兆豐2人看電影1人兆豐請 in89線上儲值 SLII  7/22 3\n",
      "[問題] 貢獻度一問 jhce  7/23 2\n",
      "Re: [情報] 中信直接付 新綁定優惠滿額再送中熱拿 Happybuddha  7/23 \n",
      "[問題] 花旗戀家族  台電代繳 faekyle  7/23 11\n",
      "[問題] 這樣的聯徵數要多久後才能再辦卡？ s1385999  7/23 5\n",
      "[建議] 學生 小白 無學貸 sky30918  7/23 3\n",
      "[問題] 華南或兆豐的信用卡已ACH... p007  7/23 1\n",
      "=== 卡板板規 V5.0 === (修訂日期：2012/10/02) Heumay 10/02 \n",
      "[公告] 置底檢舉專區 bboy0720  3/05 爆\n",
      "[情報] 各家銀行0800免付費電話 MoonAthenaX  3/09 32\n",
      "Fw: [申請] creditcard調整發文權限 MoonAthenaX  7/08 6\n"
     ]
    }
   ],
   "source": [
    "from bs4 import BeautifulSoup\n",
    "soup = BeautifulSoup(res.text)\n",
    "for ent in soup.select('.r-ent'):\n",
    "    #print(ent)\n",
    "    title = ent.select('.title')[0].text.strip()\n",
    "    author = ent.select('.author')[0].text\n",
    "    date = ent.select('.date')[0].text\n",
    "    nrec = ent.select('.nrec')[0].text\n",
    "    print title, author, date, nrec"
   ]
  },
  {
   "cell_type": "markdown",
   "metadata": {},
   "source": [
    "## Strip"
   ]
  },
  {
   "cell_type": "code",
   "execution_count": 16,
   "metadata": {
    "collapsed": false
   },
   "outputs": [
    {
     "name": "stdout",
     "output_type": "stream",
     "text": [
      "this is a line \n",
      " with newline\n",
      " \n"
     ]
    }
   ],
   "source": [
    "s = 'this is a line \\n with newline\\n '\n",
    "print s"
   ]
  },
  {
   "cell_type": "code",
   "execution_count": 18,
   "metadata": {
    "collapsed": false
   },
   "outputs": [
    {
     "name": "stdout",
     "output_type": "stream",
     "text": [
      " \t string test \t \n",
      "\n",
      "\r",
      " \t string test \t \n",
      "\n",
      "\r\n",
      "string test \t \n",
      "\n",
      "\r",
      " \t string test\n",
      " \t string test \t \n",
      "\n",
      "\r",
      " \t string test\n",
      "string test \t \n",
      "\n",
      "\r",
      " \t string test \t \n",
      "\n",
      "\r\n"
     ]
    }
   ],
   "source": [
    "s = \" \\t string test \\t \\n\\n\\r\" ' \\t string test \\t \\n\\n\\r' \n",
    "print s\n",
    "print s.strip() # remove space, \\t, \\n \\r from both side\n",
    "print s.rstrip() # remove space, \\t, \\n \\r from right side\n",
    "print s.lstrip() # remove space, \\t, \\n \\r from left side"
   ]
  },
  {
   "cell_type": "markdown",
   "metadata": {},
   "source": [
    "## For Loop"
   ]
  },
  {
   "cell_type": "code",
   "execution_count": 3,
   "metadata": {
    "collapsed": false
   },
   "outputs": [
    {
     "name": "stdout",
     "output_type": "stream",
     "text": [
      "2\n",
      "4\n",
      "6\n",
      "8\n",
      "10\n"
     ]
    }
   ],
   "source": [
    "a = [1,2,3,4,5]\n",
    "for qoo in a: # : is to tell it starts a for loop\n",
    "    print(qoo*2) # use indent to tell this code is belong to for loop"
   ]
  },
  {
   "cell_type": "markdown",
   "metadata": {},
   "source": [
    "## BeautifulSoup 範例"
   ]
  },
  {
   "cell_type": "code",
   "execution_count": 20,
   "metadata": {
    "collapsed": false
   },
   "outputs": [
    {
     "name": "stdout",
     "output_type": "stream",
     "text": [
      "  Hello World This is link1 This is link2  \n"
     ]
    }
   ],
   "source": [
    "from bs4 import BeautifulSoup \n",
    "html_sample = ' \\\n",
    "<html> \\\n",
    " <body> \\\n",
    " <h1 id=\"title\">Hello World</h1> \\\n",
    " <a href=\"#\" class=\"link\">This is link1</a> \\\n",
    " <a href=\"# link2\" class=\"link\">This is link2</a> \\\n",
    " </body> \\\n",
    " </html>'\n",
    "\n",
    "soup = BeautifulSoup(html_sample)\n",
    "print soup.text\n"
   ]
  },
  {
   "cell_type": "code",
   "execution_count": 24,
   "metadata": {
    "collapsed": false
   },
   "outputs": [
    {
     "name": "stdout",
     "output_type": "stream",
     "text": [
      "<h1 id=\"title\">Hello World</h1>\n"
     ]
    }
   ],
   "source": [
    "print soup.select('h1')[0]"
   ]
  },
  {
   "cell_type": "code",
   "execution_count": 25,
   "metadata": {
    "collapsed": false
   },
   "outputs": [
    {
     "name": "stdout",
     "output_type": "stream",
     "text": [
      "<a class=\"link\" href=\"#\">This is link1</a>\n",
      "<a class=\"link\" href=\"# link2\">This is link2</a>\n"
     ]
    }
   ],
   "source": [
    "print soup.select('a')[0]\n",
    "print soup.select('a')[1]"
   ]
  },
  {
   "cell_type": "markdown",
   "metadata": {},
   "source": [
    "## 清理資料"
   ]
  },
  {
   "cell_type": "code",
   "execution_count": 36,
   "metadata": {
    "collapsed": false
   },
   "outputs": [
    {
     "name": "stdout",
     "output_type": "stream",
     "text": [
      "https://www.ptt.cc/bbs/creditcard/M.1469168547.A.238.html\n",
      "https://www.ptt.cc/bbs/creditcard/M.1469169713.A.695.html\n",
      "https://www.ptt.cc/bbs/creditcard/M.1469177947.A.4C9.html\n",
      "https://www.ptt.cc/bbs/creditcard/M.1469180146.A.1D0.html\n",
      "https://www.ptt.cc/bbs/creditcard/M.1469187597.A.5C1.html\n",
      "https://www.ptt.cc/bbs/creditcard/M.1469190142.A.72A.html\n",
      "https://www.ptt.cc/bbs/creditcard/M.1469194941.A.662.html\n",
      "https://www.ptt.cc/bbs/creditcard/M.1469198026.A.433.html\n",
      "https://www.ptt.cc/bbs/creditcard/M.1469200840.A.FF1.html\n",
      "https://www.ptt.cc/bbs/creditcard/M.1469201260.A.CF7.html\n",
      "https://www.ptt.cc/bbs/creditcard/M.1469201522.A.B02.html\n",
      "https://www.ptt.cc/bbs/creditcard/M.1469206113.A.6D1.html\n",
      "https://www.ptt.cc/bbs/creditcard/M.1469206545.A.8FD.html\n",
      "https://www.ptt.cc/bbs/creditcard/M.1469207083.A.856.html\n",
      "https://www.ptt.cc/bbs/creditcard/M.1469211729.A.6B5.html\n",
      "https://www.ptt.cc/bbs/creditcard/M.1469216666.A.587.html\n",
      "https://www.ptt.cc/bbs/creditcard/M.1469217485.A.69D.html\n",
      "https://www.ptt.cc/bbs/creditcard/M.1469242361.A.BEB.html\n",
      "https://www.ptt.cc/bbs/creditcard/M.1349168810.A.0FE.html\n",
      "https://www.ptt.cc/bbs/creditcard/M.1425488177.A.59D.html\n",
      "https://www.ptt.cc/bbs/creditcard/M.1425873650.A.F81.html\n",
      "https://www.ptt.cc/bbs/creditcard/M.1467964769.A.FC6.html\n"
     ]
    }
   ],
   "source": [
    "#抓取文章列表原始碼\n",
    "import requests\n",
    "from bs4 import BeautifulSoup\n",
    "section = requests.get('https://www.ptt.cc/bbs/creditcard/index.html')\n",
    "\n",
    "#將資料讀取至BeautifulSoup\n",
    "soup = BeautifulSoup(section.text)\n",
    "\n",
    "domain = 'https://www.ptt.cc'\n",
    "\n",
    "#分別抓取各標籤元素\n",
    "for ent in soup.select('.r-ent'): \n",
    "    if len(ent.select('a')) > 0:\n",
    "        print domain + ent.select('a')[0]['href']\n",
    "    "
   ]
  },
  {
   "cell_type": "markdown",
   "metadata": {},
   "source": [
    "## 抓取內文"
   ]
  },
  {
   "cell_type": "code",
   "execution_count": 47,
   "metadata": {
    "collapsed": false
   },
   "outputs": [
    {
     "name": "stdout",
     "output_type": "stream",
     "text": [
      "\n",
      "\n",
      "因為本身有嘟嘟房停車需求，且常常進進出出停很多次，所以以前是用玉山醫師正附卡\n",
      "\n",
      "只要前期有新增一般消費後，下期即可抵市區嘟嘟房停車3小時，每天正附卡都可各用一次\n",
      "\n",
      "\n",
      "但是自 6月1日玉山公告更改規定後，一直積極尋找替代方案。\n",
      "\n",
      "目前我得到的結論如下：\n",
      "\n",
      "1、台新賓士御璽卡最划算(一樣新增一般消費即可抵3小時)--又不用年費，\n",
      "\n",
      "   但前提要有賓士車…\n",
      "\n",
      "2、新光無限卡(前兩期滿1萬可抵3小時)\n",
      "\n",
      "3、玉山醫師卡與世界卡(前期滿5000可抵3小時)\n",
      "\n",
      "4、中國信託鼎極卡、最划算就紙風車與學學卡(前期滿5000可抵3小時)\n",
      "\n",
      "\n",
      "\n",
      "經詢問玉山銀的客服後表示：玉山也是歸戶出帳單，只要歸戶帳單滿5000元即可使用\n",
      "\n",
      "所以你不管您有幾張玉山卡，只要帳單滿5000元，即可使用，但同時擁有世界卡與醫\n",
      "\n",
      "師卡，或是有正附卡，則只能擇其中一張每天使用一次。\n",
      "\n",
      "(也就是兩張卡一天只能用一次嘟嘟房)。我有再三確認客服，與世界卡說明書不同\n",
      "\n",
      "但客服也很肯定回答我，他們是歸戶可使用沒錯！\n",
      "\n",
      "\n",
      "\n",
      "同樣這條件，如果中國信託同時擁有兩張鼎極卡(學學與紙風車)。一樣帳單歸戶滿5000元\n",
      "\n",
      "也是歸戶後，所有鼎極卡可擇一使用。\n",
      "\n",
      "所以，兩家銀行都算歸戶，都只能擇一張鼎極卡或世界卡(醫師卡)使用\n",
      "\n",
      "價值相等！\n",
      "--\n",
      "\n"
     ]
    }
   ],
   "source": [
    "import requests\n",
    "res = requests.get('https://www.ptt.cc/bbs/creditcard/M.1469180146.A.1D0.html')\n",
    "#print res.text\n",
    "\n",
    "from bs4 import BeautifulSoup \n",
    "soup = BeautifulSoup(res.text)\n",
    "print soup.select('#main-content')[0].contents[4] # id => #"
   ]
  },
  {
   "cell_type": "code",
   "execution_count": 75,
   "metadata": {
    "collapsed": false
   },
   "outputs": [
    {
     "name": "stdout",
     "output_type": "stream",
     "text": [
      "今早我想說要持台新卡去全家刷燃料費， 想說先撥客服詢問有限定哪張卡別嗎?? 客服回覆我不限卡服，但問我有需要登錄嗎?? 我說不用，可我心裡想說我不是很早登錄嗎?? 我就去網路上找下登錄網頁， 突然發現幾個優惠的事項， 且發現新增2016/7~8全家便利商店【週末刷台新】 我記得7/1沒有這個，原以為是登錄VISA卡刷500贈送50元刷卡金 還好有事前有找登錄。 若你之前只有登錄VISA卡，沒有登錄週末刷台新，記得要補登錄喔!! 新增部份： 中油刷玫瑰/太陽卡享0.5%現金回饋 2016/07/15~2016/10/15 2016/07/20~2016/10/20 2016/7/15-10/15於中油直營加油站刷玫瑰/太陽卡，單筆滿NT500元(含)以上， 登錄後加油消費額外享0.5%刷卡金回饋。 *正附卡合作計算，每戶活動期間回饋上限NT300元刷卡金。 詳情活動：https://goo.gl/WzG2ZB 可惜不是全國加油站.... 本活動回饋限於台灣中油網站公告之直營站為準 玫瑰卡限定! 83玫瑰女生節，指定通路享17%回饋 2016/08/03~2016/08/03 2016/07/05~2016/08/15 2016/8/3於新光三越、華航、Yahoo奇摩購物中心/超級商城/拍賣、PayEasy、17Life網站 消費刷玫瑰卡滿萬最高一筆享17%現金回饋！ (登錄活動請點我!) 【再加碼】該筆滿3萬元再抽華航台北-紐約豪華經濟艙來回機票1張(共4張) 詳情活動：https://goo.gl/WcGzqz (專屬名單限定) 信用卡額度調升登錄 2016/07/16~2016/07/31 2016/07/16~2016/07/31 (專屬名單限定)【限時好康!刷卡金您獨享】7/22~7/28限定客群加碼 2016/07/22~2016/07/28 2016/07/22~2016/07/28 參考看看 \n"
     ]
    }
   ],
   "source": [
    "\n",
    "import requests\n",
    "res = requests.get('https://www.ptt.cc/bbs/creditcard/M.1469177947.A.4C9.html')\n",
    "#print res.text\n",
    "\n",
    "from bs4 import BeautifulSoup \n",
    "soup = BeautifulSoup(res.text)\n",
    "pttcontents = soup.select('#main-content')[0] # id => #\n",
    "for i in pttcontents.select('.article-metaline'): # remove author, time, title\n",
    "    i.decompose()\n",
    "for i in pttcontents.select('.article-meta-value'):# remove board\n",
    "    i.decompose() \n",
    "for i in pttcontents.select('.article-meta-tag'):# remove board\n",
    "    i.decompose()   \n",
    "for i in pttcontents.select('.push'): # remove push\n",
    "    i.decompose()\n",
    "#print pttcontents.text\n",
    "\n",
    "import re\n",
    "m = re.search('(.*?)--(.*?)', ' '.join(pttcontents.text.split()))\n",
    "print m.group(1)\n"
   ]
  },
  {
   "cell_type": "markdown",
   "metadata": {},
   "source": [
    "## Concatenates String"
   ]
  },
  {
   "cell_type": "code",
   "execution_count": 34,
   "metadata": {
    "collapsed": false
   },
   "outputs": [
    {
     "data": {
      "text/plain": [
       "'helloworld'"
      ]
     },
     "execution_count": 34,
     "metadata": {},
     "output_type": "execute_result"
    }
   ],
   "source": [
    "a = 'hello'\n",
    "b = 'world'\n",
    "a + b"
   ]
  },
  {
   "cell_type": "markdown",
   "metadata": {},
   "source": [
    "## List"
   ]
  },
  {
   "cell_type": "code",
   "execution_count": 49,
   "metadata": {
    "collapsed": false
   },
   "outputs": [
    {
     "name": "stdout",
     "output_type": "stream",
     "text": [
      "5\n",
      "0\n",
      "[3, 4, 5]\n"
     ]
    }
   ],
   "source": [
    "a = [1,2,3,4,5]\n",
    "b = []\n",
    "print len(a)\n",
    "print len(b)\n",
    "\n",
    "print a[2:]"
   ]
  },
  {
   "cell_type": "markdown",
   "metadata": {},
   "source": [
    "## 時間轉換"
   ]
  },
  {
   "cell_type": "code",
   "execution_count": 79,
   "metadata": {
    "collapsed": false
   },
   "outputs": [
    {
     "name": "stdout",
     "output_type": "stream",
     "text": [
      "2016-07-23 11:54:54.774000\n",
      "<type 'datetime.datetime'>\n",
      "2016-07-23\n",
      "<type 'str'>\n"
     ]
    }
   ],
   "source": [
    "#引用套件\n",
    "from datetime import datetime \n",
    "\n",
    "#將時間轉變為字串\n",
    "currenttime = datetime.now()\n",
    "print currenttime\n",
    "print type(currenttime)\n",
    "\n",
    "print currenttime.strftime(\"%Y-%m-%d\")  # strftime => convert from datetime to string\n",
    "print type( currenttime.strftime(\"%Y-%m-%d\"))\n"
   ]
  },
  {
   "cell_type": "code",
   "execution_count": 82,
   "metadata": {
    "collapsed": false
   },
   "outputs": [
    {
     "name": "stdout",
     "output_type": "stream",
     "text": [
      "2016-07-24 11:54:54.774000\n",
      "2016-07-22 11:54:54.774000\n",
      "1 day, 0:00:00\n"
     ]
    }
   ],
   "source": [
    "from datetime import timedelta\n",
    "print currenttime + timedelta(days = 1)\n",
    "print currenttime + timedelta(days = -1)\n",
    "\n",
    "newtime = currenttime + timedelta(days = 1)\n",
    "print newtime - currenttime"
   ]
  },
  {
   "cell_type": "code",
   "execution_count": 83,
   "metadata": {
    "collapsed": false
   },
   "outputs": [
    {
     "ename": "TypeError",
     "evalue": "unsupported operand type(s) for -: 'str' and 'str'",
     "output_type": "error",
     "traceback": [
      "\u001b[1;31m---------------------------------------------------------------------------\u001b[0m",
      "\u001b[1;31mTypeError\u001b[0m                                 Traceback (most recent call last)",
      "\u001b[1;32m<ipython-input-83-9530b2e2513b>\u001b[0m in \u001b[0;36m<module>\u001b[1;34m()\u001b[0m\n\u001b[1;32m----> 1\u001b[1;33m \u001b[1;34m'2016-07-11'\u001b[0m \u001b[1;33m-\u001b[0m \u001b[1;34m'2016-07-02'\u001b[0m\u001b[1;33m\u001b[0m\u001b[0m\n\u001b[0m",
      "\u001b[1;31mTypeError\u001b[0m: unsupported operand type(s) for -: 'str' and 'str'"
     ]
    }
   ],
   "source": [
    "'2016-07-11' - '2016-07-02'"
   ]
  },
  {
   "cell_type": "code",
   "execution_count": 85,
   "metadata": {
    "collapsed": false
   },
   "outputs": [
    {
     "name": "stdout",
     "output_type": "stream",
     "text": [
      "2014-05-03 14:00:00\n"
     ]
    }
   ],
   "source": [
    "#將字串轉變為時間\n",
    "a = '2014-05-03 14:00' \n",
    "print datetime.strptime(a, \"%Y-%m-%d %H:%M\") # convert string to time\n",
    "converted_time =  datetime.strptime(a, \"%Y-%m-%d %H:%M\") "
   ]
  },
  {
   "cell_type": "code",
   "execution_count": 87,
   "metadata": {
    "collapsed": false
   },
   "outputs": [
    {
     "name": "stdout",
     "output_type": "stream",
     "text": [
      "-812 days, 2:05:05.226000\n"
     ]
    }
   ],
   "source": [
    "print converted_time - currenttime"
   ]
  },
  {
   "cell_type": "code",
   "execution_count": 92,
   "metadata": {
    "collapsed": false
   },
   "outputs": [
    {
     "name": "stdout",
     "output_type": "stream",
     "text": [
      "2016-07-22 17:35:43\n"
     ]
    }
   ],
   "source": [
    "import requests\n",
    "res = requests.get('https://www.ptt.cc/bbs/creditcard/M.1469180146.A.1D0.html')\n",
    "#print res.text\n",
    "\n",
    "from bs4 import BeautifulSoup \n",
    "soup = BeautifulSoup(res.text)\n",
    "dt =  soup.select('.article-meta-value')[3].text\n",
    "print datetime.strptime(dt, '%a %b %d %H:%M:%S %Y')"
   ]
  },
  {
   "cell_type": "markdown",
   "metadata": {},
   "source": [
    "## DateTime Mapping Table\n",
    "- https://docs.python.org/2/library/datetime.html"
   ]
  },
  {
   "cell_type": "code",
   "execution_count": null,
   "metadata": {
    "collapsed": true
   },
   "outputs": [],
   "source": []
  }
 ],
 "metadata": {
  "kernelspec": {
   "display_name": "Python [Root]",
   "language": "python",
   "name": "Python [Root]"
  },
  "language_info": {
   "codemirror_mode": {
    "name": "ipython",
    "version": 2
   },
   "file_extension": ".py",
   "mimetype": "text/x-python",
   "name": "python",
   "nbconvert_exporter": "python",
   "pygments_lexer": "ipython2",
   "version": "2.7.12"
  }
 },
 "nbformat": 4,
 "nbformat_minor": 0
}
