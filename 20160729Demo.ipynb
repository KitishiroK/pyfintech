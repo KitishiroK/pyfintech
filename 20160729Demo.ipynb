{
 "cells": [
  {
   "cell_type": "markdown",
   "metadata": {},
   "source": [
    "## Pandas IO"
   ]
  },
  {
   "cell_type": "code",
   "execution_count": 3,
   "metadata": {
    "collapsed": false
   },
   "outputs": [
    {
     "data": {
      "text/html": [
       "<div>\n",
       "<table border=\"1\" class=\"dataframe\">\n",
       "  <thead>\n",
       "    <tr style=\"text-align: right;\">\n",
       "      <th></th>\n",
       "      <th>Date</th>\n",
       "      <th>Open</th>\n",
       "      <th>High</th>\n",
       "      <th>Low</th>\n",
       "      <th>Close</th>\n",
       "      <th>Volume</th>\n",
       "      <th>Adj Close</th>\n",
       "    </tr>\n",
       "  </thead>\n",
       "  <tbody>\n",
       "    <tr>\n",
       "      <th>0</th>\n",
       "      <td>2016-07-28</td>\n",
       "      <td>175.0</td>\n",
       "      <td>176.5</td>\n",
       "      <td>173.0</td>\n",
       "      <td>176.5</td>\n",
       "      <td>31071000</td>\n",
       "      <td>176.5</td>\n",
       "    </tr>\n",
       "    <tr>\n",
       "      <th>1</th>\n",
       "      <td>2016-07-27</td>\n",
       "      <td>175.0</td>\n",
       "      <td>176.0</td>\n",
       "      <td>174.5</td>\n",
       "      <td>175.0</td>\n",
       "      <td>34117000</td>\n",
       "      <td>175.0</td>\n",
       "    </tr>\n",
       "    <tr>\n",
       "      <th>2</th>\n",
       "      <td>2016-07-26</td>\n",
       "      <td>172.0</td>\n",
       "      <td>173.0</td>\n",
       "      <td>171.5</td>\n",
       "      <td>173.0</td>\n",
       "      <td>32685000</td>\n",
       "      <td>173.0</td>\n",
       "    </tr>\n",
       "    <tr>\n",
       "      <th>3</th>\n",
       "      <td>2016-07-25</td>\n",
       "      <td>172.0</td>\n",
       "      <td>173.0</td>\n",
       "      <td>169.0</td>\n",
       "      <td>171.5</td>\n",
       "      <td>27145000</td>\n",
       "      <td>171.5</td>\n",
       "    </tr>\n",
       "    <tr>\n",
       "      <th>4</th>\n",
       "      <td>2016-07-22</td>\n",
       "      <td>172.0</td>\n",
       "      <td>172.0</td>\n",
       "      <td>170.5</td>\n",
       "      <td>171.0</td>\n",
       "      <td>28504000</td>\n",
       "      <td>171.0</td>\n",
       "    </tr>\n",
       "    <tr>\n",
       "      <th>5</th>\n",
       "      <td>2016-07-21</td>\n",
       "      <td>171.0</td>\n",
       "      <td>172.0</td>\n",
       "      <td>170.0</td>\n",
       "      <td>172.0</td>\n",
       "      <td>33130000</td>\n",
       "      <td>172.0</td>\n",
       "    </tr>\n",
       "    <tr>\n",
       "      <th>6</th>\n",
       "      <td>2016-07-20</td>\n",
       "      <td>170.0</td>\n",
       "      <td>170.5</td>\n",
       "      <td>169.0</td>\n",
       "      <td>170.0</td>\n",
       "      <td>38053000</td>\n",
       "      <td>170.0</td>\n",
       "    </tr>\n",
       "    <tr>\n",
       "      <th>7</th>\n",
       "      <td>2016-07-19</td>\n",
       "      <td>170.5</td>\n",
       "      <td>170.5</td>\n",
       "      <td>169.0</td>\n",
       "      <td>170.5</td>\n",
       "      <td>42456000</td>\n",
       "      <td>170.5</td>\n",
       "    </tr>\n",
       "    <tr>\n",
       "      <th>8</th>\n",
       "      <td>2016-07-18</td>\n",
       "      <td>168.0</td>\n",
       "      <td>170.0</td>\n",
       "      <td>168.0</td>\n",
       "      <td>169.5</td>\n",
       "      <td>24749000</td>\n",
       "      <td>169.5</td>\n",
       "    </tr>\n",
       "    <tr>\n",
       "      <th>9</th>\n",
       "      <td>2016-07-15</td>\n",
       "      <td>169.5</td>\n",
       "      <td>169.5</td>\n",
       "      <td>169.5</td>\n",
       "      <td>169.5</td>\n",
       "      <td>41000</td>\n",
       "      <td>169.5</td>\n",
       "    </tr>\n",
       "  </tbody>\n",
       "</table>\n",
       "</div>"
      ],
      "text/plain": [
       "         Date   Open   High    Low  Close    Volume  Adj Close\n",
       "0  2016-07-28  175.0  176.5  173.0  176.5  31071000      176.5\n",
       "1  2016-07-27  175.0  176.0  174.5  175.0  34117000      175.0\n",
       "2  2016-07-26  172.0  173.0  171.5  173.0  32685000      173.0\n",
       "3  2016-07-25  172.0  173.0  169.0  171.5  27145000      171.5\n",
       "4  2016-07-22  172.0  172.0  170.5  171.0  28504000      171.0\n",
       "5  2016-07-21  171.0  172.0  170.0  172.0  33130000      172.0\n",
       "6  2016-07-20  170.0  170.5  169.0  170.0  38053000      170.0\n",
       "7  2016-07-19  170.5  170.5  169.0  170.5  42456000      170.5\n",
       "8  2016-07-18  168.0  170.0  168.0  169.5  24749000      169.5\n",
       "9  2016-07-15  169.5  169.5  169.5  169.5     41000      169.5"
      ]
     },
     "execution_count": 3,
     "metadata": {},
     "output_type": "execute_result"
    }
   ],
   "source": [
    "import pandas # Read pandas package into python\n",
    "df = pandas.read_csv('C:\\\\Users\\\\Student\\\\tw2330.csv') # read data from tw2330.csv to DataFrame\n",
    "df.head() # Read the first 5 rows\n",
    "df.head(10) # Read the first 10 rows"
   ]
  },
  {
   "cell_type": "code",
   "execution_count": 6,
   "metadata": {
    "collapsed": false
   },
   "outputs": [
    {
     "data": {
      "text/html": [
       "<div>\n",
       "<table border=\"1\" class=\"dataframe\">\n",
       "  <thead>\n",
       "    <tr style=\"text-align: right;\">\n",
       "      <th></th>\n",
       "      <th>Dates</th>\n",
       "      <th>Open</th>\n",
       "      <th>High</th>\n",
       "      <th>Low</th>\n",
       "      <th>Close</th>\n",
       "      <th>Volume</th>\n",
       "      <th>Adj Close</th>\n",
       "    </tr>\n",
       "  </thead>\n",
       "  <tbody>\n",
       "    <tr>\n",
       "      <th>0</th>\n",
       "      <td>2016-07-28</td>\n",
       "      <td>175.0</td>\n",
       "      <td>176.5</td>\n",
       "      <td>173.0</td>\n",
       "      <td>176.5</td>\n",
       "      <td>31071000</td>\n",
       "      <td>176.5</td>\n",
       "    </tr>\n",
       "    <tr>\n",
       "      <th>1</th>\n",
       "      <td>2016-07-27</td>\n",
       "      <td>175.0</td>\n",
       "      <td>176.0</td>\n",
       "      <td>174.5</td>\n",
       "      <td>175.0</td>\n",
       "      <td>34117000</td>\n",
       "      <td>175.0</td>\n",
       "    </tr>\n",
       "    <tr>\n",
       "      <th>2</th>\n",
       "      <td>2016-07-26</td>\n",
       "      <td>172.0</td>\n",
       "      <td>173.0</td>\n",
       "      <td>171.5</td>\n",
       "      <td>173.0</td>\n",
       "      <td>32685000</td>\n",
       "      <td>173.0</td>\n",
       "    </tr>\n",
       "    <tr>\n",
       "      <th>3</th>\n",
       "      <td>2016-07-25</td>\n",
       "      <td>172.0</td>\n",
       "      <td>173.0</td>\n",
       "      <td>169.0</td>\n",
       "      <td>171.5</td>\n",
       "      <td>27145000</td>\n",
       "      <td>171.5</td>\n",
       "    </tr>\n",
       "    <tr>\n",
       "      <th>4</th>\n",
       "      <td>2016-07-22</td>\n",
       "      <td>172.0</td>\n",
       "      <td>172.0</td>\n",
       "      <td>170.5</td>\n",
       "      <td>171.0</td>\n",
       "      <td>28504000</td>\n",
       "      <td>171.0</td>\n",
       "    </tr>\n",
       "    <tr>\n",
       "      <th>5</th>\n",
       "      <td>2016-07-21</td>\n",
       "      <td>171.0</td>\n",
       "      <td>172.0</td>\n",
       "      <td>170.0</td>\n",
       "      <td>172.0</td>\n",
       "      <td>33130000</td>\n",
       "      <td>172.0</td>\n",
       "    </tr>\n",
       "    <tr>\n",
       "      <th>6</th>\n",
       "      <td>2016-07-20</td>\n",
       "      <td>170.0</td>\n",
       "      <td>170.5</td>\n",
       "      <td>169.0</td>\n",
       "      <td>170.0</td>\n",
       "      <td>38053000</td>\n",
       "      <td>170.0</td>\n",
       "    </tr>\n",
       "    <tr>\n",
       "      <th>7</th>\n",
       "      <td>2016-07-19</td>\n",
       "      <td>170.5</td>\n",
       "      <td>170.5</td>\n",
       "      <td>169.0</td>\n",
       "      <td>170.5</td>\n",
       "      <td>42456000</td>\n",
       "      <td>170.5</td>\n",
       "    </tr>\n",
       "    <tr>\n",
       "      <th>8</th>\n",
       "      <td>2016-07-18</td>\n",
       "      <td>168.0</td>\n",
       "      <td>170.0</td>\n",
       "      <td>168.0</td>\n",
       "      <td>169.5</td>\n",
       "      <td>24749000</td>\n",
       "      <td>169.5</td>\n",
       "    </tr>\n",
       "    <tr>\n",
       "      <th>9</th>\n",
       "      <td>2016-07-15</td>\n",
       "      <td>169.5</td>\n",
       "      <td>169.5</td>\n",
       "      <td>169.5</td>\n",
       "      <td>169.5</td>\n",
       "      <td>41000</td>\n",
       "      <td>169.5</td>\n",
       "    </tr>\n",
       "  </tbody>\n",
       "</table>\n",
       "</div>"
      ],
      "text/plain": [
       "       Dates   Open   High    Low  Close    Volume  Adj Close\n",
       "0 2016-07-28  175.0  176.5  173.0  176.5  31071000      176.5\n",
       "1 2016-07-27  175.0  176.0  174.5  175.0  34117000      175.0\n",
       "2 2016-07-26  172.0  173.0  171.5  173.0  32685000      173.0\n",
       "3 2016-07-25  172.0  173.0  169.0  171.5  27145000      171.5\n",
       "4 2016-07-22  172.0  172.0  170.5  171.0  28504000      171.0\n",
       "5 2016-07-21  171.0  172.0  170.0  172.0  33130000      172.0\n",
       "6 2016-07-20  170.0  170.5  169.0  170.0  38053000      170.0\n",
       "7 2016-07-19  170.5  170.5  169.0  170.5  42456000      170.5\n",
       "8 2016-07-18  168.0  170.0  168.0  169.5  24749000      169.5\n",
       "9 2016-07-15  169.5  169.5  169.5  169.5     41000      169.5"
      ]
     },
     "execution_count": 6,
     "metadata": {},
     "output_type": "execute_result"
    }
   ],
   "source": [
    "import pandas # Read pandas package into python\n",
    "df = pandas.read_csv('C:\\\\Users\\\\Student\\\\tw2330.csv', \\\n",
    "                     parse_dates={'Dates': [0]}) # Transform date column into date type\n",
    "df.head() # Read the first 5 rows\n",
    "df.head(10) # Read the first 10 rows"
   ]
  },
  {
   "cell_type": "code",
   "execution_count": null,
   "metadata": {
    "collapsed": true
   },
   "outputs": [],
   "source": [
    "import pandas\n",
    "df = pandas.io.data.DataReader(name='2330.TW', data_source='yahoo',start='2000-1-1')"
   ]
  },
  {
   "cell_type": "code",
   "execution_count": 38,
   "metadata": {
    "collapsed": false
   },
   "outputs": [
    {
     "data": {
      "text/html": [
       "<div>\n",
       "<table border=\"1\" class=\"dataframe\">\n",
       "  <thead>\n",
       "    <tr style=\"text-align: right;\">\n",
       "      <th></th>\n",
       "      <th>Open</th>\n",
       "      <th>High</th>\n",
       "      <th>Low</th>\n",
       "      <th>Close</th>\n",
       "      <th>Volume</th>\n",
       "      <th>Adj Close</th>\n",
       "    </tr>\n",
       "    <tr>\n",
       "      <th>Date</th>\n",
       "      <th></th>\n",
       "      <th></th>\n",
       "      <th></th>\n",
       "      <th></th>\n",
       "      <th></th>\n",
       "      <th></th>\n",
       "    </tr>\n",
       "  </thead>\n",
       "  <tbody>\n",
       "    <tr>\n",
       "      <th>2000-01-03</th>\n",
       "      <td>104.874997</td>\n",
       "      <td>112.499998</td>\n",
       "      <td>101.687501</td>\n",
       "      <td>111.937502</td>\n",
       "      <td>133949200</td>\n",
       "      <td>3.679885</td>\n",
       "    </tr>\n",
       "    <tr>\n",
       "      <th>2000-01-04</th>\n",
       "      <td>108.250001</td>\n",
       "      <td>110.625002</td>\n",
       "      <td>101.187503</td>\n",
       "      <td>102.500003</td>\n",
       "      <td>128094400</td>\n",
       "      <td>3.369633</td>\n",
       "    </tr>\n",
       "    <tr>\n",
       "      <th>2000-01-05</th>\n",
       "      <td>103.749998</td>\n",
       "      <td>110.562497</td>\n",
       "      <td>103.000001</td>\n",
       "      <td>103.999997</td>\n",
       "      <td>194580400</td>\n",
       "      <td>3.418944</td>\n",
       "    </tr>\n",
       "    <tr>\n",
       "      <th>2000-01-06</th>\n",
       "      <td>106.124999</td>\n",
       "      <td>106.999999</td>\n",
       "      <td>94.999998</td>\n",
       "      <td>94.999998</td>\n",
       "      <td>191993200</td>\n",
       "      <td>3.123074</td>\n",
       "    </tr>\n",
       "    <tr>\n",
       "      <th>2000-01-07</th>\n",
       "      <td>96.499999</td>\n",
       "      <td>101.000002</td>\n",
       "      <td>95.500003</td>\n",
       "      <td>99.500001</td>\n",
       "      <td>115183600</td>\n",
       "      <td>3.271009</td>\n",
       "    </tr>\n",
       "  </tbody>\n",
       "</table>\n",
       "</div>"
      ],
      "text/plain": [
       "                  Open        High         Low       Close     Volume  \\\n",
       "Date                                                                    \n",
       "2000-01-03  104.874997  112.499998  101.687501  111.937502  133949200   \n",
       "2000-01-04  108.250001  110.625002  101.187503  102.500003  128094400   \n",
       "2000-01-05  103.749998  110.562497  103.000001  103.999997  194580400   \n",
       "2000-01-06  106.124999  106.999999   94.999998   94.999998  191993200   \n",
       "2000-01-07   96.499999  101.000002   95.500003   99.500001  115183600   \n",
       "\n",
       "            Adj Close  \n",
       "Date                   \n",
       "2000-01-03   3.679885  \n",
       "2000-01-04   3.369633  \n",
       "2000-01-05   3.418944  \n",
       "2000-01-06   3.123074  \n",
       "2000-01-07   3.271009  "
      ]
     },
     "execution_count": 38,
     "metadata": {},
     "output_type": "execute_result"
    }
   ],
   "source": [
    "import pandas.io.data as web # as => alias, use \"web\" to replace pandas.io.data\n",
    "df = web.DataReader(name='AAPL', data_source='yahoo',start='2000-1-1')\n",
    "df.head()"
   ]
  },
  {
   "cell_type": "code",
   "execution_count": 39,
   "metadata": {
    "collapsed": false
   },
   "outputs": [
    {
     "name": "stdout",
     "output_type": "stream",
     "text": [
      "<class 'pandas.core.frame.DataFrame'>\n",
      "DatetimeIndex: 4169 entries, 2000-01-03 to 2016-07-28\n",
      "Data columns (total 6 columns):\n",
      "Open         4169 non-null float64\n",
      "High         4169 non-null float64\n",
      "Low          4169 non-null float64\n",
      "Close        4169 non-null float64\n",
      "Volume       4169 non-null int64\n",
      "Adj Close    4169 non-null float64\n",
      "dtypes: float64(5), int64(1)\n",
      "memory usage: 228.0 KB\n"
     ]
    }
   ],
   "source": [
    "df.info()"
   ]
  },
  {
   "cell_type": "code",
   "execution_count": 40,
   "metadata": {
    "collapsed": false
   },
   "outputs": [
    {
     "data": {
      "text/plain": [
       "Open         float64\n",
       "High         float64\n",
       "Low          float64\n",
       "Close        float64\n",
       "Volume         int64\n",
       "Adj Close    float64\n",
       "dtype: object"
      ]
     },
     "execution_count": 40,
     "metadata": {},
     "output_type": "execute_result"
    }
   ],
   "source": [
    "df.dtypes"
   ]
  },
  {
   "cell_type": "code",
   "execution_count": 41,
   "metadata": {
    "collapsed": false
   },
   "outputs": [
    {
     "data": {
      "text/html": [
       "<div>\n",
       "<table border=\"1\" class=\"dataframe\">\n",
       "  <thead>\n",
       "    <tr style=\"text-align: right;\">\n",
       "      <th></th>\n",
       "      <th>Open</th>\n",
       "      <th>High</th>\n",
       "      <th>Low</th>\n",
       "      <th>Close</th>\n",
       "      <th>Volume</th>\n",
       "      <th>Adj Close</th>\n",
       "    </tr>\n",
       "  </thead>\n",
       "  <tbody>\n",
       "    <tr>\n",
       "      <th>count</th>\n",
       "      <td>4169.000000</td>\n",
       "      <td>4169.000000</td>\n",
       "      <td>4169.000000</td>\n",
       "      <td>4169.000000</td>\n",
       "      <td>4.169000e+03</td>\n",
       "      <td>4169.000000</td>\n",
       "    </tr>\n",
       "    <tr>\n",
       "      <th>mean</th>\n",
       "      <td>172.059956</td>\n",
       "      <td>173.979672</td>\n",
       "      <td>169.904249</td>\n",
       "      <td>171.974724</td>\n",
       "      <td>1.324539e+08</td>\n",
       "      <td>34.060365</td>\n",
       "    </tr>\n",
       "    <tr>\n",
       "      <th>std</th>\n",
       "      <td>175.573690</td>\n",
       "      <td>176.969772</td>\n",
       "      <td>173.898346</td>\n",
       "      <td>175.454482</td>\n",
       "      <td>9.974163e+07</td>\n",
       "      <td>37.295693</td>\n",
       "    </tr>\n",
       "    <tr>\n",
       "      <th>min</th>\n",
       "      <td>12.990000</td>\n",
       "      <td>13.190000</td>\n",
       "      <td>12.720000</td>\n",
       "      <td>13.120000</td>\n",
       "      <td>9.835000e+06</td>\n",
       "      <td>0.862626</td>\n",
       "    </tr>\n",
       "    <tr>\n",
       "      <th>25%</th>\n",
       "      <td>37.719999</td>\n",
       "      <td>38.159999</td>\n",
       "      <td>37.200000</td>\n",
       "      <td>37.760000</td>\n",
       "      <td>6.588960e+07</td>\n",
       "      <td>3.121101</td>\n",
       "    </tr>\n",
       "    <tr>\n",
       "      <th>50%</th>\n",
       "      <td>103.959999</td>\n",
       "      <td>105.489998</td>\n",
       "      <td>101.749999</td>\n",
       "      <td>103.739998</td>\n",
       "      <td>1.040396e+08</td>\n",
       "      <td>17.010562</td>\n",
       "    </tr>\n",
       "    <tr>\n",
       "      <th>75%</th>\n",
       "      <td>241.749992</td>\n",
       "      <td>243.849987</td>\n",
       "      <td>238.040001</td>\n",
       "      <td>241.789993</td>\n",
       "      <td>1.701084e+08</td>\n",
       "      <td>59.765857</td>\n",
       "    </tr>\n",
       "    <tr>\n",
       "      <th>max</th>\n",
       "      <td>702.409988</td>\n",
       "      <td>705.070023</td>\n",
       "      <td>699.569977</td>\n",
       "      <td>702.100021</td>\n",
       "      <td>1.855410e+09</td>\n",
       "      <td>129.880553</td>\n",
       "    </tr>\n",
       "  </tbody>\n",
       "</table>\n",
       "</div>"
      ],
      "text/plain": [
       "              Open         High          Low        Close        Volume  \\\n",
       "count  4169.000000  4169.000000  4169.000000  4169.000000  4.169000e+03   \n",
       "mean    172.059956   173.979672   169.904249   171.974724  1.324539e+08   \n",
       "std     175.573690   176.969772   173.898346   175.454482  9.974163e+07   \n",
       "min      12.990000    13.190000    12.720000    13.120000  9.835000e+06   \n",
       "25%      37.719999    38.159999    37.200000    37.760000  6.588960e+07   \n",
       "50%     103.959999   105.489998   101.749999   103.739998  1.040396e+08   \n",
       "75%     241.749992   243.849987   238.040001   241.789993  1.701084e+08   \n",
       "max     702.409988   705.070023   699.569977   702.100021  1.855410e+09   \n",
       "\n",
       "         Adj Close  \n",
       "count  4169.000000  \n",
       "mean     34.060365  \n",
       "std      37.295693  \n",
       "min       0.862626  \n",
       "25%       3.121101  \n",
       "50%      17.010562  \n",
       "75%      59.765857  \n",
       "max     129.880553  "
      ]
     },
     "execution_count": 41,
     "metadata": {},
     "output_type": "execute_result"
    }
   ],
   "source": [
    "df.describe()"
   ]
  },
  {
   "cell_type": "markdown",
   "metadata": {},
   "source": [
    "## DataFrame Basic Operation"
   ]
  },
  {
   "cell_type": "code",
   "execution_count": 12,
   "metadata": {
    "collapsed": false
   },
   "outputs": [
    {
     "name": "stdout",
     "output_type": "stream",
     "text": [
      "Qoo 180 75\n"
     ]
    }
   ],
   "source": [
    "names = ['Qoo', 'Mary', 'Jane']\n",
    "height = [180,173,165]\n",
    "weight = [75,62,55]\n",
    "print names[0], height[0], weight[0]"
   ]
  },
  {
   "cell_type": "code",
   "execution_count": 18,
   "metadata": {
    "collapsed": false
   },
   "outputs": [
    {
     "data": {
      "text/html": [
       "<div>\n",
       "<table border=\"1\" class=\"dataframe\">\n",
       "  <thead>\n",
       "    <tr style=\"text-align: right;\">\n",
       "      <th></th>\n",
       "      <th>height</th>\n",
       "      <th>name</th>\n",
       "      <th>weight</th>\n",
       "    </tr>\n",
       "  </thead>\n",
       "  <tbody>\n",
       "    <tr>\n",
       "      <th>0</th>\n",
       "      <td>180</td>\n",
       "      <td>Qoo</td>\n",
       "      <td>75</td>\n",
       "    </tr>\n",
       "    <tr>\n",
       "      <th>1</th>\n",
       "      <td>173</td>\n",
       "      <td>Mary</td>\n",
       "      <td>62</td>\n",
       "    </tr>\n",
       "    <tr>\n",
       "      <th>2</th>\n",
       "      <td>165</td>\n",
       "      <td>Jane</td>\n",
       "      <td>55</td>\n",
       "    </tr>\n",
       "  </tbody>\n",
       "</table>\n",
       "</div>"
      ],
      "text/plain": [
       "   height  name  weight\n",
       "0     180   Qoo      75\n",
       "1     173  Mary      62\n",
       "2     165  Jane      55"
      ]
     },
     "execution_count": 18,
     "metadata": {},
     "output_type": "execute_result"
    }
   ],
   "source": [
    "import pandas \n",
    "df = pandas.DataFrame({'name':names, 'height': height, 'weight': weight})\n",
    "df"
   ]
  },
  {
   "cell_type": "code",
   "execution_count": 29,
   "metadata": {
    "collapsed": false
   },
   "outputs": [
    {
     "data": {
      "text/plain": [
       "height    180\n",
       "name      Qoo\n",
       "weight     75\n",
       "Name: 0, dtype: object"
      ]
     },
     "execution_count": 29,
     "metadata": {},
     "output_type": "execute_result"
    }
   ],
   "source": [
    "df.loc[0,] # get all basic information of first person"
   ]
  },
  {
   "cell_type": "code",
   "execution_count": 28,
   "metadata": {
    "collapsed": false
   },
   "outputs": [
    {
     "data": {
      "text/plain": [
       "180"
      ]
     },
     "execution_count": 28,
     "metadata": {},
     "output_type": "execute_result"
    }
   ],
   "source": [
    "df.loc[0, 'height'] # get height information of first person"
   ]
  },
  {
   "cell_type": "code",
   "execution_count": 26,
   "metadata": {
    "collapsed": false
   },
   "outputs": [
    {
     "data": {
      "text/plain": [
       "height    180\n",
       "weight     75\n",
       "Name: 0, dtype: object"
      ]
     },
     "execution_count": 26,
     "metadata": {},
     "output_type": "execute_result"
    }
   ],
   "source": [
    "df.loc[0, ['height', 'weight']] # get height and weight information of first person"
   ]
  },
  {
   "cell_type": "code",
   "execution_count": 27,
   "metadata": {
    "collapsed": false
   },
   "outputs": [
    {
     "data": {
      "text/html": [
       "<div>\n",
       "<table border=\"1\" class=\"dataframe\">\n",
       "  <thead>\n",
       "    <tr style=\"text-align: right;\">\n",
       "      <th></th>\n",
       "      <th>height</th>\n",
       "      <th>weight</th>\n",
       "    </tr>\n",
       "  </thead>\n",
       "  <tbody>\n",
       "    <tr>\n",
       "      <th>0</th>\n",
       "      <td>180</td>\n",
       "      <td>75</td>\n",
       "    </tr>\n",
       "    <tr>\n",
       "      <th>1</th>\n",
       "      <td>173</td>\n",
       "      <td>62</td>\n",
       "    </tr>\n",
       "  </tbody>\n",
       "</table>\n",
       "</div>"
      ],
      "text/plain": [
       "   height  weight\n",
       "0     180      75\n",
       "1     173      62"
      ]
     },
     "execution_count": 27,
     "metadata": {},
     "output_type": "execute_result"
    }
   ],
   "source": [
    "df.loc[0:1, ['height', 'weight']] # get height information of first, and second person"
   ]
  },
  {
   "cell_type": "code",
   "execution_count": null,
   "metadata": {
    "collapsed": true
   },
   "outputs": [],
   "source": []
  }
 ],
 "metadata": {
  "anaconda-cloud": {},
  "kernelspec": {
   "display_name": "Python [Root]",
   "language": "python",
   "name": "Python [Root]"
  },
  "language_info": {
   "codemirror_mode": {
    "name": "ipython",
    "version": 2
   },
   "file_extension": ".py",
   "mimetype": "text/x-python",
   "name": "python",
   "nbconvert_exporter": "python",
   "pygments_lexer": "ipython2",
   "version": "2.7.12"
  }
 },
 "nbformat": 4,
 "nbformat_minor": 0
}
