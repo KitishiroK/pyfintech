{
 "cells": [
  {
   "cell_type": "markdown",
   "metadata": {},
   "source": [
    "## Pandas IO"
   ]
  },
  {
   "cell_type": "code",
   "execution_count": 3,
   "metadata": {
    "collapsed": false
   },
   "outputs": [
    {
     "data": {
      "text/html": [
       "<div>\n",
       "<table border=\"1\" class=\"dataframe\">\n",
       "  <thead>\n",
       "    <tr style=\"text-align: right;\">\n",
       "      <th></th>\n",
       "      <th>Date</th>\n",
       "      <th>Open</th>\n",
       "      <th>High</th>\n",
       "      <th>Low</th>\n",
       "      <th>Close</th>\n",
       "      <th>Volume</th>\n",
       "      <th>Adj Close</th>\n",
       "    </tr>\n",
       "  </thead>\n",
       "  <tbody>\n",
       "    <tr>\n",
       "      <th>0</th>\n",
       "      <td>2016-07-28</td>\n",
       "      <td>175.0</td>\n",
       "      <td>176.5</td>\n",
       "      <td>173.0</td>\n",
       "      <td>176.5</td>\n",
       "      <td>31071000</td>\n",
       "      <td>176.5</td>\n",
       "    </tr>\n",
       "    <tr>\n",
       "      <th>1</th>\n",
       "      <td>2016-07-27</td>\n",
       "      <td>175.0</td>\n",
       "      <td>176.0</td>\n",
       "      <td>174.5</td>\n",
       "      <td>175.0</td>\n",
       "      <td>34117000</td>\n",
       "      <td>175.0</td>\n",
       "    </tr>\n",
       "    <tr>\n",
       "      <th>2</th>\n",
       "      <td>2016-07-26</td>\n",
       "      <td>172.0</td>\n",
       "      <td>173.0</td>\n",
       "      <td>171.5</td>\n",
       "      <td>173.0</td>\n",
       "      <td>32685000</td>\n",
       "      <td>173.0</td>\n",
       "    </tr>\n",
       "    <tr>\n",
       "      <th>3</th>\n",
       "      <td>2016-07-25</td>\n",
       "      <td>172.0</td>\n",
       "      <td>173.0</td>\n",
       "      <td>169.0</td>\n",
       "      <td>171.5</td>\n",
       "      <td>27145000</td>\n",
       "      <td>171.5</td>\n",
       "    </tr>\n",
       "    <tr>\n",
       "      <th>4</th>\n",
       "      <td>2016-07-22</td>\n",
       "      <td>172.0</td>\n",
       "      <td>172.0</td>\n",
       "      <td>170.5</td>\n",
       "      <td>171.0</td>\n",
       "      <td>28504000</td>\n",
       "      <td>171.0</td>\n",
       "    </tr>\n",
       "    <tr>\n",
       "      <th>5</th>\n",
       "      <td>2016-07-21</td>\n",
       "      <td>171.0</td>\n",
       "      <td>172.0</td>\n",
       "      <td>170.0</td>\n",
       "      <td>172.0</td>\n",
       "      <td>33130000</td>\n",
       "      <td>172.0</td>\n",
       "    </tr>\n",
       "    <tr>\n",
       "      <th>6</th>\n",
       "      <td>2016-07-20</td>\n",
       "      <td>170.0</td>\n",
       "      <td>170.5</td>\n",
       "      <td>169.0</td>\n",
       "      <td>170.0</td>\n",
       "      <td>38053000</td>\n",
       "      <td>170.0</td>\n",
       "    </tr>\n",
       "    <tr>\n",
       "      <th>7</th>\n",
       "      <td>2016-07-19</td>\n",
       "      <td>170.5</td>\n",
       "      <td>170.5</td>\n",
       "      <td>169.0</td>\n",
       "      <td>170.5</td>\n",
       "      <td>42456000</td>\n",
       "      <td>170.5</td>\n",
       "    </tr>\n",
       "    <tr>\n",
       "      <th>8</th>\n",
       "      <td>2016-07-18</td>\n",
       "      <td>168.0</td>\n",
       "      <td>170.0</td>\n",
       "      <td>168.0</td>\n",
       "      <td>169.5</td>\n",
       "      <td>24749000</td>\n",
       "      <td>169.5</td>\n",
       "    </tr>\n",
       "    <tr>\n",
       "      <th>9</th>\n",
       "      <td>2016-07-15</td>\n",
       "      <td>169.5</td>\n",
       "      <td>169.5</td>\n",
       "      <td>169.5</td>\n",
       "      <td>169.5</td>\n",
       "      <td>41000</td>\n",
       "      <td>169.5</td>\n",
       "    </tr>\n",
       "  </tbody>\n",
       "</table>\n",
       "</div>"
      ],
      "text/plain": [
       "         Date   Open   High    Low  Close    Volume  Adj Close\n",
       "0  2016-07-28  175.0  176.5  173.0  176.5  31071000      176.5\n",
       "1  2016-07-27  175.0  176.0  174.5  175.0  34117000      175.0\n",
       "2  2016-07-26  172.0  173.0  171.5  173.0  32685000      173.0\n",
       "3  2016-07-25  172.0  173.0  169.0  171.5  27145000      171.5\n",
       "4  2016-07-22  172.0  172.0  170.5  171.0  28504000      171.0\n",
       "5  2016-07-21  171.0  172.0  170.0  172.0  33130000      172.0\n",
       "6  2016-07-20  170.0  170.5  169.0  170.0  38053000      170.0\n",
       "7  2016-07-19  170.5  170.5  169.0  170.5  42456000      170.5\n",
       "8  2016-07-18  168.0  170.0  168.0  169.5  24749000      169.5\n",
       "9  2016-07-15  169.5  169.5  169.5  169.5     41000      169.5"
      ]
     },
     "execution_count": 3,
     "metadata": {},
     "output_type": "execute_result"
    }
   ],
   "source": [
    "import pandas # Read pandas package into python\n",
    "df = pandas.read_csv('C:\\\\Users\\\\Student\\\\tw2330.csv') # read data from tw2330.csv to DataFrame\n",
    "df.head() # Read the first 5 rows\n",
    "df.head(10) # Read the first 10 rows"
   ]
  },
  {
   "cell_type": "code",
   "execution_count": 6,
   "metadata": {
    "collapsed": false
   },
   "outputs": [
    {
     "data": {
      "text/html": [
       "<div>\n",
       "<table border=\"1\" class=\"dataframe\">\n",
       "  <thead>\n",
       "    <tr style=\"text-align: right;\">\n",
       "      <th></th>\n",
       "      <th>Dates</th>\n",
       "      <th>Open</th>\n",
       "      <th>High</th>\n",
       "      <th>Low</th>\n",
       "      <th>Close</th>\n",
       "      <th>Volume</th>\n",
       "      <th>Adj Close</th>\n",
       "    </tr>\n",
       "  </thead>\n",
       "  <tbody>\n",
       "    <tr>\n",
       "      <th>0</th>\n",
       "      <td>2016-07-28</td>\n",
       "      <td>175.0</td>\n",
       "      <td>176.5</td>\n",
       "      <td>173.0</td>\n",
       "      <td>176.5</td>\n",
       "      <td>31071000</td>\n",
       "      <td>176.5</td>\n",
       "    </tr>\n",
       "    <tr>\n",
       "      <th>1</th>\n",
       "      <td>2016-07-27</td>\n",
       "      <td>175.0</td>\n",
       "      <td>176.0</td>\n",
       "      <td>174.5</td>\n",
       "      <td>175.0</td>\n",
       "      <td>34117000</td>\n",
       "      <td>175.0</td>\n",
       "    </tr>\n",
       "    <tr>\n",
       "      <th>2</th>\n",
       "      <td>2016-07-26</td>\n",
       "      <td>172.0</td>\n",
       "      <td>173.0</td>\n",
       "      <td>171.5</td>\n",
       "      <td>173.0</td>\n",
       "      <td>32685000</td>\n",
       "      <td>173.0</td>\n",
       "    </tr>\n",
       "    <tr>\n",
       "      <th>3</th>\n",
       "      <td>2016-07-25</td>\n",
       "      <td>172.0</td>\n",
       "      <td>173.0</td>\n",
       "      <td>169.0</td>\n",
       "      <td>171.5</td>\n",
       "      <td>27145000</td>\n",
       "      <td>171.5</td>\n",
       "    </tr>\n",
       "    <tr>\n",
       "      <th>4</th>\n",
       "      <td>2016-07-22</td>\n",
       "      <td>172.0</td>\n",
       "      <td>172.0</td>\n",
       "      <td>170.5</td>\n",
       "      <td>171.0</td>\n",
       "      <td>28504000</td>\n",
       "      <td>171.0</td>\n",
       "    </tr>\n",
       "    <tr>\n",
       "      <th>5</th>\n",
       "      <td>2016-07-21</td>\n",
       "      <td>171.0</td>\n",
       "      <td>172.0</td>\n",
       "      <td>170.0</td>\n",
       "      <td>172.0</td>\n",
       "      <td>33130000</td>\n",
       "      <td>172.0</td>\n",
       "    </tr>\n",
       "    <tr>\n",
       "      <th>6</th>\n",
       "      <td>2016-07-20</td>\n",
       "      <td>170.0</td>\n",
       "      <td>170.5</td>\n",
       "      <td>169.0</td>\n",
       "      <td>170.0</td>\n",
       "      <td>38053000</td>\n",
       "      <td>170.0</td>\n",
       "    </tr>\n",
       "    <tr>\n",
       "      <th>7</th>\n",
       "      <td>2016-07-19</td>\n",
       "      <td>170.5</td>\n",
       "      <td>170.5</td>\n",
       "      <td>169.0</td>\n",
       "      <td>170.5</td>\n",
       "      <td>42456000</td>\n",
       "      <td>170.5</td>\n",
       "    </tr>\n",
       "    <tr>\n",
       "      <th>8</th>\n",
       "      <td>2016-07-18</td>\n",
       "      <td>168.0</td>\n",
       "      <td>170.0</td>\n",
       "      <td>168.0</td>\n",
       "      <td>169.5</td>\n",
       "      <td>24749000</td>\n",
       "      <td>169.5</td>\n",
       "    </tr>\n",
       "    <tr>\n",
       "      <th>9</th>\n",
       "      <td>2016-07-15</td>\n",
       "      <td>169.5</td>\n",
       "      <td>169.5</td>\n",
       "      <td>169.5</td>\n",
       "      <td>169.5</td>\n",
       "      <td>41000</td>\n",
       "      <td>169.5</td>\n",
       "    </tr>\n",
       "  </tbody>\n",
       "</table>\n",
       "</div>"
      ],
      "text/plain": [
       "       Dates   Open   High    Low  Close    Volume  Adj Close\n",
       "0 2016-07-28  175.0  176.5  173.0  176.5  31071000      176.5\n",
       "1 2016-07-27  175.0  176.0  174.5  175.0  34117000      175.0\n",
       "2 2016-07-26  172.0  173.0  171.5  173.0  32685000      173.0\n",
       "3 2016-07-25  172.0  173.0  169.0  171.5  27145000      171.5\n",
       "4 2016-07-22  172.0  172.0  170.5  171.0  28504000      171.0\n",
       "5 2016-07-21  171.0  172.0  170.0  172.0  33130000      172.0\n",
       "6 2016-07-20  170.0  170.5  169.0  170.0  38053000      170.0\n",
       "7 2016-07-19  170.5  170.5  169.0  170.5  42456000      170.5\n",
       "8 2016-07-18  168.0  170.0  168.0  169.5  24749000      169.5\n",
       "9 2016-07-15  169.5  169.5  169.5  169.5     41000      169.5"
      ]
     },
     "execution_count": 6,
     "metadata": {},
     "output_type": "execute_result"
    }
   ],
   "source": [
    "import pandas # Read pandas package into python\n",
    "df = pandas.read_csv('C:\\\\Users\\\\Student\\\\tw2330.csv', \\\n",
    "                     parse_dates={'Dates': [0]}) # Transform date column into date type\n",
    "df.head() # Read the first 5 rows\n",
    "df.head(10) # Read the first 10 rows"
   ]
  },
  {
   "cell_type": "code",
   "execution_count": null,
   "metadata": {
    "collapsed": true
   },
   "outputs": [],
   "source": [
    "import pandas\n",
    "df = pandas.io.data.DataReader(name='2330.TW', data_source='yahoo',start='2000-1-1')"
   ]
  },
  {
   "cell_type": "code",
   "execution_count": 52,
   "metadata": {
    "collapsed": false
   },
   "outputs": [
    {
     "data": {
      "text/html": [
       "<div>\n",
       "<table border=\"1\" class=\"dataframe\">\n",
       "  <thead>\n",
       "    <tr style=\"text-align: right;\">\n",
       "      <th></th>\n",
       "      <th>Open</th>\n",
       "      <th>High</th>\n",
       "      <th>Low</th>\n",
       "      <th>Close</th>\n",
       "      <th>Volume</th>\n",
       "      <th>Adj Close</th>\n",
       "    </tr>\n",
       "    <tr>\n",
       "      <th>Date</th>\n",
       "      <th></th>\n",
       "      <th></th>\n",
       "      <th></th>\n",
       "      <th></th>\n",
       "      <th></th>\n",
       "      <th></th>\n",
       "    </tr>\n",
       "  </thead>\n",
       "  <tbody>\n",
       "    <tr>\n",
       "      <th>2000-01-04</th>\n",
       "      <td>83.0813</td>\n",
       "      <td>83.0813</td>\n",
       "      <td>81.6811</td>\n",
       "      <td>83.0813</td>\n",
       "      <td>149083800</td>\n",
       "      <td>29.6180</td>\n",
       "    </tr>\n",
       "    <tr>\n",
       "      <th>2000-01-05</th>\n",
       "      <td>83.0813</td>\n",
       "      <td>84.9482</td>\n",
       "      <td>82.1478</td>\n",
       "      <td>84.9482</td>\n",
       "      <td>299016300</td>\n",
       "      <td>30.2836</td>\n",
       "    </tr>\n",
       "    <tr>\n",
       "      <th>2000-01-06</th>\n",
       "      <td>84.4815</td>\n",
       "      <td>84.9482</td>\n",
       "      <td>83.0813</td>\n",
       "      <td>83.0813</td>\n",
       "      <td>146768300</td>\n",
       "      <td>29.6180</td>\n",
       "    </tr>\n",
       "    <tr>\n",
       "      <th>2000-01-07</th>\n",
       "      <td>80.2809</td>\n",
       "      <td>81.6811</td>\n",
       "      <td>79.3474</td>\n",
       "      <td>80.7476</td>\n",
       "      <td>174796200</td>\n",
       "      <td>28.7861</td>\n",
       "    </tr>\n",
       "    <tr>\n",
       "      <th>2000-01-10</th>\n",
       "      <td>83.0813</td>\n",
       "      <td>84.0148</td>\n",
       "      <td>81.6811</td>\n",
       "      <td>83.5480</td>\n",
       "      <td>205184200</td>\n",
       "      <td>29.7844</td>\n",
       "    </tr>\n",
       "  </tbody>\n",
       "</table>\n",
       "</div>"
      ],
      "text/plain": [
       "               Open     High      Low    Close     Volume  Adj Close\n",
       "Date                                                                \n",
       "2000-01-04  83.0813  83.0813  81.6811  83.0813  149083800    29.6180\n",
       "2000-01-05  83.0813  84.9482  82.1478  84.9482  299016300    30.2836\n",
       "2000-01-06  84.4815  84.9482  83.0813  83.0813  146768300    29.6180\n",
       "2000-01-07  80.2809  81.6811  79.3474  80.7476  174796200    28.7861\n",
       "2000-01-10  83.0813  84.0148  81.6811  83.5480  205184200    29.7844"
      ]
     },
     "execution_count": 52,
     "metadata": {},
     "output_type": "execute_result"
    }
   ],
   "source": [
    "import pandas.io.data as web # as => alias, use \"web\" to replace pandas.io.data\n",
    "df = web.DataReader(name='2330.TW', data_source='yahoo',start='2000-1-1')\n",
    "df.head()"
   ]
  },
  {
   "cell_type": "code",
   "execution_count": 53,
   "metadata": {
    "collapsed": false
   },
   "outputs": [
    {
     "name": "stdout",
     "output_type": "stream",
     "text": [
      "<class 'pandas.core.frame.DataFrame'>\n",
      "DatetimeIndex: 4167 entries, 2000-01-04 to 2016-07-28\n",
      "Data columns (total 6 columns):\n",
      "Open         4167 non-null float64\n",
      "High         4167 non-null float64\n",
      "Low          4167 non-null float64\n",
      "Close        4167 non-null float64\n",
      "Volume       4167 non-null int64\n",
      "Adj Close    4167 non-null float64\n",
      "dtypes: float64(5), int64(1)\n",
      "memory usage: 227.9 KB\n"
     ]
    }
   ],
   "source": [
    "df.info()"
   ]
  },
  {
   "cell_type": "code",
   "execution_count": 54,
   "metadata": {
    "collapsed": false
   },
   "outputs": [
    {
     "data": {
      "text/plain": [
       "Open         float64\n",
       "High         float64\n",
       "Low          float64\n",
       "Close        float64\n",
       "Volume         int64\n",
       "Adj Close    float64\n",
       "dtype: object"
      ]
     },
     "execution_count": 54,
     "metadata": {},
     "output_type": "execute_result"
    }
   ],
   "source": [
    "df.dtypes"
   ]
  },
  {
   "cell_type": "code",
   "execution_count": 55,
   "metadata": {
    "collapsed": false
   },
   "outputs": [
    {
     "data": {
      "text/html": [
       "<div>\n",
       "<table border=\"1\" class=\"dataframe\">\n",
       "  <thead>\n",
       "    <tr style=\"text-align: right;\">\n",
       "      <th></th>\n",
       "      <th>Open</th>\n",
       "      <th>High</th>\n",
       "      <th>Low</th>\n",
       "      <th>Close</th>\n",
       "      <th>Volume</th>\n",
       "      <th>Adj Close</th>\n",
       "    </tr>\n",
       "  </thead>\n",
       "  <tbody>\n",
       "    <tr>\n",
       "      <th>count</th>\n",
       "      <td>4167.000000</td>\n",
       "      <td>4167.000000</td>\n",
       "      <td>4167.000000</td>\n",
       "      <td>4167.000000</td>\n",
       "      <td>4.167000e+03</td>\n",
       "      <td>4167.000000</td>\n",
       "    </tr>\n",
       "    <tr>\n",
       "      <th>mean</th>\n",
       "      <td>76.240588</td>\n",
       "      <td>76.940725</td>\n",
       "      <td>75.499032</td>\n",
       "      <td>76.257157</td>\n",
       "      <td>5.530674e+07</td>\n",
       "      <td>60.249221</td>\n",
       "    </tr>\n",
       "    <tr>\n",
       "      <th>std</th>\n",
       "      <td>31.072400</td>\n",
       "      <td>31.208413</td>\n",
       "      <td>30.907752</td>\n",
       "      <td>31.083875</td>\n",
       "      <td>3.168548e+08</td>\n",
       "      <td>34.762493</td>\n",
       "    </tr>\n",
       "    <tr>\n",
       "      <th>min</th>\n",
       "      <td>32.201900</td>\n",
       "      <td>32.938000</td>\n",
       "      <td>32.109900</td>\n",
       "      <td>32.754000</td>\n",
       "      <td>0.000000e+00</td>\n",
       "      <td>20.446400</td>\n",
       "    </tr>\n",
       "    <tr>\n",
       "      <th>25%</th>\n",
       "      <td>55.203200</td>\n",
       "      <td>56.000000</td>\n",
       "      <td>54.500000</td>\n",
       "      <td>55.203300</td>\n",
       "      <td>3.163310e+07</td>\n",
       "      <td>36.601700</td>\n",
       "    </tr>\n",
       "    <tr>\n",
       "      <th>50%</th>\n",
       "      <td>63.800000</td>\n",
       "      <td>64.500000</td>\n",
       "      <td>63.100000</td>\n",
       "      <td>63.900000</td>\n",
       "      <td>4.331330e+07</td>\n",
       "      <td>45.676900</td>\n",
       "    </tr>\n",
       "    <tr>\n",
       "      <th>75%</th>\n",
       "      <td>89.900000</td>\n",
       "      <td>90.549300</td>\n",
       "      <td>88.950000</td>\n",
       "      <td>90.041300</td>\n",
       "      <td>6.154600e+07</td>\n",
       "      <td>72.942600</td>\n",
       "    </tr>\n",
       "    <tr>\n",
       "      <th>max</th>\n",
       "      <td>175.000000</td>\n",
       "      <td>176.500000</td>\n",
       "      <td>174.500000</td>\n",
       "      <td>176.500000</td>\n",
       "      <td>2.040451e+10</td>\n",
       "      <td>176.500000</td>\n",
       "    </tr>\n",
       "  </tbody>\n",
       "</table>\n",
       "</div>"
      ],
      "text/plain": [
       "              Open         High          Low        Close        Volume  \\\n",
       "count  4167.000000  4167.000000  4167.000000  4167.000000  4.167000e+03   \n",
       "mean     76.240588    76.940725    75.499032    76.257157  5.530674e+07   \n",
       "std      31.072400    31.208413    30.907752    31.083875  3.168548e+08   \n",
       "min      32.201900    32.938000    32.109900    32.754000  0.000000e+00   \n",
       "25%      55.203200    56.000000    54.500000    55.203300  3.163310e+07   \n",
       "50%      63.800000    64.500000    63.100000    63.900000  4.331330e+07   \n",
       "75%      89.900000    90.549300    88.950000    90.041300  6.154600e+07   \n",
       "max     175.000000   176.500000   174.500000   176.500000  2.040451e+10   \n",
       "\n",
       "         Adj Close  \n",
       "count  4167.000000  \n",
       "mean     60.249221  \n",
       "std      34.762493  \n",
       "min      20.446400  \n",
       "25%      36.601700  \n",
       "50%      45.676900  \n",
       "75%      72.942600  \n",
       "max     176.500000  "
      ]
     },
     "execution_count": 55,
     "metadata": {},
     "output_type": "execute_result"
    }
   ],
   "source": [
    "df.describe()"
   ]
  },
  {
   "cell_type": "markdown",
   "metadata": {},
   "source": [
    "## DataFrame 可以使用.loc 來篩選資料,格式為: .loc[row,column]"
   ]
  },
  {
   "cell_type": "code",
   "execution_count": 57,
   "metadata": {
    "collapsed": false
   },
   "outputs": [
    {
     "data": {
      "text/plain": [
       "count    1688.000000\n",
       "mean      102.720794\n",
       "std        31.400658\n",
       "min        57.200000\n",
       "25%        74.200000\n",
       "50%       101.500000\n",
       "75%       131.000000\n",
       "max       176.500000\n",
       "Name: Close, dtype: float64"
      ]
     },
     "execution_count": 57,
     "metadata": {},
     "output_type": "execute_result"
    }
   ],
   "source": [
    "df.loc[df.index >= '2010-01-01' , 'Close'].describe()"
   ]
  },
  {
   "cell_type": "code",
   "execution_count": 63,
   "metadata": {
    "collapsed": false
   },
   "outputs": [
    {
     "data": {
      "text/plain": [
       "count    502.000000\n",
       "mean      55.984465\n",
       "std        7.845962\n",
       "min       36.800000\n",
       "25%       51.325000\n",
       "50%       57.600000\n",
       "75%       62.000000\n",
       "max       69.400000\n",
       "Name: Close, dtype: float64"
      ]
     },
     "execution_count": 63,
     "metadata": {},
     "output_type": "execute_result"
    }
   ],
   "source": [
    "df.loc[(df.index >= '2008-01-01') &  (df.index < '2010-01-01') ,  'Close'].describe()"
   ]
  },
  {
   "cell_type": "markdown",
   "metadata": {},
   "source": [
    "## DataFrame Basic Operation"
   ]
  },
  {
   "cell_type": "code",
   "execution_count": 12,
   "metadata": {
    "collapsed": false
   },
   "outputs": [
    {
     "name": "stdout",
     "output_type": "stream",
     "text": [
      "Qoo 180 75\n"
     ]
    }
   ],
   "source": [
    "names = ['Qoo', 'Mary', 'Jane']\n",
    "height = [180,173,165]\n",
    "weight = [75,62,55]\n",
    "print names[0], height[0], weight[0]"
   ]
  },
  {
   "cell_type": "code",
   "execution_count": 18,
   "metadata": {
    "collapsed": false
   },
   "outputs": [
    {
     "data": {
      "text/html": [
       "<div>\n",
       "<table border=\"1\" class=\"dataframe\">\n",
       "  <thead>\n",
       "    <tr style=\"text-align: right;\">\n",
       "      <th></th>\n",
       "      <th>height</th>\n",
       "      <th>name</th>\n",
       "      <th>weight</th>\n",
       "    </tr>\n",
       "  </thead>\n",
       "  <tbody>\n",
       "    <tr>\n",
       "      <th>0</th>\n",
       "      <td>180</td>\n",
       "      <td>Qoo</td>\n",
       "      <td>75</td>\n",
       "    </tr>\n",
       "    <tr>\n",
       "      <th>1</th>\n",
       "      <td>173</td>\n",
       "      <td>Mary</td>\n",
       "      <td>62</td>\n",
       "    </tr>\n",
       "    <tr>\n",
       "      <th>2</th>\n",
       "      <td>165</td>\n",
       "      <td>Jane</td>\n",
       "      <td>55</td>\n",
       "    </tr>\n",
       "  </tbody>\n",
       "</table>\n",
       "</div>"
      ],
      "text/plain": [
       "   height  name  weight\n",
       "0     180   Qoo      75\n",
       "1     173  Mary      62\n",
       "2     165  Jane      55"
      ]
     },
     "execution_count": 18,
     "metadata": {},
     "output_type": "execute_result"
    }
   ],
   "source": [
    "import pandas \n",
    "df = pandas.DataFrame({'name':names, 'height': height, 'weight': weight})\n",
    "df"
   ]
  },
  {
   "cell_type": "code",
   "execution_count": 29,
   "metadata": {
    "collapsed": false
   },
   "outputs": [
    {
     "data": {
      "text/plain": [
       "height    180\n",
       "name      Qoo\n",
       "weight     75\n",
       "Name: 0, dtype: object"
      ]
     },
     "execution_count": 29,
     "metadata": {},
     "output_type": "execute_result"
    }
   ],
   "source": [
    "df.loc[0,] # get all basic information of first person"
   ]
  },
  {
   "cell_type": "code",
   "execution_count": 28,
   "metadata": {
    "collapsed": false
   },
   "outputs": [
    {
     "data": {
      "text/plain": [
       "180"
      ]
     },
     "execution_count": 28,
     "metadata": {},
     "output_type": "execute_result"
    }
   ],
   "source": [
    "df.loc[0, 'height'] # get height information of first person"
   ]
  },
  {
   "cell_type": "code",
   "execution_count": 26,
   "metadata": {
    "collapsed": false
   },
   "outputs": [
    {
     "data": {
      "text/plain": [
       "height    180\n",
       "weight     75\n",
       "Name: 0, dtype: object"
      ]
     },
     "execution_count": 26,
     "metadata": {},
     "output_type": "execute_result"
    }
   ],
   "source": [
    "df.loc[0, ['height', 'weight']] # get height and weight information of first person"
   ]
  },
  {
   "cell_type": "code",
   "execution_count": 27,
   "metadata": {
    "collapsed": false
   },
   "outputs": [
    {
     "data": {
      "text/html": [
       "<div>\n",
       "<table border=\"1\" class=\"dataframe\">\n",
       "  <thead>\n",
       "    <tr style=\"text-align: right;\">\n",
       "      <th></th>\n",
       "      <th>height</th>\n",
       "      <th>weight</th>\n",
       "    </tr>\n",
       "  </thead>\n",
       "  <tbody>\n",
       "    <tr>\n",
       "      <th>0</th>\n",
       "      <td>180</td>\n",
       "      <td>75</td>\n",
       "    </tr>\n",
       "    <tr>\n",
       "      <th>1</th>\n",
       "      <td>173</td>\n",
       "      <td>62</td>\n",
       "    </tr>\n",
       "  </tbody>\n",
       "</table>\n",
       "</div>"
      ],
      "text/plain": [
       "   height  weight\n",
       "0     180      75\n",
       "1     173      62"
      ]
     },
     "execution_count": 27,
     "metadata": {},
     "output_type": "execute_result"
    }
   ],
   "source": [
    "df.loc[0:1, ['height', 'weight']] # get height information of first, and second person"
   ]
  },
  {
   "cell_type": "markdown",
   "metadata": {},
   "source": [
    "## 檢視數據基本性質"
   ]
  },
  {
   "cell_type": "code",
   "execution_count": 65,
   "metadata": {
    "collapsed": false
   },
   "outputs": [
    {
     "data": {
      "text/html": [
       "<div>\n",
       "<table border=\"1\" class=\"dataframe\">\n",
       "  <thead>\n",
       "    <tr style=\"text-align: right;\">\n",
       "      <th></th>\n",
       "      <th>Open</th>\n",
       "      <th>High</th>\n",
       "      <th>Low</th>\n",
       "      <th>Close</th>\n",
       "      <th>Volume</th>\n",
       "      <th>Adj Close</th>\n",
       "    </tr>\n",
       "    <tr>\n",
       "      <th>Date</th>\n",
       "      <th></th>\n",
       "      <th></th>\n",
       "      <th></th>\n",
       "      <th></th>\n",
       "      <th></th>\n",
       "      <th></th>\n",
       "    </tr>\n",
       "  </thead>\n",
       "  <tbody>\n",
       "    <tr>\n",
       "      <th>2000-01-04</th>\n",
       "      <td>83.0813</td>\n",
       "      <td>83.0813</td>\n",
       "      <td>81.6811</td>\n",
       "      <td>83.0813</td>\n",
       "      <td>149083800</td>\n",
       "      <td>29.6180</td>\n",
       "    </tr>\n",
       "    <tr>\n",
       "      <th>2000-01-05</th>\n",
       "      <td>83.0813</td>\n",
       "      <td>84.9482</td>\n",
       "      <td>82.1478</td>\n",
       "      <td>84.9482</td>\n",
       "      <td>299016300</td>\n",
       "      <td>30.2836</td>\n",
       "    </tr>\n",
       "    <tr>\n",
       "      <th>2000-01-06</th>\n",
       "      <td>84.4815</td>\n",
       "      <td>84.9482</td>\n",
       "      <td>83.0813</td>\n",
       "      <td>83.0813</td>\n",
       "      <td>146768300</td>\n",
       "      <td>29.6180</td>\n",
       "    </tr>\n",
       "    <tr>\n",
       "      <th>2000-01-07</th>\n",
       "      <td>80.2809</td>\n",
       "      <td>81.6811</td>\n",
       "      <td>79.3474</td>\n",
       "      <td>80.7476</td>\n",
       "      <td>174796200</td>\n",
       "      <td>28.7861</td>\n",
       "    </tr>\n",
       "    <tr>\n",
       "      <th>2000-01-10</th>\n",
       "      <td>83.0813</td>\n",
       "      <td>84.0148</td>\n",
       "      <td>81.6811</td>\n",
       "      <td>83.5480</td>\n",
       "      <td>205184200</td>\n",
       "      <td>29.7844</td>\n",
       "    </tr>\n",
       "  </tbody>\n",
       "</table>\n",
       "</div>"
      ],
      "text/plain": [
       "               Open     High      Low    Close     Volume  Adj Close\n",
       "Date                                                                \n",
       "2000-01-04  83.0813  83.0813  81.6811  83.0813  149083800    29.6180\n",
       "2000-01-05  83.0813  84.9482  82.1478  84.9482  299016300    30.2836\n",
       "2000-01-06  84.4815  84.9482  83.0813  83.0813  146768300    29.6180\n",
       "2000-01-07  80.2809  81.6811  79.3474  80.7476  174796200    28.7861\n",
       "2000-01-10  83.0813  84.0148  81.6811  83.5480  205184200    29.7844"
      ]
     },
     "execution_count": 65,
     "metadata": {},
     "output_type": "execute_result"
    }
   ],
   "source": [
    "import pandas.io.data as web # as => alias, use \"web\" to replace pandas.io.data\n",
    "df = web.DataReader(name='2330.TW', data_source='yahoo',start='2000-1-1')\n",
    "df.head()"
   ]
  },
  {
   "cell_type": "code",
   "execution_count": 66,
   "metadata": {
    "collapsed": true
   },
   "outputs": [],
   "source": [
    "?df.head"
   ]
  },
  {
   "cell_type": "code",
   "execution_count": 68,
   "metadata": {
    "collapsed": false
   },
   "outputs": [
    {
     "data": {
      "text/html": [
       "<div>\n",
       "<table border=\"1\" class=\"dataframe\">\n",
       "  <thead>\n",
       "    <tr style=\"text-align: right;\">\n",
       "      <th></th>\n",
       "      <th>Open</th>\n",
       "      <th>High</th>\n",
       "      <th>Low</th>\n",
       "      <th>Close</th>\n",
       "      <th>Volume</th>\n",
       "      <th>Adj Close</th>\n",
       "    </tr>\n",
       "    <tr>\n",
       "      <th>Date</th>\n",
       "      <th></th>\n",
       "      <th></th>\n",
       "      <th></th>\n",
       "      <th></th>\n",
       "      <th></th>\n",
       "      <th></th>\n",
       "    </tr>\n",
       "  </thead>\n",
       "  <tbody>\n",
       "    <tr>\n",
       "      <th>2000-01-04</th>\n",
       "      <td>83.0813</td>\n",
       "      <td>83.0813</td>\n",
       "      <td>81.6811</td>\n",
       "      <td>83.0813</td>\n",
       "      <td>149083800</td>\n",
       "      <td>29.6180</td>\n",
       "    </tr>\n",
       "    <tr>\n",
       "      <th>2000-01-05</th>\n",
       "      <td>83.0813</td>\n",
       "      <td>84.9482</td>\n",
       "      <td>82.1478</td>\n",
       "      <td>84.9482</td>\n",
       "      <td>299016300</td>\n",
       "      <td>30.2836</td>\n",
       "    </tr>\n",
       "    <tr>\n",
       "      <th>2000-01-06</th>\n",
       "      <td>84.4815</td>\n",
       "      <td>84.9482</td>\n",
       "      <td>83.0813</td>\n",
       "      <td>83.0813</td>\n",
       "      <td>146768300</td>\n",
       "      <td>29.6180</td>\n",
       "    </tr>\n",
       "  </tbody>\n",
       "</table>\n",
       "</div>"
      ],
      "text/plain": [
       "               Open     High      Low    Close     Volume  Adj Close\n",
       "Date                                                                \n",
       "2000-01-04  83.0813  83.0813  81.6811  83.0813  149083800    29.6180\n",
       "2000-01-05  83.0813  84.9482  82.1478  84.9482  299016300    30.2836\n",
       "2000-01-06  84.4815  84.9482  83.0813  83.0813  146768300    29.6180"
      ]
     },
     "execution_count": 68,
     "metadata": {},
     "output_type": "execute_result"
    }
   ],
   "source": [
    "df.head(3)"
   ]
  },
  {
   "cell_type": "code",
   "execution_count": 70,
   "metadata": {
    "collapsed": false
   },
   "outputs": [
    {
     "data": {
      "text/html": [
       "<div>\n",
       "<table border=\"1\" class=\"dataframe\">\n",
       "  <thead>\n",
       "    <tr style=\"text-align: right;\">\n",
       "      <th></th>\n",
       "      <th>Open</th>\n",
       "      <th>High</th>\n",
       "      <th>Low</th>\n",
       "      <th>Close</th>\n",
       "      <th>Volume</th>\n",
       "      <th>Adj Close</th>\n",
       "    </tr>\n",
       "    <tr>\n",
       "      <th>Date</th>\n",
       "      <th></th>\n",
       "      <th></th>\n",
       "      <th></th>\n",
       "      <th></th>\n",
       "      <th></th>\n",
       "      <th></th>\n",
       "    </tr>\n",
       "  </thead>\n",
       "  <tbody>\n",
       "    <tr>\n",
       "      <th>2016-07-26</th>\n",
       "      <td>172.0</td>\n",
       "      <td>173.0</td>\n",
       "      <td>171.5</td>\n",
       "      <td>173.0</td>\n",
       "      <td>32685000</td>\n",
       "      <td>173.0</td>\n",
       "    </tr>\n",
       "    <tr>\n",
       "      <th>2016-07-27</th>\n",
       "      <td>175.0</td>\n",
       "      <td>176.0</td>\n",
       "      <td>174.5</td>\n",
       "      <td>175.0</td>\n",
       "      <td>34117000</td>\n",
       "      <td>175.0</td>\n",
       "    </tr>\n",
       "    <tr>\n",
       "      <th>2016-07-28</th>\n",
       "      <td>175.0</td>\n",
       "      <td>176.5</td>\n",
       "      <td>173.0</td>\n",
       "      <td>176.5</td>\n",
       "      <td>31071000</td>\n",
       "      <td>176.5</td>\n",
       "    </tr>\n",
       "  </tbody>\n",
       "</table>\n",
       "</div>"
      ],
      "text/plain": [
       "             Open   High    Low  Close    Volume  Adj Close\n",
       "Date                                                       \n",
       "2016-07-26  172.0  173.0  171.5  173.0  32685000      173.0\n",
       "2016-07-27  175.0  176.0  174.5  175.0  34117000      175.0\n",
       "2016-07-28  175.0  176.5  173.0  176.5  31071000      176.5"
      ]
     },
     "execution_count": 70,
     "metadata": {},
     "output_type": "execute_result"
    }
   ],
   "source": [
    "df.tail(3)"
   ]
  },
  {
   "cell_type": "code",
   "execution_count": 72,
   "metadata": {
    "collapsed": false
   },
   "outputs": [
    {
     "data": {
      "text/html": [
       "<div>\n",
       "<table border=\"1\" class=\"dataframe\">\n",
       "  <thead>\n",
       "    <tr style=\"text-align: right;\">\n",
       "      <th></th>\n",
       "      <th>Open</th>\n",
       "      <th>High</th>\n",
       "      <th>Low</th>\n",
       "      <th>Close</th>\n",
       "      <th>Volume</th>\n",
       "      <th>Adj Close</th>\n",
       "    </tr>\n",
       "  </thead>\n",
       "  <tbody>\n",
       "    <tr>\n",
       "      <th>count</th>\n",
       "      <td>4167.000000</td>\n",
       "      <td>4167.000000</td>\n",
       "      <td>4167.000000</td>\n",
       "      <td>4167.000000</td>\n",
       "      <td>4.167000e+03</td>\n",
       "      <td>4167.000000</td>\n",
       "    </tr>\n",
       "    <tr>\n",
       "      <th>mean</th>\n",
       "      <td>76.240588</td>\n",
       "      <td>76.940725</td>\n",
       "      <td>75.499032</td>\n",
       "      <td>76.257157</td>\n",
       "      <td>5.530674e+07</td>\n",
       "      <td>60.249221</td>\n",
       "    </tr>\n",
       "    <tr>\n",
       "      <th>std</th>\n",
       "      <td>31.072400</td>\n",
       "      <td>31.208413</td>\n",
       "      <td>30.907752</td>\n",
       "      <td>31.083875</td>\n",
       "      <td>3.168548e+08</td>\n",
       "      <td>34.762493</td>\n",
       "    </tr>\n",
       "    <tr>\n",
       "      <th>min</th>\n",
       "      <td>32.201900</td>\n",
       "      <td>32.938000</td>\n",
       "      <td>32.109900</td>\n",
       "      <td>32.754000</td>\n",
       "      <td>0.000000e+00</td>\n",
       "      <td>20.446400</td>\n",
       "    </tr>\n",
       "    <tr>\n",
       "      <th>25%</th>\n",
       "      <td>55.203200</td>\n",
       "      <td>56.000000</td>\n",
       "      <td>54.500000</td>\n",
       "      <td>55.203300</td>\n",
       "      <td>3.163310e+07</td>\n",
       "      <td>36.601700</td>\n",
       "    </tr>\n",
       "    <tr>\n",
       "      <th>50%</th>\n",
       "      <td>63.800000</td>\n",
       "      <td>64.500000</td>\n",
       "      <td>63.100000</td>\n",
       "      <td>63.900000</td>\n",
       "      <td>4.331330e+07</td>\n",
       "      <td>45.676900</td>\n",
       "    </tr>\n",
       "    <tr>\n",
       "      <th>75%</th>\n",
       "      <td>89.900000</td>\n",
       "      <td>90.549300</td>\n",
       "      <td>88.950000</td>\n",
       "      <td>90.041300</td>\n",
       "      <td>6.154600e+07</td>\n",
       "      <td>72.942600</td>\n",
       "    </tr>\n",
       "    <tr>\n",
       "      <th>max</th>\n",
       "      <td>175.000000</td>\n",
       "      <td>176.500000</td>\n",
       "      <td>174.500000</td>\n",
       "      <td>176.500000</td>\n",
       "      <td>2.040451e+10</td>\n",
       "      <td>176.500000</td>\n",
       "    </tr>\n",
       "  </tbody>\n",
       "</table>\n",
       "</div>"
      ],
      "text/plain": [
       "              Open         High          Low        Close        Volume  \\\n",
       "count  4167.000000  4167.000000  4167.000000  4167.000000  4.167000e+03   \n",
       "mean     76.240588    76.940725    75.499032    76.257157  5.530674e+07   \n",
       "std      31.072400    31.208413    30.907752    31.083875  3.168548e+08   \n",
       "min      32.201900    32.938000    32.109900    32.754000  0.000000e+00   \n",
       "25%      55.203200    56.000000    54.500000    55.203300  3.163310e+07   \n",
       "50%      63.800000    64.500000    63.100000    63.900000  4.331330e+07   \n",
       "75%      89.900000    90.549300    88.950000    90.041300  6.154600e+07   \n",
       "max     175.000000   176.500000   174.500000   176.500000  2.040451e+10   \n",
       "\n",
       "         Adj Close  \n",
       "count  4167.000000  \n",
       "mean     60.249221  \n",
       "std      34.762493  \n",
       "min      20.446400  \n",
       "25%      36.601700  \n",
       "50%      45.676900  \n",
       "75%      72.942600  \n",
       "max     176.500000  "
      ]
     },
     "execution_count": 72,
     "metadata": {},
     "output_type": "execute_result"
    }
   ],
   "source": [
    "df.describe()"
   ]
  },
  {
   "cell_type": "code",
   "execution_count": 75,
   "metadata": {
    "collapsed": false
   },
   "outputs": [
    {
     "data": {
      "text/plain": [
       "32.753999999999998"
      ]
     },
     "execution_count": 75,
     "metadata": {},
     "output_type": "execute_result"
    }
   ],
   "source": [
    "df['Close'].min()"
   ]
  },
  {
   "cell_type": "code",
   "execution_count": 77,
   "metadata": {
    "collapsed": false
   },
   "outputs": [
    {
     "data": {
      "text/plain": [
       "176.5"
      ]
     },
     "execution_count": 77,
     "metadata": {},
     "output_type": "execute_result"
    }
   ],
   "source": [
    "df['Close'].max()"
   ]
  },
  {
   "cell_type": "code",
   "execution_count": 79,
   "metadata": {
    "collapsed": false
   },
   "outputs": [
    {
     "data": {
      "text/plain": [
       "4167"
      ]
     },
     "execution_count": 79,
     "metadata": {},
     "output_type": "execute_result"
    }
   ],
   "source": [
    "df['Close'].count()"
   ]
  },
  {
   "cell_type": "markdown",
   "metadata": {},
   "source": [
    "## 找出資料的中心"
   ]
  },
  {
   "cell_type": "code",
   "execution_count": 84,
   "metadata": {
    "collapsed": false
   },
   "outputs": [
    {
     "name": "stdout",
     "output_type": "stream",
     "text": [
      "76.2571565395\n",
      "76.2571565395\n"
     ]
    }
   ],
   "source": [
    "print df['Close'].mean() # sum / count\n",
    "print df['Close'].sum() / df['Close'].count()"
   ]
  },
  {
   "cell_type": "code",
   "execution_count": 86,
   "metadata": {
    "collapsed": false
   },
   "outputs": [
    {
     "data": {
      "text/plain": [
       "24.23076923076923"
      ]
     },
     "execution_count": 86,
     "metadata": {},
     "output_type": "execute_result"
    }
   ],
   "source": [
    "tempreture = pandas.Series([23,34,23,21,25,26,27,34,32,27,16,12,15])\n",
    "tempreture.mean()"
   ]
  },
  {
   "cell_type": "code",
   "execution_count": 90,
   "metadata": {
    "collapsed": false
   },
   "outputs": [
    {
     "data": {
      "text/plain": [
       "207.0"
      ]
     },
     "execution_count": 90,
     "metadata": {},
     "output_type": "execute_result"
    }
   ],
   "source": [
    "# outliers affect the average\n",
    "tempreture2 = pandas.Series([23,34,23,21,25,26,27,34,32,27,16,12,15,999,999,999]) \n",
    "tempreture2.mean()"
   ]
  },
  {
   "cell_type": "code",
   "execution_count": 95,
   "metadata": {
    "collapsed": false
   },
   "outputs": [
    {
     "name": "stdout",
     "output_type": "stream",
     "text": [
      "11    12\n",
      "12    15\n",
      "10    16\n",
      "3     21\n",
      "0     23\n",
      "2     23\n",
      "4     25\n",
      "5     26\n",
      "6     27\n",
      "9     27\n",
      "8     32\n",
      "1     34\n",
      "7     34\n",
      "dtype: int64\n",
      "Median: 25.0\n"
     ]
    }
   ],
   "source": [
    "tempreture = pandas.Series([23,34,23,21,25,26,27,34,32,27,16,12,15])\n",
    "print tempreture.sort_values()\n",
    "print \"Median:\",tempreture.median()"
   ]
  },
  {
   "cell_type": "code",
   "execution_count": 96,
   "metadata": {
    "collapsed": false
   },
   "outputs": [
    {
     "name": "stdout",
     "output_type": "stream",
     "text": [
      "26.5\n"
     ]
    }
   ],
   "source": [
    "# outliers affect the average\n",
    "tempreture2 = pandas.Series([23,34,23,21,25,26,27,34,32,27,16,12,15,999,999,999]) \n",
    "print tempreture2.median()"
   ]
  },
  {
   "cell_type": "code",
   "execution_count": 98,
   "metadata": {
    "collapsed": false
   },
   "outputs": [
    {
     "data": {
      "text/plain": [
       "0      True\n",
       "1      True\n",
       "2      True\n",
       "3      True\n",
       "4      True\n",
       "5      True\n",
       "6      True\n",
       "7      True\n",
       "8      True\n",
       "9      True\n",
       "10     True\n",
       "11     True\n",
       "12     True\n",
       "13    False\n",
       "14    False\n",
       "15    False\n",
       "dtype: bool"
      ]
     },
     "execution_count": 98,
     "metadata": {},
     "output_type": "execute_result"
    }
   ],
   "source": [
    "# outliers affect the average\n",
    "tempreture2 = pandas.Series([23,34,23,21,25,26,27,34,32,27,16,12,15,999,999,999]) \n",
    "tempreture2 < 40"
   ]
  },
  {
   "cell_type": "code",
   "execution_count": 100,
   "metadata": {
    "collapsed": false
   },
   "outputs": [
    {
     "data": {
      "text/plain": [
       "24.23076923076923"
      ]
     },
     "execution_count": 100,
     "metadata": {},
     "output_type": "execute_result"
    }
   ],
   "source": [
    "tempreture2[tempreture2 < 40].mean()"
   ]
  },
  {
   "cell_type": "code",
   "execution_count": 101,
   "metadata": {
    "collapsed": false
   },
   "outputs": [
    {
     "data": {
      "text/plain": [
       "26.5"
      ]
     },
     "execution_count": 101,
     "metadata": {},
     "output_type": "execute_result"
    }
   ],
   "source": [
    "tempreture2.median()"
   ]
  },
  {
   "cell_type": "markdown",
   "metadata": {},
   "source": [
    "## 找出資料的離散程度"
   ]
  },
  {
   "cell_type": "code",
   "execution_count": 104,
   "metadata": {
    "collapsed": false
   },
   "outputs": [
    {
     "data": {
      "text/plain": [
       "11    12\n",
       "12    15\n",
       "10    16\n",
       "3     21\n",
       "0     23\n",
       "2     23\n",
       "4     25\n",
       "5     26\n",
       "6     27\n",
       "9     27\n",
       "8     32\n",
       "1     34\n",
       "7     34\n",
       "dtype: int64"
      ]
     },
     "execution_count": 104,
     "metadata": {},
     "output_type": "execute_result"
    }
   ],
   "source": [
    "tempreture = pandas.Series([23,34,23,21,25,26,27,34,32,27,16,12,15])\n",
    "tempreture.sort_values()"
   ]
  },
  {
   "cell_type": "code",
   "execution_count": 106,
   "metadata": {
    "collapsed": false
   },
   "outputs": [
    {
     "data": {
      "text/plain": [
       "25.0"
      ]
     },
     "execution_count": 106,
     "metadata": {},
     "output_type": "execute_result"
    }
   ],
   "source": [
    "tempreture.median()"
   ]
  },
  {
   "cell_type": "code",
   "execution_count": 108,
   "metadata": {
    "collapsed": false
   },
   "outputs": [
    {
     "data": {
      "text/plain": [
       "34"
      ]
     },
     "execution_count": 108,
     "metadata": {},
     "output_type": "execute_result"
    }
   ],
   "source": [
    "tempreture.max()"
   ]
  },
  {
   "cell_type": "code",
   "execution_count": 110,
   "metadata": {
    "collapsed": false
   },
   "outputs": [
    {
     "data": {
      "text/plain": [
       "12"
      ]
     },
     "execution_count": 110,
     "metadata": {},
     "output_type": "execute_result"
    }
   ],
   "source": [
    "tempreture.min()"
   ]
  },
  {
   "cell_type": "code",
   "execution_count": 112,
   "metadata": {
    "collapsed": false
   },
   "outputs": [
    {
     "data": {
      "text/plain": [
       "25.0"
      ]
     },
     "execution_count": 112,
     "metadata": {},
     "output_type": "execute_result"
    }
   ],
   "source": [
    "tempreture.quantile(0.5) # quantile(0.5) = median"
   ]
  },
  {
   "cell_type": "code",
   "execution_count": 114,
   "metadata": {
    "collapsed": false
   },
   "outputs": [
    {
     "data": {
      "text/plain": [
       "27.0"
      ]
     },
     "execution_count": 114,
     "metadata": {},
     "output_type": "execute_result"
    }
   ],
   "source": [
    "tempreture.quantile(0.75) # the median of 25, 26, 27, 27, 32, 34, 34"
   ]
  },
  {
   "cell_type": "code",
   "execution_count": 115,
   "metadata": {
    "collapsed": false
   },
   "outputs": [
    {
     "data": {
      "text/plain": [
       "21.0"
      ]
     },
     "execution_count": 115,
     "metadata": {},
     "output_type": "execute_result"
    }
   ],
   "source": [
    "tempreture.quantile(0.25) # the median of 12, 15, 16, 21, 23, 23, 25"
   ]
  },
  {
   "cell_type": "code",
   "execution_count": 118,
   "metadata": {
    "collapsed": false
   },
   "outputs": [
    {
     "data": {
      "text/plain": [
       "6.0"
      ]
     },
     "execution_count": 118,
     "metadata": {},
     "output_type": "execute_result"
    }
   ],
   "source": [
    "IQR = tempreture.quantile(0.75) - tempreture.quantile(0.25)\n",
    "IQR"
   ]
  },
  {
   "cell_type": "code",
   "execution_count": 135,
   "metadata": {
    "collapsed": false
   },
   "outputs": [],
   "source": [
    "import pandas, datetime\n",
    "df = pandas.io.data.get_data_yahoo(['2330.TW', '2498.TW', '3008.TW'], \n",
    "                               start=datetime.datetime(2000, 1, 1), \n",
    "                               end=datetime.datetime(2016, 1, 1))['Adj Close']\n"
   ]
  },
  {
   "cell_type": "code",
   "execution_count": 136,
   "metadata": {
    "collapsed": false
   },
   "outputs": [
    {
     "name": "stdout",
     "output_type": "stream",
     "text": [
      "314.7381\n"
     ]
    }
   ],
   "source": [
    "tw2498 =df['2498.TW'] \n",
    "# nan = not a number\n",
    "tw2498 = tw2498.dropna()\n",
    "print tw2498.quantile(0.75) - tw2498.quantile(0.25)"
   ]
  },
  {
   "cell_type": "code",
   "execution_count": 137,
   "metadata": {
    "collapsed": false
   },
   "outputs": [
    {
     "name": "stdout",
     "output_type": "stream",
     "text": [
      "30.554275\n"
     ]
    }
   ],
   "source": [
    "tw2330 =df['2330.TW'] \n",
    "# nan = not a number\n",
    "tw2330 = tw2330.dropna()\n",
    "print tw2330.quantile(0.75) - tw2330.quantile(0.25)"
   ]
  },
  {
   "cell_type": "code",
   "execution_count": 138,
   "metadata": {
    "collapsed": false
   },
   "outputs": [
    {
     "name": "stdout",
     "output_type": "stream",
     "text": [
      "471.146\n"
     ]
    }
   ],
   "source": [
    "tw3008 =df['3008.TW'] \n",
    "# nan = not a number\n",
    "tw3008 = tw3008.dropna()\n",
    "print tw3008.quantile(0.75) - tw3008.quantile(0.25)"
   ]
  },
  {
   "cell_type": "code",
   "execution_count": 139,
   "metadata": {
    "collapsed": false
   },
   "outputs": [
    {
     "name": "stdout",
     "output_type": "stream",
     "text": [
      "Populating the interactive namespace from numpy and matplotlib\n"
     ]
    }
   ],
   "source": [
    "%pylab inline"
   ]
  },
  {
   "cell_type": "code",
   "execution_count": 133,
   "metadata": {
    "collapsed": true
   },
   "outputs": [],
   "source": [
    "?tw2330.plot"
   ]
  },
  {
   "cell_type": "code",
   "execution_count": 140,
   "metadata": {
    "collapsed": false
   },
   "outputs": [
    {
     "data": {
      "text/plain": [
       "<matplotlib.axes._subplots.AxesSubplot at 0x97ebfd0>"
      ]
     },
     "execution_count": 140,
     "metadata": {},
     "output_type": "execute_result"
    },
    {
     "data": {
      "image/png": "[encoded data removed]",
      "text/plain": [
       "<matplotlib.figure.Figure at 0xa7c3cc0>"
      ]
     },
     "metadata": {},
     "output_type": "display_data"
    }
   ],
   "source": [
    "tw2330.plot(kind='box')"
   ]
  },
  {
   "cell_type": "code",
   "execution_count": 152,
   "metadata": {
    "collapsed": false
   },
   "outputs": [
    {
     "data": {
      "text/plain": [
       "<matplotlib.axes._subplots.AxesSubplot at 0xc00d2e8>"
      ]
     },
     "execution_count": 152,
     "metadata": {},
     "output_type": "execute_result"
    },
    {
     "data": {
      "image/png": "[encoded data removed]",
      "text/plain": [
       "<matplotlib.figure.Figure at 0xc3f0198>"
      ]
     },
     "metadata": {},
     "output_type": "display_data"
    }
   ],
   "source": [
    "tw2330.plot(kind='hist')"
   ]
  },
  {
   "cell_type": "code",
   "execution_count": 142,
   "metadata": {
    "collapsed": false
   },
   "outputs": [
    {
     "data": {
      "text/plain": [
       "<matplotlib.axes._subplots.AxesSubplot at 0x92ca710>"
      ]
     },
     "execution_count": 142,
     "metadata": {},
     "output_type": "execute_result"
    },
    {
     "data": {
      "image/png": "[encoded data removed]",
      "text/plain": [
       "<matplotlib.figure.Figure at 0xaa9ce10>"
      ]
     },
     "metadata": {},
     "output_type": "display_data"
    }
   ],
   "source": [
    "df.plot(kind='box')"
   ]
  },
  {
   "cell_type": "code",
   "execution_count": 145,
   "metadata": {
    "collapsed": false
   },
   "outputs": [
    {
     "data": {
      "text/plain": [
       "<matplotlib.axes._subplots.AxesSubplot at 0xa8e0b70>"
      ]
     },
     "execution_count": 145,
     "metadata": {},
     "output_type": "execute_result"
    },
    {
     "data": {
      "image/png": "[encoded data removed]",
      "text/plain": [
       "<matplotlib.figure.Figure at 0xb7b04a8>"
      ]
     },
     "metadata": {},
     "output_type": "display_data"
    }
   ],
   "source": [
    "# outliers affect the average\n",
    "tempreture2 = pandas.Series([23,34,23,21,25,26,27,34,32,27,16,12,15,999,999,999]) \n",
    "tempreture2.plot(kind='box', ylim= [1,1200])"
   ]
  },
  {
   "cell_type": "code",
   "execution_count": 147,
   "metadata": {
    "collapsed": false
   },
   "outputs": [
    {
     "data": {
      "text/plain": [
       "0      True\n",
       "1      True\n",
       "2      True\n",
       "3      True\n",
       "4      True\n",
       "5      True\n",
       "6      True\n",
       "7      True\n",
       "8      True\n",
       "9      True\n",
       "10     True\n",
       "11     True\n",
       "12     True\n",
       "13    False\n",
       "14    False\n",
       "15    False\n",
       "dtype: bool"
      ]
     },
     "execution_count": 147,
     "metadata": {},
     "output_type": "execute_result"
    }
   ],
   "source": [
    "tempreture2 < 40"
   ]
  },
  {
   "cell_type": "code",
   "execution_count": 150,
   "metadata": {
    "collapsed": false
   },
   "outputs": [
    {
     "data": {
      "text/plain": [
       "<matplotlib.axes._subplots.AxesSubplot at 0xb7b01d0>"
      ]
     },
     "execution_count": 150,
     "metadata": {},
     "output_type": "execute_result"
    },
    {
     "data": {
      "image/png": "[encoded data removed]",
      "text/plain": [
       "<matplotlib.figure.Figure at 0xbf77e80>"
      ]
     },
     "metadata": {},
     "output_type": "display_data"
    }
   ],
   "source": [
    "tempreture2[tempreture2 < 40].plot(kind='box')"
   ]
  },
  {
   "cell_type": "code",
   "execution_count": 151,
   "metadata": {
    "collapsed": false
   },
   "outputs": [
    {
     "data": {
      "text/plain": [
       "<matplotlib.axes._subplots.AxesSubplot at 0xb7b0160>"
      ]
     },
     "execution_count": 151,
     "metadata": {},
     "output_type": "execute_result"
    },
    {
     "data": {
      "image/png": "[encoded data removed]",
      "text/plain": [
       "<matplotlib.figure.Figure at 0xbe98518>"
      ]
     },
     "metadata": {},
     "output_type": "display_data"
    }
   ],
   "source": [
    "tempreture2[tempreture2 < 40].plot(kind='hist')"
   ]
  }
 ],
 "metadata": {
  "anaconda-cloud": {},
  "kernelspec": {
   "display_name": "Python [Root]",
   "language": "python",
   "name": "Python [Root]"
  },
  "language_info": {
   "codemirror_mode": {
    "name": "ipython",
    "version": 2
   },
   "file_extension": ".py",
   "mimetype": "text/x-python",
   "name": "python",
   "nbconvert_exporter": "python",
   "pygments_lexer": "ipython2",
   "version": "2.7.12"
  }
 },
 "nbformat": 4,
 "nbformat_minor": 0
}
