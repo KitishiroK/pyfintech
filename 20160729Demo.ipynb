{
 "cells": [
  {
   "cell_type": "markdown",
   "metadata": {},
   "source": [
    "## Pandas IO"
   ]
  },
  {
   "cell_type": "code",
   "execution_count": 3,
   "metadata": {
    "collapsed": false
   },
   "outputs": [
    {
     "data": {
      "text/html": [
       "<div>\n",
       "<table border=\"1\" class=\"dataframe\">\n",
       "  <thead>\n",
       "    <tr style=\"text-align: right;\">\n",
       "      <th></th>\n",
       "      <th>Date</th>\n",
       "      <th>Open</th>\n",
       "      <th>High</th>\n",
       "      <th>Low</th>\n",
       "      <th>Close</th>\n",
       "      <th>Volume</th>\n",
       "      <th>Adj Close</th>\n",
       "    </tr>\n",
       "  </thead>\n",
       "  <tbody>\n",
       "    <tr>\n",
       "      <th>0</th>\n",
       "      <td>2016-07-28</td>\n",
       "      <td>175.0</td>\n",
       "      <td>176.5</td>\n",
       "      <td>173.0</td>\n",
       "      <td>176.5</td>\n",
       "      <td>31071000</td>\n",
       "      <td>176.5</td>\n",
       "    </tr>\n",
       "    <tr>\n",
       "      <th>1</th>\n",
       "      <td>2016-07-27</td>\n",
       "      <td>175.0</td>\n",
       "      <td>176.0</td>\n",
       "      <td>174.5</td>\n",
       "      <td>175.0</td>\n",
       "      <td>34117000</td>\n",
       "      <td>175.0</td>\n",
       "    </tr>\n",
       "    <tr>\n",
       "      <th>2</th>\n",
       "      <td>2016-07-26</td>\n",
       "      <td>172.0</td>\n",
       "      <td>173.0</td>\n",
       "      <td>171.5</td>\n",
       "      <td>173.0</td>\n",
       "      <td>32685000</td>\n",
       "      <td>173.0</td>\n",
       "    </tr>\n",
       "    <tr>\n",
       "      <th>3</th>\n",
       "      <td>2016-07-25</td>\n",
       "      <td>172.0</td>\n",
       "      <td>173.0</td>\n",
       "      <td>169.0</td>\n",
       "      <td>171.5</td>\n",
       "      <td>27145000</td>\n",
       "      <td>171.5</td>\n",
       "    </tr>\n",
       "    <tr>\n",
       "      <th>4</th>\n",
       "      <td>2016-07-22</td>\n",
       "      <td>172.0</td>\n",
       "      <td>172.0</td>\n",
       "      <td>170.5</td>\n",
       "      <td>171.0</td>\n",
       "      <td>28504000</td>\n",
       "      <td>171.0</td>\n",
       "    </tr>\n",
       "    <tr>\n",
       "      <th>5</th>\n",
       "      <td>2016-07-21</td>\n",
       "      <td>171.0</td>\n",
       "      <td>172.0</td>\n",
       "      <td>170.0</td>\n",
       "      <td>172.0</td>\n",
       "      <td>33130000</td>\n",
       "      <td>172.0</td>\n",
       "    </tr>\n",
       "    <tr>\n",
       "      <th>6</th>\n",
       "      <td>2016-07-20</td>\n",
       "      <td>170.0</td>\n",
       "      <td>170.5</td>\n",
       "      <td>169.0</td>\n",
       "      <td>170.0</td>\n",
       "      <td>38053000</td>\n",
       "      <td>170.0</td>\n",
       "    </tr>\n",
       "    <tr>\n",
       "      <th>7</th>\n",
       "      <td>2016-07-19</td>\n",
       "      <td>170.5</td>\n",
       "      <td>170.5</td>\n",
       "      <td>169.0</td>\n",
       "      <td>170.5</td>\n",
       "      <td>42456000</td>\n",
       "      <td>170.5</td>\n",
       "    </tr>\n",
       "    <tr>\n",
       "      <th>8</th>\n",
       "      <td>2016-07-18</td>\n",
       "      <td>168.0</td>\n",
       "      <td>170.0</td>\n",
       "      <td>168.0</td>\n",
       "      <td>169.5</td>\n",
       "      <td>24749000</td>\n",
       "      <td>169.5</td>\n",
       "    </tr>\n",
       "    <tr>\n",
       "      <th>9</th>\n",
       "      <td>2016-07-15</td>\n",
       "      <td>169.5</td>\n",
       "      <td>169.5</td>\n",
       "      <td>169.5</td>\n",
       "      <td>169.5</td>\n",
       "      <td>41000</td>\n",
       "      <td>169.5</td>\n",
       "    </tr>\n",
       "  </tbody>\n",
       "</table>\n",
       "</div>"
      ],
      "text/plain": [
       "         Date   Open   High    Low  Close    Volume  Adj Close\n",
       "0  2016-07-28  175.0  176.5  173.0  176.5  31071000      176.5\n",
       "1  2016-07-27  175.0  176.0  174.5  175.0  34117000      175.0\n",
       "2  2016-07-26  172.0  173.0  171.5  173.0  32685000      173.0\n",
       "3  2016-07-25  172.0  173.0  169.0  171.5  27145000      171.5\n",
       "4  2016-07-22  172.0  172.0  170.5  171.0  28504000      171.0\n",
       "5  2016-07-21  171.0  172.0  170.0  172.0  33130000      172.0\n",
       "6  2016-07-20  170.0  170.5  169.0  170.0  38053000      170.0\n",
       "7  2016-07-19  170.5  170.5  169.0  170.5  42456000      170.5\n",
       "8  2016-07-18  168.0  170.0  168.0  169.5  24749000      169.5\n",
       "9  2016-07-15  169.5  169.5  169.5  169.5     41000      169.5"
      ]
     },
     "execution_count": 3,
     "metadata": {},
     "output_type": "execute_result"
    }
   ],
   "source": [
    "import pandas # Read pandas package into python\n",
    "df = pandas.read_csv('C:\\\\Users\\\\Student\\\\tw2330.csv') # read data from tw2330.csv to DataFrame\n",
    "df.head() # Read the first 5 rows\n",
    "df.head(10) # Read the first 10 rows"
   ]
  },
  {
   "cell_type": "code",
   "execution_count": 6,
   "metadata": {
    "collapsed": false
   },
   "outputs": [
    {
     "data": {
      "text/html": [
       "<div>\n",
       "<table border=\"1\" class=\"dataframe\">\n",
       "  <thead>\n",
       "    <tr style=\"text-align: right;\">\n",
       "      <th></th>\n",
       "      <th>Dates</th>\n",
       "      <th>Open</th>\n",
       "      <th>High</th>\n",
       "      <th>Low</th>\n",
       "      <th>Close</th>\n",
       "      <th>Volume</th>\n",
       "      <th>Adj Close</th>\n",
       "    </tr>\n",
       "  </thead>\n",
       "  <tbody>\n",
       "    <tr>\n",
       "      <th>0</th>\n",
       "      <td>2016-07-28</td>\n",
       "      <td>175.0</td>\n",
       "      <td>176.5</td>\n",
       "      <td>173.0</td>\n",
       "      <td>176.5</td>\n",
       "      <td>31071000</td>\n",
       "      <td>176.5</td>\n",
       "    </tr>\n",
       "    <tr>\n",
       "      <th>1</th>\n",
       "      <td>2016-07-27</td>\n",
       "      <td>175.0</td>\n",
       "      <td>176.0</td>\n",
       "      <td>174.5</td>\n",
       "      <td>175.0</td>\n",
       "      <td>34117000</td>\n",
       "      <td>175.0</td>\n",
       "    </tr>\n",
       "    <tr>\n",
       "      <th>2</th>\n",
       "      <td>2016-07-26</td>\n",
       "      <td>172.0</td>\n",
       "      <td>173.0</td>\n",
       "      <td>171.5</td>\n",
       "      <td>173.0</td>\n",
       "      <td>32685000</td>\n",
       "      <td>173.0</td>\n",
       "    </tr>\n",
       "    <tr>\n",
       "      <th>3</th>\n",
       "      <td>2016-07-25</td>\n",
       "      <td>172.0</td>\n",
       "      <td>173.0</td>\n",
       "      <td>169.0</td>\n",
       "      <td>171.5</td>\n",
       "      <td>27145000</td>\n",
       "      <td>171.5</td>\n",
       "    </tr>\n",
       "    <tr>\n",
       "      <th>4</th>\n",
       "      <td>2016-07-22</td>\n",
       "      <td>172.0</td>\n",
       "      <td>172.0</td>\n",
       "      <td>170.5</td>\n",
       "      <td>171.0</td>\n",
       "      <td>28504000</td>\n",
       "      <td>171.0</td>\n",
       "    </tr>\n",
       "    <tr>\n",
       "      <th>5</th>\n",
       "      <td>2016-07-21</td>\n",
       "      <td>171.0</td>\n",
       "      <td>172.0</td>\n",
       "      <td>170.0</td>\n",
       "      <td>172.0</td>\n",
       "      <td>33130000</td>\n",
       "      <td>172.0</td>\n",
       "    </tr>\n",
       "    <tr>\n",
       "      <th>6</th>\n",
       "      <td>2016-07-20</td>\n",
       "      <td>170.0</td>\n",
       "      <td>170.5</td>\n",
       "      <td>169.0</td>\n",
       "      <td>170.0</td>\n",
       "      <td>38053000</td>\n",
       "      <td>170.0</td>\n",
       "    </tr>\n",
       "    <tr>\n",
       "      <th>7</th>\n",
       "      <td>2016-07-19</td>\n",
       "      <td>170.5</td>\n",
       "      <td>170.5</td>\n",
       "      <td>169.0</td>\n",
       "      <td>170.5</td>\n",
       "      <td>42456000</td>\n",
       "      <td>170.5</td>\n",
       "    </tr>\n",
       "    <tr>\n",
       "      <th>8</th>\n",
       "      <td>2016-07-18</td>\n",
       "      <td>168.0</td>\n",
       "      <td>170.0</td>\n",
       "      <td>168.0</td>\n",
       "      <td>169.5</td>\n",
       "      <td>24749000</td>\n",
       "      <td>169.5</td>\n",
       "    </tr>\n",
       "    <tr>\n",
       "      <th>9</th>\n",
       "      <td>2016-07-15</td>\n",
       "      <td>169.5</td>\n",
       "      <td>169.5</td>\n",
       "      <td>169.5</td>\n",
       "      <td>169.5</td>\n",
       "      <td>41000</td>\n",
       "      <td>169.5</td>\n",
       "    </tr>\n",
       "  </tbody>\n",
       "</table>\n",
       "</div>"
      ],
      "text/plain": [
       "       Dates   Open   High    Low  Close    Volume  Adj Close\n",
       "0 2016-07-28  175.0  176.5  173.0  176.5  31071000      176.5\n",
       "1 2016-07-27  175.0  176.0  174.5  175.0  34117000      175.0\n",
       "2 2016-07-26  172.0  173.0  171.5  173.0  32685000      173.0\n",
       "3 2016-07-25  172.0  173.0  169.0  171.5  27145000      171.5\n",
       "4 2016-07-22  172.0  172.0  170.5  171.0  28504000      171.0\n",
       "5 2016-07-21  171.0  172.0  170.0  172.0  33130000      172.0\n",
       "6 2016-07-20  170.0  170.5  169.0  170.0  38053000      170.0\n",
       "7 2016-07-19  170.5  170.5  169.0  170.5  42456000      170.5\n",
       "8 2016-07-18  168.0  170.0  168.0  169.5  24749000      169.5\n",
       "9 2016-07-15  169.5  169.5  169.5  169.5     41000      169.5"
      ]
     },
     "execution_count": 6,
     "metadata": {},
     "output_type": "execute_result"
    }
   ],
   "source": [
    "import pandas # Read pandas package into python\n",
    "df = pandas.read_csv('C:\\\\Users\\\\Student\\\\tw2330.csv', \\\n",
    "                     parse_dates={'Dates': [0]}) # Transform date column into date type\n",
    "df.head() # Read the first 5 rows\n",
    "df.head(10) # Read the first 10 rows"
   ]
  },
  {
   "cell_type": "code",
   "execution_count": null,
   "metadata": {
    "collapsed": true
   },
   "outputs": [],
   "source": [
    "import pandas\n",
    "df = pandas.io.data.DataReader(name='2330.TW', data_source='yahoo',start='2000-1-1')"
   ]
  },
  {
   "cell_type": "code",
   "execution_count": 52,
   "metadata": {
    "collapsed": false
   },
   "outputs": [
    {
     "data": {
      "text/html": [
       "<div>\n",
       "<table border=\"1\" class=\"dataframe\">\n",
       "  <thead>\n",
       "    <tr style=\"text-align: right;\">\n",
       "      <th></th>\n",
       "      <th>Open</th>\n",
       "      <th>High</th>\n",
       "      <th>Low</th>\n",
       "      <th>Close</th>\n",
       "      <th>Volume</th>\n",
       "      <th>Adj Close</th>\n",
       "    </tr>\n",
       "    <tr>\n",
       "      <th>Date</th>\n",
       "      <th></th>\n",
       "      <th></th>\n",
       "      <th></th>\n",
       "      <th></th>\n",
       "      <th></th>\n",
       "      <th></th>\n",
       "    </tr>\n",
       "  </thead>\n",
       "  <tbody>\n",
       "    <tr>\n",
       "      <th>2000-01-04</th>\n",
       "      <td>83.0813</td>\n",
       "      <td>83.0813</td>\n",
       "      <td>81.6811</td>\n",
       "      <td>83.0813</td>\n",
       "      <td>149083800</td>\n",
       "      <td>29.6180</td>\n",
       "    </tr>\n",
       "    <tr>\n",
       "      <th>2000-01-05</th>\n",
       "      <td>83.0813</td>\n",
       "      <td>84.9482</td>\n",
       "      <td>82.1478</td>\n",
       "      <td>84.9482</td>\n",
       "      <td>299016300</td>\n",
       "      <td>30.2836</td>\n",
       "    </tr>\n",
       "    <tr>\n",
       "      <th>2000-01-06</th>\n",
       "      <td>84.4815</td>\n",
       "      <td>84.9482</td>\n",
       "      <td>83.0813</td>\n",
       "      <td>83.0813</td>\n",
       "      <td>146768300</td>\n",
       "      <td>29.6180</td>\n",
       "    </tr>\n",
       "    <tr>\n",
       "      <th>2000-01-07</th>\n",
       "      <td>80.2809</td>\n",
       "      <td>81.6811</td>\n",
       "      <td>79.3474</td>\n",
       "      <td>80.7476</td>\n",
       "      <td>174796200</td>\n",
       "      <td>28.7861</td>\n",
       "    </tr>\n",
       "    <tr>\n",
       "      <th>2000-01-10</th>\n",
       "      <td>83.0813</td>\n",
       "      <td>84.0148</td>\n",
       "      <td>81.6811</td>\n",
       "      <td>83.5480</td>\n",
       "      <td>205184200</td>\n",
       "      <td>29.7844</td>\n",
       "    </tr>\n",
       "  </tbody>\n",
       "</table>\n",
       "</div>"
      ],
      "text/plain": [
       "               Open     High      Low    Close     Volume  Adj Close\n",
       "Date                                                                \n",
       "2000-01-04  83.0813  83.0813  81.6811  83.0813  149083800    29.6180\n",
       "2000-01-05  83.0813  84.9482  82.1478  84.9482  299016300    30.2836\n",
       "2000-01-06  84.4815  84.9482  83.0813  83.0813  146768300    29.6180\n",
       "2000-01-07  80.2809  81.6811  79.3474  80.7476  174796200    28.7861\n",
       "2000-01-10  83.0813  84.0148  81.6811  83.5480  205184200    29.7844"
      ]
     },
     "execution_count": 52,
     "metadata": {},
     "output_type": "execute_result"
    }
   ],
   "source": [
    "import pandas.io.data as web # as => alias, use \"web\" to replace pandas.io.data\n",
    "df = web.DataReader(name='2330.TW', data_source='yahoo',start='2000-1-1')\n",
    "df.head()"
   ]
  },
  {
   "cell_type": "code",
   "execution_count": 53,
   "metadata": {
    "collapsed": false
   },
   "outputs": [
    {
     "name": "stdout",
     "output_type": "stream",
     "text": [
      "<class 'pandas.core.frame.DataFrame'>\n",
      "DatetimeIndex: 4167 entries, 2000-01-04 to 2016-07-28\n",
      "Data columns (total 6 columns):\n",
      "Open         4167 non-null float64\n",
      "High         4167 non-null float64\n",
      "Low          4167 non-null float64\n",
      "Close        4167 non-null float64\n",
      "Volume       4167 non-null int64\n",
      "Adj Close    4167 non-null float64\n",
      "dtypes: float64(5), int64(1)\n",
      "memory usage: 227.9 KB\n"
     ]
    }
   ],
   "source": [
    "df.info()"
   ]
  },
  {
   "cell_type": "code",
   "execution_count": 54,
   "metadata": {
    "collapsed": false
   },
   "outputs": [
    {
     "data": {
      "text/plain": [
       "Open         float64\n",
       "High         float64\n",
       "Low          float64\n",
       "Close        float64\n",
       "Volume         int64\n",
       "Adj Close    float64\n",
       "dtype: object"
      ]
     },
     "execution_count": 54,
     "metadata": {},
     "output_type": "execute_result"
    }
   ],
   "source": [
    "df.dtypes"
   ]
  },
  {
   "cell_type": "code",
   "execution_count": 55,
   "metadata": {
    "collapsed": false
   },
   "outputs": [
    {
     "data": {
      "text/html": [
       "<div>\n",
       "<table border=\"1\" class=\"dataframe\">\n",
       "  <thead>\n",
       "    <tr style=\"text-align: right;\">\n",
       "      <th></th>\n",
       "      <th>Open</th>\n",
       "      <th>High</th>\n",
       "      <th>Low</th>\n",
       "      <th>Close</th>\n",
       "      <th>Volume</th>\n",
       "      <th>Adj Close</th>\n",
       "    </tr>\n",
       "  </thead>\n",
       "  <tbody>\n",
       "    <tr>\n",
       "      <th>count</th>\n",
       "      <td>4167.000000</td>\n",
       "      <td>4167.000000</td>\n",
       "      <td>4167.000000</td>\n",
       "      <td>4167.000000</td>\n",
       "      <td>4.167000e+03</td>\n",
       "      <td>4167.000000</td>\n",
       "    </tr>\n",
       "    <tr>\n",
       "      <th>mean</th>\n",
       "      <td>76.240588</td>\n",
       "      <td>76.940725</td>\n",
       "      <td>75.499032</td>\n",
       "      <td>76.257157</td>\n",
       "      <td>5.530674e+07</td>\n",
       "      <td>60.249221</td>\n",
       "    </tr>\n",
       "    <tr>\n",
       "      <th>std</th>\n",
       "      <td>31.072400</td>\n",
       "      <td>31.208413</td>\n",
       "      <td>30.907752</td>\n",
       "      <td>31.083875</td>\n",
       "      <td>3.168548e+08</td>\n",
       "      <td>34.762493</td>\n",
       "    </tr>\n",
       "    <tr>\n",
       "      <th>min</th>\n",
       "      <td>32.201900</td>\n",
       "      <td>32.938000</td>\n",
       "      <td>32.109900</td>\n",
       "      <td>32.754000</td>\n",
       "      <td>0.000000e+00</td>\n",
       "      <td>20.446400</td>\n",
       "    </tr>\n",
       "    <tr>\n",
       "      <th>25%</th>\n",
       "      <td>55.203200</td>\n",
       "      <td>56.000000</td>\n",
       "      <td>54.500000</td>\n",
       "      <td>55.203300</td>\n",
       "      <td>3.163310e+07</td>\n",
       "      <td>36.601700</td>\n",
       "    </tr>\n",
       "    <tr>\n",
       "      <th>50%</th>\n",
       "      <td>63.800000</td>\n",
       "      <td>64.500000</td>\n",
       "      <td>63.100000</td>\n",
       "      <td>63.900000</td>\n",
       "      <td>4.331330e+07</td>\n",
       "      <td>45.676900</td>\n",
       "    </tr>\n",
       "    <tr>\n",
       "      <th>75%</th>\n",
       "      <td>89.900000</td>\n",
       "      <td>90.549300</td>\n",
       "      <td>88.950000</td>\n",
       "      <td>90.041300</td>\n",
       "      <td>6.154600e+07</td>\n",
       "      <td>72.942600</td>\n",
       "    </tr>\n",
       "    <tr>\n",
       "      <th>max</th>\n",
       "      <td>175.000000</td>\n",
       "      <td>176.500000</td>\n",
       "      <td>174.500000</td>\n",
       "      <td>176.500000</td>\n",
       "      <td>2.040451e+10</td>\n",
       "      <td>176.500000</td>\n",
       "    </tr>\n",
       "  </tbody>\n",
       "</table>\n",
       "</div>"
      ],
      "text/plain": [
       "              Open         High          Low        Close        Volume  \\\n",
       "count  4167.000000  4167.000000  4167.000000  4167.000000  4.167000e+03   \n",
       "mean     76.240588    76.940725    75.499032    76.257157  5.530674e+07   \n",
       "std      31.072400    31.208413    30.907752    31.083875  3.168548e+08   \n",
       "min      32.201900    32.938000    32.109900    32.754000  0.000000e+00   \n",
       "25%      55.203200    56.000000    54.500000    55.203300  3.163310e+07   \n",
       "50%      63.800000    64.500000    63.100000    63.900000  4.331330e+07   \n",
       "75%      89.900000    90.549300    88.950000    90.041300  6.154600e+07   \n",
       "max     175.000000   176.500000   174.500000   176.500000  2.040451e+10   \n",
       "\n",
       "         Adj Close  \n",
       "count  4167.000000  \n",
       "mean     60.249221  \n",
       "std      34.762493  \n",
       "min      20.446400  \n",
       "25%      36.601700  \n",
       "50%      45.676900  \n",
       "75%      72.942600  \n",
       "max     176.500000  "
      ]
     },
     "execution_count": 55,
     "metadata": {},
     "output_type": "execute_result"
    }
   ],
   "source": [
    "df.describe()"
   ]
  },
  {
   "cell_type": "markdown",
   "metadata": {},
   "source": [
    "## DataFrame 可以使用.loc 來篩選資料,格式為: .loc[row,column]"
   ]
  },
  {
   "cell_type": "code",
   "execution_count": 57,
   "metadata": {
    "collapsed": false
   },
   "outputs": [
    {
     "data": {
      "text/plain": [
       "count    1688.000000\n",
       "mean      102.720794\n",
       "std        31.400658\n",
       "min        57.200000\n",
       "25%        74.200000\n",
       "50%       101.500000\n",
       "75%       131.000000\n",
       "max       176.500000\n",
       "Name: Close, dtype: float64"
      ]
     },
     "execution_count": 57,
     "metadata": {},
     "output_type": "execute_result"
    }
   ],
   "source": [
    "df.loc[df.index >= '2010-01-01' , 'Close'].describe()"
   ]
  },
  {
   "cell_type": "code",
   "execution_count": 63,
   "metadata": {
    "collapsed": false
   },
   "outputs": [
    {
     "data": {
      "text/plain": [
       "count    502.000000\n",
       "mean      55.984465\n",
       "std        7.845962\n",
       "min       36.800000\n",
       "25%       51.325000\n",
       "50%       57.600000\n",
       "75%       62.000000\n",
       "max       69.400000\n",
       "Name: Close, dtype: float64"
      ]
     },
     "execution_count": 63,
     "metadata": {},
     "output_type": "execute_result"
    }
   ],
   "source": [
    "df.loc[(df.index >= '2008-01-01') &  (df.index < '2010-01-01') ,  'Close'].describe()"
   ]
  },
  {
   "cell_type": "markdown",
   "metadata": {},
   "source": [
    "## DataFrame Basic Operation"
   ]
  },
  {
   "cell_type": "code",
   "execution_count": 12,
   "metadata": {
    "collapsed": false
   },
   "outputs": [
    {
     "name": "stdout",
     "output_type": "stream",
     "text": [
      "Qoo 180 75\n"
     ]
    }
   ],
   "source": [
    "names = ['Qoo', 'Mary', 'Jane']\n",
    "height = [180,173,165]\n",
    "weight = [75,62,55]\n",
    "print names[0], height[0], weight[0]"
   ]
  },
  {
   "cell_type": "code",
   "execution_count": 18,
   "metadata": {
    "collapsed": false
   },
   "outputs": [
    {
     "data": {
      "text/html": [
       "<div>\n",
       "<table border=\"1\" class=\"dataframe\">\n",
       "  <thead>\n",
       "    <tr style=\"text-align: right;\">\n",
       "      <th></th>\n",
       "      <th>height</th>\n",
       "      <th>name</th>\n",
       "      <th>weight</th>\n",
       "    </tr>\n",
       "  </thead>\n",
       "  <tbody>\n",
       "    <tr>\n",
       "      <th>0</th>\n",
       "      <td>180</td>\n",
       "      <td>Qoo</td>\n",
       "      <td>75</td>\n",
       "    </tr>\n",
       "    <tr>\n",
       "      <th>1</th>\n",
       "      <td>173</td>\n",
       "      <td>Mary</td>\n",
       "      <td>62</td>\n",
       "    </tr>\n",
       "    <tr>\n",
       "      <th>2</th>\n",
       "      <td>165</td>\n",
       "      <td>Jane</td>\n",
       "      <td>55</td>\n",
       "    </tr>\n",
       "  </tbody>\n",
       "</table>\n",
       "</div>"
      ],
      "text/plain": [
       "   height  name  weight\n",
       "0     180   Qoo      75\n",
       "1     173  Mary      62\n",
       "2     165  Jane      55"
      ]
     },
     "execution_count": 18,
     "metadata": {},
     "output_type": "execute_result"
    }
   ],
   "source": [
    "import pandas \n",
    "df = pandas.DataFrame({'name':names, 'height': height, 'weight': weight})\n",
    "df"
   ]
  },
  {
   "cell_type": "code",
   "execution_count": 29,
   "metadata": {
    "collapsed": false
   },
   "outputs": [
    {
     "data": {
      "text/plain": [
       "height    180\n",
       "name      Qoo\n",
       "weight     75\n",
       "Name: 0, dtype: object"
      ]
     },
     "execution_count": 29,
     "metadata": {},
     "output_type": "execute_result"
    }
   ],
   "source": [
    "df.loc[0,] # get all basic information of first person"
   ]
  },
  {
   "cell_type": "code",
   "execution_count": 28,
   "metadata": {
    "collapsed": false
   },
   "outputs": [
    {
     "data": {
      "text/plain": [
       "180"
      ]
     },
     "execution_count": 28,
     "metadata": {},
     "output_type": "execute_result"
    }
   ],
   "source": [
    "df.loc[0, 'height'] # get height information of first person"
   ]
  },
  {
   "cell_type": "code",
   "execution_count": 26,
   "metadata": {
    "collapsed": false
   },
   "outputs": [
    {
     "data": {
      "text/plain": [
       "height    180\n",
       "weight     75\n",
       "Name: 0, dtype: object"
      ]
     },
     "execution_count": 26,
     "metadata": {},
     "output_type": "execute_result"
    }
   ],
   "source": [
    "df.loc[0, ['height', 'weight']] # get height and weight information of first person"
   ]
  },
  {
   "cell_type": "code",
   "execution_count": 27,
   "metadata": {
    "collapsed": false
   },
   "outputs": [
    {
     "data": {
      "text/html": [
       "<div>\n",
       "<table border=\"1\" class=\"dataframe\">\n",
       "  <thead>\n",
       "    <tr style=\"text-align: right;\">\n",
       "      <th></th>\n",
       "      <th>height</th>\n",
       "      <th>weight</th>\n",
       "    </tr>\n",
       "  </thead>\n",
       "  <tbody>\n",
       "    <tr>\n",
       "      <th>0</th>\n",
       "      <td>180</td>\n",
       "      <td>75</td>\n",
       "    </tr>\n",
       "    <tr>\n",
       "      <th>1</th>\n",
       "      <td>173</td>\n",
       "      <td>62</td>\n",
       "    </tr>\n",
       "  </tbody>\n",
       "</table>\n",
       "</div>"
      ],
      "text/plain": [
       "   height  weight\n",
       "0     180      75\n",
       "1     173      62"
      ]
     },
     "execution_count": 27,
     "metadata": {},
     "output_type": "execute_result"
    }
   ],
   "source": [
    "df.loc[0:1, ['height', 'weight']] # get height information of first, and second person"
   ]
  },
  {
   "cell_type": "markdown",
   "metadata": {},
   "source": [
    "## 檢視數據基本性質"
   ]
  },
  {
   "cell_type": "code",
   "execution_count": 65,
   "metadata": {
    "collapsed": false
   },
   "outputs": [
    {
     "data": {
      "text/html": [
       "<div>\n",
       "<table border=\"1\" class=\"dataframe\">\n",
       "  <thead>\n",
       "    <tr style=\"text-align: right;\">\n",
       "      <th></th>\n",
       "      <th>Open</th>\n",
       "      <th>High</th>\n",
       "      <th>Low</th>\n",
       "      <th>Close</th>\n",
       "      <th>Volume</th>\n",
       "      <th>Adj Close</th>\n",
       "    </tr>\n",
       "    <tr>\n",
       "      <th>Date</th>\n",
       "      <th></th>\n",
       "      <th></th>\n",
       "      <th></th>\n",
       "      <th></th>\n",
       "      <th></th>\n",
       "      <th></th>\n",
       "    </tr>\n",
       "  </thead>\n",
       "  <tbody>\n",
       "    <tr>\n",
       "      <th>2000-01-04</th>\n",
       "      <td>83.0813</td>\n",
       "      <td>83.0813</td>\n",
       "      <td>81.6811</td>\n",
       "      <td>83.0813</td>\n",
       "      <td>149083800</td>\n",
       "      <td>29.6180</td>\n",
       "    </tr>\n",
       "    <tr>\n",
       "      <th>2000-01-05</th>\n",
       "      <td>83.0813</td>\n",
       "      <td>84.9482</td>\n",
       "      <td>82.1478</td>\n",
       "      <td>84.9482</td>\n",
       "      <td>299016300</td>\n",
       "      <td>30.2836</td>\n",
       "    </tr>\n",
       "    <tr>\n",
       "      <th>2000-01-06</th>\n",
       "      <td>84.4815</td>\n",
       "      <td>84.9482</td>\n",
       "      <td>83.0813</td>\n",
       "      <td>83.0813</td>\n",
       "      <td>146768300</td>\n",
       "      <td>29.6180</td>\n",
       "    </tr>\n",
       "    <tr>\n",
       "      <th>2000-01-07</th>\n",
       "      <td>80.2809</td>\n",
       "      <td>81.6811</td>\n",
       "      <td>79.3474</td>\n",
       "      <td>80.7476</td>\n",
       "      <td>174796200</td>\n",
       "      <td>28.7861</td>\n",
       "    </tr>\n",
       "    <tr>\n",
       "      <th>2000-01-10</th>\n",
       "      <td>83.0813</td>\n",
       "      <td>84.0148</td>\n",
       "      <td>81.6811</td>\n",
       "      <td>83.5480</td>\n",
       "      <td>205184200</td>\n",
       "      <td>29.7844</td>\n",
       "    </tr>\n",
       "  </tbody>\n",
       "</table>\n",
       "</div>"
      ],
      "text/plain": [
       "               Open     High      Low    Close     Volume  Adj Close\n",
       "Date                                                                \n",
       "2000-01-04  83.0813  83.0813  81.6811  83.0813  149083800    29.6180\n",
       "2000-01-05  83.0813  84.9482  82.1478  84.9482  299016300    30.2836\n",
       "2000-01-06  84.4815  84.9482  83.0813  83.0813  146768300    29.6180\n",
       "2000-01-07  80.2809  81.6811  79.3474  80.7476  174796200    28.7861\n",
       "2000-01-10  83.0813  84.0148  81.6811  83.5480  205184200    29.7844"
      ]
     },
     "execution_count": 65,
     "metadata": {},
     "output_type": "execute_result"
    }
   ],
   "source": [
    "import pandas.io.data as web # as => alias, use \"web\" to replace pandas.io.data\n",
    "df = web.DataReader(name='2330.TW', data_source='yahoo',start='2000-1-1')\n",
    "df.head()"
   ]
  },
  {
   "cell_type": "code",
   "execution_count": 66,
   "metadata": {
    "collapsed": true
   },
   "outputs": [],
   "source": [
    "?df.head"
   ]
  },
  {
   "cell_type": "code",
   "execution_count": 68,
   "metadata": {
    "collapsed": false
   },
   "outputs": [
    {
     "data": {
      "text/html": [
       "<div>\n",
       "<table border=\"1\" class=\"dataframe\">\n",
       "  <thead>\n",
       "    <tr style=\"text-align: right;\">\n",
       "      <th></th>\n",
       "      <th>Open</th>\n",
       "      <th>High</th>\n",
       "      <th>Low</th>\n",
       "      <th>Close</th>\n",
       "      <th>Volume</th>\n",
       "      <th>Adj Close</th>\n",
       "    </tr>\n",
       "    <tr>\n",
       "      <th>Date</th>\n",
       "      <th></th>\n",
       "      <th></th>\n",
       "      <th></th>\n",
       "      <th></th>\n",
       "      <th></th>\n",
       "      <th></th>\n",
       "    </tr>\n",
       "  </thead>\n",
       "  <tbody>\n",
       "    <tr>\n",
       "      <th>2000-01-04</th>\n",
       "      <td>83.0813</td>\n",
       "      <td>83.0813</td>\n",
       "      <td>81.6811</td>\n",
       "      <td>83.0813</td>\n",
       "      <td>149083800</td>\n",
       "      <td>29.6180</td>\n",
       "    </tr>\n",
       "    <tr>\n",
       "      <th>2000-01-05</th>\n",
       "      <td>83.0813</td>\n",
       "      <td>84.9482</td>\n",
       "      <td>82.1478</td>\n",
       "      <td>84.9482</td>\n",
       "      <td>299016300</td>\n",
       "      <td>30.2836</td>\n",
       "    </tr>\n",
       "    <tr>\n",
       "      <th>2000-01-06</th>\n",
       "      <td>84.4815</td>\n",
       "      <td>84.9482</td>\n",
       "      <td>83.0813</td>\n",
       "      <td>83.0813</td>\n",
       "      <td>146768300</td>\n",
       "      <td>29.6180</td>\n",
       "    </tr>\n",
       "  </tbody>\n",
       "</table>\n",
       "</div>"
      ],
      "text/plain": [
       "               Open     High      Low    Close     Volume  Adj Close\n",
       "Date                                                                \n",
       "2000-01-04  83.0813  83.0813  81.6811  83.0813  149083800    29.6180\n",
       "2000-01-05  83.0813  84.9482  82.1478  84.9482  299016300    30.2836\n",
       "2000-01-06  84.4815  84.9482  83.0813  83.0813  146768300    29.6180"
      ]
     },
     "execution_count": 68,
     "metadata": {},
     "output_type": "execute_result"
    }
   ],
   "source": [
    "df.head(3)"
   ]
  },
  {
   "cell_type": "code",
   "execution_count": 70,
   "metadata": {
    "collapsed": false
   },
   "outputs": [
    {
     "data": {
      "text/html": [
       "<div>\n",
       "<table border=\"1\" class=\"dataframe\">\n",
       "  <thead>\n",
       "    <tr style=\"text-align: right;\">\n",
       "      <th></th>\n",
       "      <th>Open</th>\n",
       "      <th>High</th>\n",
       "      <th>Low</th>\n",
       "      <th>Close</th>\n",
       "      <th>Volume</th>\n",
       "      <th>Adj Close</th>\n",
       "    </tr>\n",
       "    <tr>\n",
       "      <th>Date</th>\n",
       "      <th></th>\n",
       "      <th></th>\n",
       "      <th></th>\n",
       "      <th></th>\n",
       "      <th></th>\n",
       "      <th></th>\n",
       "    </tr>\n",
       "  </thead>\n",
       "  <tbody>\n",
       "    <tr>\n",
       "      <th>2016-07-26</th>\n",
       "      <td>172.0</td>\n",
       "      <td>173.0</td>\n",
       "      <td>171.5</td>\n",
       "      <td>173.0</td>\n",
       "      <td>32685000</td>\n",
       "      <td>173.0</td>\n",
       "    </tr>\n",
       "    <tr>\n",
       "      <th>2016-07-27</th>\n",
       "      <td>175.0</td>\n",
       "      <td>176.0</td>\n",
       "      <td>174.5</td>\n",
       "      <td>175.0</td>\n",
       "      <td>34117000</td>\n",
       "      <td>175.0</td>\n",
       "    </tr>\n",
       "    <tr>\n",
       "      <th>2016-07-28</th>\n",
       "      <td>175.0</td>\n",
       "      <td>176.5</td>\n",
       "      <td>173.0</td>\n",
       "      <td>176.5</td>\n",
       "      <td>31071000</td>\n",
       "      <td>176.5</td>\n",
       "    </tr>\n",
       "  </tbody>\n",
       "</table>\n",
       "</div>"
      ],
      "text/plain": [
       "             Open   High    Low  Close    Volume  Adj Close\n",
       "Date                                                       \n",
       "2016-07-26  172.0  173.0  171.5  173.0  32685000      173.0\n",
       "2016-07-27  175.0  176.0  174.5  175.0  34117000      175.0\n",
       "2016-07-28  175.0  176.5  173.0  176.5  31071000      176.5"
      ]
     },
     "execution_count": 70,
     "metadata": {},
     "output_type": "execute_result"
    }
   ],
   "source": [
    "df.tail(3)"
   ]
  },
  {
   "cell_type": "code",
   "execution_count": 72,
   "metadata": {
    "collapsed": false
   },
   "outputs": [
    {
     "data": {
      "text/html": [
       "<div>\n",
       "<table border=\"1\" class=\"dataframe\">\n",
       "  <thead>\n",
       "    <tr style=\"text-align: right;\">\n",
       "      <th></th>\n",
       "      <th>Open</th>\n",
       "      <th>High</th>\n",
       "      <th>Low</th>\n",
       "      <th>Close</th>\n",
       "      <th>Volume</th>\n",
       "      <th>Adj Close</th>\n",
       "    </tr>\n",
       "  </thead>\n",
       "  <tbody>\n",
       "    <tr>\n",
       "      <th>count</th>\n",
       "      <td>4167.000000</td>\n",
       "      <td>4167.000000</td>\n",
       "      <td>4167.000000</td>\n",
       "      <td>4167.000000</td>\n",
       "      <td>4.167000e+03</td>\n",
       "      <td>4167.000000</td>\n",
       "    </tr>\n",
       "    <tr>\n",
       "      <th>mean</th>\n",
       "      <td>76.240588</td>\n",
       "      <td>76.940725</td>\n",
       "      <td>75.499032</td>\n",
       "      <td>76.257157</td>\n",
       "      <td>5.530674e+07</td>\n",
       "      <td>60.249221</td>\n",
       "    </tr>\n",
       "    <tr>\n",
       "      <th>std</th>\n",
       "      <td>31.072400</td>\n",
       "      <td>31.208413</td>\n",
       "      <td>30.907752</td>\n",
       "      <td>31.083875</td>\n",
       "      <td>3.168548e+08</td>\n",
       "      <td>34.762493</td>\n",
       "    </tr>\n",
       "    <tr>\n",
       "      <th>min</th>\n",
       "      <td>32.201900</td>\n",
       "      <td>32.938000</td>\n",
       "      <td>32.109900</td>\n",
       "      <td>32.754000</td>\n",
       "      <td>0.000000e+00</td>\n",
       "      <td>20.446400</td>\n",
       "    </tr>\n",
       "    <tr>\n",
       "      <th>25%</th>\n",
       "      <td>55.203200</td>\n",
       "      <td>56.000000</td>\n",
       "      <td>54.500000</td>\n",
       "      <td>55.203300</td>\n",
       "      <td>3.163310e+07</td>\n",
       "      <td>36.601700</td>\n",
       "    </tr>\n",
       "    <tr>\n",
       "      <th>50%</th>\n",
       "      <td>63.800000</td>\n",
       "      <td>64.500000</td>\n",
       "      <td>63.100000</td>\n",
       "      <td>63.900000</td>\n",
       "      <td>4.331330e+07</td>\n",
       "      <td>45.676900</td>\n",
       "    </tr>\n",
       "    <tr>\n",
       "      <th>75%</th>\n",
       "      <td>89.900000</td>\n",
       "      <td>90.549300</td>\n",
       "      <td>88.950000</td>\n",
       "      <td>90.041300</td>\n",
       "      <td>6.154600e+07</td>\n",
       "      <td>72.942600</td>\n",
       "    </tr>\n",
       "    <tr>\n",
       "      <th>max</th>\n",
       "      <td>175.000000</td>\n",
       "      <td>176.500000</td>\n",
       "      <td>174.500000</td>\n",
       "      <td>176.500000</td>\n",
       "      <td>2.040451e+10</td>\n",
       "      <td>176.500000</td>\n",
       "    </tr>\n",
       "  </tbody>\n",
       "</table>\n",
       "</div>"
      ],
      "text/plain": [
       "              Open         High          Low        Close        Volume  \\\n",
       "count  4167.000000  4167.000000  4167.000000  4167.000000  4.167000e+03   \n",
       "mean     76.240588    76.940725    75.499032    76.257157  5.530674e+07   \n",
       "std      31.072400    31.208413    30.907752    31.083875  3.168548e+08   \n",
       "min      32.201900    32.938000    32.109900    32.754000  0.000000e+00   \n",
       "25%      55.203200    56.000000    54.500000    55.203300  3.163310e+07   \n",
       "50%      63.800000    64.500000    63.100000    63.900000  4.331330e+07   \n",
       "75%      89.900000    90.549300    88.950000    90.041300  6.154600e+07   \n",
       "max     175.000000   176.500000   174.500000   176.500000  2.040451e+10   \n",
       "\n",
       "         Adj Close  \n",
       "count  4167.000000  \n",
       "mean     60.249221  \n",
       "std      34.762493  \n",
       "min      20.446400  \n",
       "25%      36.601700  \n",
       "50%      45.676900  \n",
       "75%      72.942600  \n",
       "max     176.500000  "
      ]
     },
     "execution_count": 72,
     "metadata": {},
     "output_type": "execute_result"
    }
   ],
   "source": [
    "df.describe()"
   ]
  },
  {
   "cell_type": "code",
   "execution_count": 75,
   "metadata": {
    "collapsed": false
   },
   "outputs": [
    {
     "data": {
      "text/plain": [
       "32.753999999999998"
      ]
     },
     "execution_count": 75,
     "metadata": {},
     "output_type": "execute_result"
    }
   ],
   "source": [
    "df['Close'].min()"
   ]
  },
  {
   "cell_type": "code",
   "execution_count": 77,
   "metadata": {
    "collapsed": false
   },
   "outputs": [
    {
     "data": {
      "text/plain": [
       "176.5"
      ]
     },
     "execution_count": 77,
     "metadata": {},
     "output_type": "execute_result"
    }
   ],
   "source": [
    "df['Close'].max()"
   ]
  },
  {
   "cell_type": "code",
   "execution_count": 79,
   "metadata": {
    "collapsed": false
   },
   "outputs": [
    {
     "data": {
      "text/plain": [
       "4167"
      ]
     },
     "execution_count": 79,
     "metadata": {},
     "output_type": "execute_result"
    }
   ],
   "source": [
    "df['Close'].count()"
   ]
  },
  {
   "cell_type": "markdown",
   "metadata": {},
   "source": [
    "## 找出資料的中心"
   ]
  },
  {
   "cell_type": "code",
   "execution_count": 84,
   "metadata": {
    "collapsed": false
   },
   "outputs": [
    {
     "name": "stdout",
     "output_type": "stream",
     "text": [
      "76.2571565395\n",
      "76.2571565395\n"
     ]
    }
   ],
   "source": [
    "print df['Close'].mean() # sum / count\n",
    "print df['Close'].sum() / df['Close'].count()"
   ]
  },
  {
   "cell_type": "code",
   "execution_count": 86,
   "metadata": {
    "collapsed": false
   },
   "outputs": [
    {
     "data": {
      "text/plain": [
       "24.23076923076923"
      ]
     },
     "execution_count": 86,
     "metadata": {},
     "output_type": "execute_result"
    }
   ],
   "source": [
    "tempreture = pandas.Series([23,34,23,21,25,26,27,34,32,27,16,12,15])\n",
    "tempreture.mean()"
   ]
  },
  {
   "cell_type": "code",
   "execution_count": 90,
   "metadata": {
    "collapsed": false
   },
   "outputs": [
    {
     "data": {
      "text/plain": [
       "207.0"
      ]
     },
     "execution_count": 90,
     "metadata": {},
     "output_type": "execute_result"
    }
   ],
   "source": [
    "# outliers affect the average\n",
    "tempreture2 = pandas.Series([23,34,23,21,25,26,27,34,32,27,16,12,15,999,999,999]) \n",
    "tempreture2.mean()"
   ]
  },
  {
   "cell_type": "code",
   "execution_count": 95,
   "metadata": {
    "collapsed": false
   },
   "outputs": [
    {
     "name": "stdout",
     "output_type": "stream",
     "text": [
      "11    12\n",
      "12    15\n",
      "10    16\n",
      "3     21\n",
      "0     23\n",
      "2     23\n",
      "4     25\n",
      "5     26\n",
      "6     27\n",
      "9     27\n",
      "8     32\n",
      "1     34\n",
      "7     34\n",
      "dtype: int64\n",
      "Median: 25.0\n"
     ]
    }
   ],
   "source": [
    "tempreture = pandas.Series([23,34,23,21,25,26,27,34,32,27,16,12,15])\n",
    "print tempreture.sort_values()\n",
    "print \"Median:\",tempreture.median()"
   ]
  },
  {
   "cell_type": "code",
   "execution_count": 96,
   "metadata": {
    "collapsed": false
   },
   "outputs": [
    {
     "name": "stdout",
     "output_type": "stream",
     "text": [
      "26.5\n"
     ]
    }
   ],
   "source": [
    "# outliers affect the average\n",
    "tempreture2 = pandas.Series([23,34,23,21,25,26,27,34,32,27,16,12,15,999,999,999]) \n",
    "print tempreture2.median()"
   ]
  },
  {
   "cell_type": "code",
   "execution_count": 98,
   "metadata": {
    "collapsed": false
   },
   "outputs": [
    {
     "data": {
      "text/plain": [
       "0      True\n",
       "1      True\n",
       "2      True\n",
       "3      True\n",
       "4      True\n",
       "5      True\n",
       "6      True\n",
       "7      True\n",
       "8      True\n",
       "9      True\n",
       "10     True\n",
       "11     True\n",
       "12     True\n",
       "13    False\n",
       "14    False\n",
       "15    False\n",
       "dtype: bool"
      ]
     },
     "execution_count": 98,
     "metadata": {},
     "output_type": "execute_result"
    }
   ],
   "source": [
    "# outliers affect the average\n",
    "tempreture2 = pandas.Series([23,34,23,21,25,26,27,34,32,27,16,12,15,999,999,999]) \n",
    "tempreture2 < 40"
   ]
  },
  {
   "cell_type": "code",
   "execution_count": 100,
   "metadata": {
    "collapsed": false
   },
   "outputs": [
    {
     "data": {
      "text/plain": [
       "24.23076923076923"
      ]
     },
     "execution_count": 100,
     "metadata": {},
     "output_type": "execute_result"
    }
   ],
   "source": [
    "tempreture2[tempreture2 < 40].mean()"
   ]
  },
  {
   "cell_type": "code",
   "execution_count": 101,
   "metadata": {
    "collapsed": false
   },
   "outputs": [
    {
     "data": {
      "text/plain": [
       "26.5"
      ]
     },
     "execution_count": 101,
     "metadata": {},
     "output_type": "execute_result"
    }
   ],
   "source": [
    "tempreture2.median()"
   ]
  },
  {
   "cell_type": "markdown",
   "metadata": {},
   "source": [
    "## 找出資料的離散程度"
   ]
  },
  {
   "cell_type": "code",
   "execution_count": 104,
   "metadata": {
    "collapsed": false
   },
   "outputs": [
    {
     "data": {
      "text/plain": [
       "11    12\n",
       "12    15\n",
       "10    16\n",
       "3     21\n",
       "0     23\n",
       "2     23\n",
       "4     25\n",
       "5     26\n",
       "6     27\n",
       "9     27\n",
       "8     32\n",
       "1     34\n",
       "7     34\n",
       "dtype: int64"
      ]
     },
     "execution_count": 104,
     "metadata": {},
     "output_type": "execute_result"
    }
   ],
   "source": [
    "tempreture = pandas.Series([23,34,23,21,25,26,27,34,32,27,16,12,15])\n",
    "tempreture.sort_values()"
   ]
  },
  {
   "cell_type": "code",
   "execution_count": 106,
   "metadata": {
    "collapsed": false
   },
   "outputs": [
    {
     "data": {
      "text/plain": [
       "25.0"
      ]
     },
     "execution_count": 106,
     "metadata": {},
     "output_type": "execute_result"
    }
   ],
   "source": [
    "tempreture.median()"
   ]
  },
  {
   "cell_type": "code",
   "execution_count": 108,
   "metadata": {
    "collapsed": false
   },
   "outputs": [
    {
     "data": {
      "text/plain": [
       "34"
      ]
     },
     "execution_count": 108,
     "metadata": {},
     "output_type": "execute_result"
    }
   ],
   "source": [
    "tempreture.max()"
   ]
  },
  {
   "cell_type": "code",
   "execution_count": 110,
   "metadata": {
    "collapsed": false
   },
   "outputs": [
    {
     "data": {
      "text/plain": [
       "12"
      ]
     },
     "execution_count": 110,
     "metadata": {},
     "output_type": "execute_result"
    }
   ],
   "source": [
    "tempreture.min()"
   ]
  },
  {
   "cell_type": "code",
   "execution_count": 112,
   "metadata": {
    "collapsed": false
   },
   "outputs": [
    {
     "data": {
      "text/plain": [
       "25.0"
      ]
     },
     "execution_count": 112,
     "metadata": {},
     "output_type": "execute_result"
    }
   ],
   "source": [
    "tempreture.quantile(0.5) # quantile(0.5) = median"
   ]
  },
  {
   "cell_type": "code",
   "execution_count": 114,
   "metadata": {
    "collapsed": false
   },
   "outputs": [
    {
     "data": {
      "text/plain": [
       "27.0"
      ]
     },
     "execution_count": 114,
     "metadata": {},
     "output_type": "execute_result"
    }
   ],
   "source": [
    "tempreture.quantile(0.75) # the median of 25, 26, 27, 27, 32, 34, 34"
   ]
  },
  {
   "cell_type": "code",
   "execution_count": 115,
   "metadata": {
    "collapsed": false
   },
   "outputs": [
    {
     "data": {
      "text/plain": [
       "21.0"
      ]
     },
     "execution_count": 115,
     "metadata": {},
     "output_type": "execute_result"
    }
   ],
   "source": [
    "tempreture.quantile(0.25) # the median of 12, 15, 16, 21, 23, 23, 25"
   ]
  },
  {
   "cell_type": "code",
   "execution_count": 118,
   "metadata": {
    "collapsed": false
   },
   "outputs": [
    {
     "data": {
      "text/plain": [
       "6.0"
      ]
     },
     "execution_count": 118,
     "metadata": {},
     "output_type": "execute_result"
    }
   ],
   "source": [
    "IQR = tempreture.quantile(0.75) - tempreture.quantile(0.25)\n",
    "IQR"
   ]
  },
  {
   "cell_type": "code",
   "execution_count": 135,
   "metadata": {
    "collapsed": false
   },
   "outputs": [],
   "source": [
    "import pandas, datetime\n",
    "df = pandas.io.data.get_data_yahoo(['2330.TW', '2498.TW', '3008.TW'], \n",
    "                               start=datetime.datetime(2000, 1, 1), \n",
    "                               end=datetime.datetime(2016, 1, 1))['Adj Close']\n"
   ]
  },
  {
   "cell_type": "code",
   "execution_count": 136,
   "metadata": {
    "collapsed": false
   },
   "outputs": [
    {
     "name": "stdout",
     "output_type": "stream",
     "text": [
      "314.7381\n"
     ]
    }
   ],
   "source": [
    "tw2498 =df['2498.TW'] \n",
    "# nan = not a number\n",
    "tw2498 = tw2498.dropna()\n",
    "print tw2498.quantile(0.75) - tw2498.quantile(0.25)"
   ]
  },
  {
   "cell_type": "code",
   "execution_count": 137,
   "metadata": {
    "collapsed": false
   },
   "outputs": [
    {
     "name": "stdout",
     "output_type": "stream",
     "text": [
      "30.554275\n"
     ]
    }
   ],
   "source": [
    "tw2330 =df['2330.TW'] \n",
    "# nan = not a number\n",
    "tw2330 = tw2330.dropna()\n",
    "print tw2330.quantile(0.75) - tw2330.quantile(0.25)"
   ]
  },
  {
   "cell_type": "code",
   "execution_count": 138,
   "metadata": {
    "collapsed": false
   },
   "outputs": [
    {
     "name": "stdout",
     "output_type": "stream",
     "text": [
      "471.146\n"
     ]
    }
   ],
   "source": [
    "tw3008 =df['3008.TW'] \n",
    "# nan = not a number\n",
    "tw3008 = tw3008.dropna()\n",
    "print tw3008.quantile(0.75) - tw3008.quantile(0.25)"
   ]
  },
  {
   "cell_type": "code",
   "execution_count": 139,
   "metadata": {
    "collapsed": false
   },
   "outputs": [
    {
     "name": "stdout",
     "output_type": "stream",
     "text": [
      "Populating the interactive namespace from numpy and matplotlib\n"
     ]
    }
   ],
   "source": [
    "%pylab inline"
   ]
  },
  {
   "cell_type": "code",
   "execution_count": 133,
   "metadata": {
    "collapsed": true
   },
   "outputs": [],
   "source": [
    "?tw2330.plot"
   ]
  },
  {
   "cell_type": "code",
   "execution_count": 140,
   "metadata": {
    "collapsed": false
   },
   "outputs": [
    {
     "data": {
      "text/plain": [
       "<matplotlib.axes._subplots.AxesSubplot at 0x97ebfd0>"
      ]
     },
     "execution_count": 140,
     "metadata": {},
     "output_type": "execute_result"
    },
    {
     "data": {
      "image/png": "[encoded data removed]",
      "text/plain": [
       "<matplotlib.figure.Figure at 0xa7c3cc0>"
      ]
     },
     "metadata": {},
     "output_type": "display_data"
    }
   ],
   "source": [
    "tw2330.plot(kind='box')"
   ]
  },
  {
   "cell_type": "code",
   "execution_count": 152,
   "metadata": {
    "collapsed": false
   },
   "outputs": [
    {
     "data": {
      "text/plain": [
       "<matplotlib.axes._subplots.AxesSubplot at 0xc00d2e8>"
      ]
     },
     "execution_count": 152,
     "metadata": {},
     "output_type": "execute_result"
    },
    {
     "data": {
      "image/png": "[encoded data removed]",
      "text/plain": [
       "<matplotlib.figure.Figure at 0xc3f0198>"
      ]
     },
     "metadata": {},
     "output_type": "display_data"
    }
   ],
   "source": [
    "tw2330.plot(kind='hist')"
   ]
  },
  {
   "cell_type": "code",
   "execution_count": 142,
   "metadata": {
    "collapsed": false
   },
   "outputs": [
    {
     "data": {
      "text/plain": [
       "<matplotlib.axes._subplots.AxesSubplot at 0x92ca710>"
      ]
     },
     "execution_count": 142,
     "metadata": {},
     "output_type": "execute_result"
    },
    {
     "data": {
      "image/png": "[encoded data removed]",
      "text/plain": [
       "<matplotlib.figure.Figure at 0xaa9ce10>"
      ]
     },
     "metadata": {},
     "output_type": "display_data"
    }
   ],
   "source": [
    "df.plot(kind='box')"
   ]
  },
  {
   "cell_type": "code",
   "execution_count": 145,
   "metadata": {
    "collapsed": false
   },
   "outputs": [
    {
     "data": {
      "text/plain": [
       "<matplotlib.axes._subplots.AxesSubplot at 0xa8e0b70>"
      ]
     },
     "execution_count": 145,
     "metadata": {},
     "output_type": "execute_result"
    },
    {
     "data": {
      "image/png": "[encoded data removed]",
      "text/plain": [
       "<matplotlib.figure.Figure at 0xb7b04a8>"
      ]
     },
     "metadata": {},
     "output_type": "display_data"
    }
   ],
   "source": [
    "# outliers affect the average\n",
    "tempreture2 = pandas.Series([23,34,23,21,25,26,27,34,32,27,16,12,15,999,999,999]) \n",
    "tempreture2.plot(kind='box', ylim= [1,1200])"
   ]
  },
  {
   "cell_type": "code",
   "execution_count": 147,
   "metadata": {
    "collapsed": false
   },
   "outputs": [
    {
     "data": {
      "text/plain": [
       "0      True\n",
       "1      True\n",
       "2      True\n",
       "3      True\n",
       "4      True\n",
       "5      True\n",
       "6      True\n",
       "7      True\n",
       "8      True\n",
       "9      True\n",
       "10     True\n",
       "11     True\n",
       "12     True\n",
       "13    False\n",
       "14    False\n",
       "15    False\n",
       "dtype: bool"
      ]
     },
     "execution_count": 147,
     "metadata": {},
     "output_type": "execute_result"
    }
   ],
   "source": [
    "tempreture2 < 40"
   ]
  },
  {
   "cell_type": "code",
   "execution_count": 150,
   "metadata": {
    "collapsed": false
   },
   "outputs": [
    {
     "data": {
      "text/plain": [
       "<matplotlib.axes._subplots.AxesSubplot at 0xb7b01d0>"
      ]
     },
     "execution_count": 150,
     "metadata": {},
     "output_type": "execute_result"
    },
    {
     "data": {
      "image/png": "[encoded data removed]",
      "text/plain": [
       "<matplotlib.figure.Figure at 0xbf77e80>"
      ]
     },
     "metadata": {},
     "output_type": "display_data"
    }
   ],
   "source": [
    "tempreture2[tempreture2 < 40].plot(kind='box')"
   ]
  },
  {
   "cell_type": "code",
   "execution_count": 153,
   "metadata": {
    "collapsed": false
   },
   "outputs": [
    {
     "data": {
      "text/plain": [
       "<matplotlib.axes._subplots.AxesSubplot at 0xb45af60>"
      ]
     },
     "execution_count": 153,
     "metadata": {},
     "output_type": "execute_result"
    },
    {
     "data": {
      "image/png": "[encoded data removed]",
      "text/plain": [
       "<matplotlib.figure.Figure at 0xa855f28>"
      ]
     },
     "metadata": {},
     "output_type": "display_data"
    }
   ],
   "source": [
    "tempreture2[tempreture2 < 40].plot(kind='hist')"
   ]
  },
  {
   "cell_type": "code",
   "execution_count": 155,
   "metadata": {
    "collapsed": true
   },
   "outputs": [],
   "source": [
    "?pandas.io.data.DataReader"
   ]
  },
  {
   "cell_type": "code",
   "execution_count": 157,
   "metadata": {
    "collapsed": true
   },
   "outputs": [],
   "source": [
    "vix = pandas.io.data.DataReader(\"VIXCLS\", \"fred\")"
   ]
  },
  {
   "cell_type": "code",
   "execution_count": 159,
   "metadata": {
    "collapsed": false
   },
   "outputs": [
    {
     "data": {
      "text/html": [
       "<div>\n",
       "<table border=\"1\" class=\"dataframe\">\n",
       "  <thead>\n",
       "    <tr style=\"text-align: right;\">\n",
       "      <th></th>\n",
       "      <th>VIXCLS</th>\n",
       "    </tr>\n",
       "    <tr>\n",
       "      <th>DATE</th>\n",
       "      <th></th>\n",
       "    </tr>\n",
       "  </thead>\n",
       "  <tbody>\n",
       "    <tr>\n",
       "      <th>2010-01-01</th>\n",
       "      <td>NaN</td>\n",
       "    </tr>\n",
       "    <tr>\n",
       "      <th>2010-01-04</th>\n",
       "      <td>20.04</td>\n",
       "    </tr>\n",
       "    <tr>\n",
       "      <th>2010-01-05</th>\n",
       "      <td>19.35</td>\n",
       "    </tr>\n",
       "    <tr>\n",
       "      <th>2010-01-06</th>\n",
       "      <td>19.16</td>\n",
       "    </tr>\n",
       "    <tr>\n",
       "      <th>2010-01-07</th>\n",
       "      <td>19.06</td>\n",
       "    </tr>\n",
       "  </tbody>\n",
       "</table>\n",
       "</div>"
      ],
      "text/plain": [
       "            VIXCLS\n",
       "DATE              \n",
       "2010-01-01     NaN\n",
       "2010-01-04   20.04\n",
       "2010-01-05   19.35\n",
       "2010-01-06   19.16\n",
       "2010-01-07   19.06"
      ]
     },
     "execution_count": 159,
     "metadata": {},
     "output_type": "execute_result"
    }
   ],
   "source": [
    "vix.head()"
   ]
  },
  {
   "cell_type": "code",
   "execution_count": 160,
   "metadata": {
    "collapsed": false
   },
   "outputs": [
    {
     "data": {
      "text/plain": [
       "<matplotlib.axes._subplots.AxesSubplot at 0xc69c208>"
      ]
     },
     "execution_count": 160,
     "metadata": {},
     "output_type": "execute_result"
    },
    {
     "data": {
      "image/png": "[encoded data removed]",
      "text/plain": [
       "<matplotlib.figure.Figure at 0xc69c160>"
      ]
     },
     "metadata": {},
     "output_type": "display_data"
    }
   ],
   "source": [
    "vix.plot(kind='line')"
   ]
  },
  {
   "cell_type": "code",
   "execution_count": 15,
   "metadata": {
    "collapsed": false
   },
   "outputs": [
    {
     "name": "stdout",
     "output_type": "stream",
     "text": [
      "48.858974359\n",
      "48.858974359\n",
      "48.858974359\n"
     ]
    }
   ],
   "source": [
    "# outliers affect the average\n",
    "tempreture = pandas.Series([23,34,23,21,25,26,27,34,32,27,16,12,15]) \n",
    "tempreture.mean()\n",
    "print sum((tempreture - tempreture.mean()) * (tempreture - tempreture.mean())) / (tempreture.count() -1)\n",
    "print tempreture.var()\n",
    "print tempreture.std() * tempreture.std()"
   ]
  },
  {
   "cell_type": "code",
   "execution_count": 16,
   "metadata": {
    "collapsed": false
   },
   "outputs": [
    {
     "name": "stdout",
     "output_type": "stream",
     "text": [
      "6.98991948158\n"
     ]
    }
   ],
   "source": [
    "print tempreture.std()"
   ]
  },
  {
   "cell_type": "markdown",
   "metadata": {},
   "source": [
    "##  資料分布"
   ]
  },
  {
   "cell_type": "code",
   "execution_count": 35,
   "metadata": {
    "collapsed": false
   },
   "outputs": [
    {
     "data": {
      "text/html": [
       "<div>\n",
       "<table border=\"1\" class=\"dataframe\">\n",
       "  <thead>\n",
       "    <tr style=\"text-align: right;\">\n",
       "      <th></th>\n",
       "      <th>Open</th>\n",
       "      <th>High</th>\n",
       "      <th>Low</th>\n",
       "      <th>Close</th>\n",
       "      <th>Volume</th>\n",
       "      <th>Adj Close</th>\n",
       "    </tr>\n",
       "    <tr>\n",
       "      <th>Date</th>\n",
       "      <th></th>\n",
       "      <th></th>\n",
       "      <th></th>\n",
       "      <th></th>\n",
       "      <th></th>\n",
       "      <th></th>\n",
       "    </tr>\n",
       "  </thead>\n",
       "  <tbody>\n",
       "    <tr>\n",
       "      <th>2000-09-01</th>\n",
       "      <td>380.0</td>\n",
       "      <td>410.0</td>\n",
       "      <td>300.0</td>\n",
       "      <td>320.0</td>\n",
       "      <td>358000</td>\n",
       "      <td>256.69</td>\n",
       "    </tr>\n",
       "    <tr>\n",
       "      <th>2000-09-04</th>\n",
       "      <td>320.0</td>\n",
       "      <td>330.0</td>\n",
       "      <td>300.0</td>\n",
       "      <td>310.0</td>\n",
       "      <td>30000</td>\n",
       "      <td>248.67</td>\n",
       "    </tr>\n",
       "    <tr>\n",
       "      <th>2000-09-05</th>\n",
       "      <td>320.0</td>\n",
       "      <td>320.0</td>\n",
       "      <td>305.0</td>\n",
       "      <td>310.0</td>\n",
       "      <td>49000</td>\n",
       "      <td>248.67</td>\n",
       "    </tr>\n",
       "    <tr>\n",
       "      <th>2000-09-06</th>\n",
       "      <td>300.0</td>\n",
       "      <td>310.0</td>\n",
       "      <td>290.0</td>\n",
       "      <td>300.0</td>\n",
       "      <td>20000</td>\n",
       "      <td>240.65</td>\n",
       "    </tr>\n",
       "    <tr>\n",
       "      <th>2000-09-07</th>\n",
       "      <td>310.0</td>\n",
       "      <td>310.0</td>\n",
       "      <td>285.0</td>\n",
       "      <td>285.0</td>\n",
       "      <td>24000</td>\n",
       "      <td>228.61</td>\n",
       "    </tr>\n",
       "  </tbody>\n",
       "</table>\n",
       "</div>"
      ],
      "text/plain": [
       "             Open   High    Low  Close  Volume  Adj Close\n",
       "Date                                                     \n",
       "2000-09-01  380.0  410.0  300.0  320.0  358000     256.69\n",
       "2000-09-04  320.0  330.0  300.0  310.0   30000     248.67\n",
       "2000-09-05  320.0  320.0  305.0  310.0   49000     248.67\n",
       "2000-09-06  300.0  310.0  290.0  300.0   20000     240.65\n",
       "2000-09-07  310.0  310.0  285.0  285.0   24000     228.61"
      ]
     },
     "execution_count": 35,
     "metadata": {},
     "output_type": "execute_result"
    }
   ],
   "source": [
    "import pandas.io.data as web # as => alias, use \"web\" to replace pandas.io.data\n",
    "df = web.DataReader(name='2498', data_source='yahoo',start='2000-1-1')\n",
    "df.head()"
   ]
  },
  {
   "cell_type": "code",
   "execution_count": 36,
   "metadata": {
    "collapsed": false
   },
   "outputs": [
    {
     "data": {
      "text/plain": [
       "Date\n",
       "2000-09-01      NaN\n",
       "2000-09-04    320.0\n",
       "2000-09-05    310.0\n",
       "2000-09-06    310.0\n",
       "2000-09-07    300.0\n",
       "Name: Close, dtype: float64"
      ]
     },
     "execution_count": 36,
     "metadata": {},
     "output_type": "execute_result"
    }
   ],
   "source": [
    "df['Close'].shift(1).head()"
   ]
  },
  {
   "cell_type": "code",
   "execution_count": 37,
   "metadata": {
    "collapsed": false
   },
   "outputs": [],
   "source": [
    "df['DailyChange'] = df['Close'].pct_change(1)"
   ]
  },
  {
   "cell_type": "code",
   "execution_count": 38,
   "metadata": {
    "collapsed": false
   },
   "outputs": [],
   "source": [
    "#df['Close'] / df['Close'].shift(1) - 1"
   ]
  },
  {
   "cell_type": "code",
   "execution_count": 39,
   "metadata": {
    "collapsed": false
   },
   "outputs": [
    {
     "data": {
      "text/html": [
       "<div>\n",
       "<table border=\"1\" class=\"dataframe\">\n",
       "  <thead>\n",
       "    <tr style=\"text-align: right;\">\n",
       "      <th></th>\n",
       "      <th>Open</th>\n",
       "      <th>High</th>\n",
       "      <th>Low</th>\n",
       "      <th>Close</th>\n",
       "      <th>Volume</th>\n",
       "      <th>Adj Close</th>\n",
       "      <th>DailyChange</th>\n",
       "    </tr>\n",
       "    <tr>\n",
       "      <th>Date</th>\n",
       "      <th></th>\n",
       "      <th></th>\n",
       "      <th></th>\n",
       "      <th></th>\n",
       "      <th></th>\n",
       "      <th></th>\n",
       "      <th></th>\n",
       "    </tr>\n",
       "  </thead>\n",
       "  <tbody>\n",
       "    <tr>\n",
       "      <th>2000-09-01</th>\n",
       "      <td>380.0</td>\n",
       "      <td>410.0</td>\n",
       "      <td>300.0</td>\n",
       "      <td>320.0</td>\n",
       "      <td>358000</td>\n",
       "      <td>256.69</td>\n",
       "      <td>NaN</td>\n",
       "    </tr>\n",
       "    <tr>\n",
       "      <th>2000-09-04</th>\n",
       "      <td>320.0</td>\n",
       "      <td>330.0</td>\n",
       "      <td>300.0</td>\n",
       "      <td>310.0</td>\n",
       "      <td>30000</td>\n",
       "      <td>248.67</td>\n",
       "      <td>-0.031250</td>\n",
       "    </tr>\n",
       "    <tr>\n",
       "      <th>2000-09-05</th>\n",
       "      <td>320.0</td>\n",
       "      <td>320.0</td>\n",
       "      <td>305.0</td>\n",
       "      <td>310.0</td>\n",
       "      <td>49000</td>\n",
       "      <td>248.67</td>\n",
       "      <td>0.000000</td>\n",
       "    </tr>\n",
       "    <tr>\n",
       "      <th>2000-09-06</th>\n",
       "      <td>300.0</td>\n",
       "      <td>310.0</td>\n",
       "      <td>290.0</td>\n",
       "      <td>300.0</td>\n",
       "      <td>20000</td>\n",
       "      <td>240.65</td>\n",
       "      <td>-0.032258</td>\n",
       "    </tr>\n",
       "    <tr>\n",
       "      <th>2000-09-07</th>\n",
       "      <td>310.0</td>\n",
       "      <td>310.0</td>\n",
       "      <td>285.0</td>\n",
       "      <td>285.0</td>\n",
       "      <td>24000</td>\n",
       "      <td>228.61</td>\n",
       "      <td>-0.050000</td>\n",
       "    </tr>\n",
       "  </tbody>\n",
       "</table>\n",
       "</div>"
      ],
      "text/plain": [
       "             Open   High    Low  Close  Volume  Adj Close  DailyChange\n",
       "Date                                                                  \n",
       "2000-09-01  380.0  410.0  300.0  320.0  358000     256.69          NaN\n",
       "2000-09-04  320.0  330.0  300.0  310.0   30000     248.67    -0.031250\n",
       "2000-09-05  320.0  320.0  305.0  310.0   49000     248.67     0.000000\n",
       "2000-09-06  300.0  310.0  290.0  300.0   20000     240.65    -0.032258\n",
       "2000-09-07  310.0  310.0  285.0  285.0   24000     228.61    -0.050000"
      ]
     },
     "execution_count": 39,
     "metadata": {},
     "output_type": "execute_result"
    }
   ],
   "source": [
    "df.head()"
   ]
  },
  {
   "cell_type": "code",
   "execution_count": 40,
   "metadata": {
    "collapsed": false
   },
   "outputs": [
    {
     "name": "stdout",
     "output_type": "stream",
     "text": [
      "Populating the interactive namespace from numpy and matplotlib\n"
     ]
    },
    {
     "data": {
      "text/plain": [
       "0.03710375857559788"
      ]
     },
     "execution_count": 40,
     "metadata": {},
     "output_type": "execute_result"
    },
    {
     "data": {
      "image/png": "[encoded data removed]",
      "text/plain": [
       "<matplotlib.figure.Figure at 0xa2cc160>"
      ]
     },
     "metadata": {},
     "output_type": "display_data"
    }
   ],
   "source": [
    "%pylab inline\n",
    "df['DailyChange'].plot(kind='hist')\n",
    "df['DailyChange'].std()"
   ]
  },
  {
   "cell_type": "markdown",
   "metadata": {},
   "source": [
    "## GoodInfo.tw 資料抓取"
   ]
  },
  {
   "cell_type": "markdown",
   "metadata": {},
   "source": [
    "### 需要安裝html5lib (要在黑黑的畫面下)\n",
    "- pip install html5lib \n",
    "- conda install lxml "
   ]
  },
  {
   "cell_type": "code",
   "execution_count": 2,
   "metadata": {
    "collapsed": false
   },
   "outputs": [],
   "source": [
    "import pandas\n",
    "#dfs = pandas.read_html('http://goodinfo.tw/StockInfo/StockBzPerformance.asp?STOCK_ID=2330')"
   ]
  },
  {
   "cell_type": "markdown",
   "metadata": {
    "collapsed": true
   },
   "source": [
    "## 多變量分析"
   ]
  },
  {
   "cell_type": "code",
   "execution_count": 5,
   "metadata": {
    "collapsed": false
   },
   "outputs": [],
   "source": [
    "import pandas.io.data as web # as => alias, use \"web\" to replace pandas.io.data\n",
    "dftwii = web.DataReader(name='^TWII', data_source='yahoo',start='2000-1-1')\n",
    "df2330 = web.DataReader(name='2330.TW', data_source='yahoo',start='2000-1-1')\n"
   ]
  },
  {
   "cell_type": "code",
   "execution_count": 7,
   "metadata": {
    "collapsed": false
   },
   "outputs": [
    {
     "data": {
      "text/html": [
       "<div>\n",
       "<table border=\"1\" class=\"dataframe\">\n",
       "  <thead>\n",
       "    <tr style=\"text-align: right;\">\n",
       "      <th></th>\n",
       "      <th>Open</th>\n",
       "      <th>High</th>\n",
       "      <th>Low</th>\n",
       "      <th>Close</th>\n",
       "      <th>Volume</th>\n",
       "      <th>Adj Close</th>\n",
       "    </tr>\n",
       "    <tr>\n",
       "      <th>Date</th>\n",
       "      <th></th>\n",
       "      <th></th>\n",
       "      <th></th>\n",
       "      <th></th>\n",
       "      <th></th>\n",
       "      <th></th>\n",
       "    </tr>\n",
       "  </thead>\n",
       "  <tbody>\n",
       "    <tr>\n",
       "      <th>2000-01-04</th>\n",
       "      <td>8644.910156</td>\n",
       "      <td>8803.610352</td>\n",
       "      <td>8642.500000</td>\n",
       "      <td>8756.549805</td>\n",
       "      <td>0</td>\n",
       "      <td>8756.524752</td>\n",
       "    </tr>\n",
       "    <tr>\n",
       "      <th>2000-01-05</th>\n",
       "      <td>8690.599609</td>\n",
       "      <td>8867.679688</td>\n",
       "      <td>8668.019531</td>\n",
       "      <td>8849.870117</td>\n",
       "      <td>0</td>\n",
       "      <td>8849.844798</td>\n",
       "    </tr>\n",
       "    <tr>\n",
       "      <th>2000-01-06</th>\n",
       "      <td>8900.559570</td>\n",
       "      <td>9023.990234</td>\n",
       "      <td>8833.910156</td>\n",
       "      <td>8922.030273</td>\n",
       "      <td>0</td>\n",
       "      <td>8922.004747</td>\n",
       "    </tr>\n",
       "    <tr>\n",
       "      <th>2000-01-07</th>\n",
       "      <td>8853.429688</td>\n",
       "      <td>8940.769531</td>\n",
       "      <td>8739.429688</td>\n",
       "      <td>8849.870117</td>\n",
       "      <td>0</td>\n",
       "      <td>8849.844798</td>\n",
       "    </tr>\n",
       "    <tr>\n",
       "      <th>2000-01-10</th>\n",
       "      <td>8941.929688</td>\n",
       "      <td>9126.019531</td>\n",
       "      <td>8891.790039</td>\n",
       "      <td>9102.599609</td>\n",
       "      <td>0</td>\n",
       "      <td>9102.573567</td>\n",
       "    </tr>\n",
       "  </tbody>\n",
       "</table>\n",
       "</div>"
      ],
      "text/plain": [
       "                   Open         High          Low        Close  Volume  \\\n",
       "Date                                                                     \n",
       "2000-01-04  8644.910156  8803.610352  8642.500000  8756.549805       0   \n",
       "2000-01-05  8690.599609  8867.679688  8668.019531  8849.870117       0   \n",
       "2000-01-06  8900.559570  9023.990234  8833.910156  8922.030273       0   \n",
       "2000-01-07  8853.429688  8940.769531  8739.429688  8849.870117       0   \n",
       "2000-01-10  8941.929688  9126.019531  8891.790039  9102.599609       0   \n",
       "\n",
       "              Adj Close  \n",
       "Date                     \n",
       "2000-01-04  8756.524752  \n",
       "2000-01-05  8849.844798  \n",
       "2000-01-06  8922.004747  \n",
       "2000-01-07  8849.844798  \n",
       "2000-01-10  9102.573567  "
      ]
     },
     "execution_count": 7,
     "metadata": {},
     "output_type": "execute_result"
    }
   ],
   "source": [
    "dftwii.head()"
   ]
  },
  {
   "cell_type": "code",
   "execution_count": 9,
   "metadata": {
    "collapsed": false
   },
   "outputs": [
    {
     "data": {
      "text/html": [
       "<div>\n",
       "<table border=\"1\" class=\"dataframe\">\n",
       "  <thead>\n",
       "    <tr style=\"text-align: right;\">\n",
       "      <th></th>\n",
       "      <th>Open</th>\n",
       "      <th>High</th>\n",
       "      <th>Low</th>\n",
       "      <th>Close</th>\n",
       "      <th>Volume</th>\n",
       "      <th>Adj Close</th>\n",
       "    </tr>\n",
       "    <tr>\n",
       "      <th>Date</th>\n",
       "      <th></th>\n",
       "      <th></th>\n",
       "      <th></th>\n",
       "      <th></th>\n",
       "      <th></th>\n",
       "      <th></th>\n",
       "    </tr>\n",
       "  </thead>\n",
       "  <tbody>\n",
       "    <tr>\n",
       "      <th>2000-01-04</th>\n",
       "      <td>83.0813</td>\n",
       "      <td>83.0813</td>\n",
       "      <td>81.6811</td>\n",
       "      <td>83.0813</td>\n",
       "      <td>149083800</td>\n",
       "      <td>29.6180</td>\n",
       "    </tr>\n",
       "    <tr>\n",
       "      <th>2000-01-05</th>\n",
       "      <td>83.0813</td>\n",
       "      <td>84.9482</td>\n",
       "      <td>82.1478</td>\n",
       "      <td>84.9482</td>\n",
       "      <td>299016300</td>\n",
       "      <td>30.2836</td>\n",
       "    </tr>\n",
       "    <tr>\n",
       "      <th>2000-01-06</th>\n",
       "      <td>84.4815</td>\n",
       "      <td>84.9482</td>\n",
       "      <td>83.0813</td>\n",
       "      <td>83.0813</td>\n",
       "      <td>146768300</td>\n",
       "      <td>29.6180</td>\n",
       "    </tr>\n",
       "    <tr>\n",
       "      <th>2000-01-07</th>\n",
       "      <td>80.2809</td>\n",
       "      <td>81.6811</td>\n",
       "      <td>79.3474</td>\n",
       "      <td>80.7476</td>\n",
       "      <td>174796200</td>\n",
       "      <td>28.7861</td>\n",
       "    </tr>\n",
       "    <tr>\n",
       "      <th>2000-01-10</th>\n",
       "      <td>83.0813</td>\n",
       "      <td>84.0148</td>\n",
       "      <td>81.6811</td>\n",
       "      <td>83.5480</td>\n",
       "      <td>205184200</td>\n",
       "      <td>29.7844</td>\n",
       "    </tr>\n",
       "  </tbody>\n",
       "</table>\n",
       "</div>"
      ],
      "text/plain": [
       "               Open     High      Low    Close     Volume  Adj Close\n",
       "Date                                                                \n",
       "2000-01-04  83.0813  83.0813  81.6811  83.0813  149083800    29.6180\n",
       "2000-01-05  83.0813  84.9482  82.1478  84.9482  299016300    30.2836\n",
       "2000-01-06  84.4815  84.9482  83.0813  83.0813  146768300    29.6180\n",
       "2000-01-07  80.2809  81.6811  79.3474  80.7476  174796200    28.7861\n",
       "2000-01-10  83.0813  84.0148  81.6811  83.5480  205184200    29.7844"
      ]
     },
     "execution_count": 9,
     "metadata": {},
     "output_type": "execute_result"
    }
   ],
   "source": [
    "df2330.head()"
   ]
  },
  {
   "cell_type": "code",
   "execution_count": 11,
   "metadata": {
    "collapsed": false
   },
   "outputs": [
    {
     "data": {
      "text/html": [
       "<div>\n",
       "<table border=\"1\" class=\"dataframe\">\n",
       "  <thead>\n",
       "    <tr style=\"text-align: right;\">\n",
       "      <th></th>\n",
       "      <th>Open_x</th>\n",
       "      <th>High_x</th>\n",
       "      <th>Low_x</th>\n",
       "      <th>Close_x</th>\n",
       "      <th>Volume_x</th>\n",
       "      <th>Adj Close_x</th>\n",
       "      <th>Open_y</th>\n",
       "      <th>High_y</th>\n",
       "      <th>Low_y</th>\n",
       "      <th>Close_y</th>\n",
       "      <th>Volume_y</th>\n",
       "      <th>Adj Close_y</th>\n",
       "    </tr>\n",
       "    <tr>\n",
       "      <th>Date</th>\n",
       "      <th></th>\n",
       "      <th></th>\n",
       "      <th></th>\n",
       "      <th></th>\n",
       "      <th></th>\n",
       "      <th></th>\n",
       "      <th></th>\n",
       "      <th></th>\n",
       "      <th></th>\n",
       "      <th></th>\n",
       "      <th></th>\n",
       "      <th></th>\n",
       "    </tr>\n",
       "  </thead>\n",
       "  <tbody>\n",
       "    <tr>\n",
       "      <th>2000-01-04</th>\n",
       "      <td>8644.910156</td>\n",
       "      <td>8803.610352</td>\n",
       "      <td>8642.500000</td>\n",
       "      <td>8756.549805</td>\n",
       "      <td>0</td>\n",
       "      <td>8756.524752</td>\n",
       "      <td>83.0813</td>\n",
       "      <td>83.0813</td>\n",
       "      <td>81.6811</td>\n",
       "      <td>83.0813</td>\n",
       "      <td>149083800</td>\n",
       "      <td>29.6180</td>\n",
       "    </tr>\n",
       "    <tr>\n",
       "      <th>2000-01-05</th>\n",
       "      <td>8690.599609</td>\n",
       "      <td>8867.679688</td>\n",
       "      <td>8668.019531</td>\n",
       "      <td>8849.870117</td>\n",
       "      <td>0</td>\n",
       "      <td>8849.844798</td>\n",
       "      <td>83.0813</td>\n",
       "      <td>84.9482</td>\n",
       "      <td>82.1478</td>\n",
       "      <td>84.9482</td>\n",
       "      <td>299016300</td>\n",
       "      <td>30.2836</td>\n",
       "    </tr>\n",
       "    <tr>\n",
       "      <th>2000-01-06</th>\n",
       "      <td>8900.559570</td>\n",
       "      <td>9023.990234</td>\n",
       "      <td>8833.910156</td>\n",
       "      <td>8922.030273</td>\n",
       "      <td>0</td>\n",
       "      <td>8922.004747</td>\n",
       "      <td>84.4815</td>\n",
       "      <td>84.9482</td>\n",
       "      <td>83.0813</td>\n",
       "      <td>83.0813</td>\n",
       "      <td>146768300</td>\n",
       "      <td>29.6180</td>\n",
       "    </tr>\n",
       "    <tr>\n",
       "      <th>2000-01-07</th>\n",
       "      <td>8853.429688</td>\n",
       "      <td>8940.769531</td>\n",
       "      <td>8739.429688</td>\n",
       "      <td>8849.870117</td>\n",
       "      <td>0</td>\n",
       "      <td>8849.844798</td>\n",
       "      <td>80.2809</td>\n",
       "      <td>81.6811</td>\n",
       "      <td>79.3474</td>\n",
       "      <td>80.7476</td>\n",
       "      <td>174796200</td>\n",
       "      <td>28.7861</td>\n",
       "    </tr>\n",
       "    <tr>\n",
       "      <th>2000-01-10</th>\n",
       "      <td>8941.929688</td>\n",
       "      <td>9126.019531</td>\n",
       "      <td>8891.790039</td>\n",
       "      <td>9102.599609</td>\n",
       "      <td>0</td>\n",
       "      <td>9102.573567</td>\n",
       "      <td>83.0813</td>\n",
       "      <td>84.0148</td>\n",
       "      <td>81.6811</td>\n",
       "      <td>83.5480</td>\n",
       "      <td>205184200</td>\n",
       "      <td>29.7844</td>\n",
       "    </tr>\n",
       "  </tbody>\n",
       "</table>\n",
       "</div>"
      ],
      "text/plain": [
       "                 Open_x       High_x        Low_x      Close_x  Volume_x  \\\n",
       "Date                                                                       \n",
       "2000-01-04  8644.910156  8803.610352  8642.500000  8756.549805         0   \n",
       "2000-01-05  8690.599609  8867.679688  8668.019531  8849.870117         0   \n",
       "2000-01-06  8900.559570  9023.990234  8833.910156  8922.030273         0   \n",
       "2000-01-07  8853.429688  8940.769531  8739.429688  8849.870117         0   \n",
       "2000-01-10  8941.929688  9126.019531  8891.790039  9102.599609         0   \n",
       "\n",
       "            Adj Close_x   Open_y   High_y    Low_y  Close_y   Volume_y  \\\n",
       "Date                                                                     \n",
       "2000-01-04  8756.524752  83.0813  83.0813  81.6811  83.0813  149083800   \n",
       "2000-01-05  8849.844798  83.0813  84.9482  82.1478  84.9482  299016300   \n",
       "2000-01-06  8922.004747  84.4815  84.9482  83.0813  83.0813  146768300   \n",
       "2000-01-07  8849.844798  80.2809  81.6811  79.3474  80.7476  174796200   \n",
       "2000-01-10  9102.573567  83.0813  84.0148  81.6811  83.5480  205184200   \n",
       "\n",
       "            Adj Close_y  \n",
       "Date                     \n",
       "2000-01-04      29.6180  \n",
       "2000-01-05      30.2836  \n",
       "2000-01-06      29.6180  \n",
       "2000-01-07      28.7861  \n",
       "2000-01-10      29.7844  "
      ]
     },
     "execution_count": 11,
     "metadata": {},
     "output_type": "execute_result"
    }
   ],
   "source": [
    "import pandas as pd\n",
    "result = pd.merge(dftwii, df2330, left_index=True, right_index=True, how='inner')\n",
    "result.head()"
   ]
  },
  {
   "cell_type": "code",
   "execution_count": 14,
   "metadata": {
    "collapsed": false
   },
   "outputs": [
    {
     "data": {
      "text/html": [
       "<div>\n",
       "<table border=\"1\" class=\"dataframe\">\n",
       "  <thead>\n",
       "    <tr style=\"text-align: right;\">\n",
       "      <th></th>\n",
       "      <th>Close_x</th>\n",
       "      <th>Close_y</th>\n",
       "    </tr>\n",
       "  </thead>\n",
       "  <tbody>\n",
       "    <tr>\n",
       "      <th>Close_x</th>\n",
       "      <td>2.295235e+06</td>\n",
       "      <td>32690.958601</td>\n",
       "    </tr>\n",
       "    <tr>\n",
       "      <th>Close_y</th>\n",
       "      <td>3.269096e+04</td>\n",
       "      <td>946.936050</td>\n",
       "    </tr>\n",
       "  </tbody>\n",
       "</table>\n",
       "</div>"
      ],
      "text/plain": [
       "              Close_x       Close_y\n",
       "Close_x  2.295235e+06  32690.958601\n",
       "Close_y  3.269096e+04    946.936050"
      ]
     },
     "execution_count": 14,
     "metadata": {},
     "output_type": "execute_result"
    }
   ],
   "source": [
    "result[['Close_x', 'Close_y']].head()\n",
    "result[['Close_x', 'Close_y']].cov()"
   ]
  },
  {
   "cell_type": "code",
   "execution_count": 16,
   "metadata": {
    "collapsed": false
   },
   "outputs": [
    {
     "data": {
      "text/html": [
       "<div>\n",
       "<table border=\"1\" class=\"dataframe\">\n",
       "  <thead>\n",
       "    <tr style=\"text-align: right;\">\n",
       "      <th></th>\n",
       "      <th>Close_x</th>\n",
       "      <th>Close_y</th>\n",
       "    </tr>\n",
       "  </thead>\n",
       "  <tbody>\n",
       "    <tr>\n",
       "      <th>Close_x</th>\n",
       "      <td>1.000000</td>\n",
       "      <td>0.701219</td>\n",
       "    </tr>\n",
       "    <tr>\n",
       "      <th>Close_y</th>\n",
       "      <td>0.701219</td>\n",
       "      <td>1.000000</td>\n",
       "    </tr>\n",
       "  </tbody>\n",
       "</table>\n",
       "</div>"
      ],
      "text/plain": [
       "          Close_x   Close_y\n",
       "Close_x  1.000000  0.701219\n",
       "Close_y  0.701219  1.000000"
      ]
     },
     "execution_count": 16,
     "metadata": {},
     "output_type": "execute_result"
    }
   ],
   "source": [
    "result[['Close_x', 'Close_y']].corr()"
   ]
  },
  {
   "cell_type": "code",
   "execution_count": 19,
   "metadata": {
    "collapsed": true
   },
   "outputs": [],
   "source": [
    "import pandas, datetime\n",
    "df = pandas.io.data.get_data_yahoo(['^TWII', '2330.TW', '2498.TW', '3008.TW', '1101.TW', '1102.TW'], \n",
    "                               start=datetime.datetime(2000, 1, 1), \n",
    "                               end=datetime.datetime(2016, 1, 1))['Adj Close']\n",
    "\n"
   ]
  },
  {
   "cell_type": "code",
   "execution_count": 20,
   "metadata": {
    "collapsed": false
   },
   "outputs": [
    {
     "data": {
      "text/html": [
       "<div>\n",
       "<table border=\"1\" class=\"dataframe\">\n",
       "  <thead>\n",
       "    <tr style=\"text-align: right;\">\n",
       "      <th></th>\n",
       "      <th>1101.TW</th>\n",
       "      <th>1102.TW</th>\n",
       "      <th>2330.TW</th>\n",
       "      <th>2498.TW</th>\n",
       "      <th>3008.TW</th>\n",
       "      <th>^TWII</th>\n",
       "    </tr>\n",
       "  </thead>\n",
       "  <tbody>\n",
       "    <tr>\n",
       "      <th>1101.TW</th>\n",
       "      <td>1.000000</td>\n",
       "      <td>0.985062</td>\n",
       "      <td>0.813675</td>\n",
       "      <td>0.261941</td>\n",
       "      <td>0.696916</td>\n",
       "      <td>0.815733</td>\n",
       "    </tr>\n",
       "    <tr>\n",
       "      <th>1102.TW</th>\n",
       "      <td>0.985062</td>\n",
       "      <td>1.000000</td>\n",
       "      <td>0.806787</td>\n",
       "      <td>0.276646</td>\n",
       "      <td>0.673819</td>\n",
       "      <td>0.769005</td>\n",
       "    </tr>\n",
       "    <tr>\n",
       "      <th>2330.TW</th>\n",
       "      <td>0.813675</td>\n",
       "      <td>0.806787</td>\n",
       "      <td>1.000000</td>\n",
       "      <td>-0.144746</td>\n",
       "      <td>0.925853</td>\n",
       "      <td>0.650441</td>\n",
       "    </tr>\n",
       "    <tr>\n",
       "      <th>2498.TW</th>\n",
       "      <td>0.261941</td>\n",
       "      <td>0.276646</td>\n",
       "      <td>-0.144746</td>\n",
       "      <td>1.000000</td>\n",
       "      <td>-0.155900</td>\n",
       "      <td>0.382209</td>\n",
       "    </tr>\n",
       "    <tr>\n",
       "      <th>3008.TW</th>\n",
       "      <td>0.696916</td>\n",
       "      <td>0.673819</td>\n",
       "      <td>0.925853</td>\n",
       "      <td>-0.155900</td>\n",
       "      <td>1.000000</td>\n",
       "      <td>0.639351</td>\n",
       "    </tr>\n",
       "    <tr>\n",
       "      <th>^TWII</th>\n",
       "      <td>0.815733</td>\n",
       "      <td>0.769005</td>\n",
       "      <td>0.650441</td>\n",
       "      <td>0.382209</td>\n",
       "      <td>0.639351</td>\n",
       "      <td>1.000000</td>\n",
       "    </tr>\n",
       "  </tbody>\n",
       "</table>\n",
       "</div>"
      ],
      "text/plain": [
       "          1101.TW   1102.TW   2330.TW   2498.TW   3008.TW     ^TWII\n",
       "1101.TW  1.000000  0.985062  0.813675  0.261941  0.696916  0.815733\n",
       "1102.TW  0.985062  1.000000  0.806787  0.276646  0.673819  0.769005\n",
       "2330.TW  0.813675  0.806787  1.000000 -0.144746  0.925853  0.650441\n",
       "2498.TW  0.261941  0.276646 -0.144746  1.000000 -0.155900  0.382209\n",
       "3008.TW  0.696916  0.673819  0.925853 -0.155900  1.000000  0.639351\n",
       "^TWII    0.815733  0.769005  0.650441  0.382209  0.639351  1.000000"
      ]
     },
     "execution_count": 20,
     "metadata": {},
     "output_type": "execute_result"
    }
   ],
   "source": [
    "df.corr()"
   ]
  },
  {
   "cell_type": "code",
   "execution_count": 23,
   "metadata": {
    "collapsed": false
   },
   "outputs": [
    {
     "name": "stdout",
     "output_type": "stream",
     "text": [
      "Populating the interactive namespace from numpy and matplotlib\n"
     ]
    },
    {
     "data": {
      "image/png": "[encoded data removed]",
      "text/plain": [
       "<matplotlib.figure.Figure at 0x93978d0>"
      ]
     },
     "metadata": {},
     "output_type": "display_data"
    }
   ],
   "source": [
    "%pylab inline\n",
    "import matplotlib.pyplot as plt\n",
    "corr = df.corr()\n",
    "\n",
    "plt.imshow(corr, cmap='hot', interpolation='none')\n",
    "plt.colorbar()\n",
    "plt.xticks(range(len(corr)), corr.columns)\n",
    "plt.yticks(range(len(corr)), corr.columns);"
   ]
  },
  {
   "cell_type": "code",
   "execution_count": 32,
   "metadata": {
    "collapsed": false
   },
   "outputs": [
    {
     "data": {
      "text/plain": [
       "<matplotlib.axes._subplots.AxesSubplot at 0x8914908>"
      ]
     },
     "execution_count": 32,
     "metadata": {},
     "output_type": "execute_result"
    },
    {
     "data": {
      "image/png": "[encoded data removed]",
      "text/plain": [
       "<matplotlib.figure.Figure at 0x886de80>"
      ]
     },
     "metadata": {},
     "output_type": "display_data"
    }
   ],
   "source": [
    "df.plot(kind = 'scatter', x = '1101.TW', y = '1102.TW')"
   ]
  },
  {
   "cell_type": "markdown",
   "metadata": {},
   "source": [
    "## 點估計與信賴區間"
   ]
  },
  {
   "cell_type": "code",
   "execution_count": 125,
   "metadata": {
    "collapsed": true
   },
   "outputs": [],
   "source": [
    "import pandas.io.data as web # as => alias, use \"web\" to replace pandas.io.data\n",
    "df2330 = web.DataReader(name='2330.TW', data_source='yahoo',start='2000-1-1')\n",
    "df2330['DailyReturn']  =  df2330['Close'].pct_change(1)"
   ]
  },
  {
   "cell_type": "code",
   "execution_count": 126,
   "metadata": {
    "collapsed": false
   },
   "outputs": [
    {
     "data": {
      "text/html": [
       "<div>\n",
       "<table border=\"1\" class=\"dataframe\">\n",
       "  <thead>\n",
       "    <tr style=\"text-align: right;\">\n",
       "      <th></th>\n",
       "      <th>Open</th>\n",
       "      <th>High</th>\n",
       "      <th>Low</th>\n",
       "      <th>Close</th>\n",
       "      <th>Volume</th>\n",
       "      <th>Adj Close</th>\n",
       "      <th>DailyReturn</th>\n",
       "    </tr>\n",
       "    <tr>\n",
       "      <th>Date</th>\n",
       "      <th></th>\n",
       "      <th></th>\n",
       "      <th></th>\n",
       "      <th></th>\n",
       "      <th></th>\n",
       "      <th></th>\n",
       "      <th></th>\n",
       "    </tr>\n",
       "  </thead>\n",
       "  <tbody>\n",
       "    <tr>\n",
       "      <th>2000-01-04</th>\n",
       "      <td>83.0813</td>\n",
       "      <td>83.0813</td>\n",
       "      <td>81.6811</td>\n",
       "      <td>83.0813</td>\n",
       "      <td>149083800</td>\n",
       "      <td>29.6180</td>\n",
       "      <td>NaN</td>\n",
       "    </tr>\n",
       "    <tr>\n",
       "      <th>2000-01-05</th>\n",
       "      <td>83.0813</td>\n",
       "      <td>84.9482</td>\n",
       "      <td>82.1478</td>\n",
       "      <td>84.9482</td>\n",
       "      <td>299016300</td>\n",
       "      <td>30.2836</td>\n",
       "      <td>0.022471</td>\n",
       "    </tr>\n",
       "    <tr>\n",
       "      <th>2000-01-06</th>\n",
       "      <td>84.4815</td>\n",
       "      <td>84.9482</td>\n",
       "      <td>83.0813</td>\n",
       "      <td>83.0813</td>\n",
       "      <td>146768300</td>\n",
       "      <td>29.6180</td>\n",
       "      <td>-0.021977</td>\n",
       "    </tr>\n",
       "    <tr>\n",
       "      <th>2000-01-07</th>\n",
       "      <td>80.2809</td>\n",
       "      <td>81.6811</td>\n",
       "      <td>79.3474</td>\n",
       "      <td>80.7476</td>\n",
       "      <td>174796200</td>\n",
       "      <td>28.7861</td>\n",
       "      <td>-0.028089</td>\n",
       "    </tr>\n",
       "    <tr>\n",
       "      <th>2000-01-10</th>\n",
       "      <td>83.0813</td>\n",
       "      <td>84.0148</td>\n",
       "      <td>81.6811</td>\n",
       "      <td>83.5480</td>\n",
       "      <td>205184200</td>\n",
       "      <td>29.7844</td>\n",
       "      <td>0.034681</td>\n",
       "    </tr>\n",
       "  </tbody>\n",
       "</table>\n",
       "</div>"
      ],
      "text/plain": [
       "               Open     High      Low    Close     Volume  Adj Close  \\\n",
       "Date                                                                   \n",
       "2000-01-04  83.0813  83.0813  81.6811  83.0813  149083800    29.6180   \n",
       "2000-01-05  83.0813  84.9482  82.1478  84.9482  299016300    30.2836   \n",
       "2000-01-06  84.4815  84.9482  83.0813  83.0813  146768300    29.6180   \n",
       "2000-01-07  80.2809  81.6811  79.3474  80.7476  174796200    28.7861   \n",
       "2000-01-10  83.0813  84.0148  81.6811  83.5480  205184200    29.7844   \n",
       "\n",
       "            DailyReturn  \n",
       "Date                     \n",
       "2000-01-04          NaN  \n",
       "2000-01-05     0.022471  \n",
       "2000-01-06    -0.021977  \n",
       "2000-01-07    -0.028089  \n",
       "2000-01-10     0.034681  "
      ]
     },
     "execution_count": 126,
     "metadata": {},
     "output_type": "execute_result"
    }
   ],
   "source": [
    "df2330.head()"
   ]
  },
  {
   "cell_type": "code",
   "execution_count": 127,
   "metadata": {
    "collapsed": false
   },
   "outputs": [
    {
     "data": {
      "text/plain": [
       "4166"
      ]
     },
     "execution_count": 127,
     "metadata": {},
     "output_type": "execute_result"
    }
   ],
   "source": [
    "df2330['DailyReturn'].count()"
   ]
  },
  {
   "cell_type": "code",
   "execution_count": 128,
   "metadata": {
    "collapsed": false
   },
   "outputs": [
    {
     "data": {
      "text/plain": [
       "0.00040018651337033346"
      ]
     },
     "execution_count": 128,
     "metadata": {},
     "output_type": "execute_result"
    }
   ],
   "source": [
    "df2330['DailyReturn'].mean()"
   ]
  },
  {
   "cell_type": "code",
   "execution_count": 129,
   "metadata": {
    "collapsed": false
   },
   "outputs": [
    {
     "data": {
      "text/plain": [
       "array([10, 37, 16,  1, 29, 26])"
      ]
     },
     "execution_count": 129,
     "metadata": {},
     "output_type": "execute_result"
    }
   ],
   "source": [
    "import numpy as np\n",
    "np.random.seed(10) # 產生固定的亂數\n",
    "np.random.randint(1, 42, 6)"
   ]
  },
  {
   "cell_type": "code",
   "execution_count": 130,
   "metadata": {
    "collapsed": false
   },
   "outputs": [
    {
     "name": "stdout",
     "output_type": "stream",
     "text": [
      "0.0008960836233\n"
     ]
    }
   ],
   "source": [
    "import numpy as np\n",
    "np.random.seed(10) # 產生固定的亂數\n",
    "sample_size = 1000\n",
    "sample = np.random.choice(a= df2330['DailyReturn'].dropna(), size = sample_size)\n",
    "sample_mean = sample.mean()\n",
    "print sample_mean"
   ]
  },
  {
   "cell_type": "code",
   "execution_count": 131,
   "metadata": {
    "collapsed": false
   },
   "outputs": [
    {
     "name": "stdout",
     "output_type": "stream",
     "text": [
      "-1.95996398454\n",
      "1.95996398454\n",
      "-2.57582930355\n",
      "2.57582930355\n"
     ]
    }
   ],
   "source": [
    "from scipy import stats\n",
    "z_critical = stats.norm.ppf(q = 0.025) # 0.025 ~ 0.975 = 95%\n",
    "print z_critical\n",
    "z_critical = stats.norm.ppf(q = 0.975) # 0.025 ~ 0.975 = 95%\n",
    "print z_critical\n",
    "\n",
    "\n",
    "from scipy import stats\n",
    "z_critical = stats.norm.ppf(q = 0.005) # 0.995 ~ 0.005 = 99%\n",
    "print z_critical\n",
    "z_critical = stats.norm.ppf(q = 0.995) # 0.995 ~ 0.005 = 99%\n",
    "print z_critical"
   ]
  },
  {
   "cell_type": "code",
   "execution_count": 132,
   "metadata": {
    "collapsed": false
   },
   "outputs": [
    {
     "name": "stdout",
     "output_type": "stream",
     "text": [
      "0.00129908611468\n"
     ]
    }
   ],
   "source": [
    "z_critical = stats.norm.ppf(q = 0.975) # 0.025 ~ 0.975 = 95%\n",
    "pop_stdev = df2330['DailyReturn'].std() \n",
    "margin_of_error = z_critical * (pop_stdev/math.sqrt(sample_size))\n",
    "print margin_of_error"
   ]
  },
  {
   "cell_type": "code",
   "execution_count": 133,
   "metadata": {
    "collapsed": false
   },
   "outputs": [
    {
     "name": "stdout",
     "output_type": "stream",
     "text": [
      "(-0.0004030024913851348, 0.0021951697379845895)\n"
     ]
    }
   ],
   "source": [
    "print (sample_mean -margin_of_error,  sample_mean + margin_of_error)"
   ]
  },
  {
   "cell_type": "code",
   "execution_count": 134,
   "metadata": {
    "collapsed": false
   },
   "outputs": [
    {
     "name": "stdout",
     "output_type": "stream",
     "text": [
      "-0.00180996787874\n"
     ]
    }
   ],
   "source": [
    "import numpy as np\n",
    "np.random.seed(10) # 產生固定的亂數\n",
    "sample_size = 100\n",
    "sample = np.random.choice(a= df2330['DailyReturn'], size = sample_size)\n",
    "sample_mean = sample.mean()\n",
    "print sample_mean"
   ]
  },
  {
   "cell_type": "code",
   "execution_count": 135,
   "metadata": {
    "collapsed": false
   },
   "outputs": [
    {
     "name": "stdout",
     "output_type": "stream",
     "text": [
      "0.00539892046181\n"
     ]
    }
   ],
   "source": [
    "z_critical = stats.norm.ppf(q = 0.995) # 0.005 ~ 0.995 = 99%\n",
    "pop_stdev = df2330['DailyReturn'].std() \n",
    "margin_of_error = z_critical * (pop_stdev/math.sqrt(sample_size))\n",
    "print margin_of_error"
   ]
  },
  {
   "cell_type": "code",
   "execution_count": 136,
   "metadata": {
    "collapsed": false
   },
   "outputs": [
    {
     "name": "stdout",
     "output_type": "stream",
     "text": [
      "(-0.00720888834054973, 0.0035889525830750087)\n"
     ]
    }
   ],
   "source": [
    "print (sample_mean -margin_of_error,  sample_mean + margin_of_error)"
   ]
  },
  {
   "cell_type": "code",
   "execution_count": 141,
   "metadata": {
    "collapsed": false
   },
   "outputs": [
    {
     "name": "stdout",
     "output_type": "stream",
     "text": [
      "0.22325177944\n"
     ]
    }
   ],
   "source": [
    "from scipy import stats\n",
    "one_sample_data = [15.48,4.4,5.81,6.07,5.19,3.25,4.41,5.05,11.63,8.99]\n",
    "one_sample = stats.ttest_1samp(one_sample_data, 8)\n",
    "print one_sample[1] / 2"
   ]
  },
  {
   "cell_type": "code",
   "execution_count": 143,
   "metadata": {
    "collapsed": true
   },
   "outputs": [],
   "source": [
    "import pandas.io.data as web # as => alias, use \"web\" to replace pandas.io.data\n",
    "df2330 = web.DataReader(name='2330.TW', data_source='yahoo',start='2000-1-1')\n",
    "df2330['DailyReturn']  =  df2330['Close'].pct_change(1)\n",
    "df2330.to_excel('2330.xlsx')"
   ]
  },
  {
   "cell_type": "markdown",
   "metadata": {},
   "source": [
    "## Pandas 基礎"
   ]
  },
  {
   "cell_type": "code",
   "execution_count": 145,
   "metadata": {
    "collapsed": true
   },
   "outputs": [],
   "source": [
    "import pandas as pd\n",
    "import pandas.io.data"
   ]
  },
  {
   "cell_type": "code",
   "execution_count": 147,
   "metadata": {
    "collapsed": false
   },
   "outputs": [
    {
     "data": {
      "text/plain": [
       "a    1\n",
       "b    2\n",
       "c    3\n",
       "d    4\n",
       "e    5\n",
       "dtype: int64"
      ]
     },
     "execution_count": 147,
     "metadata": {},
     "output_type": "execute_result"
    }
   ],
   "source": [
    "labels = ['a', 'b', 'c', 'd', 'e']\n",
    "s = pd.Series([1, 2, 3, 4, 5], index=labels)\n",
    "s"
   ]
  },
  {
   "cell_type": "code",
   "execution_count": 149,
   "metadata": {
    "collapsed": false
   },
   "outputs": [
    {
     "data": {
      "text/plain": [
       "True"
      ]
     },
     "execution_count": 149,
     "metadata": {},
     "output_type": "execute_result"
    }
   ],
   "source": [
    "'b' in s"
   ]
  },
  {
   "cell_type": "code",
   "execution_count": 150,
   "metadata": {
    "collapsed": false
   },
   "outputs": [
    {
     "data": {
      "text/plain": [
       "2"
      ]
     },
     "execution_count": 150,
     "metadata": {},
     "output_type": "execute_result"
    }
   ],
   "source": [
    "s['b']"
   ]
  },
  {
   "cell_type": "code",
   "execution_count": 151,
   "metadata": {
    "collapsed": true
   },
   "outputs": [],
   "source": [
    "labels = ['a', 'b', 'c', 'd', 'e']\n",
    "s2 = pd.Series([1, 2, 3, 4, 5], index=labels)"
   ]
  },
  {
   "cell_type": "code",
   "execution_count": 155,
   "metadata": {
    "collapsed": false
   },
   "outputs": [
    {
     "data": {
      "text/html": [
       "<div>\n",
       "<table border=\"1\" class=\"dataframe\">\n",
       "  <thead>\n",
       "    <tr style=\"text-align: right;\">\n",
       "      <th></th>\n",
       "      <th>a</th>\n",
       "      <th>b</th>\n",
       "      <th>c</th>\n",
       "      <th>d</th>\n",
       "      <th>e</th>\n",
       "    </tr>\n",
       "  </thead>\n",
       "  <tbody>\n",
       "    <tr>\n",
       "      <th>0</th>\n",
       "      <td>1</td>\n",
       "      <td>2</td>\n",
       "      <td>3</td>\n",
       "      <td>4</td>\n",
       "      <td>5</td>\n",
       "    </tr>\n",
       "    <tr>\n",
       "      <th>1</th>\n",
       "      <td>1</td>\n",
       "      <td>2</td>\n",
       "      <td>3</td>\n",
       "      <td>4</td>\n",
       "      <td>5</td>\n",
       "    </tr>\n",
       "  </tbody>\n",
       "</table>\n",
       "</div>"
      ],
      "text/plain": [
       "   a  b  c  d  e\n",
       "0  1  2  3  4  5\n",
       "1  1  2  3  4  5"
      ]
     },
     "execution_count": 155,
     "metadata": {},
     "output_type": "execute_result"
    }
   ],
   "source": [
    "df = pd.DataFrame([s,s2])\n",
    "df"
   ]
  },
  {
   "cell_type": "code",
   "execution_count": 157,
   "metadata": {
    "collapsed": false
   },
   "outputs": [
    {
     "data": {
      "text/html": [
       "<div>\n",
       "<table border=\"1\" class=\"dataframe\">\n",
       "  <thead>\n",
       "    <tr style=\"text-align: right;\">\n",
       "      <th></th>\n",
       "      <th>Open</th>\n",
       "      <th>High</th>\n",
       "      <th>Low</th>\n",
       "      <th>Close</th>\n",
       "      <th>Volume</th>\n",
       "      <th>Adj Close</th>\n",
       "    </tr>\n",
       "    <tr>\n",
       "      <th>Date</th>\n",
       "      <th></th>\n",
       "      <th></th>\n",
       "      <th></th>\n",
       "      <th></th>\n",
       "      <th></th>\n",
       "      <th></th>\n",
       "    </tr>\n",
       "  </thead>\n",
       "  <tbody>\n",
       "    <tr>\n",
       "      <th>2006-10-02</th>\n",
       "      <td>59.5025</td>\n",
       "      <td>60.1991</td>\n",
       "      <td>59.2040</td>\n",
       "      <td>59.9005</td>\n",
       "      <td>44461200</td>\n",
       "      <td>42.0934</td>\n",
       "    </tr>\n",
       "    <tr>\n",
       "      <th>2006-10-03</th>\n",
       "      <td>59.7015</td>\n",
       "      <td>60.0000</td>\n",
       "      <td>59.3035</td>\n",
       "      <td>59.7015</td>\n",
       "      <td>31307700</td>\n",
       "      <td>41.9536</td>\n",
       "    </tr>\n",
       "    <tr>\n",
       "      <th>2006-10-04</th>\n",
       "      <td>59.7015</td>\n",
       "      <td>59.7015</td>\n",
       "      <td>58.2090</td>\n",
       "      <td>58.2090</td>\n",
       "      <td>46544900</td>\n",
       "      <td>40.9047</td>\n",
       "    </tr>\n",
       "    <tr>\n",
       "      <th>2006-10-05</th>\n",
       "      <td>59.3035</td>\n",
       "      <td>60.4976</td>\n",
       "      <td>59.3035</td>\n",
       "      <td>60.3981</td>\n",
       "      <td>44810700</td>\n",
       "      <td>42.4430</td>\n",
       "    </tr>\n",
       "    <tr>\n",
       "      <th>2006-10-11</th>\n",
       "      <td>60.3981</td>\n",
       "      <td>60.5971</td>\n",
       "      <td>60.0995</td>\n",
       "      <td>60.2986</td>\n",
       "      <td>37896100</td>\n",
       "      <td>42.3731</td>\n",
       "    </tr>\n",
       "  </tbody>\n",
       "</table>\n",
       "</div>"
      ],
      "text/plain": [
       "               Open     High      Low    Close    Volume  Adj Close\n",
       "Date                                                               \n",
       "2006-10-02  59.5025  60.1991  59.2040  59.9005  44461200    42.0934\n",
       "2006-10-03  59.7015  60.0000  59.3035  59.7015  31307700    41.9536\n",
       "2006-10-04  59.7015  59.7015  58.2090  58.2090  46544900    40.9047\n",
       "2006-10-05  59.3035  60.4976  59.3035  60.3981  44810700    42.4430\n",
       "2006-10-11  60.3981  60.5971  60.0995  60.2986  37896100    42.3731"
      ]
     },
     "execution_count": 157,
     "metadata": {},
     "output_type": "execute_result"
    }
   ],
   "source": [
    "tw2330 = pd.io.data.get_data_yahoo('2330.TW', \n",
    "                                 start=datetime.datetime(2006, 10, 1), \n",
    "                                 end=datetime.datetime(2012, 1, 1))\n",
    "tw2330.head()"
   ]
  },
  {
   "cell_type": "code",
   "execution_count": 160,
   "metadata": {
    "collapsed": false
   },
   "outputs": [
    {
     "data": {
      "text/plain": [
       "59.900500000000001"
      ]
     },
     "execution_count": 160,
     "metadata": {},
     "output_type": "execute_result"
    }
   ],
   "source": [
    "tw2330['Close'][0]"
   ]
  },
  {
   "cell_type": "code",
   "execution_count": 170,
   "metadata": {
    "collapsed": false
   },
   "outputs": [
    {
     "data": {
      "text/plain": [
       "Date\n",
       "2006-10-02    59.9005\n",
       "2006-10-03    59.7015\n",
       "2006-10-04    58.2090\n",
       "Name: Close, dtype: float64"
      ]
     },
     "execution_count": 170,
     "metadata": {},
     "output_type": "execute_result"
    }
   ],
   "source": [
    "ts = tw2330['Close'][0:3]\n",
    "ts"
   ]
  },
  {
   "cell_type": "code",
   "execution_count": 168,
   "metadata": {
    "collapsed": false
   },
   "outputs": [
    {
     "name": "stdout",
     "output_type": "stream",
     "text": [
      "<class 'pandas.core.series.Series'>\n",
      "<class 'pandas.core.frame.DataFrame'>\n"
     ]
    }
   ],
   "source": [
    "print type(ts)\n",
    "print type(tw2330)"
   ]
  },
  {
   "cell_type": "code",
   "execution_count": 171,
   "metadata": {
    "collapsed": false
   },
   "outputs": [
    {
     "data": {
      "text/plain": [
       "Timestamp('2006-10-04 00:00:00')"
      ]
     },
     "execution_count": 171,
     "metadata": {},
     "output_type": "execute_result"
    }
   ],
   "source": [
    "ts.index[2]"
   ]
  },
  {
   "cell_type": "code",
   "execution_count": 173,
   "metadata": {
    "collapsed": false
   },
   "outputs": [
    {
     "data": {
      "text/html": [
       "<div>\n",
       "<table border=\"1\" class=\"dataframe\">\n",
       "  <thead>\n",
       "    <tr style=\"text-align: right;\">\n",
       "      <th></th>\n",
       "      <th>Open</th>\n",
       "      <th>Close</th>\n",
       "    </tr>\n",
       "    <tr>\n",
       "      <th>Date</th>\n",
       "      <th></th>\n",
       "      <th></th>\n",
       "    </tr>\n",
       "  </thead>\n",
       "  <tbody>\n",
       "    <tr>\n",
       "      <th>2006-10-02</th>\n",
       "      <td>59.5025</td>\n",
       "      <td>59.9005</td>\n",
       "    </tr>\n",
       "    <tr>\n",
       "      <th>2006-10-03</th>\n",
       "      <td>59.7015</td>\n",
       "      <td>59.7015</td>\n",
       "    </tr>\n",
       "    <tr>\n",
       "      <th>2006-10-04</th>\n",
       "      <td>59.7015</td>\n",
       "      <td>58.2090</td>\n",
       "    </tr>\n",
       "    <tr>\n",
       "      <th>2006-10-05</th>\n",
       "      <td>59.3035</td>\n",
       "      <td>60.3981</td>\n",
       "    </tr>\n",
       "    <tr>\n",
       "      <th>2006-10-11</th>\n",
       "      <td>60.3981</td>\n",
       "      <td>60.2986</td>\n",
       "    </tr>\n",
       "  </tbody>\n",
       "</table>\n",
       "</div>"
      ],
      "text/plain": [
       "               Open    Close\n",
       "Date                        \n",
       "2006-10-02  59.5025  59.9005\n",
       "2006-10-03  59.7015  59.7015\n",
       "2006-10-04  59.7015  58.2090\n",
       "2006-10-05  59.3035  60.3981\n",
       "2006-10-11  60.3981  60.2986"
      ]
     },
     "execution_count": 173,
     "metadata": {},
     "output_type": "execute_result"
    }
   ],
   "source": [
    "tw2330[['Open', 'Close']].head()"
   ]
  },
  {
   "cell_type": "code",
   "execution_count": 174,
   "metadata": {
    "collapsed": false
   },
   "outputs": [
    {
     "data": {
      "text/html": [
       "<div>\n",
       "<table border=\"1\" class=\"dataframe\">\n",
       "  <thead>\n",
       "    <tr style=\"text-align: right;\">\n",
       "      <th></th>\n",
       "      <th>Open</th>\n",
       "      <th>High</th>\n",
       "      <th>Low</th>\n",
       "      <th>Close</th>\n",
       "      <th>Volume</th>\n",
       "      <th>Adj Close</th>\n",
       "      <th>diff</th>\n",
       "    </tr>\n",
       "    <tr>\n",
       "      <th>Date</th>\n",
       "      <th></th>\n",
       "      <th></th>\n",
       "      <th></th>\n",
       "      <th></th>\n",
       "      <th></th>\n",
       "      <th></th>\n",
       "      <th></th>\n",
       "    </tr>\n",
       "  </thead>\n",
       "  <tbody>\n",
       "    <tr>\n",
       "      <th>2006-10-02</th>\n",
       "      <td>59.5025</td>\n",
       "      <td>60.1991</td>\n",
       "      <td>59.2040</td>\n",
       "      <td>59.9005</td>\n",
       "      <td>44461200</td>\n",
       "      <td>42.0934</td>\n",
       "      <td>-0.3980</td>\n",
       "    </tr>\n",
       "    <tr>\n",
       "      <th>2006-10-03</th>\n",
       "      <td>59.7015</td>\n",
       "      <td>60.0000</td>\n",
       "      <td>59.3035</td>\n",
       "      <td>59.7015</td>\n",
       "      <td>31307700</td>\n",
       "      <td>41.9536</td>\n",
       "      <td>0.0000</td>\n",
       "    </tr>\n",
       "    <tr>\n",
       "      <th>2006-10-04</th>\n",
       "      <td>59.7015</td>\n",
       "      <td>59.7015</td>\n",
       "      <td>58.2090</td>\n",
       "      <td>58.2090</td>\n",
       "      <td>46544900</td>\n",
       "      <td>40.9047</td>\n",
       "      <td>1.4925</td>\n",
       "    </tr>\n",
       "    <tr>\n",
       "      <th>2006-10-05</th>\n",
       "      <td>59.3035</td>\n",
       "      <td>60.4976</td>\n",
       "      <td>59.3035</td>\n",
       "      <td>60.3981</td>\n",
       "      <td>44810700</td>\n",
       "      <td>42.4430</td>\n",
       "      <td>-1.0946</td>\n",
       "    </tr>\n",
       "    <tr>\n",
       "      <th>2006-10-11</th>\n",
       "      <td>60.3981</td>\n",
       "      <td>60.5971</td>\n",
       "      <td>60.0995</td>\n",
       "      <td>60.2986</td>\n",
       "      <td>37896100</td>\n",
       "      <td>42.3731</td>\n",
       "      <td>0.0995</td>\n",
       "    </tr>\n",
       "  </tbody>\n",
       "</table>\n",
       "</div>"
      ],
      "text/plain": [
       "               Open     High      Low    Close    Volume  Adj Close    diff\n",
       "Date                                                                       \n",
       "2006-10-02  59.5025  60.1991  59.2040  59.9005  44461200    42.0934 -0.3980\n",
       "2006-10-03  59.7015  60.0000  59.3035  59.7015  31307700    41.9536  0.0000\n",
       "2006-10-04  59.7015  59.7015  58.2090  58.2090  46544900    40.9047  1.4925\n",
       "2006-10-05  59.3035  60.4976  59.3035  60.3981  44810700    42.4430 -1.0946\n",
       "2006-10-11  60.3981  60.5971  60.0995  60.2986  37896100    42.3731  0.0995"
      ]
     },
     "execution_count": 174,
     "metadata": {},
     "output_type": "execute_result"
    }
   ],
   "source": [
    "tw2330['diff'] = tw2330.Open - tw2330.Close\n",
    "tw2330.head()"
   ]
  },
  {
   "cell_type": "code",
   "execution_count": 175,
   "metadata": {
    "collapsed": true
   },
   "outputs": [],
   "source": [
    "del tw2330['diff']"
   ]
  },
  {
   "cell_type": "code",
   "execution_count": 176,
   "metadata": {
    "collapsed": false
   },
   "outputs": [
    {
     "data": {
      "text/html": [
       "<div>\n",
       "<table border=\"1\" class=\"dataframe\">\n",
       "  <thead>\n",
       "    <tr style=\"text-align: right;\">\n",
       "      <th></th>\n",
       "      <th>Open</th>\n",
       "      <th>High</th>\n",
       "      <th>Low</th>\n",
       "      <th>Close</th>\n",
       "      <th>Volume</th>\n",
       "      <th>Adj Close</th>\n",
       "    </tr>\n",
       "    <tr>\n",
       "      <th>Date</th>\n",
       "      <th></th>\n",
       "      <th></th>\n",
       "      <th></th>\n",
       "      <th></th>\n",
       "      <th></th>\n",
       "      <th></th>\n",
       "    </tr>\n",
       "  </thead>\n",
       "  <tbody>\n",
       "    <tr>\n",
       "      <th>2006-10-02</th>\n",
       "      <td>59.5025</td>\n",
       "      <td>60.1991</td>\n",
       "      <td>59.2040</td>\n",
       "      <td>59.9005</td>\n",
       "      <td>44461200</td>\n",
       "      <td>42.0934</td>\n",
       "    </tr>\n",
       "    <tr>\n",
       "      <th>2006-10-03</th>\n",
       "      <td>59.7015</td>\n",
       "      <td>60.0000</td>\n",
       "      <td>59.3035</td>\n",
       "      <td>59.7015</td>\n",
       "      <td>31307700</td>\n",
       "      <td>41.9536</td>\n",
       "    </tr>\n",
       "    <tr>\n",
       "      <th>2006-10-04</th>\n",
       "      <td>59.7015</td>\n",
       "      <td>59.7015</td>\n",
       "      <td>58.2090</td>\n",
       "      <td>58.2090</td>\n",
       "      <td>46544900</td>\n",
       "      <td>40.9047</td>\n",
       "    </tr>\n",
       "    <tr>\n",
       "      <th>2006-10-05</th>\n",
       "      <td>59.3035</td>\n",
       "      <td>60.4976</td>\n",
       "      <td>59.3035</td>\n",
       "      <td>60.3981</td>\n",
       "      <td>44810700</td>\n",
       "      <td>42.4430</td>\n",
       "    </tr>\n",
       "    <tr>\n",
       "      <th>2006-10-11</th>\n",
       "      <td>60.3981</td>\n",
       "      <td>60.5971</td>\n",
       "      <td>60.0995</td>\n",
       "      <td>60.2986</td>\n",
       "      <td>37896100</td>\n",
       "      <td>42.3731</td>\n",
       "    </tr>\n",
       "  </tbody>\n",
       "</table>\n",
       "</div>"
      ],
      "text/plain": [
       "               Open     High      Low    Close    Volume  Adj Close\n",
       "Date                                                               \n",
       "2006-10-02  59.5025  60.1991  59.2040  59.9005  44461200    42.0934\n",
       "2006-10-03  59.7015  60.0000  59.3035  59.7015  31307700    41.9536\n",
       "2006-10-04  59.7015  59.7015  58.2090  58.2090  46544900    40.9047\n",
       "2006-10-05  59.3035  60.4976  59.3035  60.3981  44810700    42.4430\n",
       "2006-10-11  60.3981  60.5971  60.0995  60.2986  37896100    42.3731"
      ]
     },
     "execution_count": 176,
     "metadata": {},
     "output_type": "execute_result"
    }
   ],
   "source": [
    "tw2330.head()"
   ]
  },
  {
   "cell_type": "code",
   "execution_count": 177,
   "metadata": {
    "collapsed": true
   },
   "outputs": [],
   "source": [
    "close_px = tw2330['Adj Close']"
   ]
  },
  {
   "cell_type": "code",
   "execution_count": 179,
   "metadata": {
    "collapsed": false
   },
   "outputs": [
    {
     "data": {
      "text/plain": [
       "Date\n",
       "2006-10-02    42.0934\n",
       "2006-10-03    41.9536\n",
       "2006-10-04    40.9047\n",
       "2006-10-05    42.4430\n",
       "2006-10-11    42.3731\n",
       "Name: Adj Close, dtype: float64"
      ]
     },
     "execution_count": 179,
     "metadata": {},
     "output_type": "execute_result"
    }
   ],
   "source": [
    "close_px.head()"
   ]
  },
  {
   "cell_type": "code",
   "execution_count": 180,
   "metadata": {
    "collapsed": false
   },
   "outputs": [
    {
     "name": "stderr",
     "output_type": "stream",
     "text": [
      "C:\\Users\\Student\\Anaconda2\\lib\\site-packages\\ipykernel\\__main__.py:1: FutureWarning: pd.rolling_mean is deprecated for Series and will be removed in a future version, replace with \n",
      "\tSeries.rolling(window=40,center=False).mean()\n",
      "  if __name__ == '__main__':\n"
     ]
    }
   ],
   "source": [
    "mavg = pd.rolling_mean(close_px, 40)"
   ]
  },
  {
   "cell_type": "code",
   "execution_count": 184,
   "metadata": {
    "collapsed": false
   },
   "outputs": [
    {
     "data": {
      "text/plain": [
       "Date\n",
       "2006-11-23          NaN\n",
       "2006-11-24          NaN\n",
       "2006-11-27          NaN\n",
       "2006-11-28          NaN\n",
       "2006-11-29    43.166727\n",
       "2006-11-30    43.259377\n",
       "2006-12-01    43.373000\n",
       "2006-12-04    43.509350\n",
       "2006-12-05    43.617732\n",
       "2006-12-06    43.745340\n",
       "Name: Adj Close, dtype: float64"
      ]
     },
     "execution_count": 184,
     "metadata": {},
     "output_type": "execute_result"
    }
   ],
   "source": [
    "mavg[35:45]"
   ]
  },
  {
   "cell_type": "code",
   "execution_count": 186,
   "metadata": {
    "collapsed": false
   },
   "outputs": [
    {
     "data": {
      "text/plain": [
       "Date\n",
       "2006-10-02         NaN\n",
       "2006-10-03   -0.003321\n",
       "2006-10-04   -0.025001\n",
       "2006-10-05    0.037607\n",
       "2006-10-11   -0.001647\n",
       "Name: Adj Close, dtype: float64"
      ]
     },
     "execution_count": 186,
     "metadata": {},
     "output_type": "execute_result"
    }
   ],
   "source": [
    "rets = close_px.pct_change(1)\n",
    "rets.head()"
   ]
  },
  {
   "cell_type": "code",
   "execution_count": 188,
   "metadata": {
    "collapsed": false
   },
   "outputs": [
    {
     "name": "stderr",
     "output_type": "stream",
     "text": [
      "C:\\Users\\Student\\Anaconda2\\lib\\site-packages\\ipykernel\\__main__.py:1: FutureWarning: pd.rolling_mean is deprecated for Series and will be removed in a future version, replace with \n",
      "\tSeries.rolling(window=20,center=False).mean()\n",
      "  if __name__ == '__main__':\n",
      "C:\\Users\\Student\\Anaconda2\\lib\\site-packages\\ipykernel\\__main__.py:2: FutureWarning: pd.rolling_mean is deprecated for Series and will be removed in a future version, replace with \n",
      "\tSeries.rolling(window=60,center=False).mean()\n",
      "  from ipykernel import kernelapp as app\n"
     ]
    }
   ],
   "source": [
    "mavg20 = pd.rolling_mean(close_px, 20)\n",
    "mavg60 = pd.rolling_mean(close_px, 60)"
   ]
  },
  {
   "cell_type": "code",
   "execution_count": 193,
   "metadata": {
    "collapsed": false
   },
   "outputs": [
    {
     "name": "stdout",
     "output_type": "stream",
     "text": [
      "Populating the interactive namespace from numpy and matplotlib\n"
     ]
    },
    {
     "data": {
      "text/plain": [
       "<matplotlib.legend.Legend at 0xef90198>"
      ]
     },
     "execution_count": 193,
     "metadata": {},
     "output_type": "execute_result"
    },
    {
     "data": {
      "image/png": "[encoded data removed]",
      "text/plain": [
       "<matplotlib.figure.Figure at 0xe5cc668>"
      ]
     },
     "metadata": {},
     "output_type": "display_data"
    }
   ],
   "source": [
    "%pylab inline\n",
    "\n",
    "close_px.plot(label='TW2330', figsize=(20, 20))\n",
    "mavg20.plot(label='mavg 60')\n",
    "mavg60.plot(label='mavg 20')\n",
    "plt.legend()"
   ]
  },
  {
   "cell_type": "code",
   "execution_count": 195,
   "metadata": {
    "collapsed": false
   },
   "outputs": [
    {
     "data": {
      "text/html": [
       "<div>\n",
       "<table border=\"1\" class=\"dataframe\">\n",
       "  <thead>\n",
       "    <tr style=\"text-align: right;\">\n",
       "      <th></th>\n",
       "      <th>1101.TW</th>\n",
       "      <th>1102.TW</th>\n",
       "      <th>2317.TW</th>\n",
       "      <th>2330.TW</th>\n",
       "      <th>2382.TW</th>\n",
       "      <th>2454.TW</th>\n",
       "      <th>2498.TW</th>\n",
       "      <th>3008.TW</th>\n",
       "      <th>AAPL</th>\n",
       "    </tr>\n",
       "    <tr>\n",
       "      <th>Date</th>\n",
       "      <th></th>\n",
       "      <th></th>\n",
       "      <th></th>\n",
       "      <th></th>\n",
       "      <th></th>\n",
       "      <th></th>\n",
       "      <th></th>\n",
       "      <th></th>\n",
       "      <th></th>\n",
       "    </tr>\n",
       "  </thead>\n",
       "  <tbody>\n",
       "    <tr>\n",
       "      <th>2010-01-01</th>\n",
       "      <td>23.52444</td>\n",
       "      <td>22.51600</td>\n",
       "      <td>84.22985</td>\n",
       "      <td>50.8372</td>\n",
       "      <td>45.3690</td>\n",
       "      <td>429.0592</td>\n",
       "      <td>NaN</td>\n",
       "      <td>380.659</td>\n",
       "      <td>NaN</td>\n",
       "    </tr>\n",
       "    <tr>\n",
       "      <th>2010-01-04</th>\n",
       "      <td>23.73198</td>\n",
       "      <td>22.48347</td>\n",
       "      <td>84.22985</td>\n",
       "      <td>51.1525</td>\n",
       "      <td>44.9127</td>\n",
       "      <td>435.9795</td>\n",
       "      <td>282.5463</td>\n",
       "      <td>376.138</td>\n",
       "      <td>28.141855</td>\n",
       "    </tr>\n",
       "    <tr>\n",
       "      <th>2010-01-05</th>\n",
       "      <td>24.56220</td>\n",
       "      <td>22.97155</td>\n",
       "      <td>84.78576</td>\n",
       "      <td>50.8372</td>\n",
       "      <td>44.5868</td>\n",
       "      <td>436.7484</td>\n",
       "      <td>287.5715</td>\n",
       "      <td>369.357</td>\n",
       "      <td>28.190509</td>\n",
       "    </tr>\n",
       "    <tr>\n",
       "      <th>2010-01-06</th>\n",
       "      <td>25.08112</td>\n",
       "      <td>23.13420</td>\n",
       "      <td>84.22985</td>\n",
       "      <td>51.1525</td>\n",
       "      <td>45.2386</td>\n",
       "      <td>442.1309</td>\n",
       "      <td>288.7305</td>\n",
       "      <td>368.452</td>\n",
       "      <td>27.742101</td>\n",
       "    </tr>\n",
       "    <tr>\n",
       "      <th>2010-01-07</th>\n",
       "      <td>24.59682</td>\n",
       "      <td>22.87396</td>\n",
       "      <td>83.39590</td>\n",
       "      <td>50.6007</td>\n",
       "      <td>44.8475</td>\n",
       "      <td>431.3660</td>\n",
       "      <td>276.7483</td>\n",
       "      <td>362.575</td>\n",
       "      <td>27.690818</td>\n",
       "    </tr>\n",
       "  </tbody>\n",
       "</table>\n",
       "</div>"
      ],
      "text/plain": [
       "             1101.TW   1102.TW   2317.TW  2330.TW  2382.TW   2454.TW  \\\n",
       "Date                                                                   \n",
       "2010-01-01  23.52444  22.51600  84.22985  50.8372  45.3690  429.0592   \n",
       "2010-01-04  23.73198  22.48347  84.22985  51.1525  44.9127  435.9795   \n",
       "2010-01-05  24.56220  22.97155  84.78576  50.8372  44.5868  436.7484   \n",
       "2010-01-06  25.08112  23.13420  84.22985  51.1525  45.2386  442.1309   \n",
       "2010-01-07  24.59682  22.87396  83.39590  50.6007  44.8475  431.3660   \n",
       "\n",
       "             2498.TW  3008.TW       AAPL  \n",
       "Date                                      \n",
       "2010-01-01       NaN  380.659        NaN  \n",
       "2010-01-04  282.5463  376.138  28.141855  \n",
       "2010-01-05  287.5715  369.357  28.190509  \n",
       "2010-01-06  288.7305  368.452  27.742101  \n",
       "2010-01-07  276.7483  362.575  27.690818  "
      ]
     },
     "execution_count": 195,
     "metadata": {},
     "output_type": "execute_result"
    }
   ],
   "source": [
    "df = pd.io.data.get_data_yahoo(['2330.TW', '2454.TW', '2498.TW', '3008.TW', \\\n",
    "                                '1101.TW','1102.TW', 'AAPL', '2317.TW', '2382.TW'], \n",
    "                               start=datetime.datetime(2010, 1, 1), \n",
    "                               end=datetime.datetime(2016, 1, 1))['Adj Close']\n",
    "df.head()"
   ]
  },
  {
   "cell_type": "code",
   "execution_count": 196,
   "metadata": {
    "collapsed": true
   },
   "outputs": [],
   "source": [
    "rets = df.pct_change(1)"
   ]
  },
  {
   "cell_type": "code",
   "execution_count": 200,
   "metadata": {
    "collapsed": false
   },
   "outputs": [
    {
     "data": {
      "text/plain": [
       "<matplotlib.text.Text at 0x10f7b198>"
      ]
     },
     "execution_count": 200,
     "metadata": {},
     "output_type": "execute_result"
    },
    {
     "data": {
      "image/png": "[encoded data removed]",
      "text/plain": [
       "<matplotlib.figure.Figure at 0x1101c160>"
      ]
     },
     "metadata": {},
     "output_type": "display_data"
    }
   ],
   "source": [
    "plt.scatter(rets['1101.TW'], rets['1102.TW'])\n",
    "plt.xlabel('Returns 1101')\n",
    "plt.ylabel('Returns 1102')"
   ]
  },
  {
   "cell_type": "code",
   "execution_count": 201,
   "metadata": {
    "collapsed": false
   },
   "outputs": [
    {
     "data": {
      "text/html": [
       "<div>\n",
       "<table border=\"1\" class=\"dataframe\">\n",
       "  <thead>\n",
       "    <tr style=\"text-align: right;\">\n",
       "      <th></th>\n",
       "      <th>1101.TW</th>\n",
       "      <th>1102.TW</th>\n",
       "      <th>2317.TW</th>\n",
       "      <th>2330.TW</th>\n",
       "      <th>2382.TW</th>\n",
       "      <th>2454.TW</th>\n",
       "      <th>2498.TW</th>\n",
       "      <th>3008.TW</th>\n",
       "      <th>AAPL</th>\n",
       "    </tr>\n",
       "  </thead>\n",
       "  <tbody>\n",
       "    <tr>\n",
       "      <th>1101.TW</th>\n",
       "      <td>1.000000</td>\n",
       "      <td>0.864817</td>\n",
       "      <td>0.417514</td>\n",
       "      <td>0.213473</td>\n",
       "      <td>0.641455</td>\n",
       "      <td>0.725113</td>\n",
       "      <td>0.641885</td>\n",
       "      <td>0.305368</td>\n",
       "      <td>0.050543</td>\n",
       "    </tr>\n",
       "    <tr>\n",
       "      <th>1102.TW</th>\n",
       "      <td>0.864817</td>\n",
       "      <td>1.000000</td>\n",
       "      <td>0.462544</td>\n",
       "      <td>0.235650</td>\n",
       "      <td>0.663916</td>\n",
       "      <td>0.742076</td>\n",
       "      <td>0.666282</td>\n",
       "      <td>0.284269</td>\n",
       "      <td>0.066893</td>\n",
       "    </tr>\n",
       "    <tr>\n",
       "      <th>2317.TW</th>\n",
       "      <td>0.417514</td>\n",
       "      <td>0.462544</td>\n",
       "      <td>1.000000</td>\n",
       "      <td>0.376328</td>\n",
       "      <td>0.413398</td>\n",
       "      <td>0.361224</td>\n",
       "      <td>0.346843</td>\n",
       "      <td>0.365056</td>\n",
       "      <td>0.124505</td>\n",
       "    </tr>\n",
       "    <tr>\n",
       "      <th>2330.TW</th>\n",
       "      <td>0.213473</td>\n",
       "      <td>0.235650</td>\n",
       "      <td>0.376328</td>\n",
       "      <td>1.000000</td>\n",
       "      <td>0.254590</td>\n",
       "      <td>0.135379</td>\n",
       "      <td>0.130644</td>\n",
       "      <td>0.300447</td>\n",
       "      <td>0.105958</td>\n",
       "    </tr>\n",
       "    <tr>\n",
       "      <th>2382.TW</th>\n",
       "      <td>0.641455</td>\n",
       "      <td>0.663916</td>\n",
       "      <td>0.413398</td>\n",
       "      <td>0.254590</td>\n",
       "      <td>1.000000</td>\n",
       "      <td>0.649856</td>\n",
       "      <td>0.585784</td>\n",
       "      <td>0.322738</td>\n",
       "      <td>0.038872</td>\n",
       "    </tr>\n",
       "    <tr>\n",
       "      <th>2454.TW</th>\n",
       "      <td>0.725113</td>\n",
       "      <td>0.742076</td>\n",
       "      <td>0.361224</td>\n",
       "      <td>0.135379</td>\n",
       "      <td>0.649856</td>\n",
       "      <td>1.000000</td>\n",
       "      <td>0.730736</td>\n",
       "      <td>0.264278</td>\n",
       "      <td>0.029123</td>\n",
       "    </tr>\n",
       "    <tr>\n",
       "      <th>2498.TW</th>\n",
       "      <td>0.641885</td>\n",
       "      <td>0.666282</td>\n",
       "      <td>0.346843</td>\n",
       "      <td>0.130644</td>\n",
       "      <td>0.585784</td>\n",
       "      <td>0.730736</td>\n",
       "      <td>1.000000</td>\n",
       "      <td>0.303646</td>\n",
       "      <td>0.029531</td>\n",
       "    </tr>\n",
       "    <tr>\n",
       "      <th>3008.TW</th>\n",
       "      <td>0.305368</td>\n",
       "      <td>0.284269</td>\n",
       "      <td>0.365056</td>\n",
       "      <td>0.300447</td>\n",
       "      <td>0.322738</td>\n",
       "      <td>0.264278</td>\n",
       "      <td>0.303646</td>\n",
       "      <td>1.000000</td>\n",
       "      <td>0.102483</td>\n",
       "    </tr>\n",
       "    <tr>\n",
       "      <th>AAPL</th>\n",
       "      <td>0.050543</td>\n",
       "      <td>0.066893</td>\n",
       "      <td>0.124505</td>\n",
       "      <td>0.105958</td>\n",
       "      <td>0.038872</td>\n",
       "      <td>0.029123</td>\n",
       "      <td>0.029531</td>\n",
       "      <td>0.102483</td>\n",
       "      <td>1.000000</td>\n",
       "    </tr>\n",
       "  </tbody>\n",
       "</table>\n",
       "</div>"
      ],
      "text/plain": [
       "          1101.TW   1102.TW   2317.TW   2330.TW   2382.TW   2454.TW   2498.TW  \\\n",
       "1101.TW  1.000000  0.864817  0.417514  0.213473  0.641455  0.725113  0.641885   \n",
       "1102.TW  0.864817  1.000000  0.462544  0.235650  0.663916  0.742076  0.666282   \n",
       "2317.TW  0.417514  0.462544  1.000000  0.376328  0.413398  0.361224  0.346843   \n",
       "2330.TW  0.213473  0.235650  0.376328  1.000000  0.254590  0.135379  0.130644   \n",
       "2382.TW  0.641455  0.663916  0.413398  0.254590  1.000000  0.649856  0.585784   \n",
       "2454.TW  0.725113  0.742076  0.361224  0.135379  0.649856  1.000000  0.730736   \n",
       "2498.TW  0.641885  0.666282  0.346843  0.130644  0.585784  0.730736  1.000000   \n",
       "3008.TW  0.305368  0.284269  0.365056  0.300447  0.322738  0.264278  0.303646   \n",
       "AAPL     0.050543  0.066893  0.124505  0.105958  0.038872  0.029123  0.029531   \n",
       "\n",
       "          3008.TW      AAPL  \n",
       "1101.TW  0.305368  0.050543  \n",
       "1102.TW  0.284269  0.066893  \n",
       "2317.TW  0.365056  0.124505  \n",
       "2330.TW  0.300447  0.105958  \n",
       "2382.TW  0.322738  0.038872  \n",
       "2454.TW  0.264278  0.029123  \n",
       "2498.TW  0.303646  0.029531  \n",
       "3008.TW  1.000000  0.102483  \n",
       "AAPL     0.102483  1.000000  "
      ]
     },
     "execution_count": 201,
     "metadata": {},
     "output_type": "execute_result"
    }
   ],
   "source": [
    "corr = rets.corr()\n",
    "corr"
   ]
  },
  {
   "cell_type": "code",
   "execution_count": 206,
   "metadata": {
    "collapsed": false
   },
   "outputs": [
    {
     "data": {
      "text/plain": [
       "([<matplotlib.axis.YTick at 0x13411518>,\n",
       "  <matplotlib.axis.YTick at 0x1331ce80>,\n",
       "  <matplotlib.axis.YTick at 0x13623da0>,\n",
       "  <matplotlib.axis.YTick at 0x13604278>,\n",
       "  <matplotlib.axis.YTick at 0x136046d8>,\n",
       "  <matplotlib.axis.YTick at 0x13604d30>,\n",
       "  <matplotlib.axis.YTick at 0x136363c8>,\n",
       "  <matplotlib.axis.YTick at 0x13636a20>,\n",
       "  <matplotlib.axis.YTick at 0x136420b8>],\n",
       " <a list of 9 Text yticklabel objects>)"
      ]
     },
     "execution_count": 206,
     "metadata": {},
     "output_type": "execute_result"
    },
    {
     "data": {
      "image/png": "[encoded data removed]",
      "text/plain": [
       "<matplotlib.figure.Figure at 0x13274080>"
      ]
     },
     "metadata": {},
     "output_type": "display_data"
    }
   ],
   "source": [
    "plt.imshow(corr, cmap='hot', interpolation='none')\n",
    "plt.colorbar()\n",
    "plt.xticks(range(len(corr)), corr.columns)\n",
    "plt.yticks(range(len(corr)), corr.columns)"
   ]
  },
  {
   "cell_type": "code",
   "execution_count": 209,
   "metadata": {
    "collapsed": false
   },
   "outputs": [
    {
     "name": "stdout",
     "output_type": "stream",
     "text": [
      "[(1, 'a'), (2, 'b'), (3, 'c')]\n",
      "1 a\n",
      "2 b\n",
      "3 c\n"
     ]
    }
   ],
   "source": [
    "a = [1 ,   2,   3 ]\n",
    "b = ['a', 'b', 'c']\n",
    "print zip(a,b)\n",
    "for i, j in zip(a,b):\n",
    "    print i, j"
   ]
  },
  {
   "cell_type": "code",
   "execution_count": 212,
   "metadata": {
    "collapsed": false
   },
   "outputs": [
    {
     "data": {
      "image/png": "[encoded data removed]",
      "text/plain": [
       "<matplotlib.figure.Figure at 0x139b1a90>"
      ]
     },
     "metadata": {},
     "output_type": "display_data"
    }
   ],
   "source": [
    "import matplotlib as mpl\n",
    "mpl.rc('figure', figsize=(20, 20))\n",
    "plt.scatter(rets.mean(), rets.std())\n",
    "plt.xlabel('Expected returns')\n",
    "plt.ylabel('Risk')\n",
    "for label, x, y in zip(rets.columns, rets.mean(), rets.std()):\n",
    "    plt.annotate(\n",
    "        label, \n",
    "        xy = (x, y), xytext = (20, -20),\n",
    "        textcoords = 'offset points', ha = 'right', va = 'bottom',\n",
    "        bbox = dict(boxstyle = 'round,pad=0.5', fc = 'yellow', alpha = 0.5),\n",
    "        arrowprops = dict(arrowstyle = '->', connectionstyle = 'arc3,rad=0'))"
   ]
  },
  {
   "cell_type": "code",
   "execution_count": null,
   "metadata": {
    "collapsed": true
   },
   "outputs": [],
   "source": []
  }
 ],
 "metadata": {
  "anaconda-cloud": {},
  "kernelspec": {
   "display_name": "Python [Root]",
   "language": "python",
   "name": "Python [Root]"
  },
  "language_info": {
   "codemirror_mode": {
    "name": "ipython",
    "version": 2
   },
   "file_extension": ".py",
   "mimetype": "text/x-python",
   "name": "python",
   "nbconvert_exporter": "python",
   "pygments_lexer": "ipython2",
   "version": "2.7.12"
  }
 },
 "nbformat": 4,
 "nbformat_minor": 0
}
