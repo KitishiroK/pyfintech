{
 "cells": [
  {
   "cell_type": "code",
   "execution_count": 122,
   "metadata": {
    "collapsed": false
   },
   "outputs": [],
   "source": [
    "import requests\n",
    "import json\n",
    "from bs4 import BeautifulSoup\n",
    "headers = {\n",
    " 'User-Agent':'Mozilla/5.0 (Windows NT 6.1; WOW64) AppleWebKit/537.36 (KHTML, like Gecko) Chrome/52.0.2743.116 Safari/537.36'   \n",
    "}\n",
    "res  = requests.get('https://rent.591.com.tw/house-rentSale.html?type=1&search_type=kind&search_val=1', headers = headers)\n",
    "soup = BeautifulSoup(res.text, 'html.parser')\n"
   ]
  },
  {
   "cell_type": "code",
   "execution_count": 124,
   "metadata": {
    "collapsed": false
   },
   "outputs": [
    {
     "name": "stdout",
     "output_type": "stream",
     "text": [
      "90,000 71.9\n",
      "56,000 40\n",
      "48,600 56.5\n",
      "120,000 99\n",
      "25,000 30.8\n",
      "30,000 30\n",
      "28,000 23\n",
      "29,000 12\n",
      "23,000 60\n",
      "100,000 38.7\n",
      "30,000 23\n",
      "60,000 34.7\n",
      "69,000 54.3\n",
      "29,998 25.6\n",
      "32,000 17.6\n",
      "50,000 26.6\n",
      "30,000 27\n",
      "35,000 18\n",
      "42,000 50.3\n",
      "59,800 32\n"
     ]
    }
   ],
   "source": [
    "areaList = []\n",
    "for area in  soup.select('li.area.rentByArea'):\n",
    "    #print area\n",
    "    arealist.append(area.text.strip().strip(u'坪'))\n",
    "\n",
    "pricelist = []\n",
    "for price in  soup.select('.price'):\n",
    "    pricelist.append(price.text.strip().strip(u'元'))\n",
    "\n",
    "for price, area in zip(pricelist, arealist):\n",
    "    print price, area"
   ]
  },
  {
   "cell_type": "markdown",
   "metadata": {},
   "source": [
    "## 591 房價預測"
   ]
  },
  {
   "cell_type": "code",
   "execution_count": 125,
   "metadata": {
    "collapsed": false
   },
   "outputs": [
    {
     "data": {
      "text/html": [
       "<div>\n",
       "<table border=\"1\" class=\"dataframe\">\n",
       "  <thead>\n",
       "    <tr style=\"text-align: right;\">\n",
       "      <th></th>\n",
       "      <th>Unnamed: 0</th>\n",
       "      <th>Sqft</th>\n",
       "      <th>Floor</th>\n",
       "      <th>TotalFloor</th>\n",
       "      <th>Bedroom</th>\n",
       "      <th>Living.Room</th>\n",
       "      <th>Bathroom</th>\n",
       "      <th>Price</th>\n",
       "    </tr>\n",
       "  </thead>\n",
       "  <tbody>\n",
       "    <tr>\n",
       "      <th>0</th>\n",
       "      <td>1</td>\n",
       "      <td>1177.698</td>\n",
       "      <td>2</td>\n",
       "      <td>7</td>\n",
       "      <td>2</td>\n",
       "      <td>2</td>\n",
       "      <td>2</td>\n",
       "      <td>62000</td>\n",
       "    </tr>\n",
       "    <tr>\n",
       "      <th>1</th>\n",
       "      <td>2</td>\n",
       "      <td>2134.800</td>\n",
       "      <td>5</td>\n",
       "      <td>7</td>\n",
       "      <td>4</td>\n",
       "      <td>2</td>\n",
       "      <td>2</td>\n",
       "      <td>78000</td>\n",
       "    </tr>\n",
       "    <tr>\n",
       "      <th>2</th>\n",
       "      <td>3</td>\n",
       "      <td>1138.560</td>\n",
       "      <td>5</td>\n",
       "      <td>7</td>\n",
       "      <td>2</td>\n",
       "      <td>2</td>\n",
       "      <td>1</td>\n",
       "      <td>58000</td>\n",
       "    </tr>\n",
       "    <tr>\n",
       "      <th>3</th>\n",
       "      <td>4</td>\n",
       "      <td>1458.780</td>\n",
       "      <td>2</td>\n",
       "      <td>7</td>\n",
       "      <td>3</td>\n",
       "      <td>2</td>\n",
       "      <td>2</td>\n",
       "      <td>45000</td>\n",
       "    </tr>\n",
       "    <tr>\n",
       "      <th>4</th>\n",
       "      <td>5</td>\n",
       "      <td>967.776</td>\n",
       "      <td>11</td>\n",
       "      <td>14</td>\n",
       "      <td>3</td>\n",
       "      <td>2</td>\n",
       "      <td>2</td>\n",
       "      <td>45000</td>\n",
       "    </tr>\n",
       "  </tbody>\n",
       "</table>\n",
       "</div>"
      ],
      "text/plain": [
       "   Unnamed: 0      Sqft  Floor  TotalFloor  Bedroom  Living.Room  Bathroom  \\\n",
       "0           1  1177.698      2           7        2            2         2   \n",
       "1           2  2134.800      5           7        4            2         2   \n",
       "2           3  1138.560      5           7        2            2         1   \n",
       "3           4  1458.780      2           7        3            2         2   \n",
       "4           5   967.776     11          14        3            2         2   \n",
       "\n",
       "   Price  \n",
       "0  62000  \n",
       "1  78000  \n",
       "2  58000  \n",
       "3  45000  \n",
       "4  45000  "
      ]
     },
     "execution_count": 125,
     "metadata": {},
     "output_type": "execute_result"
    }
   ],
   "source": [
    "import pandas \n",
    "df  = pandas.read_csv('C:\\\\Users\\\\Student\\\\house_rental.csv')\n",
    "df.head()"
   ]
  },
  {
   "cell_type": "code",
   "execution_count": 129,
   "metadata": {
    "collapsed": false
   },
   "outputs": [
    {
     "data": {
      "text/html": [
       "<div>\n",
       "<table border=\"1\" class=\"dataframe\">\n",
       "  <thead>\n",
       "    <tr style=\"text-align: right;\">\n",
       "      <th></th>\n",
       "      <th>Unnamed: 0</th>\n",
       "      <th>Sqft</th>\n",
       "      <th>Floor</th>\n",
       "      <th>TotalFloor</th>\n",
       "      <th>Bedroom</th>\n",
       "      <th>Living.Room</th>\n",
       "      <th>Bathroom</th>\n",
       "      <th>Price</th>\n",
       "    </tr>\n",
       "  </thead>\n",
       "  <tbody>\n",
       "    <tr>\n",
       "      <th>Unnamed: 0</th>\n",
       "      <td>1.000000</td>\n",
       "      <td>-0.065182</td>\n",
       "      <td>-0.021299</td>\n",
       "      <td>-0.039687</td>\n",
       "      <td>-0.008638</td>\n",
       "      <td>-0.027035</td>\n",
       "      <td>-0.007877</td>\n",
       "      <td>-0.077512</td>\n",
       "    </tr>\n",
       "    <tr>\n",
       "      <th>Sqft</th>\n",
       "      <td>-0.065182</td>\n",
       "      <td>1.000000</td>\n",
       "      <td>0.143249</td>\n",
       "      <td>0.304515</td>\n",
       "      <td>0.615608</td>\n",
       "      <td>0.455940</td>\n",
       "      <td>0.728869</td>\n",
       "      <td>0.825514</td>\n",
       "    </tr>\n",
       "    <tr>\n",
       "      <th>Floor</th>\n",
       "      <td>-0.021299</td>\n",
       "      <td>0.143249</td>\n",
       "      <td>1.000000</td>\n",
       "      <td>0.564221</td>\n",
       "      <td>0.023986</td>\n",
       "      <td>-0.023563</td>\n",
       "      <td>0.099772</td>\n",
       "      <td>0.244553</td>\n",
       "    </tr>\n",
       "    <tr>\n",
       "      <th>TotalFloor</th>\n",
       "      <td>-0.039687</td>\n",
       "      <td>0.304515</td>\n",
       "      <td>0.564221</td>\n",
       "      <td>1.000000</td>\n",
       "      <td>0.067298</td>\n",
       "      <td>0.029373</td>\n",
       "      <td>0.146132</td>\n",
       "      <td>0.333631</td>\n",
       "    </tr>\n",
       "    <tr>\n",
       "      <th>Bedroom</th>\n",
       "      <td>-0.008638</td>\n",
       "      <td>0.615608</td>\n",
       "      <td>0.023986</td>\n",
       "      <td>0.067298</td>\n",
       "      <td>1.000000</td>\n",
       "      <td>0.526532</td>\n",
       "      <td>0.643083</td>\n",
       "      <td>0.467059</td>\n",
       "    </tr>\n",
       "    <tr>\n",
       "      <th>Living.Room</th>\n",
       "      <td>-0.027035</td>\n",
       "      <td>0.455940</td>\n",
       "      <td>-0.023563</td>\n",
       "      <td>0.029373</td>\n",
       "      <td>0.526532</td>\n",
       "      <td>1.000000</td>\n",
       "      <td>0.546826</td>\n",
       "      <td>0.328788</td>\n",
       "    </tr>\n",
       "    <tr>\n",
       "      <th>Bathroom</th>\n",
       "      <td>-0.007877</td>\n",
       "      <td>0.728869</td>\n",
       "      <td>0.099772</td>\n",
       "      <td>0.146132</td>\n",
       "      <td>0.643083</td>\n",
       "      <td>0.546826</td>\n",
       "      <td>1.000000</td>\n",
       "      <td>0.605542</td>\n",
       "    </tr>\n",
       "    <tr>\n",
       "      <th>Price</th>\n",
       "      <td>-0.077512</td>\n",
       "      <td>0.825514</td>\n",
       "      <td>0.244553</td>\n",
       "      <td>0.333631</td>\n",
       "      <td>0.467059</td>\n",
       "      <td>0.328788</td>\n",
       "      <td>0.605542</td>\n",
       "      <td>1.000000</td>\n",
       "    </tr>\n",
       "  </tbody>\n",
       "</table>\n",
       "</div>"
      ],
      "text/plain": [
       "             Unnamed: 0      Sqft     Floor  TotalFloor   Bedroom  \\\n",
       "Unnamed: 0     1.000000 -0.065182 -0.021299   -0.039687 -0.008638   \n",
       "Sqft          -0.065182  1.000000  0.143249    0.304515  0.615608   \n",
       "Floor         -0.021299  0.143249  1.000000    0.564221  0.023986   \n",
       "TotalFloor    -0.039687  0.304515  0.564221    1.000000  0.067298   \n",
       "Bedroom       -0.008638  0.615608  0.023986    0.067298  1.000000   \n",
       "Living.Room   -0.027035  0.455940 -0.023563    0.029373  0.526532   \n",
       "Bathroom      -0.007877  0.728869  0.099772    0.146132  0.643083   \n",
       "Price         -0.077512  0.825514  0.244553    0.333631  0.467059   \n",
       "\n",
       "             Living.Room  Bathroom     Price  \n",
       "Unnamed: 0     -0.027035 -0.007877 -0.077512  \n",
       "Sqft            0.455940  0.728869  0.825514  \n",
       "Floor          -0.023563  0.099772  0.244553  \n",
       "TotalFloor      0.029373  0.146132  0.333631  \n",
       "Bedroom         0.526532  0.643083  0.467059  \n",
       "Living.Room     1.000000  0.546826  0.328788  \n",
       "Bathroom        0.546826  1.000000  0.605542  \n",
       "Price           0.328788  0.605542  1.000000  "
      ]
     },
     "execution_count": 129,
     "metadata": {},
     "output_type": "execute_result"
    }
   ],
   "source": [
    "df.corr()"
   ]
  },
  {
   "cell_type": "code",
   "execution_count": 126,
   "metadata": {
    "collapsed": false
   },
   "outputs": [
    {
     "name": "stdout",
     "output_type": "stream",
     "text": [
      "Populating the interactive namespace from numpy and matplotlib\n"
     ]
    },
    {
     "name": "stderr",
     "output_type": "stream",
     "text": [
      "WARNING: pylab import has clobbered these variables: ['clf']\n",
      "`%matplotlib` prevents importing * from pylab and numpy\n"
     ]
    },
    {
     "data": {
      "text/plain": [
       "<matplotlib.text.Text at 0x127e5710>"
      ]
     },
     "execution_count": 126,
     "metadata": {},
     "output_type": "execute_result"
    },
    {
     "data": {
      "image/png": "[encoded data removed]",
      "text/plain": [
       "<matplotlib.figure.Figure at 0x117e3eb8>"
      ]
     },
     "metadata": {},
     "output_type": "display_data"
    }
   ],
   "source": [
    "%pylab inline\n",
    "# Plot the data\n",
    "plt.scatter(df.Sqft, df.Price)\n",
    "plt.plot([0, 50], [0, 50], '--k')\n",
    "plt.xlabel('Sqft')\n",
    "plt.ylabel('Price')"
   ]
  },
  {
   "cell_type": "code",
   "execution_count": 88,
   "metadata": {
    "collapsed": false
   },
   "outputs": [
    {
     "data": {
      "text/plain": [
       "LinearRegression(copy_X=True, fit_intercept=True, n_jobs=1, normalize=False)"
      ]
     },
     "execution_count": 88,
     "metadata": {},
     "output_type": "execute_result"
    }
   ],
   "source": [
    "from sklearn.linear_model import LinearRegression\n",
    "clf = LinearRegression()\n",
    "clf.fit(df[['Sqft']], df.Price)"
   ]
  },
  {
   "cell_type": "code",
   "execution_count": 89,
   "metadata": {
    "collapsed": false
   },
   "outputs": [
    {
     "data": {
      "text/plain": [
       "array([ 118428.14450698])"
      ]
     },
     "execution_count": 89,
     "metadata": {},
     "output_type": "execute_result"
    }
   ],
   "source": [
    "clf.predict(3000) # predicted 是我的預測結果"
   ]
  },
  {
   "cell_type": "markdown",
   "metadata": {},
   "source": [
    "## 波士頓房價預測"
   ]
  },
  {
   "cell_type": "code",
   "execution_count": 83,
   "metadata": {
    "collapsed": false
   },
   "outputs": [
    {
     "name": "stdout",
     "output_type": "stream",
     "text": [
      "['data', 'feature_names', 'DESCR', 'target']\n"
     ]
    }
   ],
   "source": [
    "# Load Boston Dataset\n",
    "from sklearn.datasets import load_boston\n",
    "data = load_boston()\n",
    "print data.keys()"
   ]
  },
  {
   "cell_type": "code",
   "execution_count": 61,
   "metadata": {
    "collapsed": false
   },
   "outputs": [
    {
     "name": "stdout",
     "output_type": "stream",
     "text": [
      "Boston House Prices dataset\n",
      "\n",
      "Notes\n",
      "------\n",
      "Data Set Characteristics:  \n",
      "\n",
      "    :Number of Instances: 506 \n",
      "\n",
      "    :Number of Attributes: 13 numeric/categorical predictive\n",
      "    \n",
      "    :Median Value (attribute 14) is usually the target\n",
      "\n",
      "    :Attribute Information (in order):\n",
      "        - CRIM     per capita crime rate by town\n",
      "        - ZN       proportion of residential land zoned for lots over 25,000 sq.ft.\n",
      "        - INDUS    proportion of non-retail business acres per town\n",
      "        - CHAS     Charles River dummy variable (= 1 if tract bounds river; 0 otherwise)\n",
      "        - NOX      nitric oxides concentration (parts per 10 million)\n",
      "        - RM       average number of rooms per dwelling\n",
      "        - AGE      proportion of owner-occupied units built prior to 1940\n",
      "        - DIS      weighted distances to five Boston employment centres\n",
      "        - RAD      index of accessibility to radial highways\n",
      "        - TAX      full-value property-tax rate per $10,000\n",
      "        - PTRATIO  pupil-teacher ratio by town\n",
      "        - B        1000(Bk - 0.63)^2 where Bk is the proportion of blacks by town\n",
      "        - LSTAT    % lower status of the population\n",
      "        - MEDV     Median value of owner-occupied homes in $1000's\n",
      "\n",
      "    :Missing Attribute Values: None\n",
      "\n",
      "    :Creator: Harrison, D. and Rubinfeld, D.L.\n",
      "\n",
      "This is a copy of UCI ML housing dataset.\n",
      "http://archive.ics.uci.edu/ml/datasets/Housing\n",
      "\n",
      "\n",
      "This dataset was taken from the StatLib library which is maintained at Carnegie Mellon University.\n",
      "\n",
      "The Boston house-price data of Harrison, D. and Rubinfeld, D.L. 'Hedonic\n",
      "prices and the demand for clean air', J. Environ. Economics & Management,\n",
      "vol.5, 81-102, 1978.   Used in Belsley, Kuh & Welsch, 'Regression diagnostics\n",
      "...', Wiley, 1980.   N.B. Various transformations are used in the table on\n",
      "pages 244-261 of the latter.\n",
      "\n",
      "The Boston house-price data has been used in many machine learning papers that address regression\n",
      "problems.   \n",
      "     \n",
      "**References**\n",
      "\n",
      "   - Belsley, Kuh & Welsch, 'Regression diagnostics: Identifying Influential Data and Sources of Collinearity', Wiley, 1980. 244-261.\n",
      "   - Quinlan,R. (1993). Combining Instance-Based and Model-Based Learning. In Proceedings on the Tenth International Conference of Machine Learning, 236-243, University of Massachusetts, Amherst. Morgan Kaufmann.\n",
      "   - many more! (see http://archive.ics.uci.edu/ml/datasets/Housing)\n",
      "\n"
     ]
    }
   ],
   "source": [
    "print data.DESCR"
   ]
  },
  {
   "cell_type": "markdown",
   "metadata": {},
   "source": [
    "## 分成訓練與測試資料集"
   ]
  },
  {
   "cell_type": "code",
   "execution_count": 62,
   "metadata": {
    "collapsed": true
   },
   "outputs": [],
   "source": [
    "from sklearn.cross_validation import train_test_split\n",
    "X_train, X_test, y_train, y_test = train_test_split(data.data, data.target)"
   ]
  },
  {
   "cell_type": "code",
   "execution_count": 63,
   "metadata": {
    "collapsed": false
   },
   "outputs": [
    {
     "data": {
      "text/plain": [
       "(506L, 13L)"
      ]
     },
     "execution_count": 63,
     "metadata": {},
     "output_type": "execute_result"
    }
   ],
   "source": [
    "data.data.shape"
   ]
  },
  {
   "cell_type": "code",
   "execution_count": 64,
   "metadata": {
    "collapsed": false
   },
   "outputs": [
    {
     "data": {
      "text/plain": [
       "(379L, 13L)"
      ]
     },
     "execution_count": 64,
     "metadata": {},
     "output_type": "execute_result"
    }
   ],
   "source": [
    "X_train.shape # use 379 data to build a model"
   ]
  },
  {
   "cell_type": "code",
   "execution_count": 65,
   "metadata": {
    "collapsed": false
   },
   "outputs": [
    {
     "data": {
      "text/plain": [
       "(379L,)"
      ]
     },
     "execution_count": 65,
     "metadata": {},
     "output_type": "execute_result"
    }
   ],
   "source": [
    "y_train.shape"
   ]
  },
  {
   "cell_type": "code",
   "execution_count": 66,
   "metadata": {
    "collapsed": false
   },
   "outputs": [
    {
     "data": {
      "text/plain": [
       "(127L, 13L)"
      ]
     },
     "execution_count": 66,
     "metadata": {},
     "output_type": "execute_result"
    }
   ],
   "source": [
    "X_test.shape # use 127 data to test the model"
   ]
  },
  {
   "cell_type": "code",
   "execution_count": 67,
   "metadata": {
    "collapsed": false
   },
   "outputs": [
    {
     "data": {
      "text/plain": [
       "(127L,)"
      ]
     },
     "execution_count": 67,
     "metadata": {},
     "output_type": "execute_result"
    }
   ],
   "source": [
    "y_test.shape"
   ]
  },
  {
   "cell_type": "markdown",
   "metadata": {},
   "source": [
    "## 建立模型"
   ]
  },
  {
   "cell_type": "code",
   "execution_count": 68,
   "metadata": {
    "collapsed": false
   },
   "outputs": [
    {
     "data": {
      "text/plain": [
       "LinearRegression(copy_X=True, fit_intercept=True, n_jobs=1, normalize=False)"
      ]
     },
     "execution_count": 68,
     "metadata": {},
     "output_type": "execute_result"
    }
   ],
   "source": [
    "from sklearn.linear_model import LinearRegression\n",
    "clf = LinearRegression()\n",
    "clf.fit(X_train, y_train)"
   ]
  },
  {
   "cell_type": "markdown",
   "metadata": {},
   "source": [
    "## 房價預測"
   ]
  },
  {
   "cell_type": "code",
   "execution_count": 70,
   "metadata": {
    "collapsed": false
   },
   "outputs": [],
   "source": [
    "predicted = clf.predict(X_test) # predicted 是我的預測結果"
   ]
  },
  {
   "cell_type": "code",
   "execution_count": 72,
   "metadata": {
    "collapsed": false
   },
   "outputs": [
    {
     "data": {
      "text/plain": [
       "array([ 19.95242864,   8.99953568,  21.30644353,  36.25774205,\n",
       "        21.37576813,  29.29189497,  27.83596799,  13.96046628,\n",
       "        35.16864464,  38.62585006,  29.64607339,  30.5658755 ,\n",
       "        33.04568662,  35.27389022,  27.59273171,  14.72807712,\n",
       "        17.75284774,  27.62373617,  35.90924857,  17.4789049 ,\n",
       "        30.41103997,  25.15122757,  19.8652385 ,  19.24345562,\n",
       "        22.9084639 ,  41.92319339,  24.03478352,  13.64368982,\n",
       "        23.49612087,  17.59170115,  35.47482842,  15.43937936,\n",
       "        21.84834764,  24.91227587,  40.59764712,  25.55644095,\n",
       "        17.37369781,  32.01467198,  32.52485152,  18.65478704,\n",
       "        26.72238085,  31.01081897,  40.86810654,  21.39673133,\n",
       "        37.14583289,  10.48138491,  20.67913037,  32.1303555 ,\n",
       "        37.42590203,  15.24309576,  19.70385788,  20.08900726,\n",
       "        16.97954005,  26.72393666,  25.60496263,  18.99299898,\n",
       "        34.84747419,  20.9458473 ,   5.54389445,  10.56492363,\n",
       "        23.45067607,  19.18359771,  15.53043066,  25.46039796,\n",
       "        20.89083728,  27.39543424,  21.63706577,  32.35286492,\n",
       "        17.35118249,  25.28317792,  36.61999762,  17.4316032 ,\n",
       "         5.50312404,  27.32392793,  24.41927982,  21.86589485,\n",
       "        14.07038188,  37.98706382,  22.03347438,  19.36575506,\n",
       "        14.4742774 ,  16.53068778,  30.80669163,  23.75410237,\n",
       "        22.72424354,  18.02819992,  30.45852554,  21.2692859 ,\n",
       "        19.25558017,  21.81162997,  24.49747115,  32.63476942,\n",
       "        21.39187318,  23.53045244,  35.04970113,  18.43280267,\n",
       "        34.77057837,  32.60303398,  20.99527746,  25.2253552 ,\n",
       "        20.70554713,  25.96370384,  16.97210788,  24.16766106,\n",
       "        17.71410313,   8.69885378,  25.69854062,  21.88458333,\n",
       "        15.80253699,  21.39041515,  11.27703338,  30.75714216,\n",
       "        15.18123371,  32.88423141,  18.24375097,  18.68493516,\n",
       "        20.87769278,  11.42065278,  24.78645351,  13.42823129,\n",
       "        19.36048908,  16.288009  ,  24.17647741,  14.60047762,\n",
       "        20.89180235,  27.15496401,  22.90254848])"
      ]
     },
     "execution_count": 72,
     "metadata": {},
     "output_type": "execute_result"
    }
   ],
   "source": [
    "predicted"
   ]
  },
  {
   "cell_type": "code",
   "execution_count": 73,
   "metadata": {
    "collapsed": false
   },
   "outputs": [
    {
     "data": {
      "text/plain": [
       "array([ 19.5,   7. ,  22. ,  33.3,  22. ,  22.5,  36.2,  13.1,  33.4,\n",
       "        21.9,  23. ,  30.5,  50. ,  33.1,  24.5,  15. ,  14.5,  25. ,\n",
       "        35.2,  17.1,  32.7,  18.5,  18.8,  19.9,  22.7,  48.5,  21.9,\n",
       "        13.5,  22.4,  22.5,  36.5,  15.6,  20.3,  22.9,  46. ,  23.3,\n",
       "        13.4,  29. ,  31.5,  18.9,  23.9,  30.7,  50. ,  21.2,  48.3,\n",
       "         8.3,  23.1,  31.6,  44. ,  16.6,  15.2,  23. ,  10.2,  22.1,\n",
       "        22.2,  18.5,  34.6,  16.8,   8.8,  23.1,  20.1,  14.6,   8.4,\n",
       "        24.2,  24.5,  23.9,  19.3,  27.5,  18.6,  25.3,  50. ,  19.6,\n",
       "         7.4,  36.2,  25. ,  20.9,  19.7,  41.7,  26.4,  18.4,  13.6,\n",
       "        17.8,  24.8,  23. ,  20.4,  16. ,  23.5,  21. ,  14.1,  21.4,\n",
       "        21.4,  29.8,  21.2,  19.4,  35.1,  17.5,  34.9,  37.2,  24.1,\n",
       "        21.6,  18.8,  29.8,  20. ,  23.1,  14.3,  14.4,  26.5,  21.7,\n",
       "        17.3,  21.8,  16.5,  29.4,  16.2,  30.3,  18.2,  14.5,  21.7,\n",
       "        12. ,  23.8,  11.3,  22.2,  13.8,  24.3,  18.2,  19.3,  27.1,  19.4])"
      ]
     },
     "execution_count": 73,
     "metadata": {},
     "output_type": "execute_result"
    }
   ],
   "source": [
    "#真實房價\n",
    "expected = y_test\n",
    "expected"
   ]
  },
  {
   "cell_type": "code",
   "execution_count": 130,
   "metadata": {
    "collapsed": false
   },
   "outputs": [
    {
     "name": "stdout",
     "output_type": "stream",
     "text": [
      "Populating the interactive namespace from numpy and matplotlib\n",
      "MSE: 4.33796125669\n"
     ]
    },
    {
     "data": {
      "image/png": "[encoded data removed]",
      "text/plain": [
       "<matplotlib.figure.Figure at 0x6e93f60>"
      ]
     },
     "metadata": {},
     "output_type": "display_data"
    }
   ],
   "source": [
    "%pylab inline\n",
    "# Plot the data\n",
    "plt.scatter(expected, predicted)\n",
    "plt.plot([0, 50], [0, 50], '--k')\n",
    "plt.axis('tight')\n",
    "plt.xlabel('True price ($1000s)')\n",
    "plt.ylabel('Predicted price ($1000s)')\n",
    "\n",
    "# Compute Mean Square Error\n",
    "print \"MSE:\", np.sqrt(np.mean((predicted - expected) ** 2))"
   ]
  },
  {
   "cell_type": "markdown",
   "metadata": {},
   "source": [
    "# 定期存款預測"
   ]
  },
  {
   "cell_type": "markdown",
   "metadata": {},
   "source": [
    "## 讀取資料"
   ]
  },
  {
   "cell_type": "code",
   "execution_count": 133,
   "metadata": {
    "collapsed": false
   },
   "outputs": [],
   "source": [
    "import pandas as pd # alias, 使用pd 操作pandas 功能\n",
    "df = pd.read_csv(\"C:\\\\Users\\\\Student\\\\bank-additional-full.csv\", sep = ';') # 將csv 讀取至 DataFrame"
   ]
  },
  {
   "cell_type": "code",
   "execution_count": 135,
   "metadata": {
    "collapsed": false
   },
   "outputs": [
    {
     "data": {
      "text/html": [
       "<div>\n",
       "<table border=\"1\" class=\"dataframe\">\n",
       "  <thead>\n",
       "    <tr style=\"text-align: right;\">\n",
       "      <th></th>\n",
       "      <th>age</th>\n",
       "      <th>job</th>\n",
       "      <th>marital</th>\n",
       "      <th>education</th>\n",
       "      <th>default</th>\n",
       "      <th>housing</th>\n",
       "      <th>loan</th>\n",
       "      <th>contact</th>\n",
       "      <th>month</th>\n",
       "      <th>day_of_week</th>\n",
       "      <th>...</th>\n",
       "      <th>campaign</th>\n",
       "      <th>pdays</th>\n",
       "      <th>previous</th>\n",
       "      <th>poutcome</th>\n",
       "      <th>emp.var.rate</th>\n",
       "      <th>cons.price.idx</th>\n",
       "      <th>cons.conf.idx</th>\n",
       "      <th>euribor3m</th>\n",
       "      <th>nr.employed</th>\n",
       "      <th>y</th>\n",
       "    </tr>\n",
       "  </thead>\n",
       "  <tbody>\n",
       "    <tr>\n",
       "      <th>0</th>\n",
       "      <td>56</td>\n",
       "      <td>housemaid</td>\n",
       "      <td>married</td>\n",
       "      <td>basic.4y</td>\n",
       "      <td>no</td>\n",
       "      <td>no</td>\n",
       "      <td>no</td>\n",
       "      <td>telephone</td>\n",
       "      <td>may</td>\n",
       "      <td>mon</td>\n",
       "      <td>...</td>\n",
       "      <td>1</td>\n",
       "      <td>999</td>\n",
       "      <td>0</td>\n",
       "      <td>nonexistent</td>\n",
       "      <td>1.1</td>\n",
       "      <td>93.994</td>\n",
       "      <td>-36.4</td>\n",
       "      <td>4.857</td>\n",
       "      <td>5191.0</td>\n",
       "      <td>no</td>\n",
       "    </tr>\n",
       "    <tr>\n",
       "      <th>1</th>\n",
       "      <td>57</td>\n",
       "      <td>services</td>\n",
       "      <td>married</td>\n",
       "      <td>high.school</td>\n",
       "      <td>unknown</td>\n",
       "      <td>no</td>\n",
       "      <td>no</td>\n",
       "      <td>telephone</td>\n",
       "      <td>may</td>\n",
       "      <td>mon</td>\n",
       "      <td>...</td>\n",
       "      <td>1</td>\n",
       "      <td>999</td>\n",
       "      <td>0</td>\n",
       "      <td>nonexistent</td>\n",
       "      <td>1.1</td>\n",
       "      <td>93.994</td>\n",
       "      <td>-36.4</td>\n",
       "      <td>4.857</td>\n",
       "      <td>5191.0</td>\n",
       "      <td>no</td>\n",
       "    </tr>\n",
       "    <tr>\n",
       "      <th>2</th>\n",
       "      <td>37</td>\n",
       "      <td>services</td>\n",
       "      <td>married</td>\n",
       "      <td>high.school</td>\n",
       "      <td>no</td>\n",
       "      <td>yes</td>\n",
       "      <td>no</td>\n",
       "      <td>telephone</td>\n",
       "      <td>may</td>\n",
       "      <td>mon</td>\n",
       "      <td>...</td>\n",
       "      <td>1</td>\n",
       "      <td>999</td>\n",
       "      <td>0</td>\n",
       "      <td>nonexistent</td>\n",
       "      <td>1.1</td>\n",
       "      <td>93.994</td>\n",
       "      <td>-36.4</td>\n",
       "      <td>4.857</td>\n",
       "      <td>5191.0</td>\n",
       "      <td>no</td>\n",
       "    </tr>\n",
       "    <tr>\n",
       "      <th>3</th>\n",
       "      <td>40</td>\n",
       "      <td>admin.</td>\n",
       "      <td>married</td>\n",
       "      <td>basic.6y</td>\n",
       "      <td>no</td>\n",
       "      <td>no</td>\n",
       "      <td>no</td>\n",
       "      <td>telephone</td>\n",
       "      <td>may</td>\n",
       "      <td>mon</td>\n",
       "      <td>...</td>\n",
       "      <td>1</td>\n",
       "      <td>999</td>\n",
       "      <td>0</td>\n",
       "      <td>nonexistent</td>\n",
       "      <td>1.1</td>\n",
       "      <td>93.994</td>\n",
       "      <td>-36.4</td>\n",
       "      <td>4.857</td>\n",
       "      <td>5191.0</td>\n",
       "      <td>no</td>\n",
       "    </tr>\n",
       "    <tr>\n",
       "      <th>4</th>\n",
       "      <td>56</td>\n",
       "      <td>services</td>\n",
       "      <td>married</td>\n",
       "      <td>high.school</td>\n",
       "      <td>no</td>\n",
       "      <td>no</td>\n",
       "      <td>yes</td>\n",
       "      <td>telephone</td>\n",
       "      <td>may</td>\n",
       "      <td>mon</td>\n",
       "      <td>...</td>\n",
       "      <td>1</td>\n",
       "      <td>999</td>\n",
       "      <td>0</td>\n",
       "      <td>nonexistent</td>\n",
       "      <td>1.1</td>\n",
       "      <td>93.994</td>\n",
       "      <td>-36.4</td>\n",
       "      <td>4.857</td>\n",
       "      <td>5191.0</td>\n",
       "      <td>no</td>\n",
       "    </tr>\n",
       "  </tbody>\n",
       "</table>\n",
       "<p>5 rows × 21 columns</p>\n",
       "</div>"
      ],
      "text/plain": [
       "   age        job  marital    education  default housing loan    contact  \\\n",
       "0   56  housemaid  married     basic.4y       no      no   no  telephone   \n",
       "1   57   services  married  high.school  unknown      no   no  telephone   \n",
       "2   37   services  married  high.school       no     yes   no  telephone   \n",
       "3   40     admin.  married     basic.6y       no      no   no  telephone   \n",
       "4   56   services  married  high.school       no      no  yes  telephone   \n",
       "\n",
       "  month day_of_week ...  campaign  pdays  previous     poutcome emp.var.rate  \\\n",
       "0   may         mon ...         1    999         0  nonexistent          1.1   \n",
       "1   may         mon ...         1    999         0  nonexistent          1.1   \n",
       "2   may         mon ...         1    999         0  nonexistent          1.1   \n",
       "3   may         mon ...         1    999         0  nonexistent          1.1   \n",
       "4   may         mon ...         1    999         0  nonexistent          1.1   \n",
       "\n",
       "   cons.price.idx  cons.conf.idx  euribor3m  nr.employed   y  \n",
       "0          93.994          -36.4      4.857       5191.0  no  \n",
       "1          93.994          -36.4      4.857       5191.0  no  \n",
       "2          93.994          -36.4      4.857       5191.0  no  \n",
       "3          93.994          -36.4      4.857       5191.0  no  \n",
       "4          93.994          -36.4      4.857       5191.0  no  \n",
       "\n",
       "[5 rows x 21 columns]"
      ]
     },
     "execution_count": 135,
     "metadata": {},
     "output_type": "execute_result"
    }
   ],
   "source": [
    "df.head() # 取出前五行的資料"
   ]
  },
  {
   "cell_type": "markdown",
   "metadata": {},
   "source": [
    "## 資料前處理"
   ]
  },
  {
   "cell_type": "code",
   "execution_count": 138,
   "metadata": {
    "collapsed": true
   },
   "outputs": [],
   "source": [
    "# 將預測的目標 從 yes, no 變成 1,0\n",
    "df['y'].replace('no', 0, inplace = True)\n",
    "df['y'].replace('yes', 1, inplace = True)"
   ]
  },
  {
   "cell_type": "code",
   "execution_count": 139,
   "metadata": {
    "collapsed": false
   },
   "outputs": [
    {
     "data": {
      "text/plain": [
       "0    0\n",
       "1    0\n",
       "2    0\n",
       "3    0\n",
       "4    0\n",
       "Name: y, dtype: int64"
      ]
     },
     "execution_count": 139,
     "metadata": {},
     "output_type": "execute_result"
    }
   ],
   "source": [
    "df['y'].head()"
   ]
  },
  {
   "cell_type": "code",
   "execution_count": 141,
   "metadata": {
    "collapsed": false
   },
   "outputs": [
    {
     "data": {
      "text/plain": [
       "array([0, 1], dtype=int64)"
      ]
     },
     "execution_count": 141,
     "metadata": {},
     "output_type": "execute_result"
    }
   ],
   "source": [
    "df['y'].unique()"
   ]
  },
  {
   "cell_type": "code",
   "execution_count": 142,
   "metadata": {
    "collapsed": true
   },
   "outputs": [],
   "source": [
    "# 類別資料\n",
    "cat_var = ['job','marital','education',\n",
    "              'default','housing','loan',\n",
    "              'contact','month','day_of_week',\n",
    "              'poutcome',]\n",
    "# 數值資料\n",
    "num_var = ['age','duration','campaign','pdays','previous','emp.var.rate',\n",
    "           'cons.price.idx','cons.conf.idx','euribor3m','nr.employed',]"
   ]
  },
  {
   "cell_type": "code",
   "execution_count": 143,
   "metadata": {
    "collapsed": false
   },
   "outputs": [
    {
     "data": {
      "text/plain": [
       "0    0\n",
       "1    0\n",
       "2    0\n",
       "3    0\n",
       "4    0\n",
       "Name: y, dtype: int64"
      ]
     },
     "execution_count": 143,
     "metadata": {},
     "output_type": "execute_result"
    }
   ],
   "source": [
    "# 預測標的 => bank_df\n",
    "bank_df = df['y']\n",
    "bank_df.head()"
   ]
  },
  {
   "cell_type": "code",
   "execution_count": 147,
   "metadata": {
    "collapsed": false
   },
   "outputs": [
    {
     "data": {
      "text/plain": [
       "array(['married', 'single', 'divorced', 'unknown'], dtype=object)"
      ]
     },
     "execution_count": 147,
     "metadata": {},
     "output_type": "execute_result"
    }
   ],
   "source": [
    "df['marital'].unique()"
   ]
  },
  {
   "cell_type": "code",
   "execution_count": 149,
   "metadata": {
    "collapsed": false
   },
   "outputs": [
    {
     "data": {
      "text/html": [
       "<div>\n",
       "<table border=\"1\" class=\"dataframe\">\n",
       "  <thead>\n",
       "    <tr style=\"text-align: right;\">\n",
       "      <th></th>\n",
       "      <th>divorced</th>\n",
       "      <th>married</th>\n",
       "      <th>single</th>\n",
       "      <th>unknown</th>\n",
       "    </tr>\n",
       "  </thead>\n",
       "  <tbody>\n",
       "    <tr>\n",
       "      <th>0</th>\n",
       "      <td>0.0</td>\n",
       "      <td>1.0</td>\n",
       "      <td>0.0</td>\n",
       "      <td>0.0</td>\n",
       "    </tr>\n",
       "    <tr>\n",
       "      <th>1</th>\n",
       "      <td>0.0</td>\n",
       "      <td>1.0</td>\n",
       "      <td>0.0</td>\n",
       "      <td>0.0</td>\n",
       "    </tr>\n",
       "    <tr>\n",
       "      <th>2</th>\n",
       "      <td>0.0</td>\n",
       "      <td>1.0</td>\n",
       "      <td>0.0</td>\n",
       "      <td>0.0</td>\n",
       "    </tr>\n",
       "    <tr>\n",
       "      <th>3</th>\n",
       "      <td>0.0</td>\n",
       "      <td>1.0</td>\n",
       "      <td>0.0</td>\n",
       "      <td>0.0</td>\n",
       "    </tr>\n",
       "    <tr>\n",
       "      <th>4</th>\n",
       "      <td>0.0</td>\n",
       "      <td>1.0</td>\n",
       "      <td>0.0</td>\n",
       "      <td>0.0</td>\n",
       "    </tr>\n",
       "  </tbody>\n",
       "</table>\n",
       "</div>"
      ],
      "text/plain": [
       "   divorced  married  single  unknown\n",
       "0       0.0      1.0     0.0      0.0\n",
       "1       0.0      1.0     0.0      0.0\n",
       "2       0.0      1.0     0.0      0.0\n",
       "3       0.0      1.0     0.0      0.0\n",
       "4       0.0      1.0     0.0      0.0"
      ]
     },
     "execution_count": 149,
     "metadata": {},
     "output_type": "execute_result"
    }
   ],
   "source": [
    "#利用get_dummies 轉換我們的欄位資訊\n",
    "pd.get_dummies(df['marital']).head()"
   ]
  },
  {
   "cell_type": "code",
   "execution_count": 153,
   "metadata": {
    "collapsed": false
   },
   "outputs": [
    {
     "data": {
      "text/html": [
       "<div>\n",
       "<table border=\"1\" class=\"dataframe\">\n",
       "  <thead>\n",
       "    <tr style=\"text-align: right;\">\n",
       "      <th></th>\n",
       "      <th>y</th>\n",
       "      <th>divorced</th>\n",
       "      <th>married</th>\n",
       "      <th>single</th>\n",
       "      <th>unknown</th>\n",
       "    </tr>\n",
       "  </thead>\n",
       "  <tbody>\n",
       "    <tr>\n",
       "      <th>0</th>\n",
       "      <td>0</td>\n",
       "      <td>0.0</td>\n",
       "      <td>1.0</td>\n",
       "      <td>0.0</td>\n",
       "      <td>0.0</td>\n",
       "    </tr>\n",
       "    <tr>\n",
       "      <th>1</th>\n",
       "      <td>0</td>\n",
       "      <td>0.0</td>\n",
       "      <td>1.0</td>\n",
       "      <td>0.0</td>\n",
       "      <td>0.0</td>\n",
       "    </tr>\n",
       "    <tr>\n",
       "      <th>2</th>\n",
       "      <td>0</td>\n",
       "      <td>0.0</td>\n",
       "      <td>1.0</td>\n",
       "      <td>0.0</td>\n",
       "      <td>0.0</td>\n",
       "    </tr>\n",
       "    <tr>\n",
       "      <th>3</th>\n",
       "      <td>0</td>\n",
       "      <td>0.0</td>\n",
       "      <td>1.0</td>\n",
       "      <td>0.0</td>\n",
       "      <td>0.0</td>\n",
       "    </tr>\n",
       "    <tr>\n",
       "      <th>4</th>\n",
       "      <td>0</td>\n",
       "      <td>0.0</td>\n",
       "      <td>1.0</td>\n",
       "      <td>0.0</td>\n",
       "      <td>0.0</td>\n",
       "    </tr>\n",
       "  </tbody>\n",
       "</table>\n",
       "</div>"
      ],
      "text/plain": [
       "   y  divorced  married  single  unknown\n",
       "0  0       0.0      1.0     0.0      0.0\n",
       "1  0       0.0      1.0     0.0      0.0\n",
       "2  0       0.0      1.0     0.0      0.0\n",
       "3  0       0.0      1.0     0.0      0.0\n",
       "4  0       0.0      1.0     0.0      0.0"
      ]
     },
     "execution_count": 153,
     "metadata": {},
     "output_type": "execute_result"
    }
   ],
   "source": [
    "#pd.get_dummies(df['marital']).head()\n",
    "#bank_df.head()\n",
    "pd.concat([bank_df,pd.get_dummies(df['marital'])],axis=1).head()"
   ]
  },
  {
   "cell_type": "code",
   "execution_count": 154,
   "metadata": {
    "collapsed": false
   },
   "outputs": [
    {
     "data": {
      "text/html": [
       "<div>\n",
       "<table border=\"1\" class=\"dataframe\">\n",
       "  <thead>\n",
       "    <tr style=\"text-align: right;\">\n",
       "      <th></th>\n",
       "      <th>y</th>\n",
       "      <th>admin.</th>\n",
       "      <th>blue-collar</th>\n",
       "      <th>entrepreneur</th>\n",
       "      <th>housemaid</th>\n",
       "      <th>management</th>\n",
       "      <th>retired</th>\n",
       "      <th>self-employed</th>\n",
       "      <th>services</th>\n",
       "      <th>student</th>\n",
       "      <th>...</th>\n",
       "      <th>oct</th>\n",
       "      <th>sep</th>\n",
       "      <th>fri</th>\n",
       "      <th>mon</th>\n",
       "      <th>thu</th>\n",
       "      <th>tue</th>\n",
       "      <th>wed</th>\n",
       "      <th>failure</th>\n",
       "      <th>nonexistent</th>\n",
       "      <th>success</th>\n",
       "    </tr>\n",
       "  </thead>\n",
       "  <tbody>\n",
       "    <tr>\n",
       "      <th>0</th>\n",
       "      <td>0</td>\n",
       "      <td>0.0</td>\n",
       "      <td>0.0</td>\n",
       "      <td>0.0</td>\n",
       "      <td>1.0</td>\n",
       "      <td>0.0</td>\n",
       "      <td>0.0</td>\n",
       "      <td>0.0</td>\n",
       "      <td>0.0</td>\n",
       "      <td>0.0</td>\n",
       "      <td>...</td>\n",
       "      <td>0.0</td>\n",
       "      <td>0.0</td>\n",
       "      <td>0.0</td>\n",
       "      <td>1.0</td>\n",
       "      <td>0.0</td>\n",
       "      <td>0.0</td>\n",
       "      <td>0.0</td>\n",
       "      <td>0.0</td>\n",
       "      <td>1.0</td>\n",
       "      <td>0.0</td>\n",
       "    </tr>\n",
       "    <tr>\n",
       "      <th>1</th>\n",
       "      <td>0</td>\n",
       "      <td>0.0</td>\n",
       "      <td>0.0</td>\n",
       "      <td>0.0</td>\n",
       "      <td>0.0</td>\n",
       "      <td>0.0</td>\n",
       "      <td>0.0</td>\n",
       "      <td>0.0</td>\n",
       "      <td>1.0</td>\n",
       "      <td>0.0</td>\n",
       "      <td>...</td>\n",
       "      <td>0.0</td>\n",
       "      <td>0.0</td>\n",
       "      <td>0.0</td>\n",
       "      <td>1.0</td>\n",
       "      <td>0.0</td>\n",
       "      <td>0.0</td>\n",
       "      <td>0.0</td>\n",
       "      <td>0.0</td>\n",
       "      <td>1.0</td>\n",
       "      <td>0.0</td>\n",
       "    </tr>\n",
       "    <tr>\n",
       "      <th>2</th>\n",
       "      <td>0</td>\n",
       "      <td>0.0</td>\n",
       "      <td>0.0</td>\n",
       "      <td>0.0</td>\n",
       "      <td>0.0</td>\n",
       "      <td>0.0</td>\n",
       "      <td>0.0</td>\n",
       "      <td>0.0</td>\n",
       "      <td>1.0</td>\n",
       "      <td>0.0</td>\n",
       "      <td>...</td>\n",
       "      <td>0.0</td>\n",
       "      <td>0.0</td>\n",
       "      <td>0.0</td>\n",
       "      <td>1.0</td>\n",
       "      <td>0.0</td>\n",
       "      <td>0.0</td>\n",
       "      <td>0.0</td>\n",
       "      <td>0.0</td>\n",
       "      <td>1.0</td>\n",
       "      <td>0.0</td>\n",
       "    </tr>\n",
       "    <tr>\n",
       "      <th>3</th>\n",
       "      <td>0</td>\n",
       "      <td>1.0</td>\n",
       "      <td>0.0</td>\n",
       "      <td>0.0</td>\n",
       "      <td>0.0</td>\n",
       "      <td>0.0</td>\n",
       "      <td>0.0</td>\n",
       "      <td>0.0</td>\n",
       "      <td>0.0</td>\n",
       "      <td>0.0</td>\n",
       "      <td>...</td>\n",
       "      <td>0.0</td>\n",
       "      <td>0.0</td>\n",
       "      <td>0.0</td>\n",
       "      <td>1.0</td>\n",
       "      <td>0.0</td>\n",
       "      <td>0.0</td>\n",
       "      <td>0.0</td>\n",
       "      <td>0.0</td>\n",
       "      <td>1.0</td>\n",
       "      <td>0.0</td>\n",
       "    </tr>\n",
       "    <tr>\n",
       "      <th>4</th>\n",
       "      <td>0</td>\n",
       "      <td>0.0</td>\n",
       "      <td>0.0</td>\n",
       "      <td>0.0</td>\n",
       "      <td>0.0</td>\n",
       "      <td>0.0</td>\n",
       "      <td>0.0</td>\n",
       "      <td>0.0</td>\n",
       "      <td>1.0</td>\n",
       "      <td>0.0</td>\n",
       "      <td>...</td>\n",
       "      <td>0.0</td>\n",
       "      <td>0.0</td>\n",
       "      <td>0.0</td>\n",
       "      <td>1.0</td>\n",
       "      <td>0.0</td>\n",
       "      <td>0.0</td>\n",
       "      <td>0.0</td>\n",
       "      <td>0.0</td>\n",
       "      <td>1.0</td>\n",
       "      <td>0.0</td>\n",
       "    </tr>\n",
       "  </tbody>\n",
       "</table>\n",
       "<p>5 rows × 54 columns</p>\n",
       "</div>"
      ],
      "text/plain": [
       "   y  admin.  blue-collar  entrepreneur  housemaid  management  retired  \\\n",
       "0  0     0.0          0.0           0.0        1.0         0.0      0.0   \n",
       "1  0     0.0          0.0           0.0        0.0         0.0      0.0   \n",
       "2  0     0.0          0.0           0.0        0.0         0.0      0.0   \n",
       "3  0     1.0          0.0           0.0        0.0         0.0      0.0   \n",
       "4  0     0.0          0.0           0.0        0.0         0.0      0.0   \n",
       "\n",
       "   self-employed  services  student   ...     oct  sep  fri  mon  thu  tue  \\\n",
       "0            0.0       0.0      0.0   ...     0.0  0.0  0.0  1.0  0.0  0.0   \n",
       "1            0.0       1.0      0.0   ...     0.0  0.0  0.0  1.0  0.0  0.0   \n",
       "2            0.0       1.0      0.0   ...     0.0  0.0  0.0  1.0  0.0  0.0   \n",
       "3            0.0       0.0      0.0   ...     0.0  0.0  0.0  1.0  0.0  0.0   \n",
       "4            0.0       1.0      0.0   ...     0.0  0.0  0.0  1.0  0.0  0.0   \n",
       "\n",
       "   wed  failure  nonexistent  success  \n",
       "0  0.0      0.0          1.0      0.0  \n",
       "1  0.0      0.0          1.0      0.0  \n",
       "2  0.0      0.0          1.0      0.0  \n",
       "3  0.0      0.0          1.0      0.0  \n",
       "4  0.0      0.0          1.0      0.0  \n",
       "\n",
       "[5 rows x 54 columns]"
      ]
     },
     "execution_count": 154,
     "metadata": {},
     "output_type": "execute_result"
    }
   ],
   "source": [
    "# 把類別資料展開\n",
    "for var in cat_var:\n",
    "    bank_df = pd.concat([bank_df,pd.get_dummies(df[var])],axis=1)\n",
    "bank_df.head()\n"
   ]
  },
  {
   "cell_type": "code",
   "execution_count": 155,
   "metadata": {
    "collapsed": true
   },
   "outputs": [],
   "source": [
    "# 合併數值資料    \n",
    "bank_df = pd.concat([bank_df,df[num_var]],axis=1)"
   ]
  },
  {
   "cell_type": "code",
   "execution_count": 156,
   "metadata": {
    "collapsed": false
   },
   "outputs": [
    {
     "data": {
      "text/html": [
       "<div>\n",
       "<table border=\"1\" class=\"dataframe\">\n",
       "  <thead>\n",
       "    <tr style=\"text-align: right;\">\n",
       "      <th></th>\n",
       "      <th>y</th>\n",
       "      <th>admin.</th>\n",
       "      <th>blue-collar</th>\n",
       "      <th>entrepreneur</th>\n",
       "      <th>housemaid</th>\n",
       "      <th>management</th>\n",
       "      <th>retired</th>\n",
       "      <th>self-employed</th>\n",
       "      <th>services</th>\n",
       "      <th>student</th>\n",
       "      <th>...</th>\n",
       "      <th>age</th>\n",
       "      <th>duration</th>\n",
       "      <th>campaign</th>\n",
       "      <th>pdays</th>\n",
       "      <th>previous</th>\n",
       "      <th>emp.var.rate</th>\n",
       "      <th>cons.price.idx</th>\n",
       "      <th>cons.conf.idx</th>\n",
       "      <th>euribor3m</th>\n",
       "      <th>nr.employed</th>\n",
       "    </tr>\n",
       "  </thead>\n",
       "  <tbody>\n",
       "    <tr>\n",
       "      <th>0</th>\n",
       "      <td>0</td>\n",
       "      <td>0.0</td>\n",
       "      <td>0.0</td>\n",
       "      <td>0.0</td>\n",
       "      <td>1.0</td>\n",
       "      <td>0.0</td>\n",
       "      <td>0.0</td>\n",
       "      <td>0.0</td>\n",
       "      <td>0.0</td>\n",
       "      <td>0.0</td>\n",
       "      <td>...</td>\n",
       "      <td>56</td>\n",
       "      <td>261</td>\n",
       "      <td>1</td>\n",
       "      <td>999</td>\n",
       "      <td>0</td>\n",
       "      <td>1.1</td>\n",
       "      <td>93.994</td>\n",
       "      <td>-36.4</td>\n",
       "      <td>4.857</td>\n",
       "      <td>5191.0</td>\n",
       "    </tr>\n",
       "    <tr>\n",
       "      <th>1</th>\n",
       "      <td>0</td>\n",
       "      <td>0.0</td>\n",
       "      <td>0.0</td>\n",
       "      <td>0.0</td>\n",
       "      <td>0.0</td>\n",
       "      <td>0.0</td>\n",
       "      <td>0.0</td>\n",
       "      <td>0.0</td>\n",
       "      <td>1.0</td>\n",
       "      <td>0.0</td>\n",
       "      <td>...</td>\n",
       "      <td>57</td>\n",
       "      <td>149</td>\n",
       "      <td>1</td>\n",
       "      <td>999</td>\n",
       "      <td>0</td>\n",
       "      <td>1.1</td>\n",
       "      <td>93.994</td>\n",
       "      <td>-36.4</td>\n",
       "      <td>4.857</td>\n",
       "      <td>5191.0</td>\n",
       "    </tr>\n",
       "    <tr>\n",
       "      <th>2</th>\n",
       "      <td>0</td>\n",
       "      <td>0.0</td>\n",
       "      <td>0.0</td>\n",
       "      <td>0.0</td>\n",
       "      <td>0.0</td>\n",
       "      <td>0.0</td>\n",
       "      <td>0.0</td>\n",
       "      <td>0.0</td>\n",
       "      <td>1.0</td>\n",
       "      <td>0.0</td>\n",
       "      <td>...</td>\n",
       "      <td>37</td>\n",
       "      <td>226</td>\n",
       "      <td>1</td>\n",
       "      <td>999</td>\n",
       "      <td>0</td>\n",
       "      <td>1.1</td>\n",
       "      <td>93.994</td>\n",
       "      <td>-36.4</td>\n",
       "      <td>4.857</td>\n",
       "      <td>5191.0</td>\n",
       "    </tr>\n",
       "    <tr>\n",
       "      <th>3</th>\n",
       "      <td>0</td>\n",
       "      <td>1.0</td>\n",
       "      <td>0.0</td>\n",
       "      <td>0.0</td>\n",
       "      <td>0.0</td>\n",
       "      <td>0.0</td>\n",
       "      <td>0.0</td>\n",
       "      <td>0.0</td>\n",
       "      <td>0.0</td>\n",
       "      <td>0.0</td>\n",
       "      <td>...</td>\n",
       "      <td>40</td>\n",
       "      <td>151</td>\n",
       "      <td>1</td>\n",
       "      <td>999</td>\n",
       "      <td>0</td>\n",
       "      <td>1.1</td>\n",
       "      <td>93.994</td>\n",
       "      <td>-36.4</td>\n",
       "      <td>4.857</td>\n",
       "      <td>5191.0</td>\n",
       "    </tr>\n",
       "    <tr>\n",
       "      <th>4</th>\n",
       "      <td>0</td>\n",
       "      <td>0.0</td>\n",
       "      <td>0.0</td>\n",
       "      <td>0.0</td>\n",
       "      <td>0.0</td>\n",
       "      <td>0.0</td>\n",
       "      <td>0.0</td>\n",
       "      <td>0.0</td>\n",
       "      <td>1.0</td>\n",
       "      <td>0.0</td>\n",
       "      <td>...</td>\n",
       "      <td>56</td>\n",
       "      <td>307</td>\n",
       "      <td>1</td>\n",
       "      <td>999</td>\n",
       "      <td>0</td>\n",
       "      <td>1.1</td>\n",
       "      <td>93.994</td>\n",
       "      <td>-36.4</td>\n",
       "      <td>4.857</td>\n",
       "      <td>5191.0</td>\n",
       "    </tr>\n",
       "  </tbody>\n",
       "</table>\n",
       "<p>5 rows × 64 columns</p>\n",
       "</div>"
      ],
      "text/plain": [
       "   y  admin.  blue-collar  entrepreneur  housemaid  management  retired  \\\n",
       "0  0     0.0          0.0           0.0        1.0         0.0      0.0   \n",
       "1  0     0.0          0.0           0.0        0.0         0.0      0.0   \n",
       "2  0     0.0          0.0           0.0        0.0         0.0      0.0   \n",
       "3  0     1.0          0.0           0.0        0.0         0.0      0.0   \n",
       "4  0     0.0          0.0           0.0        0.0         0.0      0.0   \n",
       "\n",
       "   self-employed  services  student     ...       age  duration  campaign  \\\n",
       "0            0.0       0.0      0.0     ...        56       261         1   \n",
       "1            0.0       1.0      0.0     ...        57       149         1   \n",
       "2            0.0       1.0      0.0     ...        37       226         1   \n",
       "3            0.0       0.0      0.0     ...        40       151         1   \n",
       "4            0.0       1.0      0.0     ...        56       307         1   \n",
       "\n",
       "   pdays  previous  emp.var.rate  cons.price.idx  cons.conf.idx  euribor3m  \\\n",
       "0    999         0           1.1          93.994          -36.4      4.857   \n",
       "1    999         0           1.1          93.994          -36.4      4.857   \n",
       "2    999         0           1.1          93.994          -36.4      4.857   \n",
       "3    999         0           1.1          93.994          -36.4      4.857   \n",
       "4    999         0           1.1          93.994          -36.4      4.857   \n",
       "\n",
       "   nr.employed  \n",
       "0       5191.0  \n",
       "1       5191.0  \n",
       "2       5191.0  \n",
       "3       5191.0  \n",
       "4       5191.0  \n",
       "\n",
       "[5 rows x 64 columns]"
      ]
     },
     "execution_count": 156,
     "metadata": {},
     "output_type": "execute_result"
    }
   ],
   "source": [
    "bank_df.head()"
   ]
  },
  {
   "cell_type": "code",
   "execution_count": 157,
   "metadata": {
    "collapsed": false
   },
   "outputs": [
    {
     "name": "stdout",
     "output_type": "stream",
     "text": [
      "<class 'pandas.core.frame.DataFrame'>\n",
      "RangeIndex: 41188 entries, 0 to 41187\n",
      "Data columns (total 64 columns):\n",
      "y                      41188 non-null int64\n",
      "admin.                 41188 non-null float64\n",
      "blue-collar            41188 non-null float64\n",
      "entrepreneur           41188 non-null float64\n",
      "housemaid              41188 non-null float64\n",
      "management             41188 non-null float64\n",
      "retired                41188 non-null float64\n",
      "self-employed          41188 non-null float64\n",
      "services               41188 non-null float64\n",
      "student                41188 non-null float64\n",
      "technician             41188 non-null float64\n",
      "unemployed             41188 non-null float64\n",
      "unknown                41188 non-null float64\n",
      "divorced               41188 non-null float64\n",
      "married                41188 non-null float64\n",
      "single                 41188 non-null float64\n",
      "unknown                41188 non-null float64\n",
      "basic.4y               41188 non-null float64\n",
      "basic.6y               41188 non-null float64\n",
      "basic.9y               41188 non-null float64\n",
      "high.school            41188 non-null float64\n",
      "illiterate             41188 non-null float64\n",
      "professional.course    41188 non-null float64\n",
      "university.degree      41188 non-null float64\n",
      "unknown                41188 non-null float64\n",
      "no                     41188 non-null float64\n",
      "unknown                41188 non-null float64\n",
      "yes                    41188 non-null float64\n",
      "no                     41188 non-null float64\n",
      "unknown                41188 non-null float64\n",
      "yes                    41188 non-null float64\n",
      "no                     41188 non-null float64\n",
      "unknown                41188 non-null float64\n",
      "yes                    41188 non-null float64\n",
      "cellular               41188 non-null float64\n",
      "telephone              41188 non-null float64\n",
      "apr                    41188 non-null float64\n",
      "aug                    41188 non-null float64\n",
      "dec                    41188 non-null float64\n",
      "jul                    41188 non-null float64\n",
      "jun                    41188 non-null float64\n",
      "mar                    41188 non-null float64\n",
      "may                    41188 non-null float64\n",
      "nov                    41188 non-null float64\n",
      "oct                    41188 non-null float64\n",
      "sep                    41188 non-null float64\n",
      "fri                    41188 non-null float64\n",
      "mon                    41188 non-null float64\n",
      "thu                    41188 non-null float64\n",
      "tue                    41188 non-null float64\n",
      "wed                    41188 non-null float64\n",
      "failure                41188 non-null float64\n",
      "nonexistent            41188 non-null float64\n",
      "success                41188 non-null float64\n",
      "age                    41188 non-null int64\n",
      "duration               41188 non-null int64\n",
      "campaign               41188 non-null int64\n",
      "pdays                  41188 non-null int64\n",
      "previous               41188 non-null int64\n",
      "emp.var.rate           41188 non-null float64\n",
      "cons.price.idx         41188 non-null float64\n",
      "cons.conf.idx          41188 non-null float64\n",
      "euribor3m              41188 non-null float64\n",
      "nr.employed            41188 non-null float64\n",
      "dtypes: float64(58), int64(6)\n",
      "memory usage: 20.1 MB\n"
     ]
    }
   ],
   "source": [
    "bank_df.info()"
   ]
  },
  {
   "cell_type": "markdown",
   "metadata": {},
   "source": [
    "### train_test_split 範例"
   ]
  },
  {
   "cell_type": "code",
   "execution_count": 159,
   "metadata": {
    "collapsed": false
   },
   "outputs": [
    {
     "data": {
      "text/plain": [
       "array([[0, 1],\n",
       "       [2, 3],\n",
       "       [4, 5],\n",
       "       [6, 7],\n",
       "       [8, 9]])"
      ]
     },
     "execution_count": 159,
     "metadata": {},
     "output_type": "execute_result"
    }
   ],
   "source": [
    "X, y = np.arange(10).reshape((5, 2)), range(5)\n",
    "X"
   ]
  },
  {
   "cell_type": "code",
   "execution_count": 160,
   "metadata": {
    "collapsed": false
   },
   "outputs": [
    {
     "data": {
      "text/plain": [
       "[0, 1, 2, 3, 4]"
      ]
     },
     "execution_count": 160,
     "metadata": {},
     "output_type": "execute_result"
    }
   ],
   "source": [
    "y"
   ]
  },
  {
   "cell_type": "code",
   "execution_count": 161,
   "metadata": {
    "collapsed": true
   },
   "outputs": [],
   "source": [
    "X_train, X_test, y_train, y_test = train_test_split(X,y)"
   ]
  },
  {
   "cell_type": "code",
   "execution_count": 162,
   "metadata": {
    "collapsed": false
   },
   "outputs": [
    {
     "data": {
      "text/plain": [
       "array([[8, 9],\n",
       "       [4, 5],\n",
       "       [0, 1]])"
      ]
     },
     "execution_count": 162,
     "metadata": {},
     "output_type": "execute_result"
    }
   ],
   "source": [
    "X_train"
   ]
  },
  {
   "cell_type": "code",
   "execution_count": 163,
   "metadata": {
    "collapsed": false
   },
   "outputs": [
    {
     "data": {
      "text/plain": [
       "array([[6, 7],\n",
       "       [2, 3]])"
      ]
     },
     "execution_count": 163,
     "metadata": {},
     "output_type": "execute_result"
    }
   ],
   "source": [
    "X_test"
   ]
  },
  {
   "cell_type": "code",
   "execution_count": 164,
   "metadata": {
    "collapsed": false
   },
   "outputs": [
    {
     "data": {
      "text/plain": [
       "[4, 2, 0]"
      ]
     },
     "execution_count": 164,
     "metadata": {},
     "output_type": "execute_result"
    }
   ],
   "source": [
    "y_train"
   ]
  },
  {
   "cell_type": "code",
   "execution_count": 165,
   "metadata": {
    "collapsed": false
   },
   "outputs": [
    {
     "data": {
      "text/plain": [
       "[3, 1]"
      ]
     },
     "execution_count": 165,
     "metadata": {},
     "output_type": "execute_result"
    }
   ],
   "source": [
    "y_test"
   ]
  },
  {
   "cell_type": "markdown",
   "metadata": {},
   "source": [
    "## 分為訓練與測試資料集"
   ]
  },
  {
   "cell_type": "code",
   "execution_count": 166,
   "metadata": {
    "collapsed": true
   },
   "outputs": [],
   "source": [
    "from sklearn.cross_validation import train_test_split\n",
    "# X => Feature, y => Target\n",
    "?train_test_split(bank_df.drop('y', axis = 1), bank_df['y'])\n",
    "X_train, X_test, y_train, y_test = train_test_split(bank_df.drop('y', axis = 1), bank_df['y'])"
   ]
  },
  {
   "cell_type": "code",
   "execution_count": 172,
   "metadata": {
    "collapsed": false
   },
   "outputs": [
    {
     "name": "stdout",
     "output_type": "stream",
     "text": [
      "(41188, 64)\n",
      "(30891, 63)\n",
      "(10297, 63)\n",
      "(30891L,)\n",
      "(10297L,)\n"
     ]
    }
   ],
   "source": [
    "print bank_df.shape\n",
    "print X_train.shape\n",
    "print X_test.shape\n",
    "\n",
    "print y_train.shape\n",
    "print y_test.shape"
   ]
  },
  {
   "cell_type": "markdown",
   "metadata": {},
   "source": [
    "## 建立模型"
   ]
  },
  {
   "cell_type": "code",
   "execution_count": 221,
   "metadata": {
    "collapsed": false
   },
   "outputs": [
    {
     "data": {
      "text/plain": [
       "RandomForestClassifier(bootstrap=True, class_weight=None, criterion='gini',\n",
       "            max_depth=None, max_features='auto', max_leaf_nodes=None,\n",
       "            min_samples_leaf=1, min_samples_split=2,\n",
       "            min_weight_fraction_leaf=0.0, n_estimators=201, n_jobs=1,\n",
       "            oob_score=False, random_state=None, verbose=0,\n",
       "            warm_start=False)"
      ]
     },
     "execution_count": 221,
     "metadata": {},
     "output_type": "execute_result"
    }
   ],
   "source": [
    "from sklearn.tree import DecisionTreeClassifier\n",
    "clf = DecisionTreeClassifier(random_state=0)\n",
    "#clf.fit(X_train, y_train)\n",
    "\n",
    "from sklearn.neighbors import KNeighborsClassifier\n",
    "clf = KNeighborsClassifier()\n",
    "\n",
    "\n",
    "\n",
    "from sklearn.ensemble import RandomForestClassifier\n",
    "clf = RandomForestClassifier(n_estimators=201)\n",
    "\n",
    "clf.fit(X_train, y_train)"
   ]
  },
  {
   "cell_type": "markdown",
   "metadata": {},
   "source": [
    "## 產生預測結果"
   ]
  },
  {
   "cell_type": "code",
   "execution_count": 222,
   "metadata": {
    "collapsed": true
   },
   "outputs": [],
   "source": [
    "y_pred = clf.predict(X_test)"
   ]
  },
  {
   "cell_type": "code",
   "execution_count": 223,
   "metadata": {
    "collapsed": false
   },
   "outputs": [
    {
     "data": {
      "text/plain": [
       "array([0, 0, 0, ..., 1, 0, 0], dtype=int64)"
      ]
     },
     "execution_count": 223,
     "metadata": {},
     "output_type": "execute_result"
    }
   ],
   "source": [
    "y_pred"
   ]
  },
  {
   "cell_type": "code",
   "execution_count": 224,
   "metadata": {
    "collapsed": false
   },
   "outputs": [
    {
     "name": "stdout",
     "output_type": "stream",
     "text": [
      "             precision    recall  f1-score   support\n",
      "\n",
      "          0       0.94      0.97      0.95      9137\n",
      "          1       0.64      0.48      0.55      1160\n",
      "\n",
      "avg / total       0.90      0.91      0.91     10297\n",
      "\n"
     ]
    }
   ],
   "source": [
    "from sklearn.metrics import classification_report\n",
    "print classification_report(y_test, y_pred)"
   ]
  },
  {
   "cell_type": "code",
   "execution_count": 225,
   "metadata": {
    "collapsed": false
   },
   "outputs": [
    {
     "name": "stdout",
     "output_type": "stream",
     "text": [
      "[[8827  310]\n",
      " [ 602  558]]\n"
     ]
    }
   ],
   "source": [
    "from sklearn.metrics import confusion_matrix\n",
    "print confusion_matrix(y_test, y_pred)"
   ]
  },
  {
   "cell_type": "markdown",
   "metadata": {},
   "source": [
    "## 交叉驗證"
   ]
  },
  {
   "cell_type": "code",
   "execution_count": 226,
   "metadata": {
    "collapsed": false
   },
   "outputs": [
    {
     "data": {
      "text/plain": [
       "array([ 0.91327571,  0.91084782,  0.91453822])"
      ]
     },
     "execution_count": 226,
     "metadata": {},
     "output_type": "execute_result"
    }
   ],
   "source": [
    "from sklearn.cross_validation import cross_val_score\n",
    "#?cross_val_score(clf, X_train, y_train)\n",
    "cross_val_score(clf, X_train, y_train, cv = 3)"
   ]
  },
  {
   "cell_type": "markdown",
   "metadata": {},
   "source": [
    "## ROC Curve"
   ]
  },
  {
   "cell_type": "code",
   "execution_count": 227,
   "metadata": {
    "collapsed": false
   },
   "outputs": [
    {
     "data": {
      "text/plain": [
       "array([ 0.        ,  0.38308458,  0.        , ...,  0.76616915,\n",
       "        0.        ,  0.21890547])"
      ]
     },
     "execution_count": 227,
     "metadata": {},
     "output_type": "execute_result"
    }
   ],
   "source": [
    "probas_ = clf.fit(X_train, y_train).predict_proba(X_test)\n",
    "probas_[:, 1]"
   ]
  },
  {
   "cell_type": "code",
   "execution_count": 228,
   "metadata": {
    "collapsed": false
   },
   "outputs": [
    {
     "name": "stdout",
     "output_type": "stream",
     "text": [
      "Area under the ROC curve : 0.942100\n"
     ]
    }
   ],
   "source": [
    "from sklearn.metrics import roc_curve, auc\n",
    "fpr, tpr, thresholds = roc_curve(y_test, probas_[:, 1])\n",
    "roc_auc = auc(fpr, tpr)\n",
    "print(\"Area under the ROC curve : %f\" % roc_auc)"
   ]
  },
  {
   "cell_type": "code",
   "execution_count": 229,
   "metadata": {
    "collapsed": false
   },
   "outputs": [
    {
     "name": "stdout",
     "output_type": "stream",
     "text": [
      "[  0.00000000e+00   0.00000000e+00   0.00000000e+00   0.00000000e+00\n",
      "   1.09445113e-04   1.09445113e-04   1.09445113e-04   3.28335340e-04\n",
      "   3.28335340e-04   3.28335340e-04   4.37780453e-04   5.47225566e-04\n",
      "   5.47225566e-04   5.47225566e-04   5.47225566e-04   6.56670680e-04\n",
      "   6.56670680e-04   6.56670680e-04   6.56670680e-04   6.56670680e-04\n",
      "   6.56670680e-04   9.85006019e-04   1.09445113e-03   1.20389625e-03\n",
      "   1.31334136e-03   1.53223159e-03   1.64167670e-03   1.64167670e-03\n",
      "   1.75112181e-03   1.97001204e-03   1.97001204e-03   2.07945715e-03\n",
      "   2.40779249e-03   2.40779249e-03   2.84557295e-03   3.06446317e-03\n",
      "   3.28335340e-03   3.61168874e-03   3.83057896e-03   4.04946919e-03\n",
      "   4.15891430e-03   4.37780453e-03   4.48724964e-03   4.81558498e-03\n",
      "   5.03447521e-03   5.36281055e-03   5.91003612e-03   6.12892634e-03\n",
      "   6.45726168e-03   6.89504214e-03   7.33282259e-03   7.98949327e-03\n",
      "   8.20838350e-03   8.75560906e-03   9.08394440e-03   9.95950531e-03\n",
      "   1.05067309e-02   1.07256211e-02   1.11634016e-02   1.13822918e-02\n",
      "   1.19295173e-02   1.23672978e-02   1.25861880e-02   1.34617489e-02\n",
      "   1.42278647e-02   1.48845354e-02   1.57600963e-02   1.64167670e-02\n",
      "   1.71828828e-02   1.76206632e-02   1.83867790e-02   1.89340046e-02\n",
      "   1.97001204e-02   2.07945715e-02   2.13417971e-02   2.21079129e-02\n",
      "   2.30929189e-02   2.38590347e-02   2.48440407e-02   2.56101565e-02\n",
      "   2.61573821e-02   2.71423881e-02   2.83462843e-02   2.90029550e-02\n",
      "   2.92218452e-02   3.04257415e-02   3.13013024e-02   3.20674182e-02\n",
      "   3.26146438e-02   3.32713144e-02   3.44752107e-02   3.56791069e-02\n",
      "   3.64452227e-02   3.76491190e-02   3.85246799e-02   3.96191310e-02\n",
      "   4.07135821e-02   4.21363686e-02   4.33402649e-02   4.44347160e-02\n",
      "   4.55291671e-02   4.67330634e-02   4.73897340e-02   4.89219656e-02\n",
      "   5.05636423e-02   5.19864288e-02   5.32997702e-02   5.49414469e-02\n",
      "   5.58170078e-02   5.69114589e-02   5.75681296e-02   5.85531356e-02\n",
      "   6.04137025e-02   6.21648243e-02   6.35876108e-02   6.43537266e-02\n",
      "   6.57765131e-02   6.71992996e-02   6.82937507e-02   6.92787567e-02\n",
      "   7.10298785e-02   7.33282259e-02   7.46415673e-02   7.63926891e-02\n",
      "   7.72682500e-02   7.85815913e-02   7.96760425e-02   8.05516034e-02\n",
      "   8.24121703e-02   8.39444019e-02   8.58049688e-02   8.77749808e-02\n",
      "   8.89788771e-02   9.10583342e-02   9.22622305e-02   9.40133523e-02\n",
      "   9.57644741e-02   9.71872606e-02   9.89383824e-02   1.00908394e-01\n",
      "   1.02987852e-01   1.05176754e-01   1.07584546e-01   1.09554558e-01\n",
      "   1.12071796e-01   1.13822918e-01   1.16230710e-01   1.18966838e-01\n",
      "   1.21265186e-01   1.23016307e-01   1.26299661e-01   1.28816898e-01\n",
      "   1.31334136e-01   1.34617489e-01   1.37900843e-01   1.41184196e-01\n",
      "   1.44248659e-01   1.46437562e-01   1.47860348e-01   1.50487031e-01\n",
      "   1.52894823e-01   1.55302616e-01   1.58038744e-01   1.61212652e-01\n",
      "   1.64496005e-01   1.67669914e-01   1.71062712e-01   1.74893291e-01\n",
      "   1.78942760e-01   1.82992229e-01   1.87698369e-01   1.92404509e-01\n",
      "   1.96563423e-01   2.01269563e-01   2.06851264e-01   2.13527416e-01\n",
      "   2.20313013e-01   2.28411951e-01   2.37167560e-01   2.47017621e-01\n",
      "   2.61354931e-01   2.76896137e-01   2.96158477e-01   3.23629200e-01\n",
      "   3.59308307e-01   4.17423662e-01   5.08263106e-01   6.71992996e-01\n",
      "   1.00000000e+00] [ 0.00172414  0.00344828  0.00603448  0.00689655  0.00862069  0.01206897\n",
      "  0.01724138  0.02068966  0.025       0.02758621  0.03017241  0.03448276\n",
      "  0.04051724  0.04310345  0.04741379  0.05        0.05344828  0.05948276\n",
      "  0.0637931   0.06724138  0.06896552  0.06896552  0.07586207  0.07844828\n",
      "  0.08448276  0.08706897  0.09224138  0.09913793  0.10258621  0.10948276\n",
      "  0.1137931   0.11551724  0.11982759  0.12327586  0.125       0.13706897\n",
      "  0.13793103  0.14310345  0.14655172  0.15344828  0.15862069  0.16465517\n",
      "  0.16982759  0.175       0.18706897  0.1887931   0.19741379  0.20172414\n",
      "  0.20775862  0.21551724  0.21982759  0.225       0.22758621  0.23189655\n",
      "  0.23706897  0.24224138  0.25        0.25603448  0.2612069   0.26465517\n",
      "  0.26896552  0.27758621  0.28189655  0.28534483  0.29137931  0.29655172\n",
      "  0.30603448  0.3112069   0.31637931  0.32413793  0.33534483  0.34137931\n",
      "  0.34827586  0.35517241  0.3612069   0.36551724  0.36810345  0.37844828\n",
      "  0.38965517  0.39913793  0.40258621  0.41206897  0.41896552  0.42413793\n",
      "  0.42586207  0.43448276  0.44137931  0.45258621  0.46206897  0.47155172\n",
      "  0.48793103  0.49827586  0.51034483  0.51982759  0.52931034  0.53448276\n",
      "  0.54310345  0.55431034  0.56551724  0.57068966  0.57931034  0.58793103\n",
      "  0.59396552  0.59913793  0.6112069   0.61982759  0.62413793  0.62931034\n",
      "  0.63362069  0.63793103  0.64482759  0.65431034  0.66034483  0.66551724\n",
      "  0.67844828  0.68275862  0.68965517  0.69310345  0.70086207  0.70862069\n",
      "  0.71637931  0.72327586  0.72931034  0.73793103  0.74741379  0.75689655\n",
      "  0.7637931   0.76810345  0.77068966  0.77327586  0.77844828  0.79396552\n",
      "  0.79741379  0.80172414  0.80431034  0.80948276  0.8137931   0.81896552\n",
      "  0.82241379  0.82844828  0.83275862  0.83965517  0.84482759  0.84827586\n",
      "  0.85431034  0.85948276  0.8637931   0.86982759  0.87586207  0.87672414\n",
      "  0.88017241  0.88362069  0.8887931   0.89396552  0.89827586  0.90172414\n",
      "  0.90431034  0.90689655  0.91293103  0.91810345  0.91982759  0.92327586\n",
      "  0.92586207  0.92931034  0.93362069  0.93706897  0.93965517  0.94396552\n",
      "  0.94913793  0.95344828  0.95775862  0.96034483  0.9637931   0.96637931\n",
      "  0.96724138  0.97068966  0.97327586  0.975       0.97844828  0.98103448\n",
      "  0.98362069  0.98448276  0.98534483  0.98706897  0.99051724  0.99396552\n",
      "  0.99568966  0.99827586  1.        ] [ 0.97014925  0.94527363  0.94029851  0.93532338  0.93034826  0.92039801\n",
      "  0.91044776  0.90547264  0.90049751  0.89552239  0.89054726  0.88557214\n",
      "  0.88059701  0.87562189  0.87064677  0.86567164  0.86069652  0.85572139\n",
      "  0.85074627  0.84577114  0.84079602  0.8358209   0.83084577  0.82587065\n",
      "  0.82089552  0.8159204   0.81094527  0.80597015  0.80099502  0.7960199\n",
      "  0.79104478  0.78606965  0.78109453  0.7761194   0.77114428  0.76616915\n",
      "  0.76119403  0.75621891  0.75124378  0.74626866  0.74129353  0.73631841\n",
      "  0.73134328  0.72636816  0.72139303  0.71641791  0.71144279  0.70646766\n",
      "  0.70149254  0.69651741  0.69154229  0.68656716  0.68159204  0.67661692\n",
      "  0.67164179  0.66666667  0.66169154  0.65671642  0.65174129  0.64676617\n",
      "  0.64179104  0.63681592  0.6318408   0.62686567  0.62189055  0.61691542\n",
      "  0.6119403   0.60696517  0.60199005  0.59701493  0.5920398   0.58706468\n",
      "  0.58208955  0.57711443  0.5721393   0.56716418  0.56218905  0.55721393\n",
      "  0.55223881  0.54726368  0.54228856  0.53731343  0.53233831  0.52736318\n",
      "  0.52238806  0.51741294  0.51243781  0.50746269  0.50248756  0.49751244\n",
      "  0.49253731  0.48756219  0.48258706  0.47761194  0.47263682  0.46766169\n",
      "  0.46268657  0.45771144  0.45273632  0.44776119  0.44278607  0.43781095\n",
      "  0.43283582  0.4278607   0.42288557  0.41791045  0.41293532  0.4079602\n",
      "  0.40298507  0.39800995  0.39303483  0.3880597   0.38308458  0.37810945\n",
      "  0.37313433  0.3681592   0.36318408  0.35820896  0.35323383  0.34825871\n",
      "  0.34328358  0.33830846  0.33333333  0.32835821  0.32338308  0.31840796\n",
      "  0.31343284  0.30845771  0.30348259  0.29850746  0.29353234  0.28358209\n",
      "  0.27860697  0.27363184  0.26865672  0.26368159  0.25870647  0.25373134\n",
      "  0.24875622  0.24378109  0.23880597  0.23383085  0.22885572  0.2238806\n",
      "  0.21890547  0.21393035  0.20895522  0.2039801   0.19900498  0.19402985\n",
      "  0.18905473  0.1840796   0.17910448  0.17412935  0.16915423  0.1641791\n",
      "  0.15920398  0.15422886  0.14925373  0.14427861  0.13930348  0.13432836\n",
      "  0.12935323  0.12437811  0.11940299  0.11442786  0.10945274  0.10447761\n",
      "  0.09950249  0.09452736  0.08955224  0.08457711  0.07960199  0.07462687\n",
      "  0.06965174  0.06467662  0.05970149  0.05472637  0.04975124  0.04477612\n",
      "  0.039801    0.03482587  0.02985075  0.02487562  0.0199005   0.01492537\n",
      "  0.00995025  0.00497512  0.        ]\n"
     ]
    }
   ],
   "source": [
    "print fpr, tpr, thresholds"
   ]
  },
  {
   "cell_type": "code",
   "execution_count": 230,
   "metadata": {
    "collapsed": true
   },
   "outputs": [],
   "source": [
    "import pylab as pl\n",
    "pl.style.use('fivethirtyeight')\n",
    "from IPython.core.pylabtools import figsize\n",
    "figsize(12,5)"
   ]
  },
  {
   "cell_type": "code",
   "execution_count": 231,
   "metadata": {
    "collapsed": false
   },
   "outputs": [
    {
     "data": {
      "image/png": "[encoded data removed]",
      "text/plain": [
       "<matplotlib.figure.Figure at 0x642f710>"
      ]
     },
     "metadata": {},
     "output_type": "display_data"
    }
   ],
   "source": [
    "\n",
    "# Plot ROC curve\n",
    "pl.clf()\n",
    "pl.plot(fpr, tpr, label='ROC curve (area = %0.2f)' % roc_auc)\n",
    "pl.plot([0, 1], [0, 1], 'k--')\n",
    "pl.xlim([0.0, 1.0])\n",
    "pl.ylim([0.0, 1.0])\n",
    "pl.xlabel('False Positive Rate')\n",
    "pl.ylabel('True Positive Rate')\n",
    "pl.title('Receiver operating characteristic example')\n",
    "pl.legend(loc=\"lower right\")\n",
    "pl.show()"
   ]
  },
  {
   "cell_type": "markdown",
   "metadata": {},
   "source": [
    "## 找出最重要的變數"
   ]
  },
  {
   "cell_type": "code",
   "execution_count": 233,
   "metadata": {
    "collapsed": false
   },
   "outputs": [
    {
     "data": {
      "text/plain": [
       "[(0.012149686128256541, 'admin.'),\n",
       " (0.0082440705926583781, 'blue-collar'),\n",
       " (0.0037330514572595039, 'entrepreneur'),\n",
       " (0.0028426676369027316, 'housemaid'),\n",
       " (0.0067774594400146762, 'management'),\n",
       " (0.0056573584992742048, 'retired'),\n",
       " (0.0042124709600525325, 'self-employed'),\n",
       " (0.0062359641362255353, 'services'),\n",
       " (0.0042453173048253509, 'student'),\n",
       " (0.0099737373849476743, 'technician'),\n",
       " (0.0036100728866955848, 'unemployed'),\n",
       " (0.0016102032002016414, 'unknown'),\n",
       " (0.0071842003263063916, 'divorced'),\n",
       " (0.012024824064673079, 'married'),\n",
       " (0.010834631776759885, 'single'),\n",
       " (0.00061306345072368739, 'unknown'),\n",
       " (0.0062796356738512461, 'basic.4y'),\n",
       " (0.0043530401135280965, 'basic.6y'),\n",
       " (0.0074992517839958389, 'basic.9y'),\n",
       " (0.010765128865026107, 'high.school'),\n",
       " (0.00027143390911481524, 'illiterate'),\n",
       " (0.0084846357205206595, 'professional.course'),\n",
       " (0.011985865509406418, 'university.degree'),\n",
       " (0.0047958328274242774, 'unknown'),\n",
       " (0.0057097881072233157, 'no'),\n",
       " (0.0054404868361139754, 'unknown'),\n",
       " (1.2450571346045031e-08, 'yes'),\n",
       " (0.013488025747322423, 'no'),\n",
       " (0.0017215656168905148, 'unknown'),\n",
       " (0.013236067046233457, 'yes'),\n",
       " (0.0088403864897041856, 'no'),\n",
       " (0.001616661589820769, 'unknown'),\n",
       " (0.0085770617340360199, 'yes'),\n",
       " (0.0067406921309349291, 'cellular'),\n",
       " (0.0065861882178306188, 'telephone'),\n",
       " (0.0035037241987030958, 'apr'),\n",
       " (0.0027008018233454644, 'aug'),\n",
       " (0.00091819310835527688, 'dec'),\n",
       " (0.0029339437312172799, 'jul'),\n",
       " (0.00315001827803058, 'jun'),\n",
       " (0.0049247662671861956, 'mar'),\n",
       " (0.0052688252517406903, 'may'),\n",
       " (0.0023671659108781477, 'nov'),\n",
       " (0.0055888732649002947, 'oct'),\n",
       " (0.0023437142546442425, 'sep'),\n",
       " (0.0099362597598994726, 'fri'),\n",
       " (0.011390284216127082, 'mon'),\n",
       " (0.011025836792515079, 'thu'),\n",
       " (0.010635607636562634, 'tue'),\n",
       " (0.010687968845811757, 'wed'),\n",
       " (0.0063324505863896641, 'failure'),\n",
       " (0.0076478447774014739, 'nonexistent'),\n",
       " (0.019006256575851841, 'success'),\n",
       " (0.079679654457714189, 'age'),\n",
       " (0.27963695345550627, 'duration'),\n",
       " (0.038892971156918629, 'campaign'),\n",
       " (0.030727477710505494, 'pdays'),\n",
       " (0.011741806744485168, 'previous'),\n",
       " (0.023310511671754255, 'emp.var.rate'),\n",
       " (0.023711158181849067, 'cons.price.idx'),\n",
       " (0.027582126410065175, 'cons.conf.idx'),\n",
       " (0.093308849961632509, 'euribor3m'),\n",
       " (0.044705415354682441, 'nr.employed')]"
      ]
     },
     "execution_count": 233,
     "metadata": {},
     "output_type": "execute_result"
    }
   ],
   "source": [
    "zip(clf.feature_importances_,bank_df.drop('y', axis = 1).keys())"
   ]
  },
  {
   "cell_type": "code",
   "execution_count": null,
   "metadata": {
    "collapsed": true
   },
   "outputs": [],
   "source": []
  }
 ],
 "metadata": {
  "anaconda-cloud": {},
  "kernelspec": {
   "display_name": "Python [Root]",
   "language": "python",
   "name": "Python [Root]"
  },
  "language_info": {
   "codemirror_mode": {
    "name": "ipython",
    "version": 2
   },
   "file_extension": ".py",
   "mimetype": "text/x-python",
   "name": "python",
   "nbconvert_exporter": "python",
   "pygments_lexer": "ipython2",
   "version": "2.7.12"
  }
 },
 "nbformat": 4,
 "nbformat_minor": 0
}
