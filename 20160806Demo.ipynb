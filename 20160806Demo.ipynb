{
 "cells": [
  {
   "cell_type": "markdown",
   "metadata": {},
   "source": [
    "## 使用pandas 讀取資料"
   ]
  },
  {
   "cell_type": "code",
   "execution_count": 6,
   "metadata": {
    "collapsed": false
   },
   "outputs": [
    {
     "data": {
      "text/html": [
       "<div>\n",
       "<table border=\"1\" class=\"dataframe\">\n",
       "  <thead>\n",
       "    <tr style=\"text-align: right;\">\n",
       "      <th></th>\n",
       "      <th>djia</th>\n",
       "      <th>debt</th>\n",
       "    </tr>\n",
       "    <tr>\n",
       "      <th>Date</th>\n",
       "      <th></th>\n",
       "      <th></th>\n",
       "    </tr>\n",
       "  </thead>\n",
       "  <tbody>\n",
       "    <tr>\n",
       "      <th>2004-01-14</th>\n",
       "      <td>10485.18</td>\n",
       "      <td>0.210000</td>\n",
       "    </tr>\n",
       "    <tr>\n",
       "      <th>2004-01-22</th>\n",
       "      <td>10528.66</td>\n",
       "      <td>0.210000</td>\n",
       "    </tr>\n",
       "    <tr>\n",
       "      <th>2004-01-28</th>\n",
       "      <td>10702.51</td>\n",
       "      <td>0.210000</td>\n",
       "    </tr>\n",
       "    <tr>\n",
       "      <th>2004-02-04</th>\n",
       "      <td>10499.18</td>\n",
       "      <td>0.213333</td>\n",
       "    </tr>\n",
       "    <tr>\n",
       "      <th>2004-02-11</th>\n",
       "      <td>10579.03</td>\n",
       "      <td>0.200000</td>\n",
       "    </tr>\n",
       "  </tbody>\n",
       "</table>\n",
       "</div>"
      ],
      "text/plain": [
       "                djia      debt\n",
       "Date                          \n",
       "2004-01-14  10485.18  0.210000\n",
       "2004-01-22  10528.66  0.210000\n",
       "2004-01-28  10702.51  0.210000\n",
       "2004-02-04  10499.18  0.213333\n",
       "2004-02-11  10579.03  0.200000"
      ]
     },
     "execution_count": 6,
     "metadata": {},
     "output_type": "execute_result"
    }
   ],
   "source": [
    "import pandas as pd\n",
    "# 使用index_col => 使用Date 當做索引, parse_dates => 將資料轉換為日期格式\n",
    "data = pd.read_csv('C:\\\\Users\\\\Student\\GoogleTrendsData.csv', index_col='Date', parse_dates=True)\n",
    "data.head()"
   ]
  },
  {
   "cell_type": "code",
   "execution_count": 8,
   "metadata": {
    "collapsed": false
   },
   "outputs": [
    {
     "data": {
      "text/html": [
       "<div>\n",
       "<table border=\"1\" class=\"dataframe\">\n",
       "  <thead>\n",
       "    <tr style=\"text-align: right;\">\n",
       "      <th></th>\n",
       "      <th>djia</th>\n",
       "      <th>debt</th>\n",
       "    </tr>\n",
       "  </thead>\n",
       "  <tbody>\n",
       "    <tr>\n",
       "      <th>djia</th>\n",
       "      <td>1.000000</td>\n",
       "      <td>-0.420986</td>\n",
       "    </tr>\n",
       "    <tr>\n",
       "      <th>debt</th>\n",
       "      <td>-0.420986</td>\n",
       "      <td>1.000000</td>\n",
       "    </tr>\n",
       "  </tbody>\n",
       "</table>\n",
       "</div>"
      ],
      "text/plain": [
       "          djia      debt\n",
       "djia  1.000000 -0.420986\n",
       "debt -0.420986  1.000000"
      ]
     },
     "execution_count": 8,
     "metadata": {},
     "output_type": "execute_result"
    }
   ],
   "source": [
    "# 計算相關係數\n",
    "data.corr()"
   ]
  },
  {
   "cell_type": "code",
   "execution_count": 9,
   "metadata": {
    "collapsed": false
   },
   "outputs": [
    {
     "data": {
      "text/html": [
       "<div>\n",
       "<table border=\"1\" class=\"dataframe\">\n",
       "  <thead>\n",
       "    <tr style=\"text-align: right;\">\n",
       "      <th></th>\n",
       "      <th>djia</th>\n",
       "      <th>debt</th>\n",
       "    </tr>\n",
       "  </thead>\n",
       "  <tbody>\n",
       "    <tr>\n",
       "      <th>count</th>\n",
       "      <td>373.000000</td>\n",
       "      <td>373.000000</td>\n",
       "    </tr>\n",
       "    <tr>\n",
       "      <th>mean</th>\n",
       "      <td>10915.364504</td>\n",
       "      <td>0.195389</td>\n",
       "    </tr>\n",
       "    <tr>\n",
       "      <th>std</th>\n",
       "      <td>1432.781912</td>\n",
       "      <td>0.027646</td>\n",
       "    </tr>\n",
       "    <tr>\n",
       "      <th>min</th>\n",
       "      <td>6547.050000</td>\n",
       "      <td>0.120000</td>\n",
       "    </tr>\n",
       "    <tr>\n",
       "      <th>25%</th>\n",
       "      <td>10238.220000</td>\n",
       "      <td>0.180000</td>\n",
       "    </tr>\n",
       "    <tr>\n",
       "      <th>50%</th>\n",
       "      <td>10725.430000</td>\n",
       "      <td>0.190000</td>\n",
       "    </tr>\n",
       "    <tr>\n",
       "      <th>75%</th>\n",
       "      <td>11857.810000</td>\n",
       "      <td>0.210000</td>\n",
       "    </tr>\n",
       "    <tr>\n",
       "      <th>max</th>\n",
       "      <td>14087.550000</td>\n",
       "      <td>0.316667</td>\n",
       "    </tr>\n",
       "  </tbody>\n",
       "</table>\n",
       "</div>"
      ],
      "text/plain": [
       "               djia        debt\n",
       "count    373.000000  373.000000\n",
       "mean   10915.364504    0.195389\n",
       "std     1432.781912    0.027646\n",
       "min     6547.050000    0.120000\n",
       "25%    10238.220000    0.180000\n",
       "50%    10725.430000    0.190000\n",
       "75%    11857.810000    0.210000\n",
       "max    14087.550000    0.316667"
      ]
     },
     "execution_count": 9,
     "metadata": {},
     "output_type": "execute_result"
    }
   ],
   "source": [
    "# 觀察數據輪廓\n",
    "data.describe()"
   ]
  },
  {
   "cell_type": "code",
   "execution_count": 11,
   "metadata": {
    "collapsed": false
   },
   "outputs": [
    {
     "name": "stdout",
     "output_type": "stream",
     "text": [
      "<class 'pandas.core.frame.DataFrame'>\n",
      "DatetimeIndex: 373 entries, 2004-01-14 to 2011-03-02\n",
      "Data columns (total 2 columns):\n",
      "djia    373 non-null float64\n",
      "debt    373 non-null float64\n",
      "dtypes: float64(2)\n",
      "memory usage: 8.7 KB\n"
     ]
    }
   ],
   "source": [
    "#列出DataFrame 的資訊\n",
    "data.info()"
   ]
  },
  {
   "cell_type": "markdown",
   "metadata": {},
   "source": [
    "## 繪製GoogleTrend 與股價的關係"
   ]
  },
  {
   "cell_type": "code",
   "execution_count": 12,
   "metadata": {
    "collapsed": false
   },
   "outputs": [
    {
     "name": "stdout",
     "output_type": "stream",
     "text": [
      "Populating the interactive namespace from numpy and matplotlib\n"
     ]
    },
    {
     "data": {
      "text/plain": [
       "array([<matplotlib.axes._subplots.AxesSubplot object at 0x0000000009F85978>,\n",
       "       <matplotlib.axes._subplots.AxesSubplot object at 0x000000000A13B0B8>], dtype=object)"
      ]
     },
     "execution_count": 12,
     "metadata": {},
     "output_type": "execute_result"
    },
    {
     "data": {
      "image/png": "[encoded data removed]",
      "text/plain": [
       "<matplotlib.figure.Figure at 0x9f85208>"
      ]
     },
     "metadata": {},
     "output_type": "display_data"
    }
   ],
   "source": [
    "%pylab inline #讓我們的圖表在Jupyter Notebook 中產生\n",
    "data.plot(subplots=True) # subplots 將所有數據畫在同一張圖上"
   ]
  },
  {
   "cell_type": "markdown",
   "metadata": {},
   "source": [
    "## 算出Search Word 三週的移動平均"
   ]
  },
  {
   "cell_type": "code",
   "execution_count": 13,
   "metadata": {
    "collapsed": false
   },
   "outputs": [
    {
     "name": "stderr",
     "output_type": "stream",
     "text": [
      "C:\\Users\\Student\\Anaconda2\\lib\\site-packages\\ipykernel\\__main__.py:2: FutureWarning: pd.rolling_mean is deprecated for Series and will be removed in a future version, replace with \n",
      "\tSeries.rolling(window=3,center=False).mean()\n",
      "  from ipykernel import kernelapp as app\n"
     ]
    },
    {
     "data": {
      "text/html": [
       "<div>\n",
       "<table border=\"1\" class=\"dataframe\">\n",
       "  <thead>\n",
       "    <tr style=\"text-align: right;\">\n",
       "      <th></th>\n",
       "      <th>djia</th>\n",
       "      <th>debt</th>\n",
       "      <th>debt_mavg</th>\n",
       "    </tr>\n",
       "    <tr>\n",
       "      <th>Date</th>\n",
       "      <th></th>\n",
       "      <th></th>\n",
       "      <th></th>\n",
       "    </tr>\n",
       "  </thead>\n",
       "  <tbody>\n",
       "    <tr>\n",
       "      <th>2004-01-14</th>\n",
       "      <td>10485.18</td>\n",
       "      <td>0.210000</td>\n",
       "      <td>NaN</td>\n",
       "    </tr>\n",
       "    <tr>\n",
       "      <th>2004-01-22</th>\n",
       "      <td>10528.66</td>\n",
       "      <td>0.210000</td>\n",
       "      <td>NaN</td>\n",
       "    </tr>\n",
       "    <tr>\n",
       "      <th>2004-01-28</th>\n",
       "      <td>10702.51</td>\n",
       "      <td>0.210000</td>\n",
       "      <td>0.210000</td>\n",
       "    </tr>\n",
       "    <tr>\n",
       "      <th>2004-02-04</th>\n",
       "      <td>10499.18</td>\n",
       "      <td>0.213333</td>\n",
       "      <td>0.211111</td>\n",
       "    </tr>\n",
       "    <tr>\n",
       "      <th>2004-02-11</th>\n",
       "      <td>10579.03</td>\n",
       "      <td>0.200000</td>\n",
       "      <td>0.207778</td>\n",
       "    </tr>\n",
       "  </tbody>\n",
       "</table>\n",
       "</div>"
      ],
      "text/plain": [
       "                djia      debt  debt_mavg\n",
       "Date                                     \n",
       "2004-01-14  10485.18  0.210000        NaN\n",
       "2004-01-22  10528.66  0.210000        NaN\n",
       "2004-01-28  10702.51  0.210000   0.210000\n",
       "2004-02-04  10499.18  0.213333   0.211111\n",
       "2004-02-11  10579.03  0.200000   0.207778"
      ]
     },
     "execution_count": 13,
     "metadata": {},
     "output_type": "execute_result"
    }
   ],
   "source": [
    "#因為我們的日期區間是一星期，　所以rolling_mean 參數為3 代表取三週移動平均\n",
    "data['debt_mavg'] = pd.rolling_mean(data.debt, 3) \n",
    "data.head()"
   ]
  },
  {
   "cell_type": "code",
   "execution_count": 18,
   "metadata": {
    "collapsed": false
   },
   "outputs": [
    {
     "name": "stdout",
     "output_type": "stream",
     "text": [
      "Populating the interactive namespace from numpy and matplotlib\n"
     ]
    },
    {
     "data": {
      "text/plain": [
       "<matplotlib.axes._subplots.AxesSubplot at 0xa6a3208>"
      ]
     },
     "execution_count": 18,
     "metadata": {},
     "output_type": "execute_result"
    },
    {
     "data": {
      "image/png": "[encoded data removed]",
      "text/plain": [
       "<matplotlib.figure.Figure at 0xa9a71d0>"
      ]
     },
     "metadata": {},
     "output_type": "display_data"
    }
   ],
   "source": [
    "%pylab inline \n",
    "data[['debt','debt_mavg']].plot(figsize=[20,20])"
   ]
  },
  {
   "cell_type": "markdown",
   "metadata": {},
   "source": [
    "## 將三週平均資料平移一天"
   ]
  },
  {
   "cell_type": "code",
   "execution_count": 19,
   "metadata": {
    "collapsed": false
   },
   "outputs": [
    {
     "data": {
      "text/html": [
       "<div>\n",
       "<table border=\"1\" class=\"dataframe\">\n",
       "  <thead>\n",
       "    <tr style=\"text-align: right;\">\n",
       "      <th></th>\n",
       "      <th>djia</th>\n",
       "      <th>debt</th>\n",
       "      <th>debt_mavg</th>\n",
       "    </tr>\n",
       "    <tr>\n",
       "      <th>Date</th>\n",
       "      <th></th>\n",
       "      <th></th>\n",
       "      <th></th>\n",
       "    </tr>\n",
       "  </thead>\n",
       "  <tbody>\n",
       "    <tr>\n",
       "      <th>2004-01-14</th>\n",
       "      <td>10485.18</td>\n",
       "      <td>0.210000</td>\n",
       "      <td>NaN</td>\n",
       "    </tr>\n",
       "    <tr>\n",
       "      <th>2004-01-22</th>\n",
       "      <td>10528.66</td>\n",
       "      <td>0.210000</td>\n",
       "      <td>NaN</td>\n",
       "    </tr>\n",
       "    <tr>\n",
       "      <th>2004-01-28</th>\n",
       "      <td>10702.51</td>\n",
       "      <td>0.210000</td>\n",
       "      <td>NaN</td>\n",
       "    </tr>\n",
       "    <tr>\n",
       "      <th>2004-02-04</th>\n",
       "      <td>10499.18</td>\n",
       "      <td>0.213333</td>\n",
       "      <td>0.210000</td>\n",
       "    </tr>\n",
       "    <tr>\n",
       "      <th>2004-02-11</th>\n",
       "      <td>10579.03</td>\n",
       "      <td>0.200000</td>\n",
       "      <td>0.211111</td>\n",
       "    </tr>\n",
       "    <tr>\n",
       "      <th>2004-02-19</th>\n",
       "      <td>10714.88</td>\n",
       "      <td>0.203333</td>\n",
       "      <td>0.207778</td>\n",
       "    </tr>\n",
       "    <tr>\n",
       "      <th>2004-02-25</th>\n",
       "      <td>10609.62</td>\n",
       "      <td>0.200000</td>\n",
       "      <td>0.205555</td>\n",
       "    </tr>\n",
       "    <tr>\n",
       "      <th>2004-03-03</th>\n",
       "      <td>10678.14</td>\n",
       "      <td>0.200000</td>\n",
       "      <td>0.201111</td>\n",
       "    </tr>\n",
       "    <tr>\n",
       "      <th>2004-03-10</th>\n",
       "      <td>10529.48</td>\n",
       "      <td>0.196667</td>\n",
       "      <td>0.201111</td>\n",
       "    </tr>\n",
       "    <tr>\n",
       "      <th>2004-03-17</th>\n",
       "      <td>10102.89</td>\n",
       "      <td>0.196667</td>\n",
       "      <td>0.198889</td>\n",
       "    </tr>\n",
       "  </tbody>\n",
       "</table>\n",
       "</div>"
      ],
      "text/plain": [
       "                djia      debt  debt_mavg\n",
       "Date                                     \n",
       "2004-01-14  10485.18  0.210000        NaN\n",
       "2004-01-22  10528.66  0.210000        NaN\n",
       "2004-01-28  10702.51  0.210000        NaN\n",
       "2004-02-04  10499.18  0.213333   0.210000\n",
       "2004-02-11  10579.03  0.200000   0.211111\n",
       "2004-02-19  10714.88  0.203333   0.207778\n",
       "2004-02-25  10609.62  0.200000   0.205555\n",
       "2004-03-03  10678.14  0.200000   0.201111\n",
       "2004-03-10  10529.48  0.196667   0.201111\n",
       "2004-03-17  10102.89  0.196667   0.198889"
      ]
     },
     "execution_count": 19,
     "metadata": {},
     "output_type": "execute_result"
    }
   ],
   "source": [
    "data['debt_mavg'] = data.debt_mavg.shift(1)\n",
    "data.head(10)"
   ]
  },
  {
   "cell_type": "code",
   "execution_count": 20,
   "metadata": {
    "collapsed": false
   },
   "outputs": [
    {
     "name": "stdout",
     "output_type": "stream",
     "text": [
      "Populating the interactive namespace from numpy and matplotlib\n"
     ]
    },
    {
     "data": {
      "text/plain": [
       "<matplotlib.axes._subplots.AxesSubplot at 0xa6a33c8>"
      ]
     },
     "execution_count": 20,
     "metadata": {},
     "output_type": "execute_result"
    },
    {
     "data": {
      "image/png": "[encoded data removed]",
      "text/plain": [
       "<matplotlib.figure.Figure at 0xab6ca20>"
      ]
     },
     "metadata": {},
     "output_type": "display_data"
    }
   ],
   "source": [
    "%pylab inline \n",
    "data[['debt','debt_mavg']].plot(figsize=[20,20])"
   ]
  },
  {
   "cell_type": "markdown",
   "metadata": {},
   "source": [
    "## 設定買賣策略"
   ]
  },
  {
   "cell_type": "code",
   "execution_count": 21,
   "metadata": {
    "collapsed": true
   },
   "outputs": [],
   "source": [
    "data['order'] = 0"
   ]
  },
  {
   "cell_type": "code",
   "execution_count": 23,
   "metadata": {
    "collapsed": false
   },
   "outputs": [
    {
     "data": {
      "text/html": [
       "<div>\n",
       "<table border=\"1\" class=\"dataframe\">\n",
       "  <thead>\n",
       "    <tr style=\"text-align: right;\">\n",
       "      <th></th>\n",
       "      <th>djia</th>\n",
       "      <th>debt</th>\n",
       "      <th>debt_mavg</th>\n",
       "      <th>order</th>\n",
       "    </tr>\n",
       "    <tr>\n",
       "      <th>Date</th>\n",
       "      <th></th>\n",
       "      <th></th>\n",
       "      <th></th>\n",
       "      <th></th>\n",
       "    </tr>\n",
       "  </thead>\n",
       "  <tbody>\n",
       "    <tr>\n",
       "      <th>2004-01-14</th>\n",
       "      <td>10485.18</td>\n",
       "      <td>0.210000</td>\n",
       "      <td>NaN</td>\n",
       "      <td>0</td>\n",
       "    </tr>\n",
       "    <tr>\n",
       "      <th>2004-01-22</th>\n",
       "      <td>10528.66</td>\n",
       "      <td>0.210000</td>\n",
       "      <td>NaN</td>\n",
       "      <td>0</td>\n",
       "    </tr>\n",
       "    <tr>\n",
       "      <th>2004-01-28</th>\n",
       "      <td>10702.51</td>\n",
       "      <td>0.210000</td>\n",
       "      <td>NaN</td>\n",
       "      <td>0</td>\n",
       "    </tr>\n",
       "    <tr>\n",
       "      <th>2004-02-04</th>\n",
       "      <td>10499.18</td>\n",
       "      <td>0.213333</td>\n",
       "      <td>0.210000</td>\n",
       "      <td>0</td>\n",
       "    </tr>\n",
       "    <tr>\n",
       "      <th>2004-02-11</th>\n",
       "      <td>10579.03</td>\n",
       "      <td>0.200000</td>\n",
       "      <td>0.211111</td>\n",
       "      <td>0</td>\n",
       "    </tr>\n",
       "  </tbody>\n",
       "</table>\n",
       "</div>"
      ],
      "text/plain": [
       "                djia      debt  debt_mavg  order\n",
       "Date                                            \n",
       "2004-01-14  10485.18  0.210000        NaN      0\n",
       "2004-01-22  10528.66  0.210000        NaN      0\n",
       "2004-01-28  10702.51  0.210000        NaN      0\n",
       "2004-02-04  10499.18  0.213333   0.210000      0\n",
       "2004-02-11  10579.03  0.200000   0.211111      0"
      ]
     },
     "execution_count": 23,
     "metadata": {},
     "output_type": "execute_result"
    }
   ],
   "source": [
    "data.head()"
   ]
  },
  {
   "cell_type": "code",
   "execution_count": 26,
   "metadata": {
    "collapsed": false
   },
   "outputs": [],
   "source": [
    "#data.debt > data.debt_mavg"
   ]
  },
  {
   "cell_type": "code",
   "execution_count": 27,
   "metadata": {
    "collapsed": false
   },
   "outputs": [
    {
     "name": "stderr",
     "output_type": "stream",
     "text": [
      "C:\\Users\\Student\\Anaconda2\\lib\\site-packages\\ipykernel\\__main__.py:2: SettingWithCopyWarning: \n",
      "A value is trying to be set on a copy of a slice from a DataFrame\n",
      "\n",
      "See the caveats in the documentation: http://pandas.pydata.org/pandas-docs/stable/indexing.html#indexing-view-versus-copy\n",
      "  from ipykernel import kernelapp as app\n",
      "C:\\Users\\Student\\Anaconda2\\lib\\site-packages\\ipykernel\\__main__.py:4: SettingWithCopyWarning: \n",
      "A value is trying to be set on a copy of a slice from a DataFrame\n",
      "\n",
      "See the caveats in the documentation: http://pandas.pydata.org/pandas-docs/stable/indexing.html#indexing-view-versus-copy\n"
     ]
    },
    {
     "data": {
      "text/html": [
       "<div>\n",
       "<table border=\"1\" class=\"dataframe\">\n",
       "  <thead>\n",
       "    <tr style=\"text-align: right;\">\n",
       "      <th></th>\n",
       "      <th>djia</th>\n",
       "      <th>debt</th>\n",
       "      <th>debt_mavg</th>\n",
       "      <th>order</th>\n",
       "    </tr>\n",
       "    <tr>\n",
       "      <th>Date</th>\n",
       "      <th></th>\n",
       "      <th></th>\n",
       "      <th></th>\n",
       "      <th></th>\n",
       "    </tr>\n",
       "  </thead>\n",
       "  <tbody>\n",
       "    <tr>\n",
       "      <th>2004-01-14</th>\n",
       "      <td>10485.18</td>\n",
       "      <td>0.210000</td>\n",
       "      <td>NaN</td>\n",
       "      <td>0</td>\n",
       "    </tr>\n",
       "    <tr>\n",
       "      <th>2004-01-22</th>\n",
       "      <td>10528.66</td>\n",
       "      <td>0.210000</td>\n",
       "      <td>NaN</td>\n",
       "      <td>0</td>\n",
       "    </tr>\n",
       "    <tr>\n",
       "      <th>2004-01-28</th>\n",
       "      <td>10702.51</td>\n",
       "      <td>0.210000</td>\n",
       "      <td>NaN</td>\n",
       "      <td>0</td>\n",
       "    </tr>\n",
       "    <tr>\n",
       "      <th>2004-02-04</th>\n",
       "      <td>10499.18</td>\n",
       "      <td>0.213333</td>\n",
       "      <td>0.210000</td>\n",
       "      <td>-1</td>\n",
       "    </tr>\n",
       "    <tr>\n",
       "      <th>2004-02-11</th>\n",
       "      <td>10579.03</td>\n",
       "      <td>0.200000</td>\n",
       "      <td>0.211111</td>\n",
       "      <td>1</td>\n",
       "    </tr>\n",
       "    <tr>\n",
       "      <th>2004-02-19</th>\n",
       "      <td>10714.88</td>\n",
       "      <td>0.203333</td>\n",
       "      <td>0.207778</td>\n",
       "      <td>1</td>\n",
       "    </tr>\n",
       "    <tr>\n",
       "      <th>2004-02-25</th>\n",
       "      <td>10609.62</td>\n",
       "      <td>0.200000</td>\n",
       "      <td>0.205555</td>\n",
       "      <td>1</td>\n",
       "    </tr>\n",
       "    <tr>\n",
       "      <th>2004-03-03</th>\n",
       "      <td>10678.14</td>\n",
       "      <td>0.200000</td>\n",
       "      <td>0.201111</td>\n",
       "      <td>1</td>\n",
       "    </tr>\n",
       "    <tr>\n",
       "      <th>2004-03-10</th>\n",
       "      <td>10529.48</td>\n",
       "      <td>0.196667</td>\n",
       "      <td>0.201111</td>\n",
       "      <td>1</td>\n",
       "    </tr>\n",
       "    <tr>\n",
       "      <th>2004-03-17</th>\n",
       "      <td>10102.89</td>\n",
       "      <td>0.196667</td>\n",
       "      <td>0.198889</td>\n",
       "      <td>1</td>\n",
       "    </tr>\n",
       "  </tbody>\n",
       "</table>\n",
       "</div>"
      ],
      "text/plain": [
       "                djia      debt  debt_mavg  order\n",
       "Date                                            \n",
       "2004-01-14  10485.18  0.210000        NaN      0\n",
       "2004-01-22  10528.66  0.210000        NaN      0\n",
       "2004-01-28  10702.51  0.210000        NaN      0\n",
       "2004-02-04  10499.18  0.213333   0.210000     -1\n",
       "2004-02-11  10579.03  0.200000   0.211111      1\n",
       "2004-02-19  10714.88  0.203333   0.207778      1\n",
       "2004-02-25  10609.62  0.200000   0.205555      1\n",
       "2004-03-03  10678.14  0.200000   0.201111      1\n",
       "2004-03-10  10529.48  0.196667   0.201111      1\n",
       "2004-03-17  10102.89  0.196667   0.198889      1"
      ]
     },
     "execution_count": 27,
     "metadata": {},
     "output_type": "execute_result"
    }
   ],
   "source": [
    "# Debt Term 黃金交叉賣出\n",
    "data['order'][data.debt > data.debt_mavg] = -1 \n",
    "# Debt Term 死亡交叉買進\n",
    "data['order'][data.debt < data.debt_mavg] = 1\n",
    "data.head(10)"
   ]
  },
  {
   "cell_type": "markdown",
   "metadata": {},
   "source": [
    "## 計算道瓊報酬"
   ]
  },
  {
   "cell_type": "code",
   "execution_count": 31,
   "metadata": {
    "collapsed": false
   },
   "outputs": [],
   "source": [
    "d1 = data.djia.pct_change() # 算出每週報酬\n",
    "d2 = data.djia / data.djia.shift(1) - 1 # 算出每週報酬"
   ]
  },
  {
   "cell_type": "code",
   "execution_count": 32,
   "metadata": {
    "collapsed": false
   },
   "outputs": [
    {
     "data": {
      "text/plain": [
       "Date\n",
       "2004-01-14         NaN\n",
       "2004-01-22    0.004147\n",
       "2004-01-28    0.016512\n",
       "2004-02-04   -0.018998\n",
       "2004-02-11    0.007605\n",
       "Name: djia, dtype: float64"
      ]
     },
     "execution_count": 32,
     "metadata": {},
     "output_type": "execute_result"
    }
   ],
   "source": [
    "d1.head()"
   ]
  },
  {
   "cell_type": "code",
   "execution_count": 33,
   "metadata": {
    "collapsed": false
   },
   "outputs": [
    {
     "data": {
      "text/plain": [
       "Date\n",
       "2004-01-14         NaN\n",
       "2004-01-22    0.004147\n",
       "2004-01-28    0.016512\n",
       "2004-02-04   -0.018998\n",
       "2004-02-11    0.007605\n",
       "Name: djia, dtype: float64"
      ]
     },
     "execution_count": 33,
     "metadata": {},
     "output_type": "execute_result"
    }
   ],
   "source": [
    "d2.head()"
   ]
  },
  {
   "cell_type": "code",
   "execution_count": 34,
   "metadata": {
    "collapsed": false
   },
   "outputs": [
    {
     "data": {
      "text/html": [
       "<div>\n",
       "<table border=\"1\" class=\"dataframe\">\n",
       "  <thead>\n",
       "    <tr style=\"text-align: right;\">\n",
       "      <th></th>\n",
       "      <th>djia</th>\n",
       "      <th>debt</th>\n",
       "      <th>debt_mavg</th>\n",
       "      <th>order</th>\n",
       "      <th>ret_djia</th>\n",
       "    </tr>\n",
       "    <tr>\n",
       "      <th>Date</th>\n",
       "      <th></th>\n",
       "      <th></th>\n",
       "      <th></th>\n",
       "      <th></th>\n",
       "      <th></th>\n",
       "    </tr>\n",
       "  </thead>\n",
       "  <tbody>\n",
       "    <tr>\n",
       "      <th>2004-01-14</th>\n",
       "      <td>10485.18</td>\n",
       "      <td>0.210000</td>\n",
       "      <td>NaN</td>\n",
       "      <td>0</td>\n",
       "      <td>NaN</td>\n",
       "    </tr>\n",
       "    <tr>\n",
       "      <th>2004-01-22</th>\n",
       "      <td>10528.66</td>\n",
       "      <td>0.210000</td>\n",
       "      <td>NaN</td>\n",
       "      <td>0</td>\n",
       "      <td>0.004147</td>\n",
       "    </tr>\n",
       "    <tr>\n",
       "      <th>2004-01-28</th>\n",
       "      <td>10702.51</td>\n",
       "      <td>0.210000</td>\n",
       "      <td>NaN</td>\n",
       "      <td>0</td>\n",
       "      <td>0.016512</td>\n",
       "    </tr>\n",
       "    <tr>\n",
       "      <th>2004-02-04</th>\n",
       "      <td>10499.18</td>\n",
       "      <td>0.213333</td>\n",
       "      <td>0.210000</td>\n",
       "      <td>-1</td>\n",
       "      <td>-0.018998</td>\n",
       "    </tr>\n",
       "    <tr>\n",
       "      <th>2004-02-11</th>\n",
       "      <td>10579.03</td>\n",
       "      <td>0.200000</td>\n",
       "      <td>0.211111</td>\n",
       "      <td>1</td>\n",
       "      <td>0.007605</td>\n",
       "    </tr>\n",
       "  </tbody>\n",
       "</table>\n",
       "</div>"
      ],
      "text/plain": [
       "                djia      debt  debt_mavg  order  ret_djia\n",
       "Date                                                      \n",
       "2004-01-14  10485.18  0.210000        NaN      0       NaN\n",
       "2004-01-22  10528.66  0.210000        NaN      0  0.004147\n",
       "2004-01-28  10702.51  0.210000        NaN      0  0.016512\n",
       "2004-02-04  10499.18  0.213333   0.210000     -1 -0.018998\n",
       "2004-02-11  10579.03  0.200000   0.211111      1  0.007605"
      ]
     },
     "execution_count": 34,
     "metadata": {},
     "output_type": "execute_result"
    }
   ],
   "source": [
    "data['ret_djia'] = data.djia.pct_change()\n",
    "data.head()"
   ]
  },
  {
   "cell_type": "markdown",
   "metadata": {},
   "source": [
    "## 根據買賣日調整"
   ]
  },
  {
   "cell_type": "code",
   "execution_count": 35,
   "metadata": {
    "collapsed": true
   },
   "outputs": [],
   "source": [
    "data['ret_djia'] = data['ret_djia'].shift(-1)"
   ]
  },
  {
   "cell_type": "code",
   "execution_count": 37,
   "metadata": {
    "collapsed": false
   },
   "outputs": [
    {
     "data": {
      "text/html": [
       "<div>\n",
       "<table border=\"1\" class=\"dataframe\">\n",
       "  <thead>\n",
       "    <tr style=\"text-align: right;\">\n",
       "      <th></th>\n",
       "      <th>djia</th>\n",
       "      <th>debt</th>\n",
       "      <th>debt_mavg</th>\n",
       "      <th>order</th>\n",
       "      <th>ret_djia</th>\n",
       "    </tr>\n",
       "    <tr>\n",
       "      <th>Date</th>\n",
       "      <th></th>\n",
       "      <th></th>\n",
       "      <th></th>\n",
       "      <th></th>\n",
       "      <th></th>\n",
       "    </tr>\n",
       "  </thead>\n",
       "  <tbody>\n",
       "    <tr>\n",
       "      <th>2004-01-14</th>\n",
       "      <td>10485.18</td>\n",
       "      <td>0.210000</td>\n",
       "      <td>NaN</td>\n",
       "      <td>0</td>\n",
       "      <td>0.004147</td>\n",
       "    </tr>\n",
       "    <tr>\n",
       "      <th>2004-01-22</th>\n",
       "      <td>10528.66</td>\n",
       "      <td>0.210000</td>\n",
       "      <td>NaN</td>\n",
       "      <td>0</td>\n",
       "      <td>0.016512</td>\n",
       "    </tr>\n",
       "    <tr>\n",
       "      <th>2004-01-28</th>\n",
       "      <td>10702.51</td>\n",
       "      <td>0.210000</td>\n",
       "      <td>NaN</td>\n",
       "      <td>0</td>\n",
       "      <td>-0.018998</td>\n",
       "    </tr>\n",
       "    <tr>\n",
       "      <th>2004-02-04</th>\n",
       "      <td>10499.18</td>\n",
       "      <td>0.213333</td>\n",
       "      <td>0.210000</td>\n",
       "      <td>-1</td>\n",
       "      <td>0.007605</td>\n",
       "    </tr>\n",
       "    <tr>\n",
       "      <th>2004-02-11</th>\n",
       "      <td>10579.03</td>\n",
       "      <td>0.200000</td>\n",
       "      <td>0.211111</td>\n",
       "      <td>1</td>\n",
       "      <td>0.012841</td>\n",
       "    </tr>\n",
       "  </tbody>\n",
       "</table>\n",
       "</div>"
      ],
      "text/plain": [
       "                djia      debt  debt_mavg  order  ret_djia\n",
       "Date                                                      \n",
       "2004-01-14  10485.18  0.210000        NaN      0  0.004147\n",
       "2004-01-22  10528.66  0.210000        NaN      0  0.016512\n",
       "2004-01-28  10702.51  0.210000        NaN      0 -0.018998\n",
       "2004-02-04  10499.18  0.213333   0.210000     -1  0.007605\n",
       "2004-02-11  10579.03  0.200000   0.211111      1  0.012841"
      ]
     },
     "execution_count": 37,
     "metadata": {},
     "output_type": "execute_result"
    }
   ],
   "source": [
    "data.head()"
   ]
  },
  {
   "cell_type": "code",
   "execution_count": 38,
   "metadata": {
    "collapsed": false
   },
   "outputs": [
    {
     "data": {
      "text/html": [
       "<div>\n",
       "<table border=\"1\" class=\"dataframe\">\n",
       "  <thead>\n",
       "    <tr style=\"text-align: right;\">\n",
       "      <th></th>\n",
       "      <th>djia</th>\n",
       "      <th>debt</th>\n",
       "      <th>debt_mavg</th>\n",
       "      <th>order</th>\n",
       "      <th>ret_djia</th>\n",
       "      <th>ret_google</th>\n",
       "    </tr>\n",
       "    <tr>\n",
       "      <th>Date</th>\n",
       "      <th></th>\n",
       "      <th></th>\n",
       "      <th></th>\n",
       "      <th></th>\n",
       "      <th></th>\n",
       "      <th></th>\n",
       "    </tr>\n",
       "  </thead>\n",
       "  <tbody>\n",
       "    <tr>\n",
       "      <th>2004-01-14</th>\n",
       "      <td>10485.18</td>\n",
       "      <td>0.210000</td>\n",
       "      <td>NaN</td>\n",
       "      <td>0</td>\n",
       "      <td>0.004147</td>\n",
       "      <td>0.000000</td>\n",
       "    </tr>\n",
       "    <tr>\n",
       "      <th>2004-01-22</th>\n",
       "      <td>10528.66</td>\n",
       "      <td>0.210000</td>\n",
       "      <td>NaN</td>\n",
       "      <td>0</td>\n",
       "      <td>0.016512</td>\n",
       "      <td>0.000000</td>\n",
       "    </tr>\n",
       "    <tr>\n",
       "      <th>2004-01-28</th>\n",
       "      <td>10702.51</td>\n",
       "      <td>0.210000</td>\n",
       "      <td>NaN</td>\n",
       "      <td>0</td>\n",
       "      <td>-0.018998</td>\n",
       "      <td>-0.000000</td>\n",
       "    </tr>\n",
       "    <tr>\n",
       "      <th>2004-02-04</th>\n",
       "      <td>10499.18</td>\n",
       "      <td>0.213333</td>\n",
       "      <td>0.210000</td>\n",
       "      <td>-1</td>\n",
       "      <td>0.007605</td>\n",
       "      <td>-0.007605</td>\n",
       "    </tr>\n",
       "    <tr>\n",
       "      <th>2004-02-11</th>\n",
       "      <td>10579.03</td>\n",
       "      <td>0.200000</td>\n",
       "      <td>0.211111</td>\n",
       "      <td>1</td>\n",
       "      <td>0.012841</td>\n",
       "      <td>0.012841</td>\n",
       "    </tr>\n",
       "    <tr>\n",
       "      <th>2004-02-19</th>\n",
       "      <td>10714.88</td>\n",
       "      <td>0.203333</td>\n",
       "      <td>0.207778</td>\n",
       "      <td>1</td>\n",
       "      <td>-0.009824</td>\n",
       "      <td>-0.009824</td>\n",
       "    </tr>\n",
       "    <tr>\n",
       "      <th>2004-02-25</th>\n",
       "      <td>10609.62</td>\n",
       "      <td>0.200000</td>\n",
       "      <td>0.205555</td>\n",
       "      <td>1</td>\n",
       "      <td>0.006458</td>\n",
       "      <td>0.006458</td>\n",
       "    </tr>\n",
       "    <tr>\n",
       "      <th>2004-03-03</th>\n",
       "      <td>10678.14</td>\n",
       "      <td>0.200000</td>\n",
       "      <td>0.201111</td>\n",
       "      <td>1</td>\n",
       "      <td>-0.013922</td>\n",
       "      <td>-0.013922</td>\n",
       "    </tr>\n",
       "    <tr>\n",
       "      <th>2004-03-10</th>\n",
       "      <td>10529.48</td>\n",
       "      <td>0.196667</td>\n",
       "      <td>0.201111</td>\n",
       "      <td>1</td>\n",
       "      <td>-0.040514</td>\n",
       "      <td>-0.040514</td>\n",
       "    </tr>\n",
       "    <tr>\n",
       "      <th>2004-03-17</th>\n",
       "      <td>10102.89</td>\n",
       "      <td>0.196667</td>\n",
       "      <td>0.198889</td>\n",
       "      <td>1</td>\n",
       "      <td>-0.003775</td>\n",
       "      <td>-0.003775</td>\n",
       "    </tr>\n",
       "  </tbody>\n",
       "</table>\n",
       "</div>"
      ],
      "text/plain": [
       "                djia      debt  debt_mavg  order  ret_djia  ret_google\n",
       "Date                                                                  \n",
       "2004-01-14  10485.18  0.210000        NaN      0  0.004147    0.000000\n",
       "2004-01-22  10528.66  0.210000        NaN      0  0.016512    0.000000\n",
       "2004-01-28  10702.51  0.210000        NaN      0 -0.018998   -0.000000\n",
       "2004-02-04  10499.18  0.213333   0.210000     -1  0.007605   -0.007605\n",
       "2004-02-11  10579.03  0.200000   0.211111      1  0.012841    0.012841\n",
       "2004-02-19  10714.88  0.203333   0.207778      1 -0.009824   -0.009824\n",
       "2004-02-25  10609.62  0.200000   0.205555      1  0.006458    0.006458\n",
       "2004-03-03  10678.14  0.200000   0.201111      1 -0.013922   -0.013922\n",
       "2004-03-10  10529.48  0.196667   0.201111      1 -0.040514   -0.040514\n",
       "2004-03-17  10102.89  0.196667   0.198889      1 -0.003775   -0.003775"
      ]
     },
     "execution_count": 38,
     "metadata": {},
     "output_type": "execute_result"
    }
   ],
   "source": [
    "data['ret_google'] = data.order * data.ret_djia\n",
    "data.head(10)"
   ]
  },
  {
   "cell_type": "code",
   "execution_count": 40,
   "metadata": {
    "collapsed": false
   },
   "outputs": [
    {
     "data": {
      "text/plain": [
       "Date\n",
       "2004-01-14    0.000000\n",
       "2004-01-22    0.000000\n",
       "2004-01-28   -0.000000\n",
       "2004-02-04   -0.007605\n",
       "2004-02-11    0.012841\n",
       "Name: ret_google, dtype: float64"
      ]
     },
     "execution_count": 40,
     "metadata": {},
     "output_type": "execute_result"
    }
   ],
   "source": [
    "data['ret_google'].head()"
   ]
  },
  {
   "cell_type": "code",
   "execution_count": 43,
   "metadata": {
    "collapsed": false
   },
   "outputs": [
    {
     "data": {
      "text/plain": [
       "Date\n",
       "2004-01-14    0.000000\n",
       "2004-01-22    0.000000\n",
       "2004-01-28   -0.000000\n",
       "2004-02-04   -0.007605\n",
       "2004-02-11    0.012841\n",
       "Name: ret_google, dtype: float64"
      ]
     },
     "execution_count": 43,
     "metadata": {},
     "output_type": "execute_result"
    }
   ],
   "source": [
    "data.ret_google.head()"
   ]
  },
  {
   "cell_type": "markdown",
   "metadata": {},
   "source": [
    "## cumprod 可以累計乘積"
   ]
  },
  {
   "cell_type": "code",
   "execution_count": 52,
   "metadata": {
    "collapsed": false
   },
   "outputs": [
    {
     "data": {
      "text/plain": [
       "0    0.70\n",
       "1    0.35\n",
       "2    0.42\n",
       "3    0.63\n",
       "Name: val, dtype: float64"
      ]
     },
     "execution_count": 52,
     "metadata": {},
     "output_type": "execute_result"
    }
   ],
   "source": [
    "df = pd.DataFrame({'val':[0.7,0.5,1.2,1.5]})\n",
    "df.val.cumprod()"
   ]
  },
  {
   "cell_type": "markdown",
   "metadata": {},
   "source": [
    "## 觀察資金變化"
   ]
  },
  {
   "cell_type": "code",
   "execution_count": 54,
   "metadata": {
    "collapsed": false
   },
   "outputs": [
    {
     "data": {
      "image/png": "[encoded data removed]",
      "text/plain": [
       "<matplotlib.figure.Figure at 0xc063c18>"
      ]
     },
     "metadata": {},
     "output_type": "display_data"
    }
   ],
   "source": [
    "(1 + data.ret_google).cumprod().plot();\n",
    "(1 + data.ret_djia).cumprod().plot();"
   ]
  },
  {
   "cell_type": "markdown",
   "metadata": {},
   "source": [
    "## 抓取 Google Trend 的資料"
   ]
  },
  {
   "cell_type": "code",
   "execution_count": 71,
   "metadata": {
    "collapsed": false
   },
   "outputs": [
    {
     "name": "stdout",
     "output_type": "stream",
     "text": [
      "2004年1月1日 [26]\n",
      "2004年2月1日 [32]\n",
      "2004年3月1日 [33]\n",
      "2004年4月1日 [26]\n",
      "2004年5月1日 [27]\n",
      "2004年6月1日 [31]\n",
      "2004年7月1日 [31]\n",
      "2004年8月1日 [36]\n",
      "2004年9月1日 [34]\n",
      "2004年10月1日 [40]\n",
      "2004年11月1日 [42]\n",
      "2004年12月1日 [43]\n",
      "2005年1月1日 [39]\n",
      "2005年2月1日 [31]\n",
      "2005年3月1日 [40]\n",
      "2005年4月1日 [34]\n",
      "2005年5月1日 [29]\n",
      "2005年6月1日 [32]\n",
      "2005年7月1日 [32]\n",
      "2005年8月1日 [35]\n",
      "2005年9月1日 [34]\n",
      "2005年10月1日 [43]\n",
      "2005年11月1日 [41]\n",
      "2005年12月1日 [48]\n",
      "2006年1月1日 [32]\n",
      "2006年2月1日 [33]\n",
      "2006年3月1日 [36]\n",
      "2006年4月1日 [34]\n",
      "2006年5月1日 [27]\n",
      "2006年6月1日 [29]\n",
      "2006年7月1日 [37]\n",
      "2006年8月1日 [37]\n",
      "2006年9月1日 [35]\n",
      "2006年10月1日 [32]\n",
      "2006年11月1日 [37]\n",
      "2006年12月1日 [47]\n",
      "2007年1月1日 [47]\n",
      "2007年2月1日 [31]\n",
      "2007年3月1日 [36]\n",
      "2007年4月1日 [39]\n",
      "2007年5月1日 [29]\n",
      "2007年6月1日 [36]\n",
      "2007年7月1日 [39]\n",
      "2007年8月1日 [37]\n",
      "2007年9月1日 [37]\n",
      "2007年10月1日 [43]\n",
      "2007年11月1日 [52]\n",
      "2007年12月1日 [54]\n",
      "2008年1月1日 [53]\n",
      "2008年2月1日 [49]\n",
      "2008年3月1日 [52]\n",
      "2008年4月1日 [37]\n",
      "2008年5月1日 [35]\n",
      "2008年6月1日 [32]\n",
      "2008年7月1日 [42]\n",
      "2008年8月1日 [42]\n",
      "2008年9月1日 [47]\n",
      "2008年10月1日 [52]\n",
      "2008年11月1日 [60]\n",
      "2008年12月1日 [66]\n",
      "2009年1月1日 [51]\n",
      "2009年2月1日 [49]\n",
      "2009年3月1日 [59]\n",
      "2009年4月1日 [52]\n",
      "2009年5月1日 [43]\n",
      "2009年6月1日 [37]\n",
      "2009年7月1日 [47]\n",
      "2009年8月1日 [58]\n",
      "2009年9月1日 [52]\n",
      "2009年10月1日 [58]\n",
      "2009年11月1日 [100]\n",
      "2009年12月1日 [80]\n",
      "2010年1月1日 [63]\n",
      "2010年2月1日 [47]\n",
      "2010年3月1日 [52]\n",
      "2010年4月1日 [44]\n",
      "2010年5月1日 [34]\n",
      "2010年6月1日 [31]\n",
      "2010年7月1日 [37]\n",
      "2010年8月1日 [39]\n",
      "2010年9月1日 [45]\n",
      "2010年10月1日 [43]\n",
      "2010年11月1日 [45]\n",
      "2010年12月1日 [44]\n",
      "2011年1月1日 [54]\n",
      "2011年2月1日 [36]\n",
      "2011年3月1日 [34]\n",
      "2011年4月1日 [32]\n",
      "2011年5月1日 [24]\n",
      "2011年6月1日 [22]\n",
      "2011年7月1日 [24]\n",
      "2011年8月1日 [27]\n",
      "2011年9月1日 [31]\n",
      "2011年10月1日 [34]\n",
      "2011年11月1日 [35]\n",
      "2011年12月1日 [41]\n",
      "2012年1月1日 [37]\n",
      "2012年2月1日 [44]\n",
      "2012年3月1日 [48]\n",
      "2012年4月1日 [37]\n",
      "2012年5月1日 [34]\n",
      "2012年6月1日 [33]\n",
      "2012年7月1日 [40]\n",
      "2012年8月1日 [31]\n",
      "2012年9月1日 [21]\n",
      "2012年10月1日 [22]\n",
      "2012年11月1日 [21]\n",
      "2012年12月1日 [25]\n",
      "2013年1月1日 [28]\n",
      "2013年2月1日 [21]\n",
      "2013年3月1日 [23]\n",
      "2013年4月1日 [24]\n",
      "2013年5月1日 [18]\n",
      "2013年6月1日 [16]\n",
      "2013年7月1日 [18]\n",
      "2013年8月1日 [19]\n",
      "2013年9月1日 [22]\n",
      "2013年10月1日 [25]\n",
      "2013年11月1日 [26]\n",
      "2013年12月1日 [32]\n",
      "2014年1月1日 [33]\n",
      "2014年2月1日 [26]\n",
      "2014年3月1日 [26]\n",
      "2014年4月1日 [23]\n",
      "2014年5月1日 [21]\n",
      "2014年6月1日 [13]\n",
      "2014年7月1日 [12]\n",
      "2014年8月1日 [12]\n",
      "2014年9月1日 [13]\n",
      "2014年10月1日 [16]\n",
      "2014年11月1日 [17]\n",
      "2014年12月1日 [22]\n",
      "2015年1月1日 [23]\n",
      "2015年2月1日 [20]\n",
      "2015年3月1日 [19]\n",
      "2015年4月1日 [18]\n",
      "2015年5月1日 [16]\n",
      "2015年6月1日 [17]\n",
      "2015年7月1日 [13]\n",
      "2015年8月1日 [14]\n",
      "2015年9月1日 [18]\n",
      "2015年10月1日 [20]\n",
      "2015年11月1日 [21]\n",
      "2015年12月1日 [24]\n",
      "2016年1月1日 [25]\n",
      "2016年2月1日 [31]\n",
      "2016年3月1日 [29]\n",
      "2016年4月1日 [22]\n",
      "2016年5月1日 [20]\n",
      "2016年6月1日 [17]\n",
      "2016年7月1日 [17]\n",
      "2016年8月1日 [17]\n"
     ]
    }
   ],
   "source": [
    "import requests\n",
    "import json\n",
    "import re\n",
    "res = requests.get('https://www.google.com.tw/trends/api/widgetdata/multiline?hl=zh-TW&\\\n",
    "tz=-480&\\\n",
    "req=%7B%22time%22:%222004-01-01+2016-08-06%22,%22resolution%22:%22MONTH%22,%22\\\n",
    "locale%22:%22zh-TW%22,%22comparisonItem%22:%5B%7B%22geo%22:%7B%7D,%22\\\n",
    "complexKeywordsRestriction%22:%7B%22keyword%22:%5B%7B%22type%22:%22BROAD%22,%22\\\n",
    "value%22:%22{}%22%7D%5D%7D%7D%5D,%22requestOptions%22:%7B%22\\\n",
    "property%22:%22%22,%22backend%22:%22IZG%22,%22category%22:0%7D%7D&\\\n",
    "token=APP6_UEAAAAAV6aevLOBp-myc8Rx8qjRscf6cJ_CX8eY&tz=-480'.format('感冒'))\n",
    "\n",
    "m = re.search('(\"timelineData\":\\[.*\\]),\"averages\":.*',res.text)\n",
    "jd = json.loads('{'+m.group(1) + '}')\n",
    "for ele in jd['timelineData']:\n",
    "    print ele[u'formattedAxisTime'], ele ['value']"
   ]
  },
  {
   "cell_type": "markdown",
   "metadata": {},
   "source": [
    "## 安裝pytrends\n",
    "- pip install pytrends"
   ]
  },
  {
   "cell_type": "code",
   "execution_count": null,
   "metadata": {
    "collapsed": true
   },
   "outputs": [],
   "source": [
    "from pytrends.pyGTrends import pyGTrends\n",
    "import time\n",
    "from random import randint\n",
    "\n",
    "google_username = \"\"\n",
    "google_password = \"\"\n",
    "path = \"\"\n",
    "\n",
    "# connect to Google\n",
    "connector = pyGTrends(google_username, google_password)\n",
    "\n",
    "# make request\n",
    "connector.request_report(\"感冒\")\n",
    "\n",
    "# wait a random amount of time between requests to avoid bot detection\n",
    "time.sleep(randint(5, 10))\n",
    "\n",
    "# download file\n",
    "connector.save_csv(path, \"flu2\")"
   ]
  },
  {
   "cell_type": "markdown",
   "metadata": {},
   "source": [
    "## 讀取 Google Trend 關於感冒跟流感的資料"
   ]
  },
  {
   "cell_type": "code",
   "execution_count": 72,
   "metadata": {
    "collapsed": false
   },
   "outputs": [
    {
     "data": {
      "text/html": [
       "<div>\n",
       "<table border=\"1\" class=\"dataframe\">\n",
       "  <thead>\n",
       "    <tr style=\"text-align: right;\">\n",
       "      <th></th>\n",
       "      <th>cold</th>\n",
       "      <th>flu</th>\n",
       "    </tr>\n",
       "    <tr>\n",
       "      <th>Date</th>\n",
       "      <th></th>\n",
       "      <th></th>\n",
       "    </tr>\n",
       "  </thead>\n",
       "  <tbody>\n",
       "    <tr>\n",
       "      <th>2004-01-04</th>\n",
       "      <td>32</td>\n",
       "      <td>1</td>\n",
       "    </tr>\n",
       "    <tr>\n",
       "      <th>2004-01-11</th>\n",
       "      <td>26</td>\n",
       "      <td>1</td>\n",
       "    </tr>\n",
       "    <tr>\n",
       "      <th>2004-01-18</th>\n",
       "      <td>17</td>\n",
       "      <td>1</td>\n",
       "    </tr>\n",
       "    <tr>\n",
       "      <th>2004-01-25</th>\n",
       "      <td>26</td>\n",
       "      <td>2</td>\n",
       "    </tr>\n",
       "    <tr>\n",
       "      <th>2004-02-01</th>\n",
       "      <td>33</td>\n",
       "      <td>3</td>\n",
       "    </tr>\n",
       "  </tbody>\n",
       "</table>\n",
       "</div>"
      ],
      "text/plain": [
       "            cold  flu\n",
       "Date                 \n",
       "2004-01-04    32    1\n",
       "2004-01-11    26    1\n",
       "2004-01-18    17    1\n",
       "2004-01-25    26    2\n",
       "2004-02-01    33    3"
      ]
     },
     "execution_count": 72,
     "metadata": {},
     "output_type": "execute_result"
    }
   ],
   "source": [
    "import pandas as pd\n",
    "flu = pd.read_csv('flu.csv', index_col='Date', parse_dates=True)\n",
    "flu.head()"
   ]
  },
  {
   "cell_type": "markdown",
   "metadata": {},
   "source": [
    "## 讀取康那香 (9919)"
   ]
  },
  {
   "cell_type": "code",
   "execution_count": 73,
   "metadata": {
    "collapsed": false
   },
   "outputs": [
    {
     "name": "stderr",
     "output_type": "stream",
     "text": [
      "C:\\Users\\Student\\Anaconda2\\lib\\site-packages\\pandas\\io\\data.py:35: FutureWarning: \n",
      "The pandas.io.data module is moved to a separate package (pandas-datareader) and will be removed from pandas in a future version.\n",
      "After installing the pandas-datareader package (https://github.com/pydata/pandas-datareader), you can change the import ``from pandas.io import data, wb`` to ``from pandas_datareader import data, wb``.\n",
      "  FutureWarning)\n"
     ]
    }
   ],
   "source": [
    "import pandas.io.data\n",
    "tw9919 = pd.io.data.get_data_yahoo('9919.TW', \n",
    "                                 start=datetime.datetime(2004, 1, 1), \n",
    "                                 end=datetime.datetime(2016, 8, 6))"
   ]
  },
  {
   "cell_type": "code",
   "execution_count": 75,
   "metadata": {
    "collapsed": false
   },
   "outputs": [
    {
     "data": {
      "text/html": [
       "<div>\n",
       "<table border=\"1\" class=\"dataframe\">\n",
       "  <thead>\n",
       "    <tr style=\"text-align: right;\">\n",
       "      <th></th>\n",
       "      <th>Open</th>\n",
       "      <th>High</th>\n",
       "      <th>Low</th>\n",
       "      <th>Close</th>\n",
       "      <th>Volume</th>\n",
       "      <th>Adj Close</th>\n",
       "    </tr>\n",
       "    <tr>\n",
       "      <th>Date</th>\n",
       "      <th></th>\n",
       "      <th></th>\n",
       "      <th></th>\n",
       "      <th></th>\n",
       "      <th></th>\n",
       "      <th></th>\n",
       "    </tr>\n",
       "  </thead>\n",
       "  <tbody>\n",
       "    <tr>\n",
       "      <th>2004-01-01</th>\n",
       "      <td>14.44652</td>\n",
       "      <td>14.44652</td>\n",
       "      <td>14.44652</td>\n",
       "      <td>14.44652</td>\n",
       "      <td>0</td>\n",
       "      <td>10.37141</td>\n",
       "    </tr>\n",
       "    <tr>\n",
       "      <th>2004-01-02</th>\n",
       "      <td>14.44652</td>\n",
       "      <td>14.72796</td>\n",
       "      <td>14.25896</td>\n",
       "      <td>14.63418</td>\n",
       "      <td>2379200</td>\n",
       "      <td>10.50614</td>\n",
       "    </tr>\n",
       "    <tr>\n",
       "      <th>2004-01-05</th>\n",
       "      <td>14.54029</td>\n",
       "      <td>14.72796</td>\n",
       "      <td>14.44652</td>\n",
       "      <td>14.54029</td>\n",
       "      <td>647700</td>\n",
       "      <td>10.43874</td>\n",
       "    </tr>\n",
       "    <tr>\n",
       "      <th>2004-01-06</th>\n",
       "      <td>14.63418</td>\n",
       "      <td>14.72796</td>\n",
       "      <td>14.44652</td>\n",
       "      <td>14.72796</td>\n",
       "      <td>901100</td>\n",
       "      <td>10.57346</td>\n",
       "    </tr>\n",
       "    <tr>\n",
       "      <th>2004-01-07</th>\n",
       "      <td>14.72796</td>\n",
       "      <td>14.72796</td>\n",
       "      <td>14.35274</td>\n",
       "      <td>14.35274</td>\n",
       "      <td>573800</td>\n",
       "      <td>10.30409</td>\n",
       "    </tr>\n",
       "  </tbody>\n",
       "</table>\n",
       "</div>"
      ],
      "text/plain": [
       "                Open      High       Low     Close   Volume  Adj Close\n",
       "Date                                                                  \n",
       "2004-01-01  14.44652  14.44652  14.44652  14.44652        0   10.37141\n",
       "2004-01-02  14.44652  14.72796  14.25896  14.63418  2379200   10.50614\n",
       "2004-01-05  14.54029  14.72796  14.44652  14.54029   647700   10.43874\n",
       "2004-01-06  14.63418  14.72796  14.44652  14.72796   901100   10.57346\n",
       "2004-01-07  14.72796  14.72796  14.35274  14.35274   573800   10.30409"
      ]
     },
     "execution_count": 75,
     "metadata": {},
     "output_type": "execute_result"
    }
   ],
   "source": [
    "tw9919.head()"
   ]
  },
  {
   "cell_type": "code",
   "execution_count": 77,
   "metadata": {
    "collapsed": false
   },
   "outputs": [
    {
     "data": {
      "text/html": [
       "<div>\n",
       "<table border=\"1\" class=\"dataframe\">\n",
       "  <thead>\n",
       "    <tr style=\"text-align: right;\">\n",
       "      <th></th>\n",
       "      <th>cold</th>\n",
       "      <th>flu</th>\n",
       "      <th>Open</th>\n",
       "      <th>High</th>\n",
       "      <th>Low</th>\n",
       "      <th>Close</th>\n",
       "      <th>Volume</th>\n",
       "      <th>Adj Close</th>\n",
       "    </tr>\n",
       "    <tr>\n",
       "      <th>Date</th>\n",
       "      <th></th>\n",
       "      <th></th>\n",
       "      <th></th>\n",
       "      <th></th>\n",
       "      <th></th>\n",
       "      <th></th>\n",
       "      <th></th>\n",
       "      <th></th>\n",
       "    </tr>\n",
       "  </thead>\n",
       "  <tbody>\n",
       "  </tbody>\n",
       "</table>\n",
       "</div>"
      ],
      "text/plain": [
       "Empty DataFrame\n",
       "Columns: [cold, flu, Open, High, Low, Close, Volume, Adj Close]\n",
       "Index: []"
      ]
     },
     "execution_count": 77,
     "metadata": {},
     "output_type": "execute_result"
    }
   ],
   "source": [
    "flu.merge(tw9919, left_index=True, right_index=True, how = 'inner')"
   ]
  },
  {
   "cell_type": "code",
   "execution_count": 79,
   "metadata": {
    "collapsed": false
   },
   "outputs": [
    {
     "data": {
      "text/plain": [
       "DatetimeIndex(['2004-01-01', '2004-01-02', '2004-01-05', '2004-01-06',\n",
       "               '2004-01-07', '2004-01-08', '2004-01-09', '2004-01-12',\n",
       "               '2004-01-13', '2004-01-14',\n",
       "               ...\n",
       "               '2016-07-25', '2016-07-26', '2016-07-27', '2016-07-28',\n",
       "               '2016-07-29', '2016-08-01', '2016-08-02', '2016-08-03',\n",
       "               '2016-08-04', '2016-08-05'],\n",
       "              dtype='datetime64[ns]', name=u'Date', length=3268, freq=None)"
      ]
     },
     "execution_count": 79,
     "metadata": {},
     "output_type": "execute_result"
    }
   ],
   "source": [
    "tw9919.index"
   ]
  },
  {
   "cell_type": "markdown",
   "metadata": {},
   "source": [
    "## 時間的操作"
   ]
  },
  {
   "cell_type": "code",
   "execution_count": 89,
   "metadata": {
    "collapsed": false
   },
   "outputs": [
    {
     "name": "stdout",
     "output_type": "stream",
     "text": [
      "2014-01-01 00:00:00\n",
      "2014-01-02 00:00:00\n"
     ]
    }
   ],
   "source": [
    "import datetime \n",
    "dt = '2014-01-01'\n",
    "dt2 = datetime.datetime.strptime(dt, '%Y-%m-%d')\n",
    "print dt2\n",
    "print dt2 + datetime.timedelta(days = 1)"
   ]
  },
  {
   "cell_type": "code",
   "execution_count": 91,
   "metadata": {
    "collapsed": false
   },
   "outputs": [
    {
     "data": {
      "text/html": [
       "<div>\n",
       "<table border=\"1\" class=\"dataframe\">\n",
       "  <thead>\n",
       "    <tr style=\"text-align: right;\">\n",
       "      <th></th>\n",
       "      <th>Open</th>\n",
       "      <th>High</th>\n",
       "      <th>Low</th>\n",
       "      <th>Close</th>\n",
       "      <th>Volume</th>\n",
       "      <th>Adj Close</th>\n",
       "    </tr>\n",
       "    <tr>\n",
       "      <th>Date</th>\n",
       "      <th></th>\n",
       "      <th></th>\n",
       "      <th></th>\n",
       "      <th></th>\n",
       "      <th></th>\n",
       "      <th></th>\n",
       "    </tr>\n",
       "  </thead>\n",
       "  <tbody>\n",
       "    <tr>\n",
       "      <th>2003-12-31</th>\n",
       "      <td>14.44652</td>\n",
       "      <td>14.44652</td>\n",
       "      <td>14.44652</td>\n",
       "      <td>14.44652</td>\n",
       "      <td>0</td>\n",
       "      <td>10.37141</td>\n",
       "    </tr>\n",
       "    <tr>\n",
       "      <th>2004-01-01</th>\n",
       "      <td>14.44652</td>\n",
       "      <td>14.72796</td>\n",
       "      <td>14.25896</td>\n",
       "      <td>14.63418</td>\n",
       "      <td>2379200</td>\n",
       "      <td>10.50614</td>\n",
       "    </tr>\n",
       "    <tr>\n",
       "      <th>2004-01-04</th>\n",
       "      <td>14.54029</td>\n",
       "      <td>14.72796</td>\n",
       "      <td>14.44652</td>\n",
       "      <td>14.54029</td>\n",
       "      <td>647700</td>\n",
       "      <td>10.43874</td>\n",
       "    </tr>\n",
       "    <tr>\n",
       "      <th>2004-01-05</th>\n",
       "      <td>14.63418</td>\n",
       "      <td>14.72796</td>\n",
       "      <td>14.44652</td>\n",
       "      <td>14.72796</td>\n",
       "      <td>901100</td>\n",
       "      <td>10.57346</td>\n",
       "    </tr>\n",
       "    <tr>\n",
       "      <th>2004-01-06</th>\n",
       "      <td>14.72796</td>\n",
       "      <td>14.72796</td>\n",
       "      <td>14.35274</td>\n",
       "      <td>14.35274</td>\n",
       "      <td>573800</td>\n",
       "      <td>10.30409</td>\n",
       "    </tr>\n",
       "  </tbody>\n",
       "</table>\n",
       "</div>"
      ],
      "text/plain": [
       "                Open      High       Low     Close   Volume  Adj Close\n",
       "Date                                                                  \n",
       "2003-12-31  14.44652  14.44652  14.44652  14.44652        0   10.37141\n",
       "2004-01-01  14.44652  14.72796  14.25896  14.63418  2379200   10.50614\n",
       "2004-01-04  14.54029  14.72796  14.44652  14.54029   647700   10.43874\n",
       "2004-01-05  14.63418  14.72796  14.44652  14.72796   901100   10.57346\n",
       "2004-01-06  14.72796  14.72796  14.35274  14.35274   573800   10.30409"
      ]
     },
     "execution_count": 91,
     "metadata": {},
     "output_type": "execute_result"
    }
   ],
   "source": [
    "tw9919.index = tw9919.index.map(lambda e: e - datetime.timedelta(days=1))\n",
    "tw9919.head()"
   ]
  },
  {
   "cell_type": "markdown",
   "metadata": {},
   "source": [
    "## 合併股價"
   ]
  },
  {
   "cell_type": "code",
   "execution_count": 93,
   "metadata": {
    "collapsed": false
   },
   "outputs": [
    {
     "data": {
      "text/html": [
       "<div>\n",
       "<table border=\"1\" class=\"dataframe\">\n",
       "  <thead>\n",
       "    <tr style=\"text-align: right;\">\n",
       "      <th></th>\n",
       "      <th>Open</th>\n",
       "      <th>High</th>\n",
       "      <th>Low</th>\n",
       "      <th>Close</th>\n",
       "      <th>Volume</th>\n",
       "      <th>Adj Close</th>\n",
       "      <th>cold</th>\n",
       "      <th>flu</th>\n",
       "    </tr>\n",
       "    <tr>\n",
       "      <th>Date</th>\n",
       "      <th></th>\n",
       "      <th></th>\n",
       "      <th></th>\n",
       "      <th></th>\n",
       "      <th></th>\n",
       "      <th></th>\n",
       "      <th></th>\n",
       "      <th></th>\n",
       "    </tr>\n",
       "  </thead>\n",
       "  <tbody>\n",
       "    <tr>\n",
       "      <th>2004-01-04</th>\n",
       "      <td>14.54029</td>\n",
       "      <td>14.72796</td>\n",
       "      <td>14.44652</td>\n",
       "      <td>14.54029</td>\n",
       "      <td>647700</td>\n",
       "      <td>10.43874</td>\n",
       "      <td>32</td>\n",
       "      <td>1</td>\n",
       "    </tr>\n",
       "    <tr>\n",
       "      <th>2004-01-11</th>\n",
       "      <td>14.63418</td>\n",
       "      <td>14.72796</td>\n",
       "      <td>14.44652</td>\n",
       "      <td>14.44652</td>\n",
       "      <td>483200</td>\n",
       "      <td>10.37141</td>\n",
       "      <td>26</td>\n",
       "      <td>1</td>\n",
       "    </tr>\n",
       "    <tr>\n",
       "      <th>2004-01-18</th>\n",
       "      <td>14.44652</td>\n",
       "      <td>14.44652</td>\n",
       "      <td>14.44652</td>\n",
       "      <td>14.44652</td>\n",
       "      <td>0</td>\n",
       "      <td>10.37141</td>\n",
       "      <td>17</td>\n",
       "      <td>1</td>\n",
       "    </tr>\n",
       "    <tr>\n",
       "      <th>2004-01-25</th>\n",
       "      <td>14.44652</td>\n",
       "      <td>14.44652</td>\n",
       "      <td>14.44652</td>\n",
       "      <td>14.44652</td>\n",
       "      <td>0</td>\n",
       "      <td>10.37141</td>\n",
       "      <td>26</td>\n",
       "      <td>2</td>\n",
       "    </tr>\n",
       "    <tr>\n",
       "      <th>2004-02-01</th>\n",
       "      <td>14.82173</td>\n",
       "      <td>15.38461</td>\n",
       "      <td>14.82173</td>\n",
       "      <td>15.19706</td>\n",
       "      <td>2635800</td>\n",
       "      <td>10.91024</td>\n",
       "      <td>33</td>\n",
       "      <td>3</td>\n",
       "    </tr>\n",
       "  </tbody>\n",
       "</table>\n",
       "</div>"
      ],
      "text/plain": [
       "                Open      High       Low     Close   Volume  Adj Close  cold  \\\n",
       "Date                                                                           \n",
       "2004-01-04  14.54029  14.72796  14.44652  14.54029   647700   10.43874    32   \n",
       "2004-01-11  14.63418  14.72796  14.44652  14.44652   483200   10.37141    26   \n",
       "2004-01-18  14.44652  14.44652  14.44652  14.44652        0   10.37141    17   \n",
       "2004-01-25  14.44652  14.44652  14.44652  14.44652        0   10.37141    26   \n",
       "2004-02-01  14.82173  15.38461  14.82173  15.19706  2635800   10.91024    33   \n",
       "\n",
       "            flu  \n",
       "Date             \n",
       "2004-01-04    1  \n",
       "2004-01-11    1  \n",
       "2004-01-18    1  \n",
       "2004-01-25    2  \n",
       "2004-02-01    3  "
      ]
     },
     "execution_count": 93,
     "metadata": {},
     "output_type": "execute_result"
    }
   ],
   "source": [
    "results = tw9919.merge(flu, left_index=True, right_index=True, how='inner')\n",
    "results.head()"
   ]
  },
  {
   "cell_type": "code",
   "execution_count": 95,
   "metadata": {
    "collapsed": false
   },
   "outputs": [
    {
     "data": {
      "text/html": [
       "<div>\n",
       "<table border=\"1\" class=\"dataframe\">\n",
       "  <thead>\n",
       "    <tr style=\"text-align: right;\">\n",
       "      <th></th>\n",
       "      <th>tw9919</th>\n",
       "      <th>cold</th>\n",
       "      <th>flu</th>\n",
       "    </tr>\n",
       "    <tr>\n",
       "      <th>Date</th>\n",
       "      <th></th>\n",
       "      <th></th>\n",
       "      <th></th>\n",
       "    </tr>\n",
       "  </thead>\n",
       "  <tbody>\n",
       "    <tr>\n",
       "      <th>2004-01-04</th>\n",
       "      <td>10.43874</td>\n",
       "      <td>32</td>\n",
       "      <td>1</td>\n",
       "    </tr>\n",
       "    <tr>\n",
       "      <th>2004-01-11</th>\n",
       "      <td>10.37141</td>\n",
       "      <td>26</td>\n",
       "      <td>1</td>\n",
       "    </tr>\n",
       "    <tr>\n",
       "      <th>2004-01-18</th>\n",
       "      <td>10.37141</td>\n",
       "      <td>17</td>\n",
       "      <td>1</td>\n",
       "    </tr>\n",
       "    <tr>\n",
       "      <th>2004-01-25</th>\n",
       "      <td>10.37141</td>\n",
       "      <td>26</td>\n",
       "      <td>2</td>\n",
       "    </tr>\n",
       "    <tr>\n",
       "      <th>2004-02-01</th>\n",
       "      <td>10.91024</td>\n",
       "      <td>33</td>\n",
       "      <td>3</td>\n",
       "    </tr>\n",
       "  </tbody>\n",
       "</table>\n",
       "</div>"
      ],
      "text/plain": [
       "              tw9919  cold  flu\n",
       "Date                           \n",
       "2004-01-04  10.43874    32    1\n",
       "2004-01-11  10.37141    26    1\n",
       "2004-01-18  10.37141    17    1\n",
       "2004-01-25  10.37141    26    2\n",
       "2004-02-01  10.91024    33    3"
      ]
     },
     "execution_count": 95,
     "metadata": {},
     "output_type": "execute_result"
    }
   ],
   "source": [
    "data = results[['Adj Close', 'cold', 'flu']]\n",
    "data.head()\n",
    "\n",
    "data.columns = ['tw9919', 'cold', 'flu']\n",
    "data.head()"
   ]
  },
  {
   "cell_type": "code",
   "execution_count": 96,
   "metadata": {
    "collapsed": false
   },
   "outputs": [
    {
     "name": "stdout",
     "output_type": "stream",
     "text": [
      "<class 'pandas.core.frame.DataFrame'>\n",
      "DatetimeIndex: 648 entries, 2004-01-04 to 2016-07-31\n",
      "Data columns (total 3 columns):\n",
      "tw9919    648 non-null float64\n",
      "cold      648 non-null int64\n",
      "flu       648 non-null int64\n",
      "dtypes: float64(1), int64(2)\n",
      "memory usage: 20.2 KB\n"
     ]
    }
   ],
   "source": [
    "data.info()"
   ]
  },
  {
   "cell_type": "markdown",
   "metadata": {},
   "source": [
    "## 繪製圖表"
   ]
  },
  {
   "cell_type": "code",
   "execution_count": 97,
   "metadata": {
    "collapsed": false
   },
   "outputs": [
    {
     "name": "stdout",
     "output_type": "stream",
     "text": [
      "Populating the interactive namespace from numpy and matplotlib\n"
     ]
    },
    {
     "data": {
      "text/plain": [
       "array([<matplotlib.axes._subplots.AxesSubplot object at 0x000000000C491240>,\n",
       "       <matplotlib.axes._subplots.AxesSubplot object at 0x000000000C9FA160>,\n",
       "       <matplotlib.axes._subplots.AxesSubplot object at 0x000000000C890F60>], dtype=object)"
      ]
     },
     "execution_count": 97,
     "metadata": {},
     "output_type": "execute_result"
    },
    {
     "data": {
      "image/png": "[encoded data removed]",
      "text/plain": [
       "<matplotlib.figure.Figure at 0xc7a37b8>"
      ]
     },
     "metadata": {},
     "output_type": "display_data"
    }
   ],
   "source": [
    "%pylab inline \n",
    "data.plot(subplots=True)"
   ]
  },
  {
   "cell_type": "code",
   "execution_count": 100,
   "metadata": {
    "collapsed": false
   },
   "outputs": [],
   "source": [
    "#data['cold']\n",
    "#data.cold"
   ]
  },
  {
   "cell_type": "code",
   "execution_count": 101,
   "metadata": {
    "collapsed": false
   },
   "outputs": [
    {
     "name": "stderr",
     "output_type": "stream",
     "text": [
      "C:\\Users\\Student\\Anaconda2\\lib\\site-packages\\ipykernel\\__main__.py:1: FutureWarning: pd.rolling_mean is deprecated for Series and will be removed in a future version, replace with \n",
      "\tSeries.rolling(window=3,center=False).mean()\n",
      "  if __name__ == '__main__':\n",
      "C:\\Users\\Student\\Anaconda2\\lib\\site-packages\\ipykernel\\__main__.py:1: SettingWithCopyWarning: \n",
      "A value is trying to be set on a copy of a slice from a DataFrame.\n",
      "Try using .loc[row_indexer,col_indexer] = value instead\n",
      "\n",
      "See the caveats in the documentation: http://pandas.pydata.org/pandas-docs/stable/indexing.html#indexing-view-versus-copy\n",
      "  if __name__ == '__main__':\n",
      "C:\\Users\\Student\\Anaconda2\\lib\\site-packages\\ipykernel\\__main__.py:2: FutureWarning: pd.rolling_mean is deprecated for Series and will be removed in a future version, replace with \n",
      "\tSeries.rolling(window=3,center=False).mean()\n",
      "  from ipykernel import kernelapp as app\n",
      "C:\\Users\\Student\\Anaconda2\\lib\\site-packages\\ipykernel\\__main__.py:2: SettingWithCopyWarning: \n",
      "A value is trying to be set on a copy of a slice from a DataFrame.\n",
      "Try using .loc[row_indexer,col_indexer] = value instead\n",
      "\n",
      "See the caveats in the documentation: http://pandas.pydata.org/pandas-docs/stable/indexing.html#indexing-view-versus-copy\n",
      "  from ipykernel import kernelapp as app\n"
     ]
    }
   ],
   "source": [
    "data['cold_mavg'] = pd.rolling_mean(data.cold, 3)\n",
    "data['flu_mavg'] = pd.rolling_mean(data.flu, 3)"
   ]
  },
  {
   "cell_type": "code",
   "execution_count": 123,
   "metadata": {
    "collapsed": false
   },
   "outputs": [
    {
     "name": "stdout",
     "output_type": "stream",
     "text": [
      "Populating the interactive namespace from numpy and matplotlib\n"
     ]
    },
    {
     "data": {
      "text/plain": [
       "<matplotlib.axes._subplots.AxesSubplot at 0xe3bc780>"
      ]
     },
     "execution_count": 123,
     "metadata": {},
     "output_type": "execute_result"
    },
    {
     "data": {
      "image/png": "[encoded data removed]",
      "text/plain": [
       "<matplotlib.figure.Figure at 0xe6a1c50>"
      ]
     },
     "metadata": {},
     "output_type": "display_data"
    }
   ],
   "source": [
    "%pylab inline\n",
    "data[['cold','cold_mavg']].plot(figsize=[20,20])"
   ]
  },
  {
   "cell_type": "code",
   "execution_count": 103,
   "metadata": {
    "collapsed": false
   },
   "outputs": [
    {
     "data": {
      "text/html": [
       "<div>\n",
       "<table border=\"1\" class=\"dataframe\">\n",
       "  <thead>\n",
       "    <tr style=\"text-align: right;\">\n",
       "      <th></th>\n",
       "      <th>tw9919</th>\n",
       "      <th>cold</th>\n",
       "      <th>flu</th>\n",
       "      <th>cold_mavg</th>\n",
       "      <th>flu_mavg</th>\n",
       "    </tr>\n",
       "    <tr>\n",
       "      <th>Date</th>\n",
       "      <th></th>\n",
       "      <th></th>\n",
       "      <th></th>\n",
       "      <th></th>\n",
       "      <th></th>\n",
       "    </tr>\n",
       "  </thead>\n",
       "  <tbody>\n",
       "    <tr>\n",
       "      <th>2004-01-04</th>\n",
       "      <td>10.43874</td>\n",
       "      <td>32</td>\n",
       "      <td>1</td>\n",
       "      <td>NaN</td>\n",
       "      <td>NaN</td>\n",
       "    </tr>\n",
       "    <tr>\n",
       "      <th>2004-01-11</th>\n",
       "      <td>10.37141</td>\n",
       "      <td>26</td>\n",
       "      <td>1</td>\n",
       "      <td>NaN</td>\n",
       "      <td>NaN</td>\n",
       "    </tr>\n",
       "    <tr>\n",
       "      <th>2004-01-18</th>\n",
       "      <td>10.37141</td>\n",
       "      <td>17</td>\n",
       "      <td>1</td>\n",
       "      <td>25.000000</td>\n",
       "      <td>1.000000</td>\n",
       "    </tr>\n",
       "    <tr>\n",
       "      <th>2004-01-25</th>\n",
       "      <td>10.37141</td>\n",
       "      <td>26</td>\n",
       "      <td>2</td>\n",
       "      <td>23.000000</td>\n",
       "      <td>1.333333</td>\n",
       "    </tr>\n",
       "    <tr>\n",
       "      <th>2004-02-01</th>\n",
       "      <td>10.91024</td>\n",
       "      <td>33</td>\n",
       "      <td>3</td>\n",
       "      <td>25.333333</td>\n",
       "      <td>2.000000</td>\n",
       "    </tr>\n",
       "  </tbody>\n",
       "</table>\n",
       "</div>"
      ],
      "text/plain": [
       "              tw9919  cold  flu  cold_mavg  flu_mavg\n",
       "Date                                                \n",
       "2004-01-04  10.43874    32    1        NaN       NaN\n",
       "2004-01-11  10.37141    26    1        NaN       NaN\n",
       "2004-01-18  10.37141    17    1  25.000000  1.000000\n",
       "2004-01-25  10.37141    26    2  23.000000  1.333333\n",
       "2004-02-01  10.91024    33    3  25.333333  2.000000"
      ]
     },
     "execution_count": 103,
     "metadata": {},
     "output_type": "execute_result"
    }
   ],
   "source": [
    "data.head()"
   ]
  },
  {
   "cell_type": "code",
   "execution_count": 104,
   "metadata": {
    "collapsed": false
   },
   "outputs": [
    {
     "name": "stderr",
     "output_type": "stream",
     "text": [
      "C:\\Users\\Student\\Anaconda2\\lib\\site-packages\\ipykernel\\__main__.py:1: SettingWithCopyWarning: \n",
      "A value is trying to be set on a copy of a slice from a DataFrame.\n",
      "Try using .loc[row_indexer,col_indexer] = value instead\n",
      "\n",
      "See the caveats in the documentation: http://pandas.pydata.org/pandas-docs/stable/indexing.html#indexing-view-versus-copy\n",
      "  if __name__ == '__main__':\n",
      "C:\\Users\\Student\\Anaconda2\\lib\\site-packages\\ipykernel\\__main__.py:2: SettingWithCopyWarning: \n",
      "A value is trying to be set on a copy of a slice from a DataFrame.\n",
      "Try using .loc[row_indexer,col_indexer] = value instead\n",
      "\n",
      "See the caveats in the documentation: http://pandas.pydata.org/pandas-docs/stable/indexing.html#indexing-view-versus-copy\n",
      "  from ipykernel import kernelapp as app\n"
     ]
    },
    {
     "data": {
      "text/html": [
       "<div>\n",
       "<table border=\"1\" class=\"dataframe\">\n",
       "  <thead>\n",
       "    <tr style=\"text-align: right;\">\n",
       "      <th></th>\n",
       "      <th>tw9919</th>\n",
       "      <th>cold</th>\n",
       "      <th>flu</th>\n",
       "      <th>cold_mavg</th>\n",
       "      <th>flu_mavg</th>\n",
       "    </tr>\n",
       "    <tr>\n",
       "      <th>Date</th>\n",
       "      <th></th>\n",
       "      <th></th>\n",
       "      <th></th>\n",
       "      <th></th>\n",
       "      <th></th>\n",
       "    </tr>\n",
       "  </thead>\n",
       "  <tbody>\n",
       "    <tr>\n",
       "      <th>2004-01-04</th>\n",
       "      <td>10.43874</td>\n",
       "      <td>32</td>\n",
       "      <td>1</td>\n",
       "      <td>NaN</td>\n",
       "      <td>NaN</td>\n",
       "    </tr>\n",
       "    <tr>\n",
       "      <th>2004-01-11</th>\n",
       "      <td>10.37141</td>\n",
       "      <td>26</td>\n",
       "      <td>1</td>\n",
       "      <td>NaN</td>\n",
       "      <td>NaN</td>\n",
       "    </tr>\n",
       "    <tr>\n",
       "      <th>2004-01-18</th>\n",
       "      <td>10.37141</td>\n",
       "      <td>17</td>\n",
       "      <td>1</td>\n",
       "      <td>NaN</td>\n",
       "      <td>NaN</td>\n",
       "    </tr>\n",
       "    <tr>\n",
       "      <th>2004-01-25</th>\n",
       "      <td>10.37141</td>\n",
       "      <td>26</td>\n",
       "      <td>2</td>\n",
       "      <td>25.000000</td>\n",
       "      <td>1.000000</td>\n",
       "    </tr>\n",
       "    <tr>\n",
       "      <th>2004-02-01</th>\n",
       "      <td>10.91024</td>\n",
       "      <td>33</td>\n",
       "      <td>3</td>\n",
       "      <td>23.000000</td>\n",
       "      <td>1.333333</td>\n",
       "    </tr>\n",
       "    <tr>\n",
       "      <th>2004-02-08</th>\n",
       "      <td>10.97756</td>\n",
       "      <td>25</td>\n",
       "      <td>2</td>\n",
       "      <td>25.333333</td>\n",
       "      <td>2.000000</td>\n",
       "    </tr>\n",
       "    <tr>\n",
       "      <th>2004-02-15</th>\n",
       "      <td>11.24694</td>\n",
       "      <td>29</td>\n",
       "      <td>2</td>\n",
       "      <td>28.000000</td>\n",
       "      <td>2.333333</td>\n",
       "    </tr>\n",
       "    <tr>\n",
       "      <th>2004-02-22</th>\n",
       "      <td>11.31426</td>\n",
       "      <td>27</td>\n",
       "      <td>1</td>\n",
       "      <td>29.000000</td>\n",
       "      <td>2.333333</td>\n",
       "    </tr>\n",
       "    <tr>\n",
       "      <th>2004-02-29</th>\n",
       "      <td>11.17961</td>\n",
       "      <td>34</td>\n",
       "      <td>1</td>\n",
       "      <td>27.000000</td>\n",
       "      <td>1.666667</td>\n",
       "    </tr>\n",
       "    <tr>\n",
       "      <th>2004-03-07</th>\n",
       "      <td>13.26736</td>\n",
       "      <td>22</td>\n",
       "      <td>1</td>\n",
       "      <td>30.000000</td>\n",
       "      <td>1.333333</td>\n",
       "    </tr>\n",
       "  </tbody>\n",
       "</table>\n",
       "</div>"
      ],
      "text/plain": [
       "              tw9919  cold  flu  cold_mavg  flu_mavg\n",
       "Date                                                \n",
       "2004-01-04  10.43874    32    1        NaN       NaN\n",
       "2004-01-11  10.37141    26    1        NaN       NaN\n",
       "2004-01-18  10.37141    17    1        NaN       NaN\n",
       "2004-01-25  10.37141    26    2  25.000000  1.000000\n",
       "2004-02-01  10.91024    33    3  23.000000  1.333333\n",
       "2004-02-08  10.97756    25    2  25.333333  2.000000\n",
       "2004-02-15  11.24694    29    2  28.000000  2.333333\n",
       "2004-02-22  11.31426    27    1  29.000000  2.333333\n",
       "2004-02-29  11.17961    34    1  27.000000  1.666667\n",
       "2004-03-07  13.26736    22    1  30.000000  1.333333"
      ]
     },
     "execution_count": 104,
     "metadata": {},
     "output_type": "execute_result"
    }
   ],
   "source": [
    "data['flu_mavg'] = data.flu_mavg.shift(1)\n",
    "data['cold_mavg'] = data.cold_mavg.shift(1)\n",
    "data.head(10)"
   ]
  },
  {
   "cell_type": "markdown",
   "metadata": {},
   "source": [
    "## 買賣策略"
   ]
  },
  {
   "cell_type": "code",
   "execution_count": 105,
   "metadata": {
    "collapsed": false
   },
   "outputs": [
    {
     "name": "stderr",
     "output_type": "stream",
     "text": [
      "C:\\Users\\Student\\Anaconda2\\lib\\site-packages\\ipykernel\\__main__.py:1: SettingWithCopyWarning: \n",
      "A value is trying to be set on a copy of a slice from a DataFrame.\n",
      "Try using .loc[row_indexer,col_indexer] = value instead\n",
      "\n",
      "See the caveats in the documentation: http://pandas.pydata.org/pandas-docs/stable/indexing.html#indexing-view-versus-copy\n",
      "  if __name__ == '__main__':\n",
      "C:\\Users\\Student\\Anaconda2\\lib\\site-packages\\ipykernel\\__main__.py:3: SettingWithCopyWarning: \n",
      "A value is trying to be set on a copy of a slice from a DataFrame\n",
      "\n",
      "See the caveats in the documentation: http://pandas.pydata.org/pandas-docs/stable/indexing.html#indexing-view-versus-copy\n",
      "  app.launch_new_instance()\n",
      "C:\\Users\\Student\\Anaconda2\\lib\\site-packages\\pandas\\core\\generic.py:4485: SettingWithCopyWarning: \n",
      "A value is trying to be set on a copy of a slice from a DataFrame\n",
      "\n",
      "See the caveats in the documentation: http://pandas.pydata.org/pandas-docs/stable/indexing.html#indexing-view-versus-copy\n",
      "  self._update_inplace(new_data)\n",
      "C:\\Users\\Student\\Anaconda2\\lib\\site-packages\\IPython\\core\\interactiveshell.py:2885: SettingWithCopyWarning: \n",
      "A value is trying to be set on a copy of a slice from a DataFrame\n",
      "\n",
      "See the caveats in the documentation: http://pandas.pydata.org/pandas-docs/stable/indexing.html#indexing-view-versus-copy\n",
      "  exec(code_obj, self.user_global_ns, self.user_ns)\n",
      "C:\\Users\\Student\\Anaconda2\\lib\\site-packages\\ipykernel\\__main__.py:5: SettingWithCopyWarning: \n",
      "A value is trying to be set on a copy of a slice from a DataFrame\n",
      "\n",
      "See the caveats in the documentation: http://pandas.pydata.org/pandas-docs/stable/indexing.html#indexing-view-versus-copy\n"
     ]
    },
    {
     "data": {
      "text/html": [
       "<div>\n",
       "<table border=\"1\" class=\"dataframe\">\n",
       "  <thead>\n",
       "    <tr style=\"text-align: right;\">\n",
       "      <th></th>\n",
       "      <th>tw9919</th>\n",
       "      <th>cold</th>\n",
       "      <th>flu</th>\n",
       "      <th>cold_mavg</th>\n",
       "      <th>flu_mavg</th>\n",
       "      <th>cold_order</th>\n",
       "    </tr>\n",
       "    <tr>\n",
       "      <th>Date</th>\n",
       "      <th></th>\n",
       "      <th></th>\n",
       "      <th></th>\n",
       "      <th></th>\n",
       "      <th></th>\n",
       "      <th></th>\n",
       "    </tr>\n",
       "  </thead>\n",
       "  <tbody>\n",
       "    <tr>\n",
       "      <th>2004-01-04</th>\n",
       "      <td>10.43874</td>\n",
       "      <td>32</td>\n",
       "      <td>1</td>\n",
       "      <td>NaN</td>\n",
       "      <td>NaN</td>\n",
       "      <td>0</td>\n",
       "    </tr>\n",
       "    <tr>\n",
       "      <th>2004-01-11</th>\n",
       "      <td>10.37141</td>\n",
       "      <td>26</td>\n",
       "      <td>1</td>\n",
       "      <td>NaN</td>\n",
       "      <td>NaN</td>\n",
       "      <td>0</td>\n",
       "    </tr>\n",
       "    <tr>\n",
       "      <th>2004-01-18</th>\n",
       "      <td>10.37141</td>\n",
       "      <td>17</td>\n",
       "      <td>1</td>\n",
       "      <td>NaN</td>\n",
       "      <td>NaN</td>\n",
       "      <td>0</td>\n",
       "    </tr>\n",
       "    <tr>\n",
       "      <th>2004-01-25</th>\n",
       "      <td>10.37141</td>\n",
       "      <td>26</td>\n",
       "      <td>2</td>\n",
       "      <td>25.000000</td>\n",
       "      <td>1.000000</td>\n",
       "      <td>1</td>\n",
       "    </tr>\n",
       "    <tr>\n",
       "      <th>2004-02-01</th>\n",
       "      <td>10.91024</td>\n",
       "      <td>33</td>\n",
       "      <td>3</td>\n",
       "      <td>23.000000</td>\n",
       "      <td>1.333333</td>\n",
       "      <td>1</td>\n",
       "    </tr>\n",
       "    <tr>\n",
       "      <th>2004-02-08</th>\n",
       "      <td>10.97756</td>\n",
       "      <td>25</td>\n",
       "      <td>2</td>\n",
       "      <td>25.333333</td>\n",
       "      <td>2.000000</td>\n",
       "      <td>-1</td>\n",
       "    </tr>\n",
       "    <tr>\n",
       "      <th>2004-02-15</th>\n",
       "      <td>11.24694</td>\n",
       "      <td>29</td>\n",
       "      <td>2</td>\n",
       "      <td>28.000000</td>\n",
       "      <td>2.333333</td>\n",
       "      <td>1</td>\n",
       "    </tr>\n",
       "    <tr>\n",
       "      <th>2004-02-22</th>\n",
       "      <td>11.31426</td>\n",
       "      <td>27</td>\n",
       "      <td>1</td>\n",
       "      <td>29.000000</td>\n",
       "      <td>2.333333</td>\n",
       "      <td>-1</td>\n",
       "    </tr>\n",
       "    <tr>\n",
       "      <th>2004-02-29</th>\n",
       "      <td>11.17961</td>\n",
       "      <td>34</td>\n",
       "      <td>1</td>\n",
       "      <td>27.000000</td>\n",
       "      <td>1.666667</td>\n",
       "      <td>1</td>\n",
       "    </tr>\n",
       "    <tr>\n",
       "      <th>2004-03-07</th>\n",
       "      <td>13.26736</td>\n",
       "      <td>22</td>\n",
       "      <td>1</td>\n",
       "      <td>30.000000</td>\n",
       "      <td>1.333333</td>\n",
       "      <td>-1</td>\n",
       "    </tr>\n",
       "  </tbody>\n",
       "</table>\n",
       "</div>"
      ],
      "text/plain": [
       "              tw9919  cold  flu  cold_mavg  flu_mavg  cold_order\n",
       "Date                                                            \n",
       "2004-01-04  10.43874    32    1        NaN       NaN           0\n",
       "2004-01-11  10.37141    26    1        NaN       NaN           0\n",
       "2004-01-18  10.37141    17    1        NaN       NaN           0\n",
       "2004-01-25  10.37141    26    2  25.000000  1.000000           1\n",
       "2004-02-01  10.91024    33    3  23.000000  1.333333           1\n",
       "2004-02-08  10.97756    25    2  25.333333  2.000000          -1\n",
       "2004-02-15  11.24694    29    2  28.000000  2.333333           1\n",
       "2004-02-22  11.31426    27    1  29.000000  2.333333          -1\n",
       "2004-02-29  11.17961    34    1  27.000000  1.666667           1\n",
       "2004-03-07  13.26736    22    1  30.000000  1.333333          -1"
      ]
     },
     "execution_count": 105,
     "metadata": {},
     "output_type": "execute_result"
    }
   ],
   "source": [
    "data['cold_order'] = 0\n",
    "# 黃金交叉做多\n",
    "data['cold_order'][data.cold > data.cold_mavg] = 1 \n",
    "# 死亡交叉做空\n",
    "data['cold_order'][data.cold < data.cold_mavg] = -1\n",
    "data.head(10)"
   ]
  },
  {
   "cell_type": "code",
   "execution_count": 112,
   "metadata": {
    "collapsed": false
   },
   "outputs": [
    {
     "name": "stderr",
     "output_type": "stream",
     "text": [
      "C:\\Users\\Student\\Anaconda2\\lib\\site-packages\\ipykernel\\__main__.py:3: SettingWithCopyWarning: \n",
      "A value is trying to be set on a copy of a slice from a DataFrame\n",
      "\n",
      "See the caveats in the documentation: http://pandas.pydata.org/pandas-docs/stable/indexing.html#indexing-view-versus-copy\n",
      "  app.launch_new_instance()\n",
      "C:\\Users\\Student\\Anaconda2\\lib\\site-packages\\ipykernel\\__main__.py:5: SettingWithCopyWarning: \n",
      "A value is trying to be set on a copy of a slice from a DataFrame\n",
      "\n",
      "See the caveats in the documentation: http://pandas.pydata.org/pandas-docs/stable/indexing.html#indexing-view-versus-copy\n"
     ]
    },
    {
     "data": {
      "text/html": [
       "<div>\n",
       "<table border=\"1\" class=\"dataframe\">\n",
       "  <thead>\n",
       "    <tr style=\"text-align: right;\">\n",
       "      <th></th>\n",
       "      <th>tw9919</th>\n",
       "      <th>cold</th>\n",
       "      <th>flu</th>\n",
       "      <th>cold_mavg</th>\n",
       "      <th>flu_mavg</th>\n",
       "      <th>cold_order</th>\n",
       "      <th>flu_order</th>\n",
       "      <th>ret_tw9919</th>\n",
       "      <th>ret_cold</th>\n",
       "      <th>ret_flu</th>\n",
       "    </tr>\n",
       "    <tr>\n",
       "      <th>Date</th>\n",
       "      <th></th>\n",
       "      <th></th>\n",
       "      <th></th>\n",
       "      <th></th>\n",
       "      <th></th>\n",
       "      <th></th>\n",
       "      <th></th>\n",
       "      <th></th>\n",
       "      <th></th>\n",
       "      <th></th>\n",
       "    </tr>\n",
       "  </thead>\n",
       "  <tbody>\n",
       "    <tr>\n",
       "      <th>2004-01-04</th>\n",
       "      <td>10.43874</td>\n",
       "      <td>32</td>\n",
       "      <td>1</td>\n",
       "      <td>NaN</td>\n",
       "      <td>NaN</td>\n",
       "      <td>0</td>\n",
       "      <td>0</td>\n",
       "      <td>-0.006450</td>\n",
       "      <td>-0.000000</td>\n",
       "      <td>-0.000000</td>\n",
       "    </tr>\n",
       "    <tr>\n",
       "      <th>2004-01-11</th>\n",
       "      <td>10.37141</td>\n",
       "      <td>26</td>\n",
       "      <td>1</td>\n",
       "      <td>NaN</td>\n",
       "      <td>NaN</td>\n",
       "      <td>0</td>\n",
       "      <td>0</td>\n",
       "      <td>0.000000</td>\n",
       "      <td>0.000000</td>\n",
       "      <td>0.000000</td>\n",
       "    </tr>\n",
       "    <tr>\n",
       "      <th>2004-01-18</th>\n",
       "      <td>10.37141</td>\n",
       "      <td>17</td>\n",
       "      <td>1</td>\n",
       "      <td>NaN</td>\n",
       "      <td>NaN</td>\n",
       "      <td>0</td>\n",
       "      <td>0</td>\n",
       "      <td>0.000000</td>\n",
       "      <td>0.000000</td>\n",
       "      <td>0.000000</td>\n",
       "    </tr>\n",
       "    <tr>\n",
       "      <th>2004-01-25</th>\n",
       "      <td>10.37141</td>\n",
       "      <td>26</td>\n",
       "      <td>2</td>\n",
       "      <td>25.000000</td>\n",
       "      <td>1.000000</td>\n",
       "      <td>1</td>\n",
       "      <td>1</td>\n",
       "      <td>0.051953</td>\n",
       "      <td>0.051953</td>\n",
       "      <td>0.051953</td>\n",
       "    </tr>\n",
       "    <tr>\n",
       "      <th>2004-02-01</th>\n",
       "      <td>10.91024</td>\n",
       "      <td>33</td>\n",
       "      <td>3</td>\n",
       "      <td>23.000000</td>\n",
       "      <td>1.333333</td>\n",
       "      <td>1</td>\n",
       "      <td>1</td>\n",
       "      <td>0.006170</td>\n",
       "      <td>0.006170</td>\n",
       "      <td>0.006170</td>\n",
       "    </tr>\n",
       "    <tr>\n",
       "      <th>2004-02-08</th>\n",
       "      <td>10.97756</td>\n",
       "      <td>25</td>\n",
       "      <td>2</td>\n",
       "      <td>25.333333</td>\n",
       "      <td>2.000000</td>\n",
       "      <td>-1</td>\n",
       "      <td>0</td>\n",
       "      <td>0.024539</td>\n",
       "      <td>-0.024539</td>\n",
       "      <td>-0.024539</td>\n",
       "    </tr>\n",
       "    <tr>\n",
       "      <th>2004-02-15</th>\n",
       "      <td>11.24694</td>\n",
       "      <td>29</td>\n",
       "      <td>2</td>\n",
       "      <td>28.000000</td>\n",
       "      <td>2.333333</td>\n",
       "      <td>1</td>\n",
       "      <td>-1</td>\n",
       "      <td>0.005986</td>\n",
       "      <td>0.005986</td>\n",
       "      <td>0.005986</td>\n",
       "    </tr>\n",
       "    <tr>\n",
       "      <th>2004-02-22</th>\n",
       "      <td>11.31426</td>\n",
       "      <td>27</td>\n",
       "      <td>1</td>\n",
       "      <td>29.000000</td>\n",
       "      <td>2.333333</td>\n",
       "      <td>-1</td>\n",
       "      <td>-1</td>\n",
       "      <td>-0.011901</td>\n",
       "      <td>0.011901</td>\n",
       "      <td>0.011901</td>\n",
       "    </tr>\n",
       "    <tr>\n",
       "      <th>2004-02-29</th>\n",
       "      <td>11.17961</td>\n",
       "      <td>34</td>\n",
       "      <td>1</td>\n",
       "      <td>27.000000</td>\n",
       "      <td>1.666667</td>\n",
       "      <td>1</td>\n",
       "      <td>-1</td>\n",
       "      <td>0.186746</td>\n",
       "      <td>0.186746</td>\n",
       "      <td>0.186746</td>\n",
       "    </tr>\n",
       "    <tr>\n",
       "      <th>2004-03-07</th>\n",
       "      <td>13.26736</td>\n",
       "      <td>22</td>\n",
       "      <td>1</td>\n",
       "      <td>30.000000</td>\n",
       "      <td>1.333333</td>\n",
       "      <td>-1</td>\n",
       "      <td>-1</td>\n",
       "      <td>0.005075</td>\n",
       "      <td>-0.005075</td>\n",
       "      <td>-0.005075</td>\n",
       "    </tr>\n",
       "  </tbody>\n",
       "</table>\n",
       "</div>"
      ],
      "text/plain": [
       "              tw9919  cold  flu  cold_mavg  flu_mavg  cold_order  flu_order  \\\n",
       "Date                                                                          \n",
       "2004-01-04  10.43874    32    1        NaN       NaN           0          0   \n",
       "2004-01-11  10.37141    26    1        NaN       NaN           0          0   \n",
       "2004-01-18  10.37141    17    1        NaN       NaN           0          0   \n",
       "2004-01-25  10.37141    26    2  25.000000  1.000000           1          1   \n",
       "2004-02-01  10.91024    33    3  23.000000  1.333333           1          1   \n",
       "2004-02-08  10.97756    25    2  25.333333  2.000000          -1          0   \n",
       "2004-02-15  11.24694    29    2  28.000000  2.333333           1         -1   \n",
       "2004-02-22  11.31426    27    1  29.000000  2.333333          -1         -1   \n",
       "2004-02-29  11.17961    34    1  27.000000  1.666667           1         -1   \n",
       "2004-03-07  13.26736    22    1  30.000000  1.333333          -1         -1   \n",
       "\n",
       "            ret_tw9919  ret_cold   ret_flu  \n",
       "Date                                        \n",
       "2004-01-04   -0.006450 -0.000000 -0.000000  \n",
       "2004-01-11    0.000000  0.000000  0.000000  \n",
       "2004-01-18    0.000000  0.000000  0.000000  \n",
       "2004-01-25    0.051953  0.051953  0.051953  \n",
       "2004-02-01    0.006170  0.006170  0.006170  \n",
       "2004-02-08    0.024539 -0.024539 -0.024539  \n",
       "2004-02-15    0.005986  0.005986  0.005986  \n",
       "2004-02-22   -0.011901  0.011901  0.011901  \n",
       "2004-02-29    0.186746  0.186746  0.186746  \n",
       "2004-03-07    0.005075 -0.005075 -0.005075  "
      ]
     },
     "execution_count": 112,
     "metadata": {},
     "output_type": "execute_result"
    }
   ],
   "source": [
    "data['flu_order'] = 0\n",
    "# 黃金交叉做多\n",
    "data['flu_order'][data.flu > data.flu_mavg] = 1 \n",
    "# 死亡交叉做空\n",
    "data['flu_order'][data.flu < data.flu_mavg] = -1\n",
    "data.head(10)"
   ]
  },
  {
   "cell_type": "markdown",
   "metadata": {},
   "source": [
    "## 計算9919報酬"
   ]
  },
  {
   "cell_type": "code",
   "execution_count": 113,
   "metadata": {
    "collapsed": false
   },
   "outputs": [
    {
     "data": {
      "text/html": [
       "<div>\n",
       "<table border=\"1\" class=\"dataframe\">\n",
       "  <thead>\n",
       "    <tr style=\"text-align: right;\">\n",
       "      <th></th>\n",
       "      <th>tw9919</th>\n",
       "      <th>cold</th>\n",
       "      <th>flu</th>\n",
       "      <th>cold_mavg</th>\n",
       "      <th>flu_mavg</th>\n",
       "      <th>cold_order</th>\n",
       "      <th>flu_order</th>\n",
       "      <th>ret_tw9919</th>\n",
       "      <th>ret_cold</th>\n",
       "      <th>ret_flu</th>\n",
       "    </tr>\n",
       "    <tr>\n",
       "      <th>Date</th>\n",
       "      <th></th>\n",
       "      <th></th>\n",
       "      <th></th>\n",
       "      <th></th>\n",
       "      <th></th>\n",
       "      <th></th>\n",
       "      <th></th>\n",
       "      <th></th>\n",
       "      <th></th>\n",
       "      <th></th>\n",
       "    </tr>\n",
       "  </thead>\n",
       "  <tbody>\n",
       "    <tr>\n",
       "      <th>2004-01-04</th>\n",
       "      <td>10.43874</td>\n",
       "      <td>32</td>\n",
       "      <td>1</td>\n",
       "      <td>NaN</td>\n",
       "      <td>NaN</td>\n",
       "      <td>0</td>\n",
       "      <td>0</td>\n",
       "      <td>NaN</td>\n",
       "      <td>-0.000000</td>\n",
       "      <td>-0.000000</td>\n",
       "    </tr>\n",
       "    <tr>\n",
       "      <th>2004-01-11</th>\n",
       "      <td>10.37141</td>\n",
       "      <td>26</td>\n",
       "      <td>1</td>\n",
       "      <td>NaN</td>\n",
       "      <td>NaN</td>\n",
       "      <td>0</td>\n",
       "      <td>0</td>\n",
       "      <td>-0.006450</td>\n",
       "      <td>0.000000</td>\n",
       "      <td>0.000000</td>\n",
       "    </tr>\n",
       "    <tr>\n",
       "      <th>2004-01-18</th>\n",
       "      <td>10.37141</td>\n",
       "      <td>17</td>\n",
       "      <td>1</td>\n",
       "      <td>NaN</td>\n",
       "      <td>NaN</td>\n",
       "      <td>0</td>\n",
       "      <td>0</td>\n",
       "      <td>0.000000</td>\n",
       "      <td>0.000000</td>\n",
       "      <td>0.000000</td>\n",
       "    </tr>\n",
       "    <tr>\n",
       "      <th>2004-01-25</th>\n",
       "      <td>10.37141</td>\n",
       "      <td>26</td>\n",
       "      <td>2</td>\n",
       "      <td>25.0</td>\n",
       "      <td>1.000000</td>\n",
       "      <td>1</td>\n",
       "      <td>1</td>\n",
       "      <td>0.000000</td>\n",
       "      <td>0.051953</td>\n",
       "      <td>0.051953</td>\n",
       "    </tr>\n",
       "    <tr>\n",
       "      <th>2004-02-01</th>\n",
       "      <td>10.91024</td>\n",
       "      <td>33</td>\n",
       "      <td>3</td>\n",
       "      <td>23.0</td>\n",
       "      <td>1.333333</td>\n",
       "      <td>1</td>\n",
       "      <td>1</td>\n",
       "      <td>0.051953</td>\n",
       "      <td>0.006170</td>\n",
       "      <td>0.006170</td>\n",
       "    </tr>\n",
       "  </tbody>\n",
       "</table>\n",
       "</div>"
      ],
      "text/plain": [
       "              tw9919  cold  flu  cold_mavg  flu_mavg  cold_order  flu_order  \\\n",
       "Date                                                                          \n",
       "2004-01-04  10.43874    32    1        NaN       NaN           0          0   \n",
       "2004-01-11  10.37141    26    1        NaN       NaN           0          0   \n",
       "2004-01-18  10.37141    17    1        NaN       NaN           0          0   \n",
       "2004-01-25  10.37141    26    2       25.0  1.000000           1          1   \n",
       "2004-02-01  10.91024    33    3       23.0  1.333333           1          1   \n",
       "\n",
       "            ret_tw9919  ret_cold   ret_flu  \n",
       "Date                                        \n",
       "2004-01-04         NaN -0.000000 -0.000000  \n",
       "2004-01-11   -0.006450  0.000000  0.000000  \n",
       "2004-01-18    0.000000  0.000000  0.000000  \n",
       "2004-01-25    0.000000  0.051953  0.051953  \n",
       "2004-02-01    0.051953  0.006170  0.006170  "
      ]
     },
     "execution_count": 113,
     "metadata": {},
     "output_type": "execute_result"
    }
   ],
   "source": [
    "data['ret_tw9919'] = data.tw9919.pct_change() # 計算每週報酬\n",
    "data.head()"
   ]
  },
  {
   "cell_type": "code",
   "execution_count": 114,
   "metadata": {
    "collapsed": true
   },
   "outputs": [],
   "source": [
    "data['ret_tw9919'] = data['ret_tw9919'].shift(-1)"
   ]
  },
  {
   "cell_type": "code",
   "execution_count": 115,
   "metadata": {
    "collapsed": false
   },
   "outputs": [
    {
     "data": {
      "text/html": [
       "<div>\n",
       "<table border=\"1\" class=\"dataframe\">\n",
       "  <thead>\n",
       "    <tr style=\"text-align: right;\">\n",
       "      <th></th>\n",
       "      <th>tw9919</th>\n",
       "      <th>cold</th>\n",
       "      <th>flu</th>\n",
       "      <th>cold_mavg</th>\n",
       "      <th>flu_mavg</th>\n",
       "      <th>cold_order</th>\n",
       "      <th>flu_order</th>\n",
       "      <th>ret_tw9919</th>\n",
       "      <th>ret_cold</th>\n",
       "      <th>ret_flu</th>\n",
       "    </tr>\n",
       "    <tr>\n",
       "      <th>Date</th>\n",
       "      <th></th>\n",
       "      <th></th>\n",
       "      <th></th>\n",
       "      <th></th>\n",
       "      <th></th>\n",
       "      <th></th>\n",
       "      <th></th>\n",
       "      <th></th>\n",
       "      <th></th>\n",
       "      <th></th>\n",
       "    </tr>\n",
       "  </thead>\n",
       "  <tbody>\n",
       "    <tr>\n",
       "      <th>2004-01-04</th>\n",
       "      <td>10.43874</td>\n",
       "      <td>32</td>\n",
       "      <td>1</td>\n",
       "      <td>NaN</td>\n",
       "      <td>NaN</td>\n",
       "      <td>0</td>\n",
       "      <td>0</td>\n",
       "      <td>-0.006450</td>\n",
       "      <td>-0.000000</td>\n",
       "      <td>-0.000000</td>\n",
       "    </tr>\n",
       "    <tr>\n",
       "      <th>2004-01-11</th>\n",
       "      <td>10.37141</td>\n",
       "      <td>26</td>\n",
       "      <td>1</td>\n",
       "      <td>NaN</td>\n",
       "      <td>NaN</td>\n",
       "      <td>0</td>\n",
       "      <td>0</td>\n",
       "      <td>0.000000</td>\n",
       "      <td>0.000000</td>\n",
       "      <td>0.000000</td>\n",
       "    </tr>\n",
       "    <tr>\n",
       "      <th>2004-01-18</th>\n",
       "      <td>10.37141</td>\n",
       "      <td>17</td>\n",
       "      <td>1</td>\n",
       "      <td>NaN</td>\n",
       "      <td>NaN</td>\n",
       "      <td>0</td>\n",
       "      <td>0</td>\n",
       "      <td>0.000000</td>\n",
       "      <td>0.000000</td>\n",
       "      <td>0.000000</td>\n",
       "    </tr>\n",
       "    <tr>\n",
       "      <th>2004-01-25</th>\n",
       "      <td>10.37141</td>\n",
       "      <td>26</td>\n",
       "      <td>2</td>\n",
       "      <td>25.0</td>\n",
       "      <td>1.000000</td>\n",
       "      <td>1</td>\n",
       "      <td>1</td>\n",
       "      <td>0.051953</td>\n",
       "      <td>0.051953</td>\n",
       "      <td>0.051953</td>\n",
       "    </tr>\n",
       "    <tr>\n",
       "      <th>2004-02-01</th>\n",
       "      <td>10.91024</td>\n",
       "      <td>33</td>\n",
       "      <td>3</td>\n",
       "      <td>23.0</td>\n",
       "      <td>1.333333</td>\n",
       "      <td>1</td>\n",
       "      <td>1</td>\n",
       "      <td>0.006170</td>\n",
       "      <td>0.006170</td>\n",
       "      <td>0.006170</td>\n",
       "    </tr>\n",
       "  </tbody>\n",
       "</table>\n",
       "</div>"
      ],
      "text/plain": [
       "              tw9919  cold  flu  cold_mavg  flu_mavg  cold_order  flu_order  \\\n",
       "Date                                                                          \n",
       "2004-01-04  10.43874    32    1        NaN       NaN           0          0   \n",
       "2004-01-11  10.37141    26    1        NaN       NaN           0          0   \n",
       "2004-01-18  10.37141    17    1        NaN       NaN           0          0   \n",
       "2004-01-25  10.37141    26    2       25.0  1.000000           1          1   \n",
       "2004-02-01  10.91024    33    3       23.0  1.333333           1          1   \n",
       "\n",
       "            ret_tw9919  ret_cold   ret_flu  \n",
       "Date                                        \n",
       "2004-01-04   -0.006450 -0.000000 -0.000000  \n",
       "2004-01-11    0.000000  0.000000  0.000000  \n",
       "2004-01-18    0.000000  0.000000  0.000000  \n",
       "2004-01-25    0.051953  0.051953  0.051953  \n",
       "2004-02-01    0.006170  0.006170  0.006170  "
      ]
     },
     "execution_count": 115,
     "metadata": {},
     "output_type": "execute_result"
    }
   ],
   "source": [
    "data.head()"
   ]
  },
  {
   "cell_type": "markdown",
   "metadata": {},
   "source": [
    "## 計算根據關鍵字買賣的報酬"
   ]
  },
  {
   "cell_type": "code",
   "execution_count": 116,
   "metadata": {
    "collapsed": false
   },
   "outputs": [
    {
     "data": {
      "text/html": [
       "<div>\n",
       "<table border=\"1\" class=\"dataframe\">\n",
       "  <thead>\n",
       "    <tr style=\"text-align: right;\">\n",
       "      <th></th>\n",
       "      <th>tw9919</th>\n",
       "      <th>cold</th>\n",
       "      <th>flu</th>\n",
       "      <th>cold_mavg</th>\n",
       "      <th>flu_mavg</th>\n",
       "      <th>cold_order</th>\n",
       "      <th>flu_order</th>\n",
       "      <th>ret_tw9919</th>\n",
       "      <th>ret_cold</th>\n",
       "      <th>ret_flu</th>\n",
       "    </tr>\n",
       "    <tr>\n",
       "      <th>Date</th>\n",
       "      <th></th>\n",
       "      <th></th>\n",
       "      <th></th>\n",
       "      <th></th>\n",
       "      <th></th>\n",
       "      <th></th>\n",
       "      <th></th>\n",
       "      <th></th>\n",
       "      <th></th>\n",
       "      <th></th>\n",
       "    </tr>\n",
       "  </thead>\n",
       "  <tbody>\n",
       "    <tr>\n",
       "      <th>2004-01-04</th>\n",
       "      <td>10.43874</td>\n",
       "      <td>32</td>\n",
       "      <td>1</td>\n",
       "      <td>NaN</td>\n",
       "      <td>NaN</td>\n",
       "      <td>0</td>\n",
       "      <td>0</td>\n",
       "      <td>-0.006450</td>\n",
       "      <td>-0.000000</td>\n",
       "      <td>-0.000000</td>\n",
       "    </tr>\n",
       "    <tr>\n",
       "      <th>2004-01-11</th>\n",
       "      <td>10.37141</td>\n",
       "      <td>26</td>\n",
       "      <td>1</td>\n",
       "      <td>NaN</td>\n",
       "      <td>NaN</td>\n",
       "      <td>0</td>\n",
       "      <td>0</td>\n",
       "      <td>0.000000</td>\n",
       "      <td>0.000000</td>\n",
       "      <td>0.000000</td>\n",
       "    </tr>\n",
       "    <tr>\n",
       "      <th>2004-01-18</th>\n",
       "      <td>10.37141</td>\n",
       "      <td>17</td>\n",
       "      <td>1</td>\n",
       "      <td>NaN</td>\n",
       "      <td>NaN</td>\n",
       "      <td>0</td>\n",
       "      <td>0</td>\n",
       "      <td>0.000000</td>\n",
       "      <td>0.000000</td>\n",
       "      <td>0.000000</td>\n",
       "    </tr>\n",
       "    <tr>\n",
       "      <th>2004-01-25</th>\n",
       "      <td>10.37141</td>\n",
       "      <td>26</td>\n",
       "      <td>2</td>\n",
       "      <td>25.000000</td>\n",
       "      <td>1.000000</td>\n",
       "      <td>1</td>\n",
       "      <td>1</td>\n",
       "      <td>0.051953</td>\n",
       "      <td>0.051953</td>\n",
       "      <td>0.051953</td>\n",
       "    </tr>\n",
       "    <tr>\n",
       "      <th>2004-02-01</th>\n",
       "      <td>10.91024</td>\n",
       "      <td>33</td>\n",
       "      <td>3</td>\n",
       "      <td>23.000000</td>\n",
       "      <td>1.333333</td>\n",
       "      <td>1</td>\n",
       "      <td>1</td>\n",
       "      <td>0.006170</td>\n",
       "      <td>0.006170</td>\n",
       "      <td>0.006170</td>\n",
       "    </tr>\n",
       "    <tr>\n",
       "      <th>2004-02-08</th>\n",
       "      <td>10.97756</td>\n",
       "      <td>25</td>\n",
       "      <td>2</td>\n",
       "      <td>25.333333</td>\n",
       "      <td>2.000000</td>\n",
       "      <td>-1</td>\n",
       "      <td>0</td>\n",
       "      <td>0.024539</td>\n",
       "      <td>-0.024539</td>\n",
       "      <td>-0.024539</td>\n",
       "    </tr>\n",
       "    <tr>\n",
       "      <th>2004-02-15</th>\n",
       "      <td>11.24694</td>\n",
       "      <td>29</td>\n",
       "      <td>2</td>\n",
       "      <td>28.000000</td>\n",
       "      <td>2.333333</td>\n",
       "      <td>1</td>\n",
       "      <td>-1</td>\n",
       "      <td>0.005986</td>\n",
       "      <td>0.005986</td>\n",
       "      <td>0.005986</td>\n",
       "    </tr>\n",
       "    <tr>\n",
       "      <th>2004-02-22</th>\n",
       "      <td>11.31426</td>\n",
       "      <td>27</td>\n",
       "      <td>1</td>\n",
       "      <td>29.000000</td>\n",
       "      <td>2.333333</td>\n",
       "      <td>-1</td>\n",
       "      <td>-1</td>\n",
       "      <td>-0.011901</td>\n",
       "      <td>0.011901</td>\n",
       "      <td>0.011901</td>\n",
       "    </tr>\n",
       "    <tr>\n",
       "      <th>2004-02-29</th>\n",
       "      <td>11.17961</td>\n",
       "      <td>34</td>\n",
       "      <td>1</td>\n",
       "      <td>27.000000</td>\n",
       "      <td>1.666667</td>\n",
       "      <td>1</td>\n",
       "      <td>-1</td>\n",
       "      <td>0.186746</td>\n",
       "      <td>0.186746</td>\n",
       "      <td>0.186746</td>\n",
       "    </tr>\n",
       "    <tr>\n",
       "      <th>2004-03-07</th>\n",
       "      <td>13.26736</td>\n",
       "      <td>22</td>\n",
       "      <td>1</td>\n",
       "      <td>30.000000</td>\n",
       "      <td>1.333333</td>\n",
       "      <td>-1</td>\n",
       "      <td>-1</td>\n",
       "      <td>0.005075</td>\n",
       "      <td>-0.005075</td>\n",
       "      <td>-0.005075</td>\n",
       "    </tr>\n",
       "  </tbody>\n",
       "</table>\n",
       "</div>"
      ],
      "text/plain": [
       "              tw9919  cold  flu  cold_mavg  flu_mavg  cold_order  flu_order  \\\n",
       "Date                                                                          \n",
       "2004-01-04  10.43874    32    1        NaN       NaN           0          0   \n",
       "2004-01-11  10.37141    26    1        NaN       NaN           0          0   \n",
       "2004-01-18  10.37141    17    1        NaN       NaN           0          0   \n",
       "2004-01-25  10.37141    26    2  25.000000  1.000000           1          1   \n",
       "2004-02-01  10.91024    33    3  23.000000  1.333333           1          1   \n",
       "2004-02-08  10.97756    25    2  25.333333  2.000000          -1          0   \n",
       "2004-02-15  11.24694    29    2  28.000000  2.333333           1         -1   \n",
       "2004-02-22  11.31426    27    1  29.000000  2.333333          -1         -1   \n",
       "2004-02-29  11.17961    34    1  27.000000  1.666667           1         -1   \n",
       "2004-03-07  13.26736    22    1  30.000000  1.333333          -1         -1   \n",
       "\n",
       "            ret_tw9919  ret_cold   ret_flu  \n",
       "Date                                        \n",
       "2004-01-04   -0.006450 -0.000000 -0.000000  \n",
       "2004-01-11    0.000000  0.000000  0.000000  \n",
       "2004-01-18    0.000000  0.000000  0.000000  \n",
       "2004-01-25    0.051953  0.051953  0.051953  \n",
       "2004-02-01    0.006170  0.006170  0.006170  \n",
       "2004-02-08    0.024539 -0.024539 -0.024539  \n",
       "2004-02-15    0.005986  0.005986  0.005986  \n",
       "2004-02-22   -0.011901  0.011901  0.011901  \n",
       "2004-02-29    0.186746  0.186746  0.186746  \n",
       "2004-03-07    0.005075 -0.005075 -0.005075  "
      ]
     },
     "execution_count": 116,
     "metadata": {},
     "output_type": "execute_result"
    }
   ],
   "source": [
    "data['ret_cold'] = data.cold_order * data.ret_tw9919\n",
    "data.head(10)"
   ]
  },
  {
   "cell_type": "code",
   "execution_count": 117,
   "metadata": {
    "collapsed": false
   },
   "outputs": [
    {
     "data": {
      "text/html": [
       "<div>\n",
       "<table border=\"1\" class=\"dataframe\">\n",
       "  <thead>\n",
       "    <tr style=\"text-align: right;\">\n",
       "      <th></th>\n",
       "      <th>tw9919</th>\n",
       "      <th>cold</th>\n",
       "      <th>flu</th>\n",
       "      <th>cold_mavg</th>\n",
       "      <th>flu_mavg</th>\n",
       "      <th>cold_order</th>\n",
       "      <th>flu_order</th>\n",
       "      <th>ret_tw9919</th>\n",
       "      <th>ret_cold</th>\n",
       "      <th>ret_flu</th>\n",
       "    </tr>\n",
       "    <tr>\n",
       "      <th>Date</th>\n",
       "      <th></th>\n",
       "      <th></th>\n",
       "      <th></th>\n",
       "      <th></th>\n",
       "      <th></th>\n",
       "      <th></th>\n",
       "      <th></th>\n",
       "      <th></th>\n",
       "      <th></th>\n",
       "      <th></th>\n",
       "    </tr>\n",
       "  </thead>\n",
       "  <tbody>\n",
       "    <tr>\n",
       "      <th>2004-01-04</th>\n",
       "      <td>10.43874</td>\n",
       "      <td>32</td>\n",
       "      <td>1</td>\n",
       "      <td>NaN</td>\n",
       "      <td>NaN</td>\n",
       "      <td>0</td>\n",
       "      <td>0</td>\n",
       "      <td>-0.006450</td>\n",
       "      <td>-0.000000</td>\n",
       "      <td>-0.000000</td>\n",
       "    </tr>\n",
       "    <tr>\n",
       "      <th>2004-01-11</th>\n",
       "      <td>10.37141</td>\n",
       "      <td>26</td>\n",
       "      <td>1</td>\n",
       "      <td>NaN</td>\n",
       "      <td>NaN</td>\n",
       "      <td>0</td>\n",
       "      <td>0</td>\n",
       "      <td>0.000000</td>\n",
       "      <td>0.000000</td>\n",
       "      <td>0.000000</td>\n",
       "    </tr>\n",
       "    <tr>\n",
       "      <th>2004-01-18</th>\n",
       "      <td>10.37141</td>\n",
       "      <td>17</td>\n",
       "      <td>1</td>\n",
       "      <td>NaN</td>\n",
       "      <td>NaN</td>\n",
       "      <td>0</td>\n",
       "      <td>0</td>\n",
       "      <td>0.000000</td>\n",
       "      <td>0.000000</td>\n",
       "      <td>0.000000</td>\n",
       "    </tr>\n",
       "    <tr>\n",
       "      <th>2004-01-25</th>\n",
       "      <td>10.37141</td>\n",
       "      <td>26</td>\n",
       "      <td>2</td>\n",
       "      <td>25.000000</td>\n",
       "      <td>1.000000</td>\n",
       "      <td>1</td>\n",
       "      <td>1</td>\n",
       "      <td>0.051953</td>\n",
       "      <td>0.051953</td>\n",
       "      <td>0.051953</td>\n",
       "    </tr>\n",
       "    <tr>\n",
       "      <th>2004-02-01</th>\n",
       "      <td>10.91024</td>\n",
       "      <td>33</td>\n",
       "      <td>3</td>\n",
       "      <td>23.000000</td>\n",
       "      <td>1.333333</td>\n",
       "      <td>1</td>\n",
       "      <td>1</td>\n",
       "      <td>0.006170</td>\n",
       "      <td>0.006170</td>\n",
       "      <td>0.006170</td>\n",
       "    </tr>\n",
       "    <tr>\n",
       "      <th>2004-02-08</th>\n",
       "      <td>10.97756</td>\n",
       "      <td>25</td>\n",
       "      <td>2</td>\n",
       "      <td>25.333333</td>\n",
       "      <td>2.000000</td>\n",
       "      <td>-1</td>\n",
       "      <td>0</td>\n",
       "      <td>0.024539</td>\n",
       "      <td>-0.024539</td>\n",
       "      <td>0.000000</td>\n",
       "    </tr>\n",
       "    <tr>\n",
       "      <th>2004-02-15</th>\n",
       "      <td>11.24694</td>\n",
       "      <td>29</td>\n",
       "      <td>2</td>\n",
       "      <td>28.000000</td>\n",
       "      <td>2.333333</td>\n",
       "      <td>1</td>\n",
       "      <td>-1</td>\n",
       "      <td>0.005986</td>\n",
       "      <td>0.005986</td>\n",
       "      <td>-0.005986</td>\n",
       "    </tr>\n",
       "    <tr>\n",
       "      <th>2004-02-22</th>\n",
       "      <td>11.31426</td>\n",
       "      <td>27</td>\n",
       "      <td>1</td>\n",
       "      <td>29.000000</td>\n",
       "      <td>2.333333</td>\n",
       "      <td>-1</td>\n",
       "      <td>-1</td>\n",
       "      <td>-0.011901</td>\n",
       "      <td>0.011901</td>\n",
       "      <td>0.011901</td>\n",
       "    </tr>\n",
       "    <tr>\n",
       "      <th>2004-02-29</th>\n",
       "      <td>11.17961</td>\n",
       "      <td>34</td>\n",
       "      <td>1</td>\n",
       "      <td>27.000000</td>\n",
       "      <td>1.666667</td>\n",
       "      <td>1</td>\n",
       "      <td>-1</td>\n",
       "      <td>0.186746</td>\n",
       "      <td>0.186746</td>\n",
       "      <td>-0.186746</td>\n",
       "    </tr>\n",
       "    <tr>\n",
       "      <th>2004-03-07</th>\n",
       "      <td>13.26736</td>\n",
       "      <td>22</td>\n",
       "      <td>1</td>\n",
       "      <td>30.000000</td>\n",
       "      <td>1.333333</td>\n",
       "      <td>-1</td>\n",
       "      <td>-1</td>\n",
       "      <td>0.005075</td>\n",
       "      <td>-0.005075</td>\n",
       "      <td>-0.005075</td>\n",
       "    </tr>\n",
       "  </tbody>\n",
       "</table>\n",
       "</div>"
      ],
      "text/plain": [
       "              tw9919  cold  flu  cold_mavg  flu_mavg  cold_order  flu_order  \\\n",
       "Date                                                                          \n",
       "2004-01-04  10.43874    32    1        NaN       NaN           0          0   \n",
       "2004-01-11  10.37141    26    1        NaN       NaN           0          0   \n",
       "2004-01-18  10.37141    17    1        NaN       NaN           0          0   \n",
       "2004-01-25  10.37141    26    2  25.000000  1.000000           1          1   \n",
       "2004-02-01  10.91024    33    3  23.000000  1.333333           1          1   \n",
       "2004-02-08  10.97756    25    2  25.333333  2.000000          -1          0   \n",
       "2004-02-15  11.24694    29    2  28.000000  2.333333           1         -1   \n",
       "2004-02-22  11.31426    27    1  29.000000  2.333333          -1         -1   \n",
       "2004-02-29  11.17961    34    1  27.000000  1.666667           1         -1   \n",
       "2004-03-07  13.26736    22    1  30.000000  1.333333          -1         -1   \n",
       "\n",
       "            ret_tw9919  ret_cold   ret_flu  \n",
       "Date                                        \n",
       "2004-01-04   -0.006450 -0.000000 -0.000000  \n",
       "2004-01-11    0.000000  0.000000  0.000000  \n",
       "2004-01-18    0.000000  0.000000  0.000000  \n",
       "2004-01-25    0.051953  0.051953  0.051953  \n",
       "2004-02-01    0.006170  0.006170  0.006170  \n",
       "2004-02-08    0.024539 -0.024539  0.000000  \n",
       "2004-02-15    0.005986  0.005986 -0.005986  \n",
       "2004-02-22   -0.011901  0.011901  0.011901  \n",
       "2004-02-29    0.186746  0.186746 -0.186746  \n",
       "2004-03-07    0.005075 -0.005075 -0.005075  "
      ]
     },
     "execution_count": 117,
     "metadata": {},
     "output_type": "execute_result"
    }
   ],
   "source": [
    "data['ret_flu'] = data.flu_order * data.ret_tw9919\n",
    "data.head(10)"
   ]
  },
  {
   "cell_type": "markdown",
   "metadata": {},
   "source": [
    "## 觀察資金變化"
   ]
  },
  {
   "cell_type": "code",
   "execution_count": 126,
   "metadata": {
    "collapsed": false
   },
   "outputs": [
    {
     "data": {
      "image/png": "[encoded data removed]",
      "text/plain": [
       "<matplotlib.figure.Figure at 0xe238a20>"
      ]
     },
     "metadata": {},
     "output_type": "display_data"
    }
   ],
   "source": [
    "(1 + data.ret_cold).cumprod().plot(legend=True, figsize=[20,20])\n",
    "(1 + data.ret_tw9919).cumprod().plot(legend=True)\n",
    "(1 + data.ret_flu).cumprod().plot(legend=True)"
   ]
  },
  {
   "cell_type": "code",
   "execution_count": 129,
   "metadata": {
    "collapsed": false
   },
   "outputs": [],
   "source": [
    "?data.ret_cold.plot"
   ]
  },
  {
   "cell_type": "markdown",
   "metadata": {},
   "source": [
    "# 貸款違約用戶探勘"
   ]
  },
  {
   "cell_type": "markdown",
   "metadata": {},
   "source": [
    "## 使用Pandas 讀取資料"
   ]
  },
  {
   "cell_type": "code",
   "execution_count": 173,
   "metadata": {
    "collapsed": false
   },
   "outputs": [
    {
     "data": {
      "text/html": [
       "<div>\n",
       "<table border=\"1\" class=\"dataframe\">\n",
       "  <thead>\n",
       "    <tr style=\"text-align: right;\">\n",
       "      <th></th>\n",
       "      <th>Unnamed: 0</th>\n",
       "      <th>Creditability</th>\n",
       "      <th>Account.Balance</th>\n",
       "      <th>Duration.of.Credit..month.</th>\n",
       "      <th>Payment.Status.of.Previous.Credit</th>\n",
       "      <th>Purpose</th>\n",
       "      <th>Credit.Amount</th>\n",
       "      <th>Value.Savings.Stocks</th>\n",
       "      <th>Length.of.current.employment</th>\n",
       "      <th>Instalment.per.cent</th>\n",
       "      <th>...</th>\n",
       "      <th>Duration.in.Current.address</th>\n",
       "      <th>Most.valuable.available.asset</th>\n",
       "      <th>Age..years.</th>\n",
       "      <th>Concurrent.Credits</th>\n",
       "      <th>Type.of.apartment</th>\n",
       "      <th>No.of.Credits.at.this.Bank</th>\n",
       "      <th>Occupation</th>\n",
       "      <th>No.of.dependents</th>\n",
       "      <th>Telephone</th>\n",
       "      <th>Foreign.Worker</th>\n",
       "    </tr>\n",
       "  </thead>\n",
       "  <tbody>\n",
       "    <tr>\n",
       "      <th>0</th>\n",
       "      <td>497</td>\n",
       "      <td>1</td>\n",
       "      <td>3</td>\n",
       "      <td>6</td>\n",
       "      <td>2</td>\n",
       "      <td>3</td>\n",
       "      <td>2108</td>\n",
       "      <td>1</td>\n",
       "      <td>3</td>\n",
       "      <td>2</td>\n",
       "      <td>...</td>\n",
       "      <td>2</td>\n",
       "      <td>1</td>\n",
       "      <td>29</td>\n",
       "      <td>2</td>\n",
       "      <td>1</td>\n",
       "      <td>1</td>\n",
       "      <td>1</td>\n",
       "      <td>1</td>\n",
       "      <td>1</td>\n",
       "      <td>1</td>\n",
       "    </tr>\n",
       "    <tr>\n",
       "      <th>1</th>\n",
       "      <td>756</td>\n",
       "      <td>0</td>\n",
       "      <td>1</td>\n",
       "      <td>15</td>\n",
       "      <td>1</td>\n",
       "      <td>4</td>\n",
       "      <td>950</td>\n",
       "      <td>1</td>\n",
       "      <td>4</td>\n",
       "      <td>4</td>\n",
       "      <td>...</td>\n",
       "      <td>3</td>\n",
       "      <td>3</td>\n",
       "      <td>33</td>\n",
       "      <td>2</td>\n",
       "      <td>1</td>\n",
       "      <td>2</td>\n",
       "      <td>1</td>\n",
       "      <td>2</td>\n",
       "      <td>1</td>\n",
       "      <td>1</td>\n",
       "    </tr>\n",
       "    <tr>\n",
       "      <th>2</th>\n",
       "      <td>580</td>\n",
       "      <td>0</td>\n",
       "      <td>1</td>\n",
       "      <td>42</td>\n",
       "      <td>2</td>\n",
       "      <td>3</td>\n",
       "      <td>7174</td>\n",
       "      <td>4</td>\n",
       "      <td>3</td>\n",
       "      <td>4</td>\n",
       "      <td>...</td>\n",
       "      <td>3</td>\n",
       "      <td>3</td>\n",
       "      <td>30</td>\n",
       "      <td>2</td>\n",
       "      <td>2</td>\n",
       "      <td>1</td>\n",
       "      <td>1</td>\n",
       "      <td>1</td>\n",
       "      <td>2</td>\n",
       "      <td>1</td>\n",
       "    </tr>\n",
       "    <tr>\n",
       "      <th>3</th>\n",
       "      <td>833</td>\n",
       "      <td>0</td>\n",
       "      <td>3</td>\n",
       "      <td>36</td>\n",
       "      <td>3</td>\n",
       "      <td>4</td>\n",
       "      <td>7980</td>\n",
       "      <td>4</td>\n",
       "      <td>1</td>\n",
       "      <td>4</td>\n",
       "      <td>...</td>\n",
       "      <td>4</td>\n",
       "      <td>3</td>\n",
       "      <td>27</td>\n",
       "      <td>2</td>\n",
       "      <td>1</td>\n",
       "      <td>2</td>\n",
       "      <td>1</td>\n",
       "      <td>1</td>\n",
       "      <td>2</td>\n",
       "      <td>1</td>\n",
       "    </tr>\n",
       "    <tr>\n",
       "      <th>4</th>\n",
       "      <td>602</td>\n",
       "      <td>1</td>\n",
       "      <td>3</td>\n",
       "      <td>24</td>\n",
       "      <td>3</td>\n",
       "      <td>2</td>\n",
       "      <td>2028</td>\n",
       "      <td>1</td>\n",
       "      <td>3</td>\n",
       "      <td>2</td>\n",
       "      <td>...</td>\n",
       "      <td>2</td>\n",
       "      <td>2</td>\n",
       "      <td>30</td>\n",
       "      <td>2</td>\n",
       "      <td>2</td>\n",
       "      <td>2</td>\n",
       "      <td>1</td>\n",
       "      <td>1</td>\n",
       "      <td>1</td>\n",
       "      <td>1</td>\n",
       "    </tr>\n",
       "  </tbody>\n",
       "</table>\n",
       "<p>5 rows × 22 columns</p>\n",
       "</div>"
      ],
      "text/plain": [
       "   Unnamed: 0  Creditability  Account.Balance  Duration.of.Credit..month.  \\\n",
       "0         497              1                3                           6   \n",
       "1         756              0                1                          15   \n",
       "2         580              0                1                          42   \n",
       "3         833              0                3                          36   \n",
       "4         602              1                3                          24   \n",
       "\n",
       "   Payment.Status.of.Previous.Credit  Purpose  Credit.Amount  \\\n",
       "0                                  2        3           2108   \n",
       "1                                  1        4            950   \n",
       "2                                  2        3           7174   \n",
       "3                                  3        4           7980   \n",
       "4                                  3        2           2028   \n",
       "\n",
       "   Value.Savings.Stocks  Length.of.current.employment  Instalment.per.cent  \\\n",
       "0                     1                             3                    2   \n",
       "1                     1                             4                    4   \n",
       "2                     4                             3                    4   \n",
       "3                     4                             1                    4   \n",
       "4                     1                             3                    2   \n",
       "\n",
       "        ...        Duration.in.Current.address  Most.valuable.available.asset  \\\n",
       "0       ...                                  2                              1   \n",
       "1       ...                                  3                              3   \n",
       "2       ...                                  3                              3   \n",
       "3       ...                                  4                              3   \n",
       "4       ...                                  2                              2   \n",
       "\n",
       "   Age..years.  Concurrent.Credits  Type.of.apartment  \\\n",
       "0           29                   2                  1   \n",
       "1           33                   2                  1   \n",
       "2           30                   2                  2   \n",
       "3           27                   2                  1   \n",
       "4           30                   2                  2   \n",
       "\n",
       "   No.of.Credits.at.this.Bank  Occupation  No.of.dependents  Telephone  \\\n",
       "0                           1           1                 1          1   \n",
       "1                           2           1                 2          1   \n",
       "2                           1           1                 1          2   \n",
       "3                           2           1                 1          2   \n",
       "4                           2           1                 1          1   \n",
       "\n",
       "   Foreign.Worker  \n",
       "0               1  \n",
       "1               1  \n",
       "2               1  \n",
       "3               1  \n",
       "4               1  \n",
       "\n",
       "[5 rows x 22 columns]"
      ]
     },
     "execution_count": 173,
     "metadata": {},
     "output_type": "execute_result"
    }
   ],
   "source": [
    "import pandas as pd\n",
    "trainset = pd.read_csv('C:\\\\Users\\\\Student\\\\Training50.csv')\n",
    "trainset.head()"
   ]
  },
  {
   "cell_type": "code",
   "execution_count": 174,
   "metadata": {
    "collapsed": false
   },
   "outputs": [
    {
     "data": {
      "text/plain": [
       "Index([u'Unnamed: 0', u'Creditability', u'Account.Balance',\n",
       "       u'Duration.of.Credit..month.', u'Payment.Status.of.Previous.Credit',\n",
       "       u'Purpose', u'Credit.Amount', u'Value.Savings.Stocks',\n",
       "       u'Length.of.current.employment', u'Instalment.per.cent',\n",
       "       u'Sex...Marital.Status', u'Guarantors', u'Duration.in.Current.address',\n",
       "       u'Most.valuable.available.asset', u'Age..years.', u'Concurrent.Credits',\n",
       "       u'Type.of.apartment', u'No.of.Credits.at.this.Bank', u'Occupation',\n",
       "       u'No.of.dependents', u'Telephone', u'Foreign.Worker'],\n",
       "      dtype='object')"
      ]
     },
     "execution_count": 174,
     "metadata": {},
     "output_type": "execute_result"
    }
   ],
   "source": [
    "trainset.columns"
   ]
  },
  {
   "cell_type": "code",
   "execution_count": 175,
   "metadata": {
    "collapsed": false
   },
   "outputs": [
    {
     "data": {
      "text/html": [
       "<div>\n",
       "<table border=\"1\" class=\"dataframe\">\n",
       "  <thead>\n",
       "    <tr style=\"text-align: right;\">\n",
       "      <th></th>\n",
       "      <th>1</th>\n",
       "      <th>2</th>\n",
       "      <th>3</th>\n",
       "    </tr>\n",
       "  </thead>\n",
       "  <tbody>\n",
       "    <tr>\n",
       "      <th>0</th>\n",
       "      <td>0.0</td>\n",
       "      <td>0.0</td>\n",
       "      <td>1.0</td>\n",
       "    </tr>\n",
       "    <tr>\n",
       "      <th>1</th>\n",
       "      <td>1.0</td>\n",
       "      <td>0.0</td>\n",
       "      <td>0.0</td>\n",
       "    </tr>\n",
       "    <tr>\n",
       "      <th>2</th>\n",
       "      <td>1.0</td>\n",
       "      <td>0.0</td>\n",
       "      <td>0.0</td>\n",
       "    </tr>\n",
       "    <tr>\n",
       "      <th>3</th>\n",
       "      <td>0.0</td>\n",
       "      <td>0.0</td>\n",
       "      <td>1.0</td>\n",
       "    </tr>\n",
       "    <tr>\n",
       "      <th>4</th>\n",
       "      <td>0.0</td>\n",
       "      <td>0.0</td>\n",
       "      <td>1.0</td>\n",
       "    </tr>\n",
       "  </tbody>\n",
       "</table>\n",
       "</div>"
      ],
      "text/plain": [
       "     1    2    3\n",
       "0  0.0  0.0  1.0\n",
       "1  1.0  0.0  0.0\n",
       "2  1.0  0.0  0.0\n",
       "3  0.0  0.0  1.0\n",
       "4  0.0  0.0  1.0"
      ]
     },
     "execution_count": 175,
     "metadata": {},
     "output_type": "execute_result"
    }
   ],
   "source": [
    "pd.get_dummies(trainset['Account.Balance']).head()"
   ]
  },
  {
   "cell_type": "code",
   "execution_count": 176,
   "metadata": {
    "collapsed": true
   },
   "outputs": [],
   "source": [
    "# 類別資料\n",
    "cat_var = [u'Account.Balance', u'Payment.Status.of.Previous.Credit',\n",
    "       u'Purpose', u'Value.Savings.Stocks',\n",
    "       u'Length.of.current.employment', u'Instalment.per.cent',\n",
    "       u'Sex...Marital.Status', u'Guarantors', u'Duration.in.Current.address',\n",
    "       u'Most.valuable.available.asset', u'Concurrent.Credits',\n",
    "       u'Type.of.apartment', u'No.of.Credits.at.this.Bank', u'Occupation',\n",
    "       u'No.of.dependents', u'Telephone', u'Foreign.Worker']\n",
    "# 數值資料\n",
    "num_var = [u'Duration.of.Credit..month.', u'Credit.Amount', u'Age..years.']"
   ]
  },
  {
   "cell_type": "code",
   "execution_count": 177,
   "metadata": {
    "collapsed": true
   },
   "outputs": [],
   "source": [
    "train_df = trainset['Creditability']\n",
    "\n",
    "for var in cat_var:\n",
    "    train_df = pd.concat([train_df,pd.get_dummies(trainset[var])],axis=1)\n",
    "\n",
    "train_df = pd.concat([train_df,trainset[num_var]],axis=1)"
   ]
  },
  {
   "cell_type": "code",
   "execution_count": 178,
   "metadata": {
    "collapsed": false
   },
   "outputs": [
    {
     "data": {
      "text/html": [
       "<div>\n",
       "<table border=\"1\" class=\"dataframe\">\n",
       "  <thead>\n",
       "    <tr style=\"text-align: right;\">\n",
       "      <th></th>\n",
       "      <th>Creditability</th>\n",
       "      <th>1</th>\n",
       "      <th>2</th>\n",
       "      <th>3</th>\n",
       "      <th>1</th>\n",
       "      <th>2</th>\n",
       "      <th>3</th>\n",
       "      <th>1</th>\n",
       "      <th>2</th>\n",
       "      <th>3</th>\n",
       "      <th>...</th>\n",
       "      <th>1</th>\n",
       "      <th>1</th>\n",
       "      <th>2</th>\n",
       "      <th>1</th>\n",
       "      <th>2</th>\n",
       "      <th>1</th>\n",
       "      <th>2</th>\n",
       "      <th>Duration.of.Credit..month.</th>\n",
       "      <th>Credit.Amount</th>\n",
       "      <th>Age..years.</th>\n",
       "    </tr>\n",
       "  </thead>\n",
       "  <tbody>\n",
       "    <tr>\n",
       "      <th>0</th>\n",
       "      <td>1</td>\n",
       "      <td>0.0</td>\n",
       "      <td>0.0</td>\n",
       "      <td>1.0</td>\n",
       "      <td>0.0</td>\n",
       "      <td>1.0</td>\n",
       "      <td>0.0</td>\n",
       "      <td>0.0</td>\n",
       "      <td>0.0</td>\n",
       "      <td>1.0</td>\n",
       "      <td>...</td>\n",
       "      <td>1.0</td>\n",
       "      <td>1.0</td>\n",
       "      <td>0.0</td>\n",
       "      <td>1.0</td>\n",
       "      <td>0.0</td>\n",
       "      <td>1.0</td>\n",
       "      <td>0.0</td>\n",
       "      <td>6</td>\n",
       "      <td>2108</td>\n",
       "      <td>29</td>\n",
       "    </tr>\n",
       "    <tr>\n",
       "      <th>1</th>\n",
       "      <td>0</td>\n",
       "      <td>1.0</td>\n",
       "      <td>0.0</td>\n",
       "      <td>0.0</td>\n",
       "      <td>1.0</td>\n",
       "      <td>0.0</td>\n",
       "      <td>0.0</td>\n",
       "      <td>0.0</td>\n",
       "      <td>0.0</td>\n",
       "      <td>0.0</td>\n",
       "      <td>...</td>\n",
       "      <td>1.0</td>\n",
       "      <td>0.0</td>\n",
       "      <td>1.0</td>\n",
       "      <td>1.0</td>\n",
       "      <td>0.0</td>\n",
       "      <td>1.0</td>\n",
       "      <td>0.0</td>\n",
       "      <td>15</td>\n",
       "      <td>950</td>\n",
       "      <td>33</td>\n",
       "    </tr>\n",
       "    <tr>\n",
       "      <th>2</th>\n",
       "      <td>0</td>\n",
       "      <td>1.0</td>\n",
       "      <td>0.0</td>\n",
       "      <td>0.0</td>\n",
       "      <td>0.0</td>\n",
       "      <td>1.0</td>\n",
       "      <td>0.0</td>\n",
       "      <td>0.0</td>\n",
       "      <td>0.0</td>\n",
       "      <td>1.0</td>\n",
       "      <td>...</td>\n",
       "      <td>1.0</td>\n",
       "      <td>1.0</td>\n",
       "      <td>0.0</td>\n",
       "      <td>0.0</td>\n",
       "      <td>1.0</td>\n",
       "      <td>1.0</td>\n",
       "      <td>0.0</td>\n",
       "      <td>42</td>\n",
       "      <td>7174</td>\n",
       "      <td>30</td>\n",
       "    </tr>\n",
       "    <tr>\n",
       "      <th>3</th>\n",
       "      <td>0</td>\n",
       "      <td>0.0</td>\n",
       "      <td>0.0</td>\n",
       "      <td>1.0</td>\n",
       "      <td>0.0</td>\n",
       "      <td>0.0</td>\n",
       "      <td>1.0</td>\n",
       "      <td>0.0</td>\n",
       "      <td>0.0</td>\n",
       "      <td>0.0</td>\n",
       "      <td>...</td>\n",
       "      <td>1.0</td>\n",
       "      <td>1.0</td>\n",
       "      <td>0.0</td>\n",
       "      <td>0.0</td>\n",
       "      <td>1.0</td>\n",
       "      <td>1.0</td>\n",
       "      <td>0.0</td>\n",
       "      <td>36</td>\n",
       "      <td>7980</td>\n",
       "      <td>27</td>\n",
       "    </tr>\n",
       "    <tr>\n",
       "      <th>4</th>\n",
       "      <td>1</td>\n",
       "      <td>0.0</td>\n",
       "      <td>0.0</td>\n",
       "      <td>1.0</td>\n",
       "      <td>0.0</td>\n",
       "      <td>0.0</td>\n",
       "      <td>1.0</td>\n",
       "      <td>0.0</td>\n",
       "      <td>1.0</td>\n",
       "      <td>0.0</td>\n",
       "      <td>...</td>\n",
       "      <td>1.0</td>\n",
       "      <td>1.0</td>\n",
       "      <td>0.0</td>\n",
       "      <td>1.0</td>\n",
       "      <td>0.0</td>\n",
       "      <td>1.0</td>\n",
       "      <td>0.0</td>\n",
       "      <td>24</td>\n",
       "      <td>2028</td>\n",
       "      <td>30</td>\n",
       "    </tr>\n",
       "  </tbody>\n",
       "</table>\n",
       "<p>5 rows × 53 columns</p>\n",
       "</div>"
      ],
      "text/plain": [
       "   Creditability    1    2    3    1    2    3    1    2    3     ...       \\\n",
       "0              1  0.0  0.0  1.0  0.0  1.0  0.0  0.0  0.0  1.0     ...        \n",
       "1              0  1.0  0.0  0.0  1.0  0.0  0.0  0.0  0.0  0.0     ...        \n",
       "2              0  1.0  0.0  0.0  0.0  1.0  0.0  0.0  0.0  1.0     ...        \n",
       "3              0  0.0  0.0  1.0  0.0  0.0  1.0  0.0  0.0  0.0     ...        \n",
       "4              1  0.0  0.0  1.0  0.0  0.0  1.0  0.0  1.0  0.0     ...        \n",
       "\n",
       "     1    1    2    1    2    1    2  Duration.of.Credit..month.  \\\n",
       "0  1.0  1.0  0.0  1.0  0.0  1.0  0.0                           6   \n",
       "1  1.0  0.0  1.0  1.0  0.0  1.0  0.0                          15   \n",
       "2  1.0  1.0  0.0  0.0  1.0  1.0  0.0                          42   \n",
       "3  1.0  1.0  0.0  0.0  1.0  1.0  0.0                          36   \n",
       "4  1.0  1.0  0.0  1.0  0.0  1.0  0.0                          24   \n",
       "\n",
       "   Credit.Amount  Age..years.  \n",
       "0           2108           29  \n",
       "1            950           33  \n",
       "2           7174           30  \n",
       "3           7980           27  \n",
       "4           2028           30  \n",
       "\n",
       "[5 rows x 53 columns]"
      ]
     },
     "execution_count": 178,
     "metadata": {},
     "output_type": "execute_result"
    }
   ],
   "source": [
    "train_df.head()"
   ]
  },
  {
   "cell_type": "markdown",
   "metadata": {},
   "source": [
    "## 建立決策樹"
   ]
  },
  {
   "cell_type": "code",
   "execution_count": 144,
   "metadata": {
    "collapsed": true
   },
   "outputs": [],
   "source": [
    "from sklearn import tree\n",
    "clf = tree.DecisionTreeClassifier()\n",
    "clf = clf.fit(train_df.drop('Creditability', axis = 1), train_df['Creditability'])"
   ]
  },
  {
   "cell_type": "code",
   "execution_count": 145,
   "metadata": {
    "collapsed": false
   },
   "outputs": [
    {
     "data": {
      "text/plain": [
       "Index([                            1,                             2,\n",
       "                                   3,                             1,\n",
       "                                   2,                             3,\n",
       "                                   1,                             2,\n",
       "                                   3,                             4,\n",
       "                                   1,                             2,\n",
       "                                   3,                             4,\n",
       "                                   1,                             2,\n",
       "                                   3,                             4,\n",
       "                                   1,                             2,\n",
       "                                   3,                             4,\n",
       "                                   1,                             2,\n",
       "                                   3,                             1,\n",
       "                                   2,                             1,\n",
       "                                   2,                             3,\n",
       "                                   4,                             1,\n",
       "                                   2,                             3,\n",
       "                                   4,                             1,\n",
       "                                   2,                             1,\n",
       "                                   2,                             3,\n",
       "                                   1,                             2,\n",
       "                                   1,                             1,\n",
       "                                   2,                             1,\n",
       "                                   2,                             1,\n",
       "                                   2, u'Duration.of.Credit..month.',\n",
       "                    u'Credit.Amount',                u'Age..years.'],\n",
       "      dtype='object')"
      ]
     },
     "execution_count": 145,
     "metadata": {},
     "output_type": "execute_result"
    }
   ],
   "source": [
    "# 移除Creditability 欄位(axis = 1)\n",
    "train_df.drop('Creditability', axis = 1).columns"
   ]
  },
  {
   "cell_type": "markdown",
   "metadata": {},
   "source": [
    "## 讀取測試資料集"
   ]
  },
  {
   "cell_type": "code",
   "execution_count": 148,
   "metadata": {
    "collapsed": false
   },
   "outputs": [
    {
     "data": {
      "text/html": [
       "<div>\n",
       "<table border=\"1\" class=\"dataframe\">\n",
       "  <thead>\n",
       "    <tr style=\"text-align: right;\">\n",
       "      <th></th>\n",
       "      <th>Unnamed: 0</th>\n",
       "      <th>Creditability</th>\n",
       "      <th>Account.Balance</th>\n",
       "      <th>Duration.of.Credit..month.</th>\n",
       "      <th>Payment.Status.of.Previous.Credit</th>\n",
       "      <th>Purpose</th>\n",
       "      <th>Credit.Amount</th>\n",
       "      <th>Value.Savings.Stocks</th>\n",
       "      <th>Length.of.current.employment</th>\n",
       "      <th>Instalment.per.cent</th>\n",
       "      <th>...</th>\n",
       "      <th>Duration.in.Current.address</th>\n",
       "      <th>Most.valuable.available.asset</th>\n",
       "      <th>Age..years.</th>\n",
       "      <th>Concurrent.Credits</th>\n",
       "      <th>Type.of.apartment</th>\n",
       "      <th>No.of.Credits.at.this.Bank</th>\n",
       "      <th>Occupation</th>\n",
       "      <th>No.of.dependents</th>\n",
       "      <th>Telephone</th>\n",
       "      <th>Foreign.Worker</th>\n",
       "    </tr>\n",
       "  </thead>\n",
       "  <tbody>\n",
       "    <tr>\n",
       "      <th>0</th>\n",
       "      <td>2</td>\n",
       "      <td>1</td>\n",
       "      <td>1</td>\n",
       "      <td>9</td>\n",
       "      <td>3</td>\n",
       "      <td>4</td>\n",
       "      <td>2799</td>\n",
       "      <td>1</td>\n",
       "      <td>2</td>\n",
       "      <td>2</td>\n",
       "      <td>...</td>\n",
       "      <td>2</td>\n",
       "      <td>1</td>\n",
       "      <td>36</td>\n",
       "      <td>2</td>\n",
       "      <td>1</td>\n",
       "      <td>2</td>\n",
       "      <td>1</td>\n",
       "      <td>2</td>\n",
       "      <td>1</td>\n",
       "      <td>1</td>\n",
       "    </tr>\n",
       "    <tr>\n",
       "      <th>1</th>\n",
       "      <td>4</td>\n",
       "      <td>1</td>\n",
       "      <td>1</td>\n",
       "      <td>12</td>\n",
       "      <td>3</td>\n",
       "      <td>4</td>\n",
       "      <td>2122</td>\n",
       "      <td>1</td>\n",
       "      <td>2</td>\n",
       "      <td>3</td>\n",
       "      <td>...</td>\n",
       "      <td>2</td>\n",
       "      <td>1</td>\n",
       "      <td>39</td>\n",
       "      <td>2</td>\n",
       "      <td>1</td>\n",
       "      <td>2</td>\n",
       "      <td>1</td>\n",
       "      <td>2</td>\n",
       "      <td>1</td>\n",
       "      <td>2</td>\n",
       "    </tr>\n",
       "    <tr>\n",
       "      <th>2</th>\n",
       "      <td>10</td>\n",
       "      <td>1</td>\n",
       "      <td>2</td>\n",
       "      <td>24</td>\n",
       "      <td>2</td>\n",
       "      <td>3</td>\n",
       "      <td>3758</td>\n",
       "      <td>3</td>\n",
       "      <td>1</td>\n",
       "      <td>1</td>\n",
       "      <td>...</td>\n",
       "      <td>4</td>\n",
       "      <td>4</td>\n",
       "      <td>23</td>\n",
       "      <td>2</td>\n",
       "      <td>1</td>\n",
       "      <td>1</td>\n",
       "      <td>1</td>\n",
       "      <td>1</td>\n",
       "      <td>1</td>\n",
       "      <td>1</td>\n",
       "    </tr>\n",
       "    <tr>\n",
       "      <th>3</th>\n",
       "      <td>11</td>\n",
       "      <td>1</td>\n",
       "      <td>1</td>\n",
       "      <td>11</td>\n",
       "      <td>3</td>\n",
       "      <td>4</td>\n",
       "      <td>3905</td>\n",
       "      <td>1</td>\n",
       "      <td>2</td>\n",
       "      <td>2</td>\n",
       "      <td>...</td>\n",
       "      <td>2</td>\n",
       "      <td>1</td>\n",
       "      <td>36</td>\n",
       "      <td>2</td>\n",
       "      <td>1</td>\n",
       "      <td>2</td>\n",
       "      <td>1</td>\n",
       "      <td>2</td>\n",
       "      <td>1</td>\n",
       "      <td>1</td>\n",
       "    </tr>\n",
       "    <tr>\n",
       "      <th>4</th>\n",
       "      <td>13</td>\n",
       "      <td>1</td>\n",
       "      <td>1</td>\n",
       "      <td>6</td>\n",
       "      <td>3</td>\n",
       "      <td>3</td>\n",
       "      <td>1957</td>\n",
       "      <td>1</td>\n",
       "      <td>3</td>\n",
       "      <td>1</td>\n",
       "      <td>...</td>\n",
       "      <td>4</td>\n",
       "      <td>3</td>\n",
       "      <td>31</td>\n",
       "      <td>2</td>\n",
       "      <td>2</td>\n",
       "      <td>1</td>\n",
       "      <td>1</td>\n",
       "      <td>1</td>\n",
       "      <td>1</td>\n",
       "      <td>1</td>\n",
       "    </tr>\n",
       "  </tbody>\n",
       "</table>\n",
       "<p>5 rows × 22 columns</p>\n",
       "</div>"
      ],
      "text/plain": [
       "   Unnamed: 0  Creditability  Account.Balance  Duration.of.Credit..month.  \\\n",
       "0           2              1                1                           9   \n",
       "1           4              1                1                          12   \n",
       "2          10              1                2                          24   \n",
       "3          11              1                1                          11   \n",
       "4          13              1                1                           6   \n",
       "\n",
       "   Payment.Status.of.Previous.Credit  Purpose  Credit.Amount  \\\n",
       "0                                  3        4           2799   \n",
       "1                                  3        4           2122   \n",
       "2                                  2        3           3758   \n",
       "3                                  3        4           3905   \n",
       "4                                  3        3           1957   \n",
       "\n",
       "   Value.Savings.Stocks  Length.of.current.employment  Instalment.per.cent  \\\n",
       "0                     1                             2                    2   \n",
       "1                     1                             2                    3   \n",
       "2                     3                             1                    1   \n",
       "3                     1                             2                    2   \n",
       "4                     1                             3                    1   \n",
       "\n",
       "        ...        Duration.in.Current.address  Most.valuable.available.asset  \\\n",
       "0       ...                                  2                              1   \n",
       "1       ...                                  2                              1   \n",
       "2       ...                                  4                              4   \n",
       "3       ...                                  2                              1   \n",
       "4       ...                                  4                              3   \n",
       "\n",
       "   Age..years.  Concurrent.Credits  Type.of.apartment  \\\n",
       "0           36                   2                  1   \n",
       "1           39                   2                  1   \n",
       "2           23                   2                  1   \n",
       "3           36                   2                  1   \n",
       "4           31                   2                  2   \n",
       "\n",
       "   No.of.Credits.at.this.Bank  Occupation  No.of.dependents  Telephone  \\\n",
       "0                           2           1                 2          1   \n",
       "1                           2           1                 2          1   \n",
       "2                           1           1                 1          1   \n",
       "3                           2           1                 2          1   \n",
       "4                           1           1                 1          1   \n",
       "\n",
       "   Foreign.Worker  \n",
       "0               1  \n",
       "1               2  \n",
       "2               1  \n",
       "3               1  \n",
       "4               1  \n",
       "\n",
       "[5 rows x 22 columns]"
      ]
     },
     "execution_count": 148,
     "metadata": {},
     "output_type": "execute_result"
    }
   ],
   "source": [
    "import pandas as pd\n",
    "testset = pd.read_csv('C:\\\\Users\\\\Student\\\\Test50.csv')\n",
    "testset.head()"
   ]
  },
  {
   "cell_type": "code",
   "execution_count": 149,
   "metadata": {
    "collapsed": true
   },
   "outputs": [],
   "source": [
    "# 類別資料\n",
    "cat_var = [u'Account.Balance', u'Payment.Status.of.Previous.Credit',\n",
    "       u'Purpose', u'Value.Savings.Stocks',\n",
    "       u'Length.of.current.employment', u'Instalment.per.cent',\n",
    "       u'Sex...Marital.Status', u'Guarantors', u'Duration.in.Current.address',\n",
    "       u'Most.valuable.available.asset', u'Concurrent.Credits',\n",
    "       u'Type.of.apartment', u'No.of.Credits.at.this.Bank', u'Occupation',\n",
    "       u'No.of.dependents', u'Telephone', u'Foreign.Worker']\n",
    "# 數值資料\n",
    "num_var = [u'Duration.of.Credit..month.', u'Credit.Amount', u'Age..years.']"
   ]
  },
  {
   "cell_type": "code",
   "execution_count": 151,
   "metadata": {
    "collapsed": false
   },
   "outputs": [],
   "source": [
    "test_df = testset['Creditability']\n",
    "\n",
    "for var in cat_var:\n",
    "    test_df = pd.concat([test_df,pd.get_dummies(testset[var])],axis=1)\n",
    "\n",
    "test_df = pd.concat([test_df,testset[num_var]],axis=1)"
   ]
  },
  {
   "cell_type": "markdown",
   "metadata": {},
   "source": [
    "## 產生預測結果"
   ]
  },
  {
   "cell_type": "code",
   "execution_count": 164,
   "metadata": {
    "collapsed": false
   },
   "outputs": [
    {
     "data": {
      "text/plain": [
       "array([1, 1, 0, 1, 0, 1, 0, 1, 0, 1, 1, 1, 1, 1, 1, 1, 1, 1, 0, 0, 1, 1, 0,\n",
       "       0, 1, 1, 0, 1, 0, 1, 0, 1, 1, 0, 1, 0, 1, 1, 0, 1, 1, 1, 0, 1, 1, 0,\n",
       "       1, 1, 1, 0, 1, 1, 0, 0, 1, 0, 0, 1, 1, 1, 1, 1, 1, 1, 1, 0, 1, 1, 1,\n",
       "       1, 0, 0, 0, 1, 1, 0, 1, 1, 1, 1, 1, 0, 1, 1, 1, 1, 1, 1, 1, 1, 1, 1,\n",
       "       1, 1, 1, 1, 1, 1, 1, 1, 0, 1, 1, 1, 1, 1, 1, 0, 1, 0, 1, 0, 0, 1, 0,\n",
       "       0, 1, 1, 0, 1, 1, 0, 1, 1, 1, 1, 1, 1, 1, 1, 0, 1, 1, 0, 1, 1, 0, 1,\n",
       "       1, 1, 1, 0, 0, 1, 1, 0, 1, 0, 1, 0, 1, 1, 0, 1, 0, 0, 0, 1, 0, 1, 1,\n",
       "       1, 1, 1, 1, 1, 1, 1, 1, 1, 1, 0, 1, 1, 0, 1, 1, 1, 0, 1, 1, 0, 0, 1,\n",
       "       1, 1, 1, 1, 1, 1, 0, 0, 1, 1, 1, 1, 1, 1, 1, 0, 1, 1, 0, 1, 1, 1, 1,\n",
       "       1, 1, 1, 1, 1, 1, 0, 1, 1, 1, 1, 1, 1, 0, 1, 1, 1, 1, 0, 0, 1, 0, 1,\n",
       "       1, 0, 1, 0, 1, 1, 1, 1, 0, 1, 1, 0, 0, 0, 1, 1, 1, 0, 1, 0, 1, 1, 1,\n",
       "       1, 1, 0, 1, 1, 1, 1, 1, 1, 1, 0, 1, 1, 0, 1, 1, 0, 1, 1, 1, 0, 1, 1,\n",
       "       1, 1, 1, 1, 1, 0, 1, 1, 0, 1, 0, 1, 1, 1, 0, 1, 1, 1, 1, 0, 0, 1, 1,\n",
       "       1, 0, 1, 1, 1, 1, 1, 1, 1, 0, 0, 1, 1, 1, 1, 1, 0, 1, 0, 1, 1, 1, 0,\n",
       "       1, 1, 1, 1, 1, 1, 1, 1, 1, 1, 1, 1, 1, 1, 1, 1, 1, 0, 1, 1, 1, 1, 0,\n",
       "       1, 1, 0, 0, 1, 0, 1, 1, 1, 1, 1, 1, 1, 1, 1, 1, 1, 0, 1, 0, 1, 1, 1,\n",
       "       1, 0, 1, 1, 0, 1, 1, 1, 1, 1, 0, 0, 0, 1, 1, 1, 1, 1, 1, 1, 0, 1, 1,\n",
       "       0, 0, 1, 0, 1, 1, 1, 0, 1, 0, 0, 1, 0, 1, 0, 1, 1, 1, 1, 0, 1, 1, 1,\n",
       "       1, 0, 1, 0, 0, 0, 1, 0, 1, 1, 0, 1, 1, 0, 1, 0, 1, 0, 0, 0, 1, 1, 0,\n",
       "       1, 1, 1, 1, 1, 0, 0, 1, 1, 0, 0, 1, 0, 1, 0, 0, 1, 1, 0, 0, 0, 0, 1,\n",
       "       1, 0, 0, 0, 0, 0, 0, 0, 1, 1, 1, 0, 0, 1, 1, 1, 1, 0, 0, 0, 1, 1, 1,\n",
       "       1, 0, 1, 0, 1, 1, 1, 1, 0, 1, 0, 0, 0, 1, 0, 1, 1], dtype=int64)"
      ]
     },
     "execution_count": 164,
     "metadata": {},
     "output_type": "execute_result"
    }
   ],
   "source": [
    "predicted = clf.predict(test_df.drop('Creditability', axis = 1))\n",
    "predicted"
   ]
  },
  {
   "cell_type": "markdown",
   "metadata": {},
   "source": [
    "## 驗證模型"
   ]
  },
  {
   "cell_type": "code",
   "execution_count": 167,
   "metadata": {
    "collapsed": false
   },
   "outputs": [
    {
     "name": "stdout",
     "output_type": "stream",
     "text": [
      "[[ 65  92]\n",
      " [ 87 256]]\n",
      "0.642\n"
     ]
    }
   ],
   "source": [
    "from sklearn.metrics import confusion_matrix \n",
    "cm = confusion_matrix(test_df['Creditability'], predicted) \n",
    "print cm\n",
    "# integer / integer = integer, 需要改變成　 float / integer = float\n",
    "print (65.0 + 256.0) / (65 + 92 + 87 + 256) "
   ]
  },
  {
   "cell_type": "markdown",
   "metadata": {},
   "source": [
    "## ROC Curve"
   ]
  },
  {
   "cell_type": "code",
   "execution_count": 169,
   "metadata": {
    "collapsed": false
   },
   "outputs": [
    {
     "name": "stdout",
     "output_type": "stream",
     "text": [
      "[ 1.  1.  0.  1.  0.  1.  0.  1.  0.  1.  1.  1.  1.  1.  1.  1.  1.  1.\n",
      "  0.  0.  1.  1.  0.  0.  1.  1.  0.  1.  0.  1.  0.  1.  1.  0.  1.  0.\n",
      "  1.  1.  0.  1.  1.  1.  0.  1.  1.  0.  1.  1.  1.  0.  1.  1.  0.  0.\n",
      "  1.  0.  0.  1.  1.  1.  1.  1.  1.  1.  1.  0.  1.  1.  1.  1.  0.  0.\n",
      "  0.  1.  1.  0.  1.  1.  1.  1.  1.  0.  1.  1.  1.  1.  1.  1.  1.  1.\n",
      "  1.  1.  1.  1.  1.  1.  1.  1.  1.  1.  0.  1.  1.  1.  1.  1.  1.  0.\n",
      "  1.  0.  1.  0.  0.  1.  0.  0.  1.  1.  0.  1.  1.  0.  1.  1.  1.  1.\n",
      "  1.  1.  1.  1.  0.  1.  1.  0.  1.  1.  0.  1.  1.  1.  1.  0.  0.  1.\n",
      "  1.  0.  1.  0.  1.  0.  1.  1.  0.  1.  0.  0.  0.  1.  0.  1.  1.  1.\n",
      "  1.  1.  1.  1.  1.  1.  1.  1.  1.  0.  1.  1.  0.  1.  1.  1.  0.  1.\n",
      "  1.  0.  0.  1.  1.  1.  1.  1.  1.  1.  0.  0.  1.  1.  1.  1.  1.  1.\n",
      "  1.  0.  1.  1.  0.  1.  1.  1.  1.  1.  1.  1.  1.  1.  1.  0.  1.  1.\n",
      "  1.  1.  1.  1.  0.  1.  1.  1.  1.  0.  0.  1.  0.  1.  1.  0.  1.  0.\n",
      "  1.  1.  1.  1.  0.  1.  1.  0.  0.  0.  1.  1.  1.  0.  1.  0.  1.  1.\n",
      "  1.  1.  1.  0.  1.  1.  1.  1.  1.  1.  1.  0.  1.  1.  0.  1.  1.  0.\n",
      "  1.  1.  1.  0.  1.  1.  1.  1.  1.  1.  1.  0.  1.  1.  0.  1.  0.  1.\n",
      "  1.  1.  0.  1.  1.  1.  1.  0.  0.  1.  1.  1.  0.  1.  1.  1.  1.  1.\n",
      "  1.  1.  0.  0.  1.  1.  1.  1.  1.  0.  1.  0.  1.  1.  1.  0.  1.  1.\n",
      "  1.  1.  1.  1.  1.  1.  1.  1.  1.  1.  1.  1.  1.  1.  1.  0.  1.  1.\n",
      "  1.  1.  0.  1.  1.  0.  0.  1.  0.  1.  1.  1.  1.  1.  1.  1.  1.  1.\n",
      "  1.  1.  0.  1.  0.  1.  1.  1.  1.  0.  1.  1.  0.  1.  1.  1.  1.  1.\n",
      "  0.  0.  0.  1.  1.  1.  1.  1.  1.  1.  0.  1.  1.  0.  0.  1.  0.  1.\n",
      "  1.  1.  0.  1.  0.  0.  1.  0.  1.  0.  1.  1.  1.  1.  0.  1.  1.  1.\n",
      "  1.  0.  1.  0.  0.  0.  1.  0.  1.  1.  0.  1.  1.  0.  1.  0.  1.  0.\n",
      "  0.  0.  1.  1.  0.  1.  1.  1.  1.  1.  0.  0.  1.  1.  0.  0.  1.  0.\n",
      "  1.  0.  0.  1.  1.  0.  0.  0.  0.  1.  1.  0.  0.  0.  0.  0.  0.  0.\n",
      "  1.  1.  1.  0.  0.  1.  1.  1.  1.  0.  0.  0.  1.  1.  1.  1.  0.  1.\n",
      "  0.  1.  1.  1.  1.  0.  1.  0.  0.  0.  1.  0.  1.  1.]\n"
     ]
    }
   ],
   "source": [
    "pred_scr = clf.predict_proba(test_df.drop('Creditability', axis = 1))[:, 1]\n",
    "print pred_scr"
   ]
  },
  {
   "cell_type": "code",
   "execution_count": 170,
   "metadata": {
    "collapsed": false
   },
   "outputs": [
    {
     "name": "stdout",
     "output_type": "stream",
     "text": [
      "Populating the interactive namespace from numpy and matplotlib\n"
     ]
    },
    {
     "name": "stderr",
     "output_type": "stream",
     "text": [
      "WARNING: pylab import has clobbered these variables: ['clf', 'cm', 'var']\n",
      "`%matplotlib` prevents importing * from pylab and numpy\n"
     ]
    },
    {
     "data": {
      "image/png": "[encoded data removed]",
      "text/plain": [
       "<matplotlib.figure.Figure at 0xa9dd518>"
      ]
     },
     "metadata": {},
     "output_type": "display_data"
    }
   ],
   "source": [
    "%pylab inline\n",
    "from sklearn.metrics import roc_curve, auc\n",
    "import matplotlib.pyplot as plt\n",
    "\n",
    "fpr, tpr, thresholds = roc_curve(test_df['Creditability'], pred_scr)\n",
    "roc_auc =  auc(fpr, tpr)\n",
    "md = str(clf)\n",
    "md = md[:md.find('(')]\n",
    "plt.plot(fpr, tpr, label='ROC fold %s (auc = %0.2f)' % (md, roc_auc))\n",
    "        \n",
    "# 圖表配置\n",
    "plt.plot([0, 1], [0, 1], '--', color=(0.6, 0.6, 0.6))\n",
    "plt.xlim([0, 1])\n",
    "plt.ylim([0, 1])\n",
    "plt.xlabel('False Positive Rate')\n",
    "plt.ylabel('True Positive Rate')\n",
    "plt.title('Receiver operating characteristic example')\n",
    "plt.legend(loc=\"lower right\")\n",
    "plt.show()"
   ]
  },
  {
   "cell_type": "markdown",
   "metadata": {},
   "source": [
    "## 建立多個模型"
   ]
  },
  {
   "cell_type": "code",
   "execution_count": 179,
   "metadata": {
    "collapsed": false
   },
   "outputs": [],
   "source": [
    "from sklearn.linear_model import LogisticRegression\n",
    "from sklearn.ensemble import RandomForestClassifier, GradientBoostingClassifier\n",
    "from sklearn.naive_bayes import GaussianNB\n",
    "from sklearn.neighbors import KNeighborsClassifier\n",
    "\n",
    "models = []\n",
    "models.append(LogisticRegression())\n",
    "models.append(RandomForestClassifier(n_estimators=100, criterion='entropy'))\n",
    "models.append(GradientBoostingClassifier(max_depth =4))\n",
    "models.append(GaussianNB())\n",
    "\n",
    "for model in models:\n",
    "    model.fit(train_df.drop('Creditability', axis=1), train_df['Creditability'])"
   ]
  },
  {
   "cell_type": "code",
   "execution_count": 180,
   "metadata": {
    "collapsed": false
   },
   "outputs": [
    {
     "name": "stdout",
     "output_type": "stream",
     "text": [
      "Populating the interactive namespace from numpy and matplotlib\n"
     ]
    },
    {
     "name": "stderr",
     "output_type": "stream",
     "text": [
      "WARNING: pylab import has clobbered these variables: ['var']\n",
      "`%matplotlib` prevents importing * from pylab and numpy\n"
     ]
    },
    {
     "data": {
      "image/png": "[encoded data removed]",
      "text/plain": [
       "<matplotlib.figure.Figure at 0xc1f1a90>"
      ]
     },
     "metadata": {},
     "output_type": "display_data"
    }
   ],
   "source": [
    "%pylab inline\n",
    "from sklearn.metrics import roc_curve, auc\n",
    "import matplotlib.pyplot as plt\n",
    "%matplotlib inline\n",
    "\n",
    "def roc_comparison(models, X_train, X_test, y_train, y_test):\n",
    "    plt.figure(figsize=(10, 10)) \n",
    "    for model in models:\n",
    "        pred_scr = model.predict_proba(X_test)[:, 1] #得到預測機率\n",
    "        fpr, tpr, thresholds = roc_curve(y_test, pred_scr) # 求出 False Positive Rate, True Positive Rate\n",
    "        roc_auc =  auc(fpr, tpr) # 求出auc\n",
    "        md = str(model) \n",
    "        md = md[:md.find('(')]\n",
    "        plt.plot(fpr, tpr, label='ROC fold %s (auc = %0.2f)' % (md, roc_auc)) # 加auc 到legend中\n",
    "        \n",
    "\n",
    "    plt.plot([0, 1], [0, 1], '--', color=(0.6, 0.6, 0.6)) #設置隨機線(黑線)的範圍跟顏色, 線的狀態\n",
    "    plt.xlim([0, 1]) #(設置x 範圍)\n",
    "    plt.ylim([0, 1]) #(設置y 範圍)\n",
    "    plt.xlabel('False Positive Rate') #設置x標籤\n",
    "    plt.ylabel('True Positive Rate') #設置y標籤\n",
    "    plt.title('Receiver operating characteristic example') #設置標題\n",
    "    plt.legend(loc=\"lower right\") #設置Legend 呈現的位置\n",
    "    plt.show() #顯示圖片\n",
    "    \n",
    "roc_comparison(models, train_df.drop('Creditability', axis=1), test_df.drop('Creditability', axis=1), train_df['Creditability'], test_df['Creditability'])"
   ]
  },
  {
   "cell_type": "markdown",
   "metadata": {},
   "source": [
    "# 文字探勘"
   ]
  },
  {
   "cell_type": "markdown",
   "metadata": {},
   "source": [
    "## 英文斷詞"
   ]
  },
  {
   "cell_type": "code",
   "execution_count": 181,
   "metadata": {
    "collapsed": false
   },
   "outputs": [
    {
     "data": {
      "text/plain": [
       "['this', 'is', 'a', 'book']"
      ]
     },
     "execution_count": 181,
     "metadata": {},
     "output_type": "execute_result"
    }
   ],
   "source": [
    "e = 'this is a book'\n",
    "e.split()"
   ]
  },
  {
   "cell_type": "markdown",
   "metadata": {},
   "source": [
    "## 中文斷詞"
   ]
  },
  {
   "cell_type": "code",
   "execution_count": 183,
   "metadata": {
    "collapsed": false
   },
   "outputs": [],
   "source": [
    "c = '那我們酸民婉君也可以報名嗎?'\n",
    "#c.split()"
   ]
  },
  {
   "cell_type": "code",
   "execution_count": 187,
   "metadata": {
    "collapsed": false
   },
   "outputs": [
    {
     "name": "stdout",
     "output_type": "stream",
     "text": [
      "那我\n",
      "我們\n",
      "們酸\n"
     ]
    }
   ],
   "source": [
    "input_sentence=u'那我們酸民婉君也可以報名嗎'\n",
    "\n",
    "sentence  = input_sentence\n",
    "\n",
    "print sentence[0:2]\n",
    "print sentence[1:3]\n",
    "print sentence[2:4]\n"
   ]
  },
  {
   "cell_type": "code",
   "execution_count": 190,
   "metadata": {
    "collapsed": false
   },
   "outputs": [
    {
     "name": "stdout",
     "output_type": "stream",
     "text": [
      "12\n",
      "那我\n",
      "我們\n",
      "們酸\n",
      "酸民\n",
      "民婉\n",
      "婉君\n",
      "君也\n",
      "也可\n",
      "可以\n",
      "以報\n",
      "報名\n",
      "名嗎\n"
     ]
    }
   ],
   "source": [
    "print len(sentence) - 2 + 1\n",
    "\n",
    "for i in range(0, len(sentence) - 2 + 1): # 從 0 ~ 12\n",
    "    print sentence[i:i+2]"
   ]
  },
  {
   "cell_type": "code",
   "execution_count": 192,
   "metadata": {
    "collapsed": false
   },
   "outputs": [
    {
     "name": "stdout",
     "output_type": "stream",
     "text": [
      "大巨\n",
      "巨蛋\n",
      "蛋不\n",
      "不就\n",
      "就好\n",
      "好棒\n",
      "棒棒\n"
     ]
    }
   ],
   "source": [
    "sentence = u'大巨蛋不就好棒棒'\n",
    "for i in range(0, len(sentence) - 2 + 1): \n",
    "    print sentence[i:i+2]"
   ]
  },
  {
   "cell_type": "code",
   "execution_count": 193,
   "metadata": {
    "collapsed": false
   },
   "outputs": [
    {
     "name": "stdout",
     "output_type": "stream",
     "text": [
      "大巨蛋\n",
      "巨蛋不\n",
      "蛋不就\n",
      "不就好\n",
      "就好棒\n",
      "好棒棒\n"
     ]
    }
   ],
   "source": [
    "# trigram\n",
    "sentence = u'大巨蛋不就好棒棒'\n",
    "for i in range(0, len(sentence) - 3 + 1): \n",
    "    print sentence[i:i+3]"
   ]
  },
  {
   "cell_type": "code",
   "execution_count": 194,
   "metadata": {
    "collapsed": false
   },
   "outputs": [
    {
     "name": "stdout",
     "output_type": "stream",
     "text": [
      "8\n"
     ]
    }
   ],
   "source": [
    "def addnum(a,b):\n",
    "    return a + b\n",
    "\n",
    "print addnum(3,5)"
   ]
  },
  {
   "cell_type": "code",
   "execution_count": 196,
   "metadata": {
    "collapsed": false
   },
   "outputs": [
    {
     "name": "stdout",
     "output_type": "stream",
     "text": [
      "1\n"
     ]
    }
   ],
   "source": [
    "dic = {'a':1, 'b':2}\n",
    "print dic['a']"
   ]
  },
  {
   "cell_type": "code",
   "execution_count": 200,
   "metadata": {
    "collapsed": false
   },
   "outputs": [
    {
     "data": {
      "text/plain": [
       "{'Detailed': 1,\n",
       " 'affect': 1,\n",
       " 'behavior': 1,\n",
       " 'complex': 1,\n",
       " 'crises': 2,\n",
       " 'data': 1,\n",
       " 'decisions': 1,\n",
       " 'financial': 1,\n",
       " 'has': 1,\n",
       " 'human': 1,\n",
       " 'humans': 1,\n",
       " 'in': 1,\n",
       " 'led': 1,\n",
       " 'market': 1,\n",
       " 'markets': 1,\n",
       " 'of': 1,\n",
       " 'on': 1,\n",
       " 'reflect': 1,\n",
       " 'some': 1,\n",
       " 'that': 1,\n",
       " 'the': 1,\n",
       " 'these': 1,\n",
       " 'to': 1,\n",
       " 'trading': 1,\n",
       " 'worldwide.': 1}"
      ]
     },
     "execution_count": 200,
     "metadata": {},
     "output_type": "execute_result"
    }
   ],
   "source": [
    "dic = {}\n",
    "s = 'crises in financial markets affect humans worldwide. Detailed market data on trading decisions reflect some of the complex human behavior that has led to these crises'\n",
    "for w in s.split():\n",
    "    if w not in dic: # 不存在字典中\n",
    "        dic[w] = 1 # 將資料加到字典之中\n",
    "    else:\n",
    "        dic[w] += 1 # 將字典後面的值 +1 \n",
    "dic"
   ]
  },
  {
   "cell_type": "code",
   "execution_count": 207,
   "metadata": {
    "collapsed": false
   },
   "outputs": [
    {
     "name": "stdout",
     "output_type": "stream",
     "text": [
      "我們\n",
      "婉君\n",
      "報名\n",
      "們酸\n",
      "可以\n",
      "名嗎\n",
      "君也\n",
      "也可\n",
      "嗎?\n",
      "民婉\n",
      "那我\n",
      "酸民\n",
      "以報\n",
      "酸民婉\n",
      "君也可\n",
      "名嗎?\n",
      "可以報\n",
      "也可以\n",
      "們酸民\n",
      "以報名\n",
      "民婉君\n",
      "報名嗎\n",
      "那我們\n",
      "婉君也\n",
      "我們酸\n"
     ]
    }
   ],
   "source": [
    "def ngram(input_sentence, n = 2):\n",
    "    word_dic = {}\n",
    "    sentence  = input_sentence\n",
    "    for i in range(0, len(sentence) - n + 1):\n",
    "        w = sentence[i:i+n]\n",
    "        if sentence[i:i+n] not in word_dic:\n",
    "            word_dic[w] = 1\n",
    "        else:\n",
    "            word_dic[w] = word_dic[w] + 1\n",
    "    return word_dic\n",
    "\n",
    "c = u'那我們酸民婉君也可以報名嗎?'\n",
    "for w in ngram(c, 2):\n",
    "    print w\n",
    "    \n",
    "for w in ngram(c, 3):\n",
    "    print w"
   ]
  },
  {
   "cell_type": "code",
   "execution_count": 210,
   "metadata": {
    "collapsed": false
   },
   "outputs": [
    {
     "name": "stdout",
     "output_type": "stream",
     "text": [
      "[u'\\u539f']\n",
      "['\\xe5\\x8e\\x9f']\n"
     ]
    }
   ],
   "source": [
    "article = u'''\n",
    "原本預計要和謝淑薇一同參加里約奧運雙打的選手莊佳容，因謝淑薇決意退賽，無緣出征奧運，忍不住在臉書大吐苦水，甚至飆髒話。\n",
    "有許多粉絲挺莊，但也有網友認為，「犧牲自己奧運出賽的機會對運動員來說是多大的決定，老實說你只是沒搭到原本就不屬於你的便車不是嗎？」謝淑薇則在底下回覆網友：「請不要傷害選手」。\n",
    "謝淑薇在莊佳容的臉書留言回覆表示：「不好意思，最近讓大家因為運動員體制問題而不高興了⋯⋯。我跟莊選手的事，我們自己私下解決。如果可以，幫我一個忙，刪除你們不開心的留言，好嗎？」她說，她們都是體制下的受害者，「請不要傷害選手...感謝」\n",
    "'''\n",
    "\n",
    "print [u'原']\n",
    "print ['原']"
   ]
  },
  {
   "cell_type": "code",
   "execution_count": 218,
   "metadata": {
    "collapsed": false
   },
   "outputs": [
    {
     "name": "stdout",
     "output_type": "stream",
     "text": [
      "請不 2\n",
      "害選 2\n",
      "，「 2\n",
      "要傷 2\n",
      "原本 2\n",
      "不要 2\n",
      "？」 2\n",
      "回覆 2\n",
      "淑薇 4\n",
      "：「 2\n",
      "謝淑 4\n",
      "留言 2\n",
      "自己 2\n",
      "嗎？ 2\n",
      "選手 4\n",
      "佳容 2\n",
      "奧運 3\n",
      "體制 2\n",
      ".. 2\n",
      "網友 2\n",
      "莊佳 2\n",
      "。\n",
      "2\n",
      "傷害 2\n",
      "動員 2\n",
      "臉書 2\n",
      "「請 2\n",
      "運動 2\n"
     ]
    }
   ],
   "source": [
    "dic = ngram(article, 2)\n",
    "for w in dic:\n",
    "    if dic[w] >= 2:\n",
    "        print w, dic[w] # w => 字詞, dic[2] => 字詞對上的頻率"
   ]
  },
  {
   "cell_type": "code",
   "execution_count": 220,
   "metadata": {
    "collapsed": false
   },
   "outputs": [
    {
     "name": "stdout",
     "output_type": "stream",
     "text": [
      "嗎？」 2\n",
      "不要傷 2\n",
      "莊佳容 2\n",
      "運動員 2\n",
      "謝淑薇 4\n",
      "要傷害 2\n",
      "傷害選 2\n",
      "「請不 2\n",
      "請不要 2\n",
      "害選手 2\n"
     ]
    }
   ],
   "source": [
    "dic = ngram(article, 3)\n",
    "for w in dic:\n",
    "    if dic[w] >= 2:\n",
    "        print w, dic[w] # w => 字詞, dic[2] => 字詞對上的頻率"
   ]
  },
  {
   "cell_type": "code",
   "execution_count": 233,
   "metadata": {
    "collapsed": false
   },
   "outputs": [
    {
     "name": "stdout",
     "output_type": "stream",
     "text": [
      "從句子的一端開始\n",
      "取最長的詞串逐一比對辭典內的詞\n",
      "若找到就把它當作斷詞的結果\n",
      "再把句子中比對到的詞去除\n",
      "剩下的部份再重複剛剛的動作\n",
      "直到整句都斷詞完畢\n"
     ]
    }
   ],
   "source": [
    "# 建立斷句函式\n",
    "import re\n",
    "delimiter = \"，|。|、\"  \n",
    "text = '從句子的一端開始，取最長的詞串逐一比對辭典內的詞，若找到就把它當作斷詞的結果，再把句子中比對到的詞去除，剩下的部份再重複剛剛的動作，直到整句都斷詞完畢'\n",
    "\n",
    "for i in re.split(delimiter, text):\n",
    "    print i"
   ]
  },
  {
   "cell_type": "code",
   "execution_count": 227,
   "metadata": {
    "collapsed": false
   },
   "outputs": [
    {
     "name": "stdout",
     "output_type": "stream",
     "text": [
      "民進黨\n",
      "將公布\n",
      "民進黨將公布\n"
     ]
    }
   ],
   "source": [
    "a = u'民進黨後天將公布'\n",
    "for w in a.split(u'後天'):\n",
    "    print w\n",
    "    \n",
    "print ''.join(a.split(u'後天'))"
   ]
  },
  {
   "cell_type": "code",
   "execution_count": 232,
   "metadata": {
    "collapsed": false
   },
   "outputs": [
    {
     "name": "stdout",
     "output_type": "stream",
     "text": [
      "將公布\n"
     ]
    }
   ],
   "source": [
    "#建立移除函式\n",
    "def removeKey(text, keyword):\n",
    "    textAry= text\n",
    "    for key in keyword:\n",
    "        textAry = ''.join(textAry.split(key))\n",
    "    return textAry\n",
    "\n",
    "a = u'民進黨後天將公布'\n",
    "print removeKey(a , [u'後天', u'民進黨'])"
   ]
  },
  {
   "cell_type": "code",
   "execution_count": 231,
   "metadata": {
    "collapsed": false
   },
   "outputs": [
    {
     "name": "stdout",
     "output_type": "stream",
     "text": [
      "I@love@pokemon@go\n"
     ]
    }
   ],
   "source": [
    "# join, split 範例\n",
    "a = 'I love pokemon go'\n",
    "a_split =  a.split() # split 把字詞拆開\n",
    "print '@'.join(a_split) # join 把字詞合併"
   ]
  },
  {
   "cell_type": "code",
   "execution_count": null,
   "metadata": {
    "collapsed": true
   },
   "outputs": [],
   "source": [
    "dic = {}\n",
    "s = 'crises in financial markets affect humans worldwide. Detailed market data on trading decisions reflect some of the complex human behavior that has led to these crises'\n",
    "for w in s.split():\n",
    "    if w not in dic: # 不存在字典中\n",
    "        dic[w] = 1 # 將資料加到字典之中\n",
    "    else:\n",
    "        dic[w] += 1 # 將字典後面的值 +1 \n",
    "dic"
   ]
  },
  {
   "cell_type": "code",
   "execution_count": 238,
   "metadata": {
    "collapsed": false
   },
   "outputs": [
    {
     "data": {
      "text/plain": [
       "[('crises', 2),\n",
       " ('financial', 1),\n",
       " ('some', 1),\n",
       " ('trading', 1),\n",
       " ('human', 1),\n",
       " ('in', 1),\n",
       " ('decisions', 1),\n",
       " ('market', 1),\n",
       " ('to', 1),\n",
       " ('complex', 1)]"
      ]
     },
     "execution_count": 238,
     "metadata": {},
     "output_type": "execute_result"
    }
   ],
   "source": [
    "#Counter\n",
    "from collections import Counter\n",
    "c = Counter() #宣告Counter\n",
    "\n",
    "s = 'crises in financial markets affect humans worldwide. Detailed market data on trading decisions reflect some of the complex human behavior that has led to these crises'\n",
    "for w in s.split():\n",
    "    c[w] += 1 # 將Counter 中的詞進行 +1 \n",
    "    \n",
    "c.most_common(10) # most_common 可以把最常見的詞統計出來"
   ]
  },
  {
   "cell_type": "code",
   "execution_count": 240,
   "metadata": {
    "collapsed": false
   },
   "outputs": [
    {
     "name": "stdout",
     "output_type": "stream",
     "text": [
      "我們\n",
      "婉君\n",
      "報名\n",
      "們酸\n",
      "可以\n",
      "名嗎\n",
      "君也\n",
      "也可\n",
      "嗎?\n",
      "民婉\n",
      "那我\n",
      "酸民\n",
      "以報\n",
      "酸民婉\n",
      "君也可\n",
      "名嗎?\n",
      "可以報\n",
      "也可以\n",
      "們酸民\n",
      "以報名\n",
      "民婉君\n",
      "報名嗎\n",
      "那我們\n",
      "婉君也\n",
      "我們酸\n"
     ]
    }
   ],
   "source": [
    "#Counter\n",
    "from collections import Counter\n",
    "def ngram(input_sentence, n = 2):\n",
    "    c = Counter()\n",
    "    sentence  = input_sentence\n",
    "    for i in range(0, len(sentence) - n + 1):\n",
    "        w = sentence[i:i+n]\n",
    "        c[w] += 1\n",
    "    return c\n",
    "\n",
    "c = u'那我們酸民婉君也可以報名嗎?'\n",
    "for w in ngram(c, 2):\n",
    "    print w\n",
    "    \n",
    "for w in ngram(c, 3):\n",
    "    print w"
   ]
  },
  {
   "cell_type": "code",
   "execution_count": 251,
   "metadata": {
    "collapsed": false
   },
   "outputs": [
    {
     "name": "stdout",
     "output_type": "stream",
     "text": [
      "Counter({u'\\u8868\\u793a': 1, u'\\u662f\\u55ce': 1, u'\\u98c6\\u9ad2': 1, u'\\u7684\\u4e8b': 1, u'\\u4f4f\\u5728': 1, u'\\u4e00\\u500b': 1, u'\\u5011\\u90fd': 1, u'\\u4e00\\u540c': 1, u'\\u4f46\\u4e5f': 1, u'\\u56e0\\u70ba': 1, u'\\u96d9\\u6253': 1, u'\\u8aaa\\u4f60': 1, u'\\u958b\\u5fc3': 1, u'\\u5fcd\\u4e0d': 1, u'\\u6a5f\\u6703': 1, u'\\u53c3\\u52a0': 1, u'\\u52a0\\u91cc': 1, u'\\u597d\\u55ce': 1, u'\\u4f60\\u5011': 1, u'\\u679c\\u53ef': 1, u'\\u9810\\u8a08': 1, u'\\u72a7\\u7272': 1, u'\\u8a31\\u591a': 1, u'\\u8ddf\\u838a': 1, u'\\u5fc3\\u7684': 1, u'\\u5728\\u5927': 1, u'\\u5bb3\\u8005': 1, u'\\u5c0d\\u4f86': 1, u'\\u4e0d\\u958b': 1, u'\\u610f\\u9000': 1, u'\\u610f\\u601d': 1, u'\\u53d7\\u5bb3': 1, u'\\u642d\\u5230': 1, u'\\u5e95\\u4e0b': 1, u'\\u9ad8\\u8208': 1, u'\\u89e3\\u6c7a': 1, u'\\u4e0d\\u597d': 1, u'\\u5be6\\u8aaa': 1, u'\\u8208\\u4e86': 1, u'\\u8fd1\\u8b93': 1, u'\\u5230\\u5c31': 1, u'\\u633a\\u838a': 1, u'\\u5927\\u5410': 1, u'\\u4e0d\\u4f4f': 1, u'\\u8981\\u548c': 1, u'\\u7684\\u6a5f': 1, u'\\u6700\\u8fd1': 1, u'\\u5410\\u82e6': 1, u'\\u662f\\u591a': 1, u'\\u7d04\\u96d9': 1, u'\\u56e0\\u6c7a': 1, u'\\u8b93\\u5927': 1, u'\\u8a8d\\u70ba': 1, u'\\u6211\\u5011': 1, u'\\u70ba\\u554f': 1, u'\\u540c\\u53c3': 1, u'\\u7684\\u8868': 1, u'\\u4e0b\\u7684': 1, u'\\u53ef\\u4ee5': 1, u'\\u8001\\u5be6': 1, u'\\u51fa\\u5f81': 1, u'\\u7d72\\u633a': 1, u'\\u6211\\u4e00': 1, u'\\u7684\\u6c7a': 1, u'\\u5011\\u4e0d': 1, u'\\u4e86\\u22ef': 1, u'\\u5927\\u5bb6': 1, u'\\u7c89\\u7d72': 1, u'\\u82e6\\u6c34': 1, u'\\u79c1\\u4e0b': 1, u'\\u7de3\\u51fa': 1, u'\\u53ea\\u662f': 1, u'\\u6211\\u8ddf': 1, u'\\u6c92\\u642d': 1, u'\\u7684\\u4fbf': 1, u'\\u838a\\u7684': 1, u'\\u800c\\u4e0d': 1, u'\\u7272\\u51fa': 1, u'\\u5011\\u79c1': 1, u'\\u8cfd\\u7684': 1, u'\\u5927\\u7684': 1, u'\\u5979\\u5011': 1, u'\\u597d\\u610f': 1, u'\\u4e0d\\u9ad8': 1, u'\\u5247\\u5728': 1, u'\\u5bb6\\u56e0': 1, u'\\u6703\\u5c0d': 1, u'\\u9664\\u4f60': 1, u'\\u8aaa\\u662f': 1, u'\\u6709\\u8a8d': 1, u'\\u4e5f\\u6709': 1, u'\\u7684\\u53d7': 1, u'\\u5c31\\u4e0d': 1, u'\\u662f\\u6c92': 1, u'\\u91cc\\u7d04': 1, u'\\u554f\\u984c': 1, u'\\u65bc\\u4f60': 1, u'\\u5982\\u679c': 1, u'\\u6c7a\\u5b9a': 1, u'\\u751a\\u81f3': 1, u'\\u4f60\\u7684': 1, u'\\u4e0b\\u89e3': 1, u'\\u611f\\u8b1d': 1, u'\\u5979\\u8aaa': 1, u'\\u9ad2\\u8a71': 1, u'\\u4e0d\\u5c6c': 1, u'\\u51fa\\u8cfd': 1, u'\\u5e6b\\u6211': 1, u'\\u522a\\u9664': 1, u'\\u90fd\\u662f': 1, u'\\u8a08\\u8981': 1, u'\\u591a\\u7c89': 1, u'\\u4fbf\\u8eca': 1, u'\\u4f86\\u8aaa': 1, u'\\u6253\\u7684': 1, u'\\u7121\\u7de3': 1, u'\\u662f\\u4e0b': 1, u'\\u4f60\\u53ea': 1, u'\\u4e0d\\u662f': 1, u'\\u8eca\\u4e0d': 1, u'\\u81f3\\u98c6': 1, u'\\u22ef\\u22ef': 1, u'\\u6c7a\\u610f': 1, u'\\u548c\\u4e00': 1, u'\\u6709\\u8a31': 1, u'\\u984c\\u800c': 1, u'\\u591a\\u5927': 1, u'\\u5728\\u5e95': 1, u'\\u5c6c\\u65bc': 1, u'\\u9000\\u8cfd': 1, u'\\u5728\\u7684': 1, u'\\u500b\\u5fd9': 1})\n"
     ]
    }
   ],
   "source": [
    "def getSentenceNgram(summary):\n",
    "    delimiter = u'，|：|。|、|/|；|（|）|\\(|\\)|「|」|」|《|》|／|【|……|）|「|！|‧ |？|\\.'\n",
    "    csummary = Counter()\n",
    "    for sentence in re.split(delimiter, summary): # 斷句\n",
    "        if sentence is not None and sentence.strip() != '':\n",
    "                c = ngram(removeKey(sentence.strip(), keywords), i) #取ngram\n",
    "                csummary = csummary + c\n",
    "    return csummary\n",
    "\n",
    "print getSentenceNgram(article)"
   ]
  },
  {
   "cell_type": "code",
   "execution_count": 253,
   "metadata": {
    "collapsed": false
   },
   "outputs": [
    {
     "name": "stdout",
     "output_type": "stream",
     "text": [
      "傷害選手\n",
      "要傷害選\n",
      "請不要傷\n",
      "不要傷害\n",
      "莊佳容\n",
      "運動員\n",
      "請不要\n",
      "謝淑薇\n",
      "回覆\n",
      "留言\n",
      "自己\n",
      "選手\n",
      "奧運\n",
      "體制\n",
      "網友\n",
      "原本\n",
      "臉書\n"
     ]
    }
   ],
   "source": [
    "article = u'''\n",
    "原本預計要和謝淑薇一同參加里約奧運雙打的選手莊佳容，因謝淑薇決意退賽，無緣出征奧運，忍不住在臉書大吐苦水，甚至飆髒話。\n",
    "有許多粉絲挺莊，但也有網友認為，「犧牲自己奧運出賽的機會對運動員來說是多大的決定，老實說你只是沒搭到原本就不屬於你的便車不是嗎？」謝淑薇則在底下回覆網友：「請不要傷害選手」。\n",
    "謝淑薇在莊佳容的臉書留言回覆表示：「不好意思，最近讓大家因為運動員體制問題而不高興了⋯⋯。我跟莊選手的事，我們自己私下解決。如果可以，幫我一個忙，刪除你們不開心的留言，好嗎？」她說，她們都是體制下的受害者，「請不要傷害選手...感謝」\n",
    "'''\n",
    "keywords = []\n",
    "for i in range(4, 1, -1): # 從 n = 4 ~ n = 2\n",
    "    coverall = Counter()        \n",
    "    c = getSentenceNgram(article) \n",
    "    coverall = coverall  + c\n",
    "    for ele in coverall:\n",
    "        if coverall[ele] >=2:\n",
    "            keywords.append(ele)\n",
    "for w in keywords:\n",
    "    print w"
   ]
  },
  {
   "cell_type": "markdown",
   "metadata": {},
   "source": [
    "## 安裝Jieba\n",
    "- pip install jieba"
   ]
  },
  {
   "cell_type": "code",
   "execution_count": 256,
   "metadata": {
    "collapsed": false
   },
   "outputs": [
    {
     "name": "stderr",
     "output_type": "stream",
     "text": [
      "Building prefix dict from the default dictionary ...\n"
     ]
    },
    {
     "name": "stdout",
     "output_type": "stream",
     "text": [
      "\n",
      "\n"
     ]
    },
    {
     "name": "stderr",
     "output_type": "stream",
     "text": [
      "Dumping model to file cache c:\\users\\student\\appdata\\local\\temp\\jieba.cache\n",
      "Loading model cost 1.124 seconds.\n",
      "Prefix dict has been built succesfully.\n"
     ]
    },
    {
     "name": "stdout",
     "output_type": "stream",
     "text": [
      "原本\n",
      "預計要\n",
      "和\n",
      "謝淑薇\n",
      "一同\n",
      "參\n",
      "加里\n",
      "約\n",
      "奧運雙\n",
      "打\n",
      "的\n",
      "選手\n",
      "莊佳容\n",
      "，\n",
      "因謝淑薇\n",
      "決意\n",
      "退賽\n",
      "，\n",
      "無緣\n",
      "出征\n",
      "奧運\n",
      "，\n",
      "忍不住\n",
      "在\n",
      "臉書\n",
      "大吐苦水\n",
      "，\n",
      "甚至\n",
      "飆\n",
      "髒\n",
      "話\n",
      "。\n",
      "\n",
      "\n",
      "有\n",
      "許多粉\n",
      "絲挺莊\n",
      "，\n",
      "但\n",
      "也\n",
      "有\n",
      "網友\n",
      "認為\n",
      "，\n",
      "「\n",
      "犧牲\n",
      "自己\n",
      "奧運\n",
      "出賽\n",
      "的\n",
      "機會\n",
      "對\n",
      "運動員來\n",
      "說\n",
      "是\n",
      "多\n",
      "大\n",
      "的\n",
      "決定\n",
      "，\n",
      "老實\n",
      "說\n",
      "你\n",
      "只是\n",
      "沒\n",
      "搭\n",
      "到\n",
      "原本\n",
      "就\n",
      "不屬\n",
      "於\n",
      "你\n",
      "的\n",
      "便車\n",
      "不是\n",
      "嗎\n",
      "？\n",
      "」\n",
      "謝淑薇則\n",
      "在\n",
      "底下\n",
      "回覆\n",
      "網友\n",
      "：\n",
      "「\n",
      "請\n",
      "不要\n",
      "傷害\n",
      "選手\n",
      "」\n",
      "。\n",
      "\n",
      "\n",
      "謝淑薇\n",
      "在\n",
      "莊佳容\n",
      "的\n",
      "臉書\n",
      "留言\n",
      "回覆\n",
      "表示\n",
      "：\n",
      "「\n",
      "不好意思\n",
      "，\n",
      "最近\n",
      "讓\n",
      "大家\n",
      "因為\n",
      "運動員\n",
      "體制\n",
      "問題\n",
      "而\n",
      "不\n",
      "高興\n",
      "了\n",
      "⋯\n",
      "⋯\n",
      "。\n",
      "我\n",
      "跟\n",
      "莊選手\n",
      "的\n",
      "事\n",
      "，\n",
      "我們\n",
      "自己\n",
      "私下\n",
      "解決\n",
      "。\n",
      "如果\n",
      "可以\n",
      "，\n",
      "幫\n",
      "我\n",
      "一個\n",
      "忙\n",
      "，\n",
      "刪除\n",
      "你\n",
      "們\n",
      "不\n",
      "開心\n",
      "的\n",
      "留言\n",
      "，\n",
      "好\n",
      "嗎\n",
      "？\n",
      "」\n",
      "她\n",
      "說\n",
      "，\n",
      "她\n",
      "們\n",
      "都\n",
      "是\n",
      "體制\n",
      "下\n",
      "的\n",
      "受害者\n",
      "，\n",
      "「\n",
      "請\n",
      "不要\n",
      "傷害\n",
      "選手\n",
      "...\n",
      "感謝\n",
      "」\n",
      "\n",
      "\n"
     ]
    }
   ],
   "source": [
    "import jieba\n",
    "for ele in jieba.cut(article):\n",
    "    print ele"
   ]
  }
 ],
 "metadata": {
  "kernelspec": {
   "display_name": "Python [Root]",
   "language": "python",
   "name": "Python [Root]"
  },
  "language_info": {
   "codemirror_mode": {
    "name": "ipython",
    "version": 2
   },
   "file_extension": ".py",
   "mimetype": "text/x-python",
   "name": "python",
   "nbconvert_exporter": "python",
   "pygments_lexer": "ipython2",
   "version": "2.7.12"
  }
 },
 "nbformat": 4,
 "nbformat_minor": 0
}
