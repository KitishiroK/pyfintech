{
 "cells": [
  {
   "cell_type": "markdown",
   "metadata": {},
   "source": [
    "## jieba 分詞"
   ]
  },
  {
   "cell_type": "code",
   "execution_count": 3,
   "metadata": {
    "collapsed": false
   },
   "outputs": [
    {
     "name": "stdout",
     "output_type": "stream",
     "text": [
      "「 ‪ 精靈 寶可夢 」 （ Pok é mon   GO ） 台灣 於 今天 上線 ， 許多 玩家 紛紛 出門 「 抓 寶 」 ， 不過 卻 有 實況 主兔頭 哥邊 直播 騎單 車邊 抓寶可夢 ， 還說 「 單車 不用 停紅綠燈 」 ！ 實況 主兔 頭哥 直播 邊騎 單車邊 抓寶可夢 的 影片 ， 影片 中 他 在 新北市 樹林區 馬 路上 左手 單手 騎 單車 ， 右手 單手 拿手 機玩寶可夢 ， 還一邊 和 網友 聊天 ， 甚至 切換 瀏覽 聊天室 畫面 ， 險象 環生 。 他 在 山佳 火車 站 時 ， 1 名 網友 騎 機車 去 那邊 勸 說 「 我載 你 啦 ， 你 這樣 危險 ！ 」 實況 主 仍 堅持 獨自騎 單車 抓寶可夢 。\n"
     ]
    }
   ],
   "source": [
    "import jieba # 引用jieba 套件\n",
    "article = '「‪精靈寶可夢」（Pokémon GO）台灣於今天上線，許多玩家紛紛出門「抓寶」，不過卻有實況主兔頭哥邊直播騎單車邊抓寶可夢，還說「單車不用停紅綠燈」！實況主兔頭哥直播邊騎單車邊抓寶可夢的影片，影片中他在新北市樹林區馬路上左手單手騎單車，右手單手拿手機玩寶可夢，還一邊和網友聊天，甚至切換瀏覽聊天室畫面，險象環生。他在山佳火車站時，1名網友騎機車去那邊勸說「我載你啦，你這樣危險！」實況主仍堅持獨自騎單車抓寶可夢。'\n",
    "for w in jieba.cut(article):\n",
    "    print w,"
   ]
  },
  {
   "cell_type": "code",
   "execution_count": 7,
   "metadata": {
    "collapsed": false
   },
   "outputs": [
    {
     "name": "stdout",
     "output_type": "stream",
     "text": [
      "「‪精靈寶可夢」（Pokémon GO）台灣於今天上線\n",
      "許多玩家紛紛出門「抓寶」\n",
      "不過卻有實況主兔頭哥邊直播騎單車邊抓寶可夢\n",
      "還說「單車不用停紅綠燈」\n",
      "實況主兔頭哥直播邊騎單車邊抓寶可夢的影片\n",
      "影片中他在新北市樹林區馬路上左手單手騎單車\n",
      "右手單手拿手機玩寶可夢\n",
      "還一邊和網友聊天\n",
      "甚至切換瀏覽聊天室畫面\n",
      "險象環生\n",
      "他在山佳火車站時\n",
      "1名網友騎機車去那邊勸說「我載你啦\n",
      "你這樣危險\n",
      "」實況主仍堅持獨自騎單車抓寶可夢\n",
      "\n"
     ]
    }
   ],
   "source": [
    "import re\n",
    "for s in re.split( '，|。|！', article):\n",
    "    print s"
   ]
  },
  {
   "cell_type": "markdown",
   "metadata": {
    "collapsed": true
   },
   "source": [
    "## jIeba 字典\n",
    "- C:\\Users\\Student\\Anaconda2\\Lib\\site-packages\\jieba"
   ]
  },
  {
   "cell_type": "markdown",
   "metadata": {
    "collapsed": true
   },
   "source": [
    "## Jieba HMM 模型\n",
    "- C:\\Users\\Student\\Anaconda2\\Lib\\site-packages\\jieba\\posseg"
   ]
  },
  {
   "cell_type": "code",
   "execution_count": 9,
   "metadata": {
    "collapsed": true
   },
   "outputs": [],
   "source": [
    "?jieba.cut"
   ]
  },
  {
   "cell_type": "code",
   "execution_count": 10,
   "metadata": {
    "collapsed": false
   },
   "outputs": [
    {
     "name": "stdout",
     "output_type": "stream",
     "text": [
      "大\n",
      "巨蛋\n",
      "案對\n",
      "市府\n",
      "同仁\n",
      "下\n",
      "封口令\n",
      "？\n",
      "　\n",
      "柯\n",
      "P\n",
      "否認\n"
     ]
    }
   ],
   "source": [
    "seg_list = jieba.cut(\"大巨蛋案對市府同仁下封口令？　柯P否認\")\n",
    "for w in seg_list:\n",
    "    print w"
   ]
  },
  {
   "cell_type": "code",
   "execution_count": 11,
   "metadata": {
    "collapsed": false
   },
   "outputs": [
    {
     "name": "stdout",
     "output_type": "stream",
     "text": [
      "Full Mode: 大/ 巨蛋/ 案/ 對/ 市府/ 同仁/ 下/ 封口/ 封口令/ 口令/ / / / 柯/ P/ 否/ 認\n",
      "Default Mode: 大/ 巨蛋/ 案對/ 市府/ 同仁/ 下/ 封口令/ ？/ 　/ 柯/ P/ 否認\n"
     ]
    }
   ],
   "source": [
    "seg_list = jieba.cut(\"大巨蛋案對市府同仁下封口令？　柯P否認\", cut_all=True)\n",
    "print \"Full Mode:\", \"/ \".join(seg_list) \n",
    "\n",
    "\n",
    "seg_list = jieba.cut(\"大巨蛋案對市府同仁下封口令？　柯P否認\", cut_all=False)\n",
    "print \"Default Mode:\", \"/ \".join(seg_list) \n"
   ]
  },
  {
   "cell_type": "markdown",
   "metadata": {},
   "source": [
    "## 增添自己的字典"
   ]
  },
  {
   "cell_type": "code",
   "execution_count": 13,
   "metadata": {
    "collapsed": false
   },
   "outputs": [],
   "source": [
    "jieba.load_userdict(\"userdict.txt\")"
   ]
  },
  {
   "cell_type": "code",
   "execution_count": 3,
   "metadata": {
    "collapsed": false
   },
   "outputs": [
    {
     "name": "stdout",
     "output_type": "stream",
     "text": [
      "Default Mode: 大巨蛋/ 案對/ 市府/ 同仁/ 下/ 封口令/ ？/ 　/ 柯P/ 否認\n"
     ]
    }
   ],
   "source": [
    "import jieba\n",
    "seg_list = jieba.cut(\"大巨蛋案對市府同仁下封口令？　柯P否認\", cut_all=False)\n",
    "print \"Default Mode:\", \"/ \".join(seg_list) "
   ]
  },
  {
   "cell_type": "code",
   "execution_count": 9,
   "metadata": {
    "collapsed": false
   },
   "outputs": [
    {
     "name": "stdout",
     "output_type": "stream",
     "text": [
      "Default Mode: 「/ ‪/ 精靈/ 寶可夢/ 」/ （/ Pok/ é/ mon/  / GO/ ）/ 台灣/ 於/ 今天/ 上線/ ，/ 許多/ 玩家/ 紛紛/ 出門/ 「/ 抓/ 寶/ 」/ ，/ 不過/ 卻/ 有/ 實況主/ 兔頭/ 哥邊/ 直播/ 騎單/ 車邊/ 抓/ 寶可夢/ ，/ 還說/ 「/ 單車/ 不用/ 停紅綠燈/ 」/ ！/ 實況主/ 兔頭哥/ 直播/ 邊騎/ 單車邊/ 抓/ 寶可夢/ 的/ 影片/ ，/ 影片/ 中/ 他/ 在/ 新北市/ 樹林區/ 馬/ 路上/ 左手/ 單手/ 騎/ 單車/ ，/ 右手/ 單手/ 拿/ 手機/ 玩/ 寶可夢/ ，/ 還一邊/ 和/ 網友/ 聊天/ ，/ 甚至/ 切換/ 瀏覽/ 聊天室/ 畫面/ ，/ 險象/ 環生/ 。/ 他/ 在/ 山佳/ 火車站/ 時/ ，/ 1/ 名/ 網友/ 騎/ 機車/ 去/ 那邊/ 勸/ 說/ 「/ 我載/ 你/ 啦/ ，/ 你/ 這樣/ 危險/ ！/ 」/ 實況主/ 仍/ 堅持/ 獨自騎/ 單車/ 抓/ 寶可夢/ 。\n"
     ]
    }
   ],
   "source": [
    "jieba.add_word('寶可夢') # 暫時將新詞放入\n",
    "jieba.add_word('實況主')\n",
    "jieba.add_word('手機')\n",
    "jieba.add_word('Pokémon')\n",
    "jieba.add_word('火車站')\n",
    "article = '「‪精靈寶可夢」（Pokémon GO）台灣於今天上線，許多玩家紛紛出門「抓寶」，不過卻有實況主兔頭哥邊直播騎單車邊抓寶可夢，還說「單車不用停紅綠燈」！實況主兔頭哥直播邊騎單車邊抓寶可夢的影片，影片中他在新北市樹林區馬路上左手單手騎單車，右手單手拿手機玩寶可夢，還一邊和網友聊天，甚至切換瀏覽聊天室畫面，險象環生。他在山佳火車站時，1名網友騎機車去那邊勸說「我載你啦，你這樣危險！」實況主仍堅持獨自騎單車抓寶可夢。'\n",
    "seg_list = jieba.cut(article)\n",
    "print \"Default Mode:\", \"/ \".join(seg_list) "
   ]
  },
  {
   "cell_type": "code",
   "execution_count": 23,
   "metadata": {
    "collapsed": false
   },
   "outputs": [
    {
     "name": "stdout",
     "output_type": "stream",
     "text": [
      "大巨蛋 ns\n",
      "案 ng\n",
      "對 p\n",
      "市府 n\n",
      "同仁 nr\n",
      "下 f\n",
      "封口令 n\n",
      "？ x\n",
      "　x\n",
      "柯P n\n",
      "否認 v\n"
     ]
    }
   ],
   "source": [
    "import jieba.posseg as pseg\n",
    "#jieba.add_word('大巨蛋', 100, 'ns')\n",
    "words = pseg.cut(\"大巨蛋案對市府同仁下封口令？　柯P否認\")\n",
    "for w in words:\n",
    "    print w.word, w.flag"
   ]
  },
  {
   "cell_type": "code",
   "execution_count": 24,
   "metadata": {
    "collapsed": true
   },
   "outputs": [],
   "source": [
    "jieba.del_word('大巨蛋') "
   ]
  },
  {
   "cell_type": "code",
   "execution_count": 26,
   "metadata": {
    "collapsed": false
   },
   "outputs": [
    {
     "name": "stdout",
     "output_type": "stream",
     "text": [
      "巨蛋 1 3\n",
      "大巨蛋 0 3\n",
      "案對 3 5\n",
      "市府 5 7\n",
      "同仁 7 9\n",
      "下 9 10\n",
      "封口 10 12\n",
      "口令 11 13\n",
      "封口令 10 13\n",
      "？ 13 14\n",
      "　14 15\n",
      "柯P 15 17\n",
      "否認 17 19\n"
     ]
    }
   ],
   "source": [
    "words = jieba.tokenize(u\"大巨蛋案對市府同仁下封口令？　柯P否認\", 'utf-8')\n",
    "\n",
    "for tw in words:\n",
    "    print tw[0], tw[1], tw[2]"
   ]
  },
  {
   "cell_type": "code",
   "execution_count": 29,
   "metadata": {
    "collapsed": false
   },
   "outputs": [
    {
     "name": "stdout",
     "output_type": "stream",
     "text": [
      "封口令\n"
     ]
    }
   ],
   "source": [
    "import jieba.analyse\n",
    "# 抓出最重要的關鍵詞\n",
    "tags = jieba.analyse.extract_tags(u\"大巨蛋案對市府同仁下封口令？　柯P否認\", 1)\n",
    "print \",\".join(tags)"
   ]
  },
  {
   "cell_type": "code",
   "execution_count": 28,
   "metadata": {
    "collapsed": false
   },
   "outputs": [
    {
     "name": "stdout",
     "output_type": "stream",
     "text": [
      "同仁\n"
     ]
    }
   ],
   "source": [
    "#allowPOS 決定允許的字詞的詞性\n",
    "tags = jieba.analyse.extract_tags(u\"大巨蛋案對市府同仁下封口令？　柯P否認\", 1, allowPOS = ['nr'])\n",
    "print \",\".join(tags)"
   ]
  },
  {
   "cell_type": "code",
   "execution_count": 33,
   "metadata": {
    "collapsed": true
   },
   "outputs": [],
   "source": [
    "jieba.analyse.set_stop_words(\"stopword.txt\")"
   ]
  },
  {
   "cell_type": "code",
   "execution_count": 38,
   "metadata": {
    "collapsed": false
   },
   "outputs": [
    {
     "name": "stdout",
     "output_type": "stream",
     "text": [
      "根據/歐洲/電商/組織/(/Ecommerce/ /Europe/)/ /最新消息/得知/，/該/集團/積極/讓/歐洲/的/包裹/遞送/服務/與/電商/領域/有/更/緊密/結合/。/如此/一來/，/便/可解/決電商/物流/的/障礙/。/此/組織/總共結合/歐洲/ /16/ /國的/電商/協會/，/目標/整合/歐洲/的/包裹/物流/市場/，/讓/商品/跨境/更為/順暢\n"
     ]
    }
   ],
   "source": [
    "import jieba.analyse\n",
    "sentence = \"根據歐洲電商組織(Ecommerce Europe) 最新消息得知，\\\n",
    "該集團積極讓歐洲的包裹遞送服務與電商領域有更緊密結合。如此一來，\\\n",
    "便可解決電商物流的障礙。此組織總共結合歐洲 16 國的電商協會，\\\n",
    "目標整合歐洲的包裹物流市場，讓商品跨境更為順暢\"\n",
    "s = jieba.cut(sentence)\n",
    "#tags = jieba.analyse.extract_tags(sentence)\n",
    "print '/'.join(s)\n"
   ]
  },
  {
   "cell_type": "markdown",
   "metadata": {},
   "source": [
    "## 讀取PTT Creditcard 版的資訊"
   ]
  },
  {
   "cell_type": "code",
   "execution_count": 39,
   "metadata": {
    "collapsed": true
   },
   "outputs": [],
   "source": [
    "import pandas as pd\n",
    "df = pd.read_csv('C:\\\\Users\\\\Student\\creditcard.csv')"
   ]
  },
  {
   "cell_type": "code",
   "execution_count": 42,
   "metadata": {
    "collapsed": false
   },
   "outputs": [
    {
     "data": {
      "text/plain": [
       "Unnamed: 0    3222\n",
       "id            3222\n",
       "url           3222\n",
       "author        3222\n",
       "title         3222\n",
       "content       3222\n",
       "board         3222\n",
       "date          3222\n",
       "dtype: int64"
      ]
     },
     "execution_count": 42,
     "metadata": {},
     "output_type": "execute_result"
    }
   ],
   "source": [
    "df.count()"
   ]
  },
  {
   "cell_type": "code",
   "execution_count": 44,
   "metadata": {
    "collapsed": false
   },
   "outputs": [
    {
     "data": {
      "text/plain": [
       "Index([u'Unnamed: 0', u'id', u'url', u'author', u'title', u'content', u'board',\n",
       "       u'date'],\n",
       "      dtype='object')"
      ]
     },
     "execution_count": 44,
     "metadata": {},
     "output_type": "execute_result"
    }
   ],
   "source": [
    "df.columns"
   ]
  },
  {
   "cell_type": "code",
   "execution_count": 46,
   "metadata": {
    "collapsed": false
   },
   "outputs": [
    {
     "name": "stdout",
     "output_type": "stream",
     "text": [
      "<class 'pandas.core.frame.DataFrame'>\n",
      "RangeIndex: 3222 entries, 0 to 3221\n",
      "Data columns (total 8 columns):\n",
      "Unnamed: 0    3222 non-null int64\n",
      "id            3222 non-null int64\n",
      "url           3222 non-null object\n",
      "author        3222 non-null object\n",
      "title         3222 non-null object\n",
      "content       3222 non-null object\n",
      "board         3222 non-null object\n",
      "date          3222 non-null object\n",
      "dtypes: int64(2), object(6)\n",
      "memory usage: 201.4+ KB\n"
     ]
    }
   ],
   "source": [
    "df.info()"
   ]
  },
  {
   "cell_type": "code",
   "execution_count": 50,
   "metadata": {
    "collapsed": false
   },
   "outputs": [
    {
     "name": "stdout",
     "output_type": "stream",
     "text": [
      "{'a': 2, 'c': 1, 'b': 2}\n"
     ]
    }
   ],
   "source": [
    "# 使用字典範例\n",
    "s = ['a' , 'b' , 'c', 'a' , 'b']\n",
    "dic = {}\n",
    "for w in s:\n",
    "    if w not in dic:\n",
    "        dic[w] = 1 # 不在字典中\n",
    "    else:\n",
    "        dic[w] = dic[w] + 1 # 詞在字典中\n",
    "print dic        "
   ]
  },
  {
   "cell_type": "code",
   "execution_count": 52,
   "metadata": {
    "collapsed": false
   },
   "outputs": [
    {
     "name": "stdout",
     "output_type": "stream",
     "text": [
      "Counter({'a': 2, 'b': 2, 'c': 1})\n",
      "[('a', 2)]\n"
     ]
    }
   ],
   "source": [
    "# Use Collections 範例\n",
    "from collections import Counter\n",
    "c = Counter()\n",
    "for w in s:\n",
    "    c[w] +=1\n",
    "print c\n",
    "print c.most_common(1)"
   ]
  },
  {
   "cell_type": "markdown",
   "metadata": {},
   "source": [
    "## 統計最常出現的詞"
   ]
  },
  {
   "cell_type": "code",
   "execution_count": 56,
   "metadata": {
    "collapsed": false
   },
   "outputs": [],
   "source": [
    "\n",
    "from collections import Counter\n",
    "c = Counter()\n",
    "for content in df.content:\n",
    "    seg = jieba.cut(content)\n",
    "    for w in seg:\n",
    "        if len(w) >=2: #字詞長度>=2\n",
    "            c[w] += 1"
   ]
  },
  {
   "cell_type": "code",
   "execution_count": 58,
   "metadata": {
    "collapsed": false
   },
   "outputs": [],
   "source": [
    "#for key, val in c.most_common(100):\n",
    "#    print key, val"
   ]
  },
  {
   "cell_type": "code",
   "execution_count": 82,
   "metadata": {
    "collapsed": false
   },
   "outputs": [],
   "source": [
    "citi = df[df.title.str.contains('玉山') & df.title.str.contains('問題')]\n",
    "#citi.head()"
   ]
  },
  {
   "cell_type": "code",
   "execution_count": 83,
   "metadata": {
    "collapsed": true
   },
   "outputs": [],
   "source": [
    "from collections import Counter\n",
    "c = Counter()\n",
    "for content in citi.content:\n",
    "    seg = jieba.cut(content)\n",
    "    for w in seg:\n",
    "        if len(w) >=2: #字詞長度>=2\n",
    "            c[w] += 1"
   ]
  },
  {
   "cell_type": "code",
   "execution_count": 84,
   "metadata": {
    "collapsed": false
   },
   "outputs": [
    {
     "name": "stdout",
     "output_type": "stream",
     "text": [
      "玉山 54\n",
      "回饋 31\n",
      "http 25\n",
      "消費 23\n",
      "com 21\n",
      "現金 15\n",
      "tw 14\n",
      "信用卡 14\n",
      "一下 14\n",
      "謝謝 13\n",
      "優惠 13\n",
      "所以 13\n",
      "申請 13\n",
      "icash 12\n",
      "請問 12\n",
      "因為 12\n",
      "可以 12\n",
      "www 12\n",
      "客服 11\n",
      "聯名 11\n",
      "活動 11\n",
      "好像 11\n",
      "大大 11\n",
      "知道 11\n",
      "刷卡 11\n",
      "帳單 11\n",
      "有人 10\n",
      "credit 10\n",
      "大家 10\n",
      "點數 10\n",
      "event 10\n",
      "esunbank 10\n",
      "銀行 10\n",
      "目前 9\n",
      "最近 9\n",
      "還有 9\n",
      "699 9\n",
      "結帳 9\n",
      "JCB 9\n",
      "... 9\n",
      "是否 9\n",
      "各位 8\n",
      "index 8\n",
      "就是 8\n",
      "還是 8\n",
      "11 8\n",
      "小弟 8\n",
      "去年 7\n",
      "一般 7\n",
      "沒有 7\n",
      "imgur 7\n",
      "申辦 7\n",
      "以上 7\n",
      "官網 7\n",
      "部分 7\n",
      "這樣 7\n",
      "應該 7\n",
      "世界 7\n",
      "收到 7\n",
      "使用 7\n",
      "年費 6\n",
      "100 6\n",
      "這個 6\n",
      "悠遊 6\n",
      "核卡 6\n",
      "當期 6\n",
      "01 6\n",
      "真的 6\n",
      "其他 6\n",
      "一張 6\n",
      "500 6\n",
      "jpg 6\n",
      "如果 6\n",
      "html 6\n",
      "發現 6\n",
      "剛剛 6\n",
      "加辦 5\n",
      "htm 5\n",
      "似乎 5\n",
      "手續費 5\n",
      "拿到 5\n",
      "抵用券 5\n",
      "兩筆 5\n",
      "自動 5\n",
      "如下 5\n",
      "只有 5\n",
      "雙幣 5\n",
      "直接 5\n",
      "ibon 5\n",
      "注意 5\n",
      "這張 5\n",
      "顯示 5\n",
      "但是 5\n",
      "現在 5\n",
      "加碼 5\n",
      ".... 5\n",
      "之前 5\n",
      "舊戶 5\n",
      "一樣 4\n",
      "debit 4\n"
     ]
    }
   ],
   "source": [
    "for key, val in c.most_common(100):\n",
    "    print key, val"
   ]
  },
  {
   "cell_type": "markdown",
   "metadata": {},
   "source": [
    "## 計算 tf-idf"
   ]
  },
  {
   "cell_type": "code",
   "execution_count": 90,
   "metadata": {
    "collapsed": false
   },
   "outputs": [
    {
     "name": "stdout",
     "output_type": "stream",
     "text": [
      "1 0.0 0.0\n"
     ]
    }
   ],
   "source": [
    "# (tfidf(\"a\", a, D))\n",
    "a, abb, abc = [\"a\"], [\"a\", \"b\", \"b\"], [\"a\", \"b\", \"c\"]\n",
    "D = [a, abb, abc]\n",
    "\n",
    "\n",
    "import scipy as sp\n",
    "tf = a.count('a') / a.count('a')\n",
    "idf = sp.log(3 /  len([doc for doc in D if 'a' in doc]))\n",
    "print tf, idf, tf * idf"
   ]
  },
  {
   "cell_type": "code",
   "execution_count": 96,
   "metadata": {
    "collapsed": false
   },
   "outputs": [
    {
     "name": "stdout",
     "output_type": "stream",
     "text": [
      "0.666666666667\n",
      "0.666666666667 0.405465108108 0.270310072072\n"
     ]
    }
   ],
   "source": [
    "# (tfidf(\"b\", abb, D))\n",
    "a, abb, abc = [\"a\"], [\"a\", \"b\", \"b\"], [\"a\", \"b\", \"c\"]\n",
    "D = [a, abb, abc]\n",
    "\n",
    "tf = abb.count('b') * 1.0 / (abb.count('a') + abb.count('b'))\n",
    "print tf\n",
    "\n",
    "idf = sp.log(3.0 /  len([doc for doc in D if 'b' in doc]))\n",
    "\n",
    "print tf, idf, tf * idf"
   ]
  },
  {
   "cell_type": "code",
   "execution_count": 99,
   "metadata": {
    "collapsed": false
   },
   "outputs": [
    {
     "name": "stdout",
     "output_type": "stream",
     "text": [
      "0.333333333333\n",
      "0.333333333333 0.0 0.0\n"
     ]
    }
   ],
   "source": [
    "# (tfidf(\"a\", abc, D))\n",
    "a, abb, abc = [\"a\"], [\"a\", \"b\", \"b\"], [\"a\", \"b\", \"c\"]\n",
    "D = [a, abb, abc]\n",
    "\n",
    "tf = abb.count('a') * 1.0 / (abb.count('a') + abb.count('b'))\n",
    "print tf\n",
    "\n",
    "idf = sp.log(3.0 /  len([doc for doc in D if 'a' in doc]))\n",
    "\n",
    "print tf, idf, tf * idf"
   ]
  },
  {
   "cell_type": "code",
   "execution_count": 103,
   "metadata": {
    "collapsed": false
   },
   "outputs": [
    {
     "name": "stdout",
     "output_type": "stream",
     "text": [
      "0.333333333333\n",
      "0.333333333333 0.405465108108 0.135155036036\n"
     ]
    }
   ],
   "source": [
    "# (tfidf(\"b\", abc, D))\n",
    "\n",
    "tf = abc.count('b') * 1.0 / (abc.count('a') + abc.count('b') + abc.count('c'))\n",
    "print tf\n",
    "\n",
    "\n",
    "idf = sp.log(3.0 /  len([doc for doc in D if 'b' in doc]))\n",
    "\n",
    "print tf, idf, tf * idf"
   ]
  },
  {
   "cell_type": "code",
   "execution_count": 104,
   "metadata": {
    "collapsed": false
   },
   "outputs": [
    {
     "name": "stdout",
     "output_type": "stream",
     "text": [
      "0.333333333333\n",
      "0.333333333333 1.09861228867 0.366204096223\n"
     ]
    }
   ],
   "source": [
    "# (tfidf(\"c\", abc, D))\n",
    "tf = abc.count('c') * 1.0 / (abc.count('a') + abc.count('b') + abc.count('c'))\n",
    "print tf\n",
    "\n",
    "idf = sp.log(3.0 /  len([doc for doc in D if 'c' in doc]))\n",
    "print tf, idf, tf * idf"
   ]
  },
  {
   "cell_type": "code",
   "execution_count": 105,
   "metadata": {
    "collapsed": false
   },
   "outputs": [
    {
     "name": "stdout",
     "output_type": "stream",
     "text": [
      "0.0\n",
      "0.270310072072\n",
      "0.0\n",
      "0.135155036036\n",
      "0.366204096223\n"
     ]
    }
   ],
   "source": [
    "def tfidf(t, d, D):\n",
    "    tf = float(d.count(t)) / sum(d.count(w) for w in set(d))\n",
    "    idf = sp.log(float(len(D)) / (len([doc for doc in D if t in doc])))\n",
    "    return tf * idf\n",
    "\n",
    "print(tfidf(\"a\", a, D))\n",
    "print(tfidf(\"b\", abb, D))\n",
    "print(tfidf(\"a\", abc, D))\n",
    "print(tfidf(\"b\", abc, D))\n",
    "print(tfidf(\"c\", abc, D))"
   ]
  },
  {
   "cell_type": "markdown",
   "metadata": {},
   "source": [
    "## Jibea 的 IDF 字典\n",
    "- C:\\Users\\Student\\Anaconda2\\Lib\\site-packages\\jieba\\analyse"
   ]
  },
  {
   "cell_type": "markdown",
   "metadata": {},
   "source": [
    "## 使用關鍵字取得詞頻"
   ]
  },
  {
   "cell_type": "code",
   "execution_count": 108,
   "metadata": {
    "collapsed": true
   },
   "outputs": [],
   "source": [
    "from collections import Counter\n",
    "import jieba.analyse\n",
    "\n",
    "c = Counter()\n",
    "for content in df.content:\n",
    "    seg = jieba.analyse.extract_tags(content)\n",
    "    for w in seg:\n",
    "        if len(w) >=2: #字詞長度>=2\n",
    "            c[w] += 1"
   ]
  },
  {
   "cell_type": "code",
   "execution_count": 111,
   "metadata": {
    "collapsed": false
   },
   "outputs": [
    {
     "name": "stdout",
     "output_type": "stream",
     "text": [
      "申請 836\n",
      "因為 736\n",
      "回饋 699\n",
      "額度 697\n",
      "消費 513\n",
      "卡片 447\n",
      "信用卡 447\n",
      "謝謝 426\n",
      "客服 411\n",
      "聯名 387\n"
     ]
    }
   ],
   "source": [
    "for k, v in c.most_common(10):\n",
    "    print k,v"
   ]
  },
  {
   "cell_type": "code",
   "execution_count": 115,
   "metadata": {
    "collapsed": false
   },
   "outputs": [
    {
     "name": "stdout",
     "output_type": "stream",
     "text": [
      "單車 單手 畫面 玩家 上線 切換 直播 兔頭 險象 瀏覽 綠燈 網友 影片 新北市 樹林 區馬 停紅 不用 環生 右手\n",
      "寶可夢 實況主 單車 單手 網友 直播 影片 停紅綠燈 騎單 紛紛 切換 環生 邊騎 機車 險象 還說 這樣 不過 還一邊 台灣\n"
     ]
    }
   ],
   "source": [
    "# Text Rank\n",
    "import jieba.analyse\n",
    "\n",
    "import jieba # 引用jieba 套件\n",
    "article = '「‪精靈寶可夢」（Pokémon GO）台灣於今天上線，許多玩家紛紛出門「抓寶」，不過卻有實況主兔頭哥邊直播騎單車邊抓寶可夢，還說「單車不用停紅綠燈」！實況主兔頭哥直播邊騎單車邊抓寶可夢的影片，影片中他在新北市樹林區馬路上左手單手騎單車，右手單手拿手機玩寶可夢，還一邊和網友聊天，甚至切換瀏覽聊天室畫面，險象環生。他在山佳火車站時，1名網友騎機車去那邊勸說「我載你啦，你這樣危險！」實況主仍堅持獨自騎單車抓寶可夢。'\n",
    "for w in jieba.analyse.textrank(article):\n",
    "    print w,\n",
    "print \n",
    "for w in jieba.analyse.extract_tags(article):\n",
    "    print w,"
   ]
  },
  {
   "cell_type": "code",
   "execution_count": null,
   "metadata": {
    "collapsed": true
   },
   "outputs": [],
   "source": []
  }
 ],
 "metadata": {
  "anaconda-cloud": {},
  "kernelspec": {
   "display_name": "Python [Root]",
   "language": "python",
   "name": "Python [Root]"
  },
  "language_info": {
   "codemirror_mode": {
    "name": "ipython",
    "version": 2
   },
   "file_extension": ".py",
   "mimetype": "text/x-python",
   "name": "python",
   "nbconvert_exporter": "python",
   "pygments_lexer": "ipython2",
   "version": "2.7.12"
  }
 },
 "nbformat": 4,
 "nbformat_minor": 0
}
