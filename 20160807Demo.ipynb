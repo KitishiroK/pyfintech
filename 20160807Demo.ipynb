{
 "cells": [
  {
   "cell_type": "markdown",
   "metadata": {},
   "source": [
    "## jieba 分詞"
   ]
  },
  {
   "cell_type": "code",
   "execution_count": 3,
   "metadata": {
    "collapsed": false
   },
   "outputs": [
    {
     "name": "stdout",
     "output_type": "stream",
     "text": [
      "「 ‪ 精靈 寶可夢 」 （ Pok é mon   GO ） 台灣 於 今天 上線 ， 許多 玩家 紛紛 出門 「 抓 寶 」 ， 不過 卻 有 實況 主兔頭 哥邊 直播 騎單 車邊 抓寶可夢 ， 還說 「 單車 不用 停紅綠燈 」 ！ 實況 主兔 頭哥 直播 邊騎 單車邊 抓寶可夢 的 影片 ， 影片 中 他 在 新北市 樹林區 馬 路上 左手 單手 騎 單車 ， 右手 單手 拿手 機玩寶可夢 ， 還一邊 和 網友 聊天 ， 甚至 切換 瀏覽 聊天室 畫面 ， 險象 環生 。 他 在 山佳 火車 站 時 ， 1 名 網友 騎 機車 去 那邊 勸 說 「 我載 你 啦 ， 你 這樣 危險 ！ 」 實況 主 仍 堅持 獨自騎 單車 抓寶可夢 。\n"
     ]
    }
   ],
   "source": [
    "import jieba # 引用jieba 套件\n",
    "article = '「‪精靈寶可夢」（Pokémon GO）台灣於今天上線，許多玩家紛紛出門「抓寶」，不過卻有實況主兔頭哥邊直播騎單車邊抓寶可夢，還說「單車不用停紅綠燈」！實況主兔頭哥直播邊騎單車邊抓寶可夢的影片，影片中他在新北市樹林區馬路上左手單手騎單車，右手單手拿手機玩寶可夢，還一邊和網友聊天，甚至切換瀏覽聊天室畫面，險象環生。他在山佳火車站時，1名網友騎機車去那邊勸說「我載你啦，你這樣危險！」實況主仍堅持獨自騎單車抓寶可夢。'\n",
    "for w in jieba.cut(article):\n",
    "    print w,"
   ]
  },
  {
   "cell_type": "code",
   "execution_count": 7,
   "metadata": {
    "collapsed": false
   },
   "outputs": [
    {
     "name": "stdout",
     "output_type": "stream",
     "text": [
      "「‪精靈寶可夢」（Pokémon GO）台灣於今天上線\n",
      "許多玩家紛紛出門「抓寶」\n",
      "不過卻有實況主兔頭哥邊直播騎單車邊抓寶可夢\n",
      "還說「單車不用停紅綠燈」\n",
      "實況主兔頭哥直播邊騎單車邊抓寶可夢的影片\n",
      "影片中他在新北市樹林區馬路上左手單手騎單車\n",
      "右手單手拿手機玩寶可夢\n",
      "還一邊和網友聊天\n",
      "甚至切換瀏覽聊天室畫面\n",
      "險象環生\n",
      "他在山佳火車站時\n",
      "1名網友騎機車去那邊勸說「我載你啦\n",
      "你這樣危險\n",
      "」實況主仍堅持獨自騎單車抓寶可夢\n",
      "\n"
     ]
    }
   ],
   "source": [
    "import re\n",
    "for s in re.split( '，|。|！', article):\n",
    "    print s"
   ]
  },
  {
   "cell_type": "markdown",
   "metadata": {
    "collapsed": true
   },
   "source": [
    "## jIeba 字典\n",
    "- C:\\Users\\Student\\Anaconda2\\Lib\\site-packages\\jieba"
   ]
  },
  {
   "cell_type": "markdown",
   "metadata": {
    "collapsed": true
   },
   "source": [
    "## Jieba HMM 模型\n",
    "- C:\\Users\\Student\\Anaconda2\\Lib\\site-packages\\jieba\\posseg"
   ]
  },
  {
   "cell_type": "code",
   "execution_count": 9,
   "metadata": {
    "collapsed": true
   },
   "outputs": [],
   "source": [
    "?jieba.cut"
   ]
  },
  {
   "cell_type": "code",
   "execution_count": 10,
   "metadata": {
    "collapsed": false
   },
   "outputs": [
    {
     "name": "stdout",
     "output_type": "stream",
     "text": [
      "大\n",
      "巨蛋\n",
      "案對\n",
      "市府\n",
      "同仁\n",
      "下\n",
      "封口令\n",
      "？\n",
      "　\n",
      "柯\n",
      "P\n",
      "否認\n"
     ]
    }
   ],
   "source": [
    "seg_list = jieba.cut(\"大巨蛋案對市府同仁下封口令？　柯P否認\")\n",
    "for w in seg_list:\n",
    "    print w"
   ]
  },
  {
   "cell_type": "code",
   "execution_count": 11,
   "metadata": {
    "collapsed": false
   },
   "outputs": [
    {
     "name": "stdout",
     "output_type": "stream",
     "text": [
      "Full Mode: 大/ 巨蛋/ 案/ 對/ 市府/ 同仁/ 下/ 封口/ 封口令/ 口令/ / / / 柯/ P/ 否/ 認\n",
      "Default Mode: 大/ 巨蛋/ 案對/ 市府/ 同仁/ 下/ 封口令/ ？/ 　/ 柯/ P/ 否認\n"
     ]
    }
   ],
   "source": [
    "seg_list = jieba.cut(\"大巨蛋案對市府同仁下封口令？　柯P否認\", cut_all=True)\n",
    "print \"Full Mode:\", \"/ \".join(seg_list) \n",
    "\n",
    "\n",
    "seg_list = jieba.cut(\"大巨蛋案對市府同仁下封口令？　柯P否認\", cut_all=False)\n",
    "print \"Default Mode:\", \"/ \".join(seg_list) \n"
   ]
  },
  {
   "cell_type": "markdown",
   "metadata": {},
   "source": [
    "## 增添自己的字典"
   ]
  },
  {
   "cell_type": "code",
   "execution_count": 13,
   "metadata": {
    "collapsed": false
   },
   "outputs": [],
   "source": [
    "jieba.load_userdict(\"userdict.txt\")"
   ]
  },
  {
   "cell_type": "code",
   "execution_count": 3,
   "metadata": {
    "collapsed": false
   },
   "outputs": [
    {
     "name": "stdout",
     "output_type": "stream",
     "text": [
      "Default Mode: 大巨蛋/ 案對/ 市府/ 同仁/ 下/ 封口令/ ？/ 　/ 柯P/ 否認\n"
     ]
    }
   ],
   "source": [
    "import jieba\n",
    "seg_list = jieba.cut(\"大巨蛋案對市府同仁下封口令？　柯P否認\", cut_all=False)\n",
    "print \"Default Mode:\", \"/ \".join(seg_list) "
   ]
  },
  {
   "cell_type": "code",
   "execution_count": 9,
   "metadata": {
    "collapsed": false
   },
   "outputs": [
    {
     "name": "stdout",
     "output_type": "stream",
     "text": [
      "Default Mode: 「/ ‪/ 精靈/ 寶可夢/ 」/ （/ Pok/ é/ mon/  / GO/ ）/ 台灣/ 於/ 今天/ 上線/ ，/ 許多/ 玩家/ 紛紛/ 出門/ 「/ 抓/ 寶/ 」/ ，/ 不過/ 卻/ 有/ 實況主/ 兔頭/ 哥邊/ 直播/ 騎單/ 車邊/ 抓/ 寶可夢/ ，/ 還說/ 「/ 單車/ 不用/ 停紅綠燈/ 」/ ！/ 實況主/ 兔頭哥/ 直播/ 邊騎/ 單車邊/ 抓/ 寶可夢/ 的/ 影片/ ，/ 影片/ 中/ 他/ 在/ 新北市/ 樹林區/ 馬/ 路上/ 左手/ 單手/ 騎/ 單車/ ，/ 右手/ 單手/ 拿/ 手機/ 玩/ 寶可夢/ ，/ 還一邊/ 和/ 網友/ 聊天/ ，/ 甚至/ 切換/ 瀏覽/ 聊天室/ 畫面/ ，/ 險象/ 環生/ 。/ 他/ 在/ 山佳/ 火車站/ 時/ ，/ 1/ 名/ 網友/ 騎/ 機車/ 去/ 那邊/ 勸/ 說/ 「/ 我載/ 你/ 啦/ ，/ 你/ 這樣/ 危險/ ！/ 」/ 實況主/ 仍/ 堅持/ 獨自騎/ 單車/ 抓/ 寶可夢/ 。\n"
     ]
    }
   ],
   "source": [
    "jieba.add_word('寶可夢') # 暫時將新詞放入\n",
    "jieba.add_word('實況主')\n",
    "jieba.add_word('手機')\n",
    "jieba.add_word('Pokémon')\n",
    "jieba.add_word('火車站')\n",
    "article = '「‪精靈寶可夢」（Pokémon GO）台灣於今天上線，許多玩家紛紛出門「抓寶」，不過卻有實況主兔頭哥邊直播騎單車邊抓寶可夢，還說「單車不用停紅綠燈」！實況主兔頭哥直播邊騎單車邊抓寶可夢的影片，影片中他在新北市樹林區馬路上左手單手騎單車，右手單手拿手機玩寶可夢，還一邊和網友聊天，甚至切換瀏覽聊天室畫面，險象環生。他在山佳火車站時，1名網友騎機車去那邊勸說「我載你啦，你這樣危險！」實況主仍堅持獨自騎單車抓寶可夢。'\n",
    "seg_list = jieba.cut(article)\n",
    "print \"Default Mode:\", \"/ \".join(seg_list) "
   ]
  },
  {
   "cell_type": "code",
   "execution_count": 23,
   "metadata": {
    "collapsed": false
   },
   "outputs": [
    {
     "name": "stdout",
     "output_type": "stream",
     "text": [
      "大巨蛋 ns\n",
      "案 ng\n",
      "對 p\n",
      "市府 n\n",
      "同仁 nr\n",
      "下 f\n",
      "封口令 n\n",
      "？ x\n",
      "　x\n",
      "柯P n\n",
      "否認 v\n"
     ]
    }
   ],
   "source": [
    "import jieba.posseg as pseg\n",
    "#jieba.add_word('大巨蛋', 100, 'ns')\n",
    "words = pseg.cut(\"大巨蛋案對市府同仁下封口令？　柯P否認\")\n",
    "for w in words:\n",
    "    print w.word, w.flag"
   ]
  },
  {
   "cell_type": "code",
   "execution_count": 24,
   "metadata": {
    "collapsed": true
   },
   "outputs": [],
   "source": [
    "jieba.del_word('大巨蛋') "
   ]
  },
  {
   "cell_type": "code",
   "execution_count": 26,
   "metadata": {
    "collapsed": false
   },
   "outputs": [
    {
     "name": "stdout",
     "output_type": "stream",
     "text": [
      "巨蛋 1 3\n",
      "大巨蛋 0 3\n",
      "案對 3 5\n",
      "市府 5 7\n",
      "同仁 7 9\n",
      "下 9 10\n",
      "封口 10 12\n",
      "口令 11 13\n",
      "封口令 10 13\n",
      "？ 13 14\n",
      "　14 15\n",
      "柯P 15 17\n",
      "否認 17 19\n"
     ]
    }
   ],
   "source": [
    "words = jieba.tokenize(u\"大巨蛋案對市府同仁下封口令？　柯P否認\", 'utf-8')\n",
    "\n",
    "for tw in words:\n",
    "    print tw[0], tw[1], tw[2]"
   ]
  },
  {
   "cell_type": "code",
   "execution_count": 29,
   "metadata": {
    "collapsed": false
   },
   "outputs": [
    {
     "name": "stdout",
     "output_type": "stream",
     "text": [
      "封口令\n"
     ]
    }
   ],
   "source": [
    "import jieba.analyse\n",
    "# 抓出最重要的關鍵詞\n",
    "tags = jieba.analyse.extract_tags(u\"大巨蛋案對市府同仁下封口令？　柯P否認\", 1)\n",
    "print \",\".join(tags)"
   ]
  },
  {
   "cell_type": "code",
   "execution_count": 28,
   "metadata": {
    "collapsed": false
   },
   "outputs": [
    {
     "name": "stdout",
     "output_type": "stream",
     "text": [
      "同仁\n"
     ]
    }
   ],
   "source": [
    "#allowPOS 決定允許的字詞的詞性\n",
    "tags = jieba.analyse.extract_tags(u\"大巨蛋案對市府同仁下封口令？　柯P否認\", 1, allowPOS = ['nr'])\n",
    "print \",\".join(tags)"
   ]
  },
  {
   "cell_type": "code",
   "execution_count": 33,
   "metadata": {
    "collapsed": true
   },
   "outputs": [],
   "source": [
    "jieba.analyse.set_stop_words(\"stopword.txt\")"
   ]
  },
  {
   "cell_type": "code",
   "execution_count": 38,
   "metadata": {
    "collapsed": false
   },
   "outputs": [
    {
     "name": "stdout",
     "output_type": "stream",
     "text": [
      "根據/歐洲/電商/組織/(/Ecommerce/ /Europe/)/ /最新消息/得知/，/該/集團/積極/讓/歐洲/的/包裹/遞送/服務/與/電商/領域/有/更/緊密/結合/。/如此/一來/，/便/可解/決電商/物流/的/障礙/。/此/組織/總共結合/歐洲/ /16/ /國的/電商/協會/，/目標/整合/歐洲/的/包裹/物流/市場/，/讓/商品/跨境/更為/順暢\n"
     ]
    }
   ],
   "source": [
    "import jieba.analyse\n",
    "sentence = \"根據歐洲電商組織(Ecommerce Europe) 最新消息得知，\\\n",
    "該集團積極讓歐洲的包裹遞送服務與電商領域有更緊密結合。如此一來，\\\n",
    "便可解決電商物流的障礙。此組織總共結合歐洲 16 國的電商協會，\\\n",
    "目標整合歐洲的包裹物流市場，讓商品跨境更為順暢\"\n",
    "s = jieba.cut(sentence)\n",
    "#tags = jieba.analyse.extract_tags(sentence)\n",
    "print '/'.join(s)\n"
   ]
  },
  {
   "cell_type": "markdown",
   "metadata": {},
   "source": [
    "## 讀取PTT Creditcard 版的資訊"
   ]
  },
  {
   "cell_type": "code",
   "execution_count": 39,
   "metadata": {
    "collapsed": true
   },
   "outputs": [],
   "source": [
    "import pandas as pd\n",
    "df = pd.read_csv('C:\\\\Users\\\\Student\\creditcard.csv')"
   ]
  },
  {
   "cell_type": "code",
   "execution_count": 42,
   "metadata": {
    "collapsed": false
   },
   "outputs": [
    {
     "data": {
      "text/plain": [
       "Unnamed: 0    3222\n",
       "id            3222\n",
       "url           3222\n",
       "author        3222\n",
       "title         3222\n",
       "content       3222\n",
       "board         3222\n",
       "date          3222\n",
       "dtype: int64"
      ]
     },
     "execution_count": 42,
     "metadata": {},
     "output_type": "execute_result"
    }
   ],
   "source": [
    "df.count()"
   ]
  },
  {
   "cell_type": "code",
   "execution_count": 44,
   "metadata": {
    "collapsed": false
   },
   "outputs": [
    {
     "data": {
      "text/plain": [
       "Index([u'Unnamed: 0', u'id', u'url', u'author', u'title', u'content', u'board',\n",
       "       u'date'],\n",
       "      dtype='object')"
      ]
     },
     "execution_count": 44,
     "metadata": {},
     "output_type": "execute_result"
    }
   ],
   "source": [
    "df.columns"
   ]
  },
  {
   "cell_type": "code",
   "execution_count": 46,
   "metadata": {
    "collapsed": false
   },
   "outputs": [
    {
     "name": "stdout",
     "output_type": "stream",
     "text": [
      "<class 'pandas.core.frame.DataFrame'>\n",
      "RangeIndex: 3222 entries, 0 to 3221\n",
      "Data columns (total 8 columns):\n",
      "Unnamed: 0    3222 non-null int64\n",
      "id            3222 non-null int64\n",
      "url           3222 non-null object\n",
      "author        3222 non-null object\n",
      "title         3222 non-null object\n",
      "content       3222 non-null object\n",
      "board         3222 non-null object\n",
      "date          3222 non-null object\n",
      "dtypes: int64(2), object(6)\n",
      "memory usage: 201.4+ KB\n"
     ]
    }
   ],
   "source": [
    "df.info()"
   ]
  },
  {
   "cell_type": "code",
   "execution_count": 50,
   "metadata": {
    "collapsed": false
   },
   "outputs": [
    {
     "name": "stdout",
     "output_type": "stream",
     "text": [
      "{'a': 2, 'c': 1, 'b': 2}\n"
     ]
    }
   ],
   "source": [
    "# 使用字典範例\n",
    "s = ['a' , 'b' , 'c', 'a' , 'b']\n",
    "dic = {}\n",
    "for w in s:\n",
    "    if w not in dic:\n",
    "        dic[w] = 1 # 不在字典中\n",
    "    else:\n",
    "        dic[w] = dic[w] + 1 # 詞在字典中\n",
    "print dic        "
   ]
  },
  {
   "cell_type": "code",
   "execution_count": 52,
   "metadata": {
    "collapsed": false
   },
   "outputs": [
    {
     "name": "stdout",
     "output_type": "stream",
     "text": [
      "Counter({'a': 2, 'b': 2, 'c': 1})\n",
      "[('a', 2)]\n"
     ]
    }
   ],
   "source": [
    "# Use Collections 範例\n",
    "from collections import Counter\n",
    "c = Counter()\n",
    "for w in s:\n",
    "    c[w] +=1\n",
    "print c\n",
    "print c.most_common(1)"
   ]
  },
  {
   "cell_type": "markdown",
   "metadata": {},
   "source": [
    "## 統計最常出現的詞"
   ]
  },
  {
   "cell_type": "code",
   "execution_count": 56,
   "metadata": {
    "collapsed": false
   },
   "outputs": [],
   "source": [
    "\n",
    "from collections import Counter\n",
    "c = Counter()\n",
    "for content in df.content:\n",
    "    seg = jieba.cut(content)\n",
    "    for w in seg:\n",
    "        if len(w) >=2: #字詞長度>=2\n",
    "            c[w] += 1"
   ]
  },
  {
   "cell_type": "code",
   "execution_count": 57,
   "metadata": {
    "collapsed": false
   },
   "outputs": [
    {
     "name": "stdout",
     "output_type": "stream",
     "text": [
      "申請 2874\n",
      "回饋 2806\n",
      "信用卡 2304\n",
      "銀行 2103\n",
      "卡片 1983\n",
      "收到 1959\n",
      "額度 1923\n",
      "客服 1880\n",
      "可以 1753\n",
      "消費 1545\n",
      "刷卡 1520\n",
      "因為 1508\n",
      "所以 1441\n",
      "活動 1438\n",
      "核卡 1419\n",
      "花旗 1416\n",
      "中信 1371\n",
      "com 1323\n",
      "http 1278\n",
      "聯名 1278\n",
      "10 1215\n",
      "證明 1168\n",
      "玉山 1133\n",
      "是否 1085\n",
      "現金 1083\n",
      "財力 1078\n",
      "... 1042\n",
      "提供 1001\n",
      "還是 995\n",
      "申辦 979\n",
      "使用 975\n",
      "工作 956\n",
      "30 956\n",
      "目前 929\n",
      "一下 882\n",
      "富邦 873\n",
      "持有 862\n",
      "辦卡 853\n",
      "知道 852\n",
      "大家 841\n",
      "imgur 828\n",
      "優惠 823\n",
      "電話 813\n",
      "簡訊 795\n",
      "貸款 781\n",
      "如果 772\n",
      "年資 765\n",
      "調額 763\n",
      "沒有 756\n",
      "職業 755\n",
      "以上 730\n",
      "心得 723\n",
      "通知 720\n",
      "卡別 716\n",
      "台新 712\n",
      "12 705\n",
      "看到 686\n",
      "最近 686\n",
      "年收入 683\n",
      "帳單 680\n",
      "元大 679\n",
      "JCB 675\n",
      "華南 671\n",
      "御璽 666\n",
      "這張 662\n",
      "類別 656\n",
      "真的 652\n",
      "就是 652\n",
      "20 650\n",
      "年齡 645\n",
      "資料 632\n",
      "不過 629\n",
      "照會 627\n",
      "網路 621\n",
      "這樣 616\n",
      "核卡額度 616\n",
      "105 614\n",
      "公司 609\n",
      "但是 608\n",
      "2016 607\n",
      "悠遊 605\n",
      "數位 601\n",
      "其他 597\n",
      "應該 590\n",
      "結果 590\n",
      "謝謝 580\n",
      "直接 576\n",
      "問題 571\n",
      "查詢 549\n",
      "生活 548\n",
      "金額 547\n",
      "一個 547\n",
      "期間 546\n",
      "15 536\n",
      "https 533\n",
      "之前 529\n",
      "請問 524\n",
      "今天 518\n",
      "31 514\n",
      "只有 512\n"
     ]
    }
   ],
   "source": [
    "for key, val in c.most_common(100):\n",
    "    print key, val"
   ]
  },
  {
   "cell_type": "code",
   "execution_count": null,
   "metadata": {
    "collapsed": true
   },
   "outputs": [],
   "source": []
  }
 ],
 "metadata": {
  "anaconda-cloud": {},
  "kernelspec": {
   "display_name": "Python [Root]",
   "language": "python",
   "name": "Python [Root]"
  },
  "language_info": {
   "codemirror_mode": {
    "name": "ipython",
    "version": 2
   },
   "file_extension": ".py",
   "mimetype": "text/x-python",
   "name": "python",
   "nbconvert_exporter": "python",
   "pygments_lexer": "ipython2",
   "version": "2.7.12"
  }
 },
 "nbformat": 4,
 "nbformat_minor": 0
}
