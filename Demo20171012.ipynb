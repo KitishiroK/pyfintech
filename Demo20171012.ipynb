{
 "cells": [
  {
   "cell_type": "markdown",
   "metadata": {},
   "source": [
    "## 新聞列表抓取"
   ]
  },
  {
   "cell_type": "code",
   "execution_count": 63,
   "metadata": {
    "collapsed": true
   },
   "outputs": [],
   "source": [
    "import requests\n",
    "res = requests.get('http://www.appledaily.com.tw/realtimenews/section/new/')"
   ]
  },
  {
   "cell_type": "code",
   "execution_count": 64,
   "metadata": {},
   "outputs": [],
   "source": [
    "from bs4 import BeautifulSoup\n",
    "soup =BeautifulSoup(res.text, 'html.parser')"
   ]
  },
  {
   "cell_type": "code",
   "execution_count": 65,
   "metadata": {},
   "outputs": [],
   "source": [
    "for news in soup.select('.rtddt a'):    \n",
    "    link     = 'http://www.appledaily.com.tw' + news['href']\n",
    "    title    = news.select('h1')[0].text\n",
    "    category = news.select('h2')[0].text\n",
    "    time     = news.select('time')[0].text\n",
    "    #print(title, category, time)\n",
    "    #print(link)\n",
    "    #print('==========================')"
   ]
  },
  {
   "cell_type": "markdown",
   "metadata": {},
   "source": [
    "## 抓取內文資訊"
   ]
  },
  {
   "cell_type": "code",
   "execution_count": 14,
   "metadata": {
    "collapsed": true
   },
   "outputs": [],
   "source": [
    "import requests\n",
    "res = requests.get('http://www.appledaily.com.tw/realtimenews/article/sports/20171012/1220634/%E7%8E%A9%E8%A6%AA%E8%A6%AA%E4%B8%8D%E7%A8%80%E5%A5%87%20%E3%80%8C%E9%9B%B7%E7%A5%9E%E3%80%8D%E8%BE%9B%E5%BE%B7%E5%8A%A0%E5%92%8C%E5%A5%B3%E5%8F%8B%E7%AB%9F%E9%80%99%E6%A8%A3%E7%8E%A9...')\n",
    "#res.text"
   ]
  },
  {
   "cell_type": "code",
   "execution_count": 15,
   "metadata": {
    "collapsed": true
   },
   "outputs": [],
   "source": [
    "from bs4 import BeautifulSoup\n",
    "soup = BeautifulSoup(res.text, 'html.parser')"
   ]
  },
  {
   "cell_type": "code",
   "execution_count": 19,
   "metadata": {},
   "outputs": [
    {
     "data": {
      "text/plain": [
       "'【有片】玩親親不稀奇\\u3000「雷神」辛德加和女友竟這樣玩...'"
      ]
     },
     "execution_count": 19,
     "metadata": {},
     "output_type": "execute_result"
    }
   ],
   "source": [
    "soup.select('#h1')[0].text"
   ]
  },
  {
   "cell_type": "code",
   "execution_count": 22,
   "metadata": {},
   "outputs": [
    {
     "data": {
      "text/plain": [
       "'(新增影片)情侣感情好，走在路上十指緊扣，甚至擁吻都不稀奇，但如果好到玩親親，而且玩到女友將手指塞進男友嘴巴，就有趣了！大都會的「雷神」辛德加(Noah Syndergaard)，今年因為受傷，只在大聯盟出賽7場，球季結束，他和女友古柏(Alexandra Cooper)一起去觀看曲棍球賽，兩人在比賽中不僅親密互動，小動作不斷，還被轉播單位拍到，古柏一度將手指塞進辛德加的嘴中，引起球迷注意。25歲的辛德加，今年春訓表現亮眼，原本被看好是賽揚獎的熱門人選，但開季獲1勝2敗，5月1日對國民先發，只投1.1局掉5分，意外拉傷背闊肌和腹斜肌，整整休息了4個月，直到9月24日才復出投1局，10月2日對費城人投2局，球季就結束。辛德加的女友古柏，則小他2歲，本身也是運動員，就讀波士頓大學時是女足校隊，也是位金髮美女，兩人經常放閃，只是沒想到這次被轉播單位拍到，意外又成了花邊新聞。(鍾裕能／綜合報導)出版時間：0617影片更新：0938'"
      ]
     },
     "execution_count": 22,
     "metadata": {},
     "output_type": "execute_result"
    }
   ],
   "source": [
    "soup.select('#summary')[0].text"
   ]
  },
  {
   "cell_type": "code",
   "execution_count": 25,
   "metadata": {},
   "outputs": [
    {
     "data": {
      "text/plain": [
       "'2017年10月12日09:38'"
      ]
     },
     "execution_count": 25,
     "metadata": {},
     "output_type": "execute_result"
    }
   ],
   "source": [
    "soup.select('.gggs time')[0].text"
   ]
  },
  {
   "cell_type": "code",
   "execution_count": 29,
   "metadata": {},
   "outputs": [
    {
     "data": {
      "text/plain": [
       "'人氣(6049)'"
      ]
     },
     "execution_count": 29,
     "metadata": {},
     "output_type": "execute_result"
    }
   ],
   "source": [
    "soup.select('.clicked')[0].text"
   ]
  },
  {
   "cell_type": "markdown",
   "metadata": {},
   "source": [
    "## 撰寫內文抓取函數"
   ]
  },
  {
   "cell_type": "code",
   "execution_count": 34,
   "metadata": {
    "collapsed": true
   },
   "outputs": [],
   "source": [
    "def pageDetail(url):\n",
    "    dic = {}\n",
    "    res  = requests.get(url)\n",
    "    soup = BeautifulSoup(res.text, 'html.parser')\n",
    "    dic['title']   = soup.select('#h1')[0].text\n",
    "    dic['summary'] = soup.select('#summary')[0].text\n",
    "    dic['time']    = soup.select('.gggs time')[0].text\n",
    "    dic['clicked'] = soup.select('.clicked')[0].text\n",
    "    return dic\n",
    "    "
   ]
  },
  {
   "cell_type": "code",
   "execution_count": 36,
   "metadata": {},
   "outputs": [
    {
     "data": {
      "text/plain": [
       "{'clicked': '人氣(404)',\n",
       " 'summary': '氣象達人彭啟明稍早在臉書指出，菲律賓東方的熱帶性低氣壓（TD），有機會在這一兩天內發展成為今年第二十號颱風，目前多數預測往西朝呂宋島方向前進，外圍的水氣會配合上東北風，持續影響北部及東半部，周末期間颱風或TD逐漸進入南海，水氣會減少，才有機會轉多雲到晴天氣。彭啟明也提醒，要特別留意這個系統有成長空間，也代表和雙十連假期間的鬆散低壓帶來的水氣不同，較有組織性，有可能降雨的強度會較大，北東迎風面的朋友要多留意。彭啟明分析，當TD或颱風到南海後，菲律賓東方海面還是頗多擾動，也將持續影響東半部的天氣，下周之後也將會有低壓再發展，預期將持續到十月下旬，至少有兩到三個系統會發展，目前看到即將發展成為颱風的低壓較為明確往西，但後續的系統發展變數較多，目前尚未有太高的參考價值，可能變數更為增加許多，未來要多留意。（生活中心／台北報導）',\n",
       " 'time': '2017年10月12日09:15',\n",
       " 'title': '菲東方TD可能成颱\\u3000專家：北部東部持續性降雨'}"
      ]
     },
     "execution_count": 36,
     "metadata": {},
     "output_type": "execute_result"
    }
   ],
   "source": [
    "pageDetail('http://www.appledaily.com.tw/realtimenews/article/life/20171012/1220917/%E8%8F%B2%E6%9D%B1%E6%96%B9TD%E5%8F%AF%E8%83%BD%E6%88%90%E9%A2%B1%E3%80%80%E5%B0%88%E5%AE%B6%EF%BC%9A%E5%8C%97%E9%83%A8%E6%9D%B1%E9%83%A8%E6%8C%81%E7%BA%8C%E6%80%A7%E9%99%8D%E9%9B%A8')"
   ]
  },
  {
   "cell_type": "code",
   "execution_count": 37,
   "metadata": {},
   "outputs": [
    {
     "data": {
      "text/plain": [
       "{'clicked': '人氣(6050)',\n",
       " 'summary': '國防部推動士官轉軍官政策，傳出欲徵千人，但僅來406人，還下修招募額，讓達成率好看。今日出版的《中國時報》報導，國防部推動士官轉軍官政策，預計招募千餘名額，最後只招到406人，自動下修目標，把招募員額調整到413人，宣稱目標達成率達98％。羅致政昨質疑國防部的「數字」好看，報告書強調人力招募達到甚至超過目標，但實際情形是「軍官招不到，士官缺到爆，義務徵集招不到」。（即時新聞中心／綜合報導）',\n",
       " 'time': '2017年10月12日08:53',\n",
       " 'title': '徵千人卻來不到一半\\u3000愛面子！國防部下修招募數'}"
      ]
     },
     "execution_count": 37,
     "metadata": {},
     "output_type": "execute_result"
    }
   ],
   "source": [
    "pageDetail('http://www.appledaily.com.tw/realtimenews/article/politics/20171012/1220902/%E5%BE%B5%E5%8D%83%E4%BA%BA%E5%8D%BB%E4%BE%86%E4%B8%8D%E5%88%B0%E4%B8%80%E5%8D%8A%E3%80%80%E6%84%9B%E9%9D%A2%E5%AD%90%EF%BC%81%E5%9C%8B%E9%98%B2%E9%83%A8%E4%B8%8B%E4%BF%AE%E6%8B%9B%E5%8B%9F%E6%95%B8')"
   ]
  },
  {
   "cell_type": "markdown",
   "metadata": {},
   "source": [
    "## Python 函數"
   ]
  },
  {
   "cell_type": "code",
   "execution_count": 28,
   "metadata": {},
   "outputs": [
    {
     "data": {
      "text/plain": [
       "9"
      ]
     },
     "execution_count": 28,
     "metadata": {},
     "output_type": "execute_result"
    }
   ],
   "source": [
    "def addnum(a, b):\n",
    "    return a + b\n",
    "addnum(3,5)\n",
    "addnum(2,7)"
   ]
  },
  {
   "cell_type": "markdown",
   "metadata": {},
   "source": [
    "## Python 字典"
   ]
  },
  {
   "cell_type": "code",
   "execution_count": 30,
   "metadata": {},
   "outputs": [
    {
     "data": {
      "text/plain": [
       "{'a': 123}"
      ]
     },
     "execution_count": 30,
     "metadata": {},
     "output_type": "execute_result"
    }
   ],
   "source": [
    "dic = {}\n",
    "dic['a'] = 123\n",
    "dic"
   ]
  },
  {
   "cell_type": "code",
   "execution_count": 31,
   "metadata": {},
   "outputs": [
    {
     "data": {
      "text/plain": [
       "{'a': 123, 'b': 234}"
      ]
     },
     "execution_count": 31,
     "metadata": {},
     "output_type": "execute_result"
    }
   ],
   "source": [
    "dic['b'] = 234\n",
    "dic"
   ]
  },
  {
   "cell_type": "markdown",
   "metadata": {},
   "source": [
    "## 資料格式"
   ]
  },
  {
   "cell_type": "code",
   "execution_count": 1,
   "metadata": {},
   "outputs": [
    {
     "data": {
      "text/plain": [
       "8"
      ]
     },
     "execution_count": 1,
     "metadata": {},
     "output_type": "execute_result"
    }
   ],
   "source": [
    "n = 3\n",
    "n + 5"
   ]
  },
  {
   "cell_type": "code",
   "execution_count": 2,
   "metadata": {},
   "outputs": [
    {
     "data": {
      "text/plain": [
       "'helloworld'"
      ]
     },
     "execution_count": 2,
     "metadata": {},
     "output_type": "execute_result"
    }
   ],
   "source": [
    "s = 'hello'\n",
    "s + 'world'"
   ]
  },
  {
   "cell_type": "code",
   "execution_count": 3,
   "metadata": {},
   "outputs": [
    {
     "ename": "TypeError",
     "evalue": "must be str, not int",
     "output_type": "error",
     "traceback": [
      "\u001b[1;31m---------------------------------------------------------------------------\u001b[0m",
      "\u001b[1;31mTypeError\u001b[0m                                 Traceback (most recent call last)",
      "\u001b[1;32m<ipython-input-3-7044d69c910d>\u001b[0m in \u001b[0;36m<module>\u001b[1;34m()\u001b[0m\n\u001b[1;32m----> 1\u001b[1;33m \u001b[0ms\u001b[0m \u001b[1;33m+\u001b[0m \u001b[0mn\u001b[0m\u001b[1;33m\u001b[0m\u001b[0m\n\u001b[0m",
      "\u001b[1;31mTypeError\u001b[0m: must be str, not int"
     ]
    }
   ],
   "source": [
    "s + n"
   ]
  },
  {
   "cell_type": "code",
   "execution_count": 5,
   "metadata": {},
   "outputs": [
    {
     "ename": "TypeError",
     "evalue": "unsupported operand type(s) for -: 'str' and 'str'",
     "output_type": "error",
     "traceback": [
      "\u001b[1;31m---------------------------------------------------------------------------\u001b[0m",
      "\u001b[1;31mTypeError\u001b[0m                                 Traceback (most recent call last)",
      "\u001b[1;32m<ipython-input-5-a3e7824e02f9>\u001b[0m in \u001b[0;36m<module>\u001b[1;34m()\u001b[0m\n\u001b[1;32m----> 1\u001b[1;33m \u001b[1;34m'2017-12-01'\u001b[0m \u001b[1;33m-\u001b[0m  \u001b[1;34m'2017-01-01'\u001b[0m\u001b[1;33m\u001b[0m\u001b[0m\n\u001b[0m",
      "\u001b[1;31mTypeError\u001b[0m: unsupported operand type(s) for -: 'str' and 'str'"
     ]
    }
   ],
   "source": [
    "'2017-12-01' -  '2017-01-01'"
   ]
  },
  {
   "cell_type": "markdown",
   "metadata": {},
   "source": [
    "## 時間格式\n",
    "- https://docs.python.org/3/library/datetime.html#strftime-and-strptime-behavior"
   ]
  },
  {
   "cell_type": "code",
   "execution_count": 11,
   "metadata": {
    "collapsed": true
   },
   "outputs": [],
   "source": [
    "from datetime import datetime\n",
    "#datetime.strptime()\n",
    "current_time = datetime.now()\n",
    "\n",
    "# 使用strftime 將時間轉換為字串\n",
    "current_time.strftime('%Y-%m-%d')\n",
    "current_time.strftime('%Y-%B')\n",
    "\n",
    "# 使用strptime 將字串轉換為時間\n",
    "dt = datetime.strptime('2017-1-1', '%Y-%m-%d')"
   ]
  },
  {
   "cell_type": "code",
   "execution_count": 12,
   "metadata": {},
   "outputs": [
    {
     "data": {
      "text/plain": [
       "datetime.timedelta(284, 37572, 157630)"
      ]
     },
     "execution_count": 12,
     "metadata": {},
     "output_type": "execute_result"
    }
   ],
   "source": [
    "current_time - dt"
   ]
  },
  {
   "cell_type": "markdown",
   "metadata": {},
   "source": [
    "## 修改內文抓取函數"
   ]
  },
  {
   "cell_type": "code",
   "execution_count": 5,
   "metadata": {
    "collapsed": true
   },
   "outputs": [],
   "source": [
    "import requests\n",
    "from bs4 import BeautifulSoup\n",
    "\n",
    "def pageDetail(url):\n",
    "    dic = {}\n",
    "    res  = requests.get(url)\n",
    "    soup = BeautifulSoup(res.text, 'html.parser')\n",
    "    dic['title']   = soup.select('#h1')[0].text\n",
    "    dic['summary'] = soup.select('#summary')[0].text\n",
    "    dt = soup.select('.gggs time')[0].text\n",
    "    dic['time']    = datetime.strptime(dt, '%Y年%m月%d日%H:%M')\n",
    "    dic['clicked'] = soup.select('.clicked')[0].text\n",
    "    return dic"
   ]
  },
  {
   "cell_type": "code",
   "execution_count": 6,
   "metadata": {},
   "outputs": [
    {
     "data": {
      "text/plain": [
       "{'clicked': '人氣(16866)',\n",
       " 'summary': '鴻海集團進軍規模3兆美元（約90兆元台幣）美國醫療照護市場的藍圖曝光，將以癌症防治、醫療大數據與智慧病房為3大主軸。這可能成為鴻海豪砸100億美元（約3000億元台幣），在威斯康辛州興建以面板10.5代廠為主的智慧製造園區之外，開發美國市場的另一個重要引擎。鴻海集團旗下M次集團（樂活養生健康次集團）副總裁吳良襄的資深顧問Charlie Alvarez，周二接受威州地方媒體《Wisconsin State Journal》專訪時透露，目前鴻海在威斯康辛州投資方案中，在醫療與生技層面的投資與合作案部分，可能要到2018年才敲定。不過，他證實鴻海有意在威州首府麥迪遜地區，設立醫療器材的工廠，也有意與威斯康辛大學麥迪遜分校的Carbone癌症中心在癌症防治上合作，還打算在威州實地測試M次集團已經開發出的「智慧病房」概念。Charlie Alvarez也提到，M次集團在「未來醫院」（Hospital of the Future）概念下發展的智慧病房（Smart Ward），將包括了即時保密傳訊系統、追蹤失智症病患的感測器、持續監測生理跡象的儀器，以及護理師無須觸碰、只靠手勢就能操作的機器人護理工作站等環節。鴻海美國投資案在今年夏天成為威斯康辛州熱門話題，其實7月時鴻海高層已密集接觸威州首府麥迪遜（Madison）地區的多家醫療機構、生技新創公司，以及花旗蔘農場，而且明確表達投資或合作意向。這項消息意味，生技醫療儼然成為鴻海在威斯康辛州的第2投資重心。8月初威州地方媒體《Milwaukee Journal Sentinel》曾報導，鴻海集團的醫療事業高層7月頻繁拜會多家當地的生技業者與醫療院所，已知至少有3個機構，第一是與台大醫院關係密切的威斯康辛大學麥迪遜分校（University of Wisconsin - Madison）的Carbone癌症中心；第二是與同樣位於麥迪遜，主攻癌症診斷與追蹤的生技新創公司Capio Biosciences；第三是美國知名大企業奇異集團的旗下事業奇異醫療（GE Healthcare）。其實郭台銘在6月中舉行的鴻海股東會上，就已經明白表示有意與麥迪遜地區生技業者合作的態度。當時郭董說：「威斯康辛州有個地方叫麥迪遜，麥迪遜的醫療健康（產業）是相當發達，這是我們現在考慮（投資）的地方之一。」（劉煥彥／綜合外電報導）出版：０６：１５更新：０９：０１\\xa0',\n",
       " 'time': datetime.datetime(2017, 10, 12, 9, 1),\n",
       " 'title': '【郭董出招片】瞄準90兆美國醫療市場\\u30003大藍圖首曝光'}"
      ]
     },
     "execution_count": 6,
     "metadata": {},
     "output_type": "execute_result"
    }
   ],
   "source": [
    "pageDetail('http://www.appledaily.com.tw/realtimenews/article/finance/20171012/1220629/%E3%80%90%E9%83%AD%E8%91%A3%E5%87%BA%E6%8B%9B%E7%89%87%E3%80%91%E7%9E%84%E6%BA%9690%E5%85%86%E7%BE%8E%E5%9C%8B%E9%86%AB%E7%99%82%E5%B8%82%E5%A0%B4%E3%80%803%E5%A4%A7%E8%97%8D%E5%9C%96%E9%A6%96%E6%9B%9D%E5%85%89')"
   ]
  },
  {
   "cell_type": "code",
   "execution_count": 4,
   "metadata": {},
   "outputs": [
    {
     "data": {
      "text/plain": [
       "datetime.datetime(2017, 10, 12, 9, 1)"
      ]
     },
     "execution_count": 4,
     "metadata": {},
     "output_type": "execute_result"
    }
   ],
   "source": [
    "from datetime import datetime\n",
    "# 使用strptime 抽取時間\n",
    "datetime.strptime('2017年10月12日09:01', '%Y年%m月%d日%H:%M')"
   ]
  },
  {
   "cell_type": "code",
   "execution_count": 7,
   "metadata": {},
   "outputs": [
    {
     "ename": "TypeError",
     "evalue": "unsupported operand type(s) for /: 'str' and 'int'",
     "output_type": "error",
     "traceback": [
      "\u001b[1;31m---------------------------------------------------------------------------\u001b[0m",
      "\u001b[1;31mTypeError\u001b[0m                                 Traceback (most recent call last)",
      "\u001b[1;32m<ipython-input-7-2a59faa827c8>\u001b[0m in \u001b[0;36m<module>\u001b[1;34m()\u001b[0m\n\u001b[1;32m----> 1\u001b[1;33m \u001b[1;34m'人氣(16866)'\u001b[0m \u001b[1;33m/\u001b[0m \u001b[1;36m100\u001b[0m\u001b[1;33m\u001b[0m\u001b[0m\n\u001b[0m",
      "\u001b[1;31mTypeError\u001b[0m: unsupported operand type(s) for /: 'str' and 'int'"
     ]
    }
   ],
   "source": [
    "'人氣(16866)' / 100"
   ]
  },
  {
   "cell_type": "code",
   "execution_count": 36,
   "metadata": {},
   "outputs": [
    {
     "name": "stdout",
     "output_type": "stream",
     "text": [
      "<_sre.SRE_Match object; span=(0, 9), match='人氣(16866)'>\n"
     ]
    },
    {
     "data": {
      "text/plain": [
       "16866"
      ]
     },
     "execution_count": 36,
     "metadata": {},
     "output_type": "execute_result"
    }
   ],
   "source": [
    "import re\n",
    "print(re.match('人氣\\(\\d+\\)','人氣(16866)'))\n",
    "\n",
    "# () get matched group, \\ : escape\n",
    "m = re.match('人氣\\((\\d+)\\)','人氣(16866)')\n",
    "int(m.group(1))"
   ]
  },
  {
   "cell_type": "markdown",
   "metadata": {},
   "source": [
    "## 正規表達法"
   ]
  },
  {
   "cell_type": "code",
   "execution_count": 8,
   "metadata": {},
   "outputs": [
    {
     "data": {
      "text/plain": [
       "True"
      ]
     },
     "execution_count": 8,
     "metadata": {},
     "output_type": "execute_result"
    }
   ],
   "source": [
    "article= 'Hi, I am David, my phone number is 0912345678'\n",
    "'0912345678' in article"
   ]
  },
  {
   "cell_type": "code",
   "execution_count": 13,
   "metadata": {},
   "outputs": [
    {
     "name": "stdout",
     "output_type": "stream",
     "text": [
      "<_sre.SRE_Match object; span=(0, 1), match='5'>\n",
      "None\n",
      "<_sre.SRE_Match object; span=(0, 1), match='5'>\n",
      "<_sre.SRE_Match object; span=(0, 1), match='5'>\n",
      "<_sre.SRE_Match object; span=(0, 1), match='5'>\n"
     ]
    }
   ],
   "source": [
    "a = '5'\n",
    "import re\n",
    "print(re.match('5',a))\n",
    "\n",
    "print(re.match('3',a))\n",
    "\n",
    "# [], match any character within []\n",
    "print(re.match('[0123456789]',a))\n",
    "\n",
    "# - 比對一個範圍 e.g. [0123456789] => [0-9]\n",
    "print(re.match('[0-9]',a))\n",
    "\n",
    "# [0-9] => \\d\n",
    "print(re.match('\\d',a))"
   ]
  },
  {
   "cell_type": "code",
   "execution_count": 19,
   "metadata": {},
   "outputs": [
    {
     "name": "stdout",
     "output_type": "stream",
     "text": [
      "<_sre.SRE_Match object; span=(0, 1), match='w'>\n",
      "<_sre.SRE_Match object; span=(0, 1), match='w'>\n",
      "<_sre.SRE_Match object; span=(0, 1), match='w'>\n",
      "None\n",
      "<_sre.SRE_Match object; span=(0, 1), match='W'>\n",
      "<_sre.SRE_Match object; span=(0, 1), match='W'>\n",
      "<_sre.SRE_Match object; span=(0, 1), match='W'>\n"
     ]
    }
   ],
   "source": [
    "a = 'w'\n",
    "print(re.match('w',a))\n",
    "print(re.match('[abcdefghijklmopqrstuvwxyz]',a))\n",
    "\n",
    "# [abcdefghijklmopqrstuvwxyz] => [a-z]\n",
    "print(re.match('[a-z]',a))\n",
    "\n",
    "a = 'W'\n",
    "print(re.match('[a-z]',a))\n",
    "print(re.match('[a-zA-Z]',a))\n",
    "\n",
    "\n",
    "# match lower case alphabet, upper case alphabet, digit\n",
    "print(re.match('[a-zA-Z0-9]',a))\n",
    "\n",
    "# '[a-zA-Z0-9]' => \\w\n",
    "print(re.match('\\w',a))"
   ]
  },
  {
   "cell_type": "code",
   "execution_count": 26,
   "metadata": {},
   "outputs": [
    {
     "name": "stdout",
     "output_type": "stream",
     "text": [
      "<_sre.SRE_Match object; span=(0, 1), match='a'>\n",
      "<_sre.SRE_Match object; span=(0, 5), match='apple'>\n",
      "<_sre.SRE_Match object; span=(0, 3), match='app'>\n",
      "<_sre.SRE_Match object; span=(0, 5), match='apple'>\n",
      "<_sre.SRE_Match object; span=(0, 5), match='apple'>\n",
      "<_sre.SRE_Match object; span=(0, 5), match='apple'>\n",
      "<_sre.SRE_Match object; span=(0, 5), match='apple'>\n",
      "<_sre.SRE_Match object; span=(0, 5), match='apple'>\n"
     ]
    }
   ],
   "source": [
    "a = 'apple'\n",
    "print(re.match('\\w', a))\n",
    "\n",
    "# {n} match number of occurence (n) within {}\n",
    "print(re.match('\\w{5}', a))\n",
    "print(re.match('\\w{3}', a))\n",
    "\n",
    "# {m,n} match at least m occurence, and at most n occurence\n",
    "print(re.match('\\w{3,6}', a))\n",
    "\n",
    "\n",
    "print(re.match('\\w{1,}', a))\n",
    "# {1,} => +\n",
    "print(re.match('\\w+', a))\n",
    "\n",
    "\n",
    "print(re.match('\\w{0,}', a))\n",
    "# {0,} => *\n",
    "print(re.match('\\w*', a))"
   ]
  },
  {
   "cell_type": "code",
   "execution_count": 31,
   "metadata": {},
   "outputs": [
    {
     "name": "stdout",
     "output_type": "stream",
     "text": [
      "<_sre.SRE_Match object; span=(0, 10), match='0912345678'>\n",
      "<_sre.SRE_Match object; span=(0, 11), match='0912-345678'>\n",
      "<_sre.SRE_Match object; span=(0, 12), match='0912-345-678'>\n",
      "None\n"
     ]
    }
   ],
   "source": [
    "phones = ['0912345678', '0912-345678', '0912-345-678', '09183098390218908293405882038032323121']\n",
    "for p in phones:\n",
    "    #print(re.match('09\\d{8}' , p))\n",
    "    #print(re.match('09\\d{2}-{0,1}\\d{3}-{0,1}\\d{3}' , p))\n",
    "    \n",
    "    # {0,1} => ?\n",
    "    #print(re.match('09\\d{2}-?\\d{3}-?\\d{3}' , p))\n",
    "    \n",
    "    # ^ match initial character, $ match end character\n",
    "    print(re.match('^09\\d{2}-?\\d{3}-?\\d{3}$' , p))\n"
   ]
  },
  {
   "cell_type": "code",
   "execution_count": 39,
   "metadata": {},
   "outputs": [
    {
     "name": "stdout",
     "output_type": "stream",
     "text": [
      "None\n",
      "<_sre.SRE_Match object; span=(0, 3), match='$_$'>\n"
     ]
    }
   ],
   "source": [
    "a = '$_$'\n",
    "print(re.match('\\w+', a))\n",
    "print(re.match('.+', a))"
   ]
  },
  {
   "cell_type": "markdown",
   "metadata": {},
   "source": [
    "## 正規表達法範例"
   ]
  },
  {
   "cell_type": "code",
   "execution_count": 45,
   "metadata": {},
   "outputs": [
    {
     "name": "stdout",
     "output_type": "stream",
     "text": [
      "<_sre.SRE_Match object; span=(0, 16), match='david@largitdata'>\n",
      "<_sre.SRE_Match object; span=(0, 20), match='david@largitdata.com'>\n"
     ]
    },
    {
     "data": {
      "text/plain": [
       "'largitdata.com'"
      ]
     },
     "execution_count": 45,
     "metadata": {},
     "output_type": "execute_result"
    }
   ],
   "source": [
    "email = 'david@largitdata.com'\n",
    "print(re.match('\\w+@\\w+', email))\n",
    "      \n",
    "print(re.match('\\w+@[\\w.]+', email))\n",
    "\n",
    "m = re.match('(\\w+)@([\\w.]+)', email)\n",
    "m.group(1)\n",
    "m.group(2)"
   ]
  },
  {
   "cell_type": "code",
   "execution_count": 53,
   "metadata": {},
   "outputs": [
    {
     "name": "stdout",
     "output_type": "stream",
     "text": [
      "David\n",
      "Chiu\n",
      "David\n",
      "Chiu\n"
     ]
    }
   ],
   "source": [
    "n = '1999.5'\n",
    "re.match('\\d+\\.\\d+', n)\n",
    "\n",
    "m = re.match('(\\d+)\\.(\\d+)', n)\n",
    "m.group(1)\n",
    "m.group(2)\n",
    "\n",
    "name = 'David Chiu'\n",
    "m = re.match('(\\w+) (\\w+)', name)\n",
    "print(m.group(1))\n",
    "print(m.group(2))\n",
    "\n",
    "m = re.match('(?P<first_name>\\w+) (?P<last_name>\\w+)', name)\n",
    "print(m['first_name'])\n",
    "print(m['last_name'])\n",
    "#print(m.group(2))"
   ]
  },
  {
   "cell_type": "code",
   "execution_count": 59,
   "metadata": {},
   "outputs": [
    {
     "name": "stdout",
     "output_type": "stream",
     "text": [
      "file.txt\n",
      "root\n",
      "10.0.0.1\n",
      "./\n"
     ]
    }
   ],
   "source": [
    "str1 = 'scp file.txt root@10.0.0.1:./'\n",
    "m = re.match('scp ([\\w.]+) (\\w+)@([\\d.]+):(.+)', str1)\n",
    "print(m.group(1))\n",
    "print(m.group(2))\n",
    "print(m.group(3))\n",
    "print(m.group(4))"
   ]
  },
  {
   "cell_type": "code",
   "execution_count": null,
   "metadata": {
    "collapsed": true
   },
   "outputs": [],
   "source": []
  }
 ],
 "metadata": {
  "kernelspec": {
   "display_name": "Python 3",
   "language": "python",
   "name": "python3"
  },
  "language_info": {
   "codemirror_mode": {
    "name": "ipython",
    "version": 3
   },
   "file_extension": ".py",
   "mimetype": "text/x-python",
   "name": "python",
   "nbconvert_exporter": "python",
   "pygments_lexer": "ipython3",
   "version": "3.6.2"
  }
 },
 "nbformat": 4,
 "nbformat_minor": 2
}
