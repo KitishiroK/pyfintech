{
 "cells": [
  {
   "cell_type": "markdown",
   "metadata": {},
   "source": [
    "## 新聞列表抓取"
   ]
  },
  {
   "cell_type": "code",
   "execution_count": 1,
   "metadata": {
    "collapsed": true
   },
   "outputs": [],
   "source": [
    "import requests\n",
    "res = requests.get('http://www.appledaily.com.tw/realtimenews/section/new/')"
   ]
  },
  {
   "cell_type": "code",
   "execution_count": 4,
   "metadata": {},
   "outputs": [],
   "source": [
    "from bs4 import BeautifulSoup\n",
    "soup =BeautifulSoup(res.text, 'html.parser')"
   ]
  },
  {
   "cell_type": "code",
   "execution_count": 12,
   "metadata": {},
   "outputs": [
    {
     "name": "stdout",
     "output_type": "stream",
     "text": [
      "http://www.appledaily.com.tw/realtimenews/article/sports/20171012/1220634/玩親親不稀奇　「雷神」辛德加和女友竟這樣玩...\n",
      "==========================\n",
      "http://www.appledaily.com.tw/realtimenews/article/life/20171012/1220921/免費加麵「吃到飽」？女控麵店小氣反被打臉\n",
      "==========================\n",
      "http://www.appledaily.com.tw/realtimenews/article/sports/20171012/1220923/爾文秀助攻　助塞爾提克熱身賽4戰全勝\n",
      "==========================\n",
      "http://www.appledaily.com.tw/realtimenews/article/sports/20171012/1220925/宣銅烈把外卡說成鬼牌　結果日本也用滿\n",
      "==========================\n",
      "http://www.appledaily.com.tw/realtimenews/article/international/20171012/1220910/被指侵吞公款且沾女色　印尼主教辭職\n",
      "==========================\n",
      "http://www.appledaily.com.tw/realtimenews/article/finance/20171012/1220827/環保污泥處理量倍增　同開Q4動能看俏\n",
      "==========================\n",
      "http://www.appledaily.com.tw/realtimenews/article/entertainment/20171012/1220896/金牌製片陷性醜聞鬧自殺　警察登門救人！\n",
      "==========================\n",
      "http://www.appledaily.com.tw/realtimenews/article/finance/20171012/1220915/顧立雄也愛用電子支付　「我用ApplePay」\n",
      "==========================\n",
      "http://www.appledaily.com.tw/realtimenews/article/sports/20171012/1220916/2年內4度被裁　NBA狀元誰比他慘\n",
      "==========================\n",
      "http://www.appledaily.com.tw/realtimenews/article/life/20171012/1220917/菲東方TD可能成颱　專家：北部東部持續性降雨\n",
      "==========================\n",
      "http://www.appledaily.com.tw/realtimenews/article/property/20171012/1220559/【蘋果VR】「京城」戶戶3面採光採毛胚交屋\n",
      "==========================\n",
      "http://www.appledaily.com.tw/realtimenews/article/finance/20171012/1220912/台股逼近10700點　再創27年半以來新高\n",
      "==========================\n",
      "http://www.appledaily.com.tw/realtimenews/article/life/20171012/1220868/宜蘭大豪雨、北北基大雨特報　輕颱卡努最快今生成\n",
      "==========================\n",
      "http://www.appledaily.com.tw/realtimenews/article/forum/20171012/1220911/綠色和平：善待每一位漁工方能展現台灣維護人權的決心\n",
      "==========================\n",
      "http://www.appledaily.com.tw/realtimenews/article/finance/20171012/1220629/【郭董出招片】瞄準90兆美國醫療市場　3大藍圖首曝光\n",
      "==========================\n",
      "http://www.appledaily.com.tw/realtimenews/article/fashion/20171012/1220647/凱莉傑納性感內衣上陣　也要秀LOVE\n",
      "==========================\n",
      "http://www.appledaily.com.tw/realtimenews/article/finance/20171012/1220795/Airbnb房源在這城市一夕歸零！都是這個原因\n",
      "==========================\n",
      "http://www.appledaily.com.tw/realtimenews/article/life/20171012/1220905/北北基宜花發豪大雨特報　輕颱卡努最快今生成\n",
      "==========================\n",
      "http://www.appledaily.com.tw/realtimenews/article/international/20171012/1220895/目睹女友被雪活埋　登山好手打擊太大自盡\n",
      "==========================\n",
      "http://www.appledaily.com.tw/realtimenews/article/politics/20171012/1220902/徵千人卻來不到一半　愛面子！國防部下修招募數\n",
      "==========================\n",
      "http://www.appledaily.com.tw/realtimenews/article/sports/20171012/1220906/林書豪率籃網挑戰熱身賽4戰全勝　上半場拿6分\n",
      "==========================\n",
      "http://www.appledaily.com.tw/realtimenews/article/sports/20171012/1220903/洛夫改打中鋒　詹皇授意的？\n",
      "==========================\n",
      "http://www.appledaily.com.tw/realtimenews/article/local/20171012/1220897/2個女兒給公婆帶　媳婦嫌給1萬太貴被離婚\n",
      "==========================\n",
      "http://www.appledaily.com.tw/realtimenews/article/international/20171012/1220892/班農曾與好萊塢色胚製片合資　獲利數千萬\n",
      "==========================\n",
      "http://www.appledaily.com.tw/realtimenews/article/international/20171012/1220900/「女人有長胸就性侵」　IS性奴自殘為流產\n",
      "==========================\n",
      "http://www.appledaily.com.tw/realtimenews/article/sports/20171012/1220901/今天動右腳踝手術　大谷翔平備戰大聯盟\n",
      "==========================\n",
      "http://www.appledaily.com.tw/realtimenews/article/entertainment/20171012/1220894/認了接回腥夫　周遊憑這點贏過獅奶\n",
      "==========================\n",
      "http://www.appledaily.com.tw/realtimenews/article/international/20171012/1220881/臉書發表新VR眼鏡　豪語靠CP值吸10億用戶\n",
      "==========================\n",
      "http://www.appledaily.com.tw/realtimenews/article/entertainment/20171012/1220889/交往6年仍不婚！中居正廣分手女舞師\n",
      "==========================\n",
      "http://www.appledaily.com.tw/realtimenews/article/sports/20171012/1220899/開除總教練　紅襪總管：與季後賽無關\n",
      "==========================\n"
     ]
    }
   ],
   "source": [
    "for news in soup.select('.rtddt a'):    \n",
    "    link     = 'http://www.appledaily.com.tw' + news['href']\n",
    "    title    = news.select('h1')[0].text\n",
    "    category = news.select('h2')[0].text\n",
    "    time     = news.select('time')[0].text\n",
    "    #print(title, category, time)\n",
    "    print(link)\n",
    "    print('==========================')"
   ]
  },
  {
   "cell_type": "markdown",
   "metadata": {},
   "source": [
    "## 抓取內文資訊"
   ]
  },
  {
   "cell_type": "code",
   "execution_count": 14,
   "metadata": {},
   "outputs": [],
   "source": [
    "import requests\n",
    "res = requests.get('http://www.appledaily.com.tw/realtimenews/article/sports/20171012/1220634/%E7%8E%A9%E8%A6%AA%E8%A6%AA%E4%B8%8D%E7%A8%80%E5%A5%87%20%E3%80%8C%E9%9B%B7%E7%A5%9E%E3%80%8D%E8%BE%9B%E5%BE%B7%E5%8A%A0%E5%92%8C%E5%A5%B3%E5%8F%8B%E7%AB%9F%E9%80%99%E6%A8%A3%E7%8E%A9...')\n",
    "#res.text"
   ]
  },
  {
   "cell_type": "code",
   "execution_count": 15,
   "metadata": {
    "collapsed": true
   },
   "outputs": [],
   "source": [
    "from bs4 import BeautifulSoup\n",
    "soup = BeautifulSoup(res.text, 'html.parser')"
   ]
  },
  {
   "cell_type": "code",
   "execution_count": 19,
   "metadata": {},
   "outputs": [
    {
     "data": {
      "text/plain": [
       "'【有片】玩親親不稀奇\\u3000「雷神」辛德加和女友竟這樣玩...'"
      ]
     },
     "execution_count": 19,
     "metadata": {},
     "output_type": "execute_result"
    }
   ],
   "source": [
    "soup.select('#h1')[0].text"
   ]
  },
  {
   "cell_type": "code",
   "execution_count": 22,
   "metadata": {},
   "outputs": [
    {
     "data": {
      "text/plain": [
       "'(新增影片)情侣感情好，走在路上十指緊扣，甚至擁吻都不稀奇，但如果好到玩親親，而且玩到女友將手指塞進男友嘴巴，就有趣了！大都會的「雷神」辛德加(Noah Syndergaard)，今年因為受傷，只在大聯盟出賽7場，球季結束，他和女友古柏(Alexandra Cooper)一起去觀看曲棍球賽，兩人在比賽中不僅親密互動，小動作不斷，還被轉播單位拍到，古柏一度將手指塞進辛德加的嘴中，引起球迷注意。25歲的辛德加，今年春訓表現亮眼，原本被看好是賽揚獎的熱門人選，但開季獲1勝2敗，5月1日對國民先發，只投1.1局掉5分，意外拉傷背闊肌和腹斜肌，整整休息了4個月，直到9月24日才復出投1局，10月2日對費城人投2局，球季就結束。辛德加的女友古柏，則小他2歲，本身也是運動員，就讀波士頓大學時是女足校隊，也是位金髮美女，兩人經常放閃，只是沒想到這次被轉播單位拍到，意外又成了花邊新聞。(鍾裕能／綜合報導)出版時間：0617影片更新：0938'"
      ]
     },
     "execution_count": 22,
     "metadata": {},
     "output_type": "execute_result"
    }
   ],
   "source": [
    "soup.select('#summary')[0].text"
   ]
  },
  {
   "cell_type": "code",
   "execution_count": 25,
   "metadata": {},
   "outputs": [
    {
     "data": {
      "text/plain": [
       "'2017年10月12日09:38'"
      ]
     },
     "execution_count": 25,
     "metadata": {},
     "output_type": "execute_result"
    }
   ],
   "source": [
    "soup.select('.gggs time')[0].text"
   ]
  },
  {
   "cell_type": "code",
   "execution_count": 29,
   "metadata": {},
   "outputs": [
    {
     "data": {
      "text/plain": [
       "'人氣(6049)'"
      ]
     },
     "execution_count": 29,
     "metadata": {},
     "output_type": "execute_result"
    }
   ],
   "source": [
    "soup.select('.clicked')[0].text"
   ]
  },
  {
   "cell_type": "markdown",
   "metadata": {},
   "source": [
    "## 撰寫內文抓取函數"
   ]
  },
  {
   "cell_type": "code",
   "execution_count": 34,
   "metadata": {
    "collapsed": true
   },
   "outputs": [],
   "source": [
    "def pageDetail(url):\n",
    "    dic = {}\n",
    "    res  = requests.get(url)\n",
    "    soup = BeautifulSoup(res.text, 'html.parser')\n",
    "    dic['title']   = soup.select('#h1')[0].text\n",
    "    dic['summary'] = soup.select('#summary')[0].text\n",
    "    dic['time']    = soup.select('.gggs time')[0].text\n",
    "    dic['clicked'] = soup.select('.clicked')[0].text\n",
    "    return dic\n",
    "    "
   ]
  },
  {
   "cell_type": "code",
   "execution_count": 36,
   "metadata": {},
   "outputs": [
    {
     "data": {
      "text/plain": [
       "{'clicked': '人氣(404)',\n",
       " 'summary': '氣象達人彭啟明稍早在臉書指出，菲律賓東方的熱帶性低氣壓（TD），有機會在這一兩天內發展成為今年第二十號颱風，目前多數預測往西朝呂宋島方向前進，外圍的水氣會配合上東北風，持續影響北部及東半部，周末期間颱風或TD逐漸進入南海，水氣會減少，才有機會轉多雲到晴天氣。彭啟明也提醒，要特別留意這個系統有成長空間，也代表和雙十連假期間的鬆散低壓帶來的水氣不同，較有組織性，有可能降雨的強度會較大，北東迎風面的朋友要多留意。彭啟明分析，當TD或颱風到南海後，菲律賓東方海面還是頗多擾動，也將持續影響東半部的天氣，下周之後也將會有低壓再發展，預期將持續到十月下旬，至少有兩到三個系統會發展，目前看到即將發展成為颱風的低壓較為明確往西，但後續的系統發展變數較多，目前尚未有太高的參考價值，可能變數更為增加許多，未來要多留意。（生活中心／台北報導）',\n",
       " 'time': '2017年10月12日09:15',\n",
       " 'title': '菲東方TD可能成颱\\u3000專家：北部東部持續性降雨'}"
      ]
     },
     "execution_count": 36,
     "metadata": {},
     "output_type": "execute_result"
    }
   ],
   "source": [
    "pageDetail('http://www.appledaily.com.tw/realtimenews/article/life/20171012/1220917/%E8%8F%B2%E6%9D%B1%E6%96%B9TD%E5%8F%AF%E8%83%BD%E6%88%90%E9%A2%B1%E3%80%80%E5%B0%88%E5%AE%B6%EF%BC%9A%E5%8C%97%E9%83%A8%E6%9D%B1%E9%83%A8%E6%8C%81%E7%BA%8C%E6%80%A7%E9%99%8D%E9%9B%A8')"
   ]
  },
  {
   "cell_type": "code",
   "execution_count": 37,
   "metadata": {},
   "outputs": [
    {
     "data": {
      "text/plain": [
       "{'clicked': '人氣(6050)',\n",
       " 'summary': '國防部推動士官轉軍官政策，傳出欲徵千人，但僅來406人，還下修招募額，讓達成率好看。今日出版的《中國時報》報導，國防部推動士官轉軍官政策，預計招募千餘名額，最後只招到406人，自動下修目標，把招募員額調整到413人，宣稱目標達成率達98％。羅致政昨質疑國防部的「數字」好看，報告書強調人力招募達到甚至超過目標，但實際情形是「軍官招不到，士官缺到爆，義務徵集招不到」。（即時新聞中心／綜合報導）',\n",
       " 'time': '2017年10月12日08:53',\n",
       " 'title': '徵千人卻來不到一半\\u3000愛面子！國防部下修招募數'}"
      ]
     },
     "execution_count": 37,
     "metadata": {},
     "output_type": "execute_result"
    }
   ],
   "source": [
    "pageDetail('http://www.appledaily.com.tw/realtimenews/article/politics/20171012/1220902/%E5%BE%B5%E5%8D%83%E4%BA%BA%E5%8D%BB%E4%BE%86%E4%B8%8D%E5%88%B0%E4%B8%80%E5%8D%8A%E3%80%80%E6%84%9B%E9%9D%A2%E5%AD%90%EF%BC%81%E5%9C%8B%E9%98%B2%E9%83%A8%E4%B8%8B%E4%BF%AE%E6%8B%9B%E5%8B%9F%E6%95%B8')"
   ]
  },
  {
   "cell_type": "markdown",
   "metadata": {},
   "source": [
    "## Python 函數"
   ]
  },
  {
   "cell_type": "code",
   "execution_count": 28,
   "metadata": {},
   "outputs": [
    {
     "data": {
      "text/plain": [
       "9"
      ]
     },
     "execution_count": 28,
     "metadata": {},
     "output_type": "execute_result"
    }
   ],
   "source": [
    "def addnum(a, b):\n",
    "    return a + b\n",
    "addnum(3,5)\n",
    "addnum(2,7)"
   ]
  },
  {
   "cell_type": "markdown",
   "metadata": {},
   "source": [
    "## Python 字典"
   ]
  },
  {
   "cell_type": "code",
   "execution_count": 30,
   "metadata": {},
   "outputs": [
    {
     "data": {
      "text/plain": [
       "{'a': 123}"
      ]
     },
     "execution_count": 30,
     "metadata": {},
     "output_type": "execute_result"
    }
   ],
   "source": [
    "dic = {}\n",
    "dic['a'] = 123\n",
    "dic"
   ]
  },
  {
   "cell_type": "code",
   "execution_count": 31,
   "metadata": {},
   "outputs": [
    {
     "data": {
      "text/plain": [
       "{'a': 123, 'b': 234}"
      ]
     },
     "execution_count": 31,
     "metadata": {},
     "output_type": "execute_result"
    }
   ],
   "source": [
    "dic['b'] = 234\n",
    "dic"
   ]
  }
 ],
 "metadata": {
  "kernelspec": {
   "display_name": "Python 3",
   "language": "python",
   "name": "python3"
  },
  "language_info": {
   "codemirror_mode": {
    "name": "ipython",
    "version": 3
   },
   "file_extension": ".py",
   "mimetype": "text/x-python",
   "name": "python",
   "nbconvert_exporter": "python",
   "pygments_lexer": "ipython3",
   "version": "3.6.2"
  }
 },
 "nbformat": 4,
 "nbformat_minor": 2
}
