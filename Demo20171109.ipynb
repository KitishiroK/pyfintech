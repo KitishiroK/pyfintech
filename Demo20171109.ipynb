{
 "cells": [
  {
   "cell_type": "markdown",
   "metadata": {},
   "source": [
    "## 英文斷詞"
   ]
  },
  {
   "cell_type": "code",
   "execution_count": 1,
   "metadata": {},
   "outputs": [
    {
     "data": {
      "text/plain": [
       "['this', 'is', 'a', 'book']"
      ]
     },
     "execution_count": 1,
     "metadata": {},
     "output_type": "execute_result"
    }
   ],
   "source": [
    "a = 'this is a book'\n",
    "a.split()"
   ]
  },
  {
   "cell_type": "markdown",
   "metadata": {},
   "source": [
    "## 安裝Jieba"
   ]
  },
  {
   "cell_type": "code",
   "execution_count": 3,
   "metadata": {},
   "outputs": [
    {
     "name": "stdout",
     "output_type": "stream",
     "text": [
      "Collecting jieba\n",
      "  Downloading jieba-0.39.zip (7.3MB)\n",
      "Building wheels for collected packages: jieba\n",
      "  Running setup.py bdist_wheel for jieba: started\n",
      "  Running setup.py bdist_wheel for jieba: finished with status 'done'\n",
      "  Stored in directory: C:\\Users\\Student\\AppData\\Local\\pip\\Cache\\wheels\\ce\\32\\de\\c2be1db5f30804bc7f146ff698c52963f8aa11ba5049811b0d\n",
      "Successfully built jieba\n",
      "Installing collected packages: jieba\n",
      "Successfully installed jieba-0.39\n"
     ]
    }
   ],
   "source": [
    "! pip install jieba"
   ]
  },
  {
   "cell_type": "markdown",
   "metadata": {},
   "source": [
    "## 使用Jieba 斷詞"
   ]
  },
  {
   "cell_type": "code",
   "execution_count": 4,
   "metadata": {},
   "outputs": [
    {
     "name": "stderr",
     "output_type": "stream",
     "text": [
      "Building prefix dict from the default dictionary ...\n",
      "Dumping model to file cache C:\\Users\\Student\\AppData\\Local\\Temp\\jieba.cache\n",
      "Loading model cost 0.688 seconds.\n",
      "Prefix dict has been built succesfully.\n"
     ]
    },
    {
     "name": "stdout",
     "output_type": "stream",
     "text": [
      "那酸民婉君\n",
      "也\n",
      "可以\n",
      "報名\n",
      "嘛\n",
      "?\n"
     ]
    }
   ],
   "source": [
    "import jieba\n",
    "s = '那酸民婉君也可以報名嘛?'\n",
    "for w in jieba.cut(s):\n",
    "    print(w)"
   ]
  },
  {
   "cell_type": "markdown",
   "metadata": {},
   "source": [
    "## 正規表達法斷句"
   ]
  },
  {
   "cell_type": "code",
   "execution_count": 7,
   "metadata": {},
   "outputs": [
    {
     "data": {
      "text/plain": [
       "['全球物聯網智能系統領導廠商研華為加速歐洲市場發展',\n",
       " '積極擴建位於荷蘭恩荷芬的歐洲服務中心',\n",
       " '並預計於2018年1月24日正式啟用',\n",
       " '整座建築除為智能建築外',\n",
       " '還將成為研華歐洲的物聯網與工業4.0實境展示場地',\n",
       " '']"
      ]
     },
     "execution_count": 7,
     "metadata": {},
     "output_type": "execute_result"
    }
   ],
   "source": [
    "import re\n",
    "news = '全球物聯網智能系統領導廠商研華為加速歐洲市場發展，積極擴建位於荷蘭恩荷芬的歐洲服務中心，並預計於2018年1月24日正式啟用。整座建築除為智能建築外，還將成為研華歐洲的物聯網與工業4.0實境展示場地。'\n",
    "re.split('，|。',news)"
   ]
  },
  {
   "cell_type": "markdown",
   "metadata": {},
   "source": [
    "## 加密原理"
   ]
  },
  {
   "cell_type": "code",
   "execution_count": 13,
   "metadata": {},
   "outputs": [
    {
     "data": {
      "text/plain": [
       "'this is a book'"
      ]
     },
     "execution_count": 13,
     "metadata": {},
     "output_type": "execute_result"
    }
   ],
   "source": [
    "secret = {}\n",
    "passwd = 'abcdefghijklmnopqrstuvwxyz'\n",
    "for o,n in zip(list(passwd), list(passwd[::-1])):\n",
    "    #print(o,n)\n",
    "    secret[o] = n \n",
    " \n",
    "\n",
    "a = 'this is a book'\n",
    "b = ''.join([secret.get(w, ' ') for w in a])\n",
    "''.join([secret.get(w, ' ') for w in b])\n"
   ]
  },
  {
   "cell_type": "code",
   "execution_count": 20,
   "metadata": {
    "scrolled": true
   },
   "outputs": [
    {
     "name": "stdout",
     "output_type": "stream",
     "text": [
      "Full Mode: 大/ 巨蛋/ 案/ 對/ 市府/ 同仁/ 下/ 封口/ 封口令/ 口令/ / / 柯/ P/ 否/ 認\n",
      "大\n",
      "巨蛋\n",
      "案對\n",
      "市府\n",
      "同仁\n",
      "下\n",
      "封口令\n",
      "？\n",
      "柯\n",
      "P\n",
      "否認\n"
     ]
    },
    {
     "data": {
      "text/plain": [
       "'大/巨蛋/案對/市府/同仁/下/封口令/？/柯/P/否認'"
      ]
     },
     "execution_count": 20,
     "metadata": {},
     "output_type": "execute_result"
    }
   ],
   "source": [
    "import jieba\n",
    "seg_list=jieba.cut(\"大巨蛋案對市府同仁下封口令？柯P否認\",cut_all=True)\n",
    "print(\"Full Mode:\",\"/ \".join(seg_list))\n",
    "\n",
    "seg_list=jieba.cut(\"大巨蛋案對市府同仁下封口令？柯P否認\",cut_all=False)\n",
    "#print(\"Default Mode:\",\"/ \".join(seg_list))\n",
    "\n",
    "# method 1\n",
    "for w in seg_list:\n",
    "    print(w)\n",
    "    \n",
    "seg_list=jieba.cut(\"大巨蛋案對市府同仁下封口令？柯P否認\",cut_all=False)  \n",
    "\"/\".join(seg_list)"
   ]
  },
  {
   "cell_type": "markdown",
   "metadata": {},
   "source": [
    "## Jieba 字典\n",
    "- C:\\ProgramData\\Anaconda3\\Lib\\site-packages\\jieba"
   ]
  },
  {
   "cell_type": "code",
   "execution_count": 28,
   "metadata": {
    "collapsed": true
   },
   "outputs": [],
   "source": [
    "jieba.load_userdict('userdict.txt')"
   ]
  },
  {
   "cell_type": "code",
   "execution_count": 29,
   "metadata": {},
   "outputs": [
    {
     "name": "stdout",
     "output_type": "stream",
     "text": [
      "Default Mode: 大巨蛋/ 案對/ 市府/ 同仁/ 下/ 封口令/ ？/ 柯P/ 否認\n"
     ]
    }
   ],
   "source": [
    "import jieba\n",
    "\n",
    "\n",
    "seg_list=jieba.cut(\"大巨蛋案對市府同仁下封口令？柯P否認\",cut_all=False)\n",
    "print(\"Default Mode:\",\"/ \".join(seg_list))"
   ]
  },
  {
   "cell_type": "code",
   "execution_count": 30,
   "metadata": {},
   "outputs": [
    {
     "name": "stdout",
     "output_type": "stream",
     "text": [
      "大巨蛋 x\n",
      "案 ng\n",
      "對 p\n",
      "市府 n\n",
      "同仁 nr\n",
      "下 f\n",
      "封口令 n\n",
      "？ x\n",
      "柯P n\n",
      "否認 v\n"
     ]
    }
   ],
   "source": [
    "import jieba.posseg as pseg\n",
    "words=pseg.cut(\"大巨蛋案對市府同仁下封口令？柯P否認\")\n",
    "for w in words:\n",
    "    print(w.word,w.flag)"
   ]
  },
  {
   "cell_type": "code",
   "execution_count": 32,
   "metadata": {},
   "outputs": [
    {
     "name": "stdout",
     "output_type": "stream",
     "text": [
      "大巨蛋 0 3\n",
      "案對 3 5\n",
      "市府 5 7\n",
      "同仁 7 9\n",
      "下 9 10\n",
      "封口令 10 13\n",
      "？ 13 14\n",
      "柯P 14 16\n",
      "否認 16 18\n"
     ]
    }
   ],
   "source": [
    "sentence = \"大巨蛋案對市府同仁下封口令？柯P否認\"\n",
    "words=jieba.tokenize(sentence)\n",
    "for tw in words:\n",
    "    print(tw[0],tw[1],tw[2])"
   ]
  },
  {
   "cell_type": "markdown",
   "metadata": {},
   "source": [
    "## jieba 繁體中文模型\n",
    "- https://github.com/ldkrsi/jieba-zh_TW"
   ]
  },
  {
   "cell_type": "markdown",
   "metadata": {},
   "source": [
    "## 使用Wikipedia 建立字典"
   ]
  },
  {
   "cell_type": "code",
   "execution_count": 34,
   "metadata": {},
   "outputs": [
    {
     "data": {
      "text/plain": [
       "[<b>台灣積體電路製造股份有限公司</b>,\n",
       " <b>台積電</b>,\n",
       " <b>台積</b>,\n",
       " <b>Taiwan Semiconductor</b>,\n",
       " <b>TSMC</b>,\n",
       " <b>台積電集團</b>]"
      ]
     },
     "execution_count": 34,
     "metadata": {},
     "output_type": "execute_result"
    }
   ],
   "source": [
    "import requests\n",
    "from bs4 import BeautifulSoup\n",
    "res = requests.get('https://zh.wikipedia.org/wiki/%E5%8F%B0%E7%81%A3%E7%A9%8D%E9%AB%94%E9%9B%BB%E8%B7%AF%E8%A3%BD%E9%80%A0')\n",
    "soup = BeautifulSoup(res.text, 'html.parser')\n",
    "soup.select('#mw-content-text p b')"
   ]
  },
  {
   "cell_type": "markdown",
   "metadata": {},
   "source": [
    "## n-gram 切詞"
   ]
  },
  {
   "cell_type": "code",
   "execution_count": 37,
   "metadata": {},
   "outputs": [
    {
     "name": "stdout",
     "output_type": "stream",
     "text": [
      "那我\n",
      "我們\n",
      "們酸\n",
      "酸民\n",
      "民婉\n",
      "婉君\n",
      "君也\n",
      "也可\n",
      "可以\n",
      "以報\n",
      "報名\n",
      "名嗎\n"
     ]
    }
   ],
   "source": [
    "input_sentence='那我們酸民婉君也可以報名嗎'\n",
    "for i in range(len(input_sentence) - 2 + 1):\n",
    "    print(input_sentence[i:i+2])"
   ]
  },
  {
   "cell_type": "code",
   "execution_count": 38,
   "metadata": {},
   "outputs": [
    {
     "name": "stdout",
     "output_type": "stream",
     "text": [
      "那我們\n",
      "我們酸\n",
      "們酸民\n",
      "酸民婉\n",
      "民婉君\n",
      "婉君也\n",
      "君也可\n",
      "也可以\n",
      "可以報\n",
      "以報名\n",
      "報名嗎\n"
     ]
    }
   ],
   "source": [
    "for i in range(len(input_sentence) - 3 + 1):\n",
    "    print(input_sentence[i:i+3])"
   ]
  },
  {
   "cell_type": "code",
   "execution_count": 41,
   "metadata": {
    "scrolled": true
   },
   "outputs": [
    {
     "name": "stdout",
     "output_type": "stream",
     "text": [
      "那我\n",
      "我們\n",
      "們酸\n",
      "酸民\n",
      "民婉\n",
      "婉君\n",
      "君也\n",
      "也可\n",
      "可以\n",
      "以報\n",
      "報名\n",
      "名嘛\n",
      "嘛?\n",
      "那我們酸\n",
      "我們酸民\n",
      "們酸民婉\n",
      "酸民婉君\n",
      "民婉君也\n",
      "婉君也可\n",
      "君也可以\n",
      "也可以報\n",
      "可以報名\n",
      "以報名嘛\n",
      "報名嘛?\n"
     ]
    }
   ],
   "source": [
    "def ngram(sentence, n= 2):\n",
    "    for i in range(len(sentence) - n + 1):\n",
    "        print(sentence[i:i+n])\n",
    "        \n",
    "ngram('那我們酸民婉君也可以報名嘛?')\n",
    "ngram('那我們酸民婉君也可以報名嘛?', 4)\n",
    "        "
   ]
  },
  {
   "cell_type": "code",
   "execution_count": 49,
   "metadata": {
    "collapsed": true
   },
   "outputs": [],
   "source": [
    "def ngram(sentence, n= 2):\n",
    "    for i in range(len(sentence) - n + 1):\n",
    "        print(sentence[i:i+n])\n",
    "        \n",
    "skip_word = '?.,、「！】？：《」》～'"
   ]
  },
  {
   "cell_type": "code",
   "execution_count": 52,
   "metadata": {},
   "outputs": [
    {
     "name": "stdout",
     "output_type": "stream",
     "text": [
      "那我\n",
      "我們\n",
      "們酸\n",
      "酸民\n",
      "民婉\n",
      "婉君\n",
      "君也\n",
      "也可\n",
      "可以\n",
      "以報\n",
      "報名\n",
      "名嘛\n"
     ]
    }
   ],
   "source": [
    "#for i in range(len(sentence) -n + 1):\n",
    "sentence = '那我們酸民婉君也可以報名嘛?'\n",
    "for i in range(len(sentence) - 2 + 1): \n",
    "    if len([word for word in sentence[i:i+2] if word in skip_word]) == 0 :\n",
    "        print(sentence[i:i+2])"
   ]
  },
  {
   "cell_type": "code",
   "execution_count": 57,
   "metadata": {},
   "outputs": [
    {
     "name": "stdout",
     "output_type": "stream",
     "text": [
      "遊戲\n",
      "哈利\n",
      "利波\n",
      "波特\n",
      "巫師\n"
     ]
    }
   ],
   "source": [
    "news = '''《精靈寶可夢GO》在台帶起一波AR 擴增實境遊戲風潮，從去年底網路就開始謠傳，2017年第1季將推出《哈利波特GO》，如今都已到年底，連個影子都沒看到，但遊戲開發商Niantic昨(8)日正式宣布，下一款遊戲大作就是J.K. 羅琳筆下作品改編的《哈利波特：巫師同盟》\n",
    " \n",
    "據了解，《哈利波特：巫師同盟》也是AR 擴增實境遊戲，玩家化身成巫師學習魔咒，在真實世界尋寶，雖然僅暫定2018年上市，尚無確切發行日期，但也許很快在路邊就能看到許多玩家拿著手機互指︰「去去，武器走」的有趣畫面。（黃韻文／綜合報導）'''\n",
    "\n",
    "skip_word = '?.,、「！】？：《」》～，'\n",
    "\n",
    "sentence = news\n",
    "\n",
    "from collections import Counter\n",
    "#c = Counter()\n",
    "word_ary = []\n",
    "for i in range(len(sentence) - 2 + 1): \n",
    "    if len([word for word in sentence[i:i+2] if word in skip_word]) == 0 :\n",
    "        word_ary.append(sentence[i:i+2])\n",
    "c = Counter(word_ary)\n",
    "for term, freq in c.most_common(10):\n",
    "    if freq >= 3:\n",
    "        print(term)"
   ]
  },
  {
   "cell_type": "code",
   "execution_count": 58,
   "metadata": {},
   "outputs": [
    {
     "name": "stdout",
     "output_type": "stream",
     "text": [
      "哈利波特\n"
     ]
    }
   ],
   "source": [
    "from collections import Counter\n",
    "#c = Counter()\n",
    "word_ary = []\n",
    "for i in range(len(sentence) - 4 + 1): \n",
    "    if len([word for word in sentence[i:i+2] if word in skip_word]) == 0 :\n",
    "        word_ary.append(sentence[i:i+4])\n",
    "c = Counter(word_ary)\n",
    "for term, freq in c.most_common(10):\n",
    "    if freq >= 3:\n",
    "        print(term)"
   ]
  },
  {
   "cell_type": "code",
   "execution_count": 67,
   "metadata": {},
   "outputs": [
    {
     "data": {
      "text/plain": [
       "['',\n",
       " '精靈寶可夢GO',\n",
       " '在台帶起一波AR 擴增實境遊戲風潮',\n",
       " '從去年底網路就開始謠傳',\n",
       " '2017年第1季將推出',\n",
       " '哈利波特GO',\n",
       " '',\n",
       " '如今都已到年底',\n",
       " '連個影子都沒看到',\n",
       " '但遊戲開發商Niantic昨',\n",
       " '8',\n",
       " '日正式宣布',\n",
       " '下一款遊戲大作就是J.K. 羅琳筆下作品改編的',\n",
       " '哈利波特',\n",
       " '巫師同盟',\n",
       " '',\n",
       " ' ',\n",
       " '據了解',\n",
       " '',\n",
       " '哈利波特',\n",
       " '巫師同盟',\n",
       " '也是AR 擴增實境遊戲',\n",
       " '玩家化身成巫師學習魔咒',\n",
       " '在真實世界尋寶',\n",
       " '雖然僅暫定2018年上市',\n",
       " '尚無確切發行日期',\n",
       " '但也許很快在路邊就能看到許多玩家拿著手機互指',\n",
       " '',\n",
       " '去去',\n",
       " '武器走',\n",
       " '的有趣畫面',\n",
       " '',\n",
       " '黃韻文',\n",
       " '綜合報導',\n",
       " '']"
      ]
     },
     "execution_count": 67,
     "metadata": {},
     "output_type": "execute_result"
    }
   ],
   "source": [
    "import re\n",
    "re.split('《|》|，|。|／|（|）|「|」|\\n|：|︰|\\)|\\(',news)"
   ]
  },
  {
   "cell_type": "code",
   "execution_count": 69,
   "metadata": {},
   "outputs": [
    {
     "name": "stdout",
     "output_type": "stream",
     "text": [
      "下一款大作就是J.K. 羅琳筆下改編的\n"
     ]
    }
   ],
   "source": [
    "a = '下一款遊戲大作就是J.K. 羅琳筆下作品改編的'\n",
    "a.replace('遊戲', '')\n",
    "\n",
    "keywords = ['遊戲', '作品']\n",
    "for k in keywords:\n",
    "    a = a.replace(k, '')\n",
    "print(a)\n"
   ]
  },
  {
   "cell_type": "code",
   "execution_count": 102,
   "metadata": {},
   "outputs": [
    {
     "data": {
      "text/plain": [
       "'下一款大作就是J.K. 羅琳筆下改編的'"
      ]
     },
     "execution_count": 102,
     "metadata": {},
     "output_type": "execute_result"
    }
   ],
   "source": [
    "def removeKey(sentence, keywords):\n",
    "    for k in keywords:\n",
    "        sentence = sentence.replace(k, '')\n",
    "    return sentence\n",
    "\n",
    "removeKey(a, keywords)"
   ]
  },
  {
   "cell_type": "code",
   "execution_count": 114,
   "metadata": {
    "collapsed": true
   },
   "outputs": [],
   "source": [
    "def ngram(sentence, k = 2):\n",
    "    ngrams = []\n",
    "    for i in range(0, len(sentence) - k + 1):\n",
    "        ngrams.append(sentence[i:i+k])\n",
    "    return ngrams"
   ]
  },
  {
   "cell_type": "code",
   "execution_count": 115,
   "metadata": {},
   "outputs": [],
   "source": [
    "#news\n",
    "from collections import Counter\n",
    "k = 4\n",
    "words = []\n",
    "keywords = []\n",
    "for sentence in re.split('《|》|，|。|／|（|）|「|」|\\n|：|︰|\\)|\\(',news):\n",
    "    words.extend(ngram(removeKey(sentence, keywords), 4))\n",
    "c = Counter(words)\n",
    "for word, cnt in c.items():\n",
    "    if cnt >= 3:\n",
    "        keywords.append(word)"
   ]
  },
  {
   "cell_type": "code",
   "execution_count": 116,
   "metadata": {},
   "outputs": [
    {
     "data": {
      "text/plain": [
       "'GO'"
      ]
     },
     "execution_count": 116,
     "metadata": {},
     "output_type": "execute_result"
    }
   ],
   "source": [
    "keywords = ['哈利波特'] \n",
    "removeKey('哈利波特GO', keywords)"
   ]
  },
  {
   "cell_type": "code",
   "execution_count": 124,
   "metadata": {},
   "outputs": [
    {
     "data": {
      "text/plain": [
       "['哈利波特', '遊戲', '巫師']"
      ]
     },
     "execution_count": 124,
     "metadata": {},
     "output_type": "execute_result"
    }
   ],
   "source": [
    "keywords = []\n",
    "for k in range(4,1,-1):\n",
    "    words = []\n",
    "    for sentence in re.split('《|》|，|。|／|（|）|「|」|\\n|：|︰|\\)|\\(',news):\n",
    "        removed_sentence = removeKey(sentence, keywords)\n",
    "        words.extend(ngram(removed_sentence, k))\n",
    "    c = Counter(words)\n",
    "    for word, cnt in c.items():\n",
    "        if cnt >= 3:\n",
    "            keywords.append(word)\n",
    "keywords"
   ]
  },
  {
   "cell_type": "code",
   "execution_count": 129,
   "metadata": {
    "collapsed": true
   },
   "outputs": [],
   "source": [
    "def removeKey(sentence, keywords):\n",
    "    for k in keywords:\n",
    "        sentence = sentence.replace(k, '')\n",
    "    return sentence\n",
    "\n",
    "def ngram(sentence, k = 2):\n",
    "    ngrams = []\n",
    "    for i in range(0, len(sentence) - k + 1):\n",
    "        ngrams.append(sentence[i:i+k])\n",
    "    return ngrams\n",
    "\n",
    "def longTermFirst(news):\n",
    "    delimiter = '《|》|，|。|／|（|）|「|」|\\n|：|︰|\\)|\\(|、'\n",
    "    keywords = []\n",
    "    for k in range(4,1,-1):\n",
    "        words = []\n",
    "        for sentence in re.split(delimiter,news):\n",
    "            removed_sentence = removeKey(sentence, keywords)\n",
    "            words.extend(ngram(removed_sentence, k))\n",
    "        c = Counter(words)\n",
    "        for word, cnt in c.items():\n",
    "            if cnt >= 3:\n",
    "                keywords.append(word)\n",
    "    return keywords"
   ]
  },
  {
   "cell_type": "code",
   "execution_count": 130,
   "metadata": {},
   "outputs": [
    {
     "data": {
      "text/plain": [
       "['這次修法', '勞工權益', '行政院', '賴清德', '不變', '彈性', '加班', '經濟']"
      ]
     },
     "execution_count": 130,
     "metadata": {},
     "output_type": "execute_result"
    }
   ],
   "source": [
    "news = '''行政院長賴清德今主持行政院會通過《勞動基準法》修正草案，並親自召開記者會對外說明。面對今天近千人的勞團抗議有修法版本「有條件鬆綁七休一」等規定，賴揆在會上針對總統蔡英文重要政見，落實周休二日精神，這次修法有兩大重點，四不變、四彈性，來保障勞工權益和企業經營的彈性。\n",
    " \n",
    "賴清德說，這次修法兩大重點，第一四個不變：保障勞工權益正常工時不變、周休二日不變、加班總工時不變、加班費率不變，來捍衛勞工權益；同時賦予企業經營的彈性，四個彈性：加班彈性、排班彈性、輪班間隔彈性、特休運用彈性。\n",
    "\n",
    "賴清德最後強調，拚經濟不分黨派，呼籲朝野共同承擔；也希望勞資雙方不要各站在極端，理性客觀看待這次修法內容、不要對立，大家攜手合作，共推經濟的發展，當然也要敬請國人給行政院支持，讓修法可以順利，推動經濟可以發展成功。（陳雅芃／台北報導）'''\n",
    "\n",
    "longTermFirst(news)"
   ]
  },
  {
   "cell_type": "code",
   "execution_count": null,
   "metadata": {
    "collapsed": true
   },
   "outputs": [],
   "source": []
  }
 ],
 "metadata": {
  "kernelspec": {
   "display_name": "Python 3",
   "language": "python",
   "name": "python3"
  },
  "language_info": {
   "codemirror_mode": {
    "name": "ipython",
    "version": 3
   },
   "file_extension": ".py",
   "mimetype": "text/x-python",
   "name": "python",
   "nbconvert_exporter": "python",
   "pygments_lexer": "ipython3",
   "version": "3.6.2"
  }
 },
 "nbformat": 4,
 "nbformat_minor": 2
}
