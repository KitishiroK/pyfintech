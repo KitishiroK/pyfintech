{
 "cells": [
  {
   "cell_type": "markdown",
   "metadata": {},
   "source": [
    "## 英文斷詞"
   ]
  },
  {
   "cell_type": "code",
   "execution_count": 1,
   "metadata": {},
   "outputs": [
    {
     "data": {
      "text/plain": [
       "['this', 'is', 'a', 'book']"
      ]
     },
     "execution_count": 1,
     "metadata": {},
     "output_type": "execute_result"
    }
   ],
   "source": [
    "a = 'this is a book'\n",
    "a.split()"
   ]
  },
  {
   "cell_type": "markdown",
   "metadata": {},
   "source": [
    "## 安裝Jieba"
   ]
  },
  {
   "cell_type": "code",
   "execution_count": 3,
   "metadata": {},
   "outputs": [
    {
     "name": "stdout",
     "output_type": "stream",
     "text": [
      "Collecting jieba\n",
      "  Downloading jieba-0.39.zip (7.3MB)\n",
      "Building wheels for collected packages: jieba\n",
      "  Running setup.py bdist_wheel for jieba: started\n",
      "  Running setup.py bdist_wheel for jieba: finished with status 'done'\n",
      "  Stored in directory: C:\\Users\\Student\\AppData\\Local\\pip\\Cache\\wheels\\ce\\32\\de\\c2be1db5f30804bc7f146ff698c52963f8aa11ba5049811b0d\n",
      "Successfully built jieba\n",
      "Installing collected packages: jieba\n",
      "Successfully installed jieba-0.39\n"
     ]
    }
   ],
   "source": [
    "! pip install jieba"
   ]
  },
  {
   "cell_type": "markdown",
   "metadata": {},
   "source": [
    "## 使用Jieba 斷詞"
   ]
  },
  {
   "cell_type": "code",
   "execution_count": 4,
   "metadata": {},
   "outputs": [
    {
     "name": "stderr",
     "output_type": "stream",
     "text": [
      "Building prefix dict from the default dictionary ...\n",
      "Dumping model to file cache C:\\Users\\Student\\AppData\\Local\\Temp\\jieba.cache\n",
      "Loading model cost 0.688 seconds.\n",
      "Prefix dict has been built succesfully.\n"
     ]
    },
    {
     "name": "stdout",
     "output_type": "stream",
     "text": [
      "那酸民婉君\n",
      "也\n",
      "可以\n",
      "報名\n",
      "嘛\n",
      "?\n"
     ]
    }
   ],
   "source": [
    "import jieba\n",
    "s = '那酸民婉君也可以報名嘛?'\n",
    "for w in jieba.cut(s):\n",
    "    print(w)"
   ]
  },
  {
   "cell_type": "markdown",
   "metadata": {},
   "source": [
    "## 正規表達法斷句"
   ]
  },
  {
   "cell_type": "code",
   "execution_count": 7,
   "metadata": {},
   "outputs": [
    {
     "data": {
      "text/plain": [
       "['全球物聯網智能系統領導廠商研華為加速歐洲市場發展',\n",
       " '積極擴建位於荷蘭恩荷芬的歐洲服務中心',\n",
       " '並預計於2018年1月24日正式啟用',\n",
       " '整座建築除為智能建築外',\n",
       " '還將成為研華歐洲的物聯網與工業4.0實境展示場地',\n",
       " '']"
      ]
     },
     "execution_count": 7,
     "metadata": {},
     "output_type": "execute_result"
    }
   ],
   "source": [
    "import re\n",
    "news = '全球物聯網智能系統領導廠商研華為加速歐洲市場發展，積極擴建位於荷蘭恩荷芬的歐洲服務中心，並預計於2018年1月24日正式啟用。整座建築除為智能建築外，還將成為研華歐洲的物聯網與工業4.0實境展示場地。'\n",
    "re.split('，|。',news)"
   ]
  },
  {
   "cell_type": "markdown",
   "metadata": {},
   "source": [
    "## 加密原理"
   ]
  },
  {
   "cell_type": "code",
   "execution_count": 138,
   "metadata": {},
   "outputs": [
    {
     "name": "stdout",
     "output_type": "stream",
     "text": [
      "{'a': 'z', 'b': 'y', 'c': 'x', 'd': 'w', 'e': 'v', 'f': 'u', 'g': 't', 'h': 's', 'i': 'r', 'j': 'q', 'k': 'p', 'l': 'o', 'm': 'n', 'n': 'm', 'o': 'l', 'p': 'k', 'q': 'j', 'r': 'i', 's': 'h', 't': 'g', 'u': 'f', 'v': 'e', 'w': 'd', 'x': 'c', 'y': 'b', 'z': 'a'}\n",
      "gsrh rh z yllp\n",
      "this is a book\n"
     ]
    }
   ],
   "source": [
    "secret = {}\n",
    "passwd = 'abcdefghijklmnopqrstuvwxyz'\n",
    "for o,n in zip(list(passwd), list(passwd[::-1])):\n",
    "    #print(o,n)\n",
    "    secret[o] = n \n",
    " \n",
    "print(secret)\n",
    "a = 'this is a book'\n",
    "b = ''.join([secret.get(w, ' ') for w in a])\n",
    "print(b)\n",
    "print(''.join([secret.get(w, ' ') for w in b]))\n"
   ]
  },
  {
   "cell_type": "code",
   "execution_count": 20,
   "metadata": {
    "scrolled": true
   },
   "outputs": [
    {
     "name": "stdout",
     "output_type": "stream",
     "text": [
      "Full Mode: 大/ 巨蛋/ 案/ 對/ 市府/ 同仁/ 下/ 封口/ 封口令/ 口令/ / / 柯/ P/ 否/ 認\n",
      "大\n",
      "巨蛋\n",
      "案對\n",
      "市府\n",
      "同仁\n",
      "下\n",
      "封口令\n",
      "？\n",
      "柯\n",
      "P\n",
      "否認\n"
     ]
    },
    {
     "data": {
      "text/plain": [
       "'大/巨蛋/案對/市府/同仁/下/封口令/？/柯/P/否認'"
      ]
     },
     "execution_count": 20,
     "metadata": {},
     "output_type": "execute_result"
    }
   ],
   "source": [
    "import jieba\n",
    "seg_list=jieba.cut(\"大巨蛋案對市府同仁下封口令？柯P否認\",cut_all=True)\n",
    "print(\"Full Mode:\",\"/ \".join(seg_list))\n",
    "\n",
    "seg_list=jieba.cut(\"大巨蛋案對市府同仁下封口令？柯P否認\",cut_all=False)\n",
    "#print(\"Default Mode:\",\"/ \".join(seg_list))\n",
    "\n",
    "# method 1\n",
    "for w in seg_list:\n",
    "    print(w)\n",
    "    \n",
    "seg_list=jieba.cut(\"大巨蛋案對市府同仁下封口令？柯P否認\",cut_all=False)  \n",
    "\"/\".join(seg_list)"
   ]
  },
  {
   "cell_type": "markdown",
   "metadata": {},
   "source": [
    "## Jieba 字典\n",
    "- C:\\ProgramData\\Anaconda3\\Lib\\site-packages\\jieba"
   ]
  },
  {
   "cell_type": "code",
   "execution_count": 28,
   "metadata": {
    "collapsed": true
   },
   "outputs": [],
   "source": [
    "jieba.load_userdict('userdict.txt')"
   ]
  },
  {
   "cell_type": "code",
   "execution_count": 29,
   "metadata": {},
   "outputs": [
    {
     "name": "stdout",
     "output_type": "stream",
     "text": [
      "Default Mode: 大巨蛋/ 案對/ 市府/ 同仁/ 下/ 封口令/ ？/ 柯P/ 否認\n"
     ]
    }
   ],
   "source": [
    "import jieba\n",
    "\n",
    "\n",
    "seg_list=jieba.cut(\"大巨蛋案對市府同仁下封口令？柯P否認\",cut_all=False)\n",
    "print(\"Default Mode:\",\"/ \".join(seg_list))"
   ]
  },
  {
   "cell_type": "code",
   "execution_count": 30,
   "metadata": {},
   "outputs": [
    {
     "name": "stdout",
     "output_type": "stream",
     "text": [
      "大巨蛋 x\n",
      "案 ng\n",
      "對 p\n",
      "市府 n\n",
      "同仁 nr\n",
      "下 f\n",
      "封口令 n\n",
      "？ x\n",
      "柯P n\n",
      "否認 v\n"
     ]
    }
   ],
   "source": [
    "import jieba.posseg as pseg\n",
    "words=pseg.cut(\"大巨蛋案對市府同仁下封口令？柯P否認\")\n",
    "for w in words:\n",
    "    print(w.word,w.flag)"
   ]
  },
  {
   "cell_type": "code",
   "execution_count": 32,
   "metadata": {},
   "outputs": [
    {
     "name": "stdout",
     "output_type": "stream",
     "text": [
      "大巨蛋 0 3\n",
      "案對 3 5\n",
      "市府 5 7\n",
      "同仁 7 9\n",
      "下 9 10\n",
      "封口令 10 13\n",
      "？ 13 14\n",
      "柯P 14 16\n",
      "否認 16 18\n"
     ]
    }
   ],
   "source": [
    "sentence = \"大巨蛋案對市府同仁下封口令？柯P否認\"\n",
    "words=jieba.tokenize(sentence)\n",
    "for tw in words:\n",
    "    print(tw[0],tw[1],tw[2])"
   ]
  },
  {
   "cell_type": "markdown",
   "metadata": {},
   "source": [
    "## jieba 繁體中文模型\n",
    "- https://github.com/ldkrsi/jieba-zh_TW"
   ]
  },
  {
   "cell_type": "markdown",
   "metadata": {},
   "source": [
    "## 使用Wikipedia 建立字典"
   ]
  },
  {
   "cell_type": "code",
   "execution_count": 34,
   "metadata": {},
   "outputs": [
    {
     "data": {
      "text/plain": [
       "[<b>台灣積體電路製造股份有限公司</b>,\n",
       " <b>台積電</b>,\n",
       " <b>台積</b>,\n",
       " <b>Taiwan Semiconductor</b>,\n",
       " <b>TSMC</b>,\n",
       " <b>台積電集團</b>]"
      ]
     },
     "execution_count": 34,
     "metadata": {},
     "output_type": "execute_result"
    }
   ],
   "source": [
    "import requests\n",
    "from bs4 import BeautifulSoup\n",
    "res = requests.get('https://zh.wikipedia.org/wiki/%E5%8F%B0%E7%81%A3%E7%A9%8D%E9%AB%94%E9%9B%BB%E8%B7%AF%E8%A3%BD%E9%80%A0')\n",
    "soup = BeautifulSoup(res.text, 'html.parser')\n",
    "soup.select('#mw-content-text p b')"
   ]
  },
  {
   "cell_type": "markdown",
   "metadata": {},
   "source": [
    "## n-gram 切詞"
   ]
  },
  {
   "cell_type": "code",
   "execution_count": 37,
   "metadata": {},
   "outputs": [
    {
     "name": "stdout",
     "output_type": "stream",
     "text": [
      "那我\n",
      "我們\n",
      "們酸\n",
      "酸民\n",
      "民婉\n",
      "婉君\n",
      "君也\n",
      "也可\n",
      "可以\n",
      "以報\n",
      "報名\n",
      "名嗎\n"
     ]
    }
   ],
   "source": [
    "input_sentence='那我們酸民婉君也可以報名嗎'\n",
    "for i in range(len(input_sentence) - 2 + 1):\n",
    "    print(input_sentence[i:i+2])"
   ]
  },
  {
   "cell_type": "code",
   "execution_count": 38,
   "metadata": {},
   "outputs": [
    {
     "name": "stdout",
     "output_type": "stream",
     "text": [
      "那我們\n",
      "我們酸\n",
      "們酸民\n",
      "酸民婉\n",
      "民婉君\n",
      "婉君也\n",
      "君也可\n",
      "也可以\n",
      "可以報\n",
      "以報名\n",
      "報名嗎\n"
     ]
    }
   ],
   "source": [
    "for i in range(len(input_sentence) - 3 + 1):\n",
    "    print(input_sentence[i:i+3])"
   ]
  },
  {
   "cell_type": "code",
   "execution_count": 41,
   "metadata": {
    "scrolled": true
   },
   "outputs": [
    {
     "name": "stdout",
     "output_type": "stream",
     "text": [
      "那我\n",
      "我們\n",
      "們酸\n",
      "酸民\n",
      "民婉\n",
      "婉君\n",
      "君也\n",
      "也可\n",
      "可以\n",
      "以報\n",
      "報名\n",
      "名嘛\n",
      "嘛?\n",
      "那我們酸\n",
      "我們酸民\n",
      "們酸民婉\n",
      "酸民婉君\n",
      "民婉君也\n",
      "婉君也可\n",
      "君也可以\n",
      "也可以報\n",
      "可以報名\n",
      "以報名嘛\n",
      "報名嘛?\n"
     ]
    }
   ],
   "source": [
    "def ngram(sentence, n= 2):\n",
    "    for i in range(len(sentence) - n + 1):\n",
    "        print(sentence[i:i+n])\n",
    "        \n",
    "ngram('那我們酸民婉君也可以報名嘛?')\n",
    "ngram('那我們酸民婉君也可以報名嘛?', 4)\n",
    "        "
   ]
  },
  {
   "cell_type": "code",
   "execution_count": 49,
   "metadata": {
    "collapsed": true
   },
   "outputs": [],
   "source": [
    "def ngram(sentence, n= 2):\n",
    "    for i in range(len(sentence) - n + 1):\n",
    "        print(sentence[i:i+n])\n",
    "        \n",
    "skip_word = '?.,、「！】？：《」》～'"
   ]
  },
  {
   "cell_type": "code",
   "execution_count": 147,
   "metadata": {},
   "outputs": [
    {
     "data": {
      "text/plain": [
       "0"
      ]
     },
     "execution_count": 147,
     "metadata": {},
     "output_type": "execute_result"
    }
   ],
   "source": [
    "a = '234'\n",
    "ary = []\n",
    "for w in a:\n",
    "    if w in skip_word:\n",
    "        ary.append(w)\n",
    "len(ary)\n"
   ]
  },
  {
   "cell_type": "code",
   "execution_count": 52,
   "metadata": {},
   "outputs": [
    {
     "name": "stdout",
     "output_type": "stream",
     "text": [
      "那我\n",
      "我們\n",
      "們酸\n",
      "酸民\n",
      "民婉\n",
      "婉君\n",
      "君也\n",
      "也可\n",
      "可以\n",
      "以報\n",
      "報名\n",
      "名嘛\n"
     ]
    }
   ],
   "source": [
    "#for i in range(len(sentence) -n + 1):\n",
    "sentence = '那我們酸民婉君也可以報名嘛?'\n",
    "for i in range(len(sentence) - 2 + 1): \n",
    "    if len([word for word in sentence[i:i+2] if word in skip_word]) == 0 :\n",
    "        print(sentence[i:i+2])"
   ]
  },
  {
   "cell_type": "markdown",
   "metadata": {},
   "source": [
    "## 長詞優先法"
   ]
  },
  {
   "cell_type": "code",
   "execution_count": 57,
   "metadata": {},
   "outputs": [
    {
     "name": "stdout",
     "output_type": "stream",
     "text": [
      "遊戲\n",
      "哈利\n",
      "利波\n",
      "波特\n",
      "巫師\n"
     ]
    }
   ],
   "source": [
    "news = '''《精靈寶可夢GO》在台帶起一波AR 擴增實境遊戲風潮，從去年底網路就開始謠傳，2017年第1季將推出《哈利波特GO》，如今都已到年底，連個影子都沒看到，但遊戲開發商Niantic昨(8)日正式宣布，下一款遊戲大作就是J.K. 羅琳筆下作品改編的《哈利波特：巫師同盟》\n",
    " \n",
    "據了解，《哈利波特：巫師同盟》也是AR 擴增實境遊戲，玩家化身成巫師學習魔咒，在真實世界尋寶，雖然僅暫定2018年上市，尚無確切發行日期，但也許很快在路邊就能看到許多玩家拿著手機互指︰「去去，武器走」的有趣畫面。（黃韻文／綜合報導）'''\n",
    "\n",
    "skip_word = '?.,、「！】？：《」》～，'\n",
    "\n",
    "sentence = news\n",
    "\n",
    "from collections import Counter\n",
    "#c = Counter()\n",
    "word_ary = []\n",
    "for i in range(len(sentence) - 2 + 1): \n",
    "    if len([word for word in sentence[i:i+2] if word in skip_word]) == 0 :\n",
    "        word_ary.append(sentence[i:i+2])\n",
    "c = Counter(word_ary)\n",
    "for term, freq in c.most_common(10):\n",
    "    if freq >= 3:\n",
    "        print(term)"
   ]
  },
  {
   "cell_type": "code",
   "execution_count": 58,
   "metadata": {},
   "outputs": [
    {
     "name": "stdout",
     "output_type": "stream",
     "text": [
      "哈利波特\n"
     ]
    }
   ],
   "source": [
    "from collections import Counter\n",
    "#c = Counter()\n",
    "word_ary = []\n",
    "for i in range(len(sentence) - 4 + 1): \n",
    "    if len([word for word in sentence[i:i+2] if word in skip_word]) == 0 :\n",
    "        word_ary.append(sentence[i:i+4])\n",
    "c = Counter(word_ary)\n",
    "for term, freq in c.most_common(10):\n",
    "    if freq >= 3:\n",
    "        print(term)"
   ]
  },
  {
   "cell_type": "code",
   "execution_count": 67,
   "metadata": {},
   "outputs": [
    {
     "data": {
      "text/plain": [
       "['',\n",
       " '精靈寶可夢GO',\n",
       " '在台帶起一波AR 擴增實境遊戲風潮',\n",
       " '從去年底網路就開始謠傳',\n",
       " '2017年第1季將推出',\n",
       " '哈利波特GO',\n",
       " '',\n",
       " '如今都已到年底',\n",
       " '連個影子都沒看到',\n",
       " '但遊戲開發商Niantic昨',\n",
       " '8',\n",
       " '日正式宣布',\n",
       " '下一款遊戲大作就是J.K. 羅琳筆下作品改編的',\n",
       " '哈利波特',\n",
       " '巫師同盟',\n",
       " '',\n",
       " ' ',\n",
       " '據了解',\n",
       " '',\n",
       " '哈利波特',\n",
       " '巫師同盟',\n",
       " '也是AR 擴增實境遊戲',\n",
       " '玩家化身成巫師學習魔咒',\n",
       " '在真實世界尋寶',\n",
       " '雖然僅暫定2018年上市',\n",
       " '尚無確切發行日期',\n",
       " '但也許很快在路邊就能看到許多玩家拿著手機互指',\n",
       " '',\n",
       " '去去',\n",
       " '武器走',\n",
       " '的有趣畫面',\n",
       " '',\n",
       " '黃韻文',\n",
       " '綜合報導',\n",
       " '']"
      ]
     },
     "execution_count": 67,
     "metadata": {},
     "output_type": "execute_result"
    }
   ],
   "source": [
    "import re\n",
    "re.split('《|》|，|。|／|（|）|「|」|\\n|：|︰|\\)|\\(',news)"
   ]
  },
  {
   "cell_type": "code",
   "execution_count": 69,
   "metadata": {},
   "outputs": [
    {
     "name": "stdout",
     "output_type": "stream",
     "text": [
      "下一款大作就是J.K. 羅琳筆下改編的\n"
     ]
    }
   ],
   "source": [
    "a = '下一款遊戲大作就是J.K. 羅琳筆下作品改編的'\n",
    "a.replace('遊戲', '')\n",
    "\n",
    "keywords = ['遊戲', '作品']\n",
    "for k in keywords:\n",
    "    a = a.replace(k, '')\n",
    "print(a)\n"
   ]
  },
  {
   "cell_type": "code",
   "execution_count": 102,
   "metadata": {},
   "outputs": [
    {
     "data": {
      "text/plain": [
       "'下一款大作就是J.K. 羅琳筆下改編的'"
      ]
     },
     "execution_count": 102,
     "metadata": {},
     "output_type": "execute_result"
    }
   ],
   "source": [
    "def removeKey(sentence, keywords):\n",
    "    for k in keywords:\n",
    "        sentence = sentence.replace(k, '')\n",
    "    return sentence\n",
    "\n",
    "removeKey(a, keywords)"
   ]
  },
  {
   "cell_type": "code",
   "execution_count": 114,
   "metadata": {
    "collapsed": true
   },
   "outputs": [],
   "source": [
    "def ngram(sentence, k = 2):\n",
    "    ngrams = []\n",
    "    for i in range(0, len(sentence) - k + 1):\n",
    "        ngrams.append(sentence[i:i+k])\n",
    "    return ngrams"
   ]
  },
  {
   "cell_type": "code",
   "execution_count": 115,
   "metadata": {},
   "outputs": [],
   "source": [
    "#news\n",
    "from collections import Counter\n",
    "k = 4\n",
    "words = []\n",
    "keywords = []\n",
    "for sentence in re.split('《|》|，|。|／|（|）|「|」|\\n|：|︰|\\)|\\(',news):\n",
    "    words.extend(ngram(removeKey(sentence, keywords), 4))\n",
    "c = Counter(words)\n",
    "for word, cnt in c.items():\n",
    "    if cnt >= 3:\n",
    "        keywords.append(word)"
   ]
  },
  {
   "cell_type": "code",
   "execution_count": 116,
   "metadata": {},
   "outputs": [
    {
     "data": {
      "text/plain": [
       "'GO'"
      ]
     },
     "execution_count": 116,
     "metadata": {},
     "output_type": "execute_result"
    }
   ],
   "source": [
    "keywords = ['哈利波特'] \n",
    "removeKey('哈利波特GO', keywords)"
   ]
  },
  {
   "cell_type": "code",
   "execution_count": 124,
   "metadata": {},
   "outputs": [
    {
     "data": {
      "text/plain": [
       "['哈利波特', '遊戲', '巫師']"
      ]
     },
     "execution_count": 124,
     "metadata": {},
     "output_type": "execute_result"
    }
   ],
   "source": [
    "keywords = []\n",
    "for k in range(4,1,-1):\n",
    "    words = []\n",
    "    for sentence in re.split('《|》|，|。|／|（|）|「|」|\\n|：|︰|\\)|\\(',news):\n",
    "        removed_sentence = removeKey(sentence, keywords)\n",
    "        words.extend(ngram(removed_sentence, k))\n",
    "    c = Counter(words)\n",
    "    for word, cnt in c.items():\n",
    "        if cnt >= 3:\n",
    "            keywords.append(word)\n",
    "keywords"
   ]
  },
  {
   "cell_type": "code",
   "execution_count": 129,
   "metadata": {
    "collapsed": true
   },
   "outputs": [],
   "source": [
    "def removeKey(sentence, keywords):\n",
    "    for k in keywords:\n",
    "        sentence = sentence.replace(k, '')\n",
    "    return sentence\n",
    "\n",
    "def ngram(sentence, k = 2):\n",
    "    ngrams = []\n",
    "    for i in range(0, len(sentence) - k + 1):\n",
    "        ngrams.append(sentence[i:i+k])\n",
    "    return ngrams\n",
    "\n",
    "def longTermFirst(news):\n",
    "    delimiter = '《|》|，|。|／|（|）|「|」|\\n|：|︰|\\)|\\(|、'\n",
    "    keywords = []\n",
    "    for k in range(4,1,-1):\n",
    "        words = []\n",
    "        for sentence in re.split(delimiter,news):\n",
    "            removed_sentence = removeKey(sentence, keywords)\n",
    "            words.extend(ngram(removed_sentence, k))\n",
    "        c = Counter(words)\n",
    "        for word, cnt in c.items():\n",
    "            if cnt >= 3:\n",
    "                keywords.append(word)\n",
    "    return keywords"
   ]
  },
  {
   "cell_type": "code",
   "execution_count": 130,
   "metadata": {},
   "outputs": [
    {
     "data": {
      "text/plain": [
       "['這次修法', '勞工權益', '行政院', '賴清德', '不變', '彈性', '加班', '經濟']"
      ]
     },
     "execution_count": 130,
     "metadata": {},
     "output_type": "execute_result"
    }
   ],
   "source": [
    "news = '''行政院長賴清德今主持行政院會通過《勞動基準法》修正草案，並親自召開記者會對外說明。面對今天近千人的勞團抗議有修法版本「有條件鬆綁七休一」等規定，賴揆在會上針對總統蔡英文重要政見，落實周休二日精神，這次修法有兩大重點，四不變、四彈性，來保障勞工權益和企業經營的彈性。\n",
    " \n",
    "賴清德說，這次修法兩大重點，第一四個不變：保障勞工權益正常工時不變、周休二日不變、加班總工時不變、加班費率不變，來捍衛勞工權益；同時賦予企業經營的彈性，四個彈性：加班彈性、排班彈性、輪班間隔彈性、特休運用彈性。\n",
    "\n",
    "賴清德最後強調，拚經濟不分黨派，呼籲朝野共同承擔；也希望勞資雙方不要各站在極端，理性客觀看待這次修法內容、不要對立，大家攜手合作，共推經濟的發展，當然也要敬請國人給行政院支持，讓修法可以順利，推動經濟可以發展成功。（陳雅芃／台北報導）'''\n",
    "\n",
    "longTermFirst(news)"
   ]
  },
  {
   "cell_type": "code",
   "execution_count": 135,
   "metadata": {},
   "outputs": [
    {
     "data": {
      "text/plain": [
       "'1 2 3'"
      ]
     },
     "execution_count": 135,
     "metadata": {},
     "output_type": "execute_result"
    }
   ],
   "source": [
    "a = ['1', '2', '3']\n",
    "''.join(a)\n",
    "'$'.join(a)\n",
    "'/'.join(a)\n",
    "''.join(a)\n",
    "' '.join(a)"
   ]
  },
  {
   "cell_type": "markdown",
   "metadata": {},
   "source": [
    "## 文字雲"
   ]
  },
  {
   "cell_type": "code",
   "execution_count": 148,
   "metadata": {
    "collapsed": true
   },
   "outputs": [],
   "source": [
    "news = '''\n",
    "美國威斯康辛州主管投資審查的威斯康辛經濟開發廳（WEDC），周三敲定鴻海（2317）在當地設面板廠所提供30億美元（約906億元台幣）獎勵方案的合約內容，取得董事長郭台銘個人擔保，若未能達到投資與就業目標，WEDC將要求歸還獎勵，而鴻海將負擔當中75%款項，其餘25%由郭董及他名下SIO國際控股公司負擔。\n",
    "\n",
    "郭台銘和威州州長華克（Scott Walker）將在當地時間周五下午（台灣時間周六凌晨），在美國眾議院議長萊恩的陪同下，簽署共29頁的合約。\n",
    "\n",
    "根據WEDC表決通過的合約內容，鴻海必須投資90億美元（約2717億元台幣），並聘用1.3萬人，才能拿到全部28.5億美元現金獎勵，另提供上限為1.5億美元的建築設備消費稅豁免。\n",
    " \n",
    "合約內容還包括鴻海須逐年達到就業門檻，才能拿到補助。明年至少要聘用260人，2022年聘用人數至少要有5200人，2027年至少要有1.04萬人。\n",
    "\n",
    "而且，鴻海所付員工年薪須介於3萬至10萬美元，平均年薪須有5.3875萬美元（約163萬元台幣），才能拿到補助。（于倩若／綜合外電報導）\n",
    "'''"
   ]
  },
  {
   "cell_type": "code",
   "execution_count": 170,
   "metadata": {
    "collapsed": true
   },
   "outputs": [],
   "source": [
    "import jieba\n",
    "jieba.load_userdict('userdict.txt')\n",
    "words = []\n",
    "for w in jieba.cut(news):\n",
    "    words.append(w)"
   ]
  },
  {
   "cell_type": "code",
   "execution_count": 172,
   "metadata": {
    "scrolled": true
   },
   "outputs": [
    {
     "name": "stdout",
     "output_type": "stream",
     "text": [
      "美元 6\n",
      "鴻海 5\n",
      "合約 4\n",
      "投資 3\n",
      "台幣 3\n",
      "聘用 3\n",
      "才能 3\n",
      "拿到 3\n",
      "至少 3\n",
      "美國 2\n",
      "威斯康辛 2\n",
      "提供 2\n",
      "億元 2\n",
      "獎勵 2\n",
      "內容 2\n",
      "郭台銘 2\n",
      "達到 2\n"
     ]
    }
   ],
   "source": [
    "from collections import Counter\n",
    "import re\n",
    "c = Counter(words)\n",
    "for word, cnt in c.most_common(30):\n",
    "    m = re.match('[\\u4e00-\\u9fa5]+', word)\n",
    "    if m and len(word) >= 2:\n",
    "        print(word, cnt)"
   ]
  },
  {
   "cell_type": "code",
   "execution_count": 185,
   "metadata": {
    "collapsed": true
   },
   "outputs": [],
   "source": [
    "news = '''\n",
    "《工商時報》今日報導，日盛金大股東新生銀求售日盛金股權，並在價格及出售模式都有軟化的誠意，日盛金總經理王芝芳表示，「毫無所悉」。\n",
    "\n",
    "日盛金有兩大外資股東，分別為日本的新生銀，及香港的建高，《工商時報》報導，新生銀近期接觸彰銀，由彰銀董事長張明道評估，雙方透過管道展開接觸。\n",
    "\n",
    "《工商時報》報導，彰銀希望能以「換股合併」或是「一半現金、一半換股」的方式進行，由於日盛金目前股價低於淨值，若採100％換股進行，彰銀購併日盛金後，泛公股的股權將提升至接近34％，持有22.5％彰銀股權的台新金持股比將降至18％。（王立德／台北報導）\n",
    "'''"
   ]
  },
  {
   "cell_type": "code",
   "execution_count": 186,
   "metadata": {
    "collapsed": true
   },
   "outputs": [],
   "source": [
    "import jieba\n",
    "jieba.load_userdict('userdict.txt')\n",
    "words = []\n",
    "for w in jieba.cut(news):\n",
    "    words.append(w)"
   ]
  },
  {
   "cell_type": "code",
   "execution_count": 187,
   "metadata": {},
   "outputs": [
    {
     "name": "stdout",
     "output_type": "stream",
     "text": [
      "日盛金 6\n",
      "彰銀 5\n",
      "報導 4\n",
      "工商 3\n",
      "時報 3\n",
      "新生 3\n",
      "換股 3\n",
      "股權 2\n",
      "接觸 2\n",
      "一半 2\n",
      "進行 2\n",
      "今日 1\n",
      "大股東 1\n",
      "求售 1\n",
      "並在 1\n",
      "價格及 1\n",
      "出售 1\n",
      "模式 1\n",
      "軟化 1\n",
      "誠意 1\n",
      "總經理 1\n",
      "王芝芳 1\n",
      "表示 1\n",
      "毫無所悉 1\n",
      "兩大 1\n",
      "外資 1\n",
      "股東 1\n",
      "分別 1\n",
      "日本 1\n",
      "香港 1\n",
      "建高 1\n",
      "近期 1\n",
      "董事 1\n",
      "張明道 1\n",
      "評估 1\n",
      "雙方 1\n",
      "透過 1\n",
      "管道 1\n",
      "展開 1\n",
      "希望 1\n",
      "能以 1\n",
      "或是 1\n",
      "現金 1\n",
      "方式 1\n",
      "目前 1\n",
      "股價 1\n",
      "淨值 1\n",
      "若採 1\n",
      "公股 1\n",
      "股權將 1\n",
      "提升 1\n",
      "接近 1\n",
      "持有 1\n",
      "新金 1\n",
      "持股 1\n",
      "比將 1\n",
      "降至 1\n",
      "立德 1\n",
      "台北 1\n"
     ]
    }
   ],
   "source": [
    "from collections import Counter\n",
    "import re\n",
    "c = Counter(words)\n",
    "for word, cnt in c.most_common(100):\n",
    "    m = re.match('[\\u4e00-\\u9fa5]+', word)\n",
    "    if m and len(word) >= 2:\n",
    "        print(word, cnt)"
   ]
  },
  {
   "cell_type": "markdown",
   "metadata": {},
   "source": [
    "## 找出關鍵字 (TF-IDF)"
   ]
  },
  {
   "cell_type": "code",
   "execution_count": 195,
   "metadata": {},
   "outputs": [
    {
     "name": "stdout",
     "output_type": "stream",
     "text": [
      "1.0 0.0 0.0\n",
      "0.3333333333333333 0.0 0.0\n",
      "0.6666666666666666 0.405465108108 0.270310072072\n",
      "0.3333333333333333 0.0 0.0\n",
      "0.3333333333333333 0.405465108108 0.135155036036\n",
      "0.3333333333333333 1.09861228867 0.366204096223\n"
     ]
    }
   ],
   "source": [
    "import scipy as sp\n",
    "a,abb,abc=[\"a\"],[\"a\",\"b\",\"b\"],[\"a\",\"b\",\"c\"]\n",
    "D=[a,abb,abc]\n",
    "\n",
    "#tfidf('a', a, D)\n",
    "tf = 1 / 1\n",
    "idf = sp.log(3/3)\n",
    "print(tf, idf, tf * idf)\n",
    "\n",
    "\n",
    "#tfidf('a', abb, D)\n",
    "tf = 1 / 3\n",
    "idf = sp.log(3/3)\n",
    "print(tf, idf, tf * idf)\n",
    "\n",
    "#tfidf('b', abb, D)\n",
    "tf  = 2/3\n",
    "idf = sp.log(3/2)\n",
    "print(tf, idf, tf * idf)\n",
    "\n",
    "\n",
    "#tfidf('a', abc, D)\n",
    "tf  = 1/3\n",
    "idf = sp.log(3/3)\n",
    "print(tf, idf, tf * idf)\n",
    "\n",
    "#tfidf('b', abc, D)\n",
    "tf  = 1/3\n",
    "idf = sp.log(3/2)\n",
    "print(tf, idf, tf * idf)\n",
    "\n",
    "#tfidf('c', abc, D)\n",
    "tf  = 1/3\n",
    "idf = sp.log(3/1)\n",
    "print(tf, idf, tf * idf)"
   ]
  },
  {
   "cell_type": "code",
   "execution_count": 196,
   "metadata": {
    "collapsed": true
   },
   "outputs": [],
   "source": [
    "a,abb,abc=[\"a\"],[\"a\",\"b\",\"b\"],[\"a\",\"b\",\"c\"]\n",
    "D=[a,abb,abc]\n",
    "\n",
    "def tfidf(term, doc, Documents):\n",
    "    tf  = doc.count(term) / len(doc)\n",
    "    idf = sp.log(len(Documents) / len([d for d in Documents if term in d]))\n",
    "    return tf * idf"
   ]
  },
  {
   "cell_type": "code",
   "execution_count": 202,
   "metadata": {},
   "outputs": [
    {
     "name": "stdout",
     "output_type": "stream",
     "text": [
      "0.0\n",
      "0.0\n",
      "0.0\n",
      "0.270310072072\n",
      "0.135155036036\n",
      "0.366204096223\n"
     ]
    }
   ],
   "source": [
    "print(tfidf('a', a, D))\n",
    "print(tfidf('a', abb, D))\n",
    "print(tfidf('a', abc, D))\n",
    "print(tfidf('b', abb, D))\n",
    "print(tfidf('b', abc, D))\n",
    "print(tfidf('c', abc, D))"
   ]
  },
  {
   "cell_type": "code",
   "execution_count": 204,
   "metadata": {},
   "outputs": [
    {
     "data": {
      "text/plain": [
       "'\\n《工商時報》今日報導，日盛金大股東新生銀求售日盛金股權，並在價格及出售模式都有軟化的誠意，日盛金總經理王芝芳表示，「毫無所悉」。\\n\\n日盛金有兩大外資股東，分別為日本的新生銀，及香港的建高，《工商時報》報導，新生銀近期接觸彰銀，由彰銀董事長張明道評估，雙方透過管道展開接觸。\\n\\n《工商時報》報導，彰銀希望能以「換股合併」或是「一半現金、一半換股」的方式進行，由於日盛金目前股價低於淨值，若採100％換股進行，彰銀購併日盛金後，泛公股的股權將提升至接近34％，持有22.5％彰銀股權的台新金持股比將降至18％。（王立德／台北報導）\\n'"
      ]
     },
     "execution_count": 204,
     "metadata": {},
     "output_type": "execute_result"
    }
   ],
   "source": [
    "news"
   ]
  },
  {
   "cell_type": "code",
   "execution_count": 206,
   "metadata": {},
   "outputs": [
    {
     "name": "stdout",
     "output_type": "stream",
     "text": [
      "日盛金,彰銀,報導,時報,換股\n"
     ]
    }
   ],
   "source": [
    "import jieba.analyse \n",
    "tags=jieba.analyse.extract_tags(news,5)\n",
    "print(\",\".join(tags))"
   ]
  },
  {
   "cell_type": "markdown",
   "metadata": {},
   "source": [
    "## 詞頻矩陣"
   ]
  },
  {
   "cell_type": "code",
   "execution_count": null,
   "metadata": {
    "collapsed": true
   },
   "outputs": [],
   "source": [
    "s  =\"大巨蛋案對市府同仁下封口令？柯P否認\"\n",
    "s1 =\"柯P市府近來飽受大巨蛋爭議\""
   ]
  },
  {
   "cell_type": "code",
   "execution_count": 222,
   "metadata": {
    "collapsed": true
   },
   "outputs": [],
   "source": [
    "import jieba \n",
    "\n",
    "jieba.load_userdict('userdict.txt')\n",
    "ary=['【更新】柯P：洪智坤洩漏公文案還沒看到公文 今處理',\n",
    "     '留洪智坤柯：殘障求職不易',\n",
    "     '人事處議處洪智坤 柯P：不清楚議處結果']\n",
    "\n",
    "corpus=[]\n",
    "for title in ary:\n",
    "    corpus.append(' '.join(jieba.cut(title)))"
   ]
  },
  {
   "cell_type": "code",
   "execution_count": 223,
   "metadata": {},
   "outputs": [
    {
     "data": {
      "text/plain": [
       "['【 更新 】 柯P ： 洪智坤 洩漏 公文 案還 沒 看到 公文   今處理',\n",
       " '留 洪智坤 柯 ： 殘障 求職 不易',\n",
       " '人事 處議 處 洪智坤   柯P ： 不 清楚 議處 結果']"
      ]
     },
     "execution_count": 223,
     "metadata": {},
     "output_type": "execute_result"
    }
   ],
   "source": [
    "corpus"
   ]
  },
  {
   "cell_type": "code",
   "execution_count": 224,
   "metadata": {
    "collapsed": true
   },
   "outputs": [],
   "source": [
    "from sklearn.feature_extraction.text import CountVectorizer\n",
    "vectorizer=CountVectorizer()\n",
    "X=vectorizer.fit_transform(corpus)\n",
    "word=vectorizer.get_feature_names()"
   ]
  },
  {
   "cell_type": "code",
   "execution_count": 225,
   "metadata": {},
   "outputs": [
    {
     "data": {
      "text/plain": [
       "<3x16 sparse matrix of type '<class 'numpy.int64'>'\n",
       "\twith 19 stored elements in Compressed Sparse Row format>"
      ]
     },
     "execution_count": 225,
     "metadata": {},
     "output_type": "execute_result"
    }
   ],
   "source": [
    "X"
   ]
  },
  {
   "cell_type": "code",
   "execution_count": 226,
   "metadata": {},
   "outputs": [
    {
     "name": "stdout",
     "output_type": "stream",
     "text": [
      "['不易', '人事', '今處理', '公文', '更新', '柯p', '案還', '殘障', '求職', '洩漏', '洪智坤', '清楚', '看到', '結果', '處議', '議處']\n"
     ]
    }
   ],
   "source": [
    "print(vectorizer.get_feature_names())"
   ]
  },
  {
   "cell_type": "code",
   "execution_count": 227,
   "metadata": {},
   "outputs": [
    {
     "data": {
      "text/plain": [
       "array([[0, 0, 1, 2, 1, 1, 1, 0, 0, 1, 1, 0, 1, 0, 0, 0],\n",
       "       [1, 0, 0, 0, 0, 0, 0, 1, 1, 0, 1, 0, 0, 0, 0, 0],\n",
       "       [0, 1, 0, 0, 0, 1, 0, 0, 0, 0, 1, 1, 0, 1, 1, 1]], dtype=int64)"
      ]
     },
     "execution_count": 227,
     "metadata": {},
     "output_type": "execute_result"
    }
   ],
   "source": [
    "X.toarray()"
   ]
  },
  {
   "cell_type": "code",
   "execution_count": 230,
   "metadata": {
    "collapsed": true
   },
   "outputs": [],
   "source": [
    "from sklearn.feature_extraction.text import TfidfVectorizer\n",
    "vectorizer=TfidfVectorizer()\n",
    "X=vectorizer.fit_transform(corpus)\n",
    "word=vectorizer.get_feature_names()"
   ]
  },
  {
   "cell_type": "code",
   "execution_count": 231,
   "metadata": {},
   "outputs": [
    {
     "name": "stdout",
     "output_type": "stream",
     "text": [
      "['不易', '人事', '今處理', '公文', '更新', '柯p', '案還', '殘障', '求職', '洩漏', '洪智坤', '清楚', '看到', '結果', '處議', '議處']\n"
     ]
    },
    {
     "data": {
      "text/plain": [
       "array([[ 0.        ,  0.        ,  0.31738473,  0.63476946,  0.31738473,\n",
       "         0.24137927,  0.31738473,  0.        ,  0.        ,  0.31738473,\n",
       "         0.18745253,  0.        ,  0.31738473,  0.        ,  0.        ,\n",
       "         0.        ],\n",
       "       [ 0.54645401,  0.        ,  0.        ,  0.        ,  0.        ,\n",
       "         0.        ,  0.        ,  0.54645401,  0.54645401,  0.        ,\n",
       "         0.32274454,  0.        ,  0.        ,  0.        ,  0.        ,\n",
       "         0.        ],\n",
       "       [ 0.        ,  0.41074684,  0.        ,  0.        ,  0.        ,\n",
       "         0.31238356,  0.        ,  0.        ,  0.        ,  0.        ,\n",
       "         0.2425937 ,  0.41074684,  0.        ,  0.41074684,  0.41074684,\n",
       "         0.41074684]])"
      ]
     },
     "execution_count": 231,
     "metadata": {},
     "output_type": "execute_result"
    }
   ],
   "source": [
    "print(vectorizer.get_feature_names())\n",
    "X.toarray()"
   ]
  }
 ],
 "metadata": {
  "kernelspec": {
   "display_name": "Python 3",
   "language": "python",
   "name": "python3"
  },
  "language_info": {
   "codemirror_mode": {
    "name": "ipython",
    "version": 3
   },
   "file_extension": ".py",
   "mimetype": "text/x-python",
   "name": "python",
   "nbconvert_exporter": "python",
   "pygments_lexer": "ipython3",
   "version": "3.6.2"
  }
 },
 "nbformat": 4,
 "nbformat_minor": 2
}
