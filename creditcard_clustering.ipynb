{
 "cells": [
  {
   "cell_type": "markdown",
   "metadata": {},
   "source": [
    "## 讀取PTT 信用卡版資料"
   ]
  },
  {
   "cell_type": "code",
   "execution_count": 2,
   "metadata": {
    "collapsed": false
   },
   "outputs": [],
   "source": [
    "import pandas as pd\n",
    "df = pd.read_csv('data/creditcard.csv')"
   ]
  },
  {
   "cell_type": "code",
   "execution_count": 3,
   "metadata": {
    "collapsed": false
   },
   "outputs": [
    {
     "data": {
      "text/html": [
       "<div>\n",
       "<table border=\"1\" class=\"dataframe\">\n",
       "  <thead>\n",
       "    <tr style=\"text-align: right;\">\n",
       "      <th></th>\n",
       "      <th>Unnamed: 0</th>\n",
       "      <th>id</th>\n",
       "      <th>url</th>\n",
       "      <th>author</th>\n",
       "      <th>title</th>\n",
       "      <th>content</th>\n",
       "      <th>board</th>\n",
       "      <th>date</th>\n",
       "    </tr>\n",
       "  </thead>\n",
       "  <tbody>\n",
       "    <tr>\n",
       "      <th>0</th>\n",
       "      <td>0</td>\n",
       "      <td>1162260</td>\n",
       "      <td>https://www.ptt.cc/bbs/creditcard/M.1441038123...</td>\n",
       "      <td>s912912</td>\n",
       "      <td>[問題] 玉山icash卡(JCB)刷卡匯率疑問</td>\n",
       "      <td>這是我最近收到的帳單\\r\\n\\r\\n上面列出JCB匯率.但小弟我怎麼算都感覺對不太起來\\r\\...</td>\n",
       "      <td>creditcard</td>\n",
       "      <td>2015-09-01 00:21:59+00</td>\n",
       "    </tr>\n",
       "    <tr>\n",
       "      <th>1</th>\n",
       "      <td>1</td>\n",
       "      <td>1162271</td>\n",
       "      <td>https://www.ptt.cc/bbs/creditcard/M.1441057718...</td>\n",
       "      <td>gn01819359</td>\n",
       "      <td>[問題] 關於信用分數</td>\n",
       "      <td>手上有一張額度八萬的卡\\r\\n\\r\\n三個月前的某一天把它刷到見底\\r\\n\\r\\n帳單寄來每...</td>\n",
       "      <td>creditcard</td>\n",
       "      <td>2015-09-01 05:48:35+00</td>\n",
       "    </tr>\n",
       "    <tr>\n",
       "      <th>2</th>\n",
       "      <td>2</td>\n",
       "      <td>1162277</td>\n",
       "      <td>https://www.ptt.cc/bbs/creditcard/M.1441268701...</td>\n",
       "      <td>ohyouareapig</td>\n",
       "      <td>[心得] 元大鑽金臨時調額未過</td>\n",
       "      <td>[職業]:資訊\\r\\n\\r\\n[年齡]:36\\r\\n\\r\\n[年資]:9年\\r\\n\\r\\n[...</td>\n",
       "      <td>creditcard</td>\n",
       "      <td>2015-09-03 16:24:58+00</td>\n",
       "    </tr>\n",
       "    <tr>\n",
       "      <th>3</th>\n",
       "      <td>3</td>\n",
       "      <td>1162279</td>\n",
       "      <td>https://www.ptt.cc/bbs/creditcard/M.1441205579...</td>\n",
       "      <td>guianyinma</td>\n",
       "      <td>[心得] 元大鑽金卡 核卡</td>\n",
       "      <td>[職業]醫療\\r\\n\\r\\n\\r\\n[年資] 1年半\\r\\n\\r\\n\\r\\n[年收] 550...</td>\n",
       "      <td>creditcard</td>\n",
       "      <td>2015-09-02 22:52:55+00</td>\n",
       "    </tr>\n",
       "    <tr>\n",
       "      <th>4</th>\n",
       "      <td>4</td>\n",
       "      <td>1162291</td>\n",
       "      <td>https://www.ptt.cc/bbs/creditcard/M.1441327765...</td>\n",
       "      <td>imrt</td>\n",
       "      <td>Re: [新聞] 全家繳帳單也能刷卡　台新首創再送刷卡金</td>\n",
       "      <td>昨天繳電信費十分順利，\\r\\n\\r\\n今天繳學雜費就不行了。\\r\\n\\r\\n不同一組員工，\\...</td>\n",
       "      <td>creditcard</td>\n",
       "      <td>2015-09-04 08:49:23+00</td>\n",
       "    </tr>\n",
       "  </tbody>\n",
       "</table>\n",
       "</div>"
      ],
      "text/plain": [
       "   Unnamed: 0       id                                                url  \\\n",
       "0           0  1162260  https://www.ptt.cc/bbs/creditcard/M.1441038123...   \n",
       "1           1  1162271  https://www.ptt.cc/bbs/creditcard/M.1441057718...   \n",
       "2           2  1162277  https://www.ptt.cc/bbs/creditcard/M.1441268701...   \n",
       "3           3  1162279  https://www.ptt.cc/bbs/creditcard/M.1441205579...   \n",
       "4           4  1162291  https://www.ptt.cc/bbs/creditcard/M.1441327765...   \n",
       "\n",
       "         author                         title  \\\n",
       "0       s912912      [問題] 玉山icash卡(JCB)刷卡匯率疑問   \n",
       "1    gn01819359                   [問題] 關於信用分數   \n",
       "2  ohyouareapig               [心得] 元大鑽金臨時調額未過   \n",
       "3    guianyinma                 [心得] 元大鑽金卡 核卡   \n",
       "4          imrt  Re: [新聞] 全家繳帳單也能刷卡　台新首創再送刷卡金   \n",
       "\n",
       "                                             content       board  \\\n",
       "0  這是我最近收到的帳單\\r\\n\\r\\n上面列出JCB匯率.但小弟我怎麼算都感覺對不太起來\\r\\...  creditcard   \n",
       "1  手上有一張額度八萬的卡\\r\\n\\r\\n三個月前的某一天把它刷到見底\\r\\n\\r\\n帳單寄來每...  creditcard   \n",
       "2  [職業]:資訊\\r\\n\\r\\n[年齡]:36\\r\\n\\r\\n[年資]:9年\\r\\n\\r\\n[...  creditcard   \n",
       "3  [職業]醫療\\r\\n\\r\\n\\r\\n[年資] 1年半\\r\\n\\r\\n\\r\\n[年收] 550...  creditcard   \n",
       "4  昨天繳電信費十分順利，\\r\\n\\r\\n今天繳學雜費就不行了。\\r\\n\\r\\n不同一組員工，\\...  creditcard   \n",
       "\n",
       "                     date  \n",
       "0  2015-09-01 00:21:59+00  \n",
       "1  2015-09-01 05:48:35+00  \n",
       "2  2015-09-03 16:24:58+00  \n",
       "3  2015-09-02 22:52:55+00  \n",
       "4  2015-09-04 08:49:23+00  "
      ]
     },
     "execution_count": 3,
     "metadata": {},
     "output_type": "execute_result"
    }
   ],
   "source": [
    "df.head()"
   ]
  },
  {
   "cell_type": "code",
   "execution_count": 4,
   "metadata": {
    "collapsed": false
   },
   "outputs": [
    {
     "name": "stdout",
     "output_type": "stream",
     "text": [
      "<class 'pandas.core.frame.DataFrame'>\n",
      "Int64Index: 3222 entries, 0 to 3221\n",
      "Data columns (total 8 columns):\n",
      "Unnamed: 0    3222 non-null int64\n",
      "id            3222 non-null int64\n",
      "url           3222 non-null object\n",
      "author        3222 non-null object\n",
      "title         3222 non-null object\n",
      "content       3222 non-null object\n",
      "board         3222 non-null object\n",
      "date          3222 non-null object\n",
      "dtypes: int64(2), object(6)\n",
      "memory usage: 226.5+ KB\n"
     ]
    }
   ],
   "source": [
    "df.info()"
   ]
  },
  {
   "cell_type": "markdown",
   "metadata": {},
   "source": [
    "## 篩選PTT 資料"
   ]
  },
  {
   "cell_type": "code",
   "execution_count": 5,
   "metadata": {
    "collapsed": false
   },
   "outputs": [],
   "source": [
    "filter_df =  df[df.title.str.contains('\\[問題\\]') & df.title.str.contains('花旗')]\n",
    "#filter_df =  df[df.content.str.contains('花旗')]"
   ]
  },
  {
   "cell_type": "code",
   "execution_count": 6,
   "metadata": {
    "collapsed": false
   },
   "outputs": [
    {
     "data": {
      "text/html": [
       "<div>\n",
       "<table border=\"1\" class=\"dataframe\">\n",
       "  <thead>\n",
       "    <tr style=\"text-align: right;\">\n",
       "      <th></th>\n",
       "      <th>Unnamed: 0</th>\n",
       "      <th>id</th>\n",
       "      <th>url</th>\n",
       "      <th>author</th>\n",
       "      <th>title</th>\n",
       "      <th>content</th>\n",
       "      <th>board</th>\n",
       "      <th>date</th>\n",
       "    </tr>\n",
       "  </thead>\n",
       "  <tbody>\n",
       "    <tr>\n",
       "      <th>13</th>\n",
       "      <td>13</td>\n",
       "      <td>1162339</td>\n",
       "      <td>https://www.ptt.cc/bbs/creditcard/M.1443258298...</td>\n",
       "      <td>hddaniel0928</td>\n",
       "      <td>[問題] 花旗客服有快速專員嗎？</td>\n",
       "      <td>會問這一個問題是因為，\\r\\n我昨天用Skype打電話去花旗客服時\\r\\n\\r\\n照常的聽到...</td>\n",
       "      <td>creditcard</td>\n",
       "      <td>2015-09-26 17:04:56+00</td>\n",
       "    </tr>\n",
       "    <tr>\n",
       "      <th>121</th>\n",
       "      <td>121</td>\n",
       "      <td>1162610</td>\n",
       "      <td>https://www.ptt.cc/bbs/creditcard/M.1446031386...</td>\n",
       "      <td>Bachsan</td>\n",
       "      <td>[問題] 申辦花旗饗樂卡的疑問</td>\n",
       "      <td>老妹是進公務機關約一年半的小小公務員，因為進公務機關所以今年被迫（？）辦了一張\\r\\n聯邦的...</td>\n",
       "      <td>creditcard</td>\n",
       "      <td>2015-10-28 19:23:04+00</td>\n",
       "    </tr>\n",
       "    <tr>\n",
       "      <th>170</th>\n",
       "      <td>170</td>\n",
       "      <td>1162409</td>\n",
       "      <td>https://www.ptt.cc/bbs/creditcard/M.1444732064...</td>\n",
       "      <td>cuddi</td>\n",
       "      <td>Re: [問題] 花旗複數卡片帳單 分開？</td>\n",
       "      <td>回一下舊文...\\r\\n\\r\\n最近加辦饗樂卡，發現花旗帳單竟然分開寄兩張卡的帳單，\\r\\n...</td>\n",
       "      <td>creditcard</td>\n",
       "      <td>2015-10-13 18:27:41+00</td>\n",
       "    </tr>\n",
       "    <tr>\n",
       "      <th>291</th>\n",
       "      <td>291</td>\n",
       "      <td>1162538</td>\n",
       "      <td>https://www.ptt.cc/bbs/creditcard/M.1445246457...</td>\n",
       "      <td>iamsolotrave</td>\n",
       "      <td>[問題] 花旗 分期聰明付 詳細名目與繳費方式</td>\n",
       "      <td>各位好\\r\\n\\r\\n\\r\\n我使用花旗的信用卡已經超過一年了\\r\\n\\r\\n\\r\\n每次都...</td>\n",
       "      <td>creditcard</td>\n",
       "      <td>2015-10-19 17:20:54+00</td>\n",
       "    </tr>\n",
       "    <tr>\n",
       "      <th>478</th>\n",
       "      <td>478</td>\n",
       "      <td>1192897</td>\n",
       "      <td>https://www.ptt.cc/bbs/creditcard/M.1461731877...</td>\n",
       "      <td>nichjack</td>\n",
       "      <td>Re: [問題] 花旗調額</td>\n",
       "      <td>大家好：我是nichjack ，對於這次的加辦紅利卡，小的也有幾點問題想跟大家討論。\\r\\n...</td>\n",
       "      <td>creditcard</td>\n",
       "      <td>2016-04-27 12:37:55+00</td>\n",
       "    </tr>\n",
       "  </tbody>\n",
       "</table>\n",
       "</div>"
      ],
      "text/plain": [
       "     Unnamed: 0       id                                                url  \\\n",
       "13           13  1162339  https://www.ptt.cc/bbs/creditcard/M.1443258298...   \n",
       "121         121  1162610  https://www.ptt.cc/bbs/creditcard/M.1446031386...   \n",
       "170         170  1162409  https://www.ptt.cc/bbs/creditcard/M.1444732064...   \n",
       "291         291  1162538  https://www.ptt.cc/bbs/creditcard/M.1445246457...   \n",
       "478         478  1192897  https://www.ptt.cc/bbs/creditcard/M.1461731877...   \n",
       "\n",
       "           author                    title  \\\n",
       "13   hddaniel0928         [問題] 花旗客服有快速專員嗎？   \n",
       "121       Bachsan          [問題] 申辦花旗饗樂卡的疑問   \n",
       "170         cuddi    Re: [問題] 花旗複數卡片帳單 分開？   \n",
       "291  iamsolotrave  [問題] 花旗 分期聰明付 詳細名目與繳費方式   \n",
       "478      nichjack            Re: [問題] 花旗調額   \n",
       "\n",
       "                                               content       board  \\\n",
       "13   會問這一個問題是因為，\\r\\n我昨天用Skype打電話去花旗客服時\\r\\n\\r\\n照常的聽到...  creditcard   \n",
       "121  老妹是進公務機關約一年半的小小公務員，因為進公務機關所以今年被迫（？）辦了一張\\r\\n聯邦的...  creditcard   \n",
       "170  回一下舊文...\\r\\n\\r\\n最近加辦饗樂卡，發現花旗帳單竟然分開寄兩張卡的帳單，\\r\\n...  creditcard   \n",
       "291  各位好\\r\\n\\r\\n\\r\\n我使用花旗的信用卡已經超過一年了\\r\\n\\r\\n\\r\\n每次都...  creditcard   \n",
       "478  大家好：我是nichjack ，對於這次的加辦紅利卡，小的也有幾點問題想跟大家討論。\\r\\n...  creditcard   \n",
       "\n",
       "                       date  \n",
       "13   2015-09-26 17:04:56+00  \n",
       "121  2015-10-28 19:23:04+00  \n",
       "170  2015-10-13 18:27:41+00  \n",
       "291  2015-10-19 17:20:54+00  \n",
       "478  2016-04-27 12:37:55+00  "
      ]
     },
     "execution_count": 6,
     "metadata": {},
     "output_type": "execute_result"
    }
   ],
   "source": [
    "filter_df.head()"
   ]
  },
  {
   "cell_type": "markdown",
   "metadata": {},
   "source": [
    "## 使用Jieba切詞"
   ]
  },
  {
   "cell_type": "code",
   "execution_count": 7,
   "metadata": {
    "collapsed": false
   },
   "outputs": [
    {
     "name": "stderr",
     "output_type": "stream",
     "text": [
      "Building prefix dict from the default dictionary ...\n",
      "DEBUG:jieba:Building prefix dict from the default dictionary ...\n",
      "Loading model from cache c:\\users\\user\\appdata\\local\\temp\\jieba.cache\n",
      "DEBUG:jieba:Loading model from cache c:\\users\\user\\appdata\\local\\temp\\jieba.cache\n",
      "Loading model cost 0.511 seconds.\n",
      "DEBUG:jieba:Loading model cost 0.511 seconds.\n",
      "Prefix dict has been built succesfully.\n",
      "DEBUG:jieba:Prefix dict has been built succesfully.\n"
     ]
    }
   ],
   "source": [
    "import jieba\n",
    "from collections import Counter\n",
    "\n",
    "c = Counter()\n",
    "for ele in filter_df.title:\n",
    "    for w  in jieba.cut(ele):\n",
    "        if len(w) >=2:\n",
    "            c[w] += 1"
   ]
  },
  {
   "cell_type": "code",
   "execution_count": 8,
   "metadata": {
    "collapsed": false
   },
   "outputs": [
    {
     "name": "stdout",
     "output_type": "stream",
     "text": [
      "問題 68\n",
      "花旗 61\n",
      "回饋 12\n",
      "Re 6\n",
      "調額 5\n",
      "分期 5\n",
      "活動 4\n",
      "現金 4\n",
      "刷卡 3\n",
      "信用卡 3\n",
      "天天 3\n",
      "prestige 3\n",
      "收到 2\n",
      "額度 2\n",
      "超級 2\n",
      "機票 2\n",
      "台新 2\n",
      "機場 2\n",
      "家族 2\n",
      "申辦 2\n"
     ]
    }
   ],
   "source": [
    "for k,v in c.most_common(20):\n",
    "    print k,v"
   ]
  },
  {
   "cell_type": "markdown",
   "metadata": {},
   "source": [
    "## 文章切詞"
   ]
  },
  {
   "cell_type": "code",
   "execution_count": null,
   "metadata": {
    "collapsed": true
   },
   "outputs": [],
   "source": [
    "import jieba.analyse\n",
    "\n",
    "corpus = []\n",
    "titles = []\n",
    "for elem in filter_df.iterrows():\n",
    "    title       = elem[1].title\n",
    "    description = elem[1].content\n",
    "    titles.append(title)\n",
    "    corpus.append(' '.join(jieba.cut(title)))"
   ]
  },
  {
   "cell_type": "markdown",
   "metadata": {},
   "source": [
    "## 建立詞頻矩陣"
   ]
  },
  {
   "cell_type": "code",
   "execution_count": 53,
   "metadata": {
    "collapsed": true
   },
   "outputs": [],
   "source": [
    "from sklearn.feature_extraction.text import TfidfTransformer\n",
    "from sklearn.feature_extraction.text import CountVectorizer\n",
    "vectorizer=CountVectorizer()\n",
    "transformer = TfidfTransformer()\n",
    "X = vectorizer.fit_transform(corpus)\n",
    "tfidf = transformer.fit_transform(X)\n",
    "weight = tfidf.toarray() "
   ]
  },
  {
   "cell_type": "code",
   "execution_count": 54,
   "metadata": {
    "collapsed": false
   },
   "outputs": [
    {
     "name": "stdout",
     "output_type": "stream",
     "text": [
      "1600 200 400 booking com expedia prestige re vs 一張 不便 不能 世界 中信 事業 交易 享券 代扣 代繳 使用 保險 信用卡 優勢 優惠 元大 公用 分期 分開 利卡 刷卡 刷稅 剛畢業 卡學 卡片 卡繳 卡能 卡費 卡面 可以 可換 可用 可申 台新 台電代繳 名目 告知 哪裡 商店 問題 回饋 國泰 團結衝 城外 夏日 大概 天天 失敗 威秀影 客服 家族 射飛 專員 專屬 專案 帳單 店家 張卡 御璽 快速 或傳 打槍 指定 挑戰 接送 收到 新卡首 新辦 方式 旅遊 旅館 日刷 最高 有人 榮聯名 機場 機票 永久 活動 消費 漏接 無限卡 玉山 現金 生卡 生活 申請 申辦 疑問 盛卡 直接 相符 研替 積點 算法 簡訊 紅利 納水 網路 線上 繳款 繳費 考度 聯徵三查 聯徵參 聯徵等級 聯邦 聰明付 臨時 花旗 萬點 行李箱 訂房 試過 詳細 調額 請問 請款 買大送 資格 資獎勵 購刷 超級 超級紅 辦卡 辦卡禮 辦澳 退刷 通話費 速度 適用 邀請 金活動 限制 電信 電費 響樂卡 預約 額外 額度 饗樂 饗樂卡 體驗 高鐵升\n"
     ]
    }
   ],
   "source": [
    "word=vectorizer.get_feature_names()\n",
    "for w in word:\n",
    "    print w, \n",
    "print "
   ]
  },
  {
   "cell_type": "markdown",
   "metadata": {},
   "source": [
    "## 搜尋相關文章"
   ]
  },
  {
   "cell_type": "code",
   "execution_count": 66,
   "metadata": {
    "collapsed": false
   },
   "outputs": [
    {
     "name": "stdout",
     "output_type": "stream",
     "text": [
      "\n"
     ]
    }
   ],
   "source": [
    "from sklearn.metrics.pairwise import cosine_similarity\n",
    "\n",
    "def getSimiliarArticle(idx):\n",
    "    print \"[查詢文章]:\" , titles[idx]\n",
    "    cosine_similarities = cosine_similarity(tfidf[idx],tfidf).flatten()\n",
    "    related_docs_indices = cosine_similarities.argsort()[::-1]\n",
    "    for doc in related_docs_indices[1:]:\n",
    "        if cosine_similarities[doc] >= 0.3:\n",
    "            print \"[相似文章]:\", titles[doc], cosine_similarities[doc]"
   ]
  },
  {
   "cell_type": "code",
   "execution_count": 67,
   "metadata": {
    "collapsed": false
   },
   "outputs": [
    {
     "name": "stdout",
     "output_type": "stream",
     "text": [
      "[查詢文章]: [問題] 花旗調額\n",
      "[相似文章]: Re: [問題] 花旗調額 0.751417236626\n",
      "[相似文章]: Re: [問題] 花旗調額 0.751417236626\n",
      "[相似文章]: [問題] 花旗新辦卡能調額嗎? 0.50025587986\n",
      "[相似文章]: [問題] 花旗調額失敗 會告知或傳簡訊嗎 0.393172480336\n"
     ]
    }
   ],
   "source": [
    "getSimiliarArticle(5)"
   ]
  },
  {
   "cell_type": "markdown",
   "metadata": {},
   "source": [
    "# 文章分群"
   ]
  },
  {
   "cell_type": "markdown",
   "metadata": {},
   "source": [
    "## 使用KMeans 分群"
   ]
  },
  {
   "cell_type": "code",
   "execution_count": 174,
   "metadata": {
    "collapsed": true
   },
   "outputs": [],
   "source": [
    "from sklearn import cluster\n",
    "c = cluster.KMeans(n_clusters=10)\n",
    "k_data = c.fit_predict(weight)"
   ]
  },
  {
   "cell_type": "code",
   "execution_count": 175,
   "metadata": {
    "collapsed": false
   },
   "outputs": [
    {
     "name": "stdout",
     "output_type": "stream",
     "text": [
      "[問題] 花旗Prestige機場接送\n",
      "[問題] 花旗prestige\n",
      "[問題] 花旗 prestige 高鐵升等\n",
      "[問題] 花旗prestige機場接送刷稅金可用嗎？\n"
     ]
    }
   ],
   "source": [
    "for idx, group in enumerate(k_data):\n",
    "    if group == 1:\n",
    "        print ary[idx]"
   ]
  },
  {
   "cell_type": "markdown",
   "metadata": {},
   "source": [
    "## 使用Community Detection"
   ]
  },
  {
   "cell_type": "code",
   "execution_count": 20,
   "metadata": {
    "collapsed": false
   },
   "outputs": [],
   "source": [
    "import networkx as nx\n",
    "from sklearn.metrics.pairwise import cosine_similarity\n",
    "\n",
    "graph = nx.Graph()\n",
    "\n",
    "for i in range(0, len(titles)):\n",
    "    cosine_similarities = cosine_similarity(tfidf[i],tfidf).flatten()\n",
    "    related_docs_indices = cosine_similarities.argsort()[::-1]\n",
    "    for doc in related_docs_indices[1:]:\n",
    "        if cosine_similarities[doc] >= 0.3:\n",
    "            graph.add_edge(titles[doc], titles[i])"
   ]
  },
  {
   "cell_type": "code",
   "execution_count": 21,
   "metadata": {
    "collapsed": true
   },
   "outputs": [],
   "source": [
    "import community\n",
    "partition =community.best_partition(graph)"
   ]
  },
  {
   "cell_type": "code",
   "execution_count": 22,
   "metadata": {
    "collapsed": false
   },
   "outputs": [],
   "source": [
    "#print partition\n",
    "from collections import defaultdict\n",
    "# Community Detection\n",
    "v = defaultdict(list)\n",
    "ary = []\n",
    "for key, value in sorted(partition.iteritems()):\n",
    "    ary.append({'title':key, 'cluster':value})"
   ]
  },
  {
   "cell_type": "code",
   "execution_count": 23,
   "metadata": {
    "collapsed": false
   },
   "outputs": [],
   "source": [
    "df = pd.DataFrame(ary)"
   ]
  },
  {
   "cell_type": "code",
   "execution_count": 32,
   "metadata": {
    "collapsed": false
   },
   "outputs": [
    {
     "data": {
      "text/html": [
       "<div>\n",
       "<table border=\"1\" class=\"dataframe\">\n",
       "  <thead>\n",
       "    <tr style=\"text-align: right;\">\n",
       "      <th></th>\n",
       "      <th>cluster</th>\n",
       "      <th>title</th>\n",
       "    </tr>\n",
       "  </thead>\n",
       "  <tbody>\n",
       "    <tr>\n",
       "      <th>0</th>\n",
       "      <td>8</td>\n",
       "      <td>Re: [問題] 花旗不能分期？？</td>\n",
       "    </tr>\n",
       "    <tr>\n",
       "      <th>1</th>\n",
       "      <td>5</td>\n",
       "      <td>Re: [問題] 花旗線上繳款問題</td>\n",
       "    </tr>\n",
       "    <tr>\n",
       "      <th>2</th>\n",
       "      <td>5</td>\n",
       "      <td>Re: [問題] 花旗調額</td>\n",
       "    </tr>\n",
       "    <tr>\n",
       "      <th>3</th>\n",
       "      <td>0</td>\n",
       "      <td>[問題] 5月體驗天天花旗日活動回饋</td>\n",
       "    </tr>\n",
       "    <tr>\n",
       "      <th>4</th>\n",
       "      <td>0</td>\n",
       "      <td>[問題] Y購刷花旗的活動</td>\n",
       "    </tr>\n",
       "  </tbody>\n",
       "</table>\n",
       "</div>"
      ],
      "text/plain": [
       "   cluster               title\n",
       "0        8   Re: [問題] 花旗不能分期？？\n",
       "1        5   Re: [問題] 花旗線上繳款問題\n",
       "2        5       Re: [問題] 花旗調額\n",
       "3        0  [問題] 5月體驗天天花旗日活動回饋\n",
       "4        0       [問題] Y購刷花旗的活動"
      ]
     },
     "execution_count": 32,
     "metadata": {},
     "output_type": "execute_result"
    }
   ],
   "source": [
    "df.head()"
   ]
  },
  {
   "cell_type": "code",
   "execution_count": 31,
   "metadata": {
    "collapsed": false
   },
   "outputs": [
    {
     "data": {
      "text/plain": [
       "7          [問題] 信用卡的行李箱 花旗現金回饋卡\n",
       "8               [問題] 多收到一張花旗信用卡\n",
       "9     [問題] 現金回饋卡 花旗 國泰 中信 玉山 台新\n",
       "16                [問題] 花旗信用卡御璽卡\n",
       "21             [問題] 花旗現金回饋卡的優勢？\n",
       "32            [問題]收到花旗現金回饋無限卡邀請\n",
       "Name: title, dtype: object"
      ]
     },
     "execution_count": 31,
     "metadata": {},
     "output_type": "execute_result"
    }
   ],
   "source": [
    "df[df['cluster']==1]['title']"
   ]
  }
 ],
 "metadata": {
  "kernelspec": {
   "display_name": "Python 2",
   "language": "python",
   "name": "python2"
  },
  "language_info": {
   "codemirror_mode": {
    "name": "ipython",
    "version": 2
   },
   "file_extension": ".py",
   "mimetype": "text/x-python",
   "name": "python",
   "nbconvert_exporter": "python",
   "pygments_lexer": "ipython2",
   "version": "2.7.12"
  }
 },
 "nbformat": 4,
 "nbformat_minor": 0
}
