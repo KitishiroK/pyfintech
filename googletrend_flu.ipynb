{
 "cells": [
  {
   "cell_type": "markdown",
   "metadata": {},
   "source": [
    "## 安裝pytrends\n",
    "- pip install pytrends"
   ]
  },
  {
   "cell_type": "code",
   "execution_count": 3,
   "metadata": {
    "collapsed": false
   },
   "outputs": [
    {
     "name": "stdout",
     "output_type": "stream",
     "text": [
      "Now downloading information for:\n",
      "http://www.google.com/trends/trendsReport?q=%E6%84%9F%E5%86%92&hl=en-US&cmpt=q&content=1&export=1\n"
     ]
    }
   ],
   "source": [
    "from pytrends.pyGTrends import pyGTrends\n",
    "import time\n",
    "from random import randint\n",
    "\n",
    "google_username = \"\"\n",
    "google_password = \"\"\n",
    "path = \"\"\n",
    "\n",
    "# connect to Google\n",
    "connector = pyGTrends(google_username, google_password)\n",
    "\n",
    "# make request\n",
    "connector.request_report(\"感冒\")\n",
    "\n",
    "# wait a random amount of time between requests to avoid bot detection\n",
    "time.sleep(randint(5, 10))\n",
    "\n",
    "# download file\n",
    "connector.save_csv(path, \"flu2\")"
   ]
  },
  {
   "cell_type": "code",
   "execution_count": 1,
   "metadata": {
    "collapsed": false,
    "scrolled": true
   },
   "outputs": [
    {
     "data": {
      "text/html": [
       "<div>\n",
       "<table border=\"1\" class=\"dataframe\">\n",
       "  <thead>\n",
       "    <tr style=\"text-align: right;\">\n",
       "      <th></th>\n",
       "      <th>cold</th>\n",
       "      <th>flu</th>\n",
       "    </tr>\n",
       "    <tr>\n",
       "      <th>Date</th>\n",
       "      <th></th>\n",
       "      <th></th>\n",
       "    </tr>\n",
       "  </thead>\n",
       "  <tbody>\n",
       "    <tr>\n",
       "      <th>2004-01-04</th>\n",
       "      <td>32</td>\n",
       "      <td>1</td>\n",
       "    </tr>\n",
       "    <tr>\n",
       "      <th>2004-01-11</th>\n",
       "      <td>26</td>\n",
       "      <td>1</td>\n",
       "    </tr>\n",
       "    <tr>\n",
       "      <th>2004-01-18</th>\n",
       "      <td>17</td>\n",
       "      <td>1</td>\n",
       "    </tr>\n",
       "    <tr>\n",
       "      <th>2004-01-25</th>\n",
       "      <td>26</td>\n",
       "      <td>2</td>\n",
       "    </tr>\n",
       "    <tr>\n",
       "      <th>2004-02-01</th>\n",
       "      <td>33</td>\n",
       "      <td>3</td>\n",
       "    </tr>\n",
       "  </tbody>\n",
       "</table>\n",
       "</div>"
      ],
      "text/plain": [
       "            cold  flu\n",
       "Date                 \n",
       "2004-01-04    32    1\n",
       "2004-01-11    26    1\n",
       "2004-01-18    17    1\n",
       "2004-01-25    26    2\n",
       "2004-02-01    33    3"
      ]
     },
     "execution_count": 1,
     "metadata": {},
     "output_type": "execute_result"
    }
   ],
   "source": [
    "import pandas as pd\n",
    "flu = pd.read_csv('flu.csv', index_col='Date', parse_dates=True)\n",
    "flu.head()"
   ]
  },
  {
   "cell_type": "markdown",
   "metadata": {},
   "source": [
    "## 取得康那香股價"
   ]
  },
  {
   "cell_type": "code",
   "execution_count": 2,
   "metadata": {
    "collapsed": false
   },
   "outputs": [
    {
     "name": "stderr",
     "output_type": "stream",
     "text": [
      "C:\\Users\\Student\\Anaconda2\\lib\\site-packages\\pandas\\io\\data.py:35: FutureWarning: \n",
      "The pandas.io.data module is moved to a separate package (pandas-datareader) and will be removed from pandas in a future version.\n",
      "After installing the pandas-datareader package (https://github.com/pydata/pandas-datareader), you can change the import ``from pandas.io import data, wb`` to ``from pandas_datareader import data, wb``.\n",
      "  FutureWarning)\n"
     ]
    }
   ],
   "source": [
    "from datetime import  timedelta\n",
    "import datetime\n",
    "import pandas as pd\n",
    "import pandas.io.data\n",
    "tw9919 = pd.io.data.get_data_yahoo('9919.TW', \n",
    "                                 start=datetime.datetime(2004, 1, 1), \n",
    "                                 end=datetime.datetime(2016, 8, 6))\n",
    "tw9919.index = tw9919.index.map(lambda e: e-timedelta(days=1))"
   ]
  },
  {
   "cell_type": "markdown",
   "metadata": {},
   "source": [
    "## 合併股價"
   ]
  },
  {
   "cell_type": "code",
   "execution_count": 3,
   "metadata": {
    "collapsed": false
   },
   "outputs": [],
   "source": [
    "results = tw9919.merge(flu, left_index=True, right_index=True, how='inner')\n",
    "data = results[['Adj Close', 'cold', 'flu']]"
   ]
  },
  {
   "cell_type": "code",
   "execution_count": 4,
   "metadata": {
    "collapsed": false
   },
   "outputs": [
    {
     "data": {
      "text/html": [
       "<div>\n",
       "<table border=\"1\" class=\"dataframe\">\n",
       "  <thead>\n",
       "    <tr style=\"text-align: right;\">\n",
       "      <th></th>\n",
       "      <th>tw9919</th>\n",
       "      <th>cold</th>\n",
       "      <th>flu</th>\n",
       "    </tr>\n",
       "    <tr>\n",
       "      <th>Date</th>\n",
       "      <th></th>\n",
       "      <th></th>\n",
       "      <th></th>\n",
       "    </tr>\n",
       "  </thead>\n",
       "  <tbody>\n",
       "    <tr>\n",
       "      <th>2004-01-04</th>\n",
       "      <td>10.43874</td>\n",
       "      <td>32</td>\n",
       "      <td>1</td>\n",
       "    </tr>\n",
       "    <tr>\n",
       "      <th>2004-01-11</th>\n",
       "      <td>10.37141</td>\n",
       "      <td>26</td>\n",
       "      <td>1</td>\n",
       "    </tr>\n",
       "    <tr>\n",
       "      <th>2004-01-18</th>\n",
       "      <td>10.37141</td>\n",
       "      <td>17</td>\n",
       "      <td>1</td>\n",
       "    </tr>\n",
       "    <tr>\n",
       "      <th>2004-01-25</th>\n",
       "      <td>10.37141</td>\n",
       "      <td>26</td>\n",
       "      <td>2</td>\n",
       "    </tr>\n",
       "    <tr>\n",
       "      <th>2004-02-01</th>\n",
       "      <td>10.91024</td>\n",
       "      <td>33</td>\n",
       "      <td>3</td>\n",
       "    </tr>\n",
       "  </tbody>\n",
       "</table>\n",
       "</div>"
      ],
      "text/plain": [
       "              tw9919  cold  flu\n",
       "Date                           \n",
       "2004-01-04  10.43874    32    1\n",
       "2004-01-11  10.37141    26    1\n",
       "2004-01-18  10.37141    17    1\n",
       "2004-01-25  10.37141    26    2\n",
       "2004-02-01  10.91024    33    3"
      ]
     },
     "execution_count": 4,
     "metadata": {},
     "output_type": "execute_result"
    }
   ],
   "source": [
    "data.columns = ['tw9919', 'cold', 'flu']\n",
    "data.head()"
   ]
  },
  {
   "cell_type": "code",
   "execution_count": 5,
   "metadata": {
    "collapsed": false
   },
   "outputs": [
    {
     "name": "stdout",
     "output_type": "stream",
     "text": [
      "<class 'pandas.core.frame.DataFrame'>\n",
      "DatetimeIndex: 648 entries, 2004-01-04 to 2016-07-31\n",
      "Data columns (total 3 columns):\n",
      "tw9919    648 non-null float64\n",
      "cold      648 non-null int64\n",
      "flu       648 non-null int64\n",
      "dtypes: float64(1), int64(2)\n",
      "memory usage: 20.2 KB\n"
     ]
    }
   ],
   "source": [
    "data.info()"
   ]
  },
  {
   "cell_type": "markdown",
   "metadata": {},
   "source": [
    "## 繪製圖表"
   ]
  },
  {
   "cell_type": "code",
   "execution_count": 6,
   "metadata": {
    "collapsed": false
   },
   "outputs": [
    {
     "name": "stdout",
     "output_type": "stream",
     "text": [
      "Populating the interactive namespace from numpy and matplotlib\n"
     ]
    },
    {
     "data": {
      "text/plain": [
       "array([<matplotlib.axes._subplots.AxesSubplot object at 0x0000000009B63DD8>,\n",
       "       <matplotlib.axes._subplots.AxesSubplot object at 0x000000000A2CC518>,\n",
       "       <matplotlib.axes._subplots.AxesSubplot object at 0x000000000A35A438>], dtype=object)"
      ]
     },
     "execution_count": 6,
     "metadata": {},
     "output_type": "execute_result"
    },
    {
     "data": {
      "image/png": "[encoded data removed]",
      "text/plain": [
       "<matplotlib.figure.Figure at 0x9b63710>"
      ]
     },
     "metadata": {},
     "output_type": "display_data"
    }
   ],
   "source": [
    "%pylab inline \n",
    "data.plot(subplots=True)"
   ]
  },
  {
   "cell_type": "code",
   "execution_count": 7,
   "metadata": {
    "collapsed": false
   },
   "outputs": [
    {
     "name": "stderr",
     "output_type": "stream",
     "text": [
      "C:\\Users\\Student\\Anaconda2\\lib\\site-packages\\ipykernel\\__main__.py:1: FutureWarning: pd.rolling_mean is deprecated for Series and will be removed in a future version, replace with \n",
      "\tSeries.rolling(window=3,center=False).mean()\n",
      "  if __name__ == '__main__':\n",
      "C:\\Users\\Student\\Anaconda2\\lib\\site-packages\\ipykernel\\__main__.py:1: SettingWithCopyWarning: \n",
      "A value is trying to be set on a copy of a slice from a DataFrame.\n",
      "Try using .loc[row_indexer,col_indexer] = value instead\n",
      "\n",
      "See the caveats in the documentation: http://pandas.pydata.org/pandas-docs/stable/indexing.html#indexing-view-versus-copy\n",
      "  if __name__ == '__main__':\n"
     ]
    },
    {
     "data": {
      "text/html": [
       "<div>\n",
       "<table border=\"1\" class=\"dataframe\">\n",
       "  <thead>\n",
       "    <tr style=\"text-align: right;\">\n",
       "      <th></th>\n",
       "      <th>tw9919</th>\n",
       "      <th>cold</th>\n",
       "      <th>flu</th>\n",
       "      <th>cold_mavg</th>\n",
       "    </tr>\n",
       "    <tr>\n",
       "      <th>Date</th>\n",
       "      <th></th>\n",
       "      <th></th>\n",
       "      <th></th>\n",
       "      <th></th>\n",
       "    </tr>\n",
       "  </thead>\n",
       "  <tbody>\n",
       "    <tr>\n",
       "      <th>2004-01-04</th>\n",
       "      <td>10.43874</td>\n",
       "      <td>32</td>\n",
       "      <td>1</td>\n",
       "      <td>NaN</td>\n",
       "    </tr>\n",
       "    <tr>\n",
       "      <th>2004-01-11</th>\n",
       "      <td>10.37141</td>\n",
       "      <td>26</td>\n",
       "      <td>1</td>\n",
       "      <td>NaN</td>\n",
       "    </tr>\n",
       "    <tr>\n",
       "      <th>2004-01-18</th>\n",
       "      <td>10.37141</td>\n",
       "      <td>17</td>\n",
       "      <td>1</td>\n",
       "      <td>25.000000</td>\n",
       "    </tr>\n",
       "    <tr>\n",
       "      <th>2004-01-25</th>\n",
       "      <td>10.37141</td>\n",
       "      <td>26</td>\n",
       "      <td>2</td>\n",
       "      <td>23.000000</td>\n",
       "    </tr>\n",
       "    <tr>\n",
       "      <th>2004-02-01</th>\n",
       "      <td>10.91024</td>\n",
       "      <td>33</td>\n",
       "      <td>3</td>\n",
       "      <td>25.333333</td>\n",
       "    </tr>\n",
       "  </tbody>\n",
       "</table>\n",
       "</div>"
      ],
      "text/plain": [
       "              tw9919  cold  flu  cold_mavg\n",
       "Date                                      \n",
       "2004-01-04  10.43874    32    1        NaN\n",
       "2004-01-11  10.37141    26    1        NaN\n",
       "2004-01-18  10.37141    17    1  25.000000\n",
       "2004-01-25  10.37141    26    2  23.000000\n",
       "2004-02-01  10.91024    33    3  25.333333"
      ]
     },
     "execution_count": 7,
     "metadata": {},
     "output_type": "execute_result"
    }
   ],
   "source": [
    "data['cold_mavg'] = pd.rolling_mean(data.cold, 3)\n",
    "data.head()"
   ]
  },
  {
   "cell_type": "code",
   "execution_count": 8,
   "metadata": {
    "collapsed": false
   },
   "outputs": [
    {
     "name": "stderr",
     "output_type": "stream",
     "text": [
      "C:\\Users\\Student\\Anaconda2\\lib\\site-packages\\ipykernel\\__main__.py:1: SettingWithCopyWarning: \n",
      "A value is trying to be set on a copy of a slice from a DataFrame.\n",
      "Try using .loc[row_indexer,col_indexer] = value instead\n",
      "\n",
      "See the caveats in the documentation: http://pandas.pydata.org/pandas-docs/stable/indexing.html#indexing-view-versus-copy\n",
      "  if __name__ == '__main__':\n"
     ]
    },
    {
     "data": {
      "text/html": [
       "<div>\n",
       "<table border=\"1\" class=\"dataframe\">\n",
       "  <thead>\n",
       "    <tr style=\"text-align: right;\">\n",
       "      <th></th>\n",
       "      <th>tw9919</th>\n",
       "      <th>cold</th>\n",
       "      <th>flu</th>\n",
       "      <th>cold_mavg</th>\n",
       "    </tr>\n",
       "    <tr>\n",
       "      <th>Date</th>\n",
       "      <th></th>\n",
       "      <th></th>\n",
       "      <th></th>\n",
       "      <th></th>\n",
       "    </tr>\n",
       "  </thead>\n",
       "  <tbody>\n",
       "    <tr>\n",
       "      <th>2004-01-04</th>\n",
       "      <td>10.43874</td>\n",
       "      <td>32</td>\n",
       "      <td>1</td>\n",
       "      <td>NaN</td>\n",
       "    </tr>\n",
       "    <tr>\n",
       "      <th>2004-01-11</th>\n",
       "      <td>10.37141</td>\n",
       "      <td>26</td>\n",
       "      <td>1</td>\n",
       "      <td>NaN</td>\n",
       "    </tr>\n",
       "    <tr>\n",
       "      <th>2004-01-18</th>\n",
       "      <td>10.37141</td>\n",
       "      <td>17</td>\n",
       "      <td>1</td>\n",
       "      <td>NaN</td>\n",
       "    </tr>\n",
       "    <tr>\n",
       "      <th>2004-01-25</th>\n",
       "      <td>10.37141</td>\n",
       "      <td>26</td>\n",
       "      <td>2</td>\n",
       "      <td>25.000000</td>\n",
       "    </tr>\n",
       "    <tr>\n",
       "      <th>2004-02-01</th>\n",
       "      <td>10.91024</td>\n",
       "      <td>33</td>\n",
       "      <td>3</td>\n",
       "      <td>23.000000</td>\n",
       "    </tr>\n",
       "    <tr>\n",
       "      <th>2004-02-08</th>\n",
       "      <td>10.97756</td>\n",
       "      <td>25</td>\n",
       "      <td>2</td>\n",
       "      <td>25.333333</td>\n",
       "    </tr>\n",
       "    <tr>\n",
       "      <th>2004-02-15</th>\n",
       "      <td>11.24694</td>\n",
       "      <td>29</td>\n",
       "      <td>2</td>\n",
       "      <td>28.000000</td>\n",
       "    </tr>\n",
       "    <tr>\n",
       "      <th>2004-02-22</th>\n",
       "      <td>11.31426</td>\n",
       "      <td>27</td>\n",
       "      <td>1</td>\n",
       "      <td>29.000000</td>\n",
       "    </tr>\n",
       "    <tr>\n",
       "      <th>2004-02-29</th>\n",
       "      <td>11.17961</td>\n",
       "      <td>34</td>\n",
       "      <td>1</td>\n",
       "      <td>27.000000</td>\n",
       "    </tr>\n",
       "    <tr>\n",
       "      <th>2004-03-07</th>\n",
       "      <td>13.26736</td>\n",
       "      <td>22</td>\n",
       "      <td>1</td>\n",
       "      <td>30.000000</td>\n",
       "    </tr>\n",
       "  </tbody>\n",
       "</table>\n",
       "</div>"
      ],
      "text/plain": [
       "              tw9919  cold  flu  cold_mavg\n",
       "Date                                      \n",
       "2004-01-04  10.43874    32    1        NaN\n",
       "2004-01-11  10.37141    26    1        NaN\n",
       "2004-01-18  10.37141    17    1        NaN\n",
       "2004-01-25  10.37141    26    2  25.000000\n",
       "2004-02-01  10.91024    33    3  23.000000\n",
       "2004-02-08  10.97756    25    2  25.333333\n",
       "2004-02-15  11.24694    29    2  28.000000\n",
       "2004-02-22  11.31426    27    1  29.000000\n",
       "2004-02-29  11.17961    34    1  27.000000\n",
       "2004-03-07  13.26736    22    1  30.000000"
      ]
     },
     "execution_count": 8,
     "metadata": {},
     "output_type": "execute_result"
    }
   ],
   "source": [
    "data['cold_mavg'] = data.cold_mavg.shift(1)\n",
    "data.head(10)"
   ]
  },
  {
   "cell_type": "code",
   "execution_count": 9,
   "metadata": {
    "collapsed": false
   },
   "outputs": [
    {
     "name": "stderr",
     "output_type": "stream",
     "text": [
      "C:\\Users\\Student\\Anaconda2\\lib\\site-packages\\ipykernel\\__main__.py:1: SettingWithCopyWarning: \n",
      "A value is trying to be set on a copy of a slice from a DataFrame.\n",
      "Try using .loc[row_indexer,col_indexer] = value instead\n",
      "\n",
      "See the caveats in the documentation: http://pandas.pydata.org/pandas-docs/stable/indexing.html#indexing-view-versus-copy\n",
      "  if __name__ == '__main__':\n",
      "C:\\Users\\Student\\Anaconda2\\lib\\site-packages\\ipykernel\\__main__.py:3: SettingWithCopyWarning: \n",
      "A value is trying to be set on a copy of a slice from a DataFrame\n",
      "\n",
      "See the caveats in the documentation: http://pandas.pydata.org/pandas-docs/stable/indexing.html#indexing-view-versus-copy\n",
      "  app.launch_new_instance()\n",
      "C:\\Users\\Student\\Anaconda2\\lib\\site-packages\\pandas\\core\\generic.py:4485: SettingWithCopyWarning: \n",
      "A value is trying to be set on a copy of a slice from a DataFrame\n",
      "\n",
      "See the caveats in the documentation: http://pandas.pydata.org/pandas-docs/stable/indexing.html#indexing-view-versus-copy\n",
      "  self._update_inplace(new_data)\n",
      "C:\\Users\\Student\\Anaconda2\\lib\\site-packages\\IPython\\core\\interactiveshell.py:2885: SettingWithCopyWarning: \n",
      "A value is trying to be set on a copy of a slice from a DataFrame\n",
      "\n",
      "See the caveats in the documentation: http://pandas.pydata.org/pandas-docs/stable/indexing.html#indexing-view-versus-copy\n",
      "  exec(code_obj, self.user_global_ns, self.user_ns)\n",
      "C:\\Users\\Student\\Anaconda2\\lib\\site-packages\\ipykernel\\__main__.py:5: SettingWithCopyWarning: \n",
      "A value is trying to be set on a copy of a slice from a DataFrame\n",
      "\n",
      "See the caveats in the documentation: http://pandas.pydata.org/pandas-docs/stable/indexing.html#indexing-view-versus-copy\n"
     ]
    },
    {
     "data": {
      "text/html": [
       "<div>\n",
       "<table border=\"1\" class=\"dataframe\">\n",
       "  <thead>\n",
       "    <tr style=\"text-align: right;\">\n",
       "      <th></th>\n",
       "      <th>tw9919</th>\n",
       "      <th>cold</th>\n",
       "      <th>flu</th>\n",
       "      <th>cold_mavg</th>\n",
       "      <th>order</th>\n",
       "    </tr>\n",
       "    <tr>\n",
       "      <th>Date</th>\n",
       "      <th></th>\n",
       "      <th></th>\n",
       "      <th></th>\n",
       "      <th></th>\n",
       "      <th></th>\n",
       "    </tr>\n",
       "  </thead>\n",
       "  <tbody>\n",
       "    <tr>\n",
       "      <th>2004-01-04</th>\n",
       "      <td>10.43874</td>\n",
       "      <td>32</td>\n",
       "      <td>1</td>\n",
       "      <td>NaN</td>\n",
       "      <td>0</td>\n",
       "    </tr>\n",
       "    <tr>\n",
       "      <th>2004-01-11</th>\n",
       "      <td>10.37141</td>\n",
       "      <td>26</td>\n",
       "      <td>1</td>\n",
       "      <td>NaN</td>\n",
       "      <td>0</td>\n",
       "    </tr>\n",
       "    <tr>\n",
       "      <th>2004-01-18</th>\n",
       "      <td>10.37141</td>\n",
       "      <td>17</td>\n",
       "      <td>1</td>\n",
       "      <td>NaN</td>\n",
       "      <td>0</td>\n",
       "    </tr>\n",
       "    <tr>\n",
       "      <th>2004-01-25</th>\n",
       "      <td>10.37141</td>\n",
       "      <td>26</td>\n",
       "      <td>2</td>\n",
       "      <td>25.000000</td>\n",
       "      <td>1</td>\n",
       "    </tr>\n",
       "    <tr>\n",
       "      <th>2004-02-01</th>\n",
       "      <td>10.91024</td>\n",
       "      <td>33</td>\n",
       "      <td>3</td>\n",
       "      <td>23.000000</td>\n",
       "      <td>1</td>\n",
       "    </tr>\n",
       "    <tr>\n",
       "      <th>2004-02-08</th>\n",
       "      <td>10.97756</td>\n",
       "      <td>25</td>\n",
       "      <td>2</td>\n",
       "      <td>25.333333</td>\n",
       "      <td>-1</td>\n",
       "    </tr>\n",
       "    <tr>\n",
       "      <th>2004-02-15</th>\n",
       "      <td>11.24694</td>\n",
       "      <td>29</td>\n",
       "      <td>2</td>\n",
       "      <td>28.000000</td>\n",
       "      <td>1</td>\n",
       "    </tr>\n",
       "    <tr>\n",
       "      <th>2004-02-22</th>\n",
       "      <td>11.31426</td>\n",
       "      <td>27</td>\n",
       "      <td>1</td>\n",
       "      <td>29.000000</td>\n",
       "      <td>-1</td>\n",
       "    </tr>\n",
       "    <tr>\n",
       "      <th>2004-02-29</th>\n",
       "      <td>11.17961</td>\n",
       "      <td>34</td>\n",
       "      <td>1</td>\n",
       "      <td>27.000000</td>\n",
       "      <td>1</td>\n",
       "    </tr>\n",
       "    <tr>\n",
       "      <th>2004-03-07</th>\n",
       "      <td>13.26736</td>\n",
       "      <td>22</td>\n",
       "      <td>1</td>\n",
       "      <td>30.000000</td>\n",
       "      <td>-1</td>\n",
       "    </tr>\n",
       "  </tbody>\n",
       "</table>\n",
       "</div>"
      ],
      "text/plain": [
       "              tw9919  cold  flu  cold_mavg  order\n",
       "Date                                             \n",
       "2004-01-04  10.43874    32    1        NaN      0\n",
       "2004-01-11  10.37141    26    1        NaN      0\n",
       "2004-01-18  10.37141    17    1        NaN      0\n",
       "2004-01-25  10.37141    26    2  25.000000      1\n",
       "2004-02-01  10.91024    33    3  23.000000      1\n",
       "2004-02-08  10.97756    25    2  25.333333     -1\n",
       "2004-02-15  11.24694    29    2  28.000000      1\n",
       "2004-02-22  11.31426    27    1  29.000000     -1\n",
       "2004-02-29  11.17961    34    1  27.000000      1\n",
       "2004-03-07  13.26736    22    1  30.000000     -1"
      ]
     },
     "execution_count": 9,
     "metadata": {},
     "output_type": "execute_result"
    }
   ],
   "source": [
    "data['order'] = 0\n",
    "# 黃金交叉做多\n",
    "data['order'][data.cold > data.cold_mavg] = 1 \n",
    "# 死亡交叉做空\n",
    "data['order'][data.cold < data.cold_mavg] = -1\n",
    "data.head(10)"
   ]
  },
  {
   "cell_type": "markdown",
   "metadata": {
    "collapsed": true
   },
   "source": [
    "## 計算9919報酬"
   ]
  },
  {
   "cell_type": "code",
   "execution_count": 10,
   "metadata": {
    "collapsed": false
   },
   "outputs": [
    {
     "name": "stderr",
     "output_type": "stream",
     "text": [
      "C:\\Users\\Student\\Anaconda2\\lib\\site-packages\\ipykernel\\__main__.py:1: SettingWithCopyWarning: \n",
      "A value is trying to be set on a copy of a slice from a DataFrame.\n",
      "Try using .loc[row_indexer,col_indexer] = value instead\n",
      "\n",
      "See the caveats in the documentation: http://pandas.pydata.org/pandas-docs/stable/indexing.html#indexing-view-versus-copy\n",
      "  if __name__ == '__main__':\n"
     ]
    },
    {
     "data": {
      "text/html": [
       "<div>\n",
       "<table border=\"1\" class=\"dataframe\">\n",
       "  <thead>\n",
       "    <tr style=\"text-align: right;\">\n",
       "      <th></th>\n",
       "      <th>tw9919</th>\n",
       "      <th>cold</th>\n",
       "      <th>flu</th>\n",
       "      <th>cold_mavg</th>\n",
       "      <th>order</th>\n",
       "      <th>ret_tw9919</th>\n",
       "    </tr>\n",
       "    <tr>\n",
       "      <th>Date</th>\n",
       "      <th></th>\n",
       "      <th></th>\n",
       "      <th></th>\n",
       "      <th></th>\n",
       "      <th></th>\n",
       "      <th></th>\n",
       "    </tr>\n",
       "  </thead>\n",
       "  <tbody>\n",
       "    <tr>\n",
       "      <th>2004-01-04</th>\n",
       "      <td>10.43874</td>\n",
       "      <td>32</td>\n",
       "      <td>1</td>\n",
       "      <td>NaN</td>\n",
       "      <td>0</td>\n",
       "      <td>NaN</td>\n",
       "    </tr>\n",
       "    <tr>\n",
       "      <th>2004-01-11</th>\n",
       "      <td>10.37141</td>\n",
       "      <td>26</td>\n",
       "      <td>1</td>\n",
       "      <td>NaN</td>\n",
       "      <td>0</td>\n",
       "      <td>-0.006450</td>\n",
       "    </tr>\n",
       "    <tr>\n",
       "      <th>2004-01-18</th>\n",
       "      <td>10.37141</td>\n",
       "      <td>17</td>\n",
       "      <td>1</td>\n",
       "      <td>NaN</td>\n",
       "      <td>0</td>\n",
       "      <td>0.000000</td>\n",
       "    </tr>\n",
       "    <tr>\n",
       "      <th>2004-01-25</th>\n",
       "      <td>10.37141</td>\n",
       "      <td>26</td>\n",
       "      <td>2</td>\n",
       "      <td>25.0</td>\n",
       "      <td>1</td>\n",
       "      <td>0.000000</td>\n",
       "    </tr>\n",
       "    <tr>\n",
       "      <th>2004-02-01</th>\n",
       "      <td>10.91024</td>\n",
       "      <td>33</td>\n",
       "      <td>3</td>\n",
       "      <td>23.0</td>\n",
       "      <td>1</td>\n",
       "      <td>0.051953</td>\n",
       "    </tr>\n",
       "  </tbody>\n",
       "</table>\n",
       "</div>"
      ],
      "text/plain": [
       "              tw9919  cold  flu  cold_mavg  order  ret_tw9919\n",
       "Date                                                         \n",
       "2004-01-04  10.43874    32    1        NaN      0         NaN\n",
       "2004-01-11  10.37141    26    1        NaN      0   -0.006450\n",
       "2004-01-18  10.37141    17    1        NaN      0    0.000000\n",
       "2004-01-25  10.37141    26    2       25.0      1    0.000000\n",
       "2004-02-01  10.91024    33    3       23.0      1    0.051953"
      ]
     },
     "execution_count": 10,
     "metadata": {},
     "output_type": "execute_result"
    }
   ],
   "source": [
    "data['ret_tw9919'] = data.tw9919.pct_change()\n",
    "data.head()"
   ]
  },
  {
   "cell_type": "code",
   "execution_count": 11,
   "metadata": {
    "collapsed": false
   },
   "outputs": [
    {
     "name": "stderr",
     "output_type": "stream",
     "text": [
      "C:\\Users\\Student\\Anaconda2\\lib\\site-packages\\ipykernel\\__main__.py:1: SettingWithCopyWarning: \n",
      "A value is trying to be set on a copy of a slice from a DataFrame.\n",
      "Try using .loc[row_indexer,col_indexer] = value instead\n",
      "\n",
      "See the caveats in the documentation: http://pandas.pydata.org/pandas-docs/stable/indexing.html#indexing-view-versus-copy\n",
      "  if __name__ == '__main__':\n"
     ]
    }
   ],
   "source": [
    "data['ret_tw9919'] = data['ret_tw9919'].shift(-1)"
   ]
  },
  {
   "cell_type": "code",
   "execution_count": 12,
   "metadata": {
    "collapsed": false
   },
   "outputs": [
    {
     "name": "stderr",
     "output_type": "stream",
     "text": [
      "C:\\Users\\Student\\Anaconda2\\lib\\site-packages\\ipykernel\\__main__.py:1: SettingWithCopyWarning: \n",
      "A value is trying to be set on a copy of a slice from a DataFrame.\n",
      "Try using .loc[row_indexer,col_indexer] = value instead\n",
      "\n",
      "See the caveats in the documentation: http://pandas.pydata.org/pandas-docs/stable/indexing.html#indexing-view-versus-copy\n",
      "  if __name__ == '__main__':\n"
     ]
    },
    {
     "data": {
      "text/html": [
       "<div>\n",
       "<table border=\"1\" class=\"dataframe\">\n",
       "  <thead>\n",
       "    <tr style=\"text-align: right;\">\n",
       "      <th></th>\n",
       "      <th>tw9919</th>\n",
       "      <th>cold</th>\n",
       "      <th>flu</th>\n",
       "      <th>cold_mavg</th>\n",
       "      <th>order</th>\n",
       "      <th>ret_tw9919</th>\n",
       "      <th>ret_google</th>\n",
       "    </tr>\n",
       "    <tr>\n",
       "      <th>Date</th>\n",
       "      <th></th>\n",
       "      <th></th>\n",
       "      <th></th>\n",
       "      <th></th>\n",
       "      <th></th>\n",
       "      <th></th>\n",
       "      <th></th>\n",
       "    </tr>\n",
       "  </thead>\n",
       "  <tbody>\n",
       "    <tr>\n",
       "      <th>2004-01-04</th>\n",
       "      <td>10.43874</td>\n",
       "      <td>32</td>\n",
       "      <td>1</td>\n",
       "      <td>NaN</td>\n",
       "      <td>0</td>\n",
       "      <td>-0.006450</td>\n",
       "      <td>-0.000000</td>\n",
       "    </tr>\n",
       "    <tr>\n",
       "      <th>2004-01-11</th>\n",
       "      <td>10.37141</td>\n",
       "      <td>26</td>\n",
       "      <td>1</td>\n",
       "      <td>NaN</td>\n",
       "      <td>0</td>\n",
       "      <td>0.000000</td>\n",
       "      <td>0.000000</td>\n",
       "    </tr>\n",
       "    <tr>\n",
       "      <th>2004-01-18</th>\n",
       "      <td>10.37141</td>\n",
       "      <td>17</td>\n",
       "      <td>1</td>\n",
       "      <td>NaN</td>\n",
       "      <td>0</td>\n",
       "      <td>0.000000</td>\n",
       "      <td>0.000000</td>\n",
       "    </tr>\n",
       "    <tr>\n",
       "      <th>2004-01-25</th>\n",
       "      <td>10.37141</td>\n",
       "      <td>26</td>\n",
       "      <td>2</td>\n",
       "      <td>25.000000</td>\n",
       "      <td>1</td>\n",
       "      <td>0.051953</td>\n",
       "      <td>0.051953</td>\n",
       "    </tr>\n",
       "    <tr>\n",
       "      <th>2004-02-01</th>\n",
       "      <td>10.91024</td>\n",
       "      <td>33</td>\n",
       "      <td>3</td>\n",
       "      <td>23.000000</td>\n",
       "      <td>1</td>\n",
       "      <td>0.006170</td>\n",
       "      <td>0.006170</td>\n",
       "    </tr>\n",
       "    <tr>\n",
       "      <th>2004-02-08</th>\n",
       "      <td>10.97756</td>\n",
       "      <td>25</td>\n",
       "      <td>2</td>\n",
       "      <td>25.333333</td>\n",
       "      <td>-1</td>\n",
       "      <td>0.024539</td>\n",
       "      <td>-0.024539</td>\n",
       "    </tr>\n",
       "    <tr>\n",
       "      <th>2004-02-15</th>\n",
       "      <td>11.24694</td>\n",
       "      <td>29</td>\n",
       "      <td>2</td>\n",
       "      <td>28.000000</td>\n",
       "      <td>1</td>\n",
       "      <td>0.005986</td>\n",
       "      <td>0.005986</td>\n",
       "    </tr>\n",
       "    <tr>\n",
       "      <th>2004-02-22</th>\n",
       "      <td>11.31426</td>\n",
       "      <td>27</td>\n",
       "      <td>1</td>\n",
       "      <td>29.000000</td>\n",
       "      <td>-1</td>\n",
       "      <td>-0.011901</td>\n",
       "      <td>0.011901</td>\n",
       "    </tr>\n",
       "    <tr>\n",
       "      <th>2004-02-29</th>\n",
       "      <td>11.17961</td>\n",
       "      <td>34</td>\n",
       "      <td>1</td>\n",
       "      <td>27.000000</td>\n",
       "      <td>1</td>\n",
       "      <td>0.186746</td>\n",
       "      <td>0.186746</td>\n",
       "    </tr>\n",
       "    <tr>\n",
       "      <th>2004-03-07</th>\n",
       "      <td>13.26736</td>\n",
       "      <td>22</td>\n",
       "      <td>1</td>\n",
       "      <td>30.000000</td>\n",
       "      <td>-1</td>\n",
       "      <td>0.005075</td>\n",
       "      <td>-0.005075</td>\n",
       "    </tr>\n",
       "  </tbody>\n",
       "</table>\n",
       "</div>"
      ],
      "text/plain": [
       "              tw9919  cold  flu  cold_mavg  order  ret_tw9919  ret_google\n",
       "Date                                                                     \n",
       "2004-01-04  10.43874    32    1        NaN      0   -0.006450   -0.000000\n",
       "2004-01-11  10.37141    26    1        NaN      0    0.000000    0.000000\n",
       "2004-01-18  10.37141    17    1        NaN      0    0.000000    0.000000\n",
       "2004-01-25  10.37141    26    2  25.000000      1    0.051953    0.051953\n",
       "2004-02-01  10.91024    33    3  23.000000      1    0.006170    0.006170\n",
       "2004-02-08  10.97756    25    2  25.333333     -1    0.024539   -0.024539\n",
       "2004-02-15  11.24694    29    2  28.000000      1    0.005986    0.005986\n",
       "2004-02-22  11.31426    27    1  29.000000     -1   -0.011901    0.011901\n",
       "2004-02-29  11.17961    34    1  27.000000      1    0.186746    0.186746\n",
       "2004-03-07  13.26736    22    1  30.000000     -1    0.005075   -0.005075"
      ]
     },
     "execution_count": 12,
     "metadata": {},
     "output_type": "execute_result"
    }
   ],
   "source": [
    "data['ret_google'] = data.order * data.ret_tw9919\n",
    "data.head(10)"
   ]
  },
  {
   "cell_type": "markdown",
   "metadata": {},
   "source": [
    "## 觀察資金變化"
   ]
  },
  {
   "cell_type": "code",
   "execution_count": 15,
   "metadata": {
    "collapsed": false
   },
   "outputs": [
    {
     "data": {
      "image/png": "[encoded data removed]",
      "text/plain": [
       "<matplotlib.figure.Figure at 0xaba3208>"
      ]
     },
     "metadata": {},
     "output_type": "display_data"
    }
   ],
   "source": [
    "(1 + data.ret_google).cumprod().plot();\n",
    "(1 + data.ret_tw9919).cumprod().plot();"
   ]
  }
 ],
 "metadata": {
  "kernelspec": {
   "display_name": "Python [Root]",
   "language": "python",
   "name": "Python [Root]"
  },
  "language_info": {
   "codemirror_mode": {
    "name": "ipython",
    "version": 2
   },
   "file_extension": ".py",
   "mimetype": "text/x-python",
   "name": "python",
   "nbconvert_exporter": "python",
   "pygments_lexer": "ipython2",
   "version": "2.7.12"
  }
 },
 "nbformat": 4,
 "nbformat_minor": 0
}
