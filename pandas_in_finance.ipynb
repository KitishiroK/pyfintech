{
 "cells": [
  {
   "cell_type": "markdown",
   "metadata": {},
   "source": [
    "## 讀取Google Trend 資料"
   ]
  },
  {
   "cell_type": "code",
   "execution_count": 2,
   "metadata": {
    "collapsed": false
   },
   "outputs": [
    {
     "data": {
      "text/html": [
       "<div>\n",
       "<table border=\"1\" class=\"dataframe\">\n",
       "  <thead>\n",
       "    <tr style=\"text-align: right;\">\n",
       "      <th></th>\n",
       "      <th>djia</th>\n",
       "      <th>debt</th>\n",
       "    </tr>\n",
       "    <tr>\n",
       "      <th>Date</th>\n",
       "      <th></th>\n",
       "      <th></th>\n",
       "    </tr>\n",
       "  </thead>\n",
       "  <tbody>\n",
       "    <tr>\n",
       "      <th>2004-01-14</th>\n",
       "      <td>10485.18</td>\n",
       "      <td>0.210000</td>\n",
       "    </tr>\n",
       "    <tr>\n",
       "      <th>2004-01-22</th>\n",
       "      <td>10528.66</td>\n",
       "      <td>0.210000</td>\n",
       "    </tr>\n",
       "    <tr>\n",
       "      <th>2004-01-28</th>\n",
       "      <td>10702.51</td>\n",
       "      <td>0.210000</td>\n",
       "    </tr>\n",
       "    <tr>\n",
       "      <th>2004-02-04</th>\n",
       "      <td>10499.18</td>\n",
       "      <td>0.213333</td>\n",
       "    </tr>\n",
       "    <tr>\n",
       "      <th>2004-02-11</th>\n",
       "      <td>10579.03</td>\n",
       "      <td>0.200000</td>\n",
       "    </tr>\n",
       "  </tbody>\n",
       "</table>\n",
       "</div>"
      ],
      "text/plain": [
       "                djia      debt\n",
       "Date                          \n",
       "2004-01-14  10485.18  0.210000\n",
       "2004-01-22  10528.66  0.210000\n",
       "2004-01-28  10702.51  0.210000\n",
       "2004-02-04  10499.18  0.213333\n",
       "2004-02-11  10579.03  0.200000"
      ]
     },
     "execution_count": 2,
     "metadata": {},
     "output_type": "execute_result"
    }
   ],
   "source": [
    "import pandas as pd\n",
    "data = pd.read_csv('data/GoogleTrendsData.csv', index_col='Date', parse_dates=True)\n",
    "data.head()"
   ]
  },
  {
   "cell_type": "markdown",
   "metadata": {},
   "source": [
    "## 繪製GoogleTrend 與股價的關係"
   ]
  },
  {
   "cell_type": "code",
   "execution_count": 4,
   "metadata": {
    "collapsed": false
   },
   "outputs": [
    {
     "name": "stdout",
     "output_type": "stream",
     "text": [
      "Populating the interactive namespace from numpy and matplotlib\n"
     ]
    },
    {
     "data": {
      "text/plain": [
       "array([<matplotlib.axes._subplots.AxesSubplot object at 0x0000000003B9D518>,\n",
       "       <matplotlib.axes._subplots.AxesSubplot object at 0x000000000D351390>], dtype=object)"
      ]
     },
     "execution_count": 4,
     "metadata": {},
     "output_type": "execute_result"
    },
    {
     "data": {
      "image/png": "[encoded data removed]",
      "text/plain": [
       "<matplotlib.figure.Figure at 0xc4b4978>"
      ]
     },
     "metadata": {},
     "output_type": "display_data"
    }
   ],
   "source": [
    "%pylab inline \n",
    "data.plot(subplots=True)"
   ]
  },
  {
   "cell_type": "markdown",
   "metadata": {},
   "source": [
    "## 算出Search Word 三週的移動平均"
   ]
  },
  {
   "cell_type": "code",
   "execution_count": 5,
   "metadata": {
    "collapsed": false
   },
   "outputs": [
    {
     "data": {
      "text/html": [
       "<div>\n",
       "<table border=\"1\" class=\"dataframe\">\n",
       "  <thead>\n",
       "    <tr style=\"text-align: right;\">\n",
       "      <th></th>\n",
       "      <th>djia</th>\n",
       "      <th>debt</th>\n",
       "      <th>debt_mavg</th>\n",
       "    </tr>\n",
       "    <tr>\n",
       "      <th>Date</th>\n",
       "      <th></th>\n",
       "      <th></th>\n",
       "      <th></th>\n",
       "    </tr>\n",
       "  </thead>\n",
       "  <tbody>\n",
       "    <tr>\n",
       "      <th>2004-01-14</th>\n",
       "      <td>10485.18</td>\n",
       "      <td>0.210000</td>\n",
       "      <td>NaN</td>\n",
       "    </tr>\n",
       "    <tr>\n",
       "      <th>2004-01-22</th>\n",
       "      <td>10528.66</td>\n",
       "      <td>0.210000</td>\n",
       "      <td>NaN</td>\n",
       "    </tr>\n",
       "    <tr>\n",
       "      <th>2004-01-28</th>\n",
       "      <td>10702.51</td>\n",
       "      <td>0.210000</td>\n",
       "      <td>0.210000</td>\n",
       "    </tr>\n",
       "    <tr>\n",
       "      <th>2004-02-04</th>\n",
       "      <td>10499.18</td>\n",
       "      <td>0.213333</td>\n",
       "      <td>0.211111</td>\n",
       "    </tr>\n",
       "    <tr>\n",
       "      <th>2004-02-11</th>\n",
       "      <td>10579.03</td>\n",
       "      <td>0.200000</td>\n",
       "      <td>0.207778</td>\n",
       "    </tr>\n",
       "  </tbody>\n",
       "</table>\n",
       "</div>"
      ],
      "text/plain": [
       "                djia      debt  debt_mavg\n",
       "Date                                     \n",
       "2004-01-14  10485.18  0.210000        NaN\n",
       "2004-01-22  10528.66  0.210000        NaN\n",
       "2004-01-28  10702.51  0.210000   0.210000\n",
       "2004-02-04  10499.18  0.213333   0.211111\n",
       "2004-02-11  10579.03  0.200000   0.207778"
      ]
     },
     "execution_count": 5,
     "metadata": {},
     "output_type": "execute_result"
    }
   ],
   "source": [
    "data['debt_mavg'] = pd.rolling_mean(data.debt, 3)\n",
    "data.head()"
   ]
  },
  {
   "cell_type": "markdown",
   "metadata": {},
   "source": [
    "## 將三週平均資料平移一天"
   ]
  },
  {
   "cell_type": "code",
   "execution_count": 7,
   "metadata": {
    "collapsed": false
   },
   "outputs": [
    {
     "data": {
      "text/html": [
       "<div>\n",
       "<table border=\"1\" class=\"dataframe\">\n",
       "  <thead>\n",
       "    <tr style=\"text-align: right;\">\n",
       "      <th></th>\n",
       "      <th>djia</th>\n",
       "      <th>debt</th>\n",
       "      <th>debt_mavg</th>\n",
       "    </tr>\n",
       "    <tr>\n",
       "      <th>Date</th>\n",
       "      <th></th>\n",
       "      <th></th>\n",
       "      <th></th>\n",
       "    </tr>\n",
       "  </thead>\n",
       "  <tbody>\n",
       "    <tr>\n",
       "      <th>2004-01-14</th>\n",
       "      <td>10485.18</td>\n",
       "      <td>0.210000</td>\n",
       "      <td>NaN</td>\n",
       "    </tr>\n",
       "    <tr>\n",
       "      <th>2004-01-22</th>\n",
       "      <td>10528.66</td>\n",
       "      <td>0.210000</td>\n",
       "      <td>NaN</td>\n",
       "    </tr>\n",
       "    <tr>\n",
       "      <th>2004-01-28</th>\n",
       "      <td>10702.51</td>\n",
       "      <td>0.210000</td>\n",
       "      <td>NaN</td>\n",
       "    </tr>\n",
       "    <tr>\n",
       "      <th>2004-02-04</th>\n",
       "      <td>10499.18</td>\n",
       "      <td>0.213333</td>\n",
       "      <td>NaN</td>\n",
       "    </tr>\n",
       "    <tr>\n",
       "      <th>2004-02-11</th>\n",
       "      <td>10579.03</td>\n",
       "      <td>0.200000</td>\n",
       "      <td>0.210000</td>\n",
       "    </tr>\n",
       "    <tr>\n",
       "      <th>2004-02-19</th>\n",
       "      <td>10714.88</td>\n",
       "      <td>0.203333</td>\n",
       "      <td>0.211111</td>\n",
       "    </tr>\n",
       "    <tr>\n",
       "      <th>2004-02-25</th>\n",
       "      <td>10609.62</td>\n",
       "      <td>0.200000</td>\n",
       "      <td>0.207778</td>\n",
       "    </tr>\n",
       "    <tr>\n",
       "      <th>2004-03-03</th>\n",
       "      <td>10678.14</td>\n",
       "      <td>0.200000</td>\n",
       "      <td>0.205555</td>\n",
       "    </tr>\n",
       "    <tr>\n",
       "      <th>2004-03-10</th>\n",
       "      <td>10529.48</td>\n",
       "      <td>0.196667</td>\n",
       "      <td>0.201111</td>\n",
       "    </tr>\n",
       "    <tr>\n",
       "      <th>2004-03-17</th>\n",
       "      <td>10102.89</td>\n",
       "      <td>0.196667</td>\n",
       "      <td>0.201111</td>\n",
       "    </tr>\n",
       "  </tbody>\n",
       "</table>\n",
       "</div>"
      ],
      "text/plain": [
       "                djia      debt  debt_mavg\n",
       "Date                                     \n",
       "2004-01-14  10485.18  0.210000        NaN\n",
       "2004-01-22  10528.66  0.210000        NaN\n",
       "2004-01-28  10702.51  0.210000        NaN\n",
       "2004-02-04  10499.18  0.213333        NaN\n",
       "2004-02-11  10579.03  0.200000   0.210000\n",
       "2004-02-19  10714.88  0.203333   0.211111\n",
       "2004-02-25  10609.62  0.200000   0.207778\n",
       "2004-03-03  10678.14  0.200000   0.205555\n",
       "2004-03-10  10529.48  0.196667   0.201111\n",
       "2004-03-17  10102.89  0.196667   0.201111"
      ]
     },
     "execution_count": 7,
     "metadata": {},
     "output_type": "execute_result"
    }
   ],
   "source": [
    "data['debt_mavg'] = data.debt_mavg.shift(1)\n",
    "data.head(10)"
   ]
  },
  {
   "cell_type": "markdown",
   "metadata": {},
   "source": [
    "## 設定買賣策略"
   ]
  },
  {
   "cell_type": "code",
   "execution_count": 8,
   "metadata": {
    "collapsed": false
   },
   "outputs": [
    {
     "name": "stderr",
     "output_type": "stream",
     "text": [
      "C:\\Anaconda2\\lib\\site-packages\\ipykernel\\__main__.py:3: SettingWithCopyWarning: \n",
      "A value is trying to be set on a copy of a slice from a DataFrame\n",
      "\n",
      "See the caveats in the documentation: http://pandas.pydata.org/pandas-docs/stable/indexing.html#indexing-view-versus-copy\n",
      "  app.launch_new_instance()\n",
      "C:\\Anaconda2\\lib\\site-packages\\ipykernel\\__main__.py:5: SettingWithCopyWarning: \n",
      "A value is trying to be set on a copy of a slice from a DataFrame\n",
      "\n",
      "See the caveats in the documentation: http://pandas.pydata.org/pandas-docs/stable/indexing.html#indexing-view-versus-copy\n"
     ]
    },
    {
     "data": {
      "text/html": [
       "<div>\n",
       "<table border=\"1\" class=\"dataframe\">\n",
       "  <thead>\n",
       "    <tr style=\"text-align: right;\">\n",
       "      <th></th>\n",
       "      <th>djia</th>\n",
       "      <th>debt</th>\n",
       "      <th>debt_mavg</th>\n",
       "      <th>order</th>\n",
       "    </tr>\n",
       "    <tr>\n",
       "      <th>Date</th>\n",
       "      <th></th>\n",
       "      <th></th>\n",
       "      <th></th>\n",
       "      <th></th>\n",
       "    </tr>\n",
       "  </thead>\n",
       "  <tbody>\n",
       "    <tr>\n",
       "      <th>2004-01-14</th>\n",
       "      <td>10485.18</td>\n",
       "      <td>0.210000</td>\n",
       "      <td>NaN</td>\n",
       "      <td>0</td>\n",
       "    </tr>\n",
       "    <tr>\n",
       "      <th>2004-01-22</th>\n",
       "      <td>10528.66</td>\n",
       "      <td>0.210000</td>\n",
       "      <td>NaN</td>\n",
       "      <td>0</td>\n",
       "    </tr>\n",
       "    <tr>\n",
       "      <th>2004-01-28</th>\n",
       "      <td>10702.51</td>\n",
       "      <td>0.210000</td>\n",
       "      <td>NaN</td>\n",
       "      <td>0</td>\n",
       "    </tr>\n",
       "    <tr>\n",
       "      <th>2004-02-04</th>\n",
       "      <td>10499.18</td>\n",
       "      <td>0.213333</td>\n",
       "      <td>NaN</td>\n",
       "      <td>0</td>\n",
       "    </tr>\n",
       "    <tr>\n",
       "      <th>2004-02-11</th>\n",
       "      <td>10579.03</td>\n",
       "      <td>0.200000</td>\n",
       "      <td>0.210000</td>\n",
       "      <td>1</td>\n",
       "    </tr>\n",
       "    <tr>\n",
       "      <th>2004-02-19</th>\n",
       "      <td>10714.88</td>\n",
       "      <td>0.203333</td>\n",
       "      <td>0.211111</td>\n",
       "      <td>1</td>\n",
       "    </tr>\n",
       "    <tr>\n",
       "      <th>2004-02-25</th>\n",
       "      <td>10609.62</td>\n",
       "      <td>0.200000</td>\n",
       "      <td>0.207778</td>\n",
       "      <td>1</td>\n",
       "    </tr>\n",
       "    <tr>\n",
       "      <th>2004-03-03</th>\n",
       "      <td>10678.14</td>\n",
       "      <td>0.200000</td>\n",
       "      <td>0.205555</td>\n",
       "      <td>1</td>\n",
       "    </tr>\n",
       "    <tr>\n",
       "      <th>2004-03-10</th>\n",
       "      <td>10529.48</td>\n",
       "      <td>0.196667</td>\n",
       "      <td>0.201111</td>\n",
       "      <td>1</td>\n",
       "    </tr>\n",
       "    <tr>\n",
       "      <th>2004-03-17</th>\n",
       "      <td>10102.89</td>\n",
       "      <td>0.196667</td>\n",
       "      <td>0.201111</td>\n",
       "      <td>1</td>\n",
       "    </tr>\n",
       "  </tbody>\n",
       "</table>\n",
       "</div>"
      ],
      "text/plain": [
       "                djia      debt  debt_mavg  order\n",
       "Date                                            \n",
       "2004-01-14  10485.18  0.210000        NaN      0\n",
       "2004-01-22  10528.66  0.210000        NaN      0\n",
       "2004-01-28  10702.51  0.210000        NaN      0\n",
       "2004-02-04  10499.18  0.213333        NaN      0\n",
       "2004-02-11  10579.03  0.200000   0.210000      1\n",
       "2004-02-19  10714.88  0.203333   0.211111      1\n",
       "2004-02-25  10609.62  0.200000   0.207778      1\n",
       "2004-03-03  10678.14  0.200000   0.205555      1\n",
       "2004-03-10  10529.48  0.196667   0.201111      1\n",
       "2004-03-17  10102.89  0.196667   0.201111      1"
      ]
     },
     "execution_count": 8,
     "metadata": {},
     "output_type": "execute_result"
    }
   ],
   "source": [
    "data['order'] = 0\n",
    "# 黃金交叉做多\n",
    "data['order'][data.debt > data.debt_mavg] = -1 \n",
    "# 死亡交叉做空\n",
    "data['order'][data.debt < data.debt_mavg] = 1\n",
    "data.head(10)"
   ]
  },
  {
   "cell_type": "markdown",
   "metadata": {},
   "source": [
    "## 計算道瓊報酬"
   ]
  },
  {
   "cell_type": "code",
   "execution_count": 9,
   "metadata": {
    "collapsed": false
   },
   "outputs": [
    {
     "data": {
      "text/html": [
       "<div>\n",
       "<table border=\"1\" class=\"dataframe\">\n",
       "  <thead>\n",
       "    <tr style=\"text-align: right;\">\n",
       "      <th></th>\n",
       "      <th>djia</th>\n",
       "      <th>debt</th>\n",
       "      <th>debt_mavg</th>\n",
       "      <th>order</th>\n",
       "      <th>ret_djia</th>\n",
       "    </tr>\n",
       "    <tr>\n",
       "      <th>Date</th>\n",
       "      <th></th>\n",
       "      <th></th>\n",
       "      <th></th>\n",
       "      <th></th>\n",
       "      <th></th>\n",
       "    </tr>\n",
       "  </thead>\n",
       "  <tbody>\n",
       "    <tr>\n",
       "      <th>2004-01-14</th>\n",
       "      <td>10485.18</td>\n",
       "      <td>0.210000</td>\n",
       "      <td>NaN</td>\n",
       "      <td>0</td>\n",
       "      <td>NaN</td>\n",
       "    </tr>\n",
       "    <tr>\n",
       "      <th>2004-01-22</th>\n",
       "      <td>10528.66</td>\n",
       "      <td>0.210000</td>\n",
       "      <td>NaN</td>\n",
       "      <td>0</td>\n",
       "      <td>0.004147</td>\n",
       "    </tr>\n",
       "    <tr>\n",
       "      <th>2004-01-28</th>\n",
       "      <td>10702.51</td>\n",
       "      <td>0.210000</td>\n",
       "      <td>NaN</td>\n",
       "      <td>0</td>\n",
       "      <td>0.016512</td>\n",
       "    </tr>\n",
       "    <tr>\n",
       "      <th>2004-02-04</th>\n",
       "      <td>10499.18</td>\n",
       "      <td>0.213333</td>\n",
       "      <td>NaN</td>\n",
       "      <td>0</td>\n",
       "      <td>-0.018998</td>\n",
       "    </tr>\n",
       "    <tr>\n",
       "      <th>2004-02-11</th>\n",
       "      <td>10579.03</td>\n",
       "      <td>0.200000</td>\n",
       "      <td>0.21</td>\n",
       "      <td>1</td>\n",
       "      <td>0.007605</td>\n",
       "    </tr>\n",
       "  </tbody>\n",
       "</table>\n",
       "</div>"
      ],
      "text/plain": [
       "                djia      debt  debt_mavg  order  ret_djia\n",
       "Date                                                      \n",
       "2004-01-14  10485.18  0.210000        NaN      0       NaN\n",
       "2004-01-22  10528.66  0.210000        NaN      0  0.004147\n",
       "2004-01-28  10702.51  0.210000        NaN      0  0.016512\n",
       "2004-02-04  10499.18  0.213333        NaN      0 -0.018998\n",
       "2004-02-11  10579.03  0.200000       0.21      1  0.007605"
      ]
     },
     "execution_count": 9,
     "metadata": {},
     "output_type": "execute_result"
    }
   ],
   "source": [
    "data['ret_djia'] = data.djia.pct_change()\n",
    "data.head()"
   ]
  },
  {
   "cell_type": "markdown",
   "metadata": {},
   "source": [
    "## 根據買賣日調整"
   ]
  },
  {
   "cell_type": "code",
   "execution_count": 10,
   "metadata": {
    "collapsed": true
   },
   "outputs": [],
   "source": [
    "data['ret_djia'] = data['ret_djia'].shift(-1)"
   ]
  },
  {
   "cell_type": "markdown",
   "metadata": {},
   "source": [
    "## 計算根據Search Term 買賣的報酬"
   ]
  },
  {
   "cell_type": "code",
   "execution_count": 11,
   "metadata": {
    "collapsed": false
   },
   "outputs": [
    {
     "data": {
      "text/html": [
       "<div>\n",
       "<table border=\"1\" class=\"dataframe\">\n",
       "  <thead>\n",
       "    <tr style=\"text-align: right;\">\n",
       "      <th></th>\n",
       "      <th>djia</th>\n",
       "      <th>debt</th>\n",
       "      <th>debt_mavg</th>\n",
       "      <th>order</th>\n",
       "      <th>ret_djia</th>\n",
       "      <th>ret_google</th>\n",
       "    </tr>\n",
       "    <tr>\n",
       "      <th>Date</th>\n",
       "      <th></th>\n",
       "      <th></th>\n",
       "      <th></th>\n",
       "      <th></th>\n",
       "      <th></th>\n",
       "      <th></th>\n",
       "    </tr>\n",
       "  </thead>\n",
       "  <tbody>\n",
       "    <tr>\n",
       "      <th>2004-01-14</th>\n",
       "      <td>10485.18</td>\n",
       "      <td>0.210000</td>\n",
       "      <td>NaN</td>\n",
       "      <td>0</td>\n",
       "      <td>0.004147</td>\n",
       "      <td>0.000000</td>\n",
       "    </tr>\n",
       "    <tr>\n",
       "      <th>2004-01-22</th>\n",
       "      <td>10528.66</td>\n",
       "      <td>0.210000</td>\n",
       "      <td>NaN</td>\n",
       "      <td>0</td>\n",
       "      <td>0.016512</td>\n",
       "      <td>0.000000</td>\n",
       "    </tr>\n",
       "    <tr>\n",
       "      <th>2004-01-28</th>\n",
       "      <td>10702.51</td>\n",
       "      <td>0.210000</td>\n",
       "      <td>NaN</td>\n",
       "      <td>0</td>\n",
       "      <td>-0.018998</td>\n",
       "      <td>-0.000000</td>\n",
       "    </tr>\n",
       "    <tr>\n",
       "      <th>2004-02-04</th>\n",
       "      <td>10499.18</td>\n",
       "      <td>0.213333</td>\n",
       "      <td>NaN</td>\n",
       "      <td>0</td>\n",
       "      <td>0.007605</td>\n",
       "      <td>0.000000</td>\n",
       "    </tr>\n",
       "    <tr>\n",
       "      <th>2004-02-11</th>\n",
       "      <td>10579.03</td>\n",
       "      <td>0.200000</td>\n",
       "      <td>0.210000</td>\n",
       "      <td>1</td>\n",
       "      <td>0.012841</td>\n",
       "      <td>0.012841</td>\n",
       "    </tr>\n",
       "    <tr>\n",
       "      <th>2004-02-19</th>\n",
       "      <td>10714.88</td>\n",
       "      <td>0.203333</td>\n",
       "      <td>0.211111</td>\n",
       "      <td>1</td>\n",
       "      <td>-0.009824</td>\n",
       "      <td>-0.009824</td>\n",
       "    </tr>\n",
       "    <tr>\n",
       "      <th>2004-02-25</th>\n",
       "      <td>10609.62</td>\n",
       "      <td>0.200000</td>\n",
       "      <td>0.207778</td>\n",
       "      <td>1</td>\n",
       "      <td>0.006458</td>\n",
       "      <td>0.006458</td>\n",
       "    </tr>\n",
       "    <tr>\n",
       "      <th>2004-03-03</th>\n",
       "      <td>10678.14</td>\n",
       "      <td>0.200000</td>\n",
       "      <td>0.205555</td>\n",
       "      <td>1</td>\n",
       "      <td>-0.013922</td>\n",
       "      <td>-0.013922</td>\n",
       "    </tr>\n",
       "    <tr>\n",
       "      <th>2004-03-10</th>\n",
       "      <td>10529.48</td>\n",
       "      <td>0.196667</td>\n",
       "      <td>0.201111</td>\n",
       "      <td>1</td>\n",
       "      <td>-0.040514</td>\n",
       "      <td>-0.040514</td>\n",
       "    </tr>\n",
       "    <tr>\n",
       "      <th>2004-03-17</th>\n",
       "      <td>10102.89</td>\n",
       "      <td>0.196667</td>\n",
       "      <td>0.201111</td>\n",
       "      <td>1</td>\n",
       "      <td>-0.003775</td>\n",
       "      <td>-0.003775</td>\n",
       "    </tr>\n",
       "  </tbody>\n",
       "</table>\n",
       "</div>"
      ],
      "text/plain": [
       "                djia      debt  debt_mavg  order  ret_djia  ret_google\n",
       "Date                                                                  \n",
       "2004-01-14  10485.18  0.210000        NaN      0  0.004147    0.000000\n",
       "2004-01-22  10528.66  0.210000        NaN      0  0.016512    0.000000\n",
       "2004-01-28  10702.51  0.210000        NaN      0 -0.018998   -0.000000\n",
       "2004-02-04  10499.18  0.213333        NaN      0  0.007605    0.000000\n",
       "2004-02-11  10579.03  0.200000   0.210000      1  0.012841    0.012841\n",
       "2004-02-19  10714.88  0.203333   0.211111      1 -0.009824   -0.009824\n",
       "2004-02-25  10609.62  0.200000   0.207778      1  0.006458    0.006458\n",
       "2004-03-03  10678.14  0.200000   0.205555      1 -0.013922   -0.013922\n",
       "2004-03-10  10529.48  0.196667   0.201111      1 -0.040514   -0.040514\n",
       "2004-03-17  10102.89  0.196667   0.201111      1 -0.003775   -0.003775"
      ]
     },
     "execution_count": 11,
     "metadata": {},
     "output_type": "execute_result"
    }
   ],
   "source": [
    "data['ret_google'] = data.order * data.ret_djia\n",
    "data.head(10)"
   ]
  },
  {
   "cell_type": "markdown",
   "metadata": {},
   "source": [
    "## 觀察資金變化"
   ]
  },
  {
   "cell_type": "code",
   "execution_count": 12,
   "metadata": {
    "collapsed": false
   },
   "outputs": [
    {
     "data": {
      "image/png": "[encoded data removed]",
      "text/plain": [
       "<matplotlib.figure.Figure at 0xc50a208>"
      ]
     },
     "metadata": {},
     "output_type": "display_data"
    }
   ],
   "source": [
    "(1 + data.ret_google).cumprod().plot();\n",
    "(1 + data.ret_djia).cumprod().plot();"
   ]
  },
  {
   "cell_type": "code",
   "execution_count": null,
   "metadata": {
    "collapsed": true
   },
   "outputs": [],
   "source": []
  }
 ],
 "metadata": {
  "kernelspec": {
   "display_name": "Python 2",
   "language": "python",
   "name": "python2"
  },
  "language_info": {
   "codemirror_mode": {
    "name": "ipython",
    "version": 2
   },
   "file_extension": ".py",
   "mimetype": "text/x-python",
   "name": "python",
   "nbconvert_exporter": "python",
   "pygments_lexer": "ipython2",
   "version": "2.7.12"
  }
 },
 "nbformat": 4,
 "nbformat_minor": 0
}
