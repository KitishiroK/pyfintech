{
 "cells": [
  {
   "cell_type": "markdown",
   "metadata": {},
   "source": [
    "## Pandas 基礎"
   ]
  },
  {
   "cell_type": "code",
   "execution_count": 1,
   "metadata": {
    "collapsed": false
   },
   "outputs": [
    {
     "name": "stderr",
     "output_type": "stream",
     "text": [
      "C:\\Anaconda2\\lib\\site-packages\\pandas\\io\\data.py:33: FutureWarning: \n",
      "The pandas.io.data module is moved to a separate package (pandas-datareader) and will be removed from pandas in a future version.\n",
      "After installing the pandas-datareader package (https://github.com/pydata/pandas-datareader), you can change the import ``from pandas.io import data, wb`` to ``from pandas_datareader import data, wb``.\n",
      "  FutureWarning)\n"
     ]
    },
    {
     "data": {
      "text/plain": [
       "u'0.17.1'"
      ]
     },
     "execution_count": 1,
     "metadata": {},
     "output_type": "execute_result"
    }
   ],
   "source": [
    "import datetime\n",
    "\n",
    "import pandas as pd\n",
    "import pandas.io.data\n",
    "from pandas import Series, DataFrame\n",
    "pd.__version__"
   ]
  },
  {
   "cell_type": "code",
   "execution_count": 26,
   "metadata": {
    "collapsed": false
   },
   "outputs": [
    {
     "name": "stdout",
     "output_type": "stream",
     "text": [
      "Populating the interactive namespace from numpy and matplotlib\n"
     ]
    },
    {
     "data": {
      "text/plain": [
       "'1.5.0'"
      ]
     },
     "execution_count": 26,
     "metadata": {},
     "output_type": "execute_result"
    }
   ],
   "source": [
    "%pylab inline\n",
    "import matplotlib.pyplot as plt\n",
    "import matplotlib as mpl\n",
    "mpl.rc('figure', figsize=(8, 7))\n",
    "mpl.__version__"
   ]
  },
  {
   "cell_type": "markdown",
   "metadata": {},
   "source": [
    "## 建立/讀取時間序列"
   ]
  },
  {
   "cell_type": "markdown",
   "metadata": {},
   "source": [
    "### 從Python 的資料結構"
   ]
  },
  {
   "cell_type": "code",
   "execution_count": 3,
   "metadata": {
    "collapsed": false
   },
   "outputs": [
    {
     "data": {
      "text/plain": [
       "a    1\n",
       "b    2\n",
       "c    3\n",
       "d    4\n",
       "e    5\n",
       "dtype: int64"
      ]
     },
     "execution_count": 3,
     "metadata": {},
     "output_type": "execute_result"
    }
   ],
   "source": [
    "labels = ['a', 'b', 'c', 'd', 'e']\n",
    "s = Series([1, 2, 3, 4, 5], index=labels)\n",
    "s"
   ]
  },
  {
   "cell_type": "code",
   "execution_count": 4,
   "metadata": {
    "collapsed": false
   },
   "outputs": [
    {
     "data": {
      "text/plain": [
       "True"
      ]
     },
     "execution_count": 4,
     "metadata": {},
     "output_type": "execute_result"
    }
   ],
   "source": [
    "'b' in s"
   ]
  },
  {
   "cell_type": "code",
   "execution_count": 5,
   "metadata": {
    "collapsed": false
   },
   "outputs": [
    {
     "data": {
      "text/plain": [
       "2"
      ]
     },
     "execution_count": 5,
     "metadata": {},
     "output_type": "execute_result"
    }
   ],
   "source": [
    "s['b']"
   ]
  },
  {
   "cell_type": "code",
   "execution_count": 6,
   "metadata": {
    "collapsed": false
   },
   "outputs": [
    {
     "data": {
      "text/plain": [
       "{'a': 1, 'b': 2, 'c': 3, 'd': 4, 'e': 5}"
      ]
     },
     "execution_count": 6,
     "metadata": {},
     "output_type": "execute_result"
    }
   ],
   "source": [
    "mapping = s.to_dict()\n",
    "mapping"
   ]
  },
  {
   "cell_type": "code",
   "execution_count": 7,
   "metadata": {
    "collapsed": false
   },
   "outputs": [
    {
     "data": {
      "text/plain": [
       "a    1\n",
       "b    2\n",
       "c    3\n",
       "d    4\n",
       "e    5\n",
       "dtype: int64"
      ]
     },
     "execution_count": 7,
     "metadata": {},
     "output_type": "execute_result"
    }
   ],
   "source": [
    "Series(mapping)"
   ]
  },
  {
   "cell_type": "markdown",
   "metadata": {},
   "source": [
    "### 從 Yahoo finance"
   ]
  },
  {
   "cell_type": "code",
   "execution_count": 8,
   "metadata": {
    "collapsed": false
   },
   "outputs": [
    {
     "data": {
      "text/html": [
       "<div>\n",
       "<table border=\"1\" class=\"dataframe\">\n",
       "  <thead>\n",
       "    <tr style=\"text-align: right;\">\n",
       "      <th></th>\n",
       "      <th>Open</th>\n",
       "      <th>High</th>\n",
       "      <th>Low</th>\n",
       "      <th>Close</th>\n",
       "      <th>Volume</th>\n",
       "      <th>Adj Close</th>\n",
       "    </tr>\n",
       "    <tr>\n",
       "      <th>Date</th>\n",
       "      <th></th>\n",
       "      <th></th>\n",
       "      <th></th>\n",
       "      <th></th>\n",
       "      <th></th>\n",
       "      <th></th>\n",
       "    </tr>\n",
       "  </thead>\n",
       "  <tbody>\n",
       "    <tr>\n",
       "      <th>2006-10-02</th>\n",
       "      <td>59.5025</td>\n",
       "      <td>60.1991</td>\n",
       "      <td>59.2040</td>\n",
       "      <td>59.9005</td>\n",
       "      <td>44461200</td>\n",
       "      <td>42.0934</td>\n",
       "    </tr>\n",
       "    <tr>\n",
       "      <th>2006-10-03</th>\n",
       "      <td>59.7015</td>\n",
       "      <td>60.0000</td>\n",
       "      <td>59.3035</td>\n",
       "      <td>59.7015</td>\n",
       "      <td>31307700</td>\n",
       "      <td>41.9536</td>\n",
       "    </tr>\n",
       "    <tr>\n",
       "      <th>2006-10-04</th>\n",
       "      <td>59.7015</td>\n",
       "      <td>59.7015</td>\n",
       "      <td>58.2090</td>\n",
       "      <td>58.2090</td>\n",
       "      <td>46544900</td>\n",
       "      <td>40.9047</td>\n",
       "    </tr>\n",
       "    <tr>\n",
       "      <th>2006-10-05</th>\n",
       "      <td>59.3035</td>\n",
       "      <td>60.4976</td>\n",
       "      <td>59.3035</td>\n",
       "      <td>60.3981</td>\n",
       "      <td>44810700</td>\n",
       "      <td>42.4430</td>\n",
       "    </tr>\n",
       "    <tr>\n",
       "      <th>2006-10-11</th>\n",
       "      <td>60.3981</td>\n",
       "      <td>60.5971</td>\n",
       "      <td>60.0995</td>\n",
       "      <td>60.2986</td>\n",
       "      <td>37896100</td>\n",
       "      <td>42.3731</td>\n",
       "    </tr>\n",
       "  </tbody>\n",
       "</table>\n",
       "</div>"
      ],
      "text/plain": [
       "               Open     High      Low    Close    Volume  Adj Close\n",
       "Date                                                               \n",
       "2006-10-02  59.5025  60.1991  59.2040  59.9005  44461200    42.0934\n",
       "2006-10-03  59.7015  60.0000  59.3035  59.7015  31307700    41.9536\n",
       "2006-10-04  59.7015  59.7015  58.2090  58.2090  46544900    40.9047\n",
       "2006-10-05  59.3035  60.4976  59.3035  60.3981  44810700    42.4430\n",
       "2006-10-11  60.3981  60.5971  60.0995  60.2986  37896100    42.3731"
      ]
     },
     "execution_count": 8,
     "metadata": {},
     "output_type": "execute_result"
    }
   ],
   "source": [
    "tw2330 = pd.io.data.get_data_yahoo('2330.TW', \n",
    "                                 start=datetime.datetime(2006, 10, 1), \n",
    "                                 end=datetime.datetime(2012, 1, 1))\n",
    "tw2330.head()"
   ]
  },
  {
   "cell_type": "markdown",
   "metadata": {},
   "source": [
    "## Series and DataFrame\n",
    "\n",
    "* Indexing\n",
    "* Slicing\n",
    "* Creating new columns"
   ]
  },
  {
   "cell_type": "code",
   "execution_count": 9,
   "metadata": {
    "collapsed": false
   },
   "outputs": [
    {
     "data": {
      "text/plain": [
       "Date\n",
       "2011-12-19    72.5\n",
       "2011-12-20    72.8\n",
       "2011-12-21    76.0\n",
       "2011-12-22    75.0\n",
       "2011-12-23    75.4\n",
       "2011-12-26    75.0\n",
       "2011-12-27    75.5\n",
       "2011-12-28    75.7\n",
       "2011-12-29    75.8\n",
       "2011-12-30    75.8\n",
       "Name: Close, dtype: float64"
      ]
     },
     "execution_count": 9,
     "metadata": {},
     "output_type": "execute_result"
    }
   ],
   "source": [
    "ts = tw2330['Close'][-10:]\n",
    "ts"
   ]
  },
  {
   "cell_type": "markdown",
   "metadata": {},
   "source": [
    "A DataFrame is a collection of Series objects. Slicing out a DataFrame column returns a Series."
   ]
  },
  {
   "cell_type": "code",
   "execution_count": 10,
   "metadata": {
    "collapsed": false
   },
   "outputs": [
    {
     "data": {
      "text/plain": [
       "pandas.core.series.Series"
      ]
     },
     "execution_count": 10,
     "metadata": {},
     "output_type": "execute_result"
    }
   ],
   "source": [
    "type(ts)"
   ]
  },
  {
   "cell_type": "code",
   "execution_count": 11,
   "metadata": {
    "collapsed": false
   },
   "outputs": [
    {
     "data": {
      "text/plain": [
       "Timestamp('2011-12-26 00:00:00')"
      ]
     },
     "execution_count": 11,
     "metadata": {},
     "output_type": "execute_result"
    }
   ],
   "source": [
    "date = ts.index[5]\n",
    "date"
   ]
  },
  {
   "cell_type": "code",
   "execution_count": 12,
   "metadata": {
    "collapsed": false
   },
   "outputs": [
    {
     "data": {
      "text/plain": [
       "75.0"
      ]
     },
     "execution_count": 12,
     "metadata": {},
     "output_type": "execute_result"
    }
   ],
   "source": [
    "ts[date]"
   ]
  },
  {
   "cell_type": "code",
   "execution_count": 13,
   "metadata": {
    "collapsed": false
   },
   "outputs": [
    {
     "data": {
      "text/plain": [
       "75.0"
      ]
     },
     "execution_count": 13,
     "metadata": {},
     "output_type": "execute_result"
    }
   ],
   "source": [
    "ts[5]"
   ]
  },
  {
   "cell_type": "markdown",
   "metadata": {},
   "source": [
    "### 選擇多個欄位"
   ]
  },
  {
   "cell_type": "code",
   "execution_count": 47,
   "metadata": {
    "collapsed": false
   },
   "outputs": [
    {
     "data": {
      "text/html": [
       "<div>\n",
       "<table border=\"1\" class=\"dataframe\">\n",
       "  <thead>\n",
       "    <tr style=\"text-align: right;\">\n",
       "      <th></th>\n",
       "      <th>Open</th>\n",
       "      <th>Close</th>\n",
       "    </tr>\n",
       "    <tr>\n",
       "      <th>Date</th>\n",
       "      <th></th>\n",
       "      <th></th>\n",
       "    </tr>\n",
       "  </thead>\n",
       "  <tbody>\n",
       "    <tr>\n",
       "      <th>2006-10-02</th>\n",
       "      <td>59.5025</td>\n",
       "      <td>59.9005</td>\n",
       "    </tr>\n",
       "    <tr>\n",
       "      <th>2006-10-03</th>\n",
       "      <td>59.7015</td>\n",
       "      <td>59.7015</td>\n",
       "    </tr>\n",
       "    <tr>\n",
       "      <th>2006-10-04</th>\n",
       "      <td>59.7015</td>\n",
       "      <td>58.2090</td>\n",
       "    </tr>\n",
       "    <tr>\n",
       "      <th>2006-10-05</th>\n",
       "      <td>59.3035</td>\n",
       "      <td>60.3981</td>\n",
       "    </tr>\n",
       "    <tr>\n",
       "      <th>2006-10-11</th>\n",
       "      <td>60.3981</td>\n",
       "      <td>60.2986</td>\n",
       "    </tr>\n",
       "  </tbody>\n",
       "</table>\n",
       "</div>"
      ],
      "text/plain": [
       "               Open    Close\n",
       "Date                        \n",
       "2006-10-02  59.5025  59.9005\n",
       "2006-10-03  59.7015  59.7015\n",
       "2006-10-04  59.7015  58.2090\n",
       "2006-10-05  59.3035  60.3981\n",
       "2006-10-11  60.3981  60.2986"
      ]
     },
     "execution_count": 47,
     "metadata": {},
     "output_type": "execute_result"
    }
   ],
   "source": [
    "tw2330[['Open', 'Close']].head()"
   ]
  },
  {
   "cell_type": "markdown",
   "metadata": {},
   "source": [
    "New columns can be added on the fly."
   ]
  },
  {
   "cell_type": "code",
   "execution_count": 48,
   "metadata": {
    "collapsed": false
   },
   "outputs": [
    {
     "data": {
      "text/html": [
       "<div>\n",
       "<table border=\"1\" class=\"dataframe\">\n",
       "  <thead>\n",
       "    <tr style=\"text-align: right;\">\n",
       "      <th></th>\n",
       "      <th>Open</th>\n",
       "      <th>High</th>\n",
       "      <th>Low</th>\n",
       "      <th>Close</th>\n",
       "      <th>Volume</th>\n",
       "      <th>Adj Close</th>\n",
       "      <th>diff</th>\n",
       "    </tr>\n",
       "    <tr>\n",
       "      <th>Date</th>\n",
       "      <th></th>\n",
       "      <th></th>\n",
       "      <th></th>\n",
       "      <th></th>\n",
       "      <th></th>\n",
       "      <th></th>\n",
       "      <th></th>\n",
       "    </tr>\n",
       "  </thead>\n",
       "  <tbody>\n",
       "    <tr>\n",
       "      <th>2006-10-02</th>\n",
       "      <td>59.5025</td>\n",
       "      <td>60.1991</td>\n",
       "      <td>59.2040</td>\n",
       "      <td>59.9005</td>\n",
       "      <td>44461200</td>\n",
       "      <td>42.0934</td>\n",
       "      <td>-0.3980</td>\n",
       "    </tr>\n",
       "    <tr>\n",
       "      <th>2006-10-03</th>\n",
       "      <td>59.7015</td>\n",
       "      <td>60.0000</td>\n",
       "      <td>59.3035</td>\n",
       "      <td>59.7015</td>\n",
       "      <td>31307700</td>\n",
       "      <td>41.9536</td>\n",
       "      <td>0.0000</td>\n",
       "    </tr>\n",
       "    <tr>\n",
       "      <th>2006-10-04</th>\n",
       "      <td>59.7015</td>\n",
       "      <td>59.7015</td>\n",
       "      <td>58.2090</td>\n",
       "      <td>58.2090</td>\n",
       "      <td>46544900</td>\n",
       "      <td>40.9047</td>\n",
       "      <td>1.4925</td>\n",
       "    </tr>\n",
       "    <tr>\n",
       "      <th>2006-10-05</th>\n",
       "      <td>59.3035</td>\n",
       "      <td>60.4976</td>\n",
       "      <td>59.3035</td>\n",
       "      <td>60.3981</td>\n",
       "      <td>44810700</td>\n",
       "      <td>42.4430</td>\n",
       "      <td>-1.0946</td>\n",
       "    </tr>\n",
       "    <tr>\n",
       "      <th>2006-10-11</th>\n",
       "      <td>60.3981</td>\n",
       "      <td>60.5971</td>\n",
       "      <td>60.0995</td>\n",
       "      <td>60.2986</td>\n",
       "      <td>37896100</td>\n",
       "      <td>42.3731</td>\n",
       "      <td>0.0995</td>\n",
       "    </tr>\n",
       "  </tbody>\n",
       "</table>\n",
       "</div>"
      ],
      "text/plain": [
       "               Open     High      Low    Close    Volume  Adj Close    diff\n",
       "Date                                                                       \n",
       "2006-10-02  59.5025  60.1991  59.2040  59.9005  44461200    42.0934 -0.3980\n",
       "2006-10-03  59.7015  60.0000  59.3035  59.7015  31307700    41.9536  0.0000\n",
       "2006-10-04  59.7015  59.7015  58.2090  58.2090  46544900    40.9047  1.4925\n",
       "2006-10-05  59.3035  60.4976  59.3035  60.3981  44810700    42.4430 -1.0946\n",
       "2006-10-11  60.3981  60.5971  60.0995  60.2986  37896100    42.3731  0.0995"
      ]
     },
     "execution_count": 48,
     "metadata": {},
     "output_type": "execute_result"
    }
   ],
   "source": [
    "tw2330['diff'] = tw2330.Open - tw2330.Close\n",
    "tw2330.head()"
   ]
  },
  {
   "cell_type": "markdown",
   "metadata": {},
   "source": [
    "### 刪除欄位"
   ]
  },
  {
   "cell_type": "code",
   "execution_count": 49,
   "metadata": {
    "collapsed": false
   },
   "outputs": [
    {
     "data": {
      "text/html": [
       "<div>\n",
       "<table border=\"1\" class=\"dataframe\">\n",
       "  <thead>\n",
       "    <tr style=\"text-align: right;\">\n",
       "      <th></th>\n",
       "      <th>Open</th>\n",
       "      <th>High</th>\n",
       "      <th>Low</th>\n",
       "      <th>Close</th>\n",
       "      <th>Volume</th>\n",
       "      <th>Adj Close</th>\n",
       "    </tr>\n",
       "    <tr>\n",
       "      <th>Date</th>\n",
       "      <th></th>\n",
       "      <th></th>\n",
       "      <th></th>\n",
       "      <th></th>\n",
       "      <th></th>\n",
       "      <th></th>\n",
       "    </tr>\n",
       "  </thead>\n",
       "  <tbody>\n",
       "    <tr>\n",
       "      <th>2006-10-02</th>\n",
       "      <td>59.5025</td>\n",
       "      <td>60.1991</td>\n",
       "      <td>59.2040</td>\n",
       "      <td>59.9005</td>\n",
       "      <td>44461200</td>\n",
       "      <td>42.0934</td>\n",
       "    </tr>\n",
       "    <tr>\n",
       "      <th>2006-10-03</th>\n",
       "      <td>59.7015</td>\n",
       "      <td>60.0000</td>\n",
       "      <td>59.3035</td>\n",
       "      <td>59.7015</td>\n",
       "      <td>31307700</td>\n",
       "      <td>41.9536</td>\n",
       "    </tr>\n",
       "    <tr>\n",
       "      <th>2006-10-04</th>\n",
       "      <td>59.7015</td>\n",
       "      <td>59.7015</td>\n",
       "      <td>58.2090</td>\n",
       "      <td>58.2090</td>\n",
       "      <td>46544900</td>\n",
       "      <td>40.9047</td>\n",
       "    </tr>\n",
       "    <tr>\n",
       "      <th>2006-10-05</th>\n",
       "      <td>59.3035</td>\n",
       "      <td>60.4976</td>\n",
       "      <td>59.3035</td>\n",
       "      <td>60.3981</td>\n",
       "      <td>44810700</td>\n",
       "      <td>42.4430</td>\n",
       "    </tr>\n",
       "    <tr>\n",
       "      <th>2006-10-11</th>\n",
       "      <td>60.3981</td>\n",
       "      <td>60.5971</td>\n",
       "      <td>60.0995</td>\n",
       "      <td>60.2986</td>\n",
       "      <td>37896100</td>\n",
       "      <td>42.3731</td>\n",
       "    </tr>\n",
       "  </tbody>\n",
       "</table>\n",
       "</div>"
      ],
      "text/plain": [
       "               Open     High      Low    Close    Volume  Adj Close\n",
       "Date                                                               \n",
       "2006-10-02  59.5025  60.1991  59.2040  59.9005  44461200    42.0934\n",
       "2006-10-03  59.7015  60.0000  59.3035  59.7015  31307700    41.9536\n",
       "2006-10-04  59.7015  59.7015  58.2090  58.2090  46544900    40.9047\n",
       "2006-10-05  59.3035  60.4976  59.3035  60.3981  44810700    42.4430\n",
       "2006-10-11  60.3981  60.5971  60.0995  60.2986  37896100    42.3731"
      ]
     },
     "execution_count": 49,
     "metadata": {},
     "output_type": "execute_result"
    }
   ],
   "source": [
    "del tw2330['diff']\n",
    "tw2330.head()"
   ]
  },
  {
   "cell_type": "markdown",
   "metadata": {},
   "source": [
    "## 常見金融計算\n",
    "\n",
    "* Moving Average\n",
    "* Returns"
   ]
  },
  {
   "cell_type": "code",
   "execution_count": 50,
   "metadata": {
    "collapsed": false
   },
   "outputs": [],
   "source": [
    "close_px = tw2330['Adj Close']"
   ]
  },
  {
   "cell_type": "code",
   "execution_count": 51,
   "metadata": {
    "collapsed": false
   },
   "outputs": [
    {
     "data": {
      "text/plain": [
       "Date\n",
       "2011-12-19    63.423700\n",
       "2011-12-20    63.451507\n",
       "2011-12-21    63.539210\n",
       "2011-12-22    63.605522\n",
       "2011-12-23    63.654720\n",
       "2011-12-26    63.684667\n",
       "2011-12-27    63.721032\n",
       "2011-12-28    63.759535\n",
       "2011-12-29    63.808735\n",
       "2011-12-30    63.834405\n",
       "Name: Adj Close, dtype: float64"
      ]
     },
     "execution_count": 51,
     "metadata": {},
     "output_type": "execute_result"
    }
   ],
   "source": [
    "mavg = pd.rolling_mean(close_px, 40)\n",
    "mavg[-10:]"
   ]
  },
  {
   "cell_type": "markdown",
   "metadata": {},
   "source": [
    "Returns defined as: \n",
    "$$ $$\n",
    "$$r_t = \\frac{p_t - p_{t-1}}{p_{t-1}} = \\frac{p_t}{p_{t-1}} - 1$$"
   ]
  },
  {
   "cell_type": "code",
   "execution_count": 52,
   "metadata": {
    "collapsed": false
   },
   "outputs": [
    {
     "data": {
      "text/plain": [
       "Date\n",
       "2006-10-02         NaN\n",
       "2006-10-03   -0.003321\n",
       "2006-10-04   -0.025001\n",
       "2006-10-05    0.037607\n",
       "2006-10-11   -0.001647\n",
       "Name: Adj Close, dtype: float64"
      ]
     },
     "execution_count": 52,
     "metadata": {},
     "output_type": "execute_result"
    }
   ],
   "source": [
    "rets = close_px / close_px.shift(1) - 1\n",
    "rets.head()"
   ]
  },
  {
   "cell_type": "markdown",
   "metadata": {},
   "source": [
    "Or alternatively `.pct_change()`."
   ]
  },
  {
   "cell_type": "code",
   "execution_count": 53,
   "metadata": {
    "collapsed": false
   },
   "outputs": [
    {
     "data": {
      "text/plain": [
       "Date\n",
       "2006-10-02         NaN\n",
       "2006-10-03   -0.003321\n",
       "2006-10-04   -0.025001\n",
       "2006-10-05    0.037607\n",
       "2006-10-11   -0.001647\n",
       "Name: Adj Close, dtype: float64"
      ]
     },
     "execution_count": 53,
     "metadata": {},
     "output_type": "execute_result"
    }
   ],
   "source": [
    "close_px.pct_change().head()"
   ]
  },
  {
   "cell_type": "markdown",
   "metadata": {},
   "source": [
    "## 資料視覺化"
   ]
  },
  {
   "cell_type": "code",
   "execution_count": 54,
   "metadata": {
    "collapsed": false
   },
   "outputs": [
    {
     "data": {
      "text/plain": [
       "<matplotlib.legend.Legend at 0x215909b0>"
      ]
     },
     "execution_count": 54,
     "metadata": {},
     "output_type": "execute_result"
    },
    {
     "data": {
      "image/png": "[encoded data removed]",
      "text/plain": [
       "<matplotlib.figure.Figure at 0x1de5a240>"
      ]
     },
     "metadata": {},
     "output_type": "display_data"
    }
   ],
   "source": [
    "close_px.plot(label='TW2330')\n",
    "mavg.plot(label='mavg')\n",
    "plt.legend()"
   ]
  },
  {
   "cell_type": "markdown",
   "metadata": {},
   "source": [
    "## 計算股票關聯性"
   ]
  },
  {
   "cell_type": "code",
   "execution_count": 55,
   "metadata": {
    "collapsed": false
   },
   "outputs": [
    {
     "data": {
      "text/html": [
       "<div>\n",
       "<table border=\"1\" class=\"dataframe\">\n",
       "  <thead>\n",
       "    <tr style=\"text-align: right;\">\n",
       "      <th></th>\n",
       "      <th>1101.TW</th>\n",
       "      <th>1102.TW</th>\n",
       "      <th>2330.TW</th>\n",
       "      <th>2454.TW</th>\n",
       "      <th>2498.TW</th>\n",
       "      <th>3003.TW</th>\n",
       "    </tr>\n",
       "    <tr>\n",
       "      <th>Date</th>\n",
       "      <th></th>\n",
       "      <th></th>\n",
       "      <th></th>\n",
       "      <th></th>\n",
       "      <th></th>\n",
       "      <th></th>\n",
       "    </tr>\n",
       "  </thead>\n",
       "  <tbody>\n",
       "    <tr>\n",
       "      <th>2010-01-01</th>\n",
       "      <td>23.52444</td>\n",
       "      <td>22.51600</td>\n",
       "      <td>50.8372</td>\n",
       "      <td>429.0592</td>\n",
       "      <td>NaN</td>\n",
       "      <td>21.83550</td>\n",
       "    </tr>\n",
       "    <tr>\n",
       "      <th>2010-01-04</th>\n",
       "      <td>23.73198</td>\n",
       "      <td>22.48347</td>\n",
       "      <td>51.1525</td>\n",
       "      <td>435.9795</td>\n",
       "      <td>282.5463</td>\n",
       "      <td>21.94709</td>\n",
       "    </tr>\n",
       "    <tr>\n",
       "      <th>2010-01-05</th>\n",
       "      <td>24.56220</td>\n",
       "      <td>22.97155</td>\n",
       "      <td>50.8372</td>\n",
       "      <td>436.7484</td>\n",
       "      <td>287.5715</td>\n",
       "      <td>21.35191</td>\n",
       "    </tr>\n",
       "    <tr>\n",
       "      <th>2010-01-06</th>\n",
       "      <td>25.08112</td>\n",
       "      <td>23.13420</td>\n",
       "      <td>51.1525</td>\n",
       "      <td>442.1309</td>\n",
       "      <td>288.7305</td>\n",
       "      <td>21.94709</td>\n",
       "    </tr>\n",
       "    <tr>\n",
       "      <th>2010-01-07</th>\n",
       "      <td>24.59682</td>\n",
       "      <td>22.87396</td>\n",
       "      <td>50.6007</td>\n",
       "      <td>431.3660</td>\n",
       "      <td>276.7483</td>\n",
       "      <td>21.31477</td>\n",
       "    </tr>\n",
       "  </tbody>\n",
       "</table>\n",
       "</div>"
      ],
      "text/plain": [
       "             1101.TW   1102.TW  2330.TW   2454.TW   2498.TW   3003.TW\n",
       "Date                                                                 \n",
       "2010-01-01  23.52444  22.51600  50.8372  429.0592       NaN  21.83550\n",
       "2010-01-04  23.73198  22.48347  51.1525  435.9795  282.5463  21.94709\n",
       "2010-01-05  24.56220  22.97155  50.8372  436.7484  287.5715  21.35191\n",
       "2010-01-06  25.08112  23.13420  51.1525  442.1309  288.7305  21.94709\n",
       "2010-01-07  24.59682  22.87396  50.6007  431.3660  276.7483  21.31477"
      ]
     },
     "execution_count": 55,
     "metadata": {},
     "output_type": "execute_result"
    }
   ],
   "source": [
    "df = pd.io.data.get_data_yahoo(['2330.TW', '2454.TW', '2498.TW', '3003.TW','1101.TW',\\\n",
    "                                '1102.TW'], \n",
    "                               start=datetime.datetime(2010, 1, 1), \n",
    "                               end=datetime.datetime(2013, 1, 1))['Adj Close']\n",
    "df.head()"
   ]
  },
  {
   "cell_type": "code",
   "execution_count": 56,
   "metadata": {
    "collapsed": false
   },
   "outputs": [],
   "source": [
    "rets = df.pct_change()"
   ]
  },
  {
   "cell_type": "code",
   "execution_count": 57,
   "metadata": {
    "collapsed": false
   },
   "outputs": [
    {
     "data": {
      "text/html": [
       "<div>\n",
       "<table border=\"1\" class=\"dataframe\">\n",
       "  <thead>\n",
       "    <tr style=\"text-align: right;\">\n",
       "      <th></th>\n",
       "      <th>1101.TW</th>\n",
       "      <th>1102.TW</th>\n",
       "      <th>2330.TW</th>\n",
       "      <th>2454.TW</th>\n",
       "      <th>2498.TW</th>\n",
       "      <th>3003.TW</th>\n",
       "    </tr>\n",
       "    <tr>\n",
       "      <th>Date</th>\n",
       "      <th></th>\n",
       "      <th></th>\n",
       "      <th></th>\n",
       "      <th></th>\n",
       "      <th></th>\n",
       "      <th></th>\n",
       "    </tr>\n",
       "  </thead>\n",
       "  <tbody>\n",
       "    <tr>\n",
       "      <th>2010-01-01</th>\n",
       "      <td>NaN</td>\n",
       "      <td>NaN</td>\n",
       "      <td>NaN</td>\n",
       "      <td>NaN</td>\n",
       "      <td>NaN</td>\n",
       "      <td>NaN</td>\n",
       "    </tr>\n",
       "    <tr>\n",
       "      <th>2010-01-04</th>\n",
       "      <td>0.008822</td>\n",
       "      <td>-0.001445</td>\n",
       "      <td>0.006202</td>\n",
       "      <td>0.016129</td>\n",
       "      <td>NaN</td>\n",
       "      <td>0.005110</td>\n",
       "    </tr>\n",
       "    <tr>\n",
       "      <th>2010-01-05</th>\n",
       "      <td>0.034983</td>\n",
       "      <td>0.021708</td>\n",
       "      <td>-0.006164</td>\n",
       "      <td>0.001764</td>\n",
       "      <td>0.017785</td>\n",
       "      <td>-0.027119</td>\n",
       "    </tr>\n",
       "    <tr>\n",
       "      <th>2010-01-06</th>\n",
       "      <td>0.021127</td>\n",
       "      <td>0.007080</td>\n",
       "      <td>0.006202</td>\n",
       "      <td>0.012324</td>\n",
       "      <td>0.004030</td>\n",
       "      <td>0.027875</td>\n",
       "    </tr>\n",
       "    <tr>\n",
       "      <th>2010-01-07</th>\n",
       "      <td>-0.019309</td>\n",
       "      <td>-0.011249</td>\n",
       "      <td>-0.010787</td>\n",
       "      <td>-0.024348</td>\n",
       "      <td>-0.041500</td>\n",
       "      <td>-0.028811</td>\n",
       "    </tr>\n",
       "  </tbody>\n",
       "</table>\n",
       "</div>"
      ],
      "text/plain": [
       "             1101.TW   1102.TW   2330.TW   2454.TW   2498.TW   3003.TW\n",
       "Date                                                                  \n",
       "2010-01-01       NaN       NaN       NaN       NaN       NaN       NaN\n",
       "2010-01-04  0.008822 -0.001445  0.006202  0.016129       NaN  0.005110\n",
       "2010-01-05  0.034983  0.021708 -0.006164  0.001764  0.017785 -0.027119\n",
       "2010-01-06  0.021127  0.007080  0.006202  0.012324  0.004030  0.027875\n",
       "2010-01-07 -0.019309 -0.011249 -0.010787 -0.024348 -0.041500 -0.028811"
      ]
     },
     "execution_count": 57,
     "metadata": {},
     "output_type": "execute_result"
    }
   ],
   "source": [
    "rets.head()"
   ]
  },
  {
   "cell_type": "code",
   "execution_count": 58,
   "metadata": {
    "collapsed": false
   },
   "outputs": [
    {
     "data": {
      "text/plain": [
       "<matplotlib.text.Text at 0xf3d8c50>"
      ]
     },
     "execution_count": 58,
     "metadata": {},
     "output_type": "execute_result"
    },
    {
     "data": {
      "image/png": "[encoded data removed]",
      "text/plain": [
       "<matplotlib.figure.Figure at 0x218b0e48>"
      ]
     },
     "metadata": {},
     "output_type": "display_data"
    }
   ],
   "source": [
    "plt.scatter(rets['1101.TW'], rets['1102.TW'])\n",
    "plt.xlabel('Returns 1101')\n",
    "plt.ylabel('Returns 1102')"
   ]
  },
  {
   "cell_type": "code",
   "execution_count": 44,
   "metadata": {
    "collapsed": false
   },
   "outputs": [
    {
     "data": {
      "text/html": [
       "<div>\n",
       "<table border=\"1\" class=\"dataframe\">\n",
       "  <thead>\n",
       "    <tr style=\"text-align: right;\">\n",
       "      <th></th>\n",
       "      <th>1101.TW</th>\n",
       "      <th>1102.TW</th>\n",
       "      <th>2330.TW</th>\n",
       "      <th>2454.TW</th>\n",
       "      <th>2498.TW</th>\n",
       "      <th>3003.TW</th>\n",
       "    </tr>\n",
       "  </thead>\n",
       "  <tbody>\n",
       "    <tr>\n",
       "      <th>1101.TW</th>\n",
       "      <td>1.000000</td>\n",
       "      <td>0.762678</td>\n",
       "      <td>0.374135</td>\n",
       "      <td>0.270248</td>\n",
       "      <td>0.277767</td>\n",
       "      <td>0.304631</td>\n",
       "    </tr>\n",
       "    <tr>\n",
       "      <th>1102.TW</th>\n",
       "      <td>0.762678</td>\n",
       "      <td>1.000000</td>\n",
       "      <td>0.433379</td>\n",
       "      <td>0.291028</td>\n",
       "      <td>0.298980</td>\n",
       "      <td>0.333606</td>\n",
       "    </tr>\n",
       "    <tr>\n",
       "      <th>2330.TW</th>\n",
       "      <td>0.374135</td>\n",
       "      <td>0.433379</td>\n",
       "      <td>1.000000</td>\n",
       "      <td>0.348264</td>\n",
       "      <td>0.291772</td>\n",
       "      <td>0.263730</td>\n",
       "    </tr>\n",
       "    <tr>\n",
       "      <th>2454.TW</th>\n",
       "      <td>0.270248</td>\n",
       "      <td>0.291028</td>\n",
       "      <td>0.348264</td>\n",
       "      <td>1.000000</td>\n",
       "      <td>0.319448</td>\n",
       "      <td>0.289530</td>\n",
       "    </tr>\n",
       "    <tr>\n",
       "      <th>2498.TW</th>\n",
       "      <td>0.277767</td>\n",
       "      <td>0.298980</td>\n",
       "      <td>0.291772</td>\n",
       "      <td>0.319448</td>\n",
       "      <td>1.000000</td>\n",
       "      <td>0.281049</td>\n",
       "    </tr>\n",
       "    <tr>\n",
       "      <th>3003.TW</th>\n",
       "      <td>0.304631</td>\n",
       "      <td>0.333606</td>\n",
       "      <td>0.263730</td>\n",
       "      <td>0.289530</td>\n",
       "      <td>0.281049</td>\n",
       "      <td>1.000000</td>\n",
       "    </tr>\n",
       "  </tbody>\n",
       "</table>\n",
       "</div>"
      ],
      "text/plain": [
       "          1101.TW   1102.TW   2330.TW   2454.TW   2498.TW   3003.TW\n",
       "1101.TW  1.000000  0.762678  0.374135  0.270248  0.277767  0.304631\n",
       "1102.TW  0.762678  1.000000  0.433379  0.291028  0.298980  0.333606\n",
       "2330.TW  0.374135  0.433379  1.000000  0.348264  0.291772  0.263730\n",
       "2454.TW  0.270248  0.291028  0.348264  1.000000  0.319448  0.289530\n",
       "2498.TW  0.277767  0.298980  0.291772  0.319448  1.000000  0.281049\n",
       "3003.TW  0.304631  0.333606  0.263730  0.289530  0.281049  1.000000"
      ]
     },
     "execution_count": 44,
     "metadata": {},
     "output_type": "execute_result"
    }
   ],
   "source": [
    "corr = rets.corr()\n",
    "corr"
   ]
  },
  {
   "cell_type": "code",
   "execution_count": 45,
   "metadata": {
    "collapsed": false
   },
   "outputs": [
    {
     "data": {
      "image/png": "[encoded data removed]",
      "text/plain": [
       "<matplotlib.figure.Figure at 0x21523358>"
      ]
     },
     "metadata": {},
     "output_type": "display_data"
    }
   ],
   "source": [
    "plt.imshow(corr, cmap='hot', interpolation='none')\n",
    "plt.colorbar()\n",
    "plt.xticks(range(len(corr)), corr.columns)\n",
    "plt.yticks(range(len(corr)), corr.columns);"
   ]
  },
  {
   "cell_type": "code",
   "execution_count": 46,
   "metadata": {
    "collapsed": false
   },
   "outputs": [
    {
     "data": {
      "image/png": "[encoded data removed]",
      "text/plain": [
       "<matplotlib.figure.Figure at 0x218b96d8>"
      ]
     },
     "metadata": {},
     "output_type": "display_data"
    }
   ],
   "source": [
    "plt.scatter(rets.mean(), rets.std())\n",
    "plt.xlabel('Expected returns')\n",
    "plt.ylabel('Risk')\n",
    "for label, x, y in zip(rets.columns, rets.mean(), rets.std()):\n",
    "    plt.annotate(\n",
    "        label, \n",
    "        xy = (x, y), xytext = (20, -20),\n",
    "        textcoords = 'offset points', ha = 'right', va = 'bottom',\n",
    "        bbox = dict(boxstyle = 'round,pad=0.5', fc = 'yellow', alpha = 0.5),\n",
    "        arrowprops = dict(arrowstyle = '->', connectionstyle = 'arc3,rad=0'))"
   ]
  }
 ],
 "metadata": {
  "kernelspec": {
   "display_name": "Python 2",
   "language": "python",
   "name": "python2"
  },
  "language_info": {
   "codemirror_mode": {
    "name": "ipython",
    "version": 2
   },
   "file_extension": ".py",
   "mimetype": "text/x-python",
   "name": "python",
   "nbconvert_exporter": "python",
   "pygments_lexer": "ipython2",
   "version": "2.7.12"
  }
 },
 "nbformat": 4,
 "nbformat_minor": 0
}
